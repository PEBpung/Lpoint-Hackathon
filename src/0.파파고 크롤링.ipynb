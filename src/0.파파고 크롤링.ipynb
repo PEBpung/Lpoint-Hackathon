{
 "cells": [
  {
   "cell_type": "markdown",
   "metadata": {},
   "source": [
    "# 파파고 크롤링"
   ]
  },
  {
   "cell_type": "markdown",
   "metadata": {},
   "source": [
    "키워드는 한글로 되어 있는 반면 상품 정보는 영어로 되어있기 때문에 상관관계를 파악하기 어렵습니다.  \n",
    "그래서 파파고 크롤링을 통해서 소분류 상품 정보만 영->한으로 바꾸는 작업을 하겠습니다.  \n",
    "한번에 하면 시간이 많이 걸리기 때문에 여러차례 나눠서 실행했습니다."
   ]
  },
  {
   "cell_type": "code",
   "execution_count": 16,
   "metadata": {},
   "outputs": [
    {
     "name": "stdout",
     "output_type": "stream",
     "text": [
      "['new_1300-1667.csv', 'new_600-800.csv', 'new_0-50.csv', 'new_1000-1300.csv', 'new_800-1000.csv', '.ipynb_checkpoints', 'new_50-200.csv', 'new_200-400.csv', 'new_400-600.csv']\n"
     ]
    }
   ],
   "source": [
    "import pandas as pd\n",
    "from selenium import webdriver\n",
    "import time\n",
    "import tqdm\n",
    "import os \n",
    "\n",
    "print(os.listdir(\"csv/\"))"
   ]
  },
  {
   "cell_type": "code",
   "execution_count": 11,
   "metadata": {},
   "outputs": [
    {
     "name": "stderr",
     "output_type": "stream",
     "text": [
      "/home/aiffel0042/anaconda3/envs/aiffel/lib/python3.7/site-packages/ipykernel_launcher.py:18: DeprecationWarning: use options instead of chrome_options\n"
     ]
    },
    {
     "data": {
      "application/vnd.jupyter.widget-view+json": {
       "model_id": "18bbb98ab19d4b68a62ade5ee48d6786",
       "version_major": 2,
       "version_minor": 0
      },
      "text/plain": [
       "HBox(children=(HTML(value=''), FloatProgress(value=0.0, max=367.0), HTML(value='')))"
      ]
     },
     "metadata": {},
     "output_type": "display_data"
    },
    {
     "name": "stdout",
     "output_type": "stream",
     "text": [
      "\n"
     ]
    }
   ],
   "source": [
    "##### Upload Data\n",
    "product = pd.read_csv('data/03.Product classification.csv', encoding = 'utf-8')\n",
    "\n",
    "chrome_options = webdriver.ChromeOptions()\n",
    "chrome_options.add_argument('--headless') #내부 창을 띄울 수 없으므로 설정\n",
    "chrome_options.add_argument('--no-sandbox')\n",
    "chrome_options.add_argument('--disable-dev-shm-usage')\n",
    "\n",
    "real_cate = product.clac_nm3[1300:1667]\n",
    "real_cate = real_cate.fillna(0)\n",
    "\n",
    "##### Crawling(Naver PaPago)\n",
    "browser=webdriver.Chrome('/home/aiffel0042/Downloads/chromedriver', chrome_options=chrome_options )\n",
    "\n",
    "url = 'https://papago.naver.com/?sk=en&tk=ko&hn=0'\n",
    "\n",
    "browser.get(url)\n",
    "\n",
    "new_keyword = []\n",
    "for i in tqdm.notebook.tqdm(real_cate):\n",
    "    search = browser.find_element_by_css_selector('textarea') # Input box selection\n",
    "    search.send_keys(i)\n",
    "    time.sleep(3)\n",
    "    find = browser.find_element_by_css_selector('div#txtTarget') # Get text in outputbox\n",
    "    new_keyword.append(find.text)\n",
    "    time.sleep(3)\n",
    "    browser.find_element_by_css_selector('#sourceEditArea > button').click() # Clear input box\n",
    "    time.sleep(2)\n",
    "\n",
    "pd.DataFrame(new_keyword).to_csv('csv/new_1300-1667.csv',encoding = 'utf-8', index = False, header=False)"
   ]
  },
  {
   "cell_type": "code",
   "execution_count": 17,
   "metadata": {},
   "outputs": [],
   "source": [
    "path=os.getenv(\"HOME\") + ('/repo/Hackathon/Lpoint Competition/csv/')\n",
    "filename = ['new_0-50.csv', \n",
    "            'new_50-200.csv',\n",
    "            'new_200-400.csv', \n",
    "            'new_400-600.csv',\n",
    "            'new_600-800.csv', \n",
    "            'new_800-1000.csv',\n",
    "            'new_1000-1300.csv',\n",
    "            'new_1300-1667.csv', ]"
   ]
  },
  {
   "cell_type": "code",
   "execution_count": 32,
   "metadata": {},
   "outputs": [],
   "source": [
    "csv0 = pd.read_csv(path + filename[0], header=None)\n",
    "csv1 = pd.read_csv(path + filename[1], header=None)\n",
    "csv2 = pd.read_csv(path + filename[2], header=None)\n",
    "csv3 = pd.read_csv(path + filename[3], header=None)\n",
    "csv4 = pd.read_csv(path + filename[4], header=None)\n",
    "csv5 = pd.read_csv(path + filename[5], header=None)\n",
    "csv6 = pd.read_csv(path + filename[6], header=None)\n",
    "csv7 = pd.read_csv(path + filename[7], header=None)"
   ]
  },
  {
   "cell_type": "code",
   "execution_count": 38,
   "metadata": {},
   "outputs": [],
   "source": [
    "new_keyword = pd.concat([csv0, csv1, csv2, csv3, csv4, csv5, csv6, csv7], axis=0).reset_index(drop=True)\n",
    "pd.DataFrame(new_keyword).to_csv('csv/papago.csv',encoding = 'utf-8', index = False, header=False)"
   ]
  },
  {
   "cell_type": "code",
   "execution_count": null,
   "metadata": {},
   "outputs": [],
   "source": []
  }
 ],
 "metadata": {
  "kernelspec": {
   "display_name": "aiffel",
   "language": "python",
   "name": "aiffel"
  },
  "language_info": {
   "codemirror_mode": {
    "name": "ipython",
    "version": 3
   },
   "file_extension": ".py",
   "mimetype": "text/x-python",
   "name": "python",
   "nbconvert_exporter": "python",
   "pygments_lexer": "ipython3",
   "version": "3.7.7"
  }
 },
 "nbformat": 4,
 "nbformat_minor": 4
}
