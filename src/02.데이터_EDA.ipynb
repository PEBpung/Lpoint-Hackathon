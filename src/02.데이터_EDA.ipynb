{
 "cells": [
  {
   "cell_type": "markdown",
   "metadata": {},
   "source": [
    "# DATA EDA 분석 1. (2020.11.25(수))"
   ]
  },
  {
   "cell_type": "markdown",
   "metadata": {},
   "source": [
    "* 라이브러리 불러오기"
   ]
  },
  {
   "cell_type": "code",
   "execution_count": 103,
   "metadata": {},
   "outputs": [],
   "source": [
    "import pandas as pd\n",
    "import numpy as np\n",
    "import matplotlib.pyplot as plt\n",
    "import seaborn as sns\n",
    "\n",
    "from sklearn.preprocessing import StandardScaler, PolynomialFeatures, LabelEncoder\n",
    "from keras.layers import Input, Embedding, Dense, Flatten, Dropout, SpatialDropout1D, Activation, concatenate\n",
    "from keras.layers.normalization import BatchNormalization\n",
    "from keras.layers.advanced_activations import ReLU, PReLU, LeakyReLU, ELU\n",
    "from keras.optimizers import Adam, SGD\n",
    "from keras.callbacks import EarlyStopping, ModelCheckpoint\n",
    "from keras.models import Model\n",
    "from tensorflow.keras.utils import plot_model\n",
    "\n",
    "from tqdm import tqdm\n",
    "\n",
    "import warnings\n",
    "warnings.filterwarnings(action='ignore')\n",
    "\n",
    "import matplotlib.font_manager as fm\n",
    "path = 'data/font/NanumGothic-ExtraBold.ttf'\n",
    "font_name = fm.FontProperties(fname=path, size=50).get_name()\n",
    "plt.rc('font', family=font_name)"
   ]
  },
  {
   "cell_type": "markdown",
   "metadata": {},
   "source": [
    " * 데이터 불러오기"
   ]
  },
  {
   "cell_type": "code",
   "execution_count": 104,
   "metadata": {},
   "outputs": [],
   "source": [
    "cks_dtype = {'clnt_id':'int64','sess_id':'int64','hit_seq':'int64','action_type':'int64','biz_unit':'category','sess_dt':'object','hit_tm':'object',\n",
    "             'hit_pss_tm':'int64','trans_id':'float64','sech_kwd':'object','tot_pag_view_ct':'float64','tot_sess_hr_v':'float64','trfc_src':'category',\n",
    "             'dvc_ctg_nm':'object','pd_c':'object','de_dt':'object','de_tm':'object','buy_am':'int64','buy_ct':'int64','clnt_gender':'category'}\n",
    "\n",
    "raw_data1_Online_Act = pd.read_csv('./data/online_01.csv', dtype=cks_dtype)\n",
    "raw_data2_Trade_Inform = pd.read_csv('./data/trade_01.csv', dtype=cks_dtype)\n",
    "raw_data3_Demog = pd.read_csv('./data/customer_01.csv', dtype=cks_dtype)\n",
    "raw_data4_Item_Class = pd.read_csv('./data/item_01.csv', dtype=cks_dtype)"
   ]
  },
  {
   "cell_type": "markdown",
   "metadata": {},
   "source": [
    "## 1. 온라인 행동 데이터 확인"
   ]
  },
  {
   "cell_type": "code",
   "execution_count": 105,
   "metadata": {},
   "outputs": [
    {
     "data": {
      "text/html": [
       "<div>\n",
       "<style scoped>\n",
       "    .dataframe tbody tr th:only-of-type {\n",
       "        vertical-align: middle;\n",
       "    }\n",
       "\n",
       "    .dataframe tbody tr th {\n",
       "        vertical-align: top;\n",
       "    }\n",
       "\n",
       "    .dataframe thead th {\n",
       "        text-align: right;\n",
       "    }\n",
       "</style>\n",
       "<table border=\"1\" class=\"dataframe\">\n",
       "  <thead>\n",
       "    <tr style=\"text-align: right;\">\n",
       "      <th></th>\n",
       "      <th>clnt_id</th>\n",
       "      <th>sess_id</th>\n",
       "      <th>hit_seq</th>\n",
       "      <th>action_type</th>\n",
       "      <th>biz_unit</th>\n",
       "      <th>sess_dt</th>\n",
       "      <th>hit_tm</th>\n",
       "      <th>hit_pss_tm</th>\n",
       "      <th>trans_id</th>\n",
       "      <th>sech_kwd</th>\n",
       "      <th>tot_pag_view_ct</th>\n",
       "      <th>tot_sess_hr_v</th>\n",
       "      <th>trfc_src</th>\n",
       "      <th>dvc_ctg_nm</th>\n",
       "    </tr>\n",
       "  </thead>\n",
       "  <tbody>\n",
       "    <tr>\n",
       "      <th>0</th>\n",
       "      <td>1</td>\n",
       "      <td>1</td>\n",
       "      <td>1</td>\n",
       "      <td>0</td>\n",
       "      <td>A01</td>\n",
       "      <td>20190911</td>\n",
       "      <td>16:14</td>\n",
       "      <td>11880</td>\n",
       "      <td>NaN</td>\n",
       "      <td>과일선물세트</td>\n",
       "      <td>14.0</td>\n",
       "      <td>124.0</td>\n",
       "      <td>unknown</td>\n",
       "      <td>mobile_app</td>\n",
       "    </tr>\n",
       "    <tr>\n",
       "      <th>1</th>\n",
       "      <td>1</td>\n",
       "      <td>1</td>\n",
       "      <td>2</td>\n",
       "      <td>0</td>\n",
       "      <td>A01</td>\n",
       "      <td>20190911</td>\n",
       "      <td>16:15</td>\n",
       "      <td>22432</td>\n",
       "      <td>NaN</td>\n",
       "      <td>과일선물세트 백화점</td>\n",
       "      <td>14.0</td>\n",
       "      <td>124.0</td>\n",
       "      <td>unknown</td>\n",
       "      <td>mobile_app</td>\n",
       "    </tr>\n",
       "    <tr>\n",
       "      <th>2</th>\n",
       "      <td>1</td>\n",
       "      <td>1</td>\n",
       "      <td>3</td>\n",
       "      <td>0</td>\n",
       "      <td>A01</td>\n",
       "      <td>20190911</td>\n",
       "      <td>16:15</td>\n",
       "      <td>36140</td>\n",
       "      <td>NaN</td>\n",
       "      <td>과일바구니</td>\n",
       "      <td>14.0</td>\n",
       "      <td>124.0</td>\n",
       "      <td>unknown</td>\n",
       "      <td>mobile_app</td>\n",
       "    </tr>\n",
       "    <tr>\n",
       "      <th>3</th>\n",
       "      <td>1</td>\n",
       "      <td>2</td>\n",
       "      <td>1</td>\n",
       "      <td>0</td>\n",
       "      <td>A01</td>\n",
       "      <td>20190922</td>\n",
       "      <td>14:09</td>\n",
       "      <td>41584</td>\n",
       "      <td>NaN</td>\n",
       "      <td>초등가을잠바</td>\n",
       "      <td>45.0</td>\n",
       "      <td>424.0</td>\n",
       "      <td>unknown</td>\n",
       "      <td>mobile_app</td>\n",
       "    </tr>\n",
       "    <tr>\n",
       "      <th>4</th>\n",
       "      <td>1</td>\n",
       "      <td>2</td>\n",
       "      <td>2</td>\n",
       "      <td>0</td>\n",
       "      <td>A01</td>\n",
       "      <td>20190922</td>\n",
       "      <td>14:10</td>\n",
       "      <td>56113</td>\n",
       "      <td>NaN</td>\n",
       "      <td>초등가을점퍼</td>\n",
       "      <td>45.0</td>\n",
       "      <td>424.0</td>\n",
       "      <td>unknown</td>\n",
       "      <td>mobile_app</td>\n",
       "    </tr>\n",
       "  </tbody>\n",
       "</table>\n",
       "</div>"
      ],
      "text/plain": [
       "   clnt_id  sess_id  hit_seq  action_type biz_unit   sess_dt hit_tm  \\\n",
       "0        1        1        1            0      A01  20190911  16:14   \n",
       "1        1        1        2            0      A01  20190911  16:15   \n",
       "2        1        1        3            0      A01  20190911  16:15   \n",
       "3        1        2        1            0      A01  20190922  14:09   \n",
       "4        1        2        2            0      A01  20190922  14:10   \n",
       "\n",
       "   hit_pss_tm  trans_id    sech_kwd  tot_pag_view_ct  tot_sess_hr_v trfc_src  \\\n",
       "0       11880       NaN      과일선물세트             14.0          124.0  unknown   \n",
       "1       22432       NaN  과일선물세트 백화점             14.0          124.0  unknown   \n",
       "2       36140       NaN       과일바구니             14.0          124.0  unknown   \n",
       "3       41584       NaN      초등가을잠바             45.0          424.0  unknown   \n",
       "4       56113       NaN      초등가을점퍼             45.0          424.0  unknown   \n",
       "\n",
       "   dvc_ctg_nm  \n",
       "0  mobile_app  \n",
       "1  mobile_app  \n",
       "2  mobile_app  \n",
       "3  mobile_app  \n",
       "4  mobile_app  "
      ]
     },
     "execution_count": 105,
     "metadata": {},
     "output_type": "execute_result"
    }
   ],
   "source": [
    "raw_data1_Online_Act.head()"
   ]
  },
  {
   "cell_type": "markdown",
   "metadata": {},
   "source": [
    "* 1-1. clnt_id : 고객 고유 식별 ID\n",
    "* 1-2. sess_id : 세션이 시작될 때 부여되는 순번ID\n",
    "* 1-3. hit_seq : 조회 순서를 알 수 있도록 한 일련번호\n",
    "* 1-4. action_type : 온라인 행동 유형\n",
    " (0:검색 / 1:제품 목록 / 2:제품 세부정보 보기 / 3: 장바구니 제품 추가 / 4:장바구니 제품 삭제 / 5:결제 시도 / 6:구매완료 / 7:구매환불 / 8:결재 옵션)\n",
    "* 1-5. biz_unit(업종단위) : 온라인 및 오프라인 이용코드\n",
    "* 1-6. sess_dt : 세션 일자(년월일)\n",
    "* 1-7. hit_tm : 조회 시각(HH:MM)\n",
    "* 1-8. hit_pss_tm : 조회 경과시간(세션의 시작 부터 조회까지 걸리시간(밀리초) / 첫번째 조회는 0으로 설정)\n",
    "* 1-9. Trans_ID : 거래 ID(구매내역을 고유 식별할 수 있는 ID)\n",
    "* 1-10. sech_kwd : 고객이 검색한 키워드\n",
    "* 1-11. tot_pag_view_ct : 총 페이지 조회 건수(세션 내에 총 페이지(화면) 뷰 수)\n",
    "* 1-12. tot_sess_hr_v : 총 세션 시간 값\n",
    "* 1-13. trfc_src : 유입 채널\n",
    " (DIRECT / PUSH / WEBSITE / PORTAL_1 / PORTAL_2 / PORTAL_3 / unknown)\n",
    "* 1-14. dvc_ctg_nm : 기기 유형 (mobile_web / mobile_app / PC)"
   ]
  },
  {
   "cell_type": "code",
   "execution_count": 106,
   "metadata": {},
   "outputs": [
    {
     "data": {
      "text/plain": [
       "(3196362, 14)"
      ]
     },
     "execution_count": 106,
     "metadata": {},
     "output_type": "execute_result"
    }
   ],
   "source": [
    "raw_data1_Online_Act.shape"
   ]
  },
  {
   "cell_type": "markdown",
   "metadata": {},
   "source": [
    " * 행 수(데이터 갯수) : 319만 개\n",
    " * 열 수(데이터 종류) : 14개"
   ]
  },
  {
   "cell_type": "markdown",
   "metadata": {},
   "source": [
    "### 1-1. clnt_Id : 고객 고유 식별 ID\n",
    "\n",
    " * 2-1, 3-1 clnt_id와 동일한 의미입니다."
   ]
  },
  {
   "cell_type": "markdown",
   "metadata": {},
   "source": [
    " * 고객 ID는 몇 개나 있는가?? => 7만명의 고객 ID 보유\n",
    "     * 1. 온라인 행동 데이터 내 고객ID 갯수 : 72399개\n",
    "     * 2. 거래 정보 데이터 내 고객ID 갯수 :11284개\n",
    "     * 3. 사용자 demog 정보 내 고객ID 갯수 : 72399개"
   ]
  },
  {
   "cell_type": "code",
   "execution_count": 107,
   "metadata": {},
   "outputs": [
    {
     "data": {
      "text/plain": [
       "72399"
      ]
     },
     "execution_count": 107,
     "metadata": {},
     "output_type": "execute_result"
    }
   ],
   "source": [
    "raw_data1_Online_Act['clnt_id'].nunique()"
   ]
  },
  {
   "cell_type": "markdown",
   "metadata": {},
   "source": [
    " * 고객ID 별로 온라인 행동 데이터는 몇 건이 있는지? => 최대 6600건, 최소 1건"
   ]
  },
  {
   "cell_type": "code",
   "execution_count": 108,
   "metadata": {},
   "outputs": [
    {
     "data": {
      "text/plain": [
       "61252    6663\n",
       "57915    5317\n",
       "48181    4867\n",
       "62445    4709\n",
       "49906    4131\n",
       "         ... \n",
       "22838       1\n",
       "24306       1\n",
       "26928       1\n",
       "64305       1\n",
       "49714       1\n",
       "Name: clnt_id, Length: 72399, dtype: int64"
      ]
     },
     "execution_count": 108,
     "metadata": {},
     "output_type": "execute_result"
    }
   ],
   "source": [
    "raw_data1_Online_Act['clnt_id'].value_counts()"
   ]
  },
  {
   "cell_type": "markdown",
   "metadata": {},
   "source": [
    " * 결측치 갯수 확인 => 없음"
   ]
  },
  {
   "cell_type": "code",
   "execution_count": 109,
   "metadata": {},
   "outputs": [
    {
     "data": {
      "text/plain": [
       "0"
      ]
     },
     "execution_count": 109,
     "metadata": {},
     "output_type": "execute_result"
    }
   ],
   "source": [
    "raw_data1_Online_Act['clnt_id'].isna().sum()"
   ]
  },
  {
   "cell_type": "markdown",
   "metadata": {},
   "source": [
    "### 1-2. sess_id : 세션이 시작될 때 부여되는 순번ID"
   ]
  },
  {
   "cell_type": "markdown",
   "metadata": {},
   "source": [
    " * 세션 ID는 몇 개나 있는가?? => 550개\n",
    " \n",
    "     * 고객ID 7만명에 대한 온라인 행동이 있는데, 세션은 550개 밖에 안된다??\n",
    "         * 세션ID에 결측치 많을 것을 예상 => 결측치 없음(아래 참조)\n",
    "         * 같은 세션ID에 서로다른 고객ID 존재 예상"
   ]
  },
  {
   "cell_type": "code",
   "execution_count": 110,
   "metadata": {},
   "outputs": [
    {
     "data": {
      "text/plain": [
       "550"
      ]
     },
     "execution_count": 110,
     "metadata": {},
     "output_type": "execute_result"
    }
   ],
   "source": [
    "raw_data1_Online_Act['sess_id'].nunique()"
   ]
  },
  {
   "cell_type": "markdown",
   "metadata": {},
   "source": [
    " * 세션ID 별로 온라인 행동 데이터는 몇 건이 있는지? => 최대 51만 건, 최소 1건"
   ]
  },
  {
   "cell_type": "code",
   "execution_count": 111,
   "metadata": {},
   "outputs": [
    {
     "data": {
      "text/plain": [
       "1      517024\n",
       "2      279811\n",
       "3      203178\n",
       "4      155479\n",
       "5      130391\n",
       "        ...  \n",
       "527         1\n",
       "516         1\n",
       "524         1\n",
       "518         1\n",
       "514         1\n",
       "Name: sess_id, Length: 550, dtype: int64"
      ]
     },
     "execution_count": 111,
     "metadata": {},
     "output_type": "execute_result"
    }
   ],
   "source": [
    "raw_data1_Online_Act['sess_id'].value_counts()"
   ]
  },
  {
   "cell_type": "markdown",
   "metadata": {},
   "source": [
    " * 결측치 갯수 확인 => 없음"
   ]
  },
  {
   "cell_type": "code",
   "execution_count": 112,
   "metadata": {},
   "outputs": [
    {
     "data": {
      "text/plain": [
       "0"
      ]
     },
     "execution_count": 112,
     "metadata": {},
     "output_type": "execute_result"
    }
   ],
   "source": [
    "raw_data1_Online_Act['sess_id'].isna().sum()"
   ]
  },
  {
   "cell_type": "markdown",
   "metadata": {},
   "source": [
    " * 같은 세선ID(=1) 내에 서로 다른 고객 ID 있는지 확인\n",
    "     * 세션ID == 1 에서만 약 7만개의 고객 ID가 있음\n",
    "     * 서로 다른 고객에게 유일하게 세션ID 부여되지 않는다는 사실을 알게됨"
   ]
  },
  {
   "cell_type": "code",
   "execution_count": 113,
   "metadata": {},
   "outputs": [],
   "source": [
    "sess_is_1 = raw_data1_Online_Act['clnt_id'][raw_data1_Online_Act['sess_id']==1]"
   ]
  },
  {
   "cell_type": "code",
   "execution_count": 114,
   "metadata": {},
   "outputs": [
    {
     "data": {
      "text/plain": [
       "0     1\n",
       "1     1\n",
       "2     1\n",
       "10    2\n",
       "11    2\n",
       "Name: clnt_id, dtype: int64"
      ]
     },
     "execution_count": 114,
     "metadata": {},
     "output_type": "execute_result"
    }
   ],
   "source": [
    "sess_is_1.head()"
   ]
  },
  {
   "cell_type": "code",
   "execution_count": 115,
   "metadata": {},
   "outputs": [
    {
     "data": {
      "text/plain": [
       "72399"
      ]
     },
     "execution_count": 115,
     "metadata": {},
     "output_type": "execute_result"
    }
   ],
   "source": [
    "sess_is_1.nunique()"
   ]
  },
  {
   "cell_type": "markdown",
   "metadata": {},
   "source": [
    "### 1-3. hit_seq : 조회 순서를 알 수 있도록 한 일련번호"
   ]
  },
  {
   "cell_type": "markdown",
   "metadata": {},
   "source": [
    " * 조회 일련번호는 몇 개나 있는가?? => 357개"
   ]
  },
  {
   "cell_type": "code",
   "execution_count": 116,
   "metadata": {},
   "outputs": [
    {
     "data": {
      "text/plain": [
       "357"
      ]
     },
     "execution_count": 116,
     "metadata": {},
     "output_type": "execute_result"
    }
   ],
   "source": [
    "raw_data1_Online_Act['hit_seq'].nunique()"
   ]
  },
  {
   "cell_type": "markdown",
   "metadata": {},
   "source": [
    " * 조회일련번호 별로 온라인 행동데이터는 몇 건이 있는지? => 최대 36만 건 , 최소 1건"
   ]
  },
  {
   "cell_type": "code",
   "execution_count": 117,
   "metadata": {},
   "outputs": [
    {
     "data": {
      "text/plain": [
       "1      367149\n",
       "2      246633\n",
       "3      198580\n",
       "4      167819\n",
       "5      143873\n",
       "        ...  \n",
       "282         1\n",
       "281         1\n",
       "280         1\n",
       "279         1\n",
       "357         1\n",
       "Name: hit_seq, Length: 357, dtype: int64"
      ]
     },
     "execution_count": 117,
     "metadata": {},
     "output_type": "execute_result"
    }
   ],
   "source": [
    "raw_data1_Online_Act['hit_seq'].value_counts()"
   ]
  },
  {
   "cell_type": "markdown",
   "metadata": {},
   "source": [
    " * 결측치 갯수 확인 => 없음"
   ]
  },
  {
   "cell_type": "code",
   "execution_count": 118,
   "metadata": {},
   "outputs": [
    {
     "data": {
      "text/plain": [
       "0"
      ]
     },
     "execution_count": 118,
     "metadata": {},
     "output_type": "execute_result"
    }
   ],
   "source": [
    "raw_data1_Online_Act['hit_seq'].isna().sum()"
   ]
  },
  {
   "cell_type": "markdown",
   "metadata": {},
   "source": [
    "- sess_dt가 변화하는 경우 sess_id가 함께 바뀜\n",
    "- sess_dt가 같은 경우에는 hit_tm이 변화해도 sess_id는 그대로 유지됨\n",
    "- hit_tm이 변화하면 hit_seq가 변화함\n",
    "- hit_pss_tm로 미루어보아 행동 순서에 따라 hit_seq가 생성됨\n",
    "\n",
    "따라서 clnt가 꽤 긴 시간텀을 두고 쇼핑을 시작하는 경우 새로운 sess_id가 부여되며, 특정 sess_id 내에서 hit_seq를 통해 순차적인 행동을 구분할 수 있는 것으로 보입니다."
   ]
  },
  {
   "cell_type": "markdown",
   "metadata": {},
   "source": [
    "#####  clnt_id, sess_id, hit_seq가 Online_Act table의 Primary key column"
   ]
  },
  {
   "cell_type": "code",
   "execution_count": 119,
   "metadata": {},
   "outputs": [
    {
     "data": {
      "text/html": [
       "<div>\n",
       "<style scoped>\n",
       "    .dataframe tbody tr th:only-of-type {\n",
       "        vertical-align: middle;\n",
       "    }\n",
       "\n",
       "    .dataframe tbody tr th {\n",
       "        vertical-align: top;\n",
       "    }\n",
       "\n",
       "    .dataframe thead th {\n",
       "        text-align: right;\n",
       "    }\n",
       "</style>\n",
       "<table border=\"1\" class=\"dataframe\">\n",
       "  <thead>\n",
       "    <tr style=\"text-align: right;\">\n",
       "      <th></th>\n",
       "      <th>clnt_id</th>\n",
       "      <th>sess_id</th>\n",
       "      <th>hit_seq</th>\n",
       "      <th>action_type</th>\n",
       "      <th>sess_dt</th>\n",
       "      <th>hit_tm</th>\n",
       "      <th>hit_pss_tm</th>\n",
       "    </tr>\n",
       "  </thead>\n",
       "  <tbody>\n",
       "    <tr>\n",
       "      <th>1281360</th>\n",
       "      <td>30605</td>\n",
       "      <td>1</td>\n",
       "      <td>1</td>\n",
       "      <td>1</td>\n",
       "      <td>20190712</td>\n",
       "      <td>22:53</td>\n",
       "      <td>186078</td>\n",
       "    </tr>\n",
       "    <tr>\n",
       "      <th>1281361</th>\n",
       "      <td>30605</td>\n",
       "      <td>1</td>\n",
       "      <td>2</td>\n",
       "      <td>2</td>\n",
       "      <td>20190712</td>\n",
       "      <td>22:53</td>\n",
       "      <td>187210</td>\n",
       "    </tr>\n",
       "    <tr>\n",
       "      <th>1281362</th>\n",
       "      <td>30605</td>\n",
       "      <td>2</td>\n",
       "      <td>1</td>\n",
       "      <td>1</td>\n",
       "      <td>20190717</td>\n",
       "      <td>17:25</td>\n",
       "      <td>92373</td>\n",
       "    </tr>\n",
       "    <tr>\n",
       "      <th>1281363</th>\n",
       "      <td>30605</td>\n",
       "      <td>2</td>\n",
       "      <td>2</td>\n",
       "      <td>1</td>\n",
       "      <td>20190717</td>\n",
       "      <td>17:25</td>\n",
       "      <td>92526</td>\n",
       "    </tr>\n",
       "    <tr>\n",
       "      <th>1281364</th>\n",
       "      <td>30605</td>\n",
       "      <td>2</td>\n",
       "      <td>3</td>\n",
       "      <td>2</td>\n",
       "      <td>20190717</td>\n",
       "      <td>17:25</td>\n",
       "      <td>93746</td>\n",
       "    </tr>\n",
       "    <tr>\n",
       "      <th>1281365</th>\n",
       "      <td>30605</td>\n",
       "      <td>2</td>\n",
       "      <td>4</td>\n",
       "      <td>3</td>\n",
       "      <td>20190717</td>\n",
       "      <td>17:25</td>\n",
       "      <td>102794</td>\n",
       "    </tr>\n",
       "    <tr>\n",
       "      <th>1281366</th>\n",
       "      <td>30605</td>\n",
       "      <td>2</td>\n",
       "      <td>5</td>\n",
       "      <td>5</td>\n",
       "      <td>20190717</td>\n",
       "      <td>17:25</td>\n",
       "      <td>105745</td>\n",
       "    </tr>\n",
       "    <tr>\n",
       "      <th>1281367</th>\n",
       "      <td>30605</td>\n",
       "      <td>2</td>\n",
       "      <td>6</td>\n",
       "      <td>4</td>\n",
       "      <td>20190717</td>\n",
       "      <td>17:25</td>\n",
       "      <td>110902</td>\n",
       "    </tr>\n",
       "    <tr>\n",
       "      <th>1281368</th>\n",
       "      <td>30605</td>\n",
       "      <td>2</td>\n",
       "      <td>7</td>\n",
       "      <td>5</td>\n",
       "      <td>20190717</td>\n",
       "      <td>17:25</td>\n",
       "      <td>111604</td>\n",
       "    </tr>\n",
       "    <tr>\n",
       "      <th>1281369</th>\n",
       "      <td>30605</td>\n",
       "      <td>2</td>\n",
       "      <td>8</td>\n",
       "      <td>4</td>\n",
       "      <td>20190717</td>\n",
       "      <td>17:25</td>\n",
       "      <td>114763</td>\n",
       "    </tr>\n",
       "    <tr>\n",
       "      <th>1281370</th>\n",
       "      <td>30605</td>\n",
       "      <td>3</td>\n",
       "      <td>1</td>\n",
       "      <td>3</td>\n",
       "      <td>20190719</td>\n",
       "      <td>21:31</td>\n",
       "      <td>49987</td>\n",
       "    </tr>\n",
       "    <tr>\n",
       "      <th>1281371</th>\n",
       "      <td>30605</td>\n",
       "      <td>3</td>\n",
       "      <td>2</td>\n",
       "      <td>3</td>\n",
       "      <td>20190719</td>\n",
       "      <td>21:31</td>\n",
       "      <td>52109</td>\n",
       "    </tr>\n",
       "    <tr>\n",
       "      <th>1281372</th>\n",
       "      <td>30605</td>\n",
       "      <td>3</td>\n",
       "      <td>3</td>\n",
       "      <td>3</td>\n",
       "      <td>20190719</td>\n",
       "      <td>21:35</td>\n",
       "      <td>290078</td>\n",
       "    </tr>\n",
       "    <tr>\n",
       "      <th>1281373</th>\n",
       "      <td>30605</td>\n",
       "      <td>4</td>\n",
       "      <td>1</td>\n",
       "      <td>1</td>\n",
       "      <td>20190729</td>\n",
       "      <td>20:44</td>\n",
       "      <td>28711</td>\n",
       "    </tr>\n",
       "    <tr>\n",
       "      <th>1281374</th>\n",
       "      <td>30605</td>\n",
       "      <td>4</td>\n",
       "      <td>2</td>\n",
       "      <td>2</td>\n",
       "      <td>20190729</td>\n",
       "      <td>20:44</td>\n",
       "      <td>30573</td>\n",
       "    </tr>\n",
       "    <tr>\n",
       "      <th>1281375</th>\n",
       "      <td>30605</td>\n",
       "      <td>5</td>\n",
       "      <td>1</td>\n",
       "      <td>1</td>\n",
       "      <td>20190806</td>\n",
       "      <td>19:26</td>\n",
       "      <td>606381</td>\n",
       "    </tr>\n",
       "    <tr>\n",
       "      <th>1281376</th>\n",
       "      <td>30605</td>\n",
       "      <td>5</td>\n",
       "      <td>2</td>\n",
       "      <td>2</td>\n",
       "      <td>20190806</td>\n",
       "      <td>19:26</td>\n",
       "      <td>608409</td>\n",
       "    </tr>\n",
       "    <tr>\n",
       "      <th>1281377</th>\n",
       "      <td>30605</td>\n",
       "      <td>5</td>\n",
       "      <td>3</td>\n",
       "      <td>3</td>\n",
       "      <td>20190806</td>\n",
       "      <td>19:26</td>\n",
       "      <td>612105</td>\n",
       "    </tr>\n",
       "    <tr>\n",
       "      <th>1281378</th>\n",
       "      <td>30605</td>\n",
       "      <td>5</td>\n",
       "      <td>4</td>\n",
       "      <td>5</td>\n",
       "      <td>20190806</td>\n",
       "      <td>19:26</td>\n",
       "      <td>617220</td>\n",
       "    </tr>\n",
       "    <tr>\n",
       "      <th>1281379</th>\n",
       "      <td>30605</td>\n",
       "      <td>5</td>\n",
       "      <td>5</td>\n",
       "      <td>5</td>\n",
       "      <td>20190806</td>\n",
       "      <td>19:26</td>\n",
       "      <td>623888</td>\n",
       "    </tr>\n",
       "    <tr>\n",
       "      <th>1281380</th>\n",
       "      <td>30605</td>\n",
       "      <td>5</td>\n",
       "      <td>6</td>\n",
       "      <td>5</td>\n",
       "      <td>20190806</td>\n",
       "      <td>19:27</td>\n",
       "      <td>655200</td>\n",
       "    </tr>\n",
       "    <tr>\n",
       "      <th>1281381</th>\n",
       "      <td>30605</td>\n",
       "      <td>5</td>\n",
       "      <td>7</td>\n",
       "      <td>5</td>\n",
       "      <td>20190806</td>\n",
       "      <td>19:27</td>\n",
       "      <td>678343</td>\n",
       "    </tr>\n",
       "    <tr>\n",
       "      <th>1281382</th>\n",
       "      <td>30605</td>\n",
       "      <td>5</td>\n",
       "      <td>8</td>\n",
       "      <td>5</td>\n",
       "      <td>20190806</td>\n",
       "      <td>19:27</td>\n",
       "      <td>700469</td>\n",
       "    </tr>\n",
       "    <tr>\n",
       "      <th>1281383</th>\n",
       "      <td>30605</td>\n",
       "      <td>5</td>\n",
       "      <td>9</td>\n",
       "      <td>5</td>\n",
       "      <td>20190806</td>\n",
       "      <td>19:27</td>\n",
       "      <td>700474</td>\n",
       "    </tr>\n",
       "    <tr>\n",
       "      <th>1281384</th>\n",
       "      <td>30605</td>\n",
       "      <td>5</td>\n",
       "      <td>10</td>\n",
       "      <td>5</td>\n",
       "      <td>20190806</td>\n",
       "      <td>19:29</td>\n",
       "      <td>811163</td>\n",
       "    </tr>\n",
       "    <tr>\n",
       "      <th>1281385</th>\n",
       "      <td>30605</td>\n",
       "      <td>5</td>\n",
       "      <td>11</td>\n",
       "      <td>5</td>\n",
       "      <td>20190806</td>\n",
       "      <td>19:29</td>\n",
       "      <td>813892</td>\n",
       "    </tr>\n",
       "    <tr>\n",
       "      <th>1281386</th>\n",
       "      <td>30605</td>\n",
       "      <td>5</td>\n",
       "      <td>12</td>\n",
       "      <td>5</td>\n",
       "      <td>20190806</td>\n",
       "      <td>19:30</td>\n",
       "      <td>838407</td>\n",
       "    </tr>\n",
       "    <tr>\n",
       "      <th>1281387</th>\n",
       "      <td>30605</td>\n",
       "      <td>5</td>\n",
       "      <td>13</td>\n",
       "      <td>5</td>\n",
       "      <td>20190806</td>\n",
       "      <td>19:30</td>\n",
       "      <td>838412</td>\n",
       "    </tr>\n",
       "    <tr>\n",
       "      <th>1281388</th>\n",
       "      <td>30605</td>\n",
       "      <td>5</td>\n",
       "      <td>14</td>\n",
       "      <td>5</td>\n",
       "      <td>20190806</td>\n",
       "      <td>19:30</td>\n",
       "      <td>858843</td>\n",
       "    </tr>\n",
       "    <tr>\n",
       "      <th>1281389</th>\n",
       "      <td>30605</td>\n",
       "      <td>5</td>\n",
       "      <td>15</td>\n",
       "      <td>5</td>\n",
       "      <td>20190806</td>\n",
       "      <td>19:31</td>\n",
       "      <td>906644</td>\n",
       "    </tr>\n",
       "  </tbody>\n",
       "</table>\n",
       "</div>"
      ],
      "text/plain": [
       "         clnt_id  sess_id  hit_seq  action_type   sess_dt hit_tm  hit_pss_tm\n",
       "1281360    30605        1        1            1  20190712  22:53      186078\n",
       "1281361    30605        1        2            2  20190712  22:53      187210\n",
       "1281362    30605        2        1            1  20190717  17:25       92373\n",
       "1281363    30605        2        2            1  20190717  17:25       92526\n",
       "1281364    30605        2        3            2  20190717  17:25       93746\n",
       "1281365    30605        2        4            3  20190717  17:25      102794\n",
       "1281366    30605        2        5            5  20190717  17:25      105745\n",
       "1281367    30605        2        6            4  20190717  17:25      110902\n",
       "1281368    30605        2        7            5  20190717  17:25      111604\n",
       "1281369    30605        2        8            4  20190717  17:25      114763\n",
       "1281370    30605        3        1            3  20190719  21:31       49987\n",
       "1281371    30605        3        2            3  20190719  21:31       52109\n",
       "1281372    30605        3        3            3  20190719  21:35      290078\n",
       "1281373    30605        4        1            1  20190729  20:44       28711\n",
       "1281374    30605        4        2            2  20190729  20:44       30573\n",
       "1281375    30605        5        1            1  20190806  19:26      606381\n",
       "1281376    30605        5        2            2  20190806  19:26      608409\n",
       "1281377    30605        5        3            3  20190806  19:26      612105\n",
       "1281378    30605        5        4            5  20190806  19:26      617220\n",
       "1281379    30605        5        5            5  20190806  19:26      623888\n",
       "1281380    30605        5        6            5  20190806  19:27      655200\n",
       "1281381    30605        5        7            5  20190806  19:27      678343\n",
       "1281382    30605        5        8            5  20190806  19:27      700469\n",
       "1281383    30605        5        9            5  20190806  19:27      700474\n",
       "1281384    30605        5       10            5  20190806  19:29      811163\n",
       "1281385    30605        5       11            5  20190806  19:29      813892\n",
       "1281386    30605        5       12            5  20190806  19:30      838407\n",
       "1281387    30605        5       13            5  20190806  19:30      838412\n",
       "1281388    30605        5       14            5  20190806  19:30      858843\n",
       "1281389    30605        5       15            5  20190806  19:31      906644"
      ]
     },
     "execution_count": 119,
     "metadata": {},
     "output_type": "execute_result"
    }
   ],
   "source": [
    "raw_data1_Online_Act.loc[raw_data1_Online_Act['clnt_id']==30605, \n",
    "                         ['clnt_id', 'sess_id', 'hit_seq', 'action_type', 'sess_dt', 'hit_tm', 'hit_pss_tm']].sort_values(by=['sess_id', 'hit_seq'])[:30]"
   ]
  },
  {
   "cell_type": "code",
   "execution_count": 120,
   "metadata": {
    "scrolled": true
   },
   "outputs": [
    {
     "data": {
      "text/plain": [
       "(18087.0, 18109.0)"
      ]
     },
     "execution_count": 120,
     "metadata": {},
     "output_type": "execute_result"
    },
    {
     "data": {
      "image/png": "[encoded data removed]",
      "text/plain": [
       "<Figure size 720x360 with 1 Axes>"
      ]
     },
     "metadata": {
      "needs_background": "light"
     },
     "output_type": "display_data"
    }
   ],
   "source": [
    "from datetime import datetime, date # 날짜형 자료형을 다루는 라이브러리\n",
    "temp = raw_data1_Online_Act[(raw_data1_Online_Act['clnt_id']==30605) & (raw_data1_Online_Act['sess_id']<5)].copy() \n",
    "    # sess_id*10+hit_seq 계산을 위해 hit_seq<10인 sess_id만 고려함. \n",
    "temp.sess_dt = pd.to_datetime(temp.sess_dt, format='%Y%m%d') # sess_dt col의 자료형 변경\n",
    "\n",
    "plt.figure(figsize=(10, 5)) # plot size 조절\n",
    "plt.scatter(temp.sess_dt, temp.sess_id * 10 + temp.hit_seq) # scatter plot 작성 / sess_id, hit_seq range에 맞는 y축 연산 필요함.\n",
    "plt.xlim([date(2019,7,10), date(2019,8,1)]) # x축 조정"
   ]
  },
  {
   "cell_type": "markdown",
   "metadata": {},
   "source": [
    "날짜가 변하면 sess_dt(y축 10의자리)가 함께 바뀌고 hit_seq(y축 1의자리)는 차례로 증가하는 것을 확인하실 수 있습니다."
   ]
  },
  {
   "cell_type": "markdown",
   "metadata": {},
   "source": [
    "### 1-4. action_type : 온라인 행동 유형\n",
    " *  0:검색 / 1:제품 목록 / 2:제품 세부정보 보기 / 3: 장바구니 제품 추가 / 4:장바구니 제품 삭제 \n",
    " * 5:결제 시도 / 6:구매완료 / 7:구매환불 / 8:결재 옵션"
   ]
  },
  {
   "cell_type": "markdown",
   "metadata": {},
   "source": [
    " * 온라인 행동 유형는 몇 개나 있는가?? => 8개\n",
    " \n",
    "     * class 갯수는 9개이므로 존재하지 않는 행동 하나 있음\n",
    "         * '8. 결재 옵션'은 데이터 존재하지 않음(하단 확인)"
   ]
  },
  {
   "cell_type": "code",
   "execution_count": 121,
   "metadata": {},
   "outputs": [
    {
     "data": {
      "text/plain": [
       "8"
      ]
     },
     "execution_count": 121,
     "metadata": {},
     "output_type": "execute_result"
    }
   ],
   "source": [
    "raw_data1_Online_Act['action_type'].nunique()\n"
   ]
  },
  {
   "cell_type": "markdown",
   "metadata": {},
   "source": [
    " * 온라인 행동 유형 별 온라인 행동데이터는 몇 건이 있는지? => 최대 75만 건 , 최소 5600건\n",
    "     * 제일 많은 행동은 약 75만 건의 '5. 결제 시도' 이며\n",
    "     * 제일 적은 행동은 약 5600건의 '7. 구매 환불' 임\n",
    "     * '8. 결재 옵션'은 데이터 존제하지 않음이 확인됨"
   ]
  },
  {
   "cell_type": "code",
   "execution_count": 122,
   "metadata": {},
   "outputs": [
    {
     "data": {
      "text/plain": [
       "5    750530\n",
       "2    655266\n",
       "0    651638\n",
       "3    596765\n",
       "1    307998\n",
       "4    172240\n",
       "6     56249\n",
       "7      5676\n",
       "Name: action_type, dtype: int64"
      ]
     },
     "execution_count": 122,
     "metadata": {},
     "output_type": "execute_result"
    }
   ],
   "source": [
    "raw_data1_Online_Act['action_type'].value_counts()"
   ]
  },
  {
   "cell_type": "markdown",
   "metadata": {},
   "source": [
    " * 결측치 갯수 확인 => 없음"
   ]
  },
  {
   "cell_type": "code",
   "execution_count": 123,
   "metadata": {},
   "outputs": [
    {
     "data": {
      "text/plain": [
       "0"
      ]
     },
     "execution_count": 123,
     "metadata": {},
     "output_type": "execute_result"
    }
   ],
   "source": [
    "raw_data1_Online_Act['action_type'].isna().sum()"
   ]
  },
  {
   "cell_type": "markdown",
   "metadata": {},
   "source": [
    "#### 온라인 행동 유형 시각화"
   ]
  },
  {
   "cell_type": "code",
   "execution_count": 124,
   "metadata": {
    "scrolled": true
   },
   "outputs": [
    {
     "data": {
      "text/plain": [
       "<function matplotlib.pyplot.show(close=None, block=None)>"
      ]
     },
     "execution_count": 124,
     "metadata": {},
     "output_type": "execute_result"
    },
    {
     "data": {
      "image/png": "[encoded data removed]",
      "text/plain": [
       "<Figure size 864x432 with 1 Axes>"
      ]
     },
     "metadata": {
      "needs_background": "light"
     },
     "output_type": "display_data"
    }
   ],
   "source": [
    "title = '행동 유형별 활동량'\n",
    "plt.figure(figsize=(12,6))\n",
    "sns.countplot(x= 'action_type', data=raw_data1_Online_Act, palette=\"pastel\")\n",
    "action_labels = ['검색','제품목록','제품 세부정보','장바구니 추가','장바구니 삭제','결제 시도','구매 완료','구매 환불']\n",
    "plt.xticks(ticks=np.arange(8), labels = action_labels)\n",
    "plt.title(title)\n",
    "plt.show"
   ]
  },
  {
   "cell_type": "markdown",
   "metadata": {},
   "source": [
    "결제 시도에서 구매 완료까지 가는 인원이 현저히 줄어들었음을 확인 할 수 있습니다.\n",
    "\n",
    "1. 결제 중복 시도가 3회 이상인 고객의 비율\n",
    "2. 결제 시도를 했으나 구매 완료까지 가지 않은 고객의 비율"
   ]
  },
  {
   "cell_type": "markdown",
   "metadata": {},
   "source": [
    "#### 1-4-1. 결제 중복 시도 확인\n",
    "다른 ID인지, 다른 날짜인지 고려할 필요가 있습니다. "
   ]
  },
  {
   "cell_type": "code",
   "execution_count": 125,
   "metadata": {},
   "outputs": [],
   "source": [
    "def OverlabAct(data, k):\n",
    "    temp = 0\n",
    "    overlab = []\n",
    "    for i, row in tqdm(data.iterrows(), total=data.shape[0]):\n",
    "        # act가 k 이면, +1한다. \n",
    "        if row['action_type'] == 5:\n",
    "            temp = temp +1\n",
    "        # act가 달라지면 중복 횟수만큼 저장하게된다. \n",
    "        else:\n",
    "            overlab.append(temp)\n",
    "            temp = 0\n",
    "    return np.array(overlab)"
   ]
  },
  {
   "cell_type": "markdown",
   "metadata": {},
   "source": [
    "### 1-5. biz_unit(업종단위) : 온라인 및 오프라인 이용코드"
   ]
  },
  {
   "cell_type": "markdown",
   "metadata": {},
   "source": [
    " * 업종단위는 몇 개나 있는가?? => 3개\n",
    "     * 1. 온라인 행동 데이터 내 업종단위 갯수 : 3개 (A01, A02, A03)\n",
    "     * 2. 거래 정보 데이터 내 업종단위 갯수 : 6개 (A01, A02, A03, B01, B02, B03)"
   ]
  },
  {
   "cell_type": "code",
   "execution_count": 127,
   "metadata": {},
   "outputs": [
    {
     "data": {
      "text/plain": [
       "3"
      ]
     },
     "execution_count": 127,
     "metadata": {},
     "output_type": "execute_result"
    }
   ],
   "source": [
    "raw_data1_Online_Act['biz_unit'].nunique()"
   ]
  },
  {
   "cell_type": "markdown",
   "metadata": {},
   "source": [
    " * 업종단위 별로 온라인 행동데이터는 몇 건이 있는지? => 최대 23만 건 , 최소 19만건"
   ]
  },
  {
   "cell_type": "code",
   "execution_count": 128,
   "metadata": {},
   "outputs": [
    {
     "data": {
      "text/plain": [
       "<AxesSubplot:xlabel='biz_unit', ylabel='count'>"
      ]
     },
     "execution_count": 128,
     "metadata": {},
     "output_type": "execute_result"
    },
    {
     "data": {
      "image/png": "[encoded data removed]",
      "text/plain": [
       "<Figure size 432x288 with 1 Axes>"
      ]
     },
     "metadata": {
      "needs_background": "light"
     },
     "output_type": "display_data"
    }
   ],
   "source": [
    "sns.countplot(raw_data1_Online_Act['biz_unit'])"
   ]
  },
  {
   "cell_type": "code",
   "execution_count": 129,
   "metadata": {},
   "outputs": [
    {
     "data": {
      "text/plain": [
       "A03    2331437\n",
       "A02     668093\n",
       "A01     196832\n",
       "Name: biz_unit, dtype: int64"
      ]
     },
     "execution_count": 129,
     "metadata": {},
     "output_type": "execute_result"
    }
   ],
   "source": [
    "raw_data1_Online_Act['biz_unit'].value_counts()"
   ]
  },
  {
   "cell_type": "markdown",
   "metadata": {},
   "source": [
    " * 결측치 갯수 확인 => 없음"
   ]
  },
  {
   "cell_type": "code",
   "execution_count": 130,
   "metadata": {},
   "outputs": [
    {
     "data": {
      "text/plain": [
       "0"
      ]
     },
     "execution_count": 130,
     "metadata": {},
     "output_type": "execute_result"
    }
   ],
   "source": [
    "raw_data1_Online_Act['biz_unit'].isna().sum()"
   ]
  },
  {
   "cell_type": "markdown",
   "metadata": {},
   "source": [
    "#### 업종 단위별 온라인 행동데이터 분포"
   ]
  },
  {
   "cell_type": "code",
   "execution_count": 131,
   "metadata": {},
   "outputs": [
    {
     "data": {
      "text/plain": [
       "<AxesSubplot:xlabel='biz_unit', ylabel='count'>"
      ]
     },
     "execution_count": 131,
     "metadata": {},
     "output_type": "execute_result"
    },
    {
     "data": {
      "image/png": "[encoded data removed]",
      "text/plain": [
       "<Figure size 432x288 with 1 Axes>"
      ]
     },
     "metadata": {
      "needs_background": "light"
     },
     "output_type": "display_data"
    }
   ],
   "source": [
    "sns.countplot(raw_data1_Online_Act['biz_unit'])"
   ]
  },
  {
   "cell_type": "markdown",
   "metadata": {},
   "source": [
    "온라인 업종 별로 인원수 차이가 큽니다.  \n",
    "왜 이렇게 업종별로 데이터 차이가 큰 것인지 궁금합니다.  \n",
    "중복 수가 많다는 가정을 하고, 유니크한 매장별 고객수를 뽑아보겠습니다. "
   ]
  },
  {
   "cell_type": "code",
   "execution_count": 132,
   "metadata": {},
   "outputs": [],
   "source": [
    "test = pd.DataFrame(raw_data2_Trade_Inform.groupby('clnt_id')['biz_unit'].apply(lambda x: ','.join(set(x))))"
   ]
  },
  {
   "cell_type": "code",
   "execution_count": 133,
   "metadata": {},
   "outputs": [
    {
     "data": {
      "text/plain": [
       "<AxesSubplot:xlabel='biz_unit', ylabel='count'>"
      ]
     },
     "execution_count": 133,
     "metadata": {},
     "output_type": "execute_result"
    },
    {
     "data": {
      "image/png": "[encoded data removed]",
      "text/plain": [
       "<Figure size 432x288 with 1 Axes>"
      ]
     },
     "metadata": {
      "needs_background": "light"
     },
     "output_type": "display_data"
    }
   ],
   "source": [
    "uniq_clnt = pd.DataFrame(raw_data1_Online_Act.groupby('clnt_id')['biz_unit'].apply(lambda x: ','.join(set(x))))\n",
    "sns.countplot(uniq_clnt['biz_unit'])"
   ]
  },
  {
   "cell_type": "markdown",
   "metadata": {},
   "source": [
    "한편 고객과 매장을 그룹으로 묶어서 중복을 제거해보니,  \n",
    "실질적인 고객 수는 A03에 더 많았습니다.\n",
    "\n",
    "**의견** \n",
    "- A03 매장에서는 한 고객이 많이 구매했을 수도 있다.  \n",
    "- 매장 별로 경향성이 있는 지 파악을 해보는 게 중요하다.  \n",
    "- 이 자체가 영향을 끼치는 지 명확하지 않다.  \n",
    "- 유의미 하지 않으면 밸런싱 할 필요가 없어보인다. \n",
    "\n",
    "이 부분에 대해서 두가지 더 살펴보았습니다. \n",
    "1. 각 매장별로 행동 유형에 대한 중복 확인\n",
    "2. 각 매장별 행동 그래프"
   ]
  },
  {
   "cell_type": "markdown",
   "metadata": {},
   "source": [
    "#### 1-5-1. 각 매장별 행동 유형에 대한 중복 확인"
   ]
  },
  {
   "cell_type": "code",
   "execution_count": 134,
   "metadata": {},
   "outputs": [
    {
     "name": "stderr",
     "output_type": "stream",
     "text": [
      "100%|██████████| 2331437/2331437 [02:11<00:00, 17686.83it/s]\n",
      "100%|██████████| 668093/668093 [00:35<00:00, 18677.79it/s]\n",
      "100%|██████████| 196832/196832 [00:10<00:00, 19262.05it/s]\n"
     ]
    }
   ],
   "source": [
    "online_A03 = raw_data1_Online_Act[raw_data1_Online_Act['biz_unit']=='A03']\n",
    "online_A02 = raw_data1_Online_Act[raw_data1_Online_Act['biz_unit']=='A02']\n",
    "online_A01 = raw_data1_Online_Act[raw_data1_Online_Act['biz_unit']=='A01']\n",
    "\n",
    "np_over_A03 = OverlabAct(online_A03, 5)\n",
    "np_over_A02 = OverlabAct(online_A02, 5)\n",
    "np_over_A01 = OverlabAct(online_A01, 5)"
   ]
  },
  {
   "cell_type": "code",
   "execution_count": 135,
   "metadata": {},
   "outputs": [
    {
     "name": "stdout",
     "output_type": "stream",
     "text": [
      "A03에서 3번 이상 연속으로 결제 시도가 중복된 비율: 52.6 %\n",
      "A02에서 3번 이상 연속으로 결제 시도가 중복된 비율: 33.1 %\n",
      "A01에서 3번 이상 연속으로 결제 시도가 중복된 비율: nan %\n"
     ]
    }
   ],
   "source": [
    "print('A03에서 3번 이상 연속으로 결제 시도가 중복된 비율:', round(np_over_A03[np_over_A03>=3].sum()/np_over_A03.sum(),3)*100, '%')\n",
    "print('A02에서 3번 이상 연속으로 결제 시도가 중복된 비율:', round(np_over_A02[np_over_A02>=3].sum()/np_over_A02.sum(),3)*100, '%')\n",
    "print('A01에서 3번 이상 연속으로 결제 시도가 중복된 비율:', round(np_over_A01[np_over_A01>=3].sum()/np_over_A01.sum(),3)*100, '%')"
   ]
  },
  {
   "cell_type": "code",
   "execution_count": 136,
   "metadata": {},
   "outputs": [
    {
     "name": "stdout",
     "output_type": "stream",
     "text": [
      "A03에서 2번 이상 연속으로 결제 시도가 중복된 비율: 67.81 %\n",
      "A02에서 2번 이상 연속으로 결제 시도가 중복된 비율: 72.5 %\n",
      "A01에서 2번 이상 연속으로 결제 시도가 중복된 비율: nan %\n"
     ]
    }
   ],
   "source": [
    "print('A03에서 2번 이상 연속으로 결제 시도가 중복된 비율:', round(np_over_A03[np_over_A03>=2].sum()/np_over_A03.sum(),4)*100, '%')\n",
    "print('A02에서 2번 이상 연속으로 결제 시도가 중복된 비율:', round(np_over_A02[np_over_A02>=2].sum()/np_over_A02.sum(),4)*100, '%')\n",
    "print('A01에서 2번 이상 연속으로 결제 시도가 중복된 비율:', round(np_over_A01[np_over_A01>=2].sum()/np_over_A01.sum(),4)*100, '%')"
   ]
  },
  {
   "cell_type": "markdown",
   "metadata": {},
   "source": [
    "2번 이상 연속과 3번 이상 연속인 경우 달라지는 모습을 확인 할 수 있습니다."
   ]
  },
  {
   "cell_type": "markdown",
   "metadata": {},
   "source": [
    "#### 1-5-2. 각 매장별 행동 그래프"
   ]
  },
  {
   "cell_type": "code",
   "execution_count": 137,
   "metadata": {},
   "outputs": [
    {
     "data": {
      "image/png": "[encoded data removed]",
      "text/plain": [
       "<Figure size 1080x360 with 3 Axes>"
      ]
     },
     "metadata": {},
     "output_type": "display_data"
    }
   ],
   "source": [
    "fig, axs = plt.subplots(1, 3, figsize=(15, 5))\n",
    "label_3 = ['검색', '목록', '세부정보', '장바구니 추가', '장바구니 삭제', '결제 시도', '구매', '환불']\n",
    "label_2 = ['검색', '목록', '세부정보', '장바구니 추가', '장바구니 삭제', '결제 시도', '구매', '환불']\n",
    "label_1 = ['검색', '구매']\n",
    "\n",
    "axs[0].pie(online_A03['action_type'].value_counts().sort_index(), autopct='%0.1f%%', labels=label_3)\n",
    "axs[0].set_title('A03의 행동 데이터')\n",
    "\n",
    "axs[1].pie(online_A02['action_type'].value_counts().sort_index(), autopct='%0.1f%%', labels=label_2)\n",
    "axs[1].set_title('A02의 행동 데이터')\n",
    "\n",
    "axs[2].pie(online_A01['action_type'].value_counts().sort_index(), autopct='%0.1f%%', labels=label_1)\n",
    "axs[2].set_title('A01의 행동 데이터')\n",
    "\n",
    "plt.show()"
   ]
  },
  {
   "cell_type": "markdown",
   "metadata": {},
   "source": [
    "각 매장별 행동 데이터에 대한 분포도 다릅니다.  \n",
    "A03의 경우 결제 시도가 가장 많긴 하지만 대체로 골고루 분포가 되어 있습니다.  \n",
    "A02의 경우 세부정보가 과반수 넘게 분포되어 있습니다.  \n",
    "A01의 경우 검색과 구매 데이터만 있습니다. "
   ]
  },
  {
   "cell_type": "markdown",
   "metadata": {},
   "source": [
    "### 1-6. sess_dt : 세션 일자(년월일)"
   ]
  },
  {
   "cell_type": "markdown",
   "metadata": {},
   "source": [
    " * 세션 일자는 몇 개나 있는가?? => 92개\n",
    "     * 3달치 데이터가 날짜마다 있을 것으로 예상\n",
    "         * 7,8,9월 일자 = 31 + 31 + 30 = 92"
   ]
  },
  {
   "cell_type": "code",
   "execution_count": 138,
   "metadata": {},
   "outputs": [
    {
     "data": {
      "text/plain": [
       "92"
      ]
     },
     "execution_count": 138,
     "metadata": {},
     "output_type": "execute_result"
    }
   ],
   "source": [
    "raw_data1_Online_Act['sess_dt'].nunique()"
   ]
  },
  {
   "cell_type": "markdown",
   "metadata": {},
   "source": [
    " * 세션 일자 별로 온라인 행동데이터는 몇 건이 있는가? => 최대 5.2만 건 , 최소 1.1만건"
   ]
  },
  {
   "cell_type": "code",
   "execution_count": 139,
   "metadata": {
    "scrolled": true
   },
   "outputs": [
    {
     "data": {
      "text/plain": [
       "20190708    52860\n",
       "20190703    47333\n",
       "20190729    46363\n",
       "20190905    44881\n",
       "20190918    43647\n",
       "            ...  \n",
       "20190811    24115\n",
       "20190831    23355\n",
       "20190915    23261\n",
       "20190912    19337\n",
       "20190913    11880\n",
       "Name: sess_dt, Length: 92, dtype: int64"
      ]
     },
     "execution_count": 139,
     "metadata": {},
     "output_type": "execute_result"
    }
   ],
   "source": [
    "raw_data1_Online_Act['sess_dt'].value_counts()"
   ]
  },
  {
   "cell_type": "code",
   "execution_count": 140,
   "metadata": {},
   "outputs": [
    {
     "data": {
      "image/png": "[encoded data removed]",
      "text/plain": [
       "<Figure size 864x432 with 1 Axes>"
      ]
     },
     "metadata": {
      "needs_background": "light"
     },
     "output_type": "display_data"
    }
   ],
   "source": [
    "online_act = raw_data1_Online_Act.copy()\n",
    "\n",
    "online_act['sess_dt'] = pd.to_datetime(online_act['sess_dt'], format='%Y%m%d')\n",
    "online_act = online_act.groupby('sess_dt').size().to_frame('count').reset_index()\n",
    "\n",
    "plt.figure(figsize=(12,6))\n",
    "sns.lineplot(data=online_act, x='sess_dt', y='count', color='tomato')\n",
    "\n",
    "plt.title('세션일자별 활동량 추이')\n",
    "plt.xlabel('날짜'); plt.ylabel('활동량(건)')\n",
    "\n",
    "plt.show()"
   ]
  },
  {
   "cell_type": "markdown",
   "metadata": {},
   "source": [
    " * 결측치 갯수 확인 => 없음"
   ]
  },
  {
   "cell_type": "code",
   "execution_count": 141,
   "metadata": {
    "scrolled": true
   },
   "outputs": [
    {
     "data": {
      "text/plain": [
       "0"
      ]
     },
     "execution_count": 141,
     "metadata": {},
     "output_type": "execute_result"
    }
   ],
   "source": [
    "raw_data1_Online_Act['sess_dt'].isna().sum()"
   ]
  },
  {
   "cell_type": "markdown",
   "metadata": {},
   "source": [
    "요일별 상품 품목 시각화 필요"
   ]
  },
  {
   "cell_type": "markdown",
   "metadata": {},
   "source": [
    "### 1-7. hit_tm : 조회 시각(HH:MM)"
   ]
  },
  {
   "cell_type": "markdown",
   "metadata": {},
   "source": [
    " * 조회 시각는 몇 개나 있는가?? => 1440개"
   ]
  },
  {
   "cell_type": "code",
   "execution_count": 142,
   "metadata": {},
   "outputs": [
    {
     "data": {
      "text/plain": [
       "1440"
      ]
     },
     "execution_count": 142,
     "metadata": {},
     "output_type": "execute_result"
    }
   ],
   "source": [
    "raw_data1_Online_Act['hit_tm'].nunique()"
   ]
  },
  {
   "cell_type": "markdown",
   "metadata": {},
   "source": [
    " * 조회 시각 별로 온라인 행동데이터는 몇 건이 있는지? => 최대 5500건 , 최소 180건\n",
    "     * 시간대 별로 데이터 몇 개인지 확인\n",
    "         * 대략 오전 11시 경이 제일 많고, 새벽 5시 경이 제일 적음\n",
    "     * 시간대 별로 categorcal하게 전처리 한다면 의미 도출 및 user 그룹 분류에 용이할 것을 판단됨\n",
    "         - 0\\~6시=새벽\n",
    "         - 6\\~12시=오전\n",
    "         - 12\\~18시=오후\n",
    "         - 18\\~24=밤"
   ]
  },
  {
   "cell_type": "code",
   "execution_count": 143,
   "metadata": {},
   "outputs": [
    {
     "data": {
      "text/plain": [
       "11:15    5548\n",
       "11:10    5504\n",
       "11:16    5437\n",
       "11:14    5431\n",
       "11:13    5401\n",
       "         ... \n",
       "04:58     208\n",
       "04:53     207\n",
       "05:01     206\n",
       "04:57     192\n",
       "05:06     181\n",
       "Name: hit_tm, Length: 1440, dtype: int64"
      ]
     },
     "execution_count": 143,
     "metadata": {},
     "output_type": "execute_result"
    }
   ],
   "source": [
    "raw_data1_Online_Act['hit_tm'].value_counts()"
   ]
  },
  {
   "cell_type": "markdown",
   "metadata": {},
   "source": [
    " * 결측치 갯수 확인 => 없음"
   ]
  },
  {
   "cell_type": "code",
   "execution_count": 144,
   "metadata": {},
   "outputs": [
    {
     "data": {
      "text/plain": [
       "0"
      ]
     },
     "execution_count": 144,
     "metadata": {},
     "output_type": "execute_result"
    }
   ],
   "source": [
    "raw_data1_Online_Act['hit_tm'].isna().sum()"
   ]
  },
  {
   "cell_type": "markdown",
   "metadata": {},
   "source": [
    "### 1-8. hit_pss_tm : 조회 경과시간\n",
    "\n",
    " * 세션의 시작 부터 조회까지 걸리시간(밀리초) / 첫번째 조회는 0으로 설정"
   ]
  },
  {
   "cell_type": "markdown",
   "metadata": {},
   "source": [
    " * 조회 경과시간는 몇 개나 있는가?? => 150만개"
   ]
  },
  {
   "cell_type": "code",
   "execution_count": 145,
   "metadata": {},
   "outputs": [
    {
     "data": {
      "text/plain": [
       "1539787"
      ]
     },
     "execution_count": 145,
     "metadata": {},
     "output_type": "execute_result"
    }
   ],
   "source": [
    "raw_data1_Online_Act['hit_pss_tm'].nunique()"
   ]
  },
  {
   "cell_type": "markdown",
   "metadata": {},
   "source": [
    " * 조회 경과시간 별로 온라인 행동데이터는 몇 건이 있는가? => 최대 14900건 , 최소 1건\n",
    " \n",
    "     * 사람이 정상적으로 조회하는데 최소 1초 걸린다고 가정하면, 현재 class 값 0~1000까지는 비정상데이터로 판단할 수 있음\n",
    "     * 1초 이하의 조회 경과시간 데이터 갯수 : 약 6만개의 데이터는 비정상 데이터\n",
    "     * 3초로 가정 시 : 8.4만개 데이터 비정상"
   ]
  },
  {
   "cell_type": "code",
   "execution_count": 146,
   "metadata": {},
   "outputs": [],
   "source": [
    "test = raw_data1_Online_Act['hit_pss_tm'].apply(lambda x: x/60000)"
   ]
  },
  {
   "cell_type": "code",
   "execution_count": 147,
   "metadata": {},
   "outputs": [
    {
     "data": {
      "text/plain": [
       "<AxesSubplot:ylabel='hit_pss_tm'>"
      ]
     },
     "execution_count": 147,
     "metadata": {},
     "output_type": "execute_result"
    },
    {
     "data": {
      "image/png": "[encoded data removed]",
      "text/plain": [
       "<Figure size 432x288 with 1 Axes>"
      ]
     },
     "metadata": {
      "needs_background": "light"
     },
     "output_type": "display_data"
    }
   ],
   "source": [
    "sns.boxplot(y=test.sort_values())"
   ]
  },
  {
   "cell_type": "markdown",
   "metadata": {},
   "source": [
    " * 조회 경과시간 별로 온라인 행동데이터는 몇 건이 있는지? => 최대 14900건 , 최소 1건\n",
    " \n",
    "     * 사람이 정상적으로 조회하는데 최소 1초 걸린다고 가정하면, 현재 class 값 0~1000까지는 비정상데이터로 판단할 수 있음\n",
    "     * 1초 이하의 조회 경과시간 데이터 갯수 : 약 6만개의 데이터는 비정상 데이터\n",
    "     * 3초로 가정 시 : 8.4만개 데이터 비정상"
   ]
  },
  {
   "cell_type": "code",
   "execution_count": 148,
   "metadata": {
    "scrolled": true
   },
   "outputs": [
    {
     "data": {
      "text/plain": [
       "count    3.196362e+06\n",
       "mean     1.377734e+01\n",
       "std      1.791198e+01\n",
       "min      0.000000e+00\n",
       "25%      2.045004e+00\n",
       "50%      7.130358e+00\n",
       "75%      1.871178e+01\n",
       "max      4.501214e+02\n",
       "Name: hit_pss_tm, dtype: float64"
      ]
     },
     "execution_count": 148,
     "metadata": {},
     "output_type": "execute_result"
    }
   ],
   "source": [
    "test.describe()"
   ]
  },
  {
   "cell_type": "markdown",
   "metadata": {},
   "source": [
    "평균 13분, 최대값 450분, 하위 75% 18분"
   ]
  },
  {
   "cell_type": "code",
   "execution_count": 149,
   "metadata": {
    "scrolled": true
   },
   "outputs": [
    {
     "data": {
      "text/plain": [
       "0          14921\n",
       "1            953\n",
       "2            818\n",
       "3            669\n",
       "4            467\n",
       "           ...  \n",
       "3226293        1\n",
       "3271343        1\n",
       "3191428        1\n",
       "3183232        1\n",
       "3146240        1\n",
       "Name: hit_pss_tm, Length: 1539787, dtype: int64"
      ]
     },
     "execution_count": 149,
     "metadata": {},
     "output_type": "execute_result"
    }
   ],
   "source": [
    "raw_data1_Online_Act['hit_pss_tm'].value_counts()"
   ]
  },
  {
   "cell_type": "code",
   "execution_count": 150,
   "metadata": {},
   "outputs": [
    {
     "data": {
      "text/plain": [
       "60447"
      ]
     },
     "execution_count": 150,
     "metadata": {},
     "output_type": "execute_result"
    }
   ],
   "source": [
    "len(raw_data1_Online_Act[raw_data1_Online_Act['hit_pss_tm'] <= 1000])"
   ]
  },
  {
   "cell_type": "code",
   "execution_count": 151,
   "metadata": {},
   "outputs": [
    {
     "data": {
      "text/plain": [
       "72662"
      ]
     },
     "execution_count": 151,
     "metadata": {},
     "output_type": "execute_result"
    }
   ],
   "source": [
    "len(raw_data1_Online_Act[raw_data1_Online_Act['hit_pss_tm'] <= 2000])"
   ]
  },
  {
   "cell_type": "code",
   "execution_count": 152,
   "metadata": {},
   "outputs": [
    {
     "data": {
      "text/plain": [
       "84839"
      ]
     },
     "execution_count": 152,
     "metadata": {},
     "output_type": "execute_result"
    }
   ],
   "source": [
    "len(raw_data1_Online_Act[raw_data1_Online_Act['hit_pss_tm'] <= 3000])"
   ]
  },
  {
   "cell_type": "markdown",
   "metadata": {},
   "source": [
    " * 결측치 갯수 확인 => 없음"
   ]
  },
  {
   "cell_type": "code",
   "execution_count": 153,
   "metadata": {},
   "outputs": [
    {
     "data": {
      "text/plain": [
       "0"
      ]
     },
     "execution_count": 153,
     "metadata": {},
     "output_type": "execute_result"
    }
   ],
   "source": [
    "raw_data1_Online_Act['hit_pss_tm'].isna().sum()"
   ]
  },
  {
   "cell_type": "markdown",
   "metadata": {},
   "source": [
    "### 1-9. trans_id : 거래 ID(구매내역을 고유 식별할 수 있는 ID)"
   ]
  },
  {
   "cell_type": "markdown",
   "metadata": {},
   "source": [
    " * 거래 ID는 몇 개나 있는가?? => 5만개\n",
    " \n",
    "     * 총 300만의 온라인 행동 중 구매 관련 데이터는 50997개\n",
    "     * 1. 온라인 행동 데이터 내 거래ID 갯수 : 50997개\n",
    "     * 2. 거래 정보 데이터 내 거래ID 갯수 : 116440개"
   ]
  },
  {
   "cell_type": "code",
   "execution_count": 154,
   "metadata": {},
   "outputs": [
    {
     "data": {
      "text/plain": [
       "50997"
      ]
     },
     "execution_count": 154,
     "metadata": {},
     "output_type": "execute_result"
    }
   ],
   "source": [
    "raw_data1_Online_Act['trans_id'].nunique()"
   ]
  },
  {
   "cell_type": "markdown",
   "metadata": {},
   "source": [
    " * 결측치 갯수 확인 => 3139373 개\n",
    "     * 온라인 행동 데이터 총 갯수 : 3196362 개"
   ]
  },
  {
   "cell_type": "code",
   "execution_count": 155,
   "metadata": {},
   "outputs": [
    {
     "data": {
      "text/plain": [
       "3139373"
      ]
     },
     "execution_count": 155,
     "metadata": {},
     "output_type": "execute_result"
    }
   ],
   "source": [
    "raw_data1_Online_Act['trans_id'].isna().sum()"
   ]
  },
  {
   "cell_type": "markdown",
   "metadata": {},
   "source": [
    " * 거래id가 NaN 이 아닌 데이터들이 갖는 온라인 행동 정보 확인\n",
    "     * '6. 구매완료'에 대한 거래ID : 51313건\n",
    "         * 위 action_type 열의 EDA 자료를 확인하면 '6. 구매완료' 갯수는 56249개임\n",
    "         * 56249-51313 = 4936건에 대한 '6. 구매완료' 데이터는 거래ID 없음\n",
    "     * '7. 구매환불'에 대한 거래ID : 5676건\n",
    "         * 위 action_type 열의 EDA 자료를 확인하면 '7. 구매환불' 갯수는 5676개임\n",
    "             => 갯수 일치\n",
    "         * '7. 구매환불' 데이터는 모두 거래ID 존재"
   ]
  },
  {
   "cell_type": "code",
   "execution_count": 156,
   "metadata": {},
   "outputs": [
    {
     "data": {
      "text/plain": [
       "6    51313\n",
       "7     5676\n",
       "Name: action_type, dtype: int64"
      ]
     },
     "execution_count": 156,
     "metadata": {},
     "output_type": "execute_result"
    }
   ],
   "source": [
    "raw_data1_Online_Act['action_type'][raw_data1_Online_Act['trans_id'].isna() != True].value_counts()"
   ]
  },
  {
   "cell_type": "markdown",
   "metadata": {},
   "source": [
    " * 거래ID 별로 온라인 행동데이터는 몇 건이 있는지? => 최대 62건 , 최소 1건"
   ]
  },
  {
   "cell_type": "code",
   "execution_count": 157,
   "metadata": {},
   "outputs": [
    {
     "data": {
      "text/plain": [
       "71558.0     62\n",
       "57672.0     52\n",
       "104537.0    48\n",
       "103669.0    31\n",
       "99521.0     28\n",
       "            ..\n",
       "87919.0      1\n",
       "87918.0      1\n",
       "87917.0      1\n",
       "87916.0      1\n",
       "38728.0      1\n",
       "Name: trans_id, Length: 50997, dtype: int64"
      ]
     },
     "execution_count": 157,
     "metadata": {},
     "output_type": "execute_result"
    }
   ],
   "source": [
    "raw_data1_Online_Act['trans_id'].value_counts()"
   ]
  },
  {
   "cell_type": "markdown",
   "metadata": {},
   "source": [
    "### 1-10. sech_kwd : 고객이 검색한 키워드"
   ]
  },
  {
   "cell_type": "markdown",
   "metadata": {},
   "source": [
    " * 검색키워드는 몇 개나 있는가?? => 10만개"
   ]
  },
  {
   "cell_type": "code",
   "execution_count": 158,
   "metadata": {},
   "outputs": [
    {
     "data": {
      "text/plain": [
       "101952"
      ]
     },
     "execution_count": 158,
     "metadata": {},
     "output_type": "execute_result"
    }
   ],
   "source": [
    "raw_data1_Online_Act['sech_kwd'].nunique()"
   ]
  },
  {
   "cell_type": "markdown",
   "metadata": {},
   "source": [
    " * 검색키워드 별로 온라인 행동데이터는 몇 건이 있는지? => 최대 8985건 , 최소 1건"
   ]
  },
  {
   "cell_type": "code",
   "execution_count": 159,
   "metadata": {},
   "outputs": [
    {
     "data": {
      "text/plain": [
       "우유              8985\n",
       "두부              5210\n",
       "계란              5039\n",
       "생수              4283\n",
       "수박              2694\n",
       "                ... \n",
       "라코스테 니트집업          1\n",
       "ph517e19a031       1\n",
       "타미힐피거진 여성셔츠        1\n",
       "서울요                1\n",
       "누들 떡볶이             1\n",
       "Name: sech_kwd, Length: 101952, dtype: int64"
      ]
     },
     "execution_count": 159,
     "metadata": {},
     "output_type": "execute_result"
    }
   ],
   "source": [
    "raw_data1_Online_Act['sech_kwd'].value_counts()"
   ]
  },
  {
   "cell_type": "markdown",
   "metadata": {},
   "source": [
    " * 결측치 갯수 확인 => 254만개"
   ]
  },
  {
   "cell_type": "code",
   "execution_count": 160,
   "metadata": {},
   "outputs": [
    {
     "data": {
      "text/plain": [
       "2544724"
      ]
     },
     "execution_count": 160,
     "metadata": {},
     "output_type": "execute_result"
    }
   ],
   "source": [
    "raw_data1_Online_Act['sech_kwd'].isna().sum()"
   ]
  },
  {
   "cell_type": "markdown",
   "metadata": {},
   "source": [
    "### 1-11. tot_pag_view_ct : 세션 내 총 페이지 수\n",
    "\n",
    " * 세션 내에 총 페이지(화면) 뷰 수"
   ]
  },
  {
   "cell_type": "markdown",
   "metadata": {},
   "source": [
    " * 페이지 수의 종류는 몇 개나 있는가?? => 425개"
   ]
  },
  {
   "cell_type": "code",
   "execution_count": 161,
   "metadata": {},
   "outputs": [
    {
     "data": {
      "text/plain": [
       "427"
      ]
     },
     "execution_count": 161,
     "metadata": {},
     "output_type": "execute_result"
    }
   ],
   "source": [
    "raw_data1_Online_Act['tot_pag_view_ct'].nunique()"
   ]
  },
  {
   "cell_type": "markdown",
   "metadata": {},
   "source": [
    " * 페이지 수 별 온라인 행동데이터는 몇 건이 있는지? => 최대 6.2만건 , 최소 2건"
   ]
  },
  {
   "cell_type": "code",
   "execution_count": 162,
   "metadata": {},
   "outputs": [
    {
     "data": {
      "text/plain": [
       "1.0      61936\n",
       "7.0      59676\n",
       "5.0      58941\n",
       "9.0      58658\n",
       "11.0     57615\n",
       "         ...  \n",
       "431.0       21\n",
       "464.0       21\n",
       "451.0       10\n",
       "423.0        6\n",
       "389.0        2\n",
       "Name: tot_pag_view_ct, Length: 427, dtype: int64"
      ]
     },
     "execution_count": 162,
     "metadata": {},
     "output_type": "execute_result"
    }
   ],
   "source": [
    "raw_data1_Online_Act['tot_pag_view_ct'].value_counts()"
   ]
  },
  {
   "cell_type": "markdown",
   "metadata": {},
   "source": [
    " * 결측치 갯수 확인 => 1428개"
   ]
  },
  {
   "cell_type": "code",
   "execution_count": 163,
   "metadata": {},
   "outputs": [
    {
     "data": {
      "text/plain": [
       "0"
      ]
     },
     "execution_count": 163,
     "metadata": {},
     "output_type": "execute_result"
    }
   ],
   "source": [
    "raw_data1_Online_Act['tot_pag_view_ct'].isna().sum()"
   ]
  },
  {
   "cell_type": "markdown",
   "metadata": {},
   "source": [
    "### 1-12. tot_sess_hr_v : 총 세션 시간 값"
   ]
  },
  {
   "cell_type": "markdown",
   "metadata": {},
   "source": [
    " * 총 세션시간 종류는 몇 개나 있는가?? => 6646개"
   ]
  },
  {
   "cell_type": "code",
   "execution_count": 164,
   "metadata": {},
   "outputs": [
    {
     "data": {
      "text/plain": [
       "6682"
      ]
     },
     "execution_count": 164,
     "metadata": {},
     "output_type": "execute_result"
    }
   ],
   "source": [
    "raw_data1_Online_Act['tot_sess_hr_v'].nunique()"
   ]
  },
  {
   "cell_type": "markdown",
   "metadata": {},
   "source": [
    " * 총 세션시간 별 온라인 행동데이터는 몇 건이 있는지? => 최대 2236건 , 최소 1건"
   ]
  },
  {
   "cell_type": "code",
   "execution_count": 165,
   "metadata": {},
   "outputs": [
    {
     "data": {
      "text/plain": [
       "0.0       57473\n",
       "127.0      2216\n",
       "61.0       2130\n",
       "96.0       2104\n",
       "69.0       2065\n",
       "          ...  \n",
       "8988.0        1\n",
       "7159.0        1\n",
       "8914.0        1\n",
       "7758.0        1\n",
       "7700.0        1\n",
       "Name: tot_sess_hr_v, Length: 6682, dtype: int64"
      ]
     },
     "execution_count": 165,
     "metadata": {},
     "output_type": "execute_result"
    }
   ],
   "source": [
    "raw_data1_Online_Act['tot_sess_hr_v'].value_counts()"
   ]
  },
  {
   "cell_type": "markdown",
   "metadata": {},
   "source": [
    " * 결측치 갯수 확인 => 57607개\n",
    "     * 단위가 시간이므로, NaN 값이 1시간 미만을 의미할 수도 있을 것이라 판단됨"
   ]
  },
  {
   "cell_type": "code",
   "execution_count": 166,
   "metadata": {
    "scrolled": true
   },
   "outputs": [
    {
     "data": {
      "text/plain": [
       "0"
      ]
     },
     "execution_count": 166,
     "metadata": {},
     "output_type": "execute_result"
    }
   ],
   "source": [
    "raw_data1_Online_Act['tot_sess_hr_v'].isna().sum()"
   ]
  },
  {
   "cell_type": "markdown",
   "metadata": {},
   "source": [
    " * 최대 세션시간은?? => 27635시간 = 약 1151일 = 약 3년 2개월\n",
    "     * 3년 이상 세션을 켜놓았다는 의미 : 정상데이터는 아닌것으로 예상"
   ]
  },
  {
   "cell_type": "code",
   "execution_count": 167,
   "metadata": {},
   "outputs": [
    {
     "data": {
      "text/plain": [
       "28790.0"
      ]
     },
     "execution_count": 167,
     "metadata": {},
     "output_type": "execute_result"
    }
   ],
   "source": [
    "max(raw_data1_Online_Act['tot_sess_hr_v'])"
   ]
  },
  {
   "cell_type": "markdown",
   "metadata": {},
   "source": [
    " * 최소 세션시간은?? => 1시간"
   ]
  },
  {
   "cell_type": "code",
   "execution_count": 168,
   "metadata": {},
   "outputs": [
    {
     "data": {
      "text/plain": [
       "0.0"
      ]
     },
     "execution_count": 168,
     "metadata": {},
     "output_type": "execute_result"
    }
   ],
   "source": [
    "min(raw_data1_Online_Act['tot_sess_hr_v'])"
   ]
  },
  {
   "cell_type": "markdown",
   "metadata": {},
   "source": [
    "### 1-13. trfc_src : 유입 채널 \n",
    "\n",
    " * 종류 : DIRECT / PUSH / WEBSITE / PORTAL_1 / PORTAL_2 / PORTAL_3 / unknown"
   ]
  },
  {
   "cell_type": "markdown",
   "metadata": {},
   "source": [
    " * 유입채널의 종류는 몇 개나 있는가?? => 7개"
   ]
  },
  {
   "cell_type": "code",
   "execution_count": 169,
   "metadata": {},
   "outputs": [
    {
     "data": {
      "text/plain": [
       "7"
      ]
     },
     "execution_count": 169,
     "metadata": {},
     "output_type": "execute_result"
    }
   ],
   "source": [
    "raw_data1_Online_Act['trfc_src'].nunique()"
   ]
  },
  {
   "cell_type": "markdown",
   "metadata": {},
   "source": [
    " * 유입채널 별 온라인 행동데이터는 몇 건이 있는지? => 최대 171만건 , 최소 9792건"
   ]
  },
  {
   "cell_type": "code",
   "execution_count": 170,
   "metadata": {},
   "outputs": [
    {
     "data": {
      "text/plain": [
       "DIRECT      1715541\n",
       "unknown      826946\n",
       "PUSH         523300\n",
       "WEBSITE       49472\n",
       "PORTAL_1      40669\n",
       "PORTAL_2      30642\n",
       "PORTAL_3       9792\n",
       "Name: trfc_src, dtype: int64"
      ]
     },
     "execution_count": 170,
     "metadata": {},
     "output_type": "execute_result"
    }
   ],
   "source": [
    "raw_data1_Online_Act['trfc_src'].value_counts()"
   ]
  },
  {
   "cell_type": "markdown",
   "metadata": {},
   "source": [
    " * 결측치 갯수 확인 => 없음"
   ]
  },
  {
   "cell_type": "code",
   "execution_count": 171,
   "metadata": {},
   "outputs": [
    {
     "data": {
      "text/plain": [
       "0"
      ]
     },
     "execution_count": 171,
     "metadata": {},
     "output_type": "execute_result"
    }
   ],
   "source": [
    "raw_data1_Online_Act['trfc_src'].isna().sum()"
   ]
  },
  {
   "cell_type": "code",
   "execution_count": 172,
   "metadata": {},
   "outputs": [
    {
     "data": {
      "image/png": "[encoded data removed]",
      "text/plain": [
       "<Figure size 1800x576 with 3 Axes>"
      ]
     },
     "metadata": {},
     "output_type": "display_data"
    }
   ],
   "source": [
    "fig, axs = plt.subplots(1, 3, figsize=(25, 8))\n",
    "labels = ['DIRECT', 'PORTAL_1', 'PORTAL_2', 'PORTAL_3', 'PUSH', 'WEBSITE', 'unknown']\n",
    "\n",
    "axs[0].pie(online_A03['trfc_src'].value_counts().sort_index(), autopct='%0.1f%%')\n",
    "axs[0].legend(labels)\n",
    "axs[0].set_title('A03의 유입 채널')\n",
    "\n",
    "axs[1].pie(online_A02['trfc_src'].value_counts().sort_index(), autopct='%0.1f%%')\n",
    "axs[1].legend(labels)\n",
    "axs[1].set_title('A02의 유입 채널')\n",
    "\n",
    "axs[2].pie(online_A01['trfc_src'].value_counts().sort_index(), autopct='%0.1f%%')\n",
    "axs[2].legend(labels)\n",
    "axs[2].set_title('A01의 유입 채널')\n",
    "\n",
    "plt.show()"
   ]
  },
  {
   "cell_type": "markdown",
   "metadata": {},
   "source": [
    "### 1-14. dvc_ctg_nm : 기기 유형 \n",
    "\n",
    " * mobile_web / mobile_app / PC"
   ]
  },
  {
   "cell_type": "markdown",
   "metadata": {},
   "source": [
    " * 기기유형의 종류는 몇 개나 있는가?? => 3개"
   ]
  },
  {
   "cell_type": "code",
   "execution_count": 173,
   "metadata": {},
   "outputs": [
    {
     "data": {
      "text/plain": [
       "4"
      ]
     },
     "execution_count": 173,
     "metadata": {},
     "output_type": "execute_result"
    }
   ],
   "source": [
    "raw_data1_Online_Act['dvc_ctg_nm'].nunique()"
   ]
  },
  {
   "cell_type": "markdown",
   "metadata": {},
   "source": [
    " * 기기유형 별 온라인 행동데이터는 몇 건이 있는지? => 최대 67.0만건 , 최소 26.5만건\n",
    " \n",
    "     * 모바일 114만 건 / PC 26만건\n"
   ]
  },
  {
   "cell_type": "code",
   "execution_count": 174,
   "metadata": {},
   "outputs": [
    {
     "data": {
      "text/plain": [
       "unknown       1782577\n",
       "mobile_web     672936\n",
       "mobile_app     474859\n",
       "PC             265990\n",
       "Name: dvc_ctg_nm, dtype: int64"
      ]
     },
     "execution_count": 174,
     "metadata": {},
     "output_type": "execute_result"
    }
   ],
   "source": [
    "raw_data1_Online_Act['dvc_ctg_nm'].value_counts()"
   ]
  },
  {
   "cell_type": "code",
   "execution_count": 236,
   "metadata": {},
   "outputs": [
    {
     "data": {
      "text/plain": [
       "PC             150421\n",
       "mobile_web     398935\n",
       "unknown       1782081\n",
       "Name: dvc_ctg_nm, dtype: int64"
      ]
     },
     "execution_count": 236,
     "metadata": {},
     "output_type": "execute_result"
    }
   ],
   "source": [
    "online_A03['dvc_ctg_nm'].value_counts().sort_index()"
   ]
  },
  {
   "cell_type": "markdown",
   "metadata": {},
   "source": [
    " * 결측치 갯수 확인 => 178만 건"
   ]
  },
  {
   "cell_type": "code",
   "execution_count": 175,
   "metadata": {
    "scrolled": true
   },
   "outputs": [
    {
     "data": {
      "text/plain": [
       "0"
      ]
     },
     "execution_count": 175,
     "metadata": {},
     "output_type": "execute_result"
    }
   ],
   "source": [
    "raw_data1_Online_Act['dvc_ctg_nm'].isna().sum()"
   ]
  },
  {
   "cell_type": "markdown",
   "metadata": {},
   "source": [
    "unknown 문제 발생"
   ]
  },
  {
   "cell_type": "code",
   "execution_count": 237,
   "metadata": {},
   "outputs": [
    {
     "data": {
      "image/png": "[encoded data removed]",
      "text/plain": [
       "<Figure size 1800x576 with 3 Axes>"
      ]
     },
     "metadata": {},
     "output_type": "display_data"
    }
   ],
   "source": [
    "fig, axs = plt.subplots(1, 3, figsize=(25, 8))\n",
    "labels1 = ['PC', 'mobile_app', 'unknown']\n",
    "labels = ['PC', 'mobile_app', 'mobile_web', 'unknown']\n",
    "\n",
    "axs[0].pie(online_A03['dvc_ctg_nm'].value_counts().sort_index(), autopct='%0.1f%%')\n",
    "axs[0].legend(labels1)\n",
    "axs[0].set_title('A03의 기기 유형')\n",
    "\n",
    "axs[1].pie(online_A02['dvc_ctg_nm'].value_counts().sort_index(), autopct='%0.1f%%')\n",
    "axs[1].legend(labels)\n",
    "axs[1].set_title('A02의 기기 유형')\n",
    "\n",
    "axs[2].pie(online_A01['dvc_ctg_nm'].value_counts().sort_index(), autopct='%0.1f%%')\n",
    "axs[2].legend(labels)\n",
    "axs[2].set_title('A01의 기기 유형')\n",
    "\n",
    "plt.show()"
   ]
  },
  {
   "cell_type": "markdown",
   "metadata": {},
   "source": [
    "## 2. 거래 정보 데이터 확인"
   ]
  },
  {
   "cell_type": "code",
   "execution_count": 177,
   "metadata": {},
   "outputs": [
    {
     "data": {
      "text/html": [
       "<div>\n",
       "<style scoped>\n",
       "    .dataframe tbody tr th:only-of-type {\n",
       "        vertical-align: middle;\n",
       "    }\n",
       "\n",
       "    .dataframe tbody tr th {\n",
       "        vertical-align: top;\n",
       "    }\n",
       "\n",
       "    .dataframe thead th {\n",
       "        text-align: right;\n",
       "    }\n",
       "</style>\n",
       "<table border=\"1\" class=\"dataframe\">\n",
       "  <thead>\n",
       "    <tr style=\"text-align: right;\">\n",
       "      <th></th>\n",
       "      <th>clnt_id</th>\n",
       "      <th>trans_id</th>\n",
       "      <th>trans_seq</th>\n",
       "      <th>biz_unit</th>\n",
       "      <th>pd_c</th>\n",
       "      <th>de_dt</th>\n",
       "      <th>de_tm</th>\n",
       "      <th>buy_am</th>\n",
       "      <th>buy_ct</th>\n",
       "    </tr>\n",
       "  </thead>\n",
       "  <tbody>\n",
       "    <tr>\n",
       "      <th>0</th>\n",
       "      <td>2</td>\n",
       "      <td>42449.0</td>\n",
       "      <td>1</td>\n",
       "      <td>A02</td>\n",
       "      <td>1015.0</td>\n",
       "      <td>20190704</td>\n",
       "      <td>15:34</td>\n",
       "      <td>46430</td>\n",
       "      <td>1</td>\n",
       "    </tr>\n",
       "    <tr>\n",
       "      <th>1</th>\n",
       "      <td>2</td>\n",
       "      <td>62037.0</td>\n",
       "      <td>1</td>\n",
       "      <td>A03</td>\n",
       "      <td>92.0</td>\n",
       "      <td>20190729</td>\n",
       "      <td>23:47</td>\n",
       "      <td>36000</td>\n",
       "      <td>20</td>\n",
       "    </tr>\n",
       "    <tr>\n",
       "      <th>2</th>\n",
       "      <td>2</td>\n",
       "      <td>64691.0</td>\n",
       "      <td>1</td>\n",
       "      <td>A03</td>\n",
       "      <td>186.0</td>\n",
       "      <td>20190731</td>\n",
       "      <td>21:25</td>\n",
       "      <td>3790</td>\n",
       "      <td>1</td>\n",
       "    </tr>\n",
       "    <tr>\n",
       "      <th>3</th>\n",
       "      <td>2</td>\n",
       "      <td>64691.0</td>\n",
       "      <td>2</td>\n",
       "      <td>A03</td>\n",
       "      <td>151.0</td>\n",
       "      <td>20190731</td>\n",
       "      <td>21:25</td>\n",
       "      <td>3990</td>\n",
       "      <td>1</td>\n",
       "    </tr>\n",
       "    <tr>\n",
       "      <th>4</th>\n",
       "      <td>2</td>\n",
       "      <td>64691.0</td>\n",
       "      <td>3</td>\n",
       "      <td>A03</td>\n",
       "      <td>351.0</td>\n",
       "      <td>20190731</td>\n",
       "      <td>21:25</td>\n",
       "      <td>4690</td>\n",
       "      <td>1</td>\n",
       "    </tr>\n",
       "  </tbody>\n",
       "</table>\n",
       "</div>"
      ],
      "text/plain": [
       "   clnt_id  trans_id  trans_seq biz_unit    pd_c     de_dt  de_tm  buy_am  \\\n",
       "0        2   42449.0          1      A02  1015.0  20190704  15:34   46430   \n",
       "1        2   62037.0          1      A03    92.0  20190729  23:47   36000   \n",
       "2        2   64691.0          1      A03   186.0  20190731  21:25    3790   \n",
       "3        2   64691.0          2      A03   151.0  20190731  21:25    3990   \n",
       "4        2   64691.0          3      A03   351.0  20190731  21:25    4690   \n",
       "\n",
       "   buy_ct  \n",
       "0       1  \n",
       "1      20  \n",
       "2       1  \n",
       "3       1  \n",
       "4       1  "
      ]
     },
     "execution_count": 177,
     "metadata": {},
     "output_type": "execute_result"
    }
   ],
   "source": [
    "raw_data2_Trade_Inform.head()"
   ]
  },
  {
   "cell_type": "markdown",
   "metadata": {},
   "source": [
    " * 2-1(=1-1, 3-1). clnt_id : 고객 고유 식별 ID\n",
    " * 2-2(=1-9). trans_ID : 거래 ID(구매내역을 고유 식별할 수 있는 ID)\n",
    " * 2-3. trans_seq : 구매 내역 내 구매 순서를 알 수 있도록 한 일련번호\n",
    " * 2-4(=1-5). biz_unit(업종단위) : 온라인 및 오프라인 이용코드\n",
    " * 2-5(=4-1). pd_c : 상품의 소분류 코드\n",
    " * 2-6. de_dt : 구매일자(년월일)\n",
    " * 2-7. de_tm : 구매시각(HHMM)\n",
    " * 2-8. buy_am : 구매금액\n",
    " * 2-9. buy_ct : 구매수량"
   ]
  },
  {
   "cell_type": "code",
   "execution_count": 178,
   "metadata": {},
   "outputs": [
    {
     "data": {
      "text/plain": [
       "(599961, 9)"
      ]
     },
     "execution_count": 178,
     "metadata": {},
     "output_type": "execute_result"
    }
   ],
   "source": [
    "raw_data2_Trade_Inform.shape"
   ]
  },
  {
   "cell_type": "markdown",
   "metadata": {},
   "source": [
    " * 행 수(데이터 갯수) : 59.9만 개\n",
    " * 열 수(데이터 종류) : 9개"
   ]
  },
  {
   "cell_type": "markdown",
   "metadata": {},
   "source": [
    "### 2-1. clnt_id : 고객 고유 식별 ID\n",
    "\n",
    " * 1-1, 3-1 clnt_id와 동일 의미"
   ]
  },
  {
   "cell_type": "markdown",
   "metadata": {},
   "source": [
    " * 거래정보데이터 내 고객ID의 종류는 몇 개나 있는가?? => 11284개\n",
    "     * 1. 온라인 행동 데이터 내 고객ID 갯수 : 72399개\n",
    "     * 2. 거래 정보 데이터 내 고객ID 갯수 :11284개\n",
    "     * 3. 사용자 demog 정보 내 고객ID 갯수 : 72399개"
   ]
  },
  {
   "cell_type": "code",
   "execution_count": 179,
   "metadata": {},
   "outputs": [
    {
     "data": {
      "text/plain": [
       "11284"
      ]
     },
     "execution_count": 179,
     "metadata": {},
     "output_type": "execute_result"
    }
   ],
   "source": [
    "raw_data2_Trade_Inform['clnt_id'].nunique()"
   ]
  },
  {
   "cell_type": "markdown",
   "metadata": {},
   "source": [
    " * 고객ID 별 거래정보데이터는 몇 건이 있는지? => 최대 757건 , 최소 1건 "
   ]
  },
  {
   "cell_type": "code",
   "execution_count": 180,
   "metadata": {},
   "outputs": [
    {
     "data": {
      "text/plain": [
       "27221    757\n",
       "42575    681\n",
       "52362    623\n",
       "71243    579\n",
       "12198    565\n",
       "        ... \n",
       "32432      1\n",
       "35025      1\n",
       "27340      1\n",
       "52443      1\n",
       "14343      1\n",
       "Name: clnt_id, Length: 11284, dtype: int64"
      ]
     },
     "execution_count": 180,
     "metadata": {},
     "output_type": "execute_result"
    }
   ],
   "source": [
    "raw_data2_Trade_Inform['clnt_id'].value_counts()"
   ]
  },
  {
   "cell_type": "markdown",
   "metadata": {},
   "source": [
    " * 결측치 갯수 확인 => 없음"
   ]
  },
  {
   "cell_type": "code",
   "execution_count": 181,
   "metadata": {},
   "outputs": [
    {
     "data": {
      "text/plain": [
       "0"
      ]
     },
     "execution_count": 181,
     "metadata": {},
     "output_type": "execute_result"
    }
   ],
   "source": [
    "raw_data2_Trade_Inform['clnt_id'].isna().sum()"
   ]
  },
  {
   "cell_type": "markdown",
   "metadata": {},
   "source": [
    "### 2-2. trans_id : 거래 ID(구매내역을 고유 식별할 수 있는 ID)\n",
    "\n",
    " * 1-9 trans_id와 동일 의미"
   ]
  },
  {
   "cell_type": "markdown",
   "metadata": {},
   "source": [
    " * 거래정보데이터 내 거래ID의 종류는 몇 개나 있는가?? => 11만개\n",
    "     * 1. 온라인 행동 데이터 내 거래ID 갯수 : 50997개\n",
    "     * 2. 거래 정보 데이터 내 거래ID 갯수 : 116440개"
   ]
  },
  {
   "cell_type": "code",
   "execution_count": 182,
   "metadata": {},
   "outputs": [
    {
     "data": {
      "text/plain": [
       "116440"
      ]
     },
     "execution_count": 182,
     "metadata": {},
     "output_type": "execute_result"
    }
   ],
   "source": [
    "raw_data2_Trade_Inform['trans_id'].nunique()"
   ]
  },
  {
   "cell_type": "markdown",
   "metadata": {},
   "source": [
    " * 거래ID 별 거래정보데이터는 몇 건이 있는지? => 최대 105건 , 최소 1건 "
   ]
  },
  {
   "cell_type": "code",
   "execution_count": 183,
   "metadata": {},
   "outputs": [
    {
     "data": {
      "text/plain": [
       "132554.0    105\n",
       "51589.0     100\n",
       "102723.0     72\n",
       "132637.0     72\n",
       "137451.0     65\n",
       "           ... \n",
       "48974.0       1\n",
       "43896.0       1\n",
       "48972.0       1\n",
       "73503.0       1\n",
       "44198.0       1\n",
       "Name: trans_id, Length: 116440, dtype: int64"
      ]
     },
     "execution_count": 183,
     "metadata": {},
     "output_type": "execute_result"
    }
   ],
   "source": [
    "raw_data2_Trade_Inform['trans_id'].value_counts()"
   ]
  },
  {
   "cell_type": "markdown",
   "metadata": {},
   "source": [
    " * 결측치 갯수 확인 => 없음"
   ]
  },
  {
   "cell_type": "code",
   "execution_count": 184,
   "metadata": {},
   "outputs": [
    {
     "data": {
      "text/plain": [
       "0"
      ]
     },
     "execution_count": 184,
     "metadata": {},
     "output_type": "execute_result"
    }
   ],
   "source": [
    "raw_data2_Trade_Inform['trans_id'].isna().sum()"
   ]
  },
  {
   "cell_type": "markdown",
   "metadata": {},
   "source": [
    "### 2-3. trans_seq : 구매 내역 내 구매 순서를 알 수 있도록 한 일련번호"
   ]
  },
  {
   "cell_type": "markdown",
   "metadata": {},
   "source": [
    " * 거래정보데이터 내 구매일련번호의 종류는 몇 개나 있는가?? => 105개"
   ]
  },
  {
   "cell_type": "code",
   "execution_count": 185,
   "metadata": {},
   "outputs": [
    {
     "data": {
      "text/plain": [
       "105"
      ]
     },
     "execution_count": 185,
     "metadata": {},
     "output_type": "execute_result"
    }
   ],
   "source": [
    "raw_data2_Trade_Inform['trans_seq'].nunique()"
   ]
  },
  {
   "cell_type": "markdown",
   "metadata": {},
   "source": [
    " * 구매일련번호 별 거래정보데이터는 몇 건이 있는지? => 최대 11만건 , 최소 1건 "
   ]
  },
  {
   "cell_type": "code",
   "execution_count": 186,
   "metadata": {},
   "outputs": [
    {
     "data": {
      "text/plain": [
       "1      116440\n",
       "2       80693\n",
       "3       66071\n",
       "4       56049\n",
       "5       48138\n",
       "        ...  \n",
       "102         1\n",
       "103         1\n",
       "104         1\n",
       "101         1\n",
       "105         1\n",
       "Name: trans_seq, Length: 105, dtype: int64"
      ]
     },
     "execution_count": 186,
     "metadata": {},
     "output_type": "execute_result"
    }
   ],
   "source": [
    "raw_data2_Trade_Inform['trans_seq'].value_counts()"
   ]
  },
  {
   "cell_type": "markdown",
   "metadata": {},
   "source": [
    " * 결측치 갯수 확인 => 없음"
   ]
  },
  {
   "cell_type": "code",
   "execution_count": 187,
   "metadata": {},
   "outputs": [
    {
     "data": {
      "text/plain": [
       "0"
      ]
     },
     "execution_count": 187,
     "metadata": {},
     "output_type": "execute_result"
    }
   ],
   "source": [
    "raw_data2_Trade_Inform['trans_seq'].isna().sum()"
   ]
  },
  {
   "cell_type": "markdown",
   "metadata": {},
   "source": [
    "### 2-4. biz_unit(업종단위) : 온라인 및 오프라인 이용코드\n",
    "\n",
    " * 1-5. biz_unit 데이터와 의미 동일"
   ]
  },
  {
   "cell_type": "markdown",
   "metadata": {},
   "source": [
    " * 거래정보데이터 내 업종단위의 종류는 몇 개나 있는가?? => 6개\n",
    "     * 1. 온라인 행동 데이터 내 업종단위 갯수 : 3개 (A01, A02, A03)\n",
    "     * 2. 거래 정보 데이터 내 업종단위 갯수 : 6개 (A01, A02, A03, B01, B02, B03)"
   ]
  },
  {
   "cell_type": "code",
   "execution_count": 188,
   "metadata": {},
   "outputs": [
    {
     "data": {
      "text/plain": [
       "6"
      ]
     },
     "execution_count": 188,
     "metadata": {},
     "output_type": "execute_result"
    }
   ],
   "source": [
    "raw_data2_Trade_Inform['biz_unit'].nunique()"
   ]
  },
  {
   "cell_type": "markdown",
   "metadata": {},
   "source": [
    " * 업종단위 별 거래정보데이터는 몇 건이 있는지? => 최대 20만건 , 최소 3000건 "
   ]
  },
  {
   "cell_type": "code",
   "execution_count": 189,
   "metadata": {},
   "outputs": [
    {
     "data": {
      "text/plain": [
       "A03    201982\n",
       "B01    200781\n",
       "B02    168803\n",
       "A02     19850\n",
       "A01      5126\n",
       "B03      3419\n",
       "Name: biz_unit, dtype: int64"
      ]
     },
     "execution_count": 189,
     "metadata": {},
     "output_type": "execute_result"
    }
   ],
   "source": [
    "raw_data2_Trade_Inform['biz_unit'].value_counts()"
   ]
  },
  {
   "cell_type": "markdown",
   "metadata": {},
   "source": [
    " * 결측치 갯수 확인 => 없음"
   ]
  },
  {
   "cell_type": "code",
   "execution_count": 190,
   "metadata": {},
   "outputs": [
    {
     "data": {
      "text/plain": [
       "0"
      ]
     },
     "execution_count": 190,
     "metadata": {},
     "output_type": "execute_result"
    }
   ],
   "source": [
    "raw_data2_Trade_Inform['biz_unit'].isna().sum()"
   ]
  },
  {
   "cell_type": "markdown",
   "metadata": {},
   "source": [
    "### 2-5. pd_c : 상품의 소분류 코드\n",
    "\n",
    " * 4-1. pd_c 데이터와 의미 동일"
   ]
  },
  {
   "cell_type": "markdown",
   "metadata": {},
   "source": [
    " * 거래정보데이터 내 소분류 코드의 종류는 몇 개나 있는가?? => 1668개\n",
    "     * 2. 거래 정보 데이터 내 소분류 갯수 : 1668개\n",
    "     * 4. 상품 대중소 분류 데이터 내 소분류 갯수 : 1667개\n",
    "     * 1개 차이는 'unknown' 유무로 예상"
   ]
  },
  {
   "cell_type": "code",
   "execution_count": 191,
   "metadata": {},
   "outputs": [
    {
     "data": {
      "text/plain": [
       "1667"
      ]
     },
     "execution_count": 191,
     "metadata": {},
     "output_type": "execute_result"
    }
   ],
   "source": [
    "raw_data2_Trade_Inform['pd_c'].nunique()"
   ]
  },
  {
   "cell_type": "markdown",
   "metadata": {},
   "source": [
    " * 소분류코드 별 거래정보데이터는 몇 건이 있는지? => 최대 1.5만건 , 최소 1건 "
   ]
  },
  {
   "cell_type": "code",
   "execution_count": 192,
   "metadata": {},
   "outputs": [
    {
     "data": {
      "text/plain": [
       "1213.0    15518\n",
       "347.0     12914\n",
       "964.0     11115\n",
       "1395.0    11083\n",
       "1617.0    10850\n",
       "          ...  \n",
       "1146.0        1\n",
       "1541.0        1\n",
       "778.0         1\n",
       "773.0         1\n",
       "1318.0        1\n",
       "Name: pd_c, Length: 1667, dtype: int64"
      ]
     },
     "execution_count": 192,
     "metadata": {},
     "output_type": "execute_result"
    }
   ],
   "source": [
    "raw_data2_Trade_Inform['pd_c'].value_counts()"
   ]
  },
  {
   "cell_type": "markdown",
   "metadata": {},
   "source": [
    " * 결측치 갯수 확인 => 17652개 (unknown)"
   ]
  },
  {
   "cell_type": "markdown",
   "metadata": {},
   "source": [
    "### 2-6. de_dt : 구매일자(년월일)"
   ]
  },
  {
   "cell_type": "markdown",
   "metadata": {},
   "source": [
    " * 구매 일자는 몇 개나 있는가?? => 92개\n",
    "     * 3달치 데이터가 날짜마다 있을 것을 예상됨\n",
    "         * 7,8,9월 일자 = 31 + 31 + 30 = 92\n",
    "         \n",
    " * 1. 온라인 행동 정보 데이터 내 '1-6. sess_dt 세션일자'와 연관 지을수 있음"
   ]
  },
  {
   "cell_type": "code",
   "execution_count": 193,
   "metadata": {},
   "outputs": [
    {
     "data": {
      "text/plain": [
       "92"
      ]
     },
     "execution_count": 193,
     "metadata": {},
     "output_type": "execute_result"
    }
   ],
   "source": [
    "raw_data2_Trade_Inform['de_dt'].nunique()"
   ]
  },
  {
   "cell_type": "markdown",
   "metadata": {},
   "source": [
    " * 구매일자 별 거래정보데이터는 몇 건이 있는지? => 최대 9357건 , 최소 1979건"
   ]
  },
  {
   "cell_type": "code",
   "execution_count": 194,
   "metadata": {},
   "outputs": [
    {
     "data": {
      "text/plain": [
       "20190911    9357\n",
       "20190713    8707\n",
       "20190720    8658\n",
       "20190727    8603\n",
       "20190921    8467\n",
       "            ... \n",
       "20190922    3042\n",
       "20190811    2806\n",
       "20190728    2705\n",
       "20190825    2462\n",
       "20190913    1979\n",
       "Name: de_dt, Length: 92, dtype: int64"
      ]
     },
     "execution_count": 194,
     "metadata": {},
     "output_type": "execute_result"
    }
   ],
   "source": [
    "raw_data2_Trade_Inform['de_dt'].value_counts()"
   ]
  },
  {
   "cell_type": "markdown",
   "metadata": {},
   "source": [
    " * 결측치 갯수 확인 => 없음"
   ]
  },
  {
   "cell_type": "code",
   "execution_count": 195,
   "metadata": {},
   "outputs": [
    {
     "data": {
      "text/plain": [
       "0"
      ]
     },
     "execution_count": 195,
     "metadata": {},
     "output_type": "execute_result"
    }
   ],
   "source": [
    "raw_data2_Trade_Inform['de_dt'].isna().sum()"
   ]
  },
  {
   "cell_type": "markdown",
   "metadata": {},
   "source": [
    "### 2-7. de_tm : 구매시각(HHMM)"
   ]
  },
  {
   "cell_type": "markdown",
   "metadata": {},
   "source": [
    " * 구매 시각는 몇 개나 있는가?? => 1436개"
   ]
  },
  {
   "cell_type": "code",
   "execution_count": 196,
   "metadata": {},
   "outputs": [
    {
     "data": {
      "text/plain": [
       "1436"
      ]
     },
     "execution_count": 196,
     "metadata": {},
     "output_type": "execute_result"
    }
   ],
   "source": [
    "raw_data2_Trade_Inform['de_tm'].nunique()"
   ]
  },
  {
   "cell_type": "markdown",
   "metadata": {},
   "source": [
    " * 구매시각 거래정보데이터는 몇 건이 있는지? => 최대 1094건 , 최소 1건"
   ]
  },
  {
   "cell_type": "code",
   "execution_count": 197,
   "metadata": {},
   "outputs": [
    {
     "data": {
      "text/plain": [
       "16:17    1094\n",
       "18:03    1033\n",
       "17:11    1012\n",
       "17:27     992\n",
       "17:18     985\n",
       "         ... \n",
       "04:29       1\n",
       "04:31       1\n",
       "03:27       1\n",
       "05:00       1\n",
       "05:12       1\n",
       "Name: de_tm, Length: 1436, dtype: int64"
      ]
     },
     "execution_count": 197,
     "metadata": {},
     "output_type": "execute_result"
    }
   ],
   "source": [
    "raw_data2_Trade_Inform['de_tm'].value_counts()"
   ]
  },
  {
   "cell_type": "markdown",
   "metadata": {},
   "source": [
    " * 결측치 갯수 확인 => 없음"
   ]
  },
  {
   "cell_type": "code",
   "execution_count": 198,
   "metadata": {},
   "outputs": [
    {
     "data": {
      "text/plain": [
       "0"
      ]
     },
     "execution_count": 198,
     "metadata": {},
     "output_type": "execute_result"
    }
   ],
   "source": [
    "raw_data2_Trade_Inform['de_tm'].isna().sum()"
   ]
  },
  {
   "cell_type": "markdown",
   "metadata": {},
   "source": [
    "### 2-8. buy_am : 구매금액"
   ]
  },
  {
   "cell_type": "markdown",
   "metadata": {},
   "source": [
    " * 구매 금액은 몇 개나 있는가?? => 14810개"
   ]
  },
  {
   "cell_type": "code",
   "execution_count": 199,
   "metadata": {},
   "outputs": [
    {
     "data": {
      "text/plain": [
       "14810"
      ]
     },
     "execution_count": 199,
     "metadata": {},
     "output_type": "execute_result"
    }
   ],
   "source": [
    "raw_data2_Trade_Inform['buy_am'].nunique()"
   ]
  },
  {
   "cell_type": "markdown",
   "metadata": {},
   "source": [
    " * 구매금액 별 거래정보데이터는 몇 건이 있는지? => 최대 1.8만건 , 최소 1건"
   ]
  },
  {
   "cell_type": "code",
   "execution_count": 200,
   "metadata": {},
   "outputs": [
    {
     "data": {
      "text/plain": [
       "2990     18064\n",
       "1000     16200\n",
       "1990     15745\n",
       "3990     14652\n",
       "990      14087\n",
       "         ...  \n",
       "2235         1\n",
       "12476        1\n",
       "8382         1\n",
       "10431        1\n",
       "4094         1\n",
       "Name: buy_am, Length: 14810, dtype: int64"
      ]
     },
     "execution_count": 200,
     "metadata": {},
     "output_type": "execute_result"
    }
   ],
   "source": [
    "raw_data2_Trade_Inform['buy_am'].value_counts()"
   ]
  },
  {
   "cell_type": "markdown",
   "metadata": {},
   "source": [
    " * 결측치 갯수 확인 => 최소 금액 0"
   ]
  },
  {
   "cell_type": "code",
   "execution_count": 201,
   "metadata": {},
   "outputs": [
    {
     "data": {
      "text/plain": [
       "0"
      ]
     },
     "execution_count": 201,
     "metadata": {},
     "output_type": "execute_result"
    }
   ],
   "source": [
    "raw_data2_Trade_Inform['buy_am'].isna().sum()"
   ]
  },
  {
   "cell_type": "markdown",
   "metadata": {},
   "source": [
    " * 최대 금액은?? => 1천억"
   ]
  },
  {
   "cell_type": "code",
   "execution_count": 202,
   "metadata": {},
   "outputs": [
    {
     "data": {
      "text/plain": [
       "100000016899"
      ]
     },
     "execution_count": 202,
     "metadata": {},
     "output_type": "execute_result"
    }
   ],
   "source": [
    "max(raw_data2_Trade_Inform['buy_am'])"
   ]
  },
  {
   "cell_type": "markdown",
   "metadata": {},
   "source": [
    " * 최소금액은?? => 0"
   ]
  },
  {
   "cell_type": "code",
   "execution_count": 203,
   "metadata": {},
   "outputs": [
    {
     "data": {
      "text/plain": [
       "0"
      ]
     },
     "execution_count": 203,
     "metadata": {},
     "output_type": "execute_result"
    }
   ],
   "source": [
    "min(raw_data2_Trade_Inform['buy_am'])"
   ]
  },
  {
   "cell_type": "markdown",
   "metadata": {},
   "source": [
    "### 2-9. buy_ct : 구매 수량"
   ]
  },
  {
   "cell_type": "markdown",
   "metadata": {},
   "source": [
    " * 구매수량은 몇 종류나 있는가?? => 338개"
   ]
  },
  {
   "cell_type": "code",
   "execution_count": 204,
   "metadata": {},
   "outputs": [
    {
     "data": {
      "text/plain": [
       "338"
      ]
     },
     "execution_count": 204,
     "metadata": {},
     "output_type": "execute_result"
    }
   ],
   "source": [
    "raw_data2_Trade_Inform['buy_ct'].nunique()"
   ]
  },
  {
   "cell_type": "markdown",
   "metadata": {},
   "source": [
    " * 구매수량 별 거래정보데이터는 몇 건이 있는지? => 최대 49만건 , 최소 1건"
   ]
  },
  {
   "cell_type": "code",
   "execution_count": 205,
   "metadata": {},
   "outputs": [
    {
     "data": {
      "text/plain": [
       "1      497831\n",
       "2       62837\n",
       "3       12371\n",
       "0        6775\n",
       "4        6377\n",
       "        ...  \n",
       "210         1\n",
       "207         1\n",
       "717         1\n",
       "204         1\n",
       "155         1\n",
       "Name: buy_ct, Length: 338, dtype: int64"
      ]
     },
     "execution_count": 205,
     "metadata": {},
     "output_type": "execute_result"
    }
   ],
   "source": [
    "raw_data2_Trade_Inform['buy_ct'].value_counts()"
   ]
  },
  {
   "cell_type": "markdown",
   "metadata": {},
   "source": [
    " * NaN 갯수 확인 => 없음\n",
    "     * 위 최소 수량 0을 결측치로 고려 => 6775개"
   ]
  },
  {
   "cell_type": "code",
   "execution_count": 206,
   "metadata": {},
   "outputs": [
    {
     "data": {
      "text/plain": [
       "0"
      ]
     },
     "execution_count": 206,
     "metadata": {},
     "output_type": "execute_result"
    }
   ],
   "source": [
    "raw_data2_Trade_Inform['buy_ct'].isna().sum()"
   ]
  },
  {
   "cell_type": "markdown",
   "metadata": {},
   "source": [
    " * 최대 수량은?? => 3600개"
   ]
  },
  {
   "cell_type": "code",
   "execution_count": 207,
   "metadata": {},
   "outputs": [
    {
     "data": {
      "text/plain": [
       "3600"
      ]
     },
     "execution_count": 207,
     "metadata": {},
     "output_type": "execute_result"
    }
   ],
   "source": [
    "max(raw_data2_Trade_Inform['buy_ct'])"
   ]
  },
  {
   "cell_type": "markdown",
   "metadata": {},
   "source": [
    " * 최소 수량은?? => 0\n",
    "     * 결측치로 고려"
   ]
  },
  {
   "cell_type": "code",
   "execution_count": 208,
   "metadata": {},
   "outputs": [
    {
     "data": {
      "text/plain": [
       "0"
      ]
     },
     "execution_count": 208,
     "metadata": {},
     "output_type": "execute_result"
    }
   ],
   "source": [
    "min(raw_data2_Trade_Inform['buy_ct'])"
   ]
  },
  {
   "cell_type": "markdown",
   "metadata": {},
   "source": [
    " ## 3. 사용자 demo 정보(나이, 성별) 확인"
   ]
  },
  {
   "cell_type": "code",
   "execution_count": 209,
   "metadata": {},
   "outputs": [
    {
     "data": {
      "text/html": [
       "<div>\n",
       "<style scoped>\n",
       "    .dataframe tbody tr th:only-of-type {\n",
       "        vertical-align: middle;\n",
       "    }\n",
       "\n",
       "    .dataframe tbody tr th {\n",
       "        vertical-align: top;\n",
       "    }\n",
       "\n",
       "    .dataframe thead th {\n",
       "        text-align: right;\n",
       "    }\n",
       "</style>\n",
       "<table border=\"1\" class=\"dataframe\">\n",
       "  <thead>\n",
       "    <tr style=\"text-align: right;\">\n",
       "      <th></th>\n",
       "      <th>clnt_id</th>\n",
       "      <th>clnt_gender</th>\n",
       "      <th>clnt_age</th>\n",
       "    </tr>\n",
       "  </thead>\n",
       "  <tbody>\n",
       "    <tr>\n",
       "      <th>0</th>\n",
       "      <td>1</td>\n",
       "      <td>NaN</td>\n",
       "      <td>NaN</td>\n",
       "    </tr>\n",
       "    <tr>\n",
       "      <th>1</th>\n",
       "      <td>2</td>\n",
       "      <td>F</td>\n",
       "      <td>30.0</td>\n",
       "    </tr>\n",
       "    <tr>\n",
       "      <th>2</th>\n",
       "      <td>3</td>\n",
       "      <td>NaN</td>\n",
       "      <td>NaN</td>\n",
       "    </tr>\n",
       "    <tr>\n",
       "      <th>3</th>\n",
       "      <td>4</td>\n",
       "      <td>NaN</td>\n",
       "      <td>NaN</td>\n",
       "    </tr>\n",
       "    <tr>\n",
       "      <th>4</th>\n",
       "      <td>5</td>\n",
       "      <td>NaN</td>\n",
       "      <td>NaN</td>\n",
       "    </tr>\n",
       "  </tbody>\n",
       "</table>\n",
       "</div>"
      ],
      "text/plain": [
       "   clnt_id clnt_gender  clnt_age\n",
       "0        1         NaN       NaN\n",
       "1        2           F      30.0\n",
       "2        3         NaN       NaN\n",
       "3        4         NaN       NaN\n",
       "4        5         NaN       NaN"
      ]
     },
     "execution_count": 209,
     "metadata": {},
     "output_type": "execute_result"
    }
   ],
   "source": [
    "raw_data3_Demog.head()"
   ]
  },
  {
   "cell_type": "markdown",
   "metadata": {},
   "source": [
    " * 3-1(=2-1, 1-1). clnt_id : 고객 고유 식별 ID\n",
    " * 3-2. clnt_gender : 고객 성별\n",
    " * 3-3. clnt_age : 고객 연령대( 10단위:  10대 이하 / 20대 / 30대 / 40대 / 50대 / 60대 / unknown)"
   ]
  },
  {
   "cell_type": "code",
   "execution_count": 210,
   "metadata": {},
   "outputs": [
    {
     "data": {
      "text/plain": [
       "(72399, 3)"
      ]
     },
     "execution_count": 210,
     "metadata": {},
     "output_type": "execute_result"
    }
   ],
   "source": [
    "raw_data3_Demog.shape"
   ]
  },
  {
   "cell_type": "markdown",
   "metadata": {},
   "source": [
    " * 행 수(데이터 갯수) : 7.2만 개\n",
    " * 열 수(데이터 종류) : 3개"
   ]
  },
  {
   "cell_type": "code",
   "execution_count": 211,
   "metadata": {},
   "outputs": [
    {
     "data": {
      "text/plain": [
       "F    10352\n",
       "M     1893\n",
       "Name: clnt_gender, dtype: int64"
      ]
     },
     "execution_count": 211,
     "metadata": {},
     "output_type": "execute_result"
    }
   ],
   "source": [
    "raw_data3_Demog['clnt_gender'].value_counts().sort_index()"
   ]
  },
  {
   "cell_type": "code",
   "execution_count": 212,
   "metadata": {},
   "outputs": [
    {
     "data": {
      "image/png": "[encoded data removed]",
      "text/plain": [
       "<Figure size 1080x720 with 2 Axes>"
      ]
     },
     "metadata": {},
     "output_type": "display_data"
    }
   ],
   "source": [
    "fig, axs = plt.subplots(1, 2, figsize=(15, 10))\n",
    "label_gender = ['여성', '남성']\n",
    "label_age = ['10대', '20대', '30대', '40대', '50대', '60대']\n",
    "\n",
    "axs[0].pie(raw_data3_Demog['clnt_gender'].value_counts().sort_index(), autopct='%0.1f%%', labels=label_gender)\n",
    "axs[0].set_title('고객 성별 데이터')\n",
    "\n",
    "axs[1].pie(raw_data3_Demog['clnt_age'].value_counts().sort_index(), autopct='%0.1f%%', labels=label_age)\n",
    "axs[1].set_title('고객 나이 데이터')\n",
    "\n",
    "plt.show()\n"
   ]
  },
  {
   "cell_type": "markdown",
   "metadata": {},
   "source": [
    "### 3-1. clnt_Id : 고객 고유 식별 ID\n",
    "\n",
    " * 1-1, 2-1 clnt_id와 동일 의미"
   ]
  },
  {
   "cell_type": "markdown",
   "metadata": {},
   "source": [
    " * 고객 ID는 몇 개나 있는가?? => 7만명의 고객 ID 보유\n",
    "     * 1. 온라인 행동 데이터 내 고객ID 갯수 : 72399개\n",
    "     * 2. 거래 정보 데이터 내 고객ID 갯수 :11284개\n",
    "     * 3. 사용자 demog 정보 내 고객ID 갯수 : 72399개"
   ]
  },
  {
   "cell_type": "code",
   "execution_count": 213,
   "metadata": {},
   "outputs": [
    {
     "data": {
      "text/plain": [
       "72399"
      ]
     },
     "execution_count": 213,
     "metadata": {},
     "output_type": "execute_result"
    }
   ],
   "source": [
    "raw_data3_Demog['clnt_id'].nunique()"
   ]
  },
  {
   "cell_type": "markdown",
   "metadata": {},
   "source": [
    " * 고객ID 별로 사용자 demog 데이터는 몇 건이 있는지? => 1건\n",
    "     * 서로 다른 사람이 같은 ID를 공유하는 오류데이터는 없음"
   ]
  },
  {
   "cell_type": "code",
   "execution_count": 214,
   "metadata": {
    "scrolled": true
   },
   "outputs": [
    {
     "data": {
      "text/plain": [
       "2047     1\n",
       "27288    1\n",
       "14994    1\n",
       "12947    1\n",
       "2708     1\n",
       "        ..\n",
       "25958    1\n",
       "32101    1\n",
       "30052    1\n",
       "19811    1\n",
       "2049     1\n",
       "Name: clnt_id, Length: 72399, dtype: int64"
      ]
     },
     "execution_count": 214,
     "metadata": {},
     "output_type": "execute_result"
    }
   ],
   "source": [
    "raw_data3_Demog['clnt_id'].value_counts()"
   ]
  },
  {
   "cell_type": "markdown",
   "metadata": {},
   "source": [
    " * 결측치 갯수 확인 => 없음"
   ]
  },
  {
   "cell_type": "code",
   "execution_count": 215,
   "metadata": {},
   "outputs": [
    {
     "data": {
      "text/plain": [
       "0"
      ]
     },
     "execution_count": 215,
     "metadata": {},
     "output_type": "execute_result"
    }
   ],
   "source": [
    "raw_data3_Demog['clnt_id'].isna().sum()"
   ]
  },
  {
   "cell_type": "code",
   "execution_count": 216,
   "metadata": {},
   "outputs": [
    {
     "data": {
      "text/html": [
       "<div>\n",
       "<style scoped>\n",
       "    .dataframe tbody tr th:only-of-type {\n",
       "        vertical-align: middle;\n",
       "    }\n",
       "\n",
       "    .dataframe tbody tr th {\n",
       "        vertical-align: top;\n",
       "    }\n",
       "\n",
       "    .dataframe thead th {\n",
       "        text-align: right;\n",
       "    }\n",
       "</style>\n",
       "<table border=\"1\" class=\"dataframe\">\n",
       "  <thead>\n",
       "    <tr style=\"text-align: right;\">\n",
       "      <th></th>\n",
       "      <th>clnt_id</th>\n",
       "      <th>clnt_gender</th>\n",
       "      <th>clnt_age</th>\n",
       "    </tr>\n",
       "  </thead>\n",
       "  <tbody>\n",
       "    <tr>\n",
       "      <th>0</th>\n",
       "      <td>1</td>\n",
       "      <td>NaN</td>\n",
       "      <td>NaN</td>\n",
       "    </tr>\n",
       "    <tr>\n",
       "      <th>1</th>\n",
       "      <td>2</td>\n",
       "      <td>F</td>\n",
       "      <td>30.0</td>\n",
       "    </tr>\n",
       "    <tr>\n",
       "      <th>2</th>\n",
       "      <td>3</td>\n",
       "      <td>NaN</td>\n",
       "      <td>NaN</td>\n",
       "    </tr>\n",
       "    <tr>\n",
       "      <th>3</th>\n",
       "      <td>4</td>\n",
       "      <td>NaN</td>\n",
       "      <td>NaN</td>\n",
       "    </tr>\n",
       "    <tr>\n",
       "      <th>4</th>\n",
       "      <td>5</td>\n",
       "      <td>NaN</td>\n",
       "      <td>NaN</td>\n",
       "    </tr>\n",
       "  </tbody>\n",
       "</table>\n",
       "</div>"
      ],
      "text/plain": [
       "   clnt_id clnt_gender  clnt_age\n",
       "0        1         NaN       NaN\n",
       "1        2           F      30.0\n",
       "2        3         NaN       NaN\n",
       "3        4         NaN       NaN\n",
       "4        5         NaN       NaN"
      ]
     },
     "execution_count": 216,
     "metadata": {},
     "output_type": "execute_result"
    }
   ],
   "source": [
    "raw_data3_Demog.head()"
   ]
  },
  {
   "cell_type": "markdown",
   "metadata": {},
   "source": [
    "### 3-2. clnt_gender : 고객 성별"
   ]
  },
  {
   "cell_type": "markdown",
   "metadata": {},
   "source": [
    " * 성별은 몇 개나 있는가?? => 3개 (남, 여, 알수 없음)"
   ]
  },
  {
   "cell_type": "code",
   "execution_count": 217,
   "metadata": {},
   "outputs": [
    {
     "data": {
      "text/plain": [
       "2"
      ]
     },
     "execution_count": 217,
     "metadata": {},
     "output_type": "execute_result"
    }
   ],
   "source": [
    "raw_data3_Demog['clnt_gender'].nunique()"
   ]
  },
  {
   "cell_type": "markdown",
   "metadata": {},
   "source": [
    " * 성별 별로 사용자 demog 데이터는 몇 건이 있는지? => 알 수없음 6만, 여성 1만, 남성 1800"
   ]
  },
  {
   "cell_type": "code",
   "execution_count": 218,
   "metadata": {},
   "outputs": [
    {
     "data": {
      "text/plain": [
       "F    10352\n",
       "M     1893\n",
       "Name: clnt_gender, dtype: int64"
      ]
     },
     "execution_count": 218,
     "metadata": {},
     "output_type": "execute_result"
    }
   ],
   "source": [
    "raw_data3_Demog['clnt_gender'].value_counts()"
   ]
  },
  {
   "cell_type": "markdown",
   "metadata": {},
   "source": [
    " * 결측치 갯수 확인 => 60154개"
   ]
  },
  {
   "cell_type": "markdown",
   "metadata": {},
   "source": [
    "### 3-3. clnt_age : 고객 연령대\n",
    "\n",
    " * 10단위: 10대 이하 / 20대 / 30대 / 40대 / 50대 / 60대 / unknown"
   ]
  },
  {
   "cell_type": "markdown",
   "metadata": {},
   "source": [
    " * 연령대는 몇 종류나 있는가?? => 7종"
   ]
  },
  {
   "cell_type": "code",
   "execution_count": 219,
   "metadata": {},
   "outputs": [
    {
     "data": {
      "text/plain": [
       "6"
      ]
     },
     "execution_count": 219,
     "metadata": {},
     "output_type": "execute_result"
    }
   ],
   "source": [
    "raw_data3_Demog['clnt_age'].nunique()"
   ]
  },
  {
   "cell_type": "markdown",
   "metadata": {},
   "source": [
    " * 연령 별로 사용자 demog 데이터는 몇 건이 있는지?\n",
    " \n",
    "     * 10대 : 46\n",
    "     * 20대 : 924\n",
    "     * 30대 : 4307\n",
    "     * 40대 : 4948\n",
    "     * 50대 : 1694\n",
    "     * 60대 : 326\n",
    "     * 알 수 없음 : 60154"
   ]
  },
  {
   "cell_type": "code",
   "execution_count": 220,
   "metadata": {},
   "outputs": [
    {
     "data": {
      "text/plain": [
       "40.0    4948\n",
       "30.0    4307\n",
       "50.0    1694\n",
       "20.0     924\n",
       "60.0     326\n",
       "10.0      46\n",
       "Name: clnt_age, dtype: int64"
      ]
     },
     "execution_count": 220,
     "metadata": {},
     "output_type": "execute_result"
    }
   ],
   "source": [
    "raw_data3_Demog['clnt_age'].value_counts()"
   ]
  },
  {
   "cell_type": "markdown",
   "metadata": {},
   "source": [
    " * 결측치 갯수 확인 => 60154개"
   ]
  },
  {
   "cell_type": "markdown",
   "metadata": {},
   "source": [
    "## 4. 상품 대중소 분류 정보"
   ]
  },
  {
   "cell_type": "code",
   "execution_count": 221,
   "metadata": {},
   "outputs": [
    {
     "data": {
      "text/html": [
       "<div>\n",
       "<style scoped>\n",
       "    .dataframe tbody tr th:only-of-type {\n",
       "        vertical-align: middle;\n",
       "    }\n",
       "\n",
       "    .dataframe tbody tr th {\n",
       "        vertical-align: top;\n",
       "    }\n",
       "\n",
       "    .dataframe thead th {\n",
       "        text-align: right;\n",
       "    }\n",
       "</style>\n",
       "<table border=\"1\" class=\"dataframe\">\n",
       "  <thead>\n",
       "    <tr style=\"text-align: right;\">\n",
       "      <th></th>\n",
       "      <th>pd_c</th>\n",
       "      <th>clac_nm1</th>\n",
       "      <th>clac_nm2</th>\n",
       "      <th>clac_nm3</th>\n",
       "    </tr>\n",
       "  </thead>\n",
       "  <tbody>\n",
       "    <tr>\n",
       "      <th>0</th>\n",
       "      <td>1.0</td>\n",
       "      <td>Automotive Products</td>\n",
       "      <td>Automotive Replacement Repair / Maintanance Kits</td>\n",
       "      <td>Automobile Oil / Additives</td>\n",
       "    </tr>\n",
       "    <tr>\n",
       "      <th>1</th>\n",
       "      <td>2.0</td>\n",
       "      <td>Automotive Products</td>\n",
       "      <td>Automotive Replacement Repair / Maintanance Kits</td>\n",
       "      <td>Car Lights</td>\n",
       "    </tr>\n",
       "    <tr>\n",
       "      <th>2</th>\n",
       "      <td>3.0</td>\n",
       "      <td>Automotive Products</td>\n",
       "      <td>Automotive Replacement Repair / Maintanance Kits</td>\n",
       "      <td>Car Paint</td>\n",
       "    </tr>\n",
       "    <tr>\n",
       "      <th>3</th>\n",
       "      <td>4.0</td>\n",
       "      <td>Automotive Products</td>\n",
       "      <td>Automotive Replacement Repair / Maintanance Kits</td>\n",
       "      <td>Filters</td>\n",
       "    </tr>\n",
       "    <tr>\n",
       "      <th>4</th>\n",
       "      <td>5.0</td>\n",
       "      <td>Automotive Products</td>\n",
       "      <td>Automotive Replacement Repair / Maintanance Kits</td>\n",
       "      <td>Wiper Blades</td>\n",
       "    </tr>\n",
       "  </tbody>\n",
       "</table>\n",
       "</div>"
      ],
      "text/plain": [
       "  pd_c             clac_nm1                                          clac_nm2  \\\n",
       "0  1.0  Automotive Products  Automotive Replacement Repair / Maintanance Kits   \n",
       "1  2.0  Automotive Products  Automotive Replacement Repair / Maintanance Kits   \n",
       "2  3.0  Automotive Products  Automotive Replacement Repair / Maintanance Kits   \n",
       "3  4.0  Automotive Products  Automotive Replacement Repair / Maintanance Kits   \n",
       "4  5.0  Automotive Products  Automotive Replacement Repair / Maintanance Kits   \n",
       "\n",
       "                     clac_nm3  \n",
       "0  Automobile Oil / Additives  \n",
       "1                  Car Lights  \n",
       "2                   Car Paint  \n",
       "3                     Filters  \n",
       "4                Wiper Blades  "
      ]
     },
     "execution_count": 221,
     "metadata": {},
     "output_type": "execute_result"
    }
   ],
   "source": [
    "raw_data4_Item_Class.head()"
   ]
  },
  {
   "cell_type": "markdown",
   "metadata": {},
   "source": [
    "* 4-1. pd_c : 상품 소분류 코드\n",
    "* 4-2. clac_nm1 : 상품 대분류명\n",
    "* 4-3. clac_nm2 : 상품 중분류명\n",
    "* 4-4. clac_nm3 : 상품 소분류명"
   ]
  },
  {
   "cell_type": "code",
   "execution_count": 222,
   "metadata": {},
   "outputs": [
    {
     "data": {
      "text/plain": [
       "(1667, 4)"
      ]
     },
     "execution_count": 222,
     "metadata": {},
     "output_type": "execute_result"
    }
   ],
   "source": [
    "raw_data4_Item_Class.shape"
   ]
  },
  {
   "cell_type": "markdown",
   "metadata": {},
   "source": [
    " * 행 수(데이터 갯수) : 1667개\n",
    " * 열 수(데이터 종류) : 4개"
   ]
  },
  {
   "cell_type": "markdown",
   "metadata": {},
   "source": [
    "### 4-1. pd_c : 상품의 소분류 코드\n",
    "\n",
    " * 2-5. pd_c 데이터와 의미 동일"
   ]
  },
  {
   "cell_type": "markdown",
   "metadata": {},
   "source": [
    " * 상품분류데이터 내 소분류 코드의 종류는 몇 개나 있는가?? => 1667개\n",
    "     * 2. 거래 정보 데이터 내 소분류 갯수 : 1668개\n",
    "     * 4. 상품 대중소 분류 데이터 내 소분류 갯수 : 1667개\n",
    "     * 1개 차이는 'unknown' 유무로 예상"
   ]
  },
  {
   "cell_type": "code",
   "execution_count": 223,
   "metadata": {},
   "outputs": [
    {
     "data": {
      "text/plain": [
       "1667"
      ]
     },
     "execution_count": 223,
     "metadata": {},
     "output_type": "execute_result"
    }
   ],
   "source": [
    "raw_data4_Item_Class['pd_c'].nunique()"
   ]
  },
  {
   "cell_type": "markdown",
   "metadata": {},
   "source": [
    " * 소분류코드 별 상품분류데이터는 몇 건이 있는지? => 각 1건"
   ]
  },
  {
   "cell_type": "code",
   "execution_count": 224,
   "metadata": {},
   "outputs": [
    {
     "data": {
      "text/plain": [
       "887.0     1\n",
       "1478.0    1\n",
       "1266.0    1\n",
       "903.0     1\n",
       "1400.0    1\n",
       "         ..\n",
       "798.0     1\n",
       "1126.0    1\n",
       "1550.0    1\n",
       "35.0      1\n",
       "75.0      1\n",
       "Name: pd_c, Length: 1667, dtype: int64"
      ]
     },
     "execution_count": 224,
     "metadata": {},
     "output_type": "execute_result"
    }
   ],
   "source": [
    "raw_data4_Item_Class['pd_c'].value_counts()"
   ]
  },
  {
   "cell_type": "markdown",
   "metadata": {},
   "source": [
    " * 결측치 갯수 확인 => 없음"
   ]
  },
  {
   "cell_type": "code",
   "execution_count": 225,
   "metadata": {},
   "outputs": [
    {
     "data": {
      "text/plain": [
       "0"
      ]
     },
     "execution_count": 225,
     "metadata": {},
     "output_type": "execute_result"
    }
   ],
   "source": [
    "raw_data4_Item_Class['pd_c'].isna().sum()"
   ]
  },
  {
   "cell_type": "markdown",
   "metadata": {},
   "source": [
    "### 4-2. clac_nm1 : 상품 대분류명"
   ]
  },
  {
   "cell_type": "markdown",
   "metadata": {},
   "source": [
    " * 상품분류데이터 내 대분류명의 종류는 몇 개나 있는가?? => 60개"
   ]
  },
  {
   "cell_type": "code",
   "execution_count": 226,
   "metadata": {},
   "outputs": [
    {
     "data": {
      "text/plain": [
       "60"
      ]
     },
     "execution_count": 226,
     "metadata": {},
     "output_type": "execute_result"
    }
   ],
   "source": [
    "raw_data4_Item_Class['clac_nm1'].nunique()"
   ]
  },
  {
   "cell_type": "markdown",
   "metadata": {},
   "source": [
    " * 대분류명 별 상품분류데이터는 몇 건이 있는지? => 최대 100건, 최소 1건"
   ]
  },
  {
   "cell_type": "code",
   "execution_count": 227,
   "metadata": {
    "scrolled": true
   },
   "outputs": [
    {
     "data": {
      "text/plain": [
       "Fashion Accessories                          100\n",
       "Meats                                         80\n",
       "Sea Foods                                     76\n",
       "Vegetables                                    70\n",
       "Kids' Clothing                                67\n",
       "Stationary / Office Supplies                  61\n",
       "Fruits                                        56\n",
       "Underwear / Socks and Hosiery / Homewear      53\n",
       "Sport Fashion                                 52\n",
       "Spices / Seasonings                           49\n",
       "Cosmetics / Beauty Care                       48\n",
       "Personal Care                                 38\n",
       "Snack Foods                                   36\n",
       "Cooked Foods                                  35\n",
       "Tableware / Cooking Utensils                  35\n",
       "Gardening / Pets                              35\n",
       "Home / Kitchen Appliances                     33\n",
       "Chilled Foods                                 32\n",
       "Cleaning / Laundry / Bathroom Accessories     30\n",
       "Bedding / Handicraft                          30\n",
       "Kitchenware                                   30\n",
       "Toy                                           29\n",
       "Health Foods                                  29\n",
       "Automotive Products                           29\n",
       "Ball Game / Field Sports                      28\n",
       "Detergents / Hygiene Goods                    28\n",
       "Dried Sea Foods                               27\n",
       "Birth Supplies / Baby Products                26\n",
       "Substitute Foods                              26\n",
       "Furniture                                     26\n",
       "Outdoor / Leisure Activities                  26\n",
       "Women's Clothing                              25\n",
       "Beverages                                     23\n",
       "Health Care                                   21\n",
       "Liquors / Alcoholic Beverages                 21\n",
       "Frozen Foods                                  20\n",
       "Men's Clothing                                20\n",
       "Home Decor / Lighting                         18\n",
       "Coffee / Tea                                  18\n",
       "Tenants / Restaurants                         17\n",
       "Seasonal Sports                               17\n",
       "Canned / Jarred Foods                         15\n",
       "Grains                                        15\n",
       "Video / Audio System Electronics              14\n",
       "Computers                                     13\n",
       "Tools / Safety Supplies                       13\n",
       "Health / Fitness Training                     12\n",
       "Books / Records / Instruments                  9\n",
       "Heating / Cooling Electronics                  9\n",
       "Dairy Products                                 9\n",
       "Cell Phones / Accessories                      6\n",
       "Living / Rental Services                       6\n",
       "Refrigerators and Washing Machines             5\n",
       "Gift Certificates / Cards                      5\n",
       "Baby Foods                                     4\n",
       "Travel / Leisure Services                      3\n",
       "Tobacco                                        3\n",
       "Finance / Insurance Service                    3\n",
       "Others (Non-Products)                          2\n",
       "Other Products                                 1\n",
       "Name: clac_nm1, dtype: int64"
      ]
     },
     "execution_count": 227,
     "metadata": {},
     "output_type": "execute_result"
    }
   ],
   "source": [
    "raw_data4_Item_Class['clac_nm1'].value_counts()"
   ]
  },
  {
   "cell_type": "markdown",
   "metadata": {},
   "source": [
    " * 결측치 갯수 확인 => 없음"
   ]
  },
  {
   "cell_type": "code",
   "execution_count": 228,
   "metadata": {},
   "outputs": [
    {
     "data": {
      "text/plain": [
       "0"
      ]
     },
     "execution_count": 228,
     "metadata": {},
     "output_type": "execute_result"
    }
   ],
   "source": [
    "raw_data4_Item_Class['clac_nm1'].isna().sum()"
   ]
  },
  {
   "cell_type": "markdown",
   "metadata": {},
   "source": [
    "### 4-3. clac_nm2 : 상품 중분류명"
   ]
  },
  {
   "cell_type": "markdown",
   "metadata": {},
   "source": [
    " * 상품분류데이터 내 중분류명의 종류는 몇 개나 있는가?? => 332개"
   ]
  },
  {
   "cell_type": "code",
   "execution_count": 229,
   "metadata": {},
   "outputs": [
    {
     "data": {
      "text/plain": [
       "332"
      ]
     },
     "execution_count": 229,
     "metadata": {},
     "output_type": "execute_result"
    }
   ],
   "source": [
    "raw_data4_Item_Class['clac_nm2'].nunique()"
   ]
  },
  {
   "cell_type": "markdown",
   "metadata": {},
   "source": [
    " * 중분류명 별 상품분류데이터는 몇 건이 있는지? => 최대 19건, 최소 1건"
   ]
  },
  {
   "cell_type": "code",
   "execution_count": 230,
   "metadata": {},
   "outputs": [
    {
     "data": {
      "text/plain": [
       "Fish                          19\n",
       "Kitchen Appliances            17\n",
       "Imported Fruits               16\n",
       "Leaf Vegetables               16\n",
       "Domestic Fruits               16\n",
       "                              ..\n",
       "Non-Prescription Medicines     1\n",
       "Income from leasing            1\n",
       "Special Cigarettes             1\n",
       "Soy Milk                       1\n",
       "Outdoor Furniture              1\n",
       "Name: clac_nm2, Length: 332, dtype: int64"
      ]
     },
     "execution_count": 230,
     "metadata": {},
     "output_type": "execute_result"
    }
   ],
   "source": [
    "raw_data4_Item_Class['clac_nm2'].value_counts()"
   ]
  },
  {
   "cell_type": "markdown",
   "metadata": {},
   "source": [
    " * 결측치 갯수 확인 => 없음"
   ]
  },
  {
   "cell_type": "code",
   "execution_count": 231,
   "metadata": {},
   "outputs": [
    {
     "data": {
      "text/plain": [
       "0"
      ]
     },
     "execution_count": 231,
     "metadata": {},
     "output_type": "execute_result"
    }
   ],
   "source": [
    "raw_data4_Item_Class['clac_nm2'].isna().sum()"
   ]
  },
  {
   "cell_type": "markdown",
   "metadata": {},
   "source": [
    "### 4-4. clac_nm3 : 상품 소분류명"
   ]
  },
  {
   "cell_type": "markdown",
   "metadata": {},
   "source": [
    " * 상품분류데이터 내 소분류명의 종류는 몇 개나 있는가?? => 1662개\n",
    "     * 4-1. 소분류코드 종류 갯수 : 1667개\n",
    "     * 1662 + 3(같은이름 다른코드) + 2(결측치) = 1667"
   ]
  },
  {
   "cell_type": "code",
   "execution_count": 232,
   "metadata": {},
   "outputs": [
    {
     "data": {
      "text/plain": [
       "1662"
      ]
     },
     "execution_count": 232,
     "metadata": {},
     "output_type": "execute_result"
    }
   ],
   "source": [
    "raw_data4_Item_Class['clac_nm3'].nunique()"
   ]
  },
  {
   "cell_type": "markdown",
   "metadata": {},
   "source": [
    " * 소분류명 별 상품분류데이터는 몇 건이 있는지? => 최대 2건, 최소 1건\n",
    "     * 같은 상품 이름에 서로다른 소분류 코드 존재(Salads, Peppers, Lunch Boxes)"
   ]
  },
  {
   "cell_type": "code",
   "execution_count": 233,
   "metadata": {},
   "outputs": [
    {
     "data": {
      "text/plain": [
       "Salads                               2\n",
       "Peppers                              2\n",
       "Lunch Boxes                          2\n",
       "Domestic Travel Packages             1\n",
       "Pineapples                           1\n",
       "                                    ..\n",
       "Soccer Socks and Hosiery             1\n",
       "Seasoned Beefs                       1\n",
       "Frozen Hotdogs                       1\n",
       "Functional Cereals                   1\n",
       "Cooked Greens / Namuls / Pancakes    1\n",
       "Name: clac_nm3, Length: 1662, dtype: int64"
      ]
     },
     "execution_count": 233,
     "metadata": {},
     "output_type": "execute_result"
    }
   ],
   "source": [
    "raw_data4_Item_Class['clac_nm3'].value_counts()"
   ]
  },
  {
   "cell_type": "markdown",
   "metadata": {},
   "source": [
    " * 결측치 갯수 확인 => 2개"
   ]
  },
  {
   "cell_type": "code",
   "execution_count": 234,
   "metadata": {},
   "outputs": [
    {
     "data": {
      "text/plain": [
       "2"
      ]
     },
     "execution_count": 234,
     "metadata": {},
     "output_type": "execute_result"
    }
   ],
   "source": [
    "raw_data4_Item_Class['clac_nm3'].isna().sum()"
   ]
  },
  {
   "cell_type": "markdown",
   "metadata": {},
   "source": [
    "* 시각화 예시 - 막대 그래프"
   ]
  },
  {
   "cell_type": "code",
   "execution_count": 235,
   "metadata": {},
   "outputs": [
    {
     "data": {
      "image/png": "[encoded data removed]",
      "text/plain": [
       "<Figure size 432x288 with 1 Axes>"
      ]
     },
     "metadata": {},
     "output_type": "display_data"
    }
   ],
   "source": [
    "plt.style.use('ggplot')\n",
    "\n",
    "fig = plt.figure()\n",
    "\n",
    "ax = fig.add_subplot()\n",
    "ax.bar(raw_data1_Online_Act['biz_unit'].unique(), raw_data1_Online_Act['biz_unit'].value_counts())\n",
    "\n",
    "plt.show()"
   ]
  }
 ],
 "metadata": {
  "kernelspec": {
   "display_name": "Python 3",
   "language": "python",
   "name": "python3"
  },
  "language_info": {
   "codemirror_mode": {
    "name": "ipython",
    "version": 3
   },
   "file_extension": ".py",
   "mimetype": "text/x-python",
   "name": "python",
   "nbconvert_exporter": "python",
   "pygments_lexer": "ipython3",
   "version": "3.8.5"
  }
 },
 "nbformat": 4,
 "nbformat_minor": 4
}
