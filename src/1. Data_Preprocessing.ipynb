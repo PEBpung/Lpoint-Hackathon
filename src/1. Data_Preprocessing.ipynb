{
 "cells": [
  {
   "cell_type": "markdown",
   "metadata": {},
   "source": [
    "## Library & Setting"
   ]
  },
  {
   "cell_type": "code",
   "execution_count": 27,
   "metadata": {},
   "outputs": [],
   "source": [
    "import pandas as pd\n",
    "import numpy as np\n",
    "import seaborn as sns\n",
    "import os\n",
    "import warnings\n",
    "import missingno as msno\n",
    "from tqdm import tqdm_notebook as tq\n",
    "pd.set_option('display.max_row',300)\n",
    "%matplotlib inline\n",
    "warnings.filterwarnings(action='ignore')"
   ]
  },
  {
   "cell_type": "code",
   "execution_count": 2,
   "metadata": {},
   "outputs": [],
   "source": [
    "path=os.getenv(\"HOME\") + ('/repo/Lpoint-Hackathon/data/')\n",
    "filename = [\"01.Online.csv\",  \"02.Transaction.csv\",\"04.demographic.csv\", \"03.Product classification.csv\"]"
   ]
  },
  {
   "cell_type": "markdown",
   "metadata": {},
   "source": [
    "## Data Loading"
   ]
  },
  {
   "cell_type": "markdown",
   "metadata": {},
   "source": [
    "### 온라인 행동 정보(online)"
   ]
  },
  {
   "cell_type": "code",
   "execution_count": 3,
   "metadata": {},
   "outputs": [
    {
     "name": "stdout",
     "output_type": "stream",
     "text": [
      "<class 'pandas.core.frame.DataFrame'>\n",
      "RangeIndex: 3196362 entries, 0 to 3196361\n",
      "Data columns (total 14 columns):\n",
      " #   Column           Dtype   \n",
      "---  ------           -----   \n",
      " 0   clnt_id          int64   \n",
      " 1   sess_id          int64   \n",
      " 2   hit_seq          int64   \n",
      " 3   action_type      int64   \n",
      " 4   biz_unit         category\n",
      " 5   sess_dt          object  \n",
      " 6   hit_tm           object  \n",
      " 7   hit_pss_tm       int64   \n",
      " 8   trans_id         float64 \n",
      " 9   sech_kwd         object  \n",
      " 10  tot_pag_view_ct  float64 \n",
      " 11  tot_sess_hr_v    float64 \n",
      " 12  trfc_src         category\n",
      " 13  dvc_ctg_nm       object  \n",
      "dtypes: category(2), float64(3), int64(5), object(4)\n",
      "memory usage: 298.7+ MB\n"
     ]
    }
   ],
   "source": [
    "online_dtype = {'clnt_id':'int64', \n",
    "                'sess_id':'int64',\n",
    "                'hit_seq':'int64',\n",
    "                'action_type':'int64',\n",
    "                'biz_unit':'category', # 카테고리 형태\n",
    "                'sess_dt':'object', # 분석할 때 날짜 형태로 변경\n",
    "                'hit_tm':'object', # 분석할 때 시간 형태로 변경\n",
    "                'hit_pss_tm':'int64',\n",
    "                'trans_id':'float64', # NaN을 지원하는 float64로 설정\n",
    "                'sech_kwd':'object',\n",
    "                'tot_pag_view_ct':'float64', # NaN을 지원하는 float64로 설정\n",
    "                'tot_sess_hr_v':'float64', # NaN을 지원하는 float64로 설정\n",
    "                'trfc_src':'category', # 카테고리 형태\n",
    "                'dvc_ctg_nm':'object' # 추후에 카테고리로 변경\n",
    "               }\n",
    "\n",
    "online = pd.read_csv(path + filename[0], dtype=online_dtype)\n",
    "online.info()"
   ]
  },
  {
   "cell_type": "markdown",
   "metadata": {},
   "source": [
    "### 거래 정보(trade)"
   ]
  },
  {
   "cell_type": "code",
   "execution_count": 4,
   "metadata": {},
   "outputs": [
    {
     "name": "stdout",
     "output_type": "stream",
     "text": [
      "<class 'pandas.core.frame.DataFrame'>\n",
      "RangeIndex: 599961 entries, 0 to 599960\n",
      "Data columns (total 9 columns):\n",
      " #   Column     Non-Null Count   Dtype   \n",
      "---  ------     --------------   -----   \n",
      " 0   clnt_id    599961 non-null  int64   \n",
      " 1   trans_id   599961 non-null  float64 \n",
      " 2   trans_seq  599961 non-null  int64   \n",
      " 3   biz_unit   599961 non-null  category\n",
      " 4   pd_c       599961 non-null  object  \n",
      " 5   de_dt      599961 non-null  object  \n",
      " 6   de_tm      599961 non-null  object  \n",
      " 7   buy_am     599961 non-null  int64   \n",
      " 8   buy_ct     599961 non-null  int64   \n",
      "dtypes: category(1), float64(1), int64(4), object(3)\n",
      "memory usage: 37.2+ MB\n"
     ]
    }
   ],
   "source": [
    "trade_dtype = {'clnt_id':'int64',\n",
    "               'trans_id':'float64',\n",
    "               'biz_unit':'category',\n",
    "               'pd_c':'object', # 'unknown' 이라는 형태 존재\n",
    "               'de_dt':'object',\n",
    "               'de_tm':'object',\n",
    "               'buy_am':'int64',\n",
    "               'buy_ct':'int64'}\n",
    "\n",
    "trade = pd.read_csv(path + filename[1], dtype=trade_dtype)\n",
    "trade.info()"
   ]
  },
  {
   "cell_type": "markdown",
   "metadata": {},
   "source": [
    "### 고객 정보(customer)"
   ]
  },
  {
   "cell_type": "code",
   "execution_count": 5,
   "metadata": {},
   "outputs": [
    {
     "name": "stdout",
     "output_type": "stream",
     "text": [
      "<class 'pandas.core.frame.DataFrame'>\n",
      "RangeIndex: 72399 entries, 0 to 72398\n",
      "Data columns (total 3 columns):\n",
      " #   Column       Non-Null Count  Dtype \n",
      "---  ------       --------------  ----- \n",
      " 0   clnt_id      72399 non-null  int64 \n",
      " 1   clnt_gender  72399 non-null  object\n",
      " 2   clnt_age     72399 non-null  object\n",
      "dtypes: int64(1), object(2)\n",
      "memory usage: 1.7+ MB\n"
     ]
    }
   ],
   "source": [
    "customer_dtype = {'clnt_id':'int64',\n",
    "                  'clnt_gender':'object',\n",
    "                  'clnt_age':'object'}\n",
    "customer = pd.read_csv(path + filename[2], dtype=customer_dtype)\n",
    "customer.info()"
   ]
  },
  {
   "cell_type": "markdown",
   "metadata": {},
   "source": [
    "### 상품분류 정보(item)"
   ]
  },
  {
   "cell_type": "code",
   "execution_count": 6,
   "metadata": {},
   "outputs": [
    {
     "name": "stdout",
     "output_type": "stream",
     "text": [
      "<class 'pandas.core.frame.DataFrame'>\n",
      "RangeIndex: 1667 entries, 0 to 1666\n",
      "Data columns (total 4 columns):\n",
      " #   Column    Non-Null Count  Dtype   \n",
      "---  ------    --------------  -----   \n",
      " 0   pd_c      1667 non-null   float64 \n",
      " 1   clac_nm1  1667 non-null   category\n",
      " 2   clac_nm2  1667 non-null   category\n",
      " 3   clac_nm3  1665 non-null   category\n",
      "dtypes: category(3), float64(1)\n",
      "memory usage: 127.3 KB\n"
     ]
    }
   ],
   "source": [
    "item_dtype = {'pd_c':'float64', # 거래 정보 데이터와 일치하도록 설정\n",
    "              'clac_nm1':'category',\n",
    "              'clac_nm2':'category',\n",
    "              'clac_nm3':'category'}\n",
    "item = pd.read_csv(path + filename[3], dtype=item_dtype)\n",
    "item.info()"
   ]
  },
  {
   "cell_type": "markdown",
   "metadata": {},
   "source": [
    "## Data Cleansing"
   ]
  },
  {
   "cell_type": "markdown",
   "metadata": {},
   "source": [
    "### 온라인 행동 정보(online)"
   ]
  },
  {
   "cell_type": "markdown",
   "metadata": {},
   "source": [
    "#### 결측치 처리"
   ]
  },
  {
   "cell_type": "code",
   "execution_count": 7,
   "metadata": {},
   "outputs": [
    {
     "data": {
      "text/plain": [
       "<AxesSubplot:>"
      ]
     },
     "execution_count": 7,
     "metadata": {},
     "output_type": "execute_result"
    },
    {
     "data": {
      "image/png": "[encoded data removed]",
      "text/plain": [
       "<Figure size 864x432 with 3 Axes>"
      ]
     },
     "metadata": {
      "needs_background": "light"
     },
     "output_type": "display_data"
    }
   ],
   "source": [
    "msno.bar(online, figsize=(12,6), color='steelblue')"
   ]
  },
  {
   "cell_type": "markdown",
   "metadata": {},
   "source": [
    "- trans_id: trains_id에 NaN이 가장 많습니다. 실제로 행해진 거래에서만 적용되기 때문입니다. \n",
    "- sech_kwd: 키워드를 통해서 들어오지 않은 경우도 많기 때문에 결측치가 많습니다.\n",
    "- tot_pag_view_ct: 총페이지조회건수가 NaN이라면 0이 맞을까?? \n",
    "- tot_sess_hr_v: 총세션시간값이 NaN이라면 0이 맞을까??\n",
    "- dvc_ctg_nm: NaN은 활동이 없는 기기 유형이지만, 기록이 되어야 하므로 trfc_src의 unknown으로 대체합니다."
   ]
  },
  {
   "cell_type": "code",
   "execution_count": 51,
   "metadata": {},
   "outputs": [
    {
     "data": {
      "text/plain": [
       "<AxesSubplot:xlabel='biz_unit', ylabel='count'>"
      ]
     },
     "execution_count": 51,
     "metadata": {},
     "output_type": "execute_result"
    },
    {
     "data": {
      "image/png": "[encoded data removed]",
      "text/plain": [
       "<Figure size 432x288 with 1 Axes>"
      ]
     },
     "metadata": {
      "needs_background": "light"
     },
     "output_type": "display_data"
    }
   ],
   "source": [
    "sns.countplot(online['biz_unit'])"
   ]
  },
  {
   "cell_type": "markdown",
   "metadata": {},
   "source": [
    "### trans_id 결측치 확인"
   ]
  },
  {
   "cell_type": "code",
   "execution_count": 29,
   "metadata": {},
   "outputs": [
    {
     "data": {
      "text/plain": [
       "<AxesSubplot:xlabel='action_type', ylabel='count'>"
      ]
     },
     "execution_count": 29,
     "metadata": {},
     "output_type": "execute_result"
    },
    {
     "data": {
      "image/png": "[encoded data removed]",
      "text/plain": [
       "<Figure size 432x288 with 1 Axes>"
      ]
     },
     "metadata": {
      "needs_background": "light"
     },
     "output_type": "display_data"
    }
   ],
   "source": [
    "on_trans = online[online['trans_id'].notnull()]\n",
    "sns.countplot(on_trans['action_type'])"
   ]
  },
  {
   "cell_type": "markdown",
   "metadata": {},
   "source": [
    "그래프로 시각화 한 결과 trans_id는 온라인 행동정도(action_type)의 6번과 7번 정보를 가지고 있습니다.  \n",
    "그렇다면 trans_id는 6과 7일때 항상 거래정보(trans_id)를 가지고 있을까요?"
   ]
  },
  {
   "cell_type": "code",
   "execution_count": 39,
   "metadata": {},
   "outputs": [
    {
     "name": "stdout",
     "output_type": "stream",
     "text": [
      "거래정보 상 구매한 총 회원 수:  51313\n",
      "거래정보 상 환불한 총 회원 수:  5676\n"
     ]
    }
   ],
   "source": [
    "print('거래정보 상 구매한 총 회원 수: ', sum(on_trans['action_type']==6))\n",
    "print('거래정보 상 환불한 총 회원 수: ', sum(on_trans['action_type']==7))"
   ]
  },
  {
   "cell_type": "code",
   "execution_count": 40,
   "metadata": {},
   "outputs": [
    {
     "name": "stdout",
     "output_type": "stream",
     "text": [
      "실제로 구매한 총 회원 수:  56249\n",
      "실제로 환불한 총 회원 수:  5676\n"
     ]
    }
   ],
   "source": [
    "print('실제로 구매한 총 회원 수: ', sum(online['action_type'] == 6))\n",
    "print('실제로 환불한 총 회원 수: ', sum(online['action_type'] == 7))"
   ]
  },
  {
   "cell_type": "markdown",
   "metadata": {},
   "source": [
    "환불한 총 수는 같지만, 구매한 총 수에서는 4936 명이 비어있습니다.  \n",
    "trans_id를 채우면 좋겠지만, 잠시 보류하겠습니다. "
   ]
  },
  {
   "cell_type": "markdown",
   "metadata": {},
   "source": [
    "### 결측치 채우기"
   ]
  },
  {
   "cell_type": "code",
   "execution_count": 112,
   "metadata": {},
   "outputs": [],
   "source": [
    "online.loc[online['tot_pag_view_ct'].isnull(),'tot_pag_view_ct'] = 0\n",
    "online.loc[online['tot_sess_hr_v'].isnull(),'tot_sess_hr_v'] = 0\n",
    "online.loc[online['dvc_ctg_nm'].isnull(),'dvc_ctg_nm'] = 'unknown'\n",
    "online['tot_pag_view_ct'] = online['tot_pag_view_ct'].astype(np.int64)\n",
    "online['tot_sess_hr_v'] = online['tot_sess_hr_v'].astype(np.int64)\n",
    "online['dvc_ctg_nm'] = online['dvc_ctg_nm'].astype('category')"
   ]
  },
  {
   "cell_type": "code",
   "execution_count": 113,
   "metadata": {},
   "outputs": [
    {
     "data": {
      "text/plain": [
       "<AxesSubplot:>"
      ]
     },
     "execution_count": 113,
     "metadata": {},
     "output_type": "execute_result"
    },
    {
     "data": {
      "image/png": "[encoded data removed]",
      "text/plain": [
       "<Figure size 864x432 with 3 Axes>"
      ]
     },
     "metadata": {
      "needs_background": "light"
     },
     "output_type": "display_data"
    }
   ],
   "source": [
    "msno.bar(online, figsize=(12,6), color='steelblue')"
   ]
  },
  {
   "cell_type": "markdown",
   "metadata": {},
   "source": [
    "trans_id와 sech_kwd를 제외하고 나머지 feature의 결측치가 채워졌습니다. "
   ]
  },
  {
   "cell_type": "markdown",
   "metadata": {},
   "source": [
    "### 중복값 처리"
   ]
  },
  {
   "cell_type": "code",
   "execution_count": 117,
   "metadata": {},
   "outputs": [
    {
     "data": {
      "text/html": [
       "<div>\n",
       "<style scoped>\n",
       "    .dataframe tbody tr th:only-of-type {\n",
       "        vertical-align: middle;\n",
       "    }\n",
       "\n",
       "    .dataframe tbody tr th {\n",
       "        vertical-align: top;\n",
       "    }\n",
       "\n",
       "    .dataframe thead th {\n",
       "        text-align: right;\n",
       "    }\n",
       "</style>\n",
       "<table border=\"1\" class=\"dataframe\">\n",
       "  <thead>\n",
       "    <tr style=\"text-align: right;\">\n",
       "      <th></th>\n",
       "      <th>clnt_id</th>\n",
       "      <th>sess_id</th>\n",
       "      <th>count</th>\n",
       "    </tr>\n",
       "  </thead>\n",
       "  <tbody>\n",
       "    <tr>\n",
       "      <th>2</th>\n",
       "      <td>2</td>\n",
       "      <td>1</td>\n",
       "      <td>2</td>\n",
       "    </tr>\n",
       "    <tr>\n",
       "      <th>80</th>\n",
       "      <td>17</td>\n",
       "      <td>3</td>\n",
       "      <td>2</td>\n",
       "    </tr>\n",
       "    <tr>\n",
       "      <th>99</th>\n",
       "      <td>23</td>\n",
       "      <td>4</td>\n",
       "      <td>2</td>\n",
       "    </tr>\n",
       "    <tr>\n",
       "      <th>184</th>\n",
       "      <td>40</td>\n",
       "      <td>6</td>\n",
       "      <td>2</td>\n",
       "    </tr>\n",
       "    <tr>\n",
       "      <th>309</th>\n",
       "      <td>49</td>\n",
       "      <td>34</td>\n",
       "      <td>2</td>\n",
       "    </tr>\n",
       "  </tbody>\n",
       "</table>\n",
       "</div>"
      ],
      "text/plain": [
       "     clnt_id  sess_id  count\n",
       "2          2        1      2\n",
       "80        17        3      2\n",
       "99        23        4      2\n",
       "184       40        6      2\n",
       "309       49       34      2"
      ]
     },
     "execution_count": 117,
     "metadata": {},
     "output_type": "execute_result"
    }
   ],
   "source": [
    "part = online[['clnt_id','sess_id','tot_sess_hr_v']]\n",
    "blacklist = part.drop_duplicates().groupby(['clnt_id','sess_id']).size().to_frame('count').reset_index()\n",
    "bl = blacklist[blacklist['count']>=2]\n",
    "bl.head(5)"
   ]
  },
  {
   "cell_type": "markdown",
   "metadata": {},
   "source": [
    "본래 세션 하나당 총 페이지 뷰 수와 총 세션 시간은 동일해야 합니다.  그러나 중복되는 세션들이 있습니다. 어떠한 이유인지 한 가지를 예시로 살펴봅니다."
   ]
  },
  {
   "cell_type": "code",
   "execution_count": 118,
   "metadata": {},
   "outputs": [
    {
     "data": {
      "text/html": [
       "<div>\n",
       "<style scoped>\n",
       "    .dataframe tbody tr th:only-of-type {\n",
       "        vertical-align: middle;\n",
       "    }\n",
       "\n",
       "    .dataframe tbody tr th {\n",
       "        vertical-align: top;\n",
       "    }\n",
       "\n",
       "    .dataframe thead th {\n",
       "        text-align: right;\n",
       "    }\n",
       "</style>\n",
       "<table border=\"1\" class=\"dataframe\">\n",
       "  <thead>\n",
       "    <tr style=\"text-align: right;\">\n",
       "      <th></th>\n",
       "      <th>clnt_id</th>\n",
       "      <th>sess_id</th>\n",
       "      <th>hit_seq</th>\n",
       "      <th>action_type</th>\n",
       "      <th>biz_unit</th>\n",
       "      <th>sess_dt</th>\n",
       "      <th>hit_tm</th>\n",
       "      <th>hit_pss_tm</th>\n",
       "      <th>trans_id</th>\n",
       "      <th>sech_kwd</th>\n",
       "      <th>tot_pag_view_ct</th>\n",
       "      <th>tot_sess_hr_v</th>\n",
       "      <th>trfc_src</th>\n",
       "      <th>dvc_ctg_nm</th>\n",
       "    </tr>\n",
       "  </thead>\n",
       "  <tbody>\n",
       "    <tr>\n",
       "      <th>1427756</th>\n",
       "      <td>2</td>\n",
       "      <td>1</td>\n",
       "      <td>39</td>\n",
       "      <td>5</td>\n",
       "      <td>A03</td>\n",
       "      <td>20190728</td>\n",
       "      <td>23:48</td>\n",
       "      <td>827645</td>\n",
       "      <td>NaN</td>\n",
       "      <td>NaN</td>\n",
       "      <td>55</td>\n",
       "      <td>872</td>\n",
       "      <td>DIRECT</td>\n",
       "      <td>unknown</td>\n",
       "    </tr>\n",
       "    <tr>\n",
       "      <th>1427653</th>\n",
       "      <td>2</td>\n",
       "      <td>1</td>\n",
       "      <td>40</td>\n",
       "      <td>5</td>\n",
       "      <td>A03</td>\n",
       "      <td>20190728</td>\n",
       "      <td>23:48</td>\n",
       "      <td>862074</td>\n",
       "      <td>NaN</td>\n",
       "      <td>NaN</td>\n",
       "      <td>55</td>\n",
       "      <td>872</td>\n",
       "      <td>DIRECT</td>\n",
       "      <td>unknown</td>\n",
       "    </tr>\n",
       "    <tr>\n",
       "      <th>1427645</th>\n",
       "      <td>2</td>\n",
       "      <td>1</td>\n",
       "      <td>41</td>\n",
       "      <td>5</td>\n",
       "      <td>A03</td>\n",
       "      <td>20190728</td>\n",
       "      <td>23:48</td>\n",
       "      <td>865245</td>\n",
       "      <td>NaN</td>\n",
       "      <td>NaN</td>\n",
       "      <td>55</td>\n",
       "      <td>872</td>\n",
       "      <td>DIRECT</td>\n",
       "      <td>unknown</td>\n",
       "    </tr>\n",
       "    <tr>\n",
       "      <th>1427707</th>\n",
       "      <td>2</td>\n",
       "      <td>1</td>\n",
       "      <td>42</td>\n",
       "      <td>5</td>\n",
       "      <td>A03</td>\n",
       "      <td>20190728</td>\n",
       "      <td>23:49</td>\n",
       "      <td>867734</td>\n",
       "      <td>NaN</td>\n",
       "      <td>NaN</td>\n",
       "      <td>55</td>\n",
       "      <td>872</td>\n",
       "      <td>DIRECT</td>\n",
       "      <td>unknown</td>\n",
       "    </tr>\n",
       "    <tr>\n",
       "      <th>1427606</th>\n",
       "      <td>2</td>\n",
       "      <td>1</td>\n",
       "      <td>43</td>\n",
       "      <td>5</td>\n",
       "      <td>A03</td>\n",
       "      <td>20190729</td>\n",
       "      <td>00:01</td>\n",
       "      <td>6880</td>\n",
       "      <td>NaN</td>\n",
       "      <td>NaN</td>\n",
       "      <td>6</td>\n",
       "      <td>39</td>\n",
       "      <td>DIRECT</td>\n",
       "      <td>unknown</td>\n",
       "    </tr>\n",
       "  </tbody>\n",
       "</table>\n",
       "</div>"
      ],
      "text/plain": [
       "         clnt_id  sess_id  hit_seq  action_type biz_unit   sess_dt hit_tm  \\\n",
       "1427756        2        1       39            5      A03  20190728  23:48   \n",
       "1427653        2        1       40            5      A03  20190728  23:48   \n",
       "1427645        2        1       41            5      A03  20190728  23:48   \n",
       "1427707        2        1       42            5      A03  20190728  23:49   \n",
       "1427606        2        1       43            5      A03  20190729  00:01   \n",
       "\n",
       "         hit_pss_tm  trans_id sech_kwd  tot_pag_view_ct  tot_sess_hr_v  \\\n",
       "1427756      827645       NaN      NaN               55            872   \n",
       "1427653      862074       NaN      NaN               55            872   \n",
       "1427645      865245       NaN      NaN               55            872   \n",
       "1427707      867734       NaN      NaN               55            872   \n",
       "1427606        6880       NaN      NaN                6             39   \n",
       "\n",
       "        trfc_src dvc_ctg_nm  \n",
       "1427756   DIRECT    unknown  \n",
       "1427653   DIRECT    unknown  \n",
       "1427645   DIRECT    unknown  \n",
       "1427707   DIRECT    unknown  \n",
       "1427606   DIRECT    unknown  "
      ]
     },
     "execution_count": 118,
     "metadata": {},
     "output_type": "execute_result"
    }
   ],
   "source": [
    "online[(online['clnt_id']==2)&(online['sess_id']==1)].sort_values('hit_seq').tail(5)"
   ]
  },
  {
   "cell_type": "markdown",
   "metadata": {},
   "source": [
    "- 문제는  00:00에 있습니다. 자정이 넘어가면서, 총 페이지 뷰 수와 총 세션 시간이 다르게 기록됩니다.  \n",
    "그렇다면 이 둘을 더해야 정확한 자료가 될 것입니다.  \n",
    "저희는 이러한 중복값을 올바르게 된 총 페이지 뷰 수와, 총 세션 시간을 따로 저장하여 전처리했습니다."
   ]
  },
  {
   "cell_type": "code",
   "execution_count": 119,
   "metadata": {},
   "outputs": [
    {
     "data": {
      "application/vnd.jupyter.widget-view+json": {
       "model_id": "fc91cdd4e6444880942c8be8eb0310e6",
       "version_major": 2,
       "version_minor": 0
      },
      "text/plain": [
       "HBox(children=(HTML(value=''), FloatProgress(value=0.0, max=1646.0), HTML(value='')))"
      ]
     },
     "metadata": {},
     "output_type": "display_data"
    },
    {
     "name": "stdout",
     "output_type": "stream",
     "text": [
      "\n"
     ]
    }
   ],
   "source": [
    "cl,ss,pv,hr = [[],[],[],[]]\n",
    "for i in tq(range(len(bl))):\n",
    "    unit = bl.iloc[i]\n",
    "    data = online[(online['clnt_id']==unit['clnt_id'])&(online['sess_id']==unit['sess_id'])]\n",
    "    cl.append(unit['clnt_id'])\n",
    "    ss.append(unit['sess_id'])\n",
    "    pv.append(data['tot_pag_view_ct'].unique().sum())\n",
    "    hr.append(data['tot_sess_hr_v'].unique().sum())\n",
    "right = pd.DataFrame({'clnt_id':cl,\n",
    "                      'sess_id':ss,\n",
    "                      'tot_pag_view_ct':pv,\n",
    "                      'tot_sess_hr_v':hr})"
   ]
  },
  {
   "cell_type": "markdown",
   "metadata": {},
   "source": [
    "먼저, 제대로 기록되어야 하는 값을 clnt_id와 sess_id 에 맞게 저장합니다."
   ]
  },
  {
   "cell_type": "code",
   "execution_count": 120,
   "metadata": {},
   "outputs": [
    {
     "data": {
      "application/vnd.jupyter.widget-view+json": {
       "model_id": "960fab89822d41f193a73d0ea4f57745",
       "version_major": 2,
       "version_minor": 0
      },
      "text/plain": [
       "HBox(children=(HTML(value=''), FloatProgress(value=0.0, max=1646.0), HTML(value='')))"
      ]
     },
     "metadata": {},
     "output_type": "display_data"
    },
    {
     "name": "stdout",
     "output_type": "stream",
     "text": [
      "\n"
     ]
    }
   ],
   "source": [
    "for i in tq(range(len(right))):\n",
    "    unit = right.iloc[i]\n",
    "    online.loc[(online['clnt_id']==unit['clnt_id'])&(online['sess_id']==unit['sess_id']),'tot_pag_view_ct'] = unit['tot_pag_view_ct']\n",
    "    online.loc[(online['clnt_id']==unit['clnt_id'])&(online['sess_id']==unit['sess_id']),'tot_sess_hr_v'] = unit['tot_sess_hr_v']    "
   ]
  },
  {
   "cell_type": "code",
   "execution_count": 124,
   "metadata": {},
   "outputs": [
    {
     "data": {
      "text/html": [
       "<div>\n",
       "<style scoped>\n",
       "    .dataframe tbody tr th:only-of-type {\n",
       "        vertical-align: middle;\n",
       "    }\n",
       "\n",
       "    .dataframe tbody tr th {\n",
       "        vertical-align: top;\n",
       "    }\n",
       "\n",
       "    .dataframe thead th {\n",
       "        text-align: right;\n",
       "    }\n",
       "</style>\n",
       "<table border=\"1\" class=\"dataframe\">\n",
       "  <thead>\n",
       "    <tr style=\"text-align: right;\">\n",
       "      <th></th>\n",
       "      <th>clnt_id</th>\n",
       "      <th>sess_id</th>\n",
       "      <th>hit_seq</th>\n",
       "      <th>action_type</th>\n",
       "      <th>biz_unit</th>\n",
       "      <th>sess_dt</th>\n",
       "      <th>hit_tm</th>\n",
       "      <th>hit_pss_tm</th>\n",
       "      <th>trans_id</th>\n",
       "      <th>sech_kwd</th>\n",
       "      <th>tot_pag_view_ct</th>\n",
       "      <th>tot_sess_hr_v</th>\n",
       "      <th>trfc_src</th>\n",
       "      <th>dvc_ctg_nm</th>\n",
       "    </tr>\n",
       "  </thead>\n",
       "  <tbody>\n",
       "    <tr>\n",
       "      <th>1427756</th>\n",
       "      <td>2</td>\n",
       "      <td>1</td>\n",
       "      <td>39</td>\n",
       "      <td>5</td>\n",
       "      <td>A03</td>\n",
       "      <td>20190728</td>\n",
       "      <td>23:48</td>\n",
       "      <td>827645</td>\n",
       "      <td>NaN</td>\n",
       "      <td>NaN</td>\n",
       "      <td>61</td>\n",
       "      <td>911</td>\n",
       "      <td>DIRECT</td>\n",
       "      <td>unknown</td>\n",
       "    </tr>\n",
       "    <tr>\n",
       "      <th>1427653</th>\n",
       "      <td>2</td>\n",
       "      <td>1</td>\n",
       "      <td>40</td>\n",
       "      <td>5</td>\n",
       "      <td>A03</td>\n",
       "      <td>20190728</td>\n",
       "      <td>23:48</td>\n",
       "      <td>862074</td>\n",
       "      <td>NaN</td>\n",
       "      <td>NaN</td>\n",
       "      <td>61</td>\n",
       "      <td>911</td>\n",
       "      <td>DIRECT</td>\n",
       "      <td>unknown</td>\n",
       "    </tr>\n",
       "    <tr>\n",
       "      <th>1427645</th>\n",
       "      <td>2</td>\n",
       "      <td>1</td>\n",
       "      <td>41</td>\n",
       "      <td>5</td>\n",
       "      <td>A03</td>\n",
       "      <td>20190728</td>\n",
       "      <td>23:48</td>\n",
       "      <td>865245</td>\n",
       "      <td>NaN</td>\n",
       "      <td>NaN</td>\n",
       "      <td>61</td>\n",
       "      <td>911</td>\n",
       "      <td>DIRECT</td>\n",
       "      <td>unknown</td>\n",
       "    </tr>\n",
       "    <tr>\n",
       "      <th>1427707</th>\n",
       "      <td>2</td>\n",
       "      <td>1</td>\n",
       "      <td>42</td>\n",
       "      <td>5</td>\n",
       "      <td>A03</td>\n",
       "      <td>20190728</td>\n",
       "      <td>23:49</td>\n",
       "      <td>867734</td>\n",
       "      <td>NaN</td>\n",
       "      <td>NaN</td>\n",
       "      <td>61</td>\n",
       "      <td>911</td>\n",
       "      <td>DIRECT</td>\n",
       "      <td>unknown</td>\n",
       "    </tr>\n",
       "    <tr>\n",
       "      <th>1427606</th>\n",
       "      <td>2</td>\n",
       "      <td>1</td>\n",
       "      <td>43</td>\n",
       "      <td>5</td>\n",
       "      <td>A03</td>\n",
       "      <td>20190729</td>\n",
       "      <td>00:01</td>\n",
       "      <td>6880</td>\n",
       "      <td>NaN</td>\n",
       "      <td>NaN</td>\n",
       "      <td>61</td>\n",
       "      <td>911</td>\n",
       "      <td>DIRECT</td>\n",
       "      <td>unknown</td>\n",
       "    </tr>\n",
       "  </tbody>\n",
       "</table>\n",
       "</div>"
      ],
      "text/plain": [
       "         clnt_id  sess_id  hit_seq  action_type biz_unit   sess_dt hit_tm  \\\n",
       "1427756        2        1       39            5      A03  20190728  23:48   \n",
       "1427653        2        1       40            5      A03  20190728  23:48   \n",
       "1427645        2        1       41            5      A03  20190728  23:48   \n",
       "1427707        2        1       42            5      A03  20190728  23:49   \n",
       "1427606        2        1       43            5      A03  20190729  00:01   \n",
       "\n",
       "         hit_pss_tm  trans_id sech_kwd  tot_pag_view_ct  tot_sess_hr_v  \\\n",
       "1427756      827645       NaN      NaN               61            911   \n",
       "1427653      862074       NaN      NaN               61            911   \n",
       "1427645      865245       NaN      NaN               61            911   \n",
       "1427707      867734       NaN      NaN               61            911   \n",
       "1427606        6880       NaN      NaN               61            911   \n",
       "\n",
       "        trfc_src dvc_ctg_nm  \n",
       "1427756   DIRECT    unknown  \n",
       "1427653   DIRECT    unknown  \n",
       "1427645   DIRECT    unknown  \n",
       "1427707   DIRECT    unknown  \n",
       "1427606   DIRECT    unknown  "
      ]
     },
     "execution_count": 124,
     "metadata": {},
     "output_type": "execute_result"
    }
   ],
   "source": [
    "online[(online['clnt_id']==2)&(online['sess_id']==1)].sort_values('hit_seq').tail(5)"
   ]
  },
  {
   "cell_type": "markdown",
   "metadata": {},
   "source": [
    "자정이 넘어가도 같은 세션으로 처리되었습니다. "
   ]
  },
  {
   "cell_type": "markdown",
   "metadata": {},
   "source": [
    "### 거래 정보(trade)"
   ]
  },
  {
   "cell_type": "code",
   "execution_count": 125,
   "metadata": {},
   "outputs": [
    {
     "data": {
      "text/plain": [
       "array(['unknown', '0565', '0572', ..., '0689', '1078', '0305'],\n",
       "      dtype=object)"
      ]
     },
     "execution_count": 125,
     "metadata": {},
     "output_type": "execute_result"
    }
   ],
   "source": [
    "trade['pd_c'].unique()"
   ]
  },
  {
   "cell_type": "code",
   "execution_count": 126,
   "metadata": {},
   "outputs": [],
   "source": [
    "trade.loc[trade['pd_c']=='unknown','pd_c'] = np.NaN\n",
    "trade['pd_c']= trade['pd_c'].astype(np.float64)"
   ]
  },
  {
   "cell_type": "markdown",
   "metadata": {},
   "source": [
    "### 고객 정보(customer)"
   ]
  },
  {
   "cell_type": "code",
   "execution_count": 128,
   "metadata": {},
   "outputs": [
    {
     "name": "stdout",
     "output_type": "stream",
     "text": [
      "[NaN, 'F', 'M']\n",
      "Categories (2, object): ['F', 'M']\n",
      "[nan 30. 40. 20. 50. 60. 10.]\n"
     ]
    }
   ],
   "source": [
    "print(customer['clnt_gender'].unique())\n",
    "print(customer['clnt_age'].unique())"
   ]
  },
  {
   "cell_type": "markdown",
   "metadata": {},
   "source": [
    "'unknown'은 비식별 인원을 의미하는데, 추후 편리함을 위해 np.NaN으로 변경합니다.  \n",
    "그리고 성별은 카테고리 타입, 연령은 NaN을 지원하는 float 타입으로 변경합니다."
   ]
  },
  {
   "cell_type": "code",
   "execution_count": 129,
   "metadata": {},
   "outputs": [],
   "source": [
    "customer.loc[customer['clnt_gender']=='unknown','clnt_gender'] = np.NaN\n",
    "customer['clnt_gender'] = customer['clnt_gender'].astype('category')\n",
    "\n",
    "customer.loc[customer['clnt_age']=='unknown','clnt_age'] = np.NaN\n",
    "customer['clnt_age'] = customer['clnt_age'].astype(float)"
   ]
  },
  {
   "cell_type": "markdown",
   "metadata": {},
   "source": [
    "### Data Saving"
   ]
  },
  {
   "cell_type": "code",
   "execution_count": 131,
   "metadata": {},
   "outputs": [],
   "source": [
    "online = online.sort_values(['clnt_id','sess_id','hit_seq'])\n",
    "online.to_csv('../src/DATA/온라인 행동 정보(CKS).csv', index=False)"
   ]
  },
  {
   "cell_type": "code",
   "execution_count": 132,
   "metadata": {},
   "outputs": [],
   "source": [
    "trade = trade.sort_values(['clnt_id','trans_id','trans_seq'])\n",
    "trade.to_csv('../src/DATA/거래 정보(CKS).csv',index=False)"
   ]
  },
  {
   "cell_type": "code",
   "execution_count": 133,
   "metadata": {},
   "outputs": [],
   "source": [
    "customer = customer.sort_values('clnt_id')\n",
    "customer.to_csv('../src/DATA/고객 정보(CKS).csv',index=False)"
   ]
  },
  {
   "cell_type": "code",
   "execution_count": 134,
   "metadata": {},
   "outputs": [],
   "source": [
    "item = item.sort_values('pd_c')\n",
    "item.to_csv('../src/DATA/상품분류 정보(CKS).csv',index=False)"
   ]
  }
 ],
 "metadata": {
  "kernelspec": {
   "display_name": "aiffel",
   "language": "python",
   "name": "aiffel"
  },
  "language_info": {
   "codemirror_mode": {
    "name": "ipython",
    "version": 3
   },
   "file_extension": ".py",
   "mimetype": "text/x-python",
   "name": "python",
   "nbconvert_exporter": "python",
   "pygments_lexer": "ipython3",
   "version": "3.7.7"
  }
 },
 "nbformat": 4,
 "nbformat_minor": 4
}
