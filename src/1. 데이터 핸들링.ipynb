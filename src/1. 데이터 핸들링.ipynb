{
 "cells": [
  {
   "cell_type": "markdown",
   "metadata": {},
   "source": [
    "# 분석을 위한 데이터 핸들링 하기"
   ]
  },
  {
   "cell_type": "markdown",
   "metadata": {},
   "source": [
    "빠른 분석을 위해 몇가지 조건으로 데이터를 처리하겠습니다. \n",
    "- 칼럼 이름을 한글로 변경\n",
    "- 이주일치만 남기기 - 빠른 분석을 위함\n",
    "- A03에서 구매한 사람의 데이터만 구성\n",
    "- 한번도 구매 안한사람 제외 \n",
    "- 아이템을 영어에서 한글로 바꿈\n",
    "- 간단한 전처리"
   ]
  },
  {
   "cell_type": "code",
   "execution_count": 49,
   "metadata": {},
   "outputs": [],
   "source": [
    "import pandas as pd\n",
    "import numpy as np\n",
    "import seaborn as sns\n",
    "import os\n",
    "import warnings\n",
    "import missingno as msno\n",
    "import matplotlib.pyplot as plt\n",
    "import seaborn as sns\n",
    "from tqdm import tqdm_notebook as tq\n",
    "pd.set_option('display.max_row',300)\n",
    "%matplotlib inline\n",
    "warnings.filterwarnings(action='ignore')"
   ]
  },
  {
   "cell_type": "code",
   "execution_count": 50,
   "metadata": {},
   "outputs": [],
   "source": [
    "path=os.getenv(\"HOME\") + ('/repo/Hackathon/Lpoint Competition/data/')\n",
    "filename = [\"01.Grade_online.csv\",  \"02.Transaction.csv\",\"04.demographic.csv\", \"03.Product classification.csv\"]"
   ]
  },
  {
   "cell_type": "code",
   "execution_count": 51,
   "metadata": {},
   "outputs": [],
   "source": [
    "online = pd.read_csv(path + filename[0])\n",
    "trade = pd.read_csv(path + filename[1])\n",
    "customer = pd.read_csv(path + filename[2])\n",
    "item = pd.read_csv(path + filename[3])"
   ]
  },
  {
   "cell_type": "markdown",
   "metadata": {},
   "source": [
    "## 칼럼 이름을 한글로 변경"
   ]
  },
  {
   "cell_type": "markdown",
   "metadata": {},
   "source": [
    "데이터의 칼럼 명이 영어로 되어 있어서 직관적인 이해를 방해한다고 생각했습니다.  \n",
    "그래서 간단하게 칼럼을 한글로 바꿨습니다."
   ]
  },
  {
   "cell_type": "code",
   "execution_count": 52,
   "metadata": {},
   "outputs": [],
   "source": [
    "online.columns = ['고객', '세션', '조회번호', '행동', '상점', '날짜','조회시각', '경과시간', '거래정보', '키워드', '총뷰', '총세션', '경로', '장비', '등급']\n",
    "trade.columns = ['고객', '거래정보', '거래번호', '상점', '상품', '구매일자','구매시간', '구매금액', '구매수량']\n",
    "customer.columns = ['고객', '성별', '나이']\n",
    "item.columns = ['상품', '대분류', '중분류', '소분류']"
   ]
  },
  {
   "cell_type": "code",
   "execution_count": 53,
   "metadata": {},
   "outputs": [
    {
     "data": {
      "text/html": [
       "<div>\n",
       "<style scoped>\n",
       "    .dataframe tbody tr th:only-of-type {\n",
       "        vertical-align: middle;\n",
       "    }\n",
       "\n",
       "    .dataframe tbody tr th {\n",
       "        vertical-align: top;\n",
       "    }\n",
       "\n",
       "    .dataframe thead th {\n",
       "        text-align: right;\n",
       "    }\n",
       "</style>\n",
       "<table border=\"1\" class=\"dataframe\">\n",
       "  <thead>\n",
       "    <tr style=\"text-align: right;\">\n",
       "      <th></th>\n",
       "      <th>고객</th>\n",
       "      <th>세션</th>\n",
       "      <th>조회번호</th>\n",
       "      <th>행동</th>\n",
       "      <th>상점</th>\n",
       "      <th>날짜</th>\n",
       "      <th>조회시각</th>\n",
       "      <th>경과시간</th>\n",
       "      <th>거래정보</th>\n",
       "      <th>키워드</th>\n",
       "      <th>총뷰</th>\n",
       "      <th>총세션</th>\n",
       "      <th>경로</th>\n",
       "      <th>장비</th>\n",
       "      <th>등급</th>\n",
       "    </tr>\n",
       "  </thead>\n",
       "  <tbody>\n",
       "    <tr>\n",
       "      <th>0</th>\n",
       "      <td>1</td>\n",
       "      <td>1</td>\n",
       "      <td>1</td>\n",
       "      <td>0</td>\n",
       "      <td>A01</td>\n",
       "      <td>20190911</td>\n",
       "      <td>16:14</td>\n",
       "      <td>11880</td>\n",
       "      <td>NaN</td>\n",
       "      <td>과일선물세트</td>\n",
       "      <td>14</td>\n",
       "      <td>124</td>\n",
       "      <td>unknown</td>\n",
       "      <td>mobile_app</td>\n",
       "      <td>6.0</td>\n",
       "    </tr>\n",
       "    <tr>\n",
       "      <th>1</th>\n",
       "      <td>1</td>\n",
       "      <td>1</td>\n",
       "      <td>2</td>\n",
       "      <td>0</td>\n",
       "      <td>A01</td>\n",
       "      <td>20190911</td>\n",
       "      <td>16:15</td>\n",
       "      <td>22432</td>\n",
       "      <td>NaN</td>\n",
       "      <td>과일선물세트 백화점</td>\n",
       "      <td>14</td>\n",
       "      <td>124</td>\n",
       "      <td>unknown</td>\n",
       "      <td>mobile_app</td>\n",
       "      <td>6.0</td>\n",
       "    </tr>\n",
       "    <tr>\n",
       "      <th>2</th>\n",
       "      <td>1</td>\n",
       "      <td>1</td>\n",
       "      <td>3</td>\n",
       "      <td>0</td>\n",
       "      <td>A01</td>\n",
       "      <td>20190911</td>\n",
       "      <td>16:15</td>\n",
       "      <td>36140</td>\n",
       "      <td>NaN</td>\n",
       "      <td>과일바구니</td>\n",
       "      <td>14</td>\n",
       "      <td>124</td>\n",
       "      <td>unknown</td>\n",
       "      <td>mobile_app</td>\n",
       "      <td>6.0</td>\n",
       "    </tr>\n",
       "    <tr>\n",
       "      <th>3</th>\n",
       "      <td>1</td>\n",
       "      <td>2</td>\n",
       "      <td>1</td>\n",
       "      <td>0</td>\n",
       "      <td>A01</td>\n",
       "      <td>20190922</td>\n",
       "      <td>14:09</td>\n",
       "      <td>41584</td>\n",
       "      <td>NaN</td>\n",
       "      <td>초등가을잠바</td>\n",
       "      <td>45</td>\n",
       "      <td>424</td>\n",
       "      <td>unknown</td>\n",
       "      <td>mobile_app</td>\n",
       "      <td>6.0</td>\n",
       "    </tr>\n",
       "    <tr>\n",
       "      <th>4</th>\n",
       "      <td>1</td>\n",
       "      <td>2</td>\n",
       "      <td>2</td>\n",
       "      <td>0</td>\n",
       "      <td>A01</td>\n",
       "      <td>20190922</td>\n",
       "      <td>14:10</td>\n",
       "      <td>56113</td>\n",
       "      <td>NaN</td>\n",
       "      <td>초등가을점퍼</td>\n",
       "      <td>45</td>\n",
       "      <td>424</td>\n",
       "      <td>unknown</td>\n",
       "      <td>mobile_app</td>\n",
       "      <td>6.0</td>\n",
       "    </tr>\n",
       "  </tbody>\n",
       "</table>\n",
       "</div>"
      ],
      "text/plain": [
       "   고객  세션  조회번호  행동   상점        날짜   조회시각   경과시간  거래정보         키워드  총뷰  총세션  \\\n",
       "0   1   1     1   0  A01  20190911  16:14  11880   NaN      과일선물세트  14  124   \n",
       "1   1   1     2   0  A01  20190911  16:15  22432   NaN  과일선물세트 백화점  14  124   \n",
       "2   1   1     3   0  A01  20190911  16:15  36140   NaN       과일바구니  14  124   \n",
       "3   1   2     1   0  A01  20190922  14:09  41584   NaN      초등가을잠바  45  424   \n",
       "4   1   2     2   0  A01  20190922  14:10  56113   NaN      초등가을점퍼  45  424   \n",
       "\n",
       "        경로          장비   등급  \n",
       "0  unknown  mobile_app  6.0  \n",
       "1  unknown  mobile_app  6.0  \n",
       "2  unknown  mobile_app  6.0  \n",
       "3  unknown  mobile_app  6.0  \n",
       "4  unknown  mobile_app  6.0  "
      ]
     },
     "execution_count": 53,
     "metadata": {},
     "output_type": "execute_result"
    }
   ],
   "source": [
    "online.head()"
   ]
  },
  {
   "cell_type": "code",
   "execution_count": 54,
   "metadata": {},
   "outputs": [
    {
     "data": {
      "text/plain": [
       "(3196362, 15)"
      ]
     },
     "execution_count": 54,
     "metadata": {},
     "output_type": "execute_result"
    }
   ],
   "source": [
    "online.shape"
   ]
  },
  {
   "cell_type": "markdown",
   "metadata": {},
   "source": [
    "### 데이터를 이주일치만 남기기"
   ]
  },
  {
   "cell_type": "markdown",
   "metadata": {},
   "source": [
    "분석을 하다보면 많은 데이터의 양이 불필요한 시간낭비를 초래합니다.  \n",
    "그래서 3개월이 아닌 2주만 남기고 데이터를 정리했습니다. "
   ]
  },
  {
   "cell_type": "code",
   "execution_count": 55,
   "metadata": {},
   "outputs": [
    {
     "data": {
      "text/plain": [
       "(515904, 15)"
      ]
     },
     "execution_count": 55,
     "metadata": {},
     "output_type": "execute_result"
    }
   ],
   "source": [
    "online_week = online[online['날짜'] < 20190715]\n",
    "online_week = online_week.sort_values(by='날짜')\n",
    "online_week.shape"
   ]
  },
  {
   "cell_type": "markdown",
   "metadata": {},
   "source": [
    "### A03을 제외한 row 제거"
   ]
  },
  {
   "cell_type": "markdown",
   "metadata": {},
   "source": [
    "온라인 데이터에서는 총 3군데 (A01, A02, A03)의 상점 정보가 있습니다.  \n",
    "이 중에서 A03만 남기고 제외하겠습니다."
   ]
  },
  {
   "cell_type": "code",
   "execution_count": 56,
   "metadata": {},
   "outputs": [],
   "source": [
    "online_week = online_week[online_week['상점'] == 'A03']"
   ]
  },
  {
   "cell_type": "code",
   "execution_count": 57,
   "metadata": {},
   "outputs": [
    {
     "data": {
      "text/plain": [
       "(375281, 15)"
      ]
     },
     "execution_count": 57,
     "metadata": {},
     "output_type": "execute_result"
    }
   ],
   "source": [
    "online_week.shape"
   ]
  },
  {
   "cell_type": "markdown",
   "metadata": {},
   "source": [
    "### 영어에서 한글로 바꿈"
   ]
  },
  {
   "cell_type": "markdown",
   "metadata": {},
   "source": [
    "키워드는 한글로 되어있는 반면, 상품 정보는 영어로 되어 있습니다.  \n",
    "추후에 키워드와 상품 정보의 상관 관계를 파악하기 위해서 한글로 변경하겠습니다. "
   ]
  },
  {
   "cell_type": "code",
   "execution_count": 58,
   "metadata": {},
   "outputs": [
    {
     "data": {
      "text/html": [
       "<div>\n",
       "<style scoped>\n",
       "    .dataframe tbody tr th:only-of-type {\n",
       "        vertical-align: middle;\n",
       "    }\n",
       "\n",
       "    .dataframe tbody tr th {\n",
       "        vertical-align: top;\n",
       "    }\n",
       "\n",
       "    .dataframe thead th {\n",
       "        text-align: right;\n",
       "    }\n",
       "</style>\n",
       "<table border=\"1\" class=\"dataframe\">\n",
       "  <thead>\n",
       "    <tr style=\"text-align: right;\">\n",
       "      <th></th>\n",
       "      <th>상품</th>\n",
       "      <th>대분류</th>\n",
       "      <th>중분류</th>\n",
       "      <th>소분류</th>\n",
       "    </tr>\n",
       "  </thead>\n",
       "  <tbody>\n",
       "    <tr>\n",
       "      <th>0</th>\n",
       "      <td>1</td>\n",
       "      <td>Automotive Products</td>\n",
       "      <td>Automotive Replacement Repair / Maintanance Kits</td>\n",
       "      <td>Automobile Oil / Additives</td>\n",
       "    </tr>\n",
       "    <tr>\n",
       "      <th>1</th>\n",
       "      <td>2</td>\n",
       "      <td>Automotive Products</td>\n",
       "      <td>Automotive Replacement Repair / Maintanance Kits</td>\n",
       "      <td>Car Lights</td>\n",
       "    </tr>\n",
       "    <tr>\n",
       "      <th>2</th>\n",
       "      <td>3</td>\n",
       "      <td>Automotive Products</td>\n",
       "      <td>Automotive Replacement Repair / Maintanance Kits</td>\n",
       "      <td>Car Paint</td>\n",
       "    </tr>\n",
       "    <tr>\n",
       "      <th>3</th>\n",
       "      <td>4</td>\n",
       "      <td>Automotive Products</td>\n",
       "      <td>Automotive Replacement Repair / Maintanance Kits</td>\n",
       "      <td>Filters</td>\n",
       "    </tr>\n",
       "    <tr>\n",
       "      <th>4</th>\n",
       "      <td>5</td>\n",
       "      <td>Automotive Products</td>\n",
       "      <td>Automotive Replacement Repair / Maintanance Kits</td>\n",
       "      <td>Wiper Blades</td>\n",
       "    </tr>\n",
       "  </tbody>\n",
       "</table>\n",
       "</div>"
      ],
      "text/plain": [
       "   상품                  대분류                                               중분류  \\\n",
       "0   1  Automotive Products  Automotive Replacement Repair / Maintanance Kits   \n",
       "1   2  Automotive Products  Automotive Replacement Repair / Maintanance Kits   \n",
       "2   3  Automotive Products  Automotive Replacement Repair / Maintanance Kits   \n",
       "3   4  Automotive Products  Automotive Replacement Repair / Maintanance Kits   \n",
       "4   5  Automotive Products  Automotive Replacement Repair / Maintanance Kits   \n",
       "\n",
       "                          소분류  \n",
       "0  Automobile Oil / Additives  \n",
       "1                  Car Lights  \n",
       "2                   Car Paint  \n",
       "3                     Filters  \n",
       "4                Wiper Blades  "
      ]
     },
     "execution_count": 58,
     "metadata": {},
     "output_type": "execute_result"
    }
   ],
   "source": [
    "item.head()"
   ]
  },
  {
   "cell_type": "code",
   "execution_count": 64,
   "metadata": {},
   "outputs": [
    {
     "data": {
      "text/html": [
       "<div>\n",
       "<style scoped>\n",
       "    .dataframe tbody tr th:only-of-type {\n",
       "        vertical-align: middle;\n",
       "    }\n",
       "\n",
       "    .dataframe tbody tr th {\n",
       "        vertical-align: top;\n",
       "    }\n",
       "\n",
       "    .dataframe thead th {\n",
       "        text-align: right;\n",
       "    }\n",
       "</style>\n",
       "<table border=\"1\" class=\"dataframe\">\n",
       "  <thead>\n",
       "    <tr style=\"text-align: right;\">\n",
       "      <th></th>\n",
       "      <th>상품</th>\n",
       "      <th>대분류</th>\n",
       "      <th>중분류</th>\n",
       "      <th>소분류</th>\n",
       "    </tr>\n",
       "  </thead>\n",
       "  <tbody>\n",
       "    <tr>\n",
       "      <th>0</th>\n",
       "      <td>1</td>\n",
       "      <td>Automotive Products</td>\n",
       "      <td>Automotive Replacement Repair / Maintanance Kits</td>\n",
       "      <td>자동차 오일/첨가물</td>\n",
       "    </tr>\n",
       "    <tr>\n",
       "      <th>1</th>\n",
       "      <td>2</td>\n",
       "      <td>Automotive Products</td>\n",
       "      <td>Automotive Replacement Repair / Maintanance Kits</td>\n",
       "      <td>카 라이트</td>\n",
       "    </tr>\n",
       "    <tr>\n",
       "      <th>2</th>\n",
       "      <td>3</td>\n",
       "      <td>Automotive Products</td>\n",
       "      <td>Automotive Replacement Repair / Maintanance Kits</td>\n",
       "      <td>카 페인트</td>\n",
       "    </tr>\n",
       "    <tr>\n",
       "      <th>3</th>\n",
       "      <td>4</td>\n",
       "      <td>Automotive Products</td>\n",
       "      <td>Automotive Replacement Repair / Maintanance Kits</td>\n",
       "      <td>필터</td>\n",
       "    </tr>\n",
       "    <tr>\n",
       "      <th>4</th>\n",
       "      <td>5</td>\n",
       "      <td>Automotive Products</td>\n",
       "      <td>Automotive Replacement Repair / Maintanance Kits</td>\n",
       "      <td>와이퍼 블레이드</td>\n",
       "    </tr>\n",
       "  </tbody>\n",
       "</table>\n",
       "</div>"
      ],
      "text/plain": [
       "   상품                  대분류                                               중분류  \\\n",
       "0   1  Automotive Products  Automotive Replacement Repair / Maintanance Kits   \n",
       "1   2  Automotive Products  Automotive Replacement Repair / Maintanance Kits   \n",
       "2   3  Automotive Products  Automotive Replacement Repair / Maintanance Kits   \n",
       "3   4  Automotive Products  Automotive Replacement Repair / Maintanance Kits   \n",
       "4   5  Automotive Products  Automotive Replacement Repair / Maintanance Kits   \n",
       "\n",
       "          소분류  \n",
       "0  자동차 오일/첨가물  \n",
       "1       카 라이트  \n",
       "2       카 페인트  \n",
       "3          필터  \n",
       "4    와이퍼 블레이드  "
      ]
     },
     "execution_count": 64,
     "metadata": {},
     "output_type": "execute_result"
    }
   ],
   "source": [
    "papago = pd.read_csv('csv/papago.csv', header=None)\n",
    "item['소분류'] = papago[0]\n",
    "item.head()"
   ]
  },
  {
   "cell_type": "code",
   "execution_count": 89,
   "metadata": {},
   "outputs": [],
   "source": [
    "item['소분류'][963] = '닭고기 달걀'\n",
    "item['소분류'] = item['소분류'].fillna('nan')"
   ]
  },
  {
   "cell_type": "code",
   "execution_count": 90,
   "metadata": {},
   "outputs": [
    {
     "data": {
      "text/plain": [
       "0"
      ]
     },
     "execution_count": 90,
     "metadata": {},
     "output_type": "execute_result"
    }
   ],
   "source": [
    "item['소분류'].isna().sum()"
   ]
  },
  {
   "cell_type": "markdown",
   "metadata": {},
   "source": [
    "### 간단한 전처리"
   ]
  },
  {
   "cell_type": "markdown",
   "metadata": {},
   "source": [
    "앞선 전처리 이외에도 처리가 안된 데이터를 정리해줍니다."
   ]
  },
  {
   "cell_type": "code",
   "execution_count": 91,
   "metadata": {},
   "outputs": [],
   "source": [
    "import matplotlib.font_manager as fm\n",
    "%matplotlib inline\n",
    "warnings.filterwarnings(action='ignore')\n",
    "path = 'DATA/font/NanumGothic-ExtraBold.ttf'\n",
    "font_name = fm.FontProperties(fname=path, size=50).get_name()\n",
    "plt.rc('font', family=font_name)"
   ]
  },
  {
   "cell_type": "code",
   "execution_count": 92,
   "metadata": {},
   "outputs": [],
   "source": [
    "customer.loc[customer['성별']=='unknown','성별'] = np.NaN\n",
    "customer['성별'] = customer['성별'].astype('category')\n",
    "\n",
    "customer.loc[customer['나이']=='unknown','나이'] = np.NaN\n",
    "customer['나이'] = customer['나이'].astype(float)"
   ]
  },
  {
   "cell_type": "code",
   "execution_count": 93,
   "metadata": {},
   "outputs": [
    {
     "data": {
      "text/plain": [
       "<AxesSubplot:>"
      ]
     },
     "execution_count": 93,
     "metadata": {},
     "output_type": "execute_result"
    },
    {
     "data": {
      "image/png": "[encoded data removed]",
      "text/plain": [
       "<Figure size 864x432 with 3 Axes>"
      ]
     },
     "metadata": {
      "needs_background": "light"
     },
     "output_type": "display_data"
    }
   ],
   "source": [
    "msno.bar(online_week, figsize=(12,6), color='steelblue')"
   ]
  },
  {
   "cell_type": "markdown",
   "metadata": {},
   "source": [
    "## 데이터 합치기"
   ]
  },
  {
   "cell_type": "markdown",
   "metadata": {},
   "source": [
    "간단한 분석을 위해서 필요한 칼럼만 추출하고 merge하겠습니다.  \n",
    "이때 4개의 데이터를 합쳐서 한개의 데이터로 만들어줍니다. "
   ]
  },
  {
   "cell_type": "code",
   "execution_count": 94,
   "metadata": {},
   "outputs": [],
   "source": [
    "trade_int = trade.copy()\n",
    "trade_int = trade_int[trade_int['상품'] != 'unknown']\n",
    "trade_int['상품'] = trade_int['상품'].astype(np.int64)"
   ]
  },
  {
   "cell_type": "code",
   "execution_count": 95,
   "metadata": {},
   "outputs": [],
   "source": [
    "online_col = ['고객', '세션', '조회번호', '행동', '경과시간', '거래정보', '키워드', '총뷰', '총세션', '경로', '장비', '등급']\n",
    "trade_col = ['거래정보', '상점', '상품', '구매일자','구매시간', '구매금액', '구매수량']\n",
    "customer_col = ['고객', '성별', '나이']\n",
    "item_col = ['상품', '소분류']"
   ]
  },
  {
   "cell_type": "code",
   "execution_count": 96,
   "metadata": {},
   "outputs": [
    {
     "data": {
      "text/html": [
       "<div>\n",
       "<style scoped>\n",
       "    .dataframe tbody tr th:only-of-type {\n",
       "        vertical-align: middle;\n",
       "    }\n",
       "\n",
       "    .dataframe tbody tr th {\n",
       "        vertical-align: top;\n",
       "    }\n",
       "\n",
       "    .dataframe thead th {\n",
       "        text-align: right;\n",
       "    }\n",
       "</style>\n",
       "<table border=\"1\" class=\"dataframe\">\n",
       "  <thead>\n",
       "    <tr style=\"text-align: right;\">\n",
       "      <th></th>\n",
       "      <th>고객</th>\n",
       "      <th>행동</th>\n",
       "      <th>경과시간</th>\n",
       "      <th>키워드</th>\n",
       "      <th>총뷰</th>\n",
       "      <th>총세션</th>\n",
       "      <th>경로</th>\n",
       "      <th>장비</th>\n",
       "      <th>등급</th>\n",
       "      <th>구매일자</th>\n",
       "      <th>구매금액</th>\n",
       "      <th>구매수량</th>\n",
       "      <th>성별</th>\n",
       "      <th>나이</th>\n",
       "      <th>소분류</th>\n",
       "    </tr>\n",
       "  </thead>\n",
       "  <tbody>\n",
       "    <tr>\n",
       "      <th>0</th>\n",
       "      <td>9</td>\n",
       "      <td>6</td>\n",
       "      <td>1853427</td>\n",
       "      <td>NaN</td>\n",
       "      <td>40</td>\n",
       "      <td>1903</td>\n",
       "      <td>DIRECT</td>\n",
       "      <td>unknown</td>\n",
       "      <td>5.0</td>\n",
       "      <td>20190708</td>\n",
       "      <td>1000</td>\n",
       "      <td>1</td>\n",
       "      <td>F</td>\n",
       "      <td>40.0</td>\n",
       "      <td>쿠키</td>\n",
       "    </tr>\n",
       "    <tr>\n",
       "      <th>1</th>\n",
       "      <td>536</td>\n",
       "      <td>6</td>\n",
       "      <td>937000</td>\n",
       "      <td>NaN</td>\n",
       "      <td>39</td>\n",
       "      <td>2774</td>\n",
       "      <td>PUSH</td>\n",
       "      <td>unknown</td>\n",
       "      <td>4.0</td>\n",
       "      <td>20190702</td>\n",
       "      <td>3690</td>\n",
       "      <td>1</td>\n",
       "      <td>M</td>\n",
       "      <td>40.0</td>\n",
       "      <td>쿠키</td>\n",
       "    </tr>\n",
       "    <tr>\n",
       "      <th>2</th>\n",
       "      <td>536</td>\n",
       "      <td>6</td>\n",
       "      <td>937000</td>\n",
       "      <td>NaN</td>\n",
       "      <td>39</td>\n",
       "      <td>2774</td>\n",
       "      <td>PUSH</td>\n",
       "      <td>unknown</td>\n",
       "      <td>4.0</td>\n",
       "      <td>20190702</td>\n",
       "      <td>1690</td>\n",
       "      <td>1</td>\n",
       "      <td>M</td>\n",
       "      <td>40.0</td>\n",
       "      <td>쿠키</td>\n",
       "    </tr>\n",
       "    <tr>\n",
       "      <th>3</th>\n",
       "      <td>536</td>\n",
       "      <td>6</td>\n",
       "      <td>795971</td>\n",
       "      <td>NaN</td>\n",
       "      <td>39</td>\n",
       "      <td>803</td>\n",
       "      <td>PUSH</td>\n",
       "      <td>unknown</td>\n",
       "      <td>4.0</td>\n",
       "      <td>20190711</td>\n",
       "      <td>1150</td>\n",
       "      <td>1</td>\n",
       "      <td>M</td>\n",
       "      <td>40.0</td>\n",
       "      <td>쿠키</td>\n",
       "    </tr>\n",
       "    <tr>\n",
       "      <th>4</th>\n",
       "      <td>536</td>\n",
       "      <td>6</td>\n",
       "      <td>795971</td>\n",
       "      <td>NaN</td>\n",
       "      <td>39</td>\n",
       "      <td>803</td>\n",
       "      <td>PUSH</td>\n",
       "      <td>unknown</td>\n",
       "      <td>4.0</td>\n",
       "      <td>20190711</td>\n",
       "      <td>1990</td>\n",
       "      <td>1</td>\n",
       "      <td>M</td>\n",
       "      <td>40.0</td>\n",
       "      <td>쿠키</td>\n",
       "    </tr>\n",
       "  </tbody>\n",
       "</table>\n",
       "</div>"
      ],
      "text/plain": [
       "    고객  행동     경과시간  키워드  총뷰   총세션      경로       장비   등급      구매일자  구매금액  \\\n",
       "0    9   6  1853427  NaN  40  1903  DIRECT  unknown  5.0  20190708  1000   \n",
       "1  536   6   937000  NaN  39  2774    PUSH  unknown  4.0  20190702  3690   \n",
       "2  536   6   937000  NaN  39  2774    PUSH  unknown  4.0  20190702  1690   \n",
       "3  536   6   795971  NaN  39   803    PUSH  unknown  4.0  20190711  1150   \n",
       "4  536   6   795971  NaN  39   803    PUSH  unknown  4.0  20190711  1990   \n",
       "\n",
       "   구매수량 성별    나이 소분류  \n",
       "0     1  F  40.0  쿠키  \n",
       "1     1  M  40.0  쿠키  \n",
       "2     1  M  40.0  쿠키  \n",
       "3     1  M  40.0  쿠키  \n",
       "4     1  M  40.0  쿠키  "
      ]
     },
     "execution_count": 96,
     "metadata": {},
     "output_type": "execute_result"
    }
   ],
   "source": [
    "temp = pd.merge(online_week[online_col], trade_int[trade_col], on='거래정보')\n",
    "temp = pd.merge(temp, customer[customer_col], on='고객')\n",
    "df_data = pd.merge(temp, item[item_col], on='상품')\n",
    "\n",
    "df_data= df_data.drop(['세션', '거래정보', '상점', '상품' , '조회번호', '구매시간'], axis = 1)\n",
    "df_data.head()"
   ]
  },
  {
   "cell_type": "markdown",
   "metadata": {},
   "source": [
    "## 데이터 저장"
   ]
  },
  {
   "cell_type": "code",
   "execution_count": 97,
   "metadata": {},
   "outputs": [],
   "source": [
    "online_week = online_week.sort_values(['고객','세션','조회번호'])\n",
    "online_week.to_csv('./new_data/new_online.csv', index=False)\n",
    "\n",
    "trade = trade.sort_values(['고객','거래정보','거래번호'])\n",
    "trade.to_csv('./new_data/new_trade.csv',index=False)\n",
    "\n",
    "item.to_csv('./new_data/new_item.csv',index=False)\n",
    "\n",
    "customer.to_csv('./new_data/new_customer.csv',index=False)"
   ]
  },
  {
   "cell_type": "code",
   "execution_count": 98,
   "metadata": {},
   "outputs": [],
   "source": [
    "df_data = df_data.sort_values(['구매일자'])\n",
    "df_data.to_csv('./new_data/df_data.csv',index=False)"
   ]
  },
  {
   "cell_type": "code",
   "execution_count": null,
   "metadata": {},
   "outputs": [],
   "source": []
  }
 ],
 "metadata": {
  "kernelspec": {
   "display_name": "aiffel",
   "language": "python",
   "name": "aiffel"
  },
  "language_info": {
   "codemirror_mode": {
    "name": "ipython",
    "version": 3
   },
   "file_extension": ".py",
   "mimetype": "text/x-python",
   "name": "python",
   "nbconvert_exporter": "python",
   "pygments_lexer": "ipython3",
   "version": "3.7.7"
  }
 },
 "nbformat": 4,
 "nbformat_minor": 4
}
