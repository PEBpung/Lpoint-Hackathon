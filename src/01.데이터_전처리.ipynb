{
 "cells": [
  {
   "cell_type": "markdown",
   "metadata": {},
   "source": [
    "# 데이터 전처리"
   ]
  },
  {
   "cell_type": "markdown",
   "metadata": {},
   "source": [
    "데이터 전처리는 다음과 같은 순서로 진행됩니다.  \n",
    "- 데이터 dtype 설정\n",
    "- Data Cleansing으로 결측치 제거\n",
    "- 중복값 처리"
   ]
  },
  {
   "cell_type": "code",
   "execution_count": 2,
   "metadata": {},
   "outputs": [],
   "source": [
    "import pandas as pd\n",
    "import numpy as np\n",
    "import missingno as msno\n",
    "from tqdm import tqdm_notebook as tq\n",
    "pd.set_option('display.max_row',300)\n",
    "%matplotlib inline"
   ]
  },
  {
   "cell_type": "markdown",
   "metadata": {},
   "source": [
    "<br><br>\n",
    "## load data\n",
    "#### 온라인 행동 정보(online)"
   ]
  },
  {
   "cell_type": "code",
   "execution_count": 3,
   "metadata": {},
   "outputs": [
    {
     "name": "stderr",
     "output_type": "stream",
     "text": [
      "/home/aiffel0042/anaconda3/envs/aiffel/lib/python3.7/site-packages/IPython/core/interactiveshell.py:3147: DtypeWarning: Columns (9) have mixed types.Specify dtype option on import or set low_memory=False.\n",
      "  interactivity=interactivity, compiler=compiler, result=result)\n"
     ]
    },
    {
     "name": "stdout",
     "output_type": "stream",
     "text": [
      "<class 'pandas.core.frame.DataFrame'>\n",
      "RangeIndex: 3196362 entries, 0 to 3196361\n",
      "Data columns (total 14 columns):\n",
      " #   Column           Dtype  \n",
      "---  ------           -----  \n",
      " 0   clnt_id          int64  \n",
      " 1   sess_id          int64  \n",
      " 2   hit_seq          int64  \n",
      " 3   action_type      int64  \n",
      " 4   biz_unit         object \n",
      " 5   sess_dt          int64  \n",
      " 6   hit_tm           object \n",
      " 7   hit_pss_tm       int64  \n",
      " 8   trans_id         float64\n",
      " 9   sech_kwd         object \n",
      " 10  tot_pag_view_ct  float64\n",
      " 11  tot_sess_hr_v    float64\n",
      " 12  trfc_src         object \n",
      " 13  dvc_ctg_nm       object \n",
      "dtypes: float64(3), int64(6), object(5)\n",
      "memory usage: 341.4+ MB\n"
     ]
    }
   ],
   "source": [
    "online = pd.read_csv('./data/01.Online.csv')\n",
    "online.info()"
   ]
  },
  {
   "cell_type": "markdown",
   "metadata": {},
   "source": [
    "- 데이터를 불러올 때, 데이터의 자료형을 의미하는 dtype을 지정하지 않아 RAM 메모리가 부족하다는 low memory 경고가 발생합니다. 메모리 절약을 위해 dtype을 설정하도록 합니다."
   ]
  },
  {
   "cell_type": "code",
   "execution_count": 5,
   "metadata": {},
   "outputs": [
    {
     "name": "stdout",
     "output_type": "stream",
     "text": [
      "<class 'pandas.core.frame.DataFrame'>\n",
      "RangeIndex: 3196362 entries, 0 to 3196361\n",
      "Data columns (total 14 columns):\n",
      " #   Column           Dtype   \n",
      "---  ------           -----   \n",
      " 0   clnt_id          int64   \n",
      " 1   sess_id          int64   \n",
      " 2   hit_seq          int64   \n",
      " 3   action_type      int64   \n",
      " 4   biz_unit         category\n",
      " 5   sess_dt          object  \n",
      " 6   hit_tm           object  \n",
      " 7   hit_pss_tm       int64   \n",
      " 8   trans_id         float64 \n",
      " 9   sech_kwd         object  \n",
      " 10  tot_pag_view_ct  float64 \n",
      " 11  tot_sess_hr_v    float64 \n",
      " 12  trfc_src         category\n",
      " 13  dvc_ctg_nm       object  \n",
      "dtypes: category(2), float64(3), int64(5), object(4)\n",
      "memory usage: 298.7+ MB\n"
     ]
    }
   ],
   "source": [
    "online_dtype = {'clnt_id':'int64', \n",
    "                'sess_id':'int64',\n",
    "                'hit_seq':'int64',\n",
    "                'action_type':'int64',\n",
    "                'biz_unit':'category', # 카테고리 형태\n",
    "                'sess_dt':'object', # 분석할 때 날짜 형태로 변경\n",
    "                'hit_tm':'object', # 분석할 때 시간 형태로 변경\n",
    "                'hit_pss_tm':'int64',\n",
    "                'trans_id':'float64', # NaN을 지원하는 float64로 설정\n",
    "                'sech_kwd':'object',\n",
    "                'tot_pag_view_ct':'float64', # NaN을 지원하는 float64로 설정\n",
    "                'tot_sess_hr_v':'float64', # NaN을 지원하는 float64로 설정\n",
    "                'trfc_src':'category', # 카테고리 형태\n",
    "                'dvc_ctg_nm':'object' # 추후에 카테고리로 변경\n",
    "               }\n",
    "\n",
    "online = pd.read_csv('./data/01.Online.csv', dtype=online_dtype)\n",
    "online.info()"
   ]
  },
  {
   "cell_type": "markdown",
   "metadata": {},
   "source": [
    "- 다음과 같이 dtype을 지정하도록 합니다."
   ]
  },
  {
   "cell_type": "markdown",
   "metadata": {},
   "source": [
    "<br><br>\n",
    "#### 거래 정보(trade)"
   ]
  },
  {
   "cell_type": "code",
   "execution_count": 6,
   "metadata": {},
   "outputs": [],
   "source": [
    "trade = pd.read_csv('./data/02.Transaction.csv')"
   ]
  },
  {
   "cell_type": "code",
   "execution_count": 7,
   "metadata": {},
   "outputs": [
    {
     "name": "stdout",
     "output_type": "stream",
     "text": [
      "<class 'pandas.core.frame.DataFrame'>\n",
      "RangeIndex: 599961 entries, 0 to 599960\n",
      "Data columns (total 9 columns):\n",
      " #   Column     Non-Null Count   Dtype   \n",
      "---  ------     --------------   -----   \n",
      " 0   clnt_id    599961 non-null  int64   \n",
      " 1   trans_id   599961 non-null  float64 \n",
      " 2   trans_seq  599961 non-null  int64   \n",
      " 3   biz_unit   599961 non-null  category\n",
      " 4   pd_c       599961 non-null  object  \n",
      " 5   de_dt      599961 non-null  object  \n",
      " 6   de_tm      599961 non-null  object  \n",
      " 7   buy_am     599961 non-null  int64   \n",
      " 8   buy_ct     599961 non-null  int64   \n",
      "dtypes: category(1), float64(1), int64(4), object(3)\n",
      "memory usage: 37.2+ MB\n"
     ]
    }
   ],
   "source": [
    "trade_dtype = {'clnt_id':'int64',\n",
    "               'trans_id':'float64',\n",
    "               'biz_unit':'category',\n",
    "               'pd_c':'object', # 'unknown' 이라는 형태 존재\n",
    "               'de_dt':'object',\n",
    "               'de_tm':'object',\n",
    "               'buy_am':'int64',\n",
    "               'buy_ct':'int64'}\n",
    "trade = pd.read_csv('./data/02.Transaction.csv', dtype=trade_dtype)\n",
    "trade.info()"
   ]
  },
  {
   "cell_type": "markdown",
   "metadata": {},
   "source": [
    "- 다음과 같이 dtype을 지정하도록 합니다."
   ]
  },
  {
   "cell_type": "markdown",
   "metadata": {},
   "source": [
    "<br><br>\n",
    "#### 상품분류 정보(item)"
   ]
  },
  {
   "cell_type": "code",
   "execution_count": 10,
   "metadata": {},
   "outputs": [
    {
     "name": "stdout",
     "output_type": "stream",
     "text": [
      "<class 'pandas.core.frame.DataFrame'>\n",
      "RangeIndex: 1667 entries, 0 to 1666\n",
      "Data columns (total 4 columns):\n",
      " #   Column    Non-Null Count  Dtype \n",
      "---  ------    --------------  ----- \n",
      " 0   pd_c      1667 non-null   int64 \n",
      " 1   clac_nm1  1667 non-null   object\n",
      " 2   clac_nm2  1667 non-null   object\n",
      " 3   clac_nm3  1665 non-null   object\n",
      "dtypes: int64(1), object(3)\n",
      "memory usage: 52.2+ KB\n"
     ]
    }
   ],
   "source": [
    "item = pd.read_csv('./data/03.Product classification.csv')\n",
    "item.info()"
   ]
  },
  {
   "cell_type": "code",
   "execution_count": 11,
   "metadata": {},
   "outputs": [
    {
     "name": "stdout",
     "output_type": "stream",
     "text": [
      "<class 'pandas.core.frame.DataFrame'>\n",
      "RangeIndex: 1667 entries, 0 to 1666\n",
      "Data columns (total 4 columns):\n",
      " #   Column    Non-Null Count  Dtype   \n",
      "---  ------    --------------  -----   \n",
      " 0   pd_c      1667 non-null   float64 \n",
      " 1   clac_nm1  1667 non-null   category\n",
      " 2   clac_nm2  1667 non-null   category\n",
      " 3   clac_nm3  1665 non-null   category\n",
      "dtypes: category(3), float64(1)\n",
      "memory usage: 127.3 KB\n"
     ]
    }
   ],
   "source": [
    "item_dtype = {'pd_c':'float64', # 거래 정보 데이터와 일치하도록 설정\n",
    "              'clac_nm1':'category',\n",
    "              'clac_nm2':'category',\n",
    "              'clac_nm3':'category'}\n",
    "item = pd.read_csv('./data/03.Product classification.csv', dtype=item_dtype)\n",
    "item.info()"
   ]
  },
  {
   "cell_type": "markdown",
   "metadata": {},
   "source": [
    "<br><br>\n",
    "#### 고객 정보(customer)"
   ]
  },
  {
   "cell_type": "code",
   "execution_count": 8,
   "metadata": {},
   "outputs": [
    {
     "name": "stdout",
     "output_type": "stream",
     "text": [
      "<class 'pandas.core.frame.DataFrame'>\n",
      "RangeIndex: 72399 entries, 0 to 72398\n",
      "Data columns (total 3 columns):\n",
      " #   Column       Non-Null Count  Dtype \n",
      "---  ------       --------------  ----- \n",
      " 0   clnt_id      72399 non-null  int64 \n",
      " 1   clnt_gender  72399 non-null  object\n",
      " 2   clnt_age     72399 non-null  object\n",
      "dtypes: int64(1), object(2)\n",
      "memory usage: 1.7+ MB\n"
     ]
    }
   ],
   "source": [
    "customer = pd.read_csv('./data/04.demographic.csv')\n",
    "customer.info()"
   ]
  },
  {
   "cell_type": "code",
   "execution_count": 9,
   "metadata": {},
   "outputs": [
    {
     "name": "stdout",
     "output_type": "stream",
     "text": [
      "<class 'pandas.core.frame.DataFrame'>\n",
      "RangeIndex: 72399 entries, 0 to 72398\n",
      "Data columns (total 3 columns):\n",
      " #   Column       Non-Null Count  Dtype \n",
      "---  ------       --------------  ----- \n",
      " 0   clnt_id      72399 non-null  int64 \n",
      " 1   clnt_gender  72399 non-null  object\n",
      " 2   clnt_age     72399 non-null  object\n",
      "dtypes: int64(1), object(2)\n",
      "memory usage: 1.7+ MB\n"
     ]
    }
   ],
   "source": [
    "customer_dtype = {'clnt_id':'int64',\n",
    "                  'clnt_gender':'object',\n",
    "                  'clnt_age':'object'}\n",
    "customer = pd.read_csv('./data/04.demographic.csv',dtype=customer_dtype)\n",
    "customer.info()"
   ]
  },
  {
   "cell_type": "markdown",
   "metadata": {},
   "source": [
    "<br><br>\n",
    "\n",
    "## Data Cleansing\n",
    "#### 온라인 행동 정보(online)"
   ]
  },
  {
   "cell_type": "code",
   "execution_count": 12,
   "metadata": {},
   "outputs": [
    {
     "data": {
      "text/plain": [
       "<AxesSubplot:>"
      ]
     },
     "execution_count": 12,
     "metadata": {},
     "output_type": "execute_result"
    },
    {
     "data": {
      "image/png": "[encoded data removed]",
      "text/plain": [
       "<Figure size 864x432 with 3 Axes>"
      ]
     },
     "metadata": {
      "needs_background": "light"
     },
     "output_type": "display_data"
    }
   ],
   "source": [
    "msno.bar(online, figsize=(12,6), color='steelblue')"
   ]
  },
  {
   "cell_type": "markdown",
   "metadata": {},
   "source": [
    "- trans_id : trans_id는 고유의 거래 아이디이기 때문에 다른 수치로 대체할 수 없습니다.\n",
    "- tot_pag_view_ct : NaN은 활동이 없었던 내용이라 가정하고 0으로 대체합니다.\n",
    "- tot_sess_hr_v : NaN은 활동이 없었던 내용이라 가정하고 0으로 대체합니다.\n",
    "- dvc_ctg_nm : NaN은 활동이 없는 기기 유형이지만, 기록이 되어야 하므로 trfc_src의 unknown으로 대체합니다."
   ]
  },
  {
   "cell_type": "code",
   "execution_count": 13,
   "metadata": {},
   "outputs": [],
   "source": [
    "online.loc[online['tot_pag_view_ct'].isnull(),'tot_pag_view_ct'] = 0\n",
    "online.loc[online['tot_sess_hr_v'].isnull(),'tot_sess_hr_v'] = 0\n",
    "online.loc[online['dvc_ctg_nm'].isnull(),'dvc_ctg_nm'] = 'unknown'\n",
    "online['tot_pag_view_ct'] = online['tot_pag_view_ct'].astype(np.int64)\n",
    "online['tot_sess_hr_v'] = online['tot_sess_hr_v'].astype(np.int64)\n",
    "online['dvc_ctg_nm'] = online['dvc_ctg_nm'].astype('category')"
   ]
  },
  {
   "cell_type": "markdown",
   "metadata": {},
   "source": [
    "<br><br>\n",
    "#### 중복값 처리"
   ]
  },
  {
   "cell_type": "code",
   "execution_count": 14,
   "metadata": {},
   "outputs": [
    {
     "data": {
      "text/html": [
       "<div>\n",
       "<style scoped>\n",
       "    .dataframe tbody tr th:only-of-type {\n",
       "        vertical-align: middle;\n",
       "    }\n",
       "\n",
       "    .dataframe tbody tr th {\n",
       "        vertical-align: top;\n",
       "    }\n",
       "\n",
       "    .dataframe thead th {\n",
       "        text-align: right;\n",
       "    }\n",
       "</style>\n",
       "<table border=\"1\" class=\"dataframe\">\n",
       "  <thead>\n",
       "    <tr style=\"text-align: right;\">\n",
       "      <th></th>\n",
       "      <th>clnt_id</th>\n",
       "      <th>sess_id</th>\n",
       "      <th>count</th>\n",
       "    </tr>\n",
       "  </thead>\n",
       "  <tbody>\n",
       "    <tr>\n",
       "      <th>2</th>\n",
       "      <td>2</td>\n",
       "      <td>1</td>\n",
       "      <td>2</td>\n",
       "    </tr>\n",
       "    <tr>\n",
       "      <th>80</th>\n",
       "      <td>17</td>\n",
       "      <td>3</td>\n",
       "      <td>2</td>\n",
       "    </tr>\n",
       "    <tr>\n",
       "      <th>99</th>\n",
       "      <td>23</td>\n",
       "      <td>4</td>\n",
       "      <td>2</td>\n",
       "    </tr>\n",
       "    <tr>\n",
       "      <th>184</th>\n",
       "      <td>40</td>\n",
       "      <td>6</td>\n",
       "      <td>2</td>\n",
       "    </tr>\n",
       "    <tr>\n",
       "      <th>309</th>\n",
       "      <td>49</td>\n",
       "      <td>34</td>\n",
       "      <td>2</td>\n",
       "    </tr>\n",
       "  </tbody>\n",
       "</table>\n",
       "</div>"
      ],
      "text/plain": [
       "     clnt_id  sess_id  count\n",
       "2          2        1      2\n",
       "80        17        3      2\n",
       "99        23        4      2\n",
       "184       40        6      2\n",
       "309       49       34      2"
      ]
     },
     "execution_count": 14,
     "metadata": {},
     "output_type": "execute_result"
    }
   ],
   "source": [
    "part = online[['clnt_id','sess_id','tot_sess_hr_v']]\n",
    "blacklist = part.drop_duplicates().groupby(['clnt_id','sess_id']).size().to_frame('count').reset_index()\n",
    "bl = blacklist[blacklist['count']>=2]\n",
    "bl.head(5)"
   ]
  },
  {
   "cell_type": "markdown",
   "metadata": {},
   "source": [
    "본래 세션 하나당 총 페이지 뷰 수와 총 세션 시간은 동일해야 합니다. 그러나 중복되는 세션들이 있습니다. 어떠한 이유인지 한 가지를 예시로 살펴봅니다."
   ]
  },
  {
   "cell_type": "code",
   "execution_count": 15,
   "metadata": {},
   "outputs": [
    {
     "data": {
      "text/html": [
       "<div>\n",
       "<style scoped>\n",
       "    .dataframe tbody tr th:only-of-type {\n",
       "        vertical-align: middle;\n",
       "    }\n",
       "\n",
       "    .dataframe tbody tr th {\n",
       "        vertical-align: top;\n",
       "    }\n",
       "\n",
       "    .dataframe thead th {\n",
       "        text-align: right;\n",
       "    }\n",
       "</style>\n",
       "<table border=\"1\" class=\"dataframe\">\n",
       "  <thead>\n",
       "    <tr style=\"text-align: right;\">\n",
       "      <th></th>\n",
       "      <th>clnt_id</th>\n",
       "      <th>sess_id</th>\n",
       "      <th>hit_seq</th>\n",
       "      <th>action_type</th>\n",
       "      <th>biz_unit</th>\n",
       "      <th>sess_dt</th>\n",
       "      <th>hit_tm</th>\n",
       "      <th>hit_pss_tm</th>\n",
       "      <th>trans_id</th>\n",
       "      <th>sech_kwd</th>\n",
       "      <th>tot_pag_view_ct</th>\n",
       "      <th>tot_sess_hr_v</th>\n",
       "      <th>trfc_src</th>\n",
       "      <th>dvc_ctg_nm</th>\n",
       "    </tr>\n",
       "  </thead>\n",
       "  <tbody>\n",
       "    <tr>\n",
       "      <th>1427756</th>\n",
       "      <td>2</td>\n",
       "      <td>1</td>\n",
       "      <td>39</td>\n",
       "      <td>5</td>\n",
       "      <td>A03</td>\n",
       "      <td>20190728</td>\n",
       "      <td>23:48</td>\n",
       "      <td>827645</td>\n",
       "      <td>NaN</td>\n",
       "      <td>NaN</td>\n",
       "      <td>55</td>\n",
       "      <td>872</td>\n",
       "      <td>DIRECT</td>\n",
       "      <td>unknown</td>\n",
       "    </tr>\n",
       "    <tr>\n",
       "      <th>1427653</th>\n",
       "      <td>2</td>\n",
       "      <td>1</td>\n",
       "      <td>40</td>\n",
       "      <td>5</td>\n",
       "      <td>A03</td>\n",
       "      <td>20190728</td>\n",
       "      <td>23:48</td>\n",
       "      <td>862074</td>\n",
       "      <td>NaN</td>\n",
       "      <td>NaN</td>\n",
       "      <td>55</td>\n",
       "      <td>872</td>\n",
       "      <td>DIRECT</td>\n",
       "      <td>unknown</td>\n",
       "    </tr>\n",
       "    <tr>\n",
       "      <th>1427645</th>\n",
       "      <td>2</td>\n",
       "      <td>1</td>\n",
       "      <td>41</td>\n",
       "      <td>5</td>\n",
       "      <td>A03</td>\n",
       "      <td>20190728</td>\n",
       "      <td>23:48</td>\n",
       "      <td>865245</td>\n",
       "      <td>NaN</td>\n",
       "      <td>NaN</td>\n",
       "      <td>55</td>\n",
       "      <td>872</td>\n",
       "      <td>DIRECT</td>\n",
       "      <td>unknown</td>\n",
       "    </tr>\n",
       "    <tr>\n",
       "      <th>1427707</th>\n",
       "      <td>2</td>\n",
       "      <td>1</td>\n",
       "      <td>42</td>\n",
       "      <td>5</td>\n",
       "      <td>A03</td>\n",
       "      <td>20190728</td>\n",
       "      <td>23:49</td>\n",
       "      <td>867734</td>\n",
       "      <td>NaN</td>\n",
       "      <td>NaN</td>\n",
       "      <td>55</td>\n",
       "      <td>872</td>\n",
       "      <td>DIRECT</td>\n",
       "      <td>unknown</td>\n",
       "    </tr>\n",
       "    <tr>\n",
       "      <th>1427606</th>\n",
       "      <td>2</td>\n",
       "      <td>1</td>\n",
       "      <td>43</td>\n",
       "      <td>5</td>\n",
       "      <td>A03</td>\n",
       "      <td>20190729</td>\n",
       "      <td>00:01</td>\n",
       "      <td>6880</td>\n",
       "      <td>NaN</td>\n",
       "      <td>NaN</td>\n",
       "      <td>6</td>\n",
       "      <td>39</td>\n",
       "      <td>DIRECT</td>\n",
       "      <td>unknown</td>\n",
       "    </tr>\n",
       "  </tbody>\n",
       "</table>\n",
       "</div>"
      ],
      "text/plain": [
       "         clnt_id  sess_id  hit_seq  action_type biz_unit   sess_dt hit_tm  \\\n",
       "1427756        2        1       39            5      A03  20190728  23:48   \n",
       "1427653        2        1       40            5      A03  20190728  23:48   \n",
       "1427645        2        1       41            5      A03  20190728  23:48   \n",
       "1427707        2        1       42            5      A03  20190728  23:49   \n",
       "1427606        2        1       43            5      A03  20190729  00:01   \n",
       "\n",
       "         hit_pss_tm  trans_id sech_kwd  tot_pag_view_ct  tot_sess_hr_v  \\\n",
       "1427756      827645       NaN      NaN               55            872   \n",
       "1427653      862074       NaN      NaN               55            872   \n",
       "1427645      865245       NaN      NaN               55            872   \n",
       "1427707      867734       NaN      NaN               55            872   \n",
       "1427606        6880       NaN      NaN                6             39   \n",
       "\n",
       "        trfc_src dvc_ctg_nm  \n",
       "1427756   DIRECT    unknown  \n",
       "1427653   DIRECT    unknown  \n",
       "1427645   DIRECT    unknown  \n",
       "1427707   DIRECT    unknown  \n",
       "1427606   DIRECT    unknown  "
      ]
     },
     "execution_count": 15,
     "metadata": {},
     "output_type": "execute_result"
    }
   ],
   "source": [
    "online[(online['clnt_id']==2)&(online['sess_id']==1)].sort_values('hit_seq').tail(5)"
   ]
  },
  {
   "cell_type": "markdown",
   "metadata": {},
   "source": [
    "- 문제는  00:00에 있습니다. 자정이 넘어가면서, 총 페이지 뷰 수와 총 세션 시간이 다르게 기록됩니다. 그렇다면 이 둘을 더해야 정확한 자료가 될 것입니다. 저희는 이러한 중복값을 올바르게 된 총 페이지 뷰 수와, 총 세션 시간을 따로 저장하여 전처리했습니다."
   ]
  },
  {
   "cell_type": "code",
   "execution_count": 16,
   "metadata": {},
   "outputs": [
    {
     "name": "stderr",
     "output_type": "stream",
     "text": [
      "/home/aiffel0042/anaconda3/envs/aiffel/lib/python3.7/site-packages/ipykernel_launcher.py:2: TqdmDeprecationWarning: This function will be removed in tqdm==5.0.0\n",
      "Please use `tqdm.notebook.tqdm` instead of `tqdm.tqdm_notebook`\n",
      "  \n"
     ]
    },
    {
     "data": {
      "application/vnd.jupyter.widget-view+json": {
       "model_id": "7efb3d1fcc8b4de5bca8c0dbf92b417c",
       "version_major": 2,
       "version_minor": 0
      },
      "text/plain": [
       "HBox(children=(HTML(value=''), FloatProgress(value=0.0, max=1646.0), HTML(value='')))"
      ]
     },
     "metadata": {},
     "output_type": "display_data"
    },
    {
     "name": "stdout",
     "output_type": "stream",
     "text": [
      "\n"
     ]
    }
   ],
   "source": [
    "cl,ss,pv,hr = [[],[],[],[]]\n",
    "for i in tq(range(len(bl))):\n",
    "    unit = bl.iloc[i]\n",
    "    data = online[(online['clnt_id']==unit['clnt_id'])&(online['sess_id']==unit['sess_id'])]\n",
    "    cl.append(unit['clnt_id'])\n",
    "    ss.append(unit['sess_id'])\n",
    "    pv.append(data['tot_pag_view_ct'].unique().sum())\n",
    "    hr.append(data['tot_sess_hr_v'].unique().sum())\n",
    "right = pd.DataFrame({'clnt_id':cl,\n",
    "                      'sess_id':ss,\n",
    "                      'tot_pag_view_ct':pv,\n",
    "                      'tot_sess_hr_v':hr})"
   ]
  },
  {
   "cell_type": "markdown",
   "metadata": {},
   "source": [
    "- 먼저, 제대로 기록되어야 하는 값을 clnt_id와 sess_id 에 맞게 저장합니다."
   ]
  },
  {
   "cell_type": "code",
   "execution_count": 17,
   "metadata": {},
   "outputs": [
    {
     "name": "stderr",
     "output_type": "stream",
     "text": [
      "/home/aiffel0042/anaconda3/envs/aiffel/lib/python3.7/site-packages/ipykernel_launcher.py:1: TqdmDeprecationWarning: This function will be removed in tqdm==5.0.0\n",
      "Please use `tqdm.notebook.tqdm` instead of `tqdm.tqdm_notebook`\n",
      "  \"\"\"Entry point for launching an IPython kernel.\n"
     ]
    },
    {
     "data": {
      "application/vnd.jupyter.widget-view+json": {
       "model_id": "7d8c4856508745dbbbac1bd773dc2ced",
       "version_major": 2,
       "version_minor": 0
      },
      "text/plain": [
       "HBox(children=(HTML(value=''), FloatProgress(value=0.0, max=1646.0), HTML(value='')))"
      ]
     },
     "metadata": {},
     "output_type": "display_data"
    },
    {
     "name": "stdout",
     "output_type": "stream",
     "text": [
      "\n"
     ]
    }
   ],
   "source": [
    "for i in tq(range(len(right))):\n",
    "    unit = right.iloc[i]\n",
    "    online.loc[(online['clnt_id']==unit['clnt_id'])&(online['sess_id']==unit['sess_id']),'tot_pag_view_ct'] = unit['tot_pag_view_ct']\n",
    "    online.loc[(online['clnt_id']==unit['clnt_id'])&(online['sess_id']==unit['sess_id']),'tot_sess_hr_v'] = unit['tot_sess_hr_v']    "
   ]
  },
  {
   "cell_type": "markdown",
   "metadata": {},
   "source": [
    "- 그리고 clnt_id와 sess_id에 맞는 제대로 된 수치로 변경합니다."
   ]
  },
  {
   "cell_type": "markdown",
   "metadata": {},
   "source": [
    "<br><br>\n",
    "#### 거래 정보(trade)"
   ]
  },
  {
   "cell_type": "code",
   "execution_count": 18,
   "metadata": {},
   "outputs": [
    {
     "data": {
      "text/plain": [
       "array(['unknown', '0565', '0572', ..., '0689', '1078', '0305'],\n",
       "      dtype=object)"
      ]
     },
     "execution_count": 18,
     "metadata": {},
     "output_type": "execute_result"
    }
   ],
   "source": [
    "trade['pd_c'].unique()"
   ]
  },
  {
   "cell_type": "markdown",
   "metadata": {},
   "source": [
    "- pd_c의 unknown은 종류를 알지 못하는 것으로 NaN으로 대체합니다. 다만 숫자가 '0454' 꼴의 형태로 기록되면 추후에 매칭이 어려울 수 있기 때문에 pd_c를 NaN을 지원하는 float 타입으로 변경합니다."
   ]
  },
  {
   "cell_type": "code",
   "execution_count": 19,
   "metadata": {},
   "outputs": [],
   "source": [
    "trade.loc[trade['pd_c']=='unknown','pd_c'] = np.NaN\n",
    "trade['pd_c']= trade['pd_c'].astype(np.float64)"
   ]
  },
  {
   "cell_type": "markdown",
   "metadata": {},
   "source": [
    "<br><br>\n",
    "#### 고객 정보(customer)"
   ]
  },
  {
   "cell_type": "code",
   "execution_count": 20,
   "metadata": {},
   "outputs": [
    {
     "name": "stdout",
     "output_type": "stream",
     "text": [
      "['unknown' 'F' 'M']\n",
      "['unknown' '30' '40' '20' '50' '60' '10']\n"
     ]
    }
   ],
   "source": [
    "print(customer['clnt_gender'].unique())\n",
    "print(customer['clnt_age'].unique())"
   ]
  },
  {
   "cell_type": "markdown",
   "metadata": {},
   "source": [
    "- 'unknown'은 비식별 인원을 의미하는데, 추후 편리함을 위해 np.NaN으로 변경합니다. 그리고 성별은 카테고리 타입, 연령은 NaN을 지원하는 float 타입으로 변경합니다."
   ]
  },
  {
   "cell_type": "code",
   "execution_count": 21,
   "metadata": {},
   "outputs": [],
   "source": [
    "customer.loc[customer['clnt_gender']=='unknown','clnt_gender'] = np.NaN\n",
    "customer['clnt_gender'] = customer['clnt_gender'].astype('category')\n",
    "\n",
    "customer.loc[customer['clnt_age']=='unknown','clnt_age'] = np.NaN\n",
    "customer['clnt_age'] = customer['clnt_age'].astype(float)"
   ]
  },
  {
   "cell_type": "markdown",
   "metadata": {},
   "source": [
    "<br><br>\n",
    "\n",
    "## Data Saving"
   ]
  },
  {
   "cell_type": "markdown",
   "metadata": {},
   "source": [
    "- 각 key 값의 순서별로 순서를 매겨 저장합니다."
   ]
  },
  {
   "cell_type": "code",
   "execution_count": 22,
   "metadata": {},
   "outputs": [],
   "source": [
    "online = online.sort_values(['clnt_id','sess_id','hit_seq'])\n",
    "online.to_csv('./data/online_01.csv', index=False)"
   ]
  },
  {
   "cell_type": "code",
   "execution_count": 23,
   "metadata": {},
   "outputs": [],
   "source": [
    "trade = trade.sort_values(['clnt_id','trans_id','trans_seq'])\n",
    "trade.to_csv('./data/trade_01.csv',index=False)"
   ]
  },
  {
   "cell_type": "code",
   "execution_count": 24,
   "metadata": {},
   "outputs": [],
   "source": [
    "customer = customer.sort_values('clnt_id')\n",
    "customer.to_csv('./data/customer_01.csv',index=False)"
   ]
  },
  {
   "cell_type": "code",
   "execution_count": 25,
   "metadata": {},
   "outputs": [],
   "source": [
    "item = item.sort_values('pd_c')\n",
    "item.to_csv('./data/item_01.csv',index=False)"
   ]
  }
 ],
 "metadata": {
  "kernelspec": {
   "display_name": "Python 3",
   "language": "python",
   "name": "python3"
  },
  "language_info": {
   "codemirror_mode": {
    "name": "ipython",
    "version": 3
   },
   "file_extension": ".py",
   "mimetype": "text/x-python",
   "name": "python",
   "nbconvert_exporter": "python",
   "pygments_lexer": "ipython3",
   "version": "3.7.7"
  },
  "toc": {
   "base_numbering": 1,
   "nav_menu": {},
   "number_sections": true,
   "sideBar": true,
   "skip_h1_title": false,
   "title_cell": "Table of Contents",
   "title_sidebar": "Contents",
   "toc_cell": false,
   "toc_position": {
    "height": "calc(100% - 180px)",
    "left": "10px",
    "top": "150px",
    "width": "238.663px"
   },
   "toc_section_display": true,
   "toc_window_display": true
  },
  "varInspector": {
   "cols": {
    "lenName": 16,
    "lenType": 16,
    "lenVar": 40
   },
   "kernels_config": {
    "python": {
     "delete_cmd_postfix": "",
     "delete_cmd_prefix": "del ",
     "library": "var_list.py",
     "varRefreshCmd": "print(var_dic_list())"
    },
    "r": {
     "delete_cmd_postfix": ") ",
     "delete_cmd_prefix": "rm(",
     "library": "var_list.r",
     "varRefreshCmd": "cat(var_dic_list()) "
    }
   },
   "types_to_exclude": [
    "module",
    "function",
    "builtin_function_or_method",
    "instance",
    "_Feature"
   ],
   "window_display": false
  }
 },
 "nbformat": 4,
 "nbformat_minor": 4
}
