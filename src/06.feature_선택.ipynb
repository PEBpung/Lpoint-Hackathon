{
 "cells": [
  {
   "cell_type": "markdown",
   "metadata": {},
   "source": [
    "# Feature-Selection\n",
    "\n",
    "feature engineering은 모델의 성능을 향상시키는 매우 중요한 단계입니다. 그러나 feature가 너무 많으면 overfitting의 위험이 있고, 모델이 이상적인 방향으로 학습을 하지 않을 위험이 있습니다. 실제로도 feature가 너무 많은 경우 원래 모델보다 성능이 안좋게 나오는 경우가 많습니다. 따라서 feature selection을 해야 합니다.\n",
    "\n",
    "이 커널에서는 도움이 될 만한 feature들을 모두 추가해본 뒤, feature selection 테크닉들을 통해 중요한 feature만 뽑아내는 방법을 사용하겠습니다.\n",
    "<br><br>"
   ]
  },
  {
   "cell_type": "code",
   "execution_count": 2,
   "metadata": {
    "_cell_guid": "b1076dfc-b9ad-4769-8c92-a6c4dae69d19",
    "_uuid": "8f2839f25d086af736a60e9eeb907d3b93b6e0e5"
   },
   "outputs": [],
   "source": [
    "import numpy as np\n",
    "import pandas as pd\n",
    "import tensorflow as tf\n",
    "import lightgbm as lgb\n",
    "from sklearn.preprocessing import StandardScaler, PolynomialFeatures, LabelEncoder\n",
    "\n",
    "import matplotlib.pyplot as plt\n",
    "from sklearn.model_selection import train_test_split\n",
    "\n",
    "import warnings\n",
    "warnings.filterwarnings(\"ignore\")"
   ]
  },
  {
   "cell_type": "code",
   "execution_count": 3,
   "metadata": {},
   "outputs": [
    {
     "data": {
      "text/html": [
       "<div>\n",
       "<style scoped>\n",
       "    .dataframe tbody tr th:only-of-type {\n",
       "        vertical-align: middle;\n",
       "    }\n",
       "\n",
       "    .dataframe tbody tr th {\n",
       "        vertical-align: top;\n",
       "    }\n",
       "\n",
       "    .dataframe thead th {\n",
       "        text-align: right;\n",
       "    }\n",
       "</style>\n",
       "<table border=\"1\" class=\"dataframe\">\n",
       "  <thead>\n",
       "    <tr style=\"text-align: right;\">\n",
       "      <th></th>\n",
       "      <th>clnt_id</th>\n",
       "      <th>sess_id</th>\n",
       "      <th>hit_seq</th>\n",
       "      <th>action_type</th>\n",
       "      <th>biz_unit</th>\n",
       "      <th>sess_dt</th>\n",
       "      <th>hit_tm</th>\n",
       "      <th>hit_pss_tm</th>\n",
       "      <th>trans_id</th>\n",
       "      <th>sech_kwd</th>\n",
       "      <th>...</th>\n",
       "      <th>latest_act_hr_1</th>\n",
       "      <th>latest_act_hr_2</th>\n",
       "      <th>latest_act_hr_3</th>\n",
       "      <th>hum</th>\n",
       "      <th>temp</th>\n",
       "      <th>pty</th>\n",
       "      <th>r06</th>\n",
       "      <th>clnt_gender</th>\n",
       "      <th>clnt_age</th>\n",
       "      <th>clac_nm2</th>\n",
       "    </tr>\n",
       "  </thead>\n",
       "  <tbody>\n",
       "    <tr>\n",
       "      <th>121082</th>\n",
       "      <td>3390</td>\n",
       "      <td>1</td>\n",
       "      <td>1</td>\n",
       "      <td>0</td>\n",
       "      <td>A01</td>\n",
       "      <td>2019-07-01</td>\n",
       "      <td>00:00</td>\n",
       "      <td>0</td>\n",
       "      <td>NaN</td>\n",
       "      <td>지고트</td>\n",
       "      <td>...</td>\n",
       "      <td>-1.0</td>\n",
       "      <td>-1.0</td>\n",
       "      <td>-1.0</td>\n",
       "      <td>59.0</td>\n",
       "      <td>24.700001</td>\n",
       "      <td>0.0</td>\n",
       "      <td>0.0</td>\n",
       "      <td>NaN</td>\n",
       "      <td>NaN</td>\n",
       "      <td>NaN</td>\n",
       "    </tr>\n",
       "    <tr>\n",
       "      <th>194580</th>\n",
       "      <td>5535</td>\n",
       "      <td>1</td>\n",
       "      <td>1</td>\n",
       "      <td>5</td>\n",
       "      <td>A03</td>\n",
       "      <td>2019-07-01</td>\n",
       "      <td>00:00</td>\n",
       "      <td>6532</td>\n",
       "      <td>NaN</td>\n",
       "      <td>NaN</td>\n",
       "      <td>...</td>\n",
       "      <td>-1.0</td>\n",
       "      <td>-1.0</td>\n",
       "      <td>-1.0</td>\n",
       "      <td>59.0</td>\n",
       "      <td>24.700001</td>\n",
       "      <td>0.0</td>\n",
       "      <td>0.0</td>\n",
       "      <td>F</td>\n",
       "      <td>30.0</td>\n",
       "      <td>NaN</td>\n",
       "    </tr>\n",
       "    <tr>\n",
       "      <th>194581</th>\n",
       "      <td>5535</td>\n",
       "      <td>1</td>\n",
       "      <td>2</td>\n",
       "      <td>0</td>\n",
       "      <td>A03</td>\n",
       "      <td>2019-07-01</td>\n",
       "      <td>00:00</td>\n",
       "      <td>30494</td>\n",
       "      <td>NaN</td>\n",
       "      <td>양파</td>\n",
       "      <td>...</td>\n",
       "      <td>-1.0</td>\n",
       "      <td>-1.0</td>\n",
       "      <td>-1.0</td>\n",
       "      <td>59.0</td>\n",
       "      <td>24.700001</td>\n",
       "      <td>0.0</td>\n",
       "      <td>0.0</td>\n",
       "      <td>F</td>\n",
       "      <td>30.0</td>\n",
       "      <td>NaN</td>\n",
       "    </tr>\n",
       "    <tr>\n",
       "      <th>194582</th>\n",
       "      <td>5535</td>\n",
       "      <td>1</td>\n",
       "      <td>3</td>\n",
       "      <td>3</td>\n",
       "      <td>A03</td>\n",
       "      <td>2019-07-01</td>\n",
       "      <td>00:00</td>\n",
       "      <td>32370</td>\n",
       "      <td>NaN</td>\n",
       "      <td>NaN</td>\n",
       "      <td>...</td>\n",
       "      <td>-1.0</td>\n",
       "      <td>-1.0</td>\n",
       "      <td>-1.0</td>\n",
       "      <td>59.0</td>\n",
       "      <td>24.700001</td>\n",
       "      <td>0.0</td>\n",
       "      <td>0.0</td>\n",
       "      <td>F</td>\n",
       "      <td>30.0</td>\n",
       "      <td>NaN</td>\n",
       "    </tr>\n",
       "    <tr>\n",
       "      <th>194583</th>\n",
       "      <td>5535</td>\n",
       "      <td>1</td>\n",
       "      <td>4</td>\n",
       "      <td>0</td>\n",
       "      <td>A03</td>\n",
       "      <td>2019-07-01</td>\n",
       "      <td>00:00</td>\n",
       "      <td>41637</td>\n",
       "      <td>NaN</td>\n",
       "      <td>우엉</td>\n",
       "      <td>...</td>\n",
       "      <td>-1.0</td>\n",
       "      <td>-1.0</td>\n",
       "      <td>-1.0</td>\n",
       "      <td>59.0</td>\n",
       "      <td>24.700001</td>\n",
       "      <td>0.0</td>\n",
       "      <td>0.0</td>\n",
       "      <td>F</td>\n",
       "      <td>30.0</td>\n",
       "      <td>NaN</td>\n",
       "    </tr>\n",
       "  </tbody>\n",
       "</table>\n",
       "<p>5 rows × 40 columns</p>\n",
       "</div>"
      ],
      "text/plain": [
       "        clnt_id  sess_id  hit_seq  action_type biz_unit     sess_dt hit_tm  \\\n",
       "121082     3390        1        1            0      A01  2019-07-01  00:00   \n",
       "194580     5535        1        1            5      A03  2019-07-01  00:00   \n",
       "194581     5535        1        2            0      A03  2019-07-01  00:00   \n",
       "194582     5535        1        3            3      A03  2019-07-01  00:00   \n",
       "194583     5535        1        4            0      A03  2019-07-01  00:00   \n",
       "\n",
       "        hit_pss_tm  trans_id sech_kwd  ...  latest_act_hr_1  latest_act_hr_2  \\\n",
       "121082           0       NaN      지고트  ...             -1.0             -1.0   \n",
       "194580        6532       NaN      NaN  ...             -1.0             -1.0   \n",
       "194581       30494       NaN       양파  ...             -1.0             -1.0   \n",
       "194582       32370       NaN      NaN  ...             -1.0             -1.0   \n",
       "194583       41637       NaN       우엉  ...             -1.0             -1.0   \n",
       "\n",
       "       latest_act_hr_3   hum       temp  pty  r06  clnt_gender  clnt_age  \\\n",
       "121082            -1.0  59.0  24.700001  0.0  0.0          NaN       NaN   \n",
       "194580            -1.0  59.0  24.700001  0.0  0.0            F      30.0   \n",
       "194581            -1.0  59.0  24.700001  0.0  0.0            F      30.0   \n",
       "194582            -1.0  59.0  24.700001  0.0  0.0            F      30.0   \n",
       "194583            -1.0  59.0  24.700001  0.0  0.0            F      30.0   \n",
       "\n",
       "        clac_nm2  \n",
       "121082       NaN  \n",
       "194580       NaN  \n",
       "194581       NaN  \n",
       "194582       NaN  \n",
       "194583       NaN  \n",
       "\n",
       "[5 rows x 40 columns]"
      ]
     },
     "execution_count": 3,
     "metadata": {},
     "output_type": "execute_result"
    }
   ],
   "source": [
    "df3_merge = pd.read_csv('./data/df3_merge.csv')\n",
    "df3_merge = df3_merge.sort_values(['sess_dt', 'hit_tm'])\n",
    "df3_merge.head()"
   ]
  },
  {
   "cell_type": "code",
   "execution_count": 4,
   "metadata": {},
   "outputs": [],
   "source": [
    "# 유저 임베딩 데이터 load\n",
    "user2vec = pd.read_csv('./data/user2vec.csv')"
   ]
  },
  {
   "cell_type": "code",
   "execution_count": 5,
   "metadata": {},
   "outputs": [],
   "source": [
    "df_buyer = df3_merge[df3_merge['clac_nm2'].notna()]"
   ]
  },
  {
   "cell_type": "code",
   "execution_count": 6,
   "metadata": {},
   "outputs": [],
   "source": [
    "df_buyer.loc[df_buyer['pv_hr'].isnull(),'pv_hr'] = 0\n",
    "df_buyer.loc[df_buyer['latest_pv_hr_1'].isnull(),'latest_pv_hr_1'] = 0\n",
    "df_buyer.loc[df_buyer['latest_pv_hr_2'].isnull(),'latest_pv_hr_2'] = 0\n",
    "df_buyer.loc[df_buyer['latest_pv_hr_3'].isnull(),'latest_pv_hr_3'] = 0"
   ]
  },
  {
   "cell_type": "code",
   "execution_count": 7,
   "metadata": {},
   "outputs": [],
   "source": [
    "data=df_buyer.copy()\n",
    "\n",
    "lab_len = len(df_buyer['clac_nm2'].value_counts())\n",
    "label_key = df_buyer['clac_nm2'].value_counts().keys()"
   ]
  },
  {
   "cell_type": "code",
   "execution_count": 8,
   "metadata": {},
   "outputs": [],
   "source": [
    "drop_col=['clnt_id', 'sess_id', 'hit_seq', 'action_type', 'hit_tm', 'trans_id', 'sech_kwd', 'sess_dt']\n",
    "df_buyer = df_buyer.drop(drop_col, axis=1)"
   ]
  },
  {
   "cell_type": "code",
   "execution_count": 9,
   "metadata": {},
   "outputs": [],
   "source": [
    "CATEGORICAL_COLUMNS = [\n",
    "    \"biz_unit\", 'trfc_src', 'dvc_ctg_nm',\n",
    "    'prefer_dvc_trfc', 'clnt_gender', 'clnt_age', 'pty', 'clac_nm2'\n",
    "]"
   ]
  },
  {
   "cell_type": "code",
   "execution_count": 10,
   "metadata": {},
   "outputs": [],
   "source": [
    "for c in CATEGORICAL_COLUMNS:\n",
    "    le = LabelEncoder()\n",
    "    df_buyer[c] = le.fit_transform(df_buyer[c])"
   ]
  },
  {
   "cell_type": "code",
   "execution_count": 11,
   "metadata": {},
   "outputs": [],
   "source": [
    "# CONTINUOUS_COLUMNS = ['latest_pv_hr_3', 'cum_act_4', 'temp', 'cum_act_2', 'latest_act_hr_3',\n",
    "#        'hour', 'hum', 'day', 'cum_act_5', 'cum_act_3', 'hit_pss_tm',\n",
    "#        'cum_act_7', 'cum_act_1', 'latest_act_hr_1', 'pv_hr', 'tot_sess_hr_v',\n",
    "#        'holiday', 'latest_act_hr_2', 'r06', 'cum_act_6', 'cum_act_0',\n",
    "#        'latest_pv_hr_2', 'latest_pv_hr_1', 'tot_pag_view_ct']\n",
    "# scaler = StandardScaler()\n",
    "# df_buyer[CONTINUOUS_COLUMNS] = scaler.fit_transform(df_buyer[CONTINUOUS_COLUMNS])"
   ]
  },
  {
   "cell_type": "code",
   "execution_count": null,
   "metadata": {},
   "outputs": [],
   "source": []
  },
  {
   "cell_type": "code",
   "execution_count": 12,
   "metadata": {},
   "outputs": [],
   "source": [
    "x_data = df_buyer.drop(['clac_nm2'], axis=1)\n",
    "clac_nm2 = df_buyer['clac_nm2'].copy()\n",
    "y_data = df_buyer['clac_nm2']\n"
   ]
  },
  {
   "cell_type": "markdown",
   "metadata": {},
   "source": [
    "<br><br>\n",
    "## Train 데이터, Test 데이터 분할"
   ]
  },
  {
   "cell_type": "code",
   "execution_count": 13,
   "metadata": {},
   "outputs": [],
   "source": [
    "train_x, test_x , train_y , test_y = train_test_split(x_data , y_data , test_size=0.05, shuffle=False)"
   ]
  },
  {
   "cell_type": "code",
   "execution_count": 14,
   "metadata": {},
   "outputs": [
    {
     "name": "stdout",
     "output_type": "stream",
     "text": [
      "Train 데이터:  (116940, 61)\n",
      "Test 데이터:  (6155, 61)\n",
      "Train 라벨:  (116940,)\n",
      "Test 라벨:  (6155,)\n"
     ]
    }
   ],
   "source": [
    "print('Train 데이터: ', train_x.shape)\n",
    "print('Test 데이터: ', test_x.shape)\n",
    "print('Train 라벨: ', train_y.shape)\n",
    "print('Test 라벨: ', test_y.shape)"
   ]
  },
  {
   "cell_type": "code",
   "execution_count": 15,
   "metadata": {},
   "outputs": [],
   "source": [
    "train_x, val_x , train_y , val_y = train_test_split(train_x , train_y , test_size=0.1, shuffle=False)"
   ]
  },
  {
   "cell_type": "code",
   "execution_count": 16,
   "metadata": {},
   "outputs": [
    {
     "name": "stdout",
     "output_type": "stream",
     "text": [
      "Train 데이터:  (105246, 61)\n",
      "Val 데이터:  (11694, 61)\n",
      "Train 라벨:  (105246,)\n",
      "Val 라벨:  (11694,)\n"
     ]
    }
   ],
   "source": [
    "print('Train 데이터: ', train_x.shape)\n",
    "print('Val 데이터: ', val_x.shape)\n",
    "print('Train 라벨: ', train_y.shape)\n",
    "print('Val 라벨: ', val_y.shape)"
   ]
  },
  {
   "cell_type": "markdown",
   "metadata": {},
   "source": [
    "# 도움 함수 정의"
   ]
  },
  {
   "cell_type": "code",
   "execution_count": 17,
   "metadata": {},
   "outputs": [],
   "source": [
    "def top_5_accuracy(y_true, y_pred):\n",
    "    score = tf.keras.metrics.top_k_categorical_accuracy(y_true, y_pred, k=5)\n",
    "    return  (sum(score) / len(score)).numpy()\n",
    "\n",
    "def evaluate(x_data, y_data):\n",
    "    params = {\n",
    "            'n_estimators' : 10,\n",
    "            'boosting_type': 'goss',\n",
    "            'objective': 'multiclass',\n",
    "            'num_class':288,\n",
    "            'metric': 'multiclass_ova', \n",
    "            'learning_rate' : 1e-3\n",
    "            }\n",
    "    x_train, x_val, y_train, y_val = train_test_split(x_data, y_data, test_size = 0.1, shuffle=False)\n",
    "\n",
    "    predictors = x_train.columns.tolist()\n",
    "    dtrain = lgb.Dataset(x_train.values, label=y_train, feature_name=predictors)\n",
    "    dvalid = lgb.Dataset(x_val.values, label=y_val, feature_name=predictors)\n",
    "\n",
    "    lgb_model = lgb.train(params=params,\n",
    "                  train_set=dtrain,\n",
    "                  early_stopping_rounds=10, # typical\n",
    "                  num_boost_round=1000,\n",
    "                  valid_sets=[dvalid],\n",
    "                  verbose_eval=False\n",
    "                 )\n",
    "    preds = lgb_model.predict(x_val)\n",
    "    \n",
    "    \n",
    "    label = y_val.copy()\n",
    "    label = np.eye(1058)[label]\n",
    "    score = top_5_accuracy(label, preds)\n",
    "    \n",
    "    del lgb_model\n",
    "    return score"
   ]
  },
  {
   "cell_type": "code",
   "execution_count": 18,
   "metadata": {},
   "outputs": [
    {
     "data": {
      "text/plain": [
       "61"
      ]
     },
     "execution_count": 18,
     "metadata": {},
     "output_type": "execute_result"
    }
   ],
   "source": [
    "feats = [col for col in df_buyer.columns if col != 'clac_nm2']\n",
    "len(feats)"
   ]
  },
  {
   "cell_type": "markdown",
   "metadata": {},
   "source": [
    "# Baseline"
   ]
  },
  {
   "cell_type": "code",
   "execution_count": 63,
   "metadata": {},
   "outputs": [],
   "source": [
    "params = {\n",
    "    'n_estimators' : 1000,\n",
    "    'boosting_type': 'goss',\n",
    "    'objective': 'multiclass',\n",
    "    'num_class':288,\n",
    "    'metric': 'softmax', \n",
    "    'learning_rate' : 1e-3\n",
    "    }\n",
    "\n",
    "predictors = train_x.columns.tolist()\n",
    "dtrain = lgb.Dataset(train_x.values, label=train_y, feature_name=predictors)\n",
    "dvalid = lgb.Dataset(val_x.values, label=val_y, feature_name=predictors)"
   ]
  },
  {
   "cell_type": "code",
   "execution_count": 64,
   "metadata": {},
   "outputs": [],
   "source": [
    "lgb_model = lgb.train(params=params,\n",
    "                      train_set=dtrain,\n",
    "                      early_stopping_rounds=50, # typical\n",
    "                      num_boost_round=1000,\n",
    "                      valid_sets=[dvalid],\n",
    "                      verbose_eval=False\n",
    "                     )"
   ]
  },
  {
   "cell_type": "code",
   "execution_count": 65,
   "metadata": {},
   "outputs": [],
   "source": [
    "prob = lgb_model.predict(test_x)"
   ]
  },
  {
   "cell_type": "markdown",
   "metadata": {},
   "source": [
    "<br><br>\n",
    "## 정확도 평가"
   ]
  },
  {
   "cell_type": "code",
   "execution_count": 66,
   "metadata": {},
   "outputs": [],
   "source": [
    "''' \n",
    "pred_matrix: 예측된 아이템 행렬 파라미터.\n",
    "top_n: 상위 몇개를 추천으로 사용할 지 정하는 파라미터.\n",
    "test_matix: 고객ID와 Target이 있는 행렬 파라미터\n",
    "'''\n",
    "def get_acc(score_matrix, top_n, test_matix):\n",
    "    avg_acc = 0\n",
    "    for i in range(len(score_matrix)):\n",
    "        top = score_matrix.iloc[i].nlargest(top_n).index\n",
    "        tmp = 0\n",
    "        for j in range(len(top)):\n",
    "            true_buy = [i.split(\"/\")[0] for i in test_matix[\"clac_nm2\"][0].split()]\n",
    "            if top[j] in true_buy :\n",
    "                tmp += 1\n",
    "\n",
    "        acc = tmp / len(top)\n",
    "        avg_acc += acc / len(score_matrix)\n",
    "    print(\"Hit rate of Top {}: {:>.5f}\".format(top_n, avg_acc))\n",
    "    return avg_acc"
   ]
  },
  {
   "cell_type": "code",
   "execution_count": 67,
   "metadata": {},
   "outputs": [],
   "source": [
    "label = clac_nm2.copy()\n",
    "label = np.eye(lab_len)[label]\n",
    "label = pd.DataFrame(data=label, columns=label_key, index=df_buyer.index)"
   ]
  },
  {
   "cell_type": "code",
   "execution_count": 68,
   "metadata": {},
   "outputs": [],
   "source": [
    "trina_y, test_y= train_test_split( label , test_size=0.05, shuffle=False)"
   ]
  },
  {
   "cell_type": "code",
   "execution_count": 69,
   "metadata": {},
   "outputs": [],
   "source": [
    "test_x.loc[:,'clnt_id'] = data.loc[test_x.index, 'clnt_id']\n",
    "test_x.loc[:,'trans_id'] = data.loc[test_x.index, 'trans_id']"
   ]
  },
  {
   "cell_type": "code",
   "execution_count": 70,
   "metadata": {},
   "outputs": [],
   "source": [
    "# one-hot에서 같은 trans_id는 더해줌.\n",
    "receipt_y = test_y.copy()\n",
    "receipt_y['trans_id'] = test_x['trans_id']\n",
    "frame = pd.DataFrame(data = receipt_y['trans_id'], columns=['trans_id'])\n",
    "receipt_y = receipt_y.groupby('trans_id', as_index=False).sum()\n",
    "receipt_y = frame.merge(receipt_y, how='left').set_index(test_x.index)\n",
    "receipt_y.drop('trans_id', axis=1, inplace=True)"
   ]
  },
  {
   "cell_type": "code",
   "execution_count": 71,
   "metadata": {},
   "outputs": [
    {
     "data": {
      "text/html": [
       "<div>\n",
       "<style scoped>\n",
       "    .dataframe tbody tr th:only-of-type {\n",
       "        vertical-align: middle;\n",
       "    }\n",
       "\n",
       "    .dataframe tbody tr th {\n",
       "        vertical-align: top;\n",
       "    }\n",
       "\n",
       "    .dataframe thead th {\n",
       "        text-align: right;\n",
       "    }\n",
       "</style>\n",
       "<table border=\"1\" class=\"dataframe\">\n",
       "  <thead>\n",
       "    <tr style=\"text-align: right;\">\n",
       "      <th></th>\n",
       "      <th>Frozen Instant Foods</th>\n",
       "      <th>Instant Noodles</th>\n",
       "      <th>Snacks</th>\n",
       "      <th>Domestic Fruits</th>\n",
       "      <th>Milk</th>\n",
       "      <th>Chilled Instant Foods</th>\n",
       "      <th>Tofu / Bean Sprouts</th>\n",
       "      <th>Eggs</th>\n",
       "      <th>Yogurt</th>\n",
       "      <th>Leaf Vegetables</th>\n",
       "      <th>...</th>\n",
       "      <th>Men's Special Use Clothing</th>\n",
       "      <th>Safety Equipment</th>\n",
       "      <th>Kids' General Sport Clothing</th>\n",
       "      <th>Girls' Outwear</th>\n",
       "      <th>Maternity Care Products</th>\n",
       "      <th>Inline Skates / Skate Boards / Kickboards</th>\n",
       "      <th>Improvement Supplies</th>\n",
       "      <th>Vegetable Gift Sets</th>\n",
       "      <th>Handicraft Accessories</th>\n",
       "      <th>Car Wash Equipment</th>\n",
       "    </tr>\n",
       "  </thead>\n",
       "  <tbody>\n",
       "    <tr>\n",
       "      <th>116940</th>\n",
       "      <td>0.0</td>\n",
       "      <td>0.0</td>\n",
       "      <td>0.0</td>\n",
       "      <td>0.0</td>\n",
       "      <td>0.0</td>\n",
       "      <td>0.0</td>\n",
       "      <td>0.0</td>\n",
       "      <td>0.0</td>\n",
       "      <td>0.0</td>\n",
       "      <td>0.0</td>\n",
       "      <td>...</td>\n",
       "      <td>0.0</td>\n",
       "      <td>0.0</td>\n",
       "      <td>0.0</td>\n",
       "      <td>0.0</td>\n",
       "      <td>0.0</td>\n",
       "      <td>0.0</td>\n",
       "      <td>0.0</td>\n",
       "      <td>0.0</td>\n",
       "      <td>0.0</td>\n",
       "      <td>0.0</td>\n",
       "    </tr>\n",
       "    <tr>\n",
       "      <th>116941</th>\n",
       "      <td>0.0</td>\n",
       "      <td>0.0</td>\n",
       "      <td>0.0</td>\n",
       "      <td>0.0</td>\n",
       "      <td>0.0</td>\n",
       "      <td>0.0</td>\n",
       "      <td>0.0</td>\n",
       "      <td>0.0</td>\n",
       "      <td>0.0</td>\n",
       "      <td>0.0</td>\n",
       "      <td>...</td>\n",
       "      <td>0.0</td>\n",
       "      <td>0.0</td>\n",
       "      <td>0.0</td>\n",
       "      <td>0.0</td>\n",
       "      <td>0.0</td>\n",
       "      <td>0.0</td>\n",
       "      <td>0.0</td>\n",
       "      <td>0.0</td>\n",
       "      <td>0.0</td>\n",
       "      <td>0.0</td>\n",
       "    </tr>\n",
       "    <tr>\n",
       "      <th>116942</th>\n",
       "      <td>0.0</td>\n",
       "      <td>0.0</td>\n",
       "      <td>0.0</td>\n",
       "      <td>0.0</td>\n",
       "      <td>0.0</td>\n",
       "      <td>0.0</td>\n",
       "      <td>0.0</td>\n",
       "      <td>0.0</td>\n",
       "      <td>0.0</td>\n",
       "      <td>0.0</td>\n",
       "      <td>...</td>\n",
       "      <td>0.0</td>\n",
       "      <td>0.0</td>\n",
       "      <td>0.0</td>\n",
       "      <td>0.0</td>\n",
       "      <td>0.0</td>\n",
       "      <td>0.0</td>\n",
       "      <td>0.0</td>\n",
       "      <td>0.0</td>\n",
       "      <td>0.0</td>\n",
       "      <td>0.0</td>\n",
       "    </tr>\n",
       "    <tr>\n",
       "      <th>116943</th>\n",
       "      <td>0.0</td>\n",
       "      <td>0.0</td>\n",
       "      <td>0.0</td>\n",
       "      <td>0.0</td>\n",
       "      <td>0.0</td>\n",
       "      <td>0.0</td>\n",
       "      <td>0.0</td>\n",
       "      <td>0.0</td>\n",
       "      <td>0.0</td>\n",
       "      <td>0.0</td>\n",
       "      <td>...</td>\n",
       "      <td>0.0</td>\n",
       "      <td>0.0</td>\n",
       "      <td>0.0</td>\n",
       "      <td>0.0</td>\n",
       "      <td>0.0</td>\n",
       "      <td>0.0</td>\n",
       "      <td>0.0</td>\n",
       "      <td>0.0</td>\n",
       "      <td>0.0</td>\n",
       "      <td>0.0</td>\n",
       "    </tr>\n",
       "    <tr>\n",
       "      <th>116944</th>\n",
       "      <td>0.0</td>\n",
       "      <td>0.0</td>\n",
       "      <td>0.0</td>\n",
       "      <td>0.0</td>\n",
       "      <td>0.0</td>\n",
       "      <td>0.0</td>\n",
       "      <td>0.0</td>\n",
       "      <td>0.0</td>\n",
       "      <td>0.0</td>\n",
       "      <td>0.0</td>\n",
       "      <td>...</td>\n",
       "      <td>0.0</td>\n",
       "      <td>0.0</td>\n",
       "      <td>0.0</td>\n",
       "      <td>0.0</td>\n",
       "      <td>0.0</td>\n",
       "      <td>0.0</td>\n",
       "      <td>0.0</td>\n",
       "      <td>0.0</td>\n",
       "      <td>0.0</td>\n",
       "      <td>0.0</td>\n",
       "    </tr>\n",
       "  </tbody>\n",
       "</table>\n",
       "<p>5 rows × 288 columns</p>\n",
       "</div>"
      ],
      "text/plain": [
       "        Frozen Instant Foods  Instant Noodles  Snacks  Domestic Fruits  Milk  \\\n",
       "116940                   0.0              0.0     0.0              0.0   0.0   \n",
       "116941                   0.0              0.0     0.0              0.0   0.0   \n",
       "116942                   0.0              0.0     0.0              0.0   0.0   \n",
       "116943                   0.0              0.0     0.0              0.0   0.0   \n",
       "116944                   0.0              0.0     0.0              0.0   0.0   \n",
       "\n",
       "        Chilled Instant Foods  Tofu / Bean Sprouts  Eggs  Yogurt  \\\n",
       "116940                    0.0                  0.0   0.0     0.0   \n",
       "116941                    0.0                  0.0   0.0     0.0   \n",
       "116942                    0.0                  0.0   0.0     0.0   \n",
       "116943                    0.0                  0.0   0.0     0.0   \n",
       "116944                    0.0                  0.0   0.0     0.0   \n",
       "\n",
       "        Leaf Vegetables  ...  Men's Special Use Clothing  Safety Equipment  \\\n",
       "116940              0.0  ...                         0.0               0.0   \n",
       "116941              0.0  ...                         0.0               0.0   \n",
       "116942              0.0  ...                         0.0               0.0   \n",
       "116943              0.0  ...                         0.0               0.0   \n",
       "116944              0.0  ...                         0.0               0.0   \n",
       "\n",
       "        Kids' General Sport Clothing  Girls' Outwear  Maternity Care Products  \\\n",
       "116940                           0.0             0.0                      0.0   \n",
       "116941                           0.0             0.0                      0.0   \n",
       "116942                           0.0             0.0                      0.0   \n",
       "116943                           0.0             0.0                      0.0   \n",
       "116944                           0.0             0.0                      0.0   \n",
       "\n",
       "        Inline Skates / Skate Boards / Kickboards  Improvement Supplies  \\\n",
       "116940                                        0.0                   0.0   \n",
       "116941                                        0.0                   0.0   \n",
       "116942                                        0.0                   0.0   \n",
       "116943                                        0.0                   0.0   \n",
       "116944                                        0.0                   0.0   \n",
       "\n",
       "        Vegetable Gift Sets  Handicraft Accessories  Car Wash Equipment  \n",
       "116940                  0.0                     0.0                 0.0  \n",
       "116941                  0.0                     0.0                 0.0  \n",
       "116942                  0.0                     0.0                 0.0  \n",
       "116943                  0.0                     0.0                 0.0  \n",
       "116944                  0.0                     0.0                 0.0  \n",
       "\n",
       "[5 rows x 288 columns]"
      ]
     },
     "execution_count": 71,
     "metadata": {},
     "output_type": "execute_result"
    }
   ],
   "source": [
    "receipt_y.head()"
   ]
  },
  {
   "cell_type": "code",
   "execution_count": 72,
   "metadata": {},
   "outputs": [],
   "source": [
    "# 같은 영수증 별로 구매 아이템을 묶어주는 작업.\n",
    "test_label = data.loc[test_x.index][['trans_id', 'clac_nm2']]\n",
    "frame = pd.DataFrame(data = test_label['trans_id'], columns=['trans_id'])\n",
    "test_label = test_label.groupby('trans_id', as_index=False)['clac_nm2'].apply(lambda x: ', '.join(x))\n",
    "test_label = frame.merge(test_label, how='left').set_index(test_x.index)"
   ]
  },
  {
   "cell_type": "code",
   "execution_count": 73,
   "metadata": {},
   "outputs": [
    {
     "data": {
      "text/html": [
       "<div>\n",
       "<style scoped>\n",
       "    .dataframe tbody tr th:only-of-type {\n",
       "        vertical-align: middle;\n",
       "    }\n",
       "\n",
       "    .dataframe tbody tr th {\n",
       "        vertical-align: top;\n",
       "    }\n",
       "\n",
       "    .dataframe thead th {\n",
       "        text-align: right;\n",
       "    }\n",
       "</style>\n",
       "<table border=\"1\" class=\"dataframe\">\n",
       "  <thead>\n",
       "    <tr style=\"text-align: right;\">\n",
       "      <th></th>\n",
       "      <th>trans_id</th>\n",
       "      <th>clac_nm2</th>\n",
       "    </tr>\n",
       "  </thead>\n",
       "  <tbody>\n",
       "    <tr>\n",
       "      <th>116953</th>\n",
       "      <td>109393.0</td>\n",
       "      <td>Snacks, Fruit Vegetables, Dried Noodles, Froze...</td>\n",
       "    </tr>\n",
       "    <tr>\n",
       "      <th>116954</th>\n",
       "      <td>109393.0</td>\n",
       "      <td>Snacks, Fruit Vegetables, Dried Noodles, Froze...</td>\n",
       "    </tr>\n",
       "    <tr>\n",
       "      <th>116955</th>\n",
       "      <td>109393.0</td>\n",
       "      <td>Snacks, Fruit Vegetables, Dried Noodles, Froze...</td>\n",
       "    </tr>\n",
       "    <tr>\n",
       "      <th>116956</th>\n",
       "      <td>109394.0</td>\n",
       "      <td>Chilled Beverages, Leaf Vegetables, Fruit and ...</td>\n",
       "    </tr>\n",
       "    <tr>\n",
       "      <th>116957</th>\n",
       "      <td>109394.0</td>\n",
       "      <td>Chilled Beverages, Leaf Vegetables, Fruit and ...</td>\n",
       "    </tr>\n",
       "  </tbody>\n",
       "</table>\n",
       "</div>"
      ],
      "text/plain": [
       "        trans_id                                           clac_nm2\n",
       "116953  109393.0  Snacks, Fruit Vegetables, Dried Noodles, Froze...\n",
       "116954  109393.0  Snacks, Fruit Vegetables, Dried Noodles, Froze...\n",
       "116955  109393.0  Snacks, Fruit Vegetables, Dried Noodles, Froze...\n",
       "116956  109394.0  Chilled Beverages, Leaf Vegetables, Fruit and ...\n",
       "116957  109394.0  Chilled Beverages, Leaf Vegetables, Fruit and ..."
      ]
     },
     "execution_count": 73,
     "metadata": {},
     "output_type": "execute_result"
    }
   ],
   "source": [
    "test_label.head(18).tail(5)"
   ]
  },
  {
   "cell_type": "code",
   "execution_count": 74,
   "metadata": {},
   "outputs": [],
   "source": [
    "score_pd = pd.DataFrame(prob, columns=receipt_y.columns)\n",
    "cond = list(np.sum(receipt_y.values, axis=1) > 10)\n",
    "cond_pd = score_pd[cond].reset_index(drop= True)\n",
    "test_pd = test_label[cond].reset_index(drop= True)"
   ]
  },
  {
   "cell_type": "code",
   "execution_count": 75,
   "metadata": {},
   "outputs": [
    {
     "name": "stdout",
     "output_type": "stream",
     "text": [
      "Hit rate of Top 5: 0.00455\n",
      "정확도: 0.4547236377891022%\n"
     ]
    }
   ],
   "source": [
    "accuracy  = get_acc(cond_pd, 5 , test_pd) \n",
    "\n",
    "print(f\"정확도: {accuracy*100}%\")"
   ]
  },
  {
   "cell_type": "code",
   "execution_count": 77,
   "metadata": {},
   "outputs": [
    {
     "data": {
      "text/plain": [
       "0.30896187"
      ]
     },
     "execution_count": 77,
     "metadata": {},
     "output_type": "execute_result"
    }
   ],
   "source": [
    "preds = lgb_model.predict(val_x)\n",
    "label = val_y.copy()\n",
    "label = np.eye(288)[label]\n",
    "\n",
    "top_5_accuracy(label, preds)"
   ]
  },
  {
   "cell_type": "markdown",
   "metadata": {},
   "source": [
    "### 정확도 평가"
   ]
  },
  {
   "cell_type": "code",
   "execution_count": 78,
   "metadata": {},
   "outputs": [],
   "source": [
    "def get_pred_list(predict_y, top_n, target_matrix):\n",
    "    test_matrix = target_matrix.copy()\n",
    "    pred_matrix = predict_y.copy()\n",
    "    for i in range(len(pred_matrix)):\n",
    "        top = pred_matrix.iloc[i].nlargest(top_n).index\n",
    "        top = pd.DataFrame(top.astype(str).to_frame().apply(lambda x: \", \".join(x)))\n",
    "        test_matrix.loc[i, 'pred'] = top.values[0]\n",
    "    return test_matrix"
   ]
  },
  {
   "cell_type": "code",
   "execution_count": 79,
   "metadata": {},
   "outputs": [],
   "source": [
    "d={'hangle': clac_nm2, 'label': data['clac_nm2']}\n",
    "df = pd.DataFrame(data=d).drop_duplicates()\n",
    "cate2papago = df.set_index('label').to_dict()"
   ]
  },
  {
   "cell_type": "code",
   "execution_count": 80,
   "metadata": {},
   "outputs": [],
   "source": [
    "test = get_pred_list(cond_pd, 5, test_pd)"
   ]
  },
  {
   "cell_type": "code",
   "execution_count": 81,
   "metadata": {},
   "outputs": [
    {
     "data": {
      "text/html": [
       "<div>\n",
       "<style scoped>\n",
       "    .dataframe tbody tr th:only-of-type {\n",
       "        vertical-align: middle;\n",
       "    }\n",
       "\n",
       "    .dataframe tbody tr th {\n",
       "        vertical-align: top;\n",
       "    }\n",
       "\n",
       "    .dataframe thead th {\n",
       "        text-align: right;\n",
       "    }\n",
       "</style>\n",
       "<table border=\"1\" class=\"dataframe\">\n",
       "  <thead>\n",
       "    <tr style=\"text-align: right;\">\n",
       "      <th></th>\n",
       "      <th>trans_id</th>\n",
       "      <th>clac_nm2</th>\n",
       "      <th>pred</th>\n",
       "    </tr>\n",
       "  </thead>\n",
       "  <tbody>\n",
       "    <tr>\n",
       "      <th>0</th>\n",
       "      <td>109400.0</td>\n",
       "      <td>Retort Pouches, Chilled Instant Foods, Frozen ...</td>\n",
       "      <td>Body Care, Sanitary Aids, Fashion Accessories,...</td>\n",
       "    </tr>\n",
       "    <tr>\n",
       "      <th>1</th>\n",
       "      <td>109400.0</td>\n",
       "      <td>Retort Pouches, Chilled Instant Foods, Frozen ...</td>\n",
       "      <td>Body Care, Sanitary Aids, Fashion Accessories,...</td>\n",
       "    </tr>\n",
       "    <tr>\n",
       "      <th>2</th>\n",
       "      <td>109400.0</td>\n",
       "      <td>Retort Pouches, Chilled Instant Foods, Frozen ...</td>\n",
       "      <td>Body Care, Sanitary Aids, Fashion Accessories,...</td>\n",
       "    </tr>\n",
       "    <tr>\n",
       "      <th>3</th>\n",
       "      <td>109400.0</td>\n",
       "      <td>Retort Pouches, Chilled Instant Foods, Frozen ...</td>\n",
       "      <td>Body Care, Sanitary Aids, Fashion Accessories,...</td>\n",
       "    </tr>\n",
       "    <tr>\n",
       "      <th>4</th>\n",
       "      <td>109400.0</td>\n",
       "      <td>Retort Pouches, Chilled Instant Foods, Frozen ...</td>\n",
       "      <td>Body Care, Sanitary Aids, Fashion Accessories,...</td>\n",
       "    </tr>\n",
       "    <tr>\n",
       "      <th>...</th>\n",
       "      <td>...</td>\n",
       "      <td>...</td>\n",
       "      <td>...</td>\n",
       "    </tr>\n",
       "    <tr>\n",
       "      <th>2546</th>\n",
       "      <td>112614.0</td>\n",
       "      <td>Domestic Porks, Frozen Instant Foods, Sauces, ...</td>\n",
       "      <td>Body Care, Decorative Accessories, Sanitary Ai...</td>\n",
       "    </tr>\n",
       "    <tr>\n",
       "      <th>2547</th>\n",
       "      <td>112614.0</td>\n",
       "      <td>Domestic Porks, Frozen Instant Foods, Sauces, ...</td>\n",
       "      <td>Body Care, Decorative Accessories, Sanitary Ai...</td>\n",
       "    </tr>\n",
       "    <tr>\n",
       "      <th>2548</th>\n",
       "      <td>112614.0</td>\n",
       "      <td>Domestic Porks, Frozen Instant Foods, Sauces, ...</td>\n",
       "      <td>Body Care, Decorative Accessories, Sanitary Ai...</td>\n",
       "    </tr>\n",
       "    <tr>\n",
       "      <th>2549</th>\n",
       "      <td>112614.0</td>\n",
       "      <td>Domestic Porks, Frozen Instant Foods, Sauces, ...</td>\n",
       "      <td>Body Care, Decorative Accessories, Sanitary Ai...</td>\n",
       "    </tr>\n",
       "    <tr>\n",
       "      <th>2550</th>\n",
       "      <td>112614.0</td>\n",
       "      <td>Domestic Porks, Frozen Instant Foods, Sauces, ...</td>\n",
       "      <td>Body Care, Decorative Accessories, Sanitary Ai...</td>\n",
       "    </tr>\n",
       "  </tbody>\n",
       "</table>\n",
       "<p>2551 rows × 3 columns</p>\n",
       "</div>"
      ],
      "text/plain": [
       "      trans_id                                           clac_nm2  \\\n",
       "0     109400.0  Retort Pouches, Chilled Instant Foods, Frozen ...   \n",
       "1     109400.0  Retort Pouches, Chilled Instant Foods, Frozen ...   \n",
       "2     109400.0  Retort Pouches, Chilled Instant Foods, Frozen ...   \n",
       "3     109400.0  Retort Pouches, Chilled Instant Foods, Frozen ...   \n",
       "4     109400.0  Retort Pouches, Chilled Instant Foods, Frozen ...   \n",
       "...        ...                                                ...   \n",
       "2546  112614.0  Domestic Porks, Frozen Instant Foods, Sauces, ...   \n",
       "2547  112614.0  Domestic Porks, Frozen Instant Foods, Sauces, ...   \n",
       "2548  112614.0  Domestic Porks, Frozen Instant Foods, Sauces, ...   \n",
       "2549  112614.0  Domestic Porks, Frozen Instant Foods, Sauces, ...   \n",
       "2550  112614.0  Domestic Porks, Frozen Instant Foods, Sauces, ...   \n",
       "\n",
       "                                                   pred  \n",
       "0     Body Care, Sanitary Aids, Fashion Accessories,...  \n",
       "1     Body Care, Sanitary Aids, Fashion Accessories,...  \n",
       "2     Body Care, Sanitary Aids, Fashion Accessories,...  \n",
       "3     Body Care, Sanitary Aids, Fashion Accessories,...  \n",
       "4     Body Care, Sanitary Aids, Fashion Accessories,...  \n",
       "...                                                 ...  \n",
       "2546  Body Care, Decorative Accessories, Sanitary Ai...  \n",
       "2547  Body Care, Decorative Accessories, Sanitary Ai...  \n",
       "2548  Body Care, Decorative Accessories, Sanitary Ai...  \n",
       "2549  Body Care, Decorative Accessories, Sanitary Ai...  \n",
       "2550  Body Care, Decorative Accessories, Sanitary Ai...  \n",
       "\n",
       "[2551 rows x 3 columns]"
      ]
     },
     "execution_count": 81,
     "metadata": {},
     "output_type": "execute_result"
    }
   ],
   "source": [
    "test"
   ]
  },
  {
   "cell_type": "markdown",
   "metadata": {},
   "source": [
    "# Basic Feature Importance"
   ]
  },
  {
   "cell_type": "code",
   "execution_count": 43,
   "metadata": {},
   "outputs": [
    {
     "data": {
      "text/plain": [
       "<AxesSubplot:title={'center':'Feature importance'}, xlabel='Feature importance', ylabel='Features'>"
      ]
     },
     "execution_count": 43,
     "metadata": {},
     "output_type": "execute_result"
    },
    {
     "data": {
      "image/png": "[encoded data removed]",
      "text/plain": [
       "<Figure size 864x864 with 1 Axes>"
      ]
     },
     "metadata": {
      "needs_background": "light"
     },
     "output_type": "display_data"
    }
   ],
   "source": [
    "lgb.plot_importance(lgb_model, figsize = (12, 12))"
   ]
  },
  {
   "cell_type": "code",
   "execution_count": 46,
   "metadata": {},
   "outputs": [
    {
     "data": {
      "text/plain": [
       "array([2118, 5780, 4097, 1779,  169,  167, 1037,  541,  638, 1077,  510,\n",
       "        918,  248,   27,  434,   20,  983, 2691, 1891, 1464, 1342,  452,\n",
       "        584,  639,  638, 1245, 1767,   34,  514,  130,  474, 1931, 1752,\n",
       "       2641, 1366, 1734, 2392,  886, 2124, 1847, 1192, 1120, 1575, 1925,\n",
       "       1744, 1901, 1583, 1416, 1309, 1301, 1397, 1711, 1776, 2441, 2214,\n",
       "       1359, 1840, 1968, 1237, 2199, 1545], dtype=int32)"
      ]
     },
     "execution_count": 46,
     "metadata": {},
     "output_type": "execute_result"
    }
   ],
   "source": [
    "lgb_model.feature_importance()"
   ]
  },
  {
   "cell_type": "markdown",
   "metadata": {},
   "source": [
    "### 2. One-shot"
   ]
  },
  {
   "cell_type": "code",
   "execution_count": 84,
   "metadata": {},
   "outputs": [
    {
     "data": {
      "text/plain": [
       "hit_pss_tm         5780\n",
       "tot_pag_view_ct    4097\n",
       "pv_hr              2691\n",
       "X_2                2641\n",
       "X_22               2441\n",
       "                   ... \n",
       "dvc_ctg_nm          167\n",
       "clnt_gender         130\n",
       "pty                  34\n",
       "cum_act_7            27\n",
       "holiday              20\n",
       "Length: 61, dtype: int32"
      ]
     },
     "execution_count": 84,
     "metadata": {},
     "output_type": "execute_result"
    }
   ],
   "source": [
    "feat_imp"
   ]
  },
  {
   "cell_type": "code",
   "execution_count": 83,
   "metadata": {},
   "outputs": [
    {
     "name": "stdout",
     "output_type": "stream",
     "text": [
      "0 0.23533712\n",
      "1 0.23533712\n",
      "2 0.23533712\n",
      "3 0.23533712\n"
     ]
    },
    {
     "ename": "KeyboardInterrupt",
     "evalue": "",
     "output_type": "error",
     "traceback": [
      "\u001b[0;31m---------------------------------------------------------------------------\u001b[0m",
      "\u001b[0;31mKeyboardInterrupt\u001b[0m                         Traceback (most recent call last)",
      "\u001b[0;32m<ipython-input-83-143e8bf472bc>\u001b[0m in \u001b[0;36m<module>\u001b[0;34m\u001b[0m\n\u001b[1;32m      3\u001b[0m     \u001b[0mtemp\u001b[0m \u001b[0;34m=\u001b[0m \u001b[0mfeat_imp\u001b[0m\u001b[0;34m.\u001b[0m\u001b[0mindex\u001b[0m\u001b[0;34m.\u001b[0m\u001b[0mto_list\u001b[0m\u001b[0;34m(\u001b[0m\u001b[0;34m)\u001b[0m\u001b[0;34m\u001b[0m\u001b[0;34m\u001b[0m\u001b[0m\n\u001b[1;32m      4\u001b[0m     \u001b[0;32mdel\u001b[0m \u001b[0mtemp\u001b[0m\u001b[0;34m[\u001b[0m\u001b[0mi\u001b[0m\u001b[0;34m]\u001b[0m\u001b[0;34m\u001b[0m\u001b[0;34m\u001b[0m\u001b[0m\n\u001b[0;32m----> 5\u001b[0;31m     \u001b[0mprint\u001b[0m\u001b[0;34m(\u001b[0m\u001b[0mi\u001b[0m\u001b[0;34m,\u001b[0m \u001b[0mevaluate\u001b[0m\u001b[0;34m(\u001b[0m\u001b[0mdf_buyer\u001b[0m\u001b[0;34m[\u001b[0m\u001b[0mtemp\u001b[0m\u001b[0;34m]\u001b[0m\u001b[0;34m,\u001b[0m \u001b[0mdf_buyer\u001b[0m\u001b[0;34m[\u001b[0m\u001b[0;34m'clac_nm2'\u001b[0m\u001b[0;34m]\u001b[0m\u001b[0;34m)\u001b[0m\u001b[0;34m)\u001b[0m\u001b[0;34m\u001b[0m\u001b[0;34m\u001b[0m\u001b[0m\n\u001b[0m",
      "\u001b[0;32m<ipython-input-38-fff0472706fe>\u001b[0m in \u001b[0;36mevaluate\u001b[0;34m(x_data, y_data)\u001b[0m\n\u001b[1;32m     23\u001b[0m                   \u001b[0mnum_boost_round\u001b[0m\u001b[0;34m=\u001b[0m\u001b[0;36m1000\u001b[0m\u001b[0;34m,\u001b[0m\u001b[0;34m\u001b[0m\u001b[0;34m\u001b[0m\u001b[0m\n\u001b[1;32m     24\u001b[0m                   \u001b[0mvalid_sets\u001b[0m\u001b[0;34m=\u001b[0m\u001b[0;34m[\u001b[0m\u001b[0mdvalid\u001b[0m\u001b[0;34m]\u001b[0m\u001b[0;34m,\u001b[0m\u001b[0;34m\u001b[0m\u001b[0;34m\u001b[0m\u001b[0m\n\u001b[0;32m---> 25\u001b[0;31m                   \u001b[0mverbose_eval\u001b[0m\u001b[0;34m=\u001b[0m\u001b[0;32mFalse\u001b[0m\u001b[0;34m\u001b[0m\u001b[0;34m\u001b[0m\u001b[0m\n\u001b[0m\u001b[1;32m     26\u001b[0m                  )\n\u001b[1;32m     27\u001b[0m     \u001b[0mpreds\u001b[0m \u001b[0;34m=\u001b[0m \u001b[0mlgb_model\u001b[0m\u001b[0;34m.\u001b[0m\u001b[0mpredict\u001b[0m\u001b[0;34m(\u001b[0m\u001b[0mx_val\u001b[0m\u001b[0;34m)\u001b[0m\u001b[0;34m\u001b[0m\u001b[0;34m\u001b[0m\u001b[0m\n",
      "\u001b[0;32m~/anaconda3/envs/aiffel/lib/python3.7/site-packages/lightgbm/engine.py\u001b[0m in \u001b[0;36mtrain\u001b[0;34m(params, train_set, num_boost_round, valid_sets, valid_names, fobj, feval, init_model, feature_name, categorical_feature, early_stopping_rounds, evals_result, verbose_eval, learning_rates, keep_training_booster, callbacks)\u001b[0m\n\u001b[1;32m    247\u001b[0m                                     evaluation_result_list=None))\n\u001b[1;32m    248\u001b[0m \u001b[0;34m\u001b[0m\u001b[0m\n\u001b[0;32m--> 249\u001b[0;31m         \u001b[0mbooster\u001b[0m\u001b[0;34m.\u001b[0m\u001b[0mupdate\u001b[0m\u001b[0;34m(\u001b[0m\u001b[0mfobj\u001b[0m\u001b[0;34m=\u001b[0m\u001b[0mfobj\u001b[0m\u001b[0;34m)\u001b[0m\u001b[0;34m\u001b[0m\u001b[0;34m\u001b[0m\u001b[0m\n\u001b[0m\u001b[1;32m    250\u001b[0m \u001b[0;34m\u001b[0m\u001b[0m\n\u001b[1;32m    251\u001b[0m         \u001b[0mevaluation_result_list\u001b[0m \u001b[0;34m=\u001b[0m \u001b[0;34m[\u001b[0m\u001b[0;34m]\u001b[0m\u001b[0;34m\u001b[0m\u001b[0;34m\u001b[0m\u001b[0m\n",
      "\u001b[0;32m~/anaconda3/envs/aiffel/lib/python3.7/site-packages/lightgbm/basic.py\u001b[0m in \u001b[0;36mupdate\u001b[0;34m(self, train_set, fobj)\u001b[0m\n\u001b[1;32m   1924\u001b[0m             _safe_call(_LIB.LGBM_BoosterUpdateOneIter(\n\u001b[1;32m   1925\u001b[0m                 \u001b[0mself\u001b[0m\u001b[0;34m.\u001b[0m\u001b[0mhandle\u001b[0m\u001b[0;34m,\u001b[0m\u001b[0;34m\u001b[0m\u001b[0;34m\u001b[0m\u001b[0m\n\u001b[0;32m-> 1926\u001b[0;31m                 ctypes.byref(is_finished)))\n\u001b[0m\u001b[1;32m   1927\u001b[0m             \u001b[0mself\u001b[0m\u001b[0;34m.\u001b[0m\u001b[0m__is_predicted_cur_iter\u001b[0m \u001b[0;34m=\u001b[0m \u001b[0;34m[\u001b[0m\u001b[0;32mFalse\u001b[0m \u001b[0;32mfor\u001b[0m \u001b[0m_\u001b[0m \u001b[0;32min\u001b[0m \u001b[0mrange_\u001b[0m\u001b[0;34m(\u001b[0m\u001b[0mself\u001b[0m\u001b[0;34m.\u001b[0m\u001b[0m__num_dataset\u001b[0m\u001b[0;34m)\u001b[0m\u001b[0;34m]\u001b[0m\u001b[0;34m\u001b[0m\u001b[0;34m\u001b[0m\u001b[0m\n\u001b[1;32m   1928\u001b[0m             \u001b[0;32mreturn\u001b[0m \u001b[0mis_finished\u001b[0m\u001b[0;34m.\u001b[0m\u001b[0mvalue\u001b[0m \u001b[0;34m==\u001b[0m \u001b[0;36m1\u001b[0m\u001b[0;34m\u001b[0m\u001b[0;34m\u001b[0m\u001b[0m\n",
      "\u001b[0;31mKeyboardInterrupt\u001b[0m: "
     ]
    }
   ],
   "source": [
    "feat_imp = pd.Series(lgb_model.feature_importance(), index=feats).sort_values(ascending=False)\n",
    "for i in range(0, 61, 1):\n",
    "    temp = feat_imp.index.to_list()\n",
    "    del temp[i]\n",
    "    print(i, evaluate(df_buyer[temp], df_buyer['clac_nm2']))"
   ]
  },
  {
   "cell_type": "code",
   "execution_count": null,
   "metadata": {},
   "outputs": [],
   "source": []
  }
 ],
 "metadata": {
  "kernelspec": {
   "display_name": "Python 3",
   "language": "python",
   "name": "python3"
  },
  "language_info": {
   "codemirror_mode": {
    "name": "ipython",
    "version": 3
   },
   "file_extension": ".py",
   "mimetype": "text/x-python",
   "name": "python",
   "nbconvert_exporter": "python",
   "pygments_lexer": "ipython3",
   "version": "3.8.5"
  }
 },
 "nbformat": 4,
 "nbformat_minor": 4
}
