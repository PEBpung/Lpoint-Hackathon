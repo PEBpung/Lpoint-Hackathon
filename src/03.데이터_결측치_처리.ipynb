{
 "cells": [
  {
   "cell_type": "markdown",
   "metadata": {},
   "source": [
    "# 데이터 결측치 처리"
   ]
  },
  {
   "cell_type": "markdown",
   "metadata": {},
   "source": [
    "앞서 간단한 결측치 처리를 진행했지만, EDA를 통해서 추가적인 결측치 처리의 필요성을 알게되었습니다.  \n",
    "결측치 처리는 다음과 같은 순서로 진행됩니다. \n",
    "1. action_type: `온라인 행동 유형` 처리\n",
    "2. biz_unit: `weekday`, `holiday`\n",
    "3. 변수 생성: `hour`\n",
    "4. 변수 생성: `latest`\n",
    "5. 변수 생성: `prefer_dvc`\n",
    "6. 변수 생성: `trfc_dvc`\n",
    "7. 외부데이터: `온도`, `습도`, `강수량`, `강수형태`\n",
    "<br><br>"
   ]
  },
  {
   "cell_type": "code",
   "execution_count": 7,
   "metadata": {},
   "outputs": [],
   "source": [
    "import pandas as pd\n",
    "import numpy as np\n",
    "import seaborn as sns\n",
    "import matplotlib.pyplot as plt\n",
    "\n",
    "import warnings\n",
    "warnings.filterwarnings(action='ignore')\n",
    "\n",
    "import matplotlib.font_manager as fm\n",
    "path = 'data/font/NanumGothic-ExtraBold.ttf'\n",
    "font_name = fm.FontProperties(fname=path, size=50).get_name()\n",
    "plt.rc('font', family=font_name)"
   ]
  },
  {
   "cell_type": "markdown",
   "metadata": {},
   "source": [
    "## load data"
   ]
  },
  {
   "cell_type": "code",
   "execution_count": 8,
   "metadata": {},
   "outputs": [],
   "source": [
    "cks_dtype = {'clnt_id':'int64','sess_id':'int64','hit_seq':'int64','action_type':'int64','biz_unit':'category','sess_dt':'object','hit_tm':'object',\n",
    "             'hit_pss_tm':'int64','trans_id':'float64','sech_kwd':'object','tot_pag_view_ct':'float64','tot_sess_hr_v':'float64','trfc_src':'category',\n",
    "             'dvc_ctg_nm':'object','pd_c':'object','de_dt':'object','de_tm':'object','buy_am':'int64','buy_ct':'int64','clnt_gender':'category'}\n",
    "\n",
    "online = pd.read_csv('./data/online_01.csv', dtype=cks_dtype)\n",
    "trade = pd.read_csv('./data/trade_01.csv', dtype=cks_dtype)\n",
    "customer = pd.read_csv('./data/customer_01.csv', dtype=cks_dtype)\n",
    "item = pd.read_csv('./data/item_01.csv', dtype=cks_dtype)"
   ]
  },
  {
   "cell_type": "markdown",
   "metadata": {},
   "source": [
    "### 1-4. action_type : 온라인 행동 유형\n",
    " *  0:검색 / 1:제품 목록 / 2:제품 세부정보 보기 / 3: 장바구니 제품 추가 / 4:장바구니 제품 삭제 \n",
    " * 5:결제 시도 / 6:구매완료 / 7:구매환불 / 8:결재 옵션"
   ]
  },
  {
   "cell_type": "markdown",
   "metadata": {},
   "source": [
    " * 온라인 행동 유형는 몇 개나 있는가?? => 8개\n",
    " \n",
    "     * class 갯수는 9개이므로 존재하지 않는 행동 하나 있음\n",
    "         * '8. 결재 옵션'은 데이터 존재하지 않음(하단 확인)"
   ]
  },
  {
   "cell_type": "code",
   "execution_count": 11,
   "metadata": {},
   "outputs": [
    {
     "data": {
      "text/plain": [
       "5    750530\n",
       "2    655266\n",
       "0    651638\n",
       "3    596765\n",
       "1    307998\n",
       "4    172240\n",
       "6     56249\n",
       "7      5676\n",
       "Name: action_type, dtype: int64"
      ]
     },
     "execution_count": 11,
     "metadata": {},
     "output_type": "execute_result"
    }
   ],
   "source": [
    "online['action_type'].value_counts()"
   ]
  },
  {
   "cell_type": "markdown",
   "metadata": {},
   "source": [
    " * 온라인 행동 유형 별 온라인 행동데이터는 몇 건이 있는지? => 최대 75만 건 , 최소 5600건\n",
    "     * 제일 많은 행동은 약 75만 건의 '5. 결제 시도' 이며\n",
    "     * 제일 적은 행동은 약 5600건의 '7. 구매 환불' 임\n",
    "     * '8. 결재 옵션'은 데이터 존제하지 않음이 확인됨"
   ]
  },
  {
   "cell_type": "code",
   "execution_count": 12,
   "metadata": {
    "scrolled": true
   },
   "outputs": [
    {
     "data": {
      "text/plain": [
       "0"
      ]
     },
     "execution_count": 12,
     "metadata": {},
     "output_type": "execute_result"
    }
   ],
   "source": [
    "online['action_type'].isna().sum()"
   ]
  },
  {
   "cell_type": "markdown",
   "metadata": {},
   "source": [
    " * 결측치 갯수 확인 => 없음"
   ]
  },
  {
   "cell_type": "markdown",
   "metadata": {},
   "source": [
    "#### 온라인 행동 유형 시각화"
   ]
  },
  {
   "cell_type": "code",
   "execution_count": 13,
   "metadata": {},
   "outputs": [
    {
     "data": {
      "text/plain": [
       "<function matplotlib.pyplot.show(close=None, block=None)>"
      ]
     },
     "execution_count": 13,
     "metadata": {},
     "output_type": "execute_result"
    },
    {
     "data": {
      "image/png": "[encoded data removed]",
      "text/plain": [
       "<Figure size 864x432 with 1 Axes>"
      ]
     },
     "metadata": {
      "needs_background": "light"
     },
     "output_type": "display_data"
    }
   ],
   "source": [
    "title = '행동 유형별 활동량'\n",
    "plt.figure(figsize=(12,6))\n",
    "sns.countplot(x= 'action_type', data=online, palette=\"pastel\")\n",
    "action_labels = ['검색','제품목록','제품 세부정보','장바구니 추가','장바구니 삭제','결제 시도','구매 완료','구매 환불']\n",
    "plt.xticks(ticks=np.arange(8), labels = action_labels)\n",
    "plt.title(title)\n",
    "plt.savefig(f'../image/2.1.{title}.png', dpi=300)\n",
    "plt.show"
   ]
  },
  {
   "cell_type": "markdown",
   "metadata": {},
   "source": [
    "결제 시도에서 구매 완료까지 가는 인원이 현저히 줄어듬을 확인 할 수 있음.  \n",
    "몇가지 추가 분석이 필요함.  \n",
    "1. 결제 중복 시도가 3회 이상인 고객의 비율\n",
    "2. 결제 시도를 했으나 구매 완료까지 가지 않은 고객의 비율"
   ]
  },
  {
   "cell_type": "markdown",
   "metadata": {},
   "source": [
    "#### 1-4-1. 결제 중복 시도 확인\n"
   ]
  },
  {
   "cell_type": "code",
   "execution_count": 14,
   "metadata": {},
   "outputs": [],
   "source": [
    "from tqdm import tqdm"
   ]
  },
  {
   "cell_type": "markdown",
   "metadata": {},
   "source": [
    "다른 ID인지, 다른 날짜 인지 고려할 필요하다. "
   ]
  },
  {
   "cell_type": "code",
   "execution_count": 15,
   "metadata": {},
   "outputs": [],
   "source": [
    "def OverlabAct(data, k):\n",
    "    temp = 0\n",
    "    overlab = []\n",
    "    for i, row in tqdm(data.iterrows(), total=data.shape[0]):\n",
    "        # act가 k 이면, +1한다. \n",
    "        if row['action_type'] == 5:\n",
    "            temp = temp +1\n",
    "        # act가 달라지면 중복 횟수만큼 저장하게된다. \n",
    "        else:\n",
    "            overlab.append(temp)\n",
    "            temp = 0\n",
    "    return np.array(overlab)"
   ]
  },
  {
   "cell_type": "code",
   "execution_count": 17,
   "metadata": {},
   "outputs": [
    {
     "name": "stderr",
     "output_type": "stream",
     "text": [
      "100%|██████████| 3196362/3196362 [02:38<00:00, 20174.92it/s]\n"
     ]
    },
    {
     "name": "stdout",
     "output_type": "stream",
     "text": [
      "3번 이상 연속으로 결제 시도가 중복된 비율: 49.9 %\n",
      "5번 이상 연속으로 결제 시도가 중복된 비율: 24.0 %\n"
     ]
    }
   ],
   "source": [
    "np_over = OverlabAct(online, 5)\n",
    "\n",
    "print('3번 이상 연속으로 결제 시도가 중복된 비율:', round(np_over[np_over>=3].sum()/np_over.sum(),3)*100, '%')\n",
    "print('5번 이상 연속으로 결제 시도가 중복된 비율:', round(np_over[np_over>=5].sum()/np_over.sum(),2)*100, '%')"
   ]
  },
  {
   "cell_type": "code",
   "execution_count": 19,
   "metadata": {},
   "outputs": [
    {
     "data": {
      "text/plain": [
       "array([0, 0, 0, ..., 0, 0, 0])"
      ]
     },
     "execution_count": 19,
     "metadata": {},
     "output_type": "execute_result"
    }
   ],
   "source": [
    "np_over"
   ]
  },
  {
   "cell_type": "code",
   "execution_count": 18,
   "metadata": {},
   "outputs": [],
   "source": [
    "test = (np_over>=1).astype(np.int8)"
   ]
  },
  {
   "cell_type": "markdown",
   "metadata": {},
   "source": [
    "6 0 0 0 1 0 0 1 3 0 0 = 11"
   ]
  },
  {
   "cell_type": "markdown",
   "metadata": {},
   "source": [
    "1 0 0 0 1 0 0 1 1 0 0 = 4"
   ]
  },
  {
   "cell_type": "markdown",
   "metadata": {},
   "source": [
    "4 / 11 = "
   ]
  },
  {
   "cell_type": "code",
   "execution_count": 416,
   "metadata": {},
   "outputs": [
    {
     "data": {
      "text/plain": [
       "0.5222762581109349"
      ]
     },
     "execution_count": 416,
     "metadata": {},
     "output_type": "execute_result"
    }
   ],
   "source": [
    "test.sum() / np_over.sum() "
   ]
  },
  {
   "cell_type": "markdown",
   "metadata": {},
   "source": [
    "#### 1-4-2. 결제 시도 후 구매 완료를 안한 비율"
   ]
  },
  {
   "cell_type": "markdown",
   "metadata": {},
   "source": [
    "이번에는 결제 시도를 했지만 구매 완료까지 도달하지 않은 비율을 확인해보겠습니다.  \n",
    "이를 위해 여러번 중복 시도해도 한번 결제 시도를 한 걸로 보겠습니다.  "
   ]
  },
  {
   "cell_type": "code",
   "execution_count": 419,
   "metadata": {},
   "outputs": [
    {
     "name": "stdout",
     "output_type": "stream",
     "text": [
      "결제 시도 횟수: 391984\n",
      "결제 완료 횟수: 56249\n",
      "결제 시도를 하고 구매를 한 비율: 14.35 %\n"
     ]
    }
   ],
   "source": [
    "print('결제 시도 횟수:', np_over[np_over != 0].shape[0])\n",
    "print('결제 완료 횟수:', (online['action_type'] == 6).sum())\n",
    "print('결제 시도를 하고 구매를 한 비율:', round((online['action_type'] == 6).sum()/np_over[np_over != 0].shape[0], 4)*100, '%')"
   ]
  },
  {
   "cell_type": "code",
   "execution_count": 422,
   "metadata": {},
   "outputs": [
    {
     "data": {
      "text/plain": [
       "7.494570503510853"
      ]
     },
     "execution_count": 422,
     "metadata": {},
     "output_type": "execute_result"
    }
   ],
   "source": [
    "(online['action_type'] == 6).sum() / np_over.sum() *100"
   ]
  },
  {
   "cell_type": "code",
   "execution_count": 417,
   "metadata": {},
   "outputs": [
    {
     "data": {
      "text/html": [
       "<div>\n",
       "<style scoped>\n",
       "    .dataframe tbody tr th:only-of-type {\n",
       "        vertical-align: middle;\n",
       "    }\n",
       "\n",
       "    .dataframe tbody tr th {\n",
       "        vertical-align: top;\n",
       "    }\n",
       "\n",
       "    .dataframe thead th {\n",
       "        text-align: right;\n",
       "    }\n",
       "</style>\n",
       "<table border=\"1\" class=\"dataframe\">\n",
       "  <thead>\n",
       "    <tr style=\"text-align: right;\">\n",
       "      <th></th>\n",
       "      <th>clnt_id</th>\n",
       "      <th>sess_id</th>\n",
       "      <th>hit_seq</th>\n",
       "      <th>action_type</th>\n",
       "      <th>biz_unit</th>\n",
       "      <th>sess_dt</th>\n",
       "      <th>hit_tm</th>\n",
       "      <th>hit_pss_tm</th>\n",
       "      <th>trans_id</th>\n",
       "      <th>sech_kwd</th>\n",
       "      <th>tot_pag_view_ct</th>\n",
       "      <th>tot_sess_hr_v</th>\n",
       "      <th>trfc_src</th>\n",
       "      <th>dvc_ctg_nm</th>\n",
       "      <th>grade</th>\n",
       "    </tr>\n",
       "  </thead>\n",
       "  <tbody>\n",
       "    <tr>\n",
       "      <th>46</th>\n",
       "      <td>2</td>\n",
       "      <td>1</td>\n",
       "      <td>37</td>\n",
       "      <td>6</td>\n",
       "      <td>A03</td>\n",
       "      <td>20190728</td>\n",
       "      <td>23:47</td>\n",
       "      <td>791905</td>\n",
       "      <td>62037.0</td>\n",
       "      <td>NaN</td>\n",
       "      <td>61.0</td>\n",
       "      <td>911.0</td>\n",
       "      <td>DIRECT</td>\n",
       "      <td>unknown</td>\n",
       "      <td>5.0</td>\n",
       "    </tr>\n",
       "    <tr>\n",
       "      <th>145</th>\n",
       "      <td>2</td>\n",
       "      <td>8</td>\n",
       "      <td>68</td>\n",
       "      <td>6</td>\n",
       "      <td>A03</td>\n",
       "      <td>20190731</td>\n",
       "      <td>21:25</td>\n",
       "      <td>3251794</td>\n",
       "      <td>64691.0</td>\n",
       "      <td>NaN</td>\n",
       "      <td>85.0</td>\n",
       "      <td>3256.0</td>\n",
       "      <td>DIRECT</td>\n",
       "      <td>unknown</td>\n",
       "      <td>5.0</td>\n",
       "    </tr>\n",
       "    <tr>\n",
       "      <th>167</th>\n",
       "      <td>2</td>\n",
       "      <td>10</td>\n",
       "      <td>16</td>\n",
       "      <td>6</td>\n",
       "      <td>A03</td>\n",
       "      <td>20190801</td>\n",
       "      <td>22:00</td>\n",
       "      <td>306944</td>\n",
       "      <td>65505.0</td>\n",
       "      <td>NaN</td>\n",
       "      <td>23.0</td>\n",
       "      <td>353.0</td>\n",
       "      <td>DIRECT</td>\n",
       "      <td>unknown</td>\n",
       "      <td>5.0</td>\n",
       "    </tr>\n",
       "    <tr>\n",
       "      <th>247</th>\n",
       "      <td>2</td>\n",
       "      <td>19</td>\n",
       "      <td>17</td>\n",
       "      <td>6</td>\n",
       "      <td>A03</td>\n",
       "      <td>20190830</td>\n",
       "      <td>22:00</td>\n",
       "      <td>2227390</td>\n",
       "      <td>88495.0</td>\n",
       "      <td>NaN</td>\n",
       "      <td>29.0</td>\n",
       "      <td>2253.0</td>\n",
       "      <td>DIRECT</td>\n",
       "      <td>unknown</td>\n",
       "      <td>5.0</td>\n",
       "    </tr>\n",
       "    <tr>\n",
       "      <th>270</th>\n",
       "      <td>4</td>\n",
       "      <td>1</td>\n",
       "      <td>2</td>\n",
       "      <td>6</td>\n",
       "      <td>A01</td>\n",
       "      <td>20190826</td>\n",
       "      <td>10:38</td>\n",
       "      <td>402600</td>\n",
       "      <td>85046.0</td>\n",
       "      <td>NaN</td>\n",
       "      <td>115.0</td>\n",
       "      <td>950.0</td>\n",
       "      <td>unknown</td>\n",
       "      <td>mobile_app</td>\n",
       "      <td>6.0</td>\n",
       "    </tr>\n",
       "    <tr>\n",
       "      <th>...</th>\n",
       "      <td>...</td>\n",
       "      <td>...</td>\n",
       "      <td>...</td>\n",
       "      <td>...</td>\n",
       "      <td>...</td>\n",
       "      <td>...</td>\n",
       "      <td>...</td>\n",
       "      <td>...</td>\n",
       "      <td>...</td>\n",
       "      <td>...</td>\n",
       "      <td>...</td>\n",
       "      <td>...</td>\n",
       "      <td>...</td>\n",
       "      <td>...</td>\n",
       "      <td>...</td>\n",
       "    </tr>\n",
       "    <tr>\n",
       "      <th>3196182</th>\n",
       "      <td>72418</td>\n",
       "      <td>3</td>\n",
       "      <td>12</td>\n",
       "      <td>6</td>\n",
       "      <td>A02</td>\n",
       "      <td>20190919</td>\n",
       "      <td>12:52</td>\n",
       "      <td>2359650</td>\n",
       "      <td>104648.0</td>\n",
       "      <td>NaN</td>\n",
       "      <td>22.0</td>\n",
       "      <td>2360.0</td>\n",
       "      <td>unknown</td>\n",
       "      <td>PC</td>\n",
       "      <td>6.0</td>\n",
       "    </tr>\n",
       "    <tr>\n",
       "      <th>3196189</th>\n",
       "      <td>72419</td>\n",
       "      <td>1</td>\n",
       "      <td>5</td>\n",
       "      <td>6</td>\n",
       "      <td>A02</td>\n",
       "      <td>20190902</td>\n",
       "      <td>21:19</td>\n",
       "      <td>743203</td>\n",
       "      <td>90888.0</td>\n",
       "      <td>NaN</td>\n",
       "      <td>39.0</td>\n",
       "      <td>743.0</td>\n",
       "      <td>unknown</td>\n",
       "      <td>mobile_web</td>\n",
       "      <td>6.0</td>\n",
       "    </tr>\n",
       "    <tr>\n",
       "      <th>3196201</th>\n",
       "      <td>72423</td>\n",
       "      <td>1</td>\n",
       "      <td>1</td>\n",
       "      <td>6</td>\n",
       "      <td>A01</td>\n",
       "      <td>20190917</td>\n",
       "      <td>11:48</td>\n",
       "      <td>116283</td>\n",
       "      <td>102596.0</td>\n",
       "      <td>NaN</td>\n",
       "      <td>24.0</td>\n",
       "      <td>114.0</td>\n",
       "      <td>unknown</td>\n",
       "      <td>mobile_app</td>\n",
       "      <td>6.0</td>\n",
       "    </tr>\n",
       "    <tr>\n",
       "      <th>3196293</th>\n",
       "      <td>72424</td>\n",
       "      <td>2</td>\n",
       "      <td>52</td>\n",
       "      <td>6</td>\n",
       "      <td>A03</td>\n",
       "      <td>20190924</td>\n",
       "      <td>17:12</td>\n",
       "      <td>2410463</td>\n",
       "      <td>108506.0</td>\n",
       "      <td>NaN</td>\n",
       "      <td>82.0</td>\n",
       "      <td>2445.0</td>\n",
       "      <td>PORTAL_1</td>\n",
       "      <td>PC</td>\n",
       "      <td>5.0</td>\n",
       "    </tr>\n",
       "    <tr>\n",
       "      <th>3196350</th>\n",
       "      <td>72427</td>\n",
       "      <td>3</td>\n",
       "      <td>20</td>\n",
       "      <td>6</td>\n",
       "      <td>A02</td>\n",
       "      <td>20190805</td>\n",
       "      <td>11:40</td>\n",
       "      <td>1263935</td>\n",
       "      <td>68908.0</td>\n",
       "      <td>NaN</td>\n",
       "      <td>23.0</td>\n",
       "      <td>1275.0</td>\n",
       "      <td>unknown</td>\n",
       "      <td>mobile_web</td>\n",
       "      <td>6.0</td>\n",
       "    </tr>\n",
       "  </tbody>\n",
       "</table>\n",
       "<p>56249 rows × 15 columns</p>\n",
       "</div>"
      ],
      "text/plain": [
       "         clnt_id  sess_id  hit_seq  action_type biz_unit   sess_dt hit_tm  \\\n",
       "46             2        1       37            6      A03  20190728  23:47   \n",
       "145            2        8       68            6      A03  20190731  21:25   \n",
       "167            2       10       16            6      A03  20190801  22:00   \n",
       "247            2       19       17            6      A03  20190830  22:00   \n",
       "270            4        1        2            6      A01  20190826  10:38   \n",
       "...          ...      ...      ...          ...      ...       ...    ...   \n",
       "3196182    72418        3       12            6      A02  20190919  12:52   \n",
       "3196189    72419        1        5            6      A02  20190902  21:19   \n",
       "3196201    72423        1        1            6      A01  20190917  11:48   \n",
       "3196293    72424        2       52            6      A03  20190924  17:12   \n",
       "3196350    72427        3       20            6      A02  20190805  11:40   \n",
       "\n",
       "         hit_pss_tm  trans_id sech_kwd  tot_pag_view_ct  tot_sess_hr_v  \\\n",
       "46           791905   62037.0      NaN             61.0          911.0   \n",
       "145         3251794   64691.0      NaN             85.0         3256.0   \n",
       "167          306944   65505.0      NaN             23.0          353.0   \n",
       "247         2227390   88495.0      NaN             29.0         2253.0   \n",
       "270          402600   85046.0      NaN            115.0          950.0   \n",
       "...             ...       ...      ...              ...            ...   \n",
       "3196182     2359650  104648.0      NaN             22.0         2360.0   \n",
       "3196189      743203   90888.0      NaN             39.0          743.0   \n",
       "3196201      116283  102596.0      NaN             24.0          114.0   \n",
       "3196293     2410463  108506.0      NaN             82.0         2445.0   \n",
       "3196350     1263935   68908.0      NaN             23.0         1275.0   \n",
       "\n",
       "         trfc_src  dvc_ctg_nm  grade  \n",
       "46         DIRECT     unknown    5.0  \n",
       "145        DIRECT     unknown    5.0  \n",
       "167        DIRECT     unknown    5.0  \n",
       "247        DIRECT     unknown    5.0  \n",
       "270       unknown  mobile_app    6.0  \n",
       "...           ...         ...    ...  \n",
       "3196182   unknown          PC    6.0  \n",
       "3196189   unknown  mobile_web    6.0  \n",
       "3196201   unknown  mobile_app    6.0  \n",
       "3196293  PORTAL_1          PC    5.0  \n",
       "3196350   unknown  mobile_web    6.0  \n",
       "\n",
       "[56249 rows x 15 columns]"
      ]
     },
     "execution_count": 417,
     "metadata": {},
     "output_type": "execute_result"
    }
   ],
   "source": [
    "online[online['action_type'] == 6]"
   ]
  },
  {
   "cell_type": "markdown",
   "metadata": {},
   "source": [
    "<br>\n",
    "결제 시도 후에 결제 완료까지 이어지는 비율이 현저히 낮습니다. "
   ]
  },
  {
   "cell_type": "markdown",
   "metadata": {},
   "source": [
    "### 1-5. biz_unit(업종단위) : 온라인 및 오프라인 이용코드"
   ]
  },
  {
   "cell_type": "markdown",
   "metadata": {},
   "source": [
    " * 업종단위는 몇 개나 있는가?? => 3개\n",
    "     * 1. 온라인 행동 데이터 내 업종단위 갯수 : 3개 (A01, A02, A03)\n",
    "     * 2. 거래 정보 데이터 내 업종단위 갯수 : 6개 (A01, A02, A03, B01, B02, B03)"
   ]
  },
  {
   "cell_type": "markdown",
   "metadata": {},
   "source": [
    " * 업종단위 별로 온라인 행동데이터는 몇 건이 있는지? => 최대 23만 건 , 최소 19만건"
   ]
  },
  {
   "cell_type": "code",
   "execution_count": 154,
   "metadata": {},
   "outputs": [
    {
     "data": {
      "text/plain": [
       "<AxesSubplot:xlabel='biz_unit', ylabel='count'>"
      ]
     },
     "execution_count": 154,
     "metadata": {},
     "output_type": "execute_result"
    },
    {
     "data": {
      "image/png": "[encoded data removed]",
      "text/plain": [
       "<Figure size 432x288 with 1 Axes>"
      ]
     },
     "metadata": {
      "needs_background": "light"
     },
     "output_type": "display_data"
    }
   ],
   "source": [
    "sns.countplot(online['biz_unit'])"
   ]
  },
  {
   "cell_type": "markdown",
   "metadata": {},
   "source": [
    "온라인 업종 별로 인원수 차이가 큽니다.  \n",
    "왜 이렇게 업종별로 데이터 차이가 큰 것인지 궁금합니다.  \n",
    "중복 수가 많다는 가정을 하고, 유니크한 매장별 고객수를 뽑아보겠습니다. "
   ]
  },
  {
   "cell_type": "code",
   "execution_count": 425,
   "metadata": {},
   "outputs": [],
   "source": [
    "test = pd.DataFrame(raw_data2_Trade_Inform.groupby('clnt_id')['biz_unit'].apply(lambda x: ','.join(set(x))))"
   ]
  },
  {
   "cell_type": "code",
   "execution_count": 189,
   "metadata": {},
   "outputs": [
    {
     "data": {
      "text/plain": [
       "<AxesSubplot:xlabel='biz_unit', ylabel='count'>"
      ]
     },
     "execution_count": 189,
     "metadata": {},
     "output_type": "execute_result"
    },
    {
     "data": {
      "image/png": "[encoded data removed]",
      "text/plain": [
       "<Figure size 432x288 with 1 Axes>"
      ]
     },
     "metadata": {
      "needs_background": "light"
     },
     "output_type": "display_data"
    }
   ],
   "source": [
    "uniq_clnt = pd.DataFrame(online.groupby('clnt_id')['biz_unit'].apply(lambda x: ','.join(set(x))))\n",
    "sns.countplot(uniq_clnt['biz_unit'])"
   ]
  },
  {
   "cell_type": "markdown",
   "metadata": {},
   "source": [
    "그런데 고객과 매장을 그룹으로 묶어서 중복을 제거해보니,  \n",
    "실질적인 고객 수는 A03이 더 많은 모습을 볼 수 있었습니다."
   ]
  },
  {
   "cell_type": "markdown",
   "metadata": {},
   "source": [
    "**의견** A03 매장에서는 한 고객이 많이 구매했을 수도 있다.  \n",
    "매장 별로 경향성이 있는 지 파악을 해보는 게 중요할 것 같다.  \n",
    "이거 자체가 영향을 끼치는 지 명확하지 않다.  \n",
    "유의미 하지 않으면 밸런싱 할 필요가 없어보인다. "
   ]
  },
  {
   "cell_type": "markdown",
   "metadata": {},
   "source": [
    "그래서 이 부분에 대해서 두가지 더 살펴보았습니다. \n",
    "1. 각 매장별로 행동 유형에 대한 중복 확인.\n",
    "2. 각 매장별 행동 그래프"
   ]
  },
  {
   "cell_type": "markdown",
   "metadata": {},
   "source": [
    "#### 1-5-1. 각 매장별 행동 유형에 대한 중복 확인"
   ]
  },
  {
   "cell_type": "code",
   "execution_count": 5,
   "metadata": {},
   "outputs": [],
   "source": [
    "online_A03 = online[online['biz_unit']=='A03']\n",
    "online_A02 = online[online['biz_unit']=='A02']\n",
    "online_A01 = online[online['biz_unit']=='A01']"
   ]
  },
  {
   "cell_type": "code",
   "execution_count": 4,
   "metadata": {},
   "outputs": [
    {
     "ename": "NameError",
     "evalue": "name 'OverlabAct' is not defined",
     "output_type": "error",
     "traceback": [
      "\u001b[0;31m---------------------------------------------------------------------------\u001b[0m",
      "\u001b[0;31mNameError\u001b[0m                                 Traceback (most recent call last)",
      "\u001b[0;32m<ipython-input-4-5a4a07d9d222>\u001b[0m in \u001b[0;36m<module>\u001b[0;34m\u001b[0m\n\u001b[1;32m      3\u001b[0m \u001b[0monline_A01\u001b[0m \u001b[0;34m=\u001b[0m \u001b[0mraw_data1_Online_Act\u001b[0m\u001b[0;34m[\u001b[0m\u001b[0mraw_data1_Online_Act\u001b[0m\u001b[0;34m[\u001b[0m\u001b[0;34m'biz_unit'\u001b[0m\u001b[0;34m]\u001b[0m\u001b[0;34m==\u001b[0m\u001b[0;34m'A01'\u001b[0m\u001b[0;34m]\u001b[0m\u001b[0;34m\u001b[0m\u001b[0;34m\u001b[0m\u001b[0m\n\u001b[1;32m      4\u001b[0m \u001b[0;34m\u001b[0m\u001b[0m\n\u001b[0;32m----> 5\u001b[0;31m \u001b[0mnp_over_A03\u001b[0m \u001b[0;34m=\u001b[0m \u001b[0mOverlabAct\u001b[0m\u001b[0;34m(\u001b[0m\u001b[0monline_A03\u001b[0m\u001b[0;34m,\u001b[0m \u001b[0;36m5\u001b[0m\u001b[0;34m)\u001b[0m\u001b[0;34m\u001b[0m\u001b[0;34m\u001b[0m\u001b[0m\n\u001b[0m\u001b[1;32m      6\u001b[0m \u001b[0mnp_over_A02\u001b[0m \u001b[0;34m=\u001b[0m \u001b[0mOverlabAct\u001b[0m\u001b[0;34m(\u001b[0m\u001b[0monline_A02\u001b[0m\u001b[0;34m,\u001b[0m \u001b[0;36m5\u001b[0m\u001b[0;34m)\u001b[0m\u001b[0;34m\u001b[0m\u001b[0;34m\u001b[0m\u001b[0m\n\u001b[1;32m      7\u001b[0m \u001b[0mnp_over_A01\u001b[0m \u001b[0;34m=\u001b[0m \u001b[0mOverlabAct\u001b[0m\u001b[0;34m(\u001b[0m\u001b[0monline_A01\u001b[0m\u001b[0;34m,\u001b[0m \u001b[0;36m5\u001b[0m\u001b[0;34m)\u001b[0m\u001b[0;34m\u001b[0m\u001b[0;34m\u001b[0m\u001b[0m\n",
      "\u001b[0;31mNameError\u001b[0m: name 'OverlabAct' is not defined"
     ]
    }
   ],
   "source": [
    "np_over_A03 = OverlabAct(online_A03, 5)\n",
    "np_over_A02 = OverlabAct(online_A02, 5)\n",
    "np_over_A01 = OverlabAct(online_A01, 5)"
   ]
  },
  {
   "cell_type": "code",
   "execution_count": 267,
   "metadata": {},
   "outputs": [
    {
     "name": "stdout",
     "output_type": "stream",
     "text": [
      "A03에서 3번 이상 연속으로 결제 시도가 중복된 비율: 52.6 %\n",
      "A02에서 3번 이상 연속으로 결제 시도가 중복된 비율: 33.1 %\n",
      "A01에서 3번 이상 연속으로 결제 시도가 중복된 비율: nan %\n"
     ]
    }
   ],
   "source": [
    "print('A03에서 3번 이상 연속으로 결제 시도가 중복된 비율:', round(np_over_A03[np_over_A03>=3].sum()/np_over_A03.sum(),3)*100, '%')\n",
    "print('A02에서 3번 이상 연속으로 결제 시도가 중복된 비율:', round(np_over_A02[np_over_A02>=3].sum()/np_over_A02.sum(),3)*100, '%')\n",
    "print('A01에서 3번 이상 연속으로 결제 시도가 중복된 비율:', round(np_over_A01[np_over_A01>=3].sum()/np_over_A01.sum(),3)*100, '%')"
   ]
  },
  {
   "cell_type": "code",
   "execution_count": 270,
   "metadata": {},
   "outputs": [
    {
     "name": "stdout",
     "output_type": "stream",
     "text": [
      "A03에서 2번 이상 연속으로 결제 시도가 중복된 비율: 67.81 %\n",
      "A02에서 2번 이상 연속으로 결제 시도가 중복된 비율: 72.5 %\n",
      "A01에서 2번 이상 연속으로 결제 시도가 중복된 비율: nan %\n"
     ]
    }
   ],
   "source": [
    "print('A03에서 2번 이상 연속으로 결제 시도가 중복된 비율:', round(np_over_A03[np_over_A03>=2].sum()/np_over_A03.sum(),4)*100, '%')\n",
    "print('A02에서 2번 이상 연속으로 결제 시도가 중복된 비율:', round(np_over_A02[np_over_A02>=2].sum()/np_over_A02.sum(),4)*100, '%')\n",
    "print('A01에서 2번 이상 연속으로 결제 시도가 중복된 비율:', round(np_over_A01[np_over_A01>=2].sum()/np_over_A01.sum(),4)*100, '%')"
   ]
  },
  {
   "cell_type": "markdown",
   "metadata": {},
   "source": [
    "<br><br>\n",
    "\n",
    "2번 이상 연속과 3번 이상 연속인 경우 달라지는 모습을 확인 할 수 있습니다.   \n",
    "중복을 결정하는 숫자도 중요할 것 같습니다. "
   ]
  },
  {
   "cell_type": "markdown",
   "metadata": {},
   "source": [
    "#### 1-5-2. 각 매장별 행동 그래프"
   ]
  },
  {
   "cell_type": "code",
   "execution_count": 262,
   "metadata": {},
   "outputs": [
    {
     "data": {
      "image/png": "[encoded data removed]",
      "text/plain": [
       "<Figure size 1080x360 with 3 Axes>"
      ]
     },
     "metadata": {},
     "output_type": "display_data"
    }
   ],
   "source": [
    "fig, axs = plt.subplots(1, 3, figsize=(15, 5))\n",
    "label_3 = ['검색', '목록', '세부정보', '장바구니 추가', '장바구니 삭제', '결제 시도', '구매', '환불']\n",
    "label_2 = ['검색', '목록', '세부정보', '장바구니 추가', '장바구니 삭제', '결제 시도', '구매', '환불']\n",
    "label_1 = ['검색', '구매']\n",
    "\n",
    "axs[0].pie(online_A03['action_type'].value_counts().sort_index(), autopct='%0.1f%%', labels=label_3)\n",
    "axs[0].set_title('A03의 행동 데이터')\n",
    "\n",
    "axs[1].pie(online_A02['action_type'].value_counts().sort_index(), autopct='%0.1f%%', labels=label_2)\n",
    "axs[1].set_title('A02의 행동 데이터')\n",
    "\n",
    "axs[2].pie(online_A01['action_type'].value_counts().sort_index(), autopct='%0.1f%%', labels=label_1)\n",
    "axs[2].set_title('A01의 행동 데이터')\n",
    "\n",
    "plt.show()"
   ]
  },
  {
   "cell_type": "markdown",
   "metadata": {},
   "source": [
    "각 매장별 행동 데이터에 대한 분포도 다릅니다.  \n",
    "A03의 경우 결제 시도가 가장 많긴 하지만 대체로 골고루 분포가 되어 있습니다.  \n",
    "A02의 경우 세부정보가 과반수 넘게 분포되어 있습니다.  \n",
    "A01의 경우 검색과 구매 데이터만 있습니다. "
   ]
  },
  {
   "cell_type": "markdown",
   "metadata": {},
   "source": [
    "### 1-13. dvc_ctg_nm : 기기 유형 \n",
    "\n",
    " * mobile_web / mobile_app / PC"
   ]
  },
  {
   "cell_type": "markdown",
   "metadata": {},
   "source": [
    " * 기기유형의 종류는 몇 개나 있는가?? => 3개"
   ]
  },
  {
   "cell_type": "code",
   "execution_count": 20,
   "metadata": {},
   "outputs": [],
   "source": [
    "online_A03 = online[online['biz_unit']=='A03']\n",
    "online_A02 = online[online['biz_unit']=='A02']\n",
    "online_A01 = online[online['biz_unit']=='A01']"
   ]
  },
  {
   "cell_type": "code",
   "execution_count": 21,
   "metadata": {},
   "outputs": [
    {
     "data": {
      "image/png": "[encoded data removed]",
      "text/plain": [
       "<Figure size 1800x576 with 3 Axes>"
      ]
     },
     "metadata": {},
     "output_type": "display_data"
    }
   ],
   "source": [
    "fig, axs = plt.subplots(1, 3, figsize=(25, 8))\n",
    "labels = ['PC', 'mobile_app', 'mobile_web', 'unknown']\n",
    "\n",
    "axs[0].pie(online_A03['dvc_ctg_nm'].value_counts().sort_index(), autopct='%0.1f%%')\n",
    "axs[0].legend(labels)\n",
    "axs[0].set_title('A03의 기기 유형')\n",
    "\n",
    "axs[1].pie(online_A02['dvc_ctg_nm'].value_counts().sort_index(), autopct='%0.1f%%')\n",
    "axs[1].legend(labels)\n",
    "axs[1].set_title('A02의 기기 유형')\n",
    "\n",
    "axs[2].pie(online_A01['dvc_ctg_nm'].value_counts().sort_index(), autopct='%0.1f%%')\n",
    "axs[2].legend(labels)\n",
    "axs[2].set_title('A01의 기기 유형')\n",
    "\n",
    "plt.show()"
   ]
  },
  {
   "cell_type": "markdown",
   "metadata": {},
   "source": [
    "<br><br>\n",
    "#### 1-13-1. 결측치 처리\n",
    "A03의 기기에 유일하게 mobile-app의 정보가 없다.\n",
    "- A03의 unknown 데이터는 mobile_app으로 변경"
   ]
  },
  {
   "cell_type": "code",
   "execution_count": 22,
   "metadata": {},
   "outputs": [],
   "source": [
    "online.loc[online['dvc_ctg_nm']=='unknown', 'dvc_ctg_nm'] = 'mobile_app'"
   ]
  },
  {
   "cell_type": "code",
   "execution_count": 23,
   "metadata": {},
   "outputs": [],
   "source": [
    "online_A03 = online[online['biz_unit']=='A03']\n",
    "online_A02 = online[online['biz_unit']=='A02']\n",
    "online_A01 = online[online['biz_unit']=='A01']"
   ]
  },
  {
   "cell_type": "code",
   "execution_count": 24,
   "metadata": {},
   "outputs": [
    {
     "data": {
      "text/plain": [
       "PC             150421\n",
       "mobile_app    1782081\n",
       "mobile_web     398935\n",
       "Name: dvc_ctg_nm, dtype: int64"
      ]
     },
     "execution_count": 24,
     "metadata": {},
     "output_type": "execute_result"
    }
   ],
   "source": [
    "online_A03['dvc_ctg_nm'].value_counts().sort_index()"
   ]
  },
  {
   "cell_type": "code",
   "execution_count": 25,
   "metadata": {},
   "outputs": [
    {
     "data": {
      "image/png": "[encoded data removed]",
      "text/plain": [
       "<Figure size 1800x576 with 3 Axes>"
      ]
     },
     "metadata": {},
     "output_type": "display_data"
    }
   ],
   "source": [
    "fig, axs = plt.subplots(1, 3, figsize=(25, 8))\n",
    "labels1 = ['PC', 'mobile_app',  'mobile_web']\n",
    "labels2 = ['PC', 'mobile_app', 'mobile_web',  'unknown']\n",
    "\n",
    "axs[0].pie(online_A03['dvc_ctg_nm'].value_counts().sort_index(), autopct='%0.1f%%')\n",
    "axs[0].legend(labels1)\n",
    "axs[0].set_title('A03의 기기 유형')\n",
    "\n",
    "axs[1].pie(online_A02['dvc_ctg_nm'].value_counts().sort_index(), autopct='%0.1f%%')\n",
    "axs[1].legend(labels2)\n",
    "axs[1].set_title('A02의 기기 유형')\n",
    "\n",
    "axs[2].pie(online_A01['dvc_ctg_nm'].value_counts().sort_index(), autopct='%0.1f%%')\n",
    "axs[2].legend(labels2)\n",
    "axs[2].set_title('A01의 기기 유형')\n",
    "\n",
    "plt.show()"
   ]
  },
  {
   "cell_type": "markdown",
   "metadata": {},
   "source": [
    "<br><br>\n",
    "### 1-14. trfc_src : 유입 채널 \n",
    "\n",
    " * 종류 : DIRECT / PUSH / WEBSITE / PORTAL_1 / PORTAL_2 / PORTAL_3 / unknown"
   ]
  },
  {
   "cell_type": "markdown",
   "metadata": {},
   "source": [
    " * 유입채널의 종류는 몇 개나 있는가?? => 7개"
   ]
  },
  {
   "cell_type": "code",
   "execution_count": 26,
   "metadata": {},
   "outputs": [
    {
     "data": {
      "text/plain": [
       "7"
      ]
     },
     "execution_count": 26,
     "metadata": {},
     "output_type": "execute_result"
    }
   ],
   "source": [
    "online['trfc_src'].nunique()"
   ]
  },
  {
   "cell_type": "markdown",
   "metadata": {},
   "source": [
    " * 유입채널 별 온라인 행동데이터는 몇 건이 있는지? => 최대 171만건 , 최소 9792건"
   ]
  },
  {
   "cell_type": "code",
   "execution_count": 27,
   "metadata": {},
   "outputs": [
    {
     "data": {
      "image/png": "[encoded data removed]",
      "text/plain": [
       "<Figure size 1800x576 with 3 Axes>"
      ]
     },
     "metadata": {},
     "output_type": "display_data"
    }
   ],
   "source": [
    "fig, axs = plt.subplots(1, 3, figsize=(25, 8))\n",
    "labels = ['DIRECT', 'PORTAL_1', 'PORTAL_2', 'PORTAL_3', 'PUSH', 'WEBSITE', 'unknown']\n",
    "\n",
    "axs[0].pie(online_A03['trfc_src'].value_counts().sort_index(), autopct='%0.1f%%')\n",
    "axs[0].legend(labels)\n",
    "axs[0].set_title('A03의 유입 채널')\n",
    "\n",
    "axs[1].pie(online_A02['trfc_src'].value_counts().sort_index(), autopct='%0.1f%%')\n",
    "axs[1].legend(labels)\n",
    "axs[1].set_title('A02의 유입 채널')\n",
    "\n",
    "axs[2].pie(online_A01['trfc_src'].value_counts().sort_index(), autopct='%0.1f%%')\n",
    "axs[2].legend(labels)\n",
    "axs[2].set_title('A01의 유입 채널')\n",
    "\n",
    "plt.show()"
   ]
  },
  {
   "cell_type": "markdown",
   "metadata": {},
   "source": [
    "<br><br>\n",
    "#### 1-14-1. 결측치 처리\n",
    "기기 유형으로 유입채널의 unknown 데이터를 임의로 채울 수 있을 것 같습니다.  \n",
    "다음과 같은 순서로 진행됩니다.  \n",
    "- A03를 기반으로 A01의 unknown 데이터 채우기\n",
    "- 관계를 분석한 기반으로 unknown 데이터 채우기"
   ]
  },
  {
   "cell_type": "code",
   "execution_count": 28,
   "metadata": {},
   "outputs": [],
   "source": [
    "import random\n",
    "def random_choise(data, dvc):\n",
    "    x = data.copy()\n",
    "    c_nm2_choiced = []\n",
    "    data_dvc = online_A03[online_A03['dvc_ctg_nm'] == dvc]['trfc_src']\n",
    "    c_nm2_list = data_dvc.value_counts().index\n",
    "    probs = list(data_dvc.value_counts() / data_dvc.count())\n",
    "    for i in x.index:\n",
    "        if (x.loc[i,['trfc_src']] == 'unknown')['trfc_src']:\n",
    "            x.loc[i,['trfc_src']] = random.choices(c_nm2_list, weights = probs)[0]\n",
    "    return x"
   ]
  },
  {
   "cell_type": "code",
   "execution_count": 29,
   "metadata": {},
   "outputs": [],
   "source": [
    "def change_trfc(dvc):\n",
    "    online_A02_app = online_A02[online_A02['dvc_ctg_nm'] == dvc]\n",
    "    online_A01_app = online_A01[online_A01['dvc_ctg_nm'] == dvc]\n",
    "\n",
    "    online_A02[online_A02['dvc_ctg_nm'] == dvc] = random_choise(online_A02_app, dvc)\n",
    "    online_A01[online_A01['dvc_ctg_nm'] == dvc] = random_choise(online_A01_app, dvc)"
   ]
  },
  {
   "cell_type": "code",
   "execution_count": 30,
   "metadata": {},
   "outputs": [],
   "source": [
    "def plot_trfc(dvc):\n",
    "    fig, axs = plt.subplots(3, 1, figsize=(8,6))\n",
    "    plt.subplots_adjust(hspace=0.8)\n",
    "    sns.countplot(online_A03[online_A03['dvc_ctg_nm'] == dvc]['trfc_src'], ax=axs[0]).set_title('A03_'+dvc)\n",
    "    sns.countplot(online_A02[online_A02['dvc_ctg_nm'] == dvc]['trfc_src'], ax=axs[1]).set_title('A02_'+dvc)\n",
    "    sns.countplot(online_A01[online_A01['dvc_ctg_nm'] == dvc]['trfc_src'], ax=axs[2]).set_title('A01_'+dvc)"
   ]
  },
  {
   "cell_type": "markdown",
   "metadata": {},
   "source": [
    "- mobile_app을 기준으로 채우기"
   ]
  },
  {
   "cell_type": "code",
   "execution_count": 31,
   "metadata": {},
   "outputs": [
    {
     "data": {
      "image/png": "[encoded data removed]",
      "text/plain": [
       "<Figure size 576x432 with 3 Axes>"
      ]
     },
     "metadata": {
      "needs_background": "light"
     },
     "output_type": "display_data"
    }
   ],
   "source": [
    "dvc = 'mobile_app'\n",
    "plot_trfc(dvc)"
   ]
  },
  {
   "cell_type": "markdown",
   "metadata": {},
   "source": [
    "mobile_app으로 들어올 수 있는 유입 경로는 DIRECT와 PUSH가 있습니다. "
   ]
  },
  {
   "cell_type": "code",
   "execution_count": 32,
   "metadata": {},
   "outputs": [],
   "source": [
    "change_trfc(dvc)"
   ]
  },
  {
   "cell_type": "code",
   "execution_count": 33,
   "metadata": {},
   "outputs": [
    {
     "data": {
      "image/png": "[encoded data removed]",
      "text/plain": [
       "<Figure size 576x432 with 3 Axes>"
      ]
     },
     "metadata": {
      "needs_background": "light"
     },
     "output_type": "display_data"
    }
   ],
   "source": [
    "plot_trfc(dvc)"
   ]
  },
  {
   "cell_type": "markdown",
   "metadata": {},
   "source": [
    "A02와 A01 모두 A03의 그래프와 비슷하게 채워졌습니다. "
   ]
  },
  {
   "cell_type": "markdown",
   "metadata": {},
   "source": [
    "- PC를 기준으로 채우기 "
   ]
  },
  {
   "cell_type": "code",
   "execution_count": 34,
   "metadata": {},
   "outputs": [
    {
     "data": {
      "image/png": "[encoded data removed]",
      "text/plain": [
       "<Figure size 576x432 with 3 Axes>"
      ]
     },
     "metadata": {
      "needs_background": "light"
     },
     "output_type": "display_data"
    }
   ],
   "source": [
    "dvc = 'PC'\n",
    "plot_trfc(dvc)"
   ]
  },
  {
   "cell_type": "code",
   "execution_count": 35,
   "metadata": {},
   "outputs": [],
   "source": [
    "change_trfc(dvc)"
   ]
  },
  {
   "cell_type": "code",
   "execution_count": 36,
   "metadata": {},
   "outputs": [
    {
     "data": {
      "image/png": "[encoded data removed]",
      "text/plain": [
       "<Figure size 576x432 with 3 Axes>"
      ]
     },
     "metadata": {
      "needs_background": "light"
     },
     "output_type": "display_data"
    }
   ],
   "source": [
    "plot_trfc(dvc)"
   ]
  },
  {
   "cell_type": "markdown",
   "metadata": {},
   "source": [
    "- mobile_web를 기준으로 채우기"
   ]
  },
  {
   "cell_type": "code",
   "execution_count": 37,
   "metadata": {},
   "outputs": [
    {
     "data": {
      "image/png": "[encoded data removed]",
      "text/plain": [
       "<Figure size 576x432 with 3 Axes>"
      ]
     },
     "metadata": {
      "needs_background": "light"
     },
     "output_type": "display_data"
    }
   ],
   "source": [
    "dvc = 'mobile_web'\n",
    "plot_trfc(dvc)"
   ]
  },
  {
   "cell_type": "code",
   "execution_count": 38,
   "metadata": {},
   "outputs": [],
   "source": [
    "change_trfc(dvc)"
   ]
  },
  {
   "cell_type": "code",
   "execution_count": 39,
   "metadata": {},
   "outputs": [
    {
     "data": {
      "image/png": "[encoded data removed]",
      "text/plain": [
       "<Figure size 576x432 with 3 Axes>"
      ]
     },
     "metadata": {
      "needs_background": "light"
     },
     "output_type": "display_data"
    }
   ],
   "source": [
    "plot_trfc(dvc)"
   ]
  },
  {
   "cell_type": "code",
   "execution_count": 40,
   "metadata": {},
   "outputs": [],
   "source": [
    "online = pd.concat([online_A01,online_A02,online_A03])"
   ]
  },
  {
   "cell_type": "code",
   "execution_count": 42,
   "metadata": {},
   "outputs": [],
   "source": [
    "online.to_csv('./data/online_03.csv', index=False)"
   ]
  },
  {
   "cell_type": "markdown",
   "metadata": {},
   "source": [
    "### 2-9. buy_ct : 구매 수량"
   ]
  },
  {
   "cell_type": "markdown",
   "metadata": {},
   "source": [
    " * 구매수량은 몇 종류나 있는가?? => 338개"
   ]
  },
  {
   "cell_type": "code",
   "execution_count": 93,
   "metadata": {},
   "outputs": [
    {
     "data": {
      "text/plain": [
       "338"
      ]
     },
     "execution_count": 93,
     "metadata": {},
     "output_type": "execute_result"
    }
   ],
   "source": [
    "raw_data2_Trade_Inform['buy_ct'].nunique()"
   ]
  },
  {
   "cell_type": "markdown",
   "metadata": {},
   "source": [
    " * 구매수량 별 거래정보데이터는 몇 건이 있는지? => 최대 49만건 , 최소 1건"
   ]
  },
  {
   "cell_type": "code",
   "execution_count": 94,
   "metadata": {},
   "outputs": [
    {
     "data": {
      "text/plain": [
       "1      497831\n",
       "2       62837\n",
       "3       12371\n",
       "0        6775\n",
       "4        6377\n",
       "        ...  \n",
       "210         1\n",
       "207         1\n",
       "717         1\n",
       "204         1\n",
       "155         1\n",
       "Name: buy_ct, Length: 338, dtype: int64"
      ]
     },
     "execution_count": 94,
     "metadata": {},
     "output_type": "execute_result"
    }
   ],
   "source": [
    "raw_data2_Trade_Inform['buy_ct'].value_counts()"
   ]
  },
  {
   "cell_type": "markdown",
   "metadata": {},
   "source": [
    " * NaN 갯수 확인 => 없음\n",
    "     * 위 최소 수량 0을 결측치로 고려 => 6775개"
   ]
  },
  {
   "cell_type": "code",
   "execution_count": 95,
   "metadata": {},
   "outputs": [
    {
     "data": {
      "text/plain": [
       "0"
      ]
     },
     "execution_count": 95,
     "metadata": {},
     "output_type": "execute_result"
    }
   ],
   "source": [
    "raw_data2_Trade_Inform['buy_ct'].isna().sum()"
   ]
  },
  {
   "cell_type": "markdown",
   "metadata": {},
   "source": [
    " * 최대 수량은?? => 3600개"
   ]
  },
  {
   "cell_type": "code",
   "execution_count": 96,
   "metadata": {},
   "outputs": [
    {
     "data": {
      "text/plain": [
       "3600"
      ]
     },
     "execution_count": 96,
     "metadata": {},
     "output_type": "execute_result"
    }
   ],
   "source": [
    "max(raw_data2_Trade_Inform['buy_ct'])"
   ]
  },
  {
   "cell_type": "markdown",
   "metadata": {},
   "source": [
    " * 최소 수량은?? => 0\n",
    "     * 결측치로 고려"
   ]
  },
  {
   "cell_type": "code",
   "execution_count": 97,
   "metadata": {},
   "outputs": [
    {
     "data": {
      "text/plain": [
       "0"
      ]
     },
     "execution_count": 97,
     "metadata": {},
     "output_type": "execute_result"
    }
   ],
   "source": [
    "min(raw_data2_Trade_Inform['buy_ct'])"
   ]
  },
  {
   "cell_type": "markdown",
   "metadata": {},
   "source": [
    " ## 3. 사용자 demo 정보(나이, 성별) 확인"
   ]
  },
  {
   "cell_type": "code",
   "execution_count": 98,
   "metadata": {},
   "outputs": [
    {
     "data": {
      "text/html": [
       "<div>\n",
       "<style scoped>\n",
       "    .dataframe tbody tr th:only-of-type {\n",
       "        vertical-align: middle;\n",
       "    }\n",
       "\n",
       "    .dataframe tbody tr th {\n",
       "        vertical-align: top;\n",
       "    }\n",
       "\n",
       "    .dataframe thead th {\n",
       "        text-align: right;\n",
       "    }\n",
       "</style>\n",
       "<table border=\"1\" class=\"dataframe\">\n",
       "  <thead>\n",
       "    <tr style=\"text-align: right;\">\n",
       "      <th></th>\n",
       "      <th>clnt_id</th>\n",
       "      <th>clnt_gender</th>\n",
       "      <th>clnt_age</th>\n",
       "    </tr>\n",
       "  </thead>\n",
       "  <tbody>\n",
       "    <tr>\n",
       "      <th>0</th>\n",
       "      <td>1</td>\n",
       "      <td>unknown</td>\n",
       "      <td>unknown</td>\n",
       "    </tr>\n",
       "    <tr>\n",
       "      <th>1</th>\n",
       "      <td>2</td>\n",
       "      <td>F</td>\n",
       "      <td>30</td>\n",
       "    </tr>\n",
       "    <tr>\n",
       "      <th>2</th>\n",
       "      <td>3</td>\n",
       "      <td>unknown</td>\n",
       "      <td>unknown</td>\n",
       "    </tr>\n",
       "    <tr>\n",
       "      <th>3</th>\n",
       "      <td>4</td>\n",
       "      <td>unknown</td>\n",
       "      <td>unknown</td>\n",
       "    </tr>\n",
       "    <tr>\n",
       "      <th>4</th>\n",
       "      <td>5</td>\n",
       "      <td>unknown</td>\n",
       "      <td>unknown</td>\n",
       "    </tr>\n",
       "  </tbody>\n",
       "</table>\n",
       "</div>"
      ],
      "text/plain": [
       "   clnt_id clnt_gender clnt_age\n",
       "0        1     unknown  unknown\n",
       "1        2           F       30\n",
       "2        3     unknown  unknown\n",
       "3        4     unknown  unknown\n",
       "4        5     unknown  unknown"
      ]
     },
     "execution_count": 98,
     "metadata": {},
     "output_type": "execute_result"
    }
   ],
   "source": [
    "raw_data3_Demog.head()"
   ]
  },
  {
   "cell_type": "markdown",
   "metadata": {},
   "source": [
    " * 3-1(=2-1, 1-1). clnt_id : 고객 고유 식별 ID\n",
    " * 3-2. clnt_gender : 고객 성별\n",
    " * 3-3. clnt_age : 고객 연령대( 10단위:  10대 이하 / 20대 / 30대 / 40대 / 50대 / 60대 / unknown)"
   ]
  },
  {
   "cell_type": "code",
   "execution_count": 99,
   "metadata": {},
   "outputs": [
    {
     "data": {
      "text/plain": [
       "(72399, 3)"
      ]
     },
     "execution_count": 99,
     "metadata": {},
     "output_type": "execute_result"
    }
   ],
   "source": [
    "raw_data3_Demog.shape"
   ]
  },
  {
   "cell_type": "markdown",
   "metadata": {},
   "source": [
    " * 행 수(데이터 갯수) : 7.2만 개\n",
    " * 열 수(데이터 종류) : 3개"
   ]
  },
  {
   "cell_type": "code",
   "execution_count": 50,
   "metadata": {},
   "outputs": [
    {
     "data": {
      "text/plain": [
       "F    10352\n",
       "M     1893\n",
       "Name: clnt_gender, dtype: int64"
      ]
     },
     "execution_count": 50,
     "metadata": {},
     "output_type": "execute_result"
    }
   ],
   "source": [
    "raw_data3_Demog['clnt_gender'].value_counts().sort_index()"
   ]
  },
  {
   "cell_type": "code",
   "execution_count": 54,
   "metadata": {},
   "outputs": [
    {
     "data": {
      "image/png": "[encoded data removed]",
      "text/plain": [
       "<Figure size 1080x720 with 2 Axes>"
      ]
     },
     "metadata": {},
     "output_type": "display_data"
    }
   ],
   "source": [
    "fig, axs = plt.subplots(1, 2, figsize=(15, 10))\n",
    "label_gender = ['여성', '남성']\n",
    "label_age = ['10대', '20대', '30대', '40대', '50대', '60대']\n",
    "\n",
    "axs[0].pie(raw_data3_Demog['clnt_gender'].value_counts().sort_index(), autopct='%0.1f%%', labels=label_gender)\n",
    "axs[0].set_title('고객 성별 데이터')\n",
    "\n",
    "axs[1].pie(raw_data3_Demog['clnt_age'].value_counts().sort_index(), autopct='%0.1f%%', labels=label_age)\n",
    "axs[1].set_title('고객 나이 데이터')\n",
    "\n",
    "plt.show()"
   ]
  },
  {
   "cell_type": "markdown",
   "metadata": {},
   "source": [
    "### 3-1. clnt_Id : 고객 고유 식별 ID\n",
    "\n",
    " * 1-1, 2-1 clnt_id와 동일 의미"
   ]
  },
  {
   "cell_type": "markdown",
   "metadata": {},
   "source": [
    " * 고객 ID는 몇 개나 있는가?? => 7만명의 고객 ID 보유\n",
    "     * 1. 온라인 행동 데이터 내 고객ID 갯수 : 72399개\n",
    "     * 2. 거래 정보 데이터 내 고객ID 갯수 :11284개\n",
    "     * 3. 사용자 demog 정보 내 고객ID 갯수 : 72399개"
   ]
  },
  {
   "cell_type": "code",
   "execution_count": 100,
   "metadata": {},
   "outputs": [
    {
     "data": {
      "text/plain": [
       "72399"
      ]
     },
     "execution_count": 100,
     "metadata": {},
     "output_type": "execute_result"
    }
   ],
   "source": [
    "raw_data3_Demog['clnt_id'].nunique()"
   ]
  },
  {
   "cell_type": "markdown",
   "metadata": {},
   "source": [
    " * 고객ID 별로 사용자 demog 데이터는 몇 건이 있는지? => 1건\n",
    "     * 서로 다른 사람이 같은 ID를 공유하는 오류데이터는 없음"
   ]
  },
  {
   "cell_type": "code",
   "execution_count": 101,
   "metadata": {},
   "outputs": [
    {
     "data": {
      "text/plain": [
       "2047     1\n",
       "27288    1\n",
       "14994    1\n",
       "12947    1\n",
       "2708     1\n",
       "        ..\n",
       "25958    1\n",
       "32101    1\n",
       "30052    1\n",
       "19811    1\n",
       "2049     1\n",
       "Name: clnt_id, Length: 72399, dtype: int64"
      ]
     },
     "execution_count": 101,
     "metadata": {},
     "output_type": "execute_result"
    }
   ],
   "source": [
    "raw_data3_Demog['clnt_id'].value_counts()"
   ]
  },
  {
   "cell_type": "markdown",
   "metadata": {},
   "source": [
    " * 결측치 갯수 확인 => 없음"
   ]
  },
  {
   "cell_type": "code",
   "execution_count": 102,
   "metadata": {},
   "outputs": [
    {
     "data": {
      "text/plain": [
       "0"
      ]
     },
     "execution_count": 102,
     "metadata": {},
     "output_type": "execute_result"
    }
   ],
   "source": [
    "raw_data3_Demog['clnt_id'].isna().sum()"
   ]
  },
  {
   "cell_type": "markdown",
   "metadata": {},
   "source": [
    "### 3-2. clnt_gender : 고객 성별"
   ]
  },
  {
   "cell_type": "markdown",
   "metadata": {},
   "source": [
    " * 성별은 몇 개나 있는가?? => 3개 (남, 여, 알수 없음)"
   ]
  },
  {
   "cell_type": "code",
   "execution_count": 103,
   "metadata": {},
   "outputs": [
    {
     "data": {
      "text/plain": [
       "3"
      ]
     },
     "execution_count": 103,
     "metadata": {},
     "output_type": "execute_result"
    }
   ],
   "source": [
    "raw_data3_Demog['clnt_gender'].nunique()"
   ]
  },
  {
   "cell_type": "markdown",
   "metadata": {},
   "source": [
    " * 성별 별로 사용자 demog 데이터는 몇 건이 있는지? => 알 수없음 6만, 여성 1만, 남성 1800"
   ]
  },
  {
   "cell_type": "code",
   "execution_count": 104,
   "metadata": {},
   "outputs": [
    {
     "data": {
      "text/plain": [
       "unknown    60154\n",
       "F          10352\n",
       "M           1893\n",
       "Name: clnt_gender, dtype: int64"
      ]
     },
     "execution_count": 104,
     "metadata": {},
     "output_type": "execute_result"
    }
   ],
   "source": [
    "raw_data3_Demog['clnt_gender'].value_counts()"
   ]
  },
  {
   "cell_type": "markdown",
   "metadata": {},
   "source": [
    " * 결측치 갯수 확인 => 60154개"
   ]
  },
  {
   "cell_type": "markdown",
   "metadata": {},
   "source": [
    "### 3-3. clnt_age : 고객 연령대\n",
    "\n",
    " * 10단위: 10대 이하 / 20대 / 30대 / 40대 / 50대 / 60대 / unknown"
   ]
  },
  {
   "cell_type": "markdown",
   "metadata": {},
   "source": [
    " * 연령대는 몇 종류나 있는가?? => 7종"
   ]
  },
  {
   "cell_type": "code",
   "execution_count": 105,
   "metadata": {},
   "outputs": [
    {
     "data": {
      "text/plain": [
       "7"
      ]
     },
     "execution_count": 105,
     "metadata": {},
     "output_type": "execute_result"
    }
   ],
   "source": [
    "raw_data3_Demog['clnt_age'].nunique()"
   ]
  },
  {
   "cell_type": "markdown",
   "metadata": {},
   "source": [
    " * 연령 별로 사용자 demog 데이터는 몇 건이 있는지?\n",
    " \n",
    "     * 10대 : 46\n",
    "     * 20대 : 924\n",
    "     * 30대 : 4307\n",
    "     * 40대 : 4948\n",
    "     * 50대 : 1694\n",
    "     * 60대 : 326\n",
    "     * 알 수 없음 : 60154"
   ]
  },
  {
   "cell_type": "code",
   "execution_count": 106,
   "metadata": {},
   "outputs": [
    {
     "data": {
      "text/plain": [
       "unknown    60154\n",
       "40          4948\n",
       "30          4307\n",
       "50          1694\n",
       "20           924\n",
       "60           326\n",
       "10            46\n",
       "Name: clnt_age, dtype: int64"
      ]
     },
     "execution_count": 106,
     "metadata": {},
     "output_type": "execute_result"
    }
   ],
   "source": [
    "raw_data3_Demog['clnt_age'].value_counts()"
   ]
  },
  {
   "cell_type": "markdown",
   "metadata": {},
   "source": [
    " * 결측치 갯수 확인 => 60154개"
   ]
  },
  {
   "cell_type": "markdown",
   "metadata": {},
   "source": [
    "## 4. 상품 대중소 분류 정보"
   ]
  },
  {
   "cell_type": "code",
   "execution_count": 107,
   "metadata": {},
   "outputs": [
    {
     "data": {
      "text/html": [
       "<div>\n",
       "<style scoped>\n",
       "    .dataframe tbody tr th:only-of-type {\n",
       "        vertical-align: middle;\n",
       "    }\n",
       "\n",
       "    .dataframe tbody tr th {\n",
       "        vertical-align: top;\n",
       "    }\n",
       "\n",
       "    .dataframe thead th {\n",
       "        text-align: right;\n",
       "    }\n",
       "</style>\n",
       "<table border=\"1\" class=\"dataframe\">\n",
       "  <thead>\n",
       "    <tr style=\"text-align: right;\">\n",
       "      <th></th>\n",
       "      <th>pd_c</th>\n",
       "      <th>clac_nm1</th>\n",
       "      <th>clac_nm2</th>\n",
       "      <th>clac_nm3</th>\n",
       "    </tr>\n",
       "  </thead>\n",
       "  <tbody>\n",
       "    <tr>\n",
       "      <th>0</th>\n",
       "      <td>1</td>\n",
       "      <td>Automotive Products</td>\n",
       "      <td>Automotive Replacement Repair / Maintanance Kits</td>\n",
       "      <td>Automobile Oil / Additives</td>\n",
       "    </tr>\n",
       "    <tr>\n",
       "      <th>1</th>\n",
       "      <td>2</td>\n",
       "      <td>Automotive Products</td>\n",
       "      <td>Automotive Replacement Repair / Maintanance Kits</td>\n",
       "      <td>Car Lights</td>\n",
       "    </tr>\n",
       "    <tr>\n",
       "      <th>2</th>\n",
       "      <td>3</td>\n",
       "      <td>Automotive Products</td>\n",
       "      <td>Automotive Replacement Repair / Maintanance Kits</td>\n",
       "      <td>Car Paint</td>\n",
       "    </tr>\n",
       "    <tr>\n",
       "      <th>3</th>\n",
       "      <td>4</td>\n",
       "      <td>Automotive Products</td>\n",
       "      <td>Automotive Replacement Repair / Maintanance Kits</td>\n",
       "      <td>Filters</td>\n",
       "    </tr>\n",
       "    <tr>\n",
       "      <th>4</th>\n",
       "      <td>5</td>\n",
       "      <td>Automotive Products</td>\n",
       "      <td>Automotive Replacement Repair / Maintanance Kits</td>\n",
       "      <td>Wiper Blades</td>\n",
       "    </tr>\n",
       "  </tbody>\n",
       "</table>\n",
       "</div>"
      ],
      "text/plain": [
       "   pd_c             clac_nm1  \\\n",
       "0     1  Automotive Products   \n",
       "1     2  Automotive Products   \n",
       "2     3  Automotive Products   \n",
       "3     4  Automotive Products   \n",
       "4     5  Automotive Products   \n",
       "\n",
       "                                           clac_nm2  \\\n",
       "0  Automotive Replacement Repair / Maintanance Kits   \n",
       "1  Automotive Replacement Repair / Maintanance Kits   \n",
       "2  Automotive Replacement Repair / Maintanance Kits   \n",
       "3  Automotive Replacement Repair / Maintanance Kits   \n",
       "4  Automotive Replacement Repair / Maintanance Kits   \n",
       "\n",
       "                     clac_nm3  \n",
       "0  Automobile Oil / Additives  \n",
       "1                  Car Lights  \n",
       "2                   Car Paint  \n",
       "3                     Filters  \n",
       "4                Wiper Blades  "
      ]
     },
     "execution_count": 107,
     "metadata": {},
     "output_type": "execute_result"
    }
   ],
   "source": [
    "raw_data4_Item_Class.head()"
   ]
  },
  {
   "cell_type": "markdown",
   "metadata": {},
   "source": [
    "* 4-1. pd_c : 상품 소분류 코드\n",
    "* 4-2. clac_nm1 : 상품 대분류명\n",
    "* 4-3. clac_nm2 : 상품 중분류명\n",
    "* 4-4. clac_nm3 : 상품 소분류명"
   ]
  },
  {
   "cell_type": "code",
   "execution_count": 108,
   "metadata": {},
   "outputs": [
    {
     "data": {
      "text/plain": [
       "(1667, 4)"
      ]
     },
     "execution_count": 108,
     "metadata": {},
     "output_type": "execute_result"
    }
   ],
   "source": [
    "raw_data4_Item_Class.shape"
   ]
  },
  {
   "cell_type": "markdown",
   "metadata": {},
   "source": [
    " * 행 수(데이터 갯수) : 1667개\n",
    " * 열 수(데이터 종류) : 4개"
   ]
  },
  {
   "cell_type": "markdown",
   "metadata": {},
   "source": [
    "### 4-1. pd_c : 상품의 소분류 코드\n",
    "\n",
    " * 2-5. pd_c 데이터와 의미 동일"
   ]
  },
  {
   "cell_type": "markdown",
   "metadata": {},
   "source": [
    " * 상품분류데이터 내 소분류 코드의 종류는 몇 개나 있는가?? => 1667개\n",
    "     * 2. 거래 정보 데이터 내 소분류 갯수 : 1668개\n",
    "     * 4. 상품 대중소 분류 데이터 내 소분류 갯수 : 1667개\n",
    "     * 1개 차이는 'unknown' 유무로 예상"
   ]
  },
  {
   "cell_type": "code",
   "execution_count": 109,
   "metadata": {},
   "outputs": [
    {
     "data": {
      "text/plain": [
       "1667"
      ]
     },
     "execution_count": 109,
     "metadata": {},
     "output_type": "execute_result"
    }
   ],
   "source": [
    "raw_data4_Item_Class['pd_c'].nunique()"
   ]
  },
  {
   "cell_type": "markdown",
   "metadata": {},
   "source": [
    " * 소분류코드 별 상품분류데이터는 몇 건이 있는지? => 각 1건"
   ]
  },
  {
   "cell_type": "code",
   "execution_count": 110,
   "metadata": {},
   "outputs": [
    {
     "data": {
      "text/plain": [
       "1667    1\n",
       "834     1\n",
       "1098    1\n",
       "1100    1\n",
       "1102    1\n",
       "       ..\n",
       "563     1\n",
       "565     1\n",
       "567     1\n",
       "569     1\n",
       "2       1\n",
       "Name: pd_c, Length: 1667, dtype: int64"
      ]
     },
     "execution_count": 110,
     "metadata": {},
     "output_type": "execute_result"
    }
   ],
   "source": [
    "raw_data4_Item_Class['pd_c'].value_counts()"
   ]
  },
  {
   "cell_type": "markdown",
   "metadata": {},
   "source": [
    " * 결측치 갯수 확인 => 없음"
   ]
  },
  {
   "cell_type": "code",
   "execution_count": 111,
   "metadata": {},
   "outputs": [
    {
     "data": {
      "text/plain": [
       "0"
      ]
     },
     "execution_count": 111,
     "metadata": {},
     "output_type": "execute_result"
    }
   ],
   "source": [
    "raw_data4_Item_Class['pd_c'].isna().sum()"
   ]
  },
  {
   "cell_type": "markdown",
   "metadata": {},
   "source": [
    "### 4-2. clac_nm1 : 상품 대분류명"
   ]
  },
  {
   "cell_type": "markdown",
   "metadata": {},
   "source": [
    " * 상품분류데이터 내 대분류명의 종류는 몇 개나 있는가?? => 60개"
   ]
  },
  {
   "cell_type": "code",
   "execution_count": 112,
   "metadata": {},
   "outputs": [
    {
     "data": {
      "text/plain": [
       "60"
      ]
     },
     "execution_count": 112,
     "metadata": {},
     "output_type": "execute_result"
    }
   ],
   "source": [
    "raw_data4_Item_Class['clac_nm1'].nunique()"
   ]
  },
  {
   "cell_type": "markdown",
   "metadata": {},
   "source": [
    " * 대분류명 별 상품분류데이터는 몇 건이 있는지? => 최대 100건, 최소 1건"
   ]
  },
  {
   "cell_type": "code",
   "execution_count": 113,
   "metadata": {},
   "outputs": [
    {
     "data": {
      "text/plain": [
       "Fashion Accessories                          100\n",
       "Meats                                         80\n",
       "Sea Foods                                     76\n",
       "Vegetables                                    70\n",
       "Kids' Clothing                                67\n",
       "Stationary / Office Supplies                  61\n",
       "Fruits                                        56\n",
       "Underwear / Socks and Hosiery / Homewear      53\n",
       "Sport Fashion                                 52\n",
       "Spices / Seasonings                           49\n",
       "Cosmetics / Beauty Care                       48\n",
       "Personal Care                                 38\n",
       "Snack Foods                                   36\n",
       "Tableware / Cooking Utensils                  35\n",
       "Cooked Foods                                  35\n",
       "Gardening / Pets                              35\n",
       "Home / Kitchen Appliances                     33\n",
       "Chilled Foods                                 32\n",
       "Kitchenware                                   30\n",
       "Cleaning / Laundry / Bathroom Accessories     30\n",
       "Bedding / Handicraft                          30\n",
       "Health Foods                                  29\n",
       "Toy                                           29\n",
       "Automotive Products                           29\n",
       "Ball Game / Field Sports                      28\n",
       "Detergents / Hygiene Goods                    28\n",
       "Dried Sea Foods                               27\n",
       "Outdoor / Leisure Activities                  26\n",
       "Substitute Foods                              26\n",
       "Birth Supplies / Baby Products                26\n",
       "Furniture                                     26\n",
       "Women's Clothing                              25\n",
       "Beverages                                     23\n",
       "Liquors / Alcoholic Beverages                 21\n",
       "Health Care                                   21\n",
       "Men's Clothing                                20\n",
       "Frozen Foods                                  20\n",
       "Home Decor / Lighting                         18\n",
       "Coffee / Tea                                  18\n",
       "Tenants / Restaurants                         17\n",
       "Seasonal Sports                               17\n",
       "Grains                                        15\n",
       "Canned / Jarred Foods                         15\n",
       "Video / Audio System Electronics              14\n",
       "Tools / Safety Supplies                       13\n",
       "Computers                                     13\n",
       "Health / Fitness Training                     12\n",
       "Dairy Products                                 9\n",
       "Books / Records / Instruments                  9\n",
       "Heating / Cooling Electronics                  9\n",
       "Cell Phones / Accessories                      6\n",
       "Living / Rental Services                       6\n",
       "Gift Certificates / Cards                      5\n",
       "Refrigerators and Washing Machines             5\n",
       "Baby Foods                                     4\n",
       "Travel / Leisure Services                      3\n",
       "Finance / Insurance Service                    3\n",
       "Tobacco                                        3\n",
       "Others (Non-Products)                          2\n",
       "Other Products                                 1\n",
       "Name: clac_nm1, dtype: int64"
      ]
     },
     "execution_count": 113,
     "metadata": {},
     "output_type": "execute_result"
    }
   ],
   "source": [
    "raw_data4_Item_Class['clac_nm1'].value_counts()"
   ]
  },
  {
   "cell_type": "markdown",
   "metadata": {},
   "source": [
    " * 결측치 갯수 확인 => 없음"
   ]
  },
  {
   "cell_type": "code",
   "execution_count": 114,
   "metadata": {},
   "outputs": [
    {
     "data": {
      "text/plain": [
       "0"
      ]
     },
     "execution_count": 114,
     "metadata": {},
     "output_type": "execute_result"
    }
   ],
   "source": [
    "raw_data4_Item_Class['clac_nm1'].isna().sum()"
   ]
  },
  {
   "cell_type": "markdown",
   "metadata": {},
   "source": [
    "### 4-3. clac_nm2 : 상품 중분류명"
   ]
  },
  {
   "cell_type": "markdown",
   "metadata": {},
   "source": [
    " * 상품분류데이터 내 중분류명의 종류는 몇 개나 있는가?? => 332개"
   ]
  },
  {
   "cell_type": "code",
   "execution_count": 115,
   "metadata": {},
   "outputs": [
    {
     "data": {
      "text/plain": [
       "332"
      ]
     },
     "execution_count": 115,
     "metadata": {},
     "output_type": "execute_result"
    }
   ],
   "source": [
    "raw_data4_Item_Class['clac_nm2'].nunique()"
   ]
  },
  {
   "cell_type": "markdown",
   "metadata": {},
   "source": [
    " * 중분류명 별 상품분류데이터는 몇 건이 있는지? => 최대 19건, 최소 1건"
   ]
  },
  {
   "cell_type": "code",
   "execution_count": 116,
   "metadata": {},
   "outputs": [
    {
     "data": {
      "text/plain": [
       "Fish                     19\n",
       "Kitchen Appliances       17\n",
       "Imported Fruits          16\n",
       "Leaf Vegetables          16\n",
       "Domestic Fruits          16\n",
       "                         ..\n",
       "Other Seasonal Sports     1\n",
       "Ready to Drinks           1\n",
       "Outdoor Furniture         1\n",
       "Coffee Drinks             1\n",
       "Boys' Clothing Sets       1\n",
       "Name: clac_nm2, Length: 332, dtype: int64"
      ]
     },
     "execution_count": 116,
     "metadata": {},
     "output_type": "execute_result"
    }
   ],
   "source": [
    "raw_data4_Item_Class['clac_nm2'].value_counts()"
   ]
  },
  {
   "cell_type": "markdown",
   "metadata": {},
   "source": [
    " * 결측치 갯수 확인 => 없음"
   ]
  },
  {
   "cell_type": "code",
   "execution_count": 117,
   "metadata": {},
   "outputs": [
    {
     "data": {
      "text/plain": [
       "0"
      ]
     },
     "execution_count": 117,
     "metadata": {},
     "output_type": "execute_result"
    }
   ],
   "source": [
    "raw_data4_Item_Class['clac_nm2'].isna().sum()"
   ]
  },
  {
   "cell_type": "markdown",
   "metadata": {},
   "source": [
    "### 4-4. clac_nm3 : 상품 소분류명"
   ]
  },
  {
   "cell_type": "markdown",
   "metadata": {},
   "source": [
    " * 상품분류데이터 내 소분류명의 종류는 몇 개나 있는가?? => 1662개\n",
    "     * 4-1. 소분류코드 종류 갯수 : 1667개\n",
    "     * 1662 + 3(같은이름 다른코드) + 2(결측치) = 1667"
   ]
  },
  {
   "cell_type": "code",
   "execution_count": 118,
   "metadata": {},
   "outputs": [
    {
     "data": {
      "text/plain": [
       "1662"
      ]
     },
     "execution_count": 118,
     "metadata": {},
     "output_type": "execute_result"
    }
   ],
   "source": [
    "raw_data4_Item_Class['clac_nm3'].nunique()"
   ]
  },
  {
   "cell_type": "markdown",
   "metadata": {},
   "source": [
    " * 소분류명 별 상품분류데이터는 몇 건이 있는지? => 최대 2건, 최소 1건\n",
    "     * 같은 상품 이름에 서로다른 소분류 코드 존재(Salads, Peppers, Lunch Boxes)"
   ]
  },
  {
   "cell_type": "code",
   "execution_count": 119,
   "metadata": {},
   "outputs": [
    {
     "data": {
      "text/plain": [
       "Lunch Boxes                               2\n",
       "Peppers                                   2\n",
       "Salads                                    2\n",
       "Tennis Balls                              1\n",
       "Gizzard Shad Sashimi / Sliced Raw Fish    1\n",
       "                                         ..\n",
       "Elderly Care Products                     1\n",
       "Chicken Wing Drumette                     1\n",
       "Pasta Sauces                              1\n",
       "Chilled Coffee and Tea Beverages          1\n",
       "Desktops                                  1\n",
       "Name: clac_nm3, Length: 1662, dtype: int64"
      ]
     },
     "execution_count": 119,
     "metadata": {},
     "output_type": "execute_result"
    }
   ],
   "source": [
    "raw_data4_Item_Class['clac_nm3'].value_counts()"
   ]
  },
  {
   "cell_type": "markdown",
   "metadata": {},
   "source": [
    " * 결측치 갯수 확인 => 2개"
   ]
  },
  {
   "cell_type": "code",
   "execution_count": 120,
   "metadata": {},
   "outputs": [
    {
     "data": {
      "text/plain": [
       "2"
      ]
     },
     "execution_count": 120,
     "metadata": {},
     "output_type": "execute_result"
    }
   ],
   "source": [
    "raw_data4_Item_Class['clac_nm3'].isna().sum()"
   ]
  },
  {
   "cell_type": "markdown",
   "metadata": {},
   "source": [
    "* 시각화 예시 - 막대 그래프"
   ]
  },
  {
   "cell_type": "code",
   "execution_count": 121,
   "metadata": {},
   "outputs": [
    {
     "data": {
      "image/png": "[encoded data removed]",
      "text/plain": [
       "<Figure size 432x288 with 1 Axes>"
      ]
     },
     "metadata": {},
     "output_type": "display_data"
    }
   ],
   "source": [
    "plt.style.use('ggplot')\n",
    "\n",
    "fig = plt.figure()\n",
    "\n",
    "ax = fig.add_subplot()\n",
    "ax.bar(online['biz_unit'].unique(), online['biz_unit'].value_counts())\n",
    "\n",
    "plt.show()"
   ]
  },
  {
   "cell_type": "code",
   "execution_count": null,
   "metadata": {},
   "outputs": [],
   "source": []
  },
  {
   "cell_type": "markdown",
   "metadata": {},
   "source": [
    "<br><br>\n",
    "\n",
    "## Data Saving"
   ]
  },
  {
   "cell_type": "markdown",
   "metadata": {},
   "source": [
    "- 각 key 값의 순서별로 순서를 매겨 저장합니다."
   ]
  },
  {
   "cell_type": "code",
   "execution_count": 22,
   "metadata": {},
   "outputs": [],
   "source": [
    "online = online.sort_values(['clnt_id','sess_id','hit_seq'])\n",
    "online.to_csv('./data/online_03.csv', index=False)"
   ]
  },
  {
   "cell_type": "code",
   "execution_count": 23,
   "metadata": {},
   "outputs": [],
   "source": [
    "trade = trade.sort_values(['clnt_id','trans_id','trans_seq'])\n",
    "trade.to_csv('./data/trade_03.csv',index=False)"
   ]
  },
  {
   "cell_type": "code",
   "execution_count": 24,
   "metadata": {},
   "outputs": [],
   "source": [
    "customer = customer.sort_values('clnt_id')\n",
    "customer.to_csv('./data/customer_03.csv',index=False)"
   ]
  },
  {
   "cell_type": "code",
   "execution_count": 25,
   "metadata": {},
   "outputs": [],
   "source": [
    "item = item.sort_values('pd_c')\n",
    "item.to_csv('./data/item_03.csv',index=False)"
   ]
  }
 ],
 "metadata": {
  "kernelspec": {
   "display_name": "Python 3",
   "language": "python",
   "name": "python3"
  },
  "language_info": {
   "codemirror_mode": {
    "name": "ipython",
    "version": 3
   },
   "file_extension": ".py",
   "mimetype": "text/x-python",
   "name": "python",
   "nbconvert_exporter": "python",
   "pygments_lexer": "ipython3",
   "version": "3.7.7"
  }
 },
 "nbformat": 4,
 "nbformat_minor": 4
}
