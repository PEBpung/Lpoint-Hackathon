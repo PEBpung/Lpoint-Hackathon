{
 "cells": [
  {
   "cell_type": "markdown",
   "metadata": {},
   "source": [
    "# Wide & Deep Learning model 구현\n",
    "\n",
    "    * 꿈이 많은 사람의 이야기 블로그 참조하여 Wide & Deep Learning model 구현해보기\n",
    "      - https://lsjsj92.tistory.com/597"
   ]
  },
  {
   "cell_type": "markdown",
   "metadata": {},
   "source": [
    "* 라이브러리 불러오기"
   ]
  },
  {
   "cell_type": "code",
   "execution_count": 142,
   "metadata": {},
   "outputs": [],
   "source": [
    "import pandas as pd\n",
    "import numpy as np\n",
    "import os\n",
    "from sklearn.preprocessing import StandardScaler, PolynomialFeatures, LabelEncoder\n",
    "\n",
    "from tensorflow.keras.utils import plot_model"
   ]
  },
  {
   "cell_type": "code",
   "execution_count": 143,
   "metadata": {},
   "outputs": [],
   "source": [
    "COLUMNS = [\n",
    "    \"clnt_id\", \"clnt_age\", \"hit_pss_tm\", \"action_type\", \"de_dt\", \n",
    "    \"hit_pss_tm\", \"trans_id\", \"tot_pag_view_ct\", \"tot_sess_hr_v\", \n",
    "    \"trfc_src\", \"dvc_ctg_nm\"\n",
    "]\n",
    "\n",
    "CATEGORICAL_COLUMNS = [\n",
    "    \"clnt_gender\", \"trfc_src\", \"dvc_ctg_nm\"\n",
    "]\n",
    "\n",
    "CONTINUOUS_COLUMNS = [\n",
    "    \"clnt_id\", \"clnt_age\", \"hit_pss_tm\", \"action_type\", \"de_dt\", \n",
    "    \"tot_pag_view_ct\", \"tot_sess_hr_v\"\n",
    "]"
   ]
  },
  {
   "cell_type": "code",
   "execution_count": 144,
   "metadata": {},
   "outputs": [
    {
     "data": {
      "text/plain": [
       "11"
      ]
     },
     "execution_count": 144,
     "metadata": {},
     "output_type": "execute_result"
    }
   ],
   "source": [
    "len(COLUMNS)"
   ]
  },
  {
   "cell_type": "code",
   "execution_count": 145,
   "metadata": {},
   "outputs": [
    {
     "data": {
      "text/plain": [
       "3"
      ]
     },
     "execution_count": 145,
     "metadata": {},
     "output_type": "execute_result"
    }
   ],
   "source": [
    "len(CATEGORICAL_COLUMNS)"
   ]
  },
  {
   "cell_type": "code",
   "execution_count": 146,
   "metadata": {},
   "outputs": [
    {
     "data": {
      "text/plain": [
       "7"
      ]
     },
     "execution_count": 146,
     "metadata": {},
     "output_type": "execute_result"
    }
   ],
   "source": [
    "len(CONTINUOUS_COLUMNS)"
   ]
  },
  {
   "cell_type": "code",
   "execution_count": 147,
   "metadata": {},
   "outputs": [],
   "source": [
    "path=os.getenv(\"HOME\") + ('/repo/Lpoint-Hackathon/src/new_data/all_data_nm3.csv')"
   ]
  },
  {
   "cell_type": "code",
   "execution_count": 148,
   "metadata": {},
   "outputs": [],
   "source": [
    "train_data = pd.read_csv(path)"
   ]
  },
  {
   "cell_type": "code",
   "execution_count": 149,
   "metadata": {},
   "outputs": [
    {
     "data": {
      "text/html": [
       "<div>\n",
       "<style scoped>\n",
       "    .dataframe tbody tr th:only-of-type {\n",
       "        vertical-align: middle;\n",
       "    }\n",
       "\n",
       "    .dataframe tbody tr th {\n",
       "        vertical-align: top;\n",
       "    }\n",
       "\n",
       "    .dataframe thead th {\n",
       "        text-align: right;\n",
       "    }\n",
       "</style>\n",
       "<table border=\"1\" class=\"dataframe\">\n",
       "  <thead>\n",
       "    <tr style=\"text-align: right;\">\n",
       "      <th></th>\n",
       "      <th>clnt_id</th>\n",
       "      <th>action_type</th>\n",
       "      <th>hit_pss_tm</th>\n",
       "      <th>sech_kwd</th>\n",
       "      <th>tot_pag_view_ct</th>\n",
       "      <th>tot_sess_hr_v</th>\n",
       "      <th>trfc_src</th>\n",
       "      <th>dvc_ctg_nm</th>\n",
       "      <th>de_dt</th>\n",
       "      <th>buy_am</th>\n",
       "      <th>buy_ct</th>\n",
       "      <th>clnt_gender</th>\n",
       "      <th>clnt_age</th>\n",
       "      <th>clac_nm3</th>\n",
       "    </tr>\n",
       "  </thead>\n",
       "  <tbody>\n",
       "    <tr>\n",
       "      <th>0</th>\n",
       "      <td>49906</td>\n",
       "      <td>6</td>\n",
       "      <td>627381</td>\n",
       "      <td>NaN</td>\n",
       "      <td>63.0</td>\n",
       "      <td>2211.0</td>\n",
       "      <td>DIRECT</td>\n",
       "      <td>unknown</td>\n",
       "      <td>20190701</td>\n",
       "      <td>1990</td>\n",
       "      <td>1</td>\n",
       "      <td>F</td>\n",
       "      <td>30.0</td>\n",
       "      <td>기능성 우유</td>\n",
       "    </tr>\n",
       "    <tr>\n",
       "      <th>1</th>\n",
       "      <td>67265</td>\n",
       "      <td>6</td>\n",
       "      <td>313631</td>\n",
       "      <td>NaN</td>\n",
       "      <td>10.0</td>\n",
       "      <td>313.0</td>\n",
       "      <td>unknown</td>\n",
       "      <td>mobile_app</td>\n",
       "      <td>20190701</td>\n",
       "      <td>56900</td>\n",
       "      <td>1</td>\n",
       "      <td>F</td>\n",
       "      <td>40.0</td>\n",
       "      <td>성인용 침구 세트</td>\n",
       "    </tr>\n",
       "    <tr>\n",
       "      <th>2</th>\n",
       "      <td>68972</td>\n",
       "      <td>6</td>\n",
       "      <td>554066</td>\n",
       "      <td>NaN</td>\n",
       "      <td>31.0</td>\n",
       "      <td>652.0</td>\n",
       "      <td>DIRECT</td>\n",
       "      <td>unknown</td>\n",
       "      <td>20190701</td>\n",
       "      <td>9980</td>\n",
       "      <td>2</td>\n",
       "      <td>F</td>\n",
       "      <td>50.0</td>\n",
       "      <td>인스턴트 라이스</td>\n",
       "    </tr>\n",
       "    <tr>\n",
       "      <th>3</th>\n",
       "      <td>41763</td>\n",
       "      <td>6</td>\n",
       "      <td>1241857</td>\n",
       "      <td>NaN</td>\n",
       "      <td>39.0</td>\n",
       "      <td>1242.0</td>\n",
       "      <td>DIRECT</td>\n",
       "      <td>unknown</td>\n",
       "      <td>20190701</td>\n",
       "      <td>1290</td>\n",
       "      <td>1</td>\n",
       "      <td>F</td>\n",
       "      <td>40.0</td>\n",
       "      <td>새송이버섯</td>\n",
       "    </tr>\n",
       "    <tr>\n",
       "      <th>4</th>\n",
       "      <td>15344</td>\n",
       "      <td>6</td>\n",
       "      <td>120487</td>\n",
       "      <td>NaN</td>\n",
       "      <td>10.0</td>\n",
       "      <td>133.0</td>\n",
       "      <td>DIRECT</td>\n",
       "      <td>unknown</td>\n",
       "      <td>20190701</td>\n",
       "      <td>4100</td>\n",
       "      <td>1</td>\n",
       "      <td>F</td>\n",
       "      <td>40.0</td>\n",
       "      <td>Cokes</td>\n",
       "    </tr>\n",
       "  </tbody>\n",
       "</table>\n",
       "</div>"
      ],
      "text/plain": [
       "   clnt_id  action_type  hit_pss_tm  sech_kwd  tot_pag_view_ct  tot_sess_hr_v  \\\n",
       "0    49906            6      627381       NaN             63.0         2211.0   \n",
       "1    67265            6      313631       NaN             10.0          313.0   \n",
       "2    68972            6      554066       NaN             31.0          652.0   \n",
       "3    41763            6     1241857       NaN             39.0         1242.0   \n",
       "4    15344            6      120487       NaN             10.0          133.0   \n",
       "\n",
       "  trfc_src  dvc_ctg_nm     de_dt  buy_am  buy_ct clnt_gender  clnt_age  \\\n",
       "0   DIRECT     unknown  20190701    1990       1           F      30.0   \n",
       "1  unknown  mobile_app  20190701   56900       1           F      40.0   \n",
       "2   DIRECT     unknown  20190701    9980       2           F      50.0   \n",
       "3   DIRECT     unknown  20190701    1290       1           F      40.0   \n",
       "4   DIRECT     unknown  20190701    4100       1           F      40.0   \n",
       "\n",
       "    clac_nm3  \n",
       "0     기능성 우유  \n",
       "1  성인용 침구 세트  \n",
       "2   인스턴트 라이스  \n",
       "3      새송이버섯  \n",
       "4      Cokes  "
      ]
     },
     "execution_count": 149,
     "metadata": {},
     "output_type": "execute_result"
    }
   ],
   "source": [
    "train_data.head()"
   ]
  },
  {
   "cell_type": "code",
   "execution_count": 150,
   "metadata": {},
   "outputs": [
    {
     "data": {
      "text/plain": [
       "(123095, 14)"
      ]
     },
     "execution_count": 150,
     "metadata": {},
     "output_type": "execute_result"
    }
   ],
   "source": [
    "train_data.shape"
   ]
  },
  {
   "cell_type": "code",
   "execution_count": 151,
   "metadata": {},
   "outputs": [],
   "source": [
    "data = train_data.copy()"
   ]
  },
  {
   "cell_type": "code",
   "execution_count": 152,
   "metadata": {},
   "outputs": [],
   "source": [
    "data['clac_nm3'] = data['clac_nm3'].astype(str)"
   ]
  },
  {
   "cell_type": "code",
   "execution_count": 153,
   "metadata": {},
   "outputs": [],
   "source": [
    "le = LabelEncoder()\n",
    "data['label'] = le.fit_transform(data['clac_nm3'])"
   ]
  },
  {
   "cell_type": "code",
   "execution_count": 154,
   "metadata": {},
   "outputs": [
    {
     "data": {
      "text/html": [
       "<div>\n",
       "<style scoped>\n",
       "    .dataframe tbody tr th:only-of-type {\n",
       "        vertical-align: middle;\n",
       "    }\n",
       "\n",
       "    .dataframe tbody tr th {\n",
       "        vertical-align: top;\n",
       "    }\n",
       "\n",
       "    .dataframe thead th {\n",
       "        text-align: right;\n",
       "    }\n",
       "</style>\n",
       "<table border=\"1\" class=\"dataframe\">\n",
       "  <thead>\n",
       "    <tr style=\"text-align: right;\">\n",
       "      <th></th>\n",
       "      <th>clnt_id</th>\n",
       "      <th>action_type</th>\n",
       "      <th>hit_pss_tm</th>\n",
       "      <th>sech_kwd</th>\n",
       "      <th>tot_pag_view_ct</th>\n",
       "      <th>tot_sess_hr_v</th>\n",
       "      <th>trfc_src</th>\n",
       "      <th>dvc_ctg_nm</th>\n",
       "      <th>de_dt</th>\n",
       "      <th>buy_am</th>\n",
       "      <th>buy_ct</th>\n",
       "      <th>clnt_gender</th>\n",
       "      <th>clnt_age</th>\n",
       "      <th>clac_nm3</th>\n",
       "      <th>label</th>\n",
       "    </tr>\n",
       "  </thead>\n",
       "  <tbody>\n",
       "    <tr>\n",
       "      <th>0</th>\n",
       "      <td>49906</td>\n",
       "      <td>6</td>\n",
       "      <td>627381</td>\n",
       "      <td>NaN</td>\n",
       "      <td>63.0</td>\n",
       "      <td>2211.0</td>\n",
       "      <td>DIRECT</td>\n",
       "      <td>unknown</td>\n",
       "      <td>20190701</td>\n",
       "      <td>1990</td>\n",
       "      <td>1</td>\n",
       "      <td>F</td>\n",
       "      <td>30.0</td>\n",
       "      <td>기능성 우유</td>\n",
       "      <td>95</td>\n",
       "    </tr>\n",
       "    <tr>\n",
       "      <th>1</th>\n",
       "      <td>67265</td>\n",
       "      <td>6</td>\n",
       "      <td>313631</td>\n",
       "      <td>NaN</td>\n",
       "      <td>10.0</td>\n",
       "      <td>313.0</td>\n",
       "      <td>unknown</td>\n",
       "      <td>mobile_app</td>\n",
       "      <td>20190701</td>\n",
       "      <td>56900</td>\n",
       "      <td>1</td>\n",
       "      <td>F</td>\n",
       "      <td>40.0</td>\n",
       "      <td>성인용 침구 세트</td>\n",
       "      <td>448</td>\n",
       "    </tr>\n",
       "    <tr>\n",
       "      <th>2</th>\n",
       "      <td>68972</td>\n",
       "      <td>6</td>\n",
       "      <td>554066</td>\n",
       "      <td>NaN</td>\n",
       "      <td>31.0</td>\n",
       "      <td>652.0</td>\n",
       "      <td>DIRECT</td>\n",
       "      <td>unknown</td>\n",
       "      <td>20190701</td>\n",
       "      <td>9980</td>\n",
       "      <td>2</td>\n",
       "      <td>F</td>\n",
       "      <td>50.0</td>\n",
       "      <td>인스턴트 라이스</td>\n",
       "      <td>730</td>\n",
       "    </tr>\n",
       "    <tr>\n",
       "      <th>3</th>\n",
       "      <td>41763</td>\n",
       "      <td>6</td>\n",
       "      <td>1241857</td>\n",
       "      <td>NaN</td>\n",
       "      <td>39.0</td>\n",
       "      <td>1242.0</td>\n",
       "      <td>DIRECT</td>\n",
       "      <td>unknown</td>\n",
       "      <td>20190701</td>\n",
       "      <td>1290</td>\n",
       "      <td>1</td>\n",
       "      <td>F</td>\n",
       "      <td>40.0</td>\n",
       "      <td>새송이버섯</td>\n",
       "      <td>428</td>\n",
       "    </tr>\n",
       "    <tr>\n",
       "      <th>4</th>\n",
       "      <td>15344</td>\n",
       "      <td>6</td>\n",
       "      <td>120487</td>\n",
       "      <td>NaN</td>\n",
       "      <td>10.0</td>\n",
       "      <td>133.0</td>\n",
       "      <td>DIRECT</td>\n",
       "      <td>unknown</td>\n",
       "      <td>20190701</td>\n",
       "      <td>4100</td>\n",
       "      <td>1</td>\n",
       "      <td>F</td>\n",
       "      <td>40.0</td>\n",
       "      <td>Cokes</td>\n",
       "      <td>9</td>\n",
       "    </tr>\n",
       "  </tbody>\n",
       "</table>\n",
       "</div>"
      ],
      "text/plain": [
       "   clnt_id  action_type  hit_pss_tm  sech_kwd  tot_pag_view_ct  tot_sess_hr_v  \\\n",
       "0    49906            6      627381       NaN             63.0         2211.0   \n",
       "1    67265            6      313631       NaN             10.0          313.0   \n",
       "2    68972            6      554066       NaN             31.0          652.0   \n",
       "3    41763            6     1241857       NaN             39.0         1242.0   \n",
       "4    15344            6      120487       NaN             10.0          133.0   \n",
       "\n",
       "  trfc_src  dvc_ctg_nm     de_dt  buy_am  buy_ct clnt_gender  clnt_age  \\\n",
       "0   DIRECT     unknown  20190701    1990       1           F      30.0   \n",
       "1  unknown  mobile_app  20190701   56900       1           F      40.0   \n",
       "2   DIRECT     unknown  20190701    9980       2           F      50.0   \n",
       "3   DIRECT     unknown  20190701    1290       1           F      40.0   \n",
       "4   DIRECT     unknown  20190701    4100       1           F      40.0   \n",
       "\n",
       "    clac_nm3  label  \n",
       "0     기능성 우유     95  \n",
       "1  성인용 침구 세트    448  \n",
       "2   인스턴트 라이스    730  \n",
       "3      새송이버섯    428  \n",
       "4      Cokes      9  "
      ]
     },
     "execution_count": 154,
     "metadata": {},
     "output_type": "execute_result"
    }
   ],
   "source": [
    "data.head()"
   ]
  },
  {
   "cell_type": "code",
   "execution_count": 155,
   "metadata": {},
   "outputs": [],
   "source": [
    "for c in CATEGORICAL_COLUMNS:\n",
    "    le = LabelEncoder()\n",
    "    data[c] = le.fit_transform(data[c])"
   ]
  },
  {
   "cell_type": "code",
   "execution_count": 156,
   "metadata": {
    "scrolled": true
   },
   "outputs": [
    {
     "data": {
      "text/html": [
       "<div>\n",
       "<style scoped>\n",
       "    .dataframe tbody tr th:only-of-type {\n",
       "        vertical-align: middle;\n",
       "    }\n",
       "\n",
       "    .dataframe tbody tr th {\n",
       "        vertical-align: top;\n",
       "    }\n",
       "\n",
       "    .dataframe thead th {\n",
       "        text-align: right;\n",
       "    }\n",
       "</style>\n",
       "<table border=\"1\" class=\"dataframe\">\n",
       "  <thead>\n",
       "    <tr style=\"text-align: right;\">\n",
       "      <th></th>\n",
       "      <th>clnt_id</th>\n",
       "      <th>action_type</th>\n",
       "      <th>hit_pss_tm</th>\n",
       "      <th>sech_kwd</th>\n",
       "      <th>tot_pag_view_ct</th>\n",
       "      <th>tot_sess_hr_v</th>\n",
       "      <th>trfc_src</th>\n",
       "      <th>dvc_ctg_nm</th>\n",
       "      <th>de_dt</th>\n",
       "      <th>buy_am</th>\n",
       "      <th>buy_ct</th>\n",
       "      <th>clnt_gender</th>\n",
       "      <th>clnt_age</th>\n",
       "      <th>clac_nm3</th>\n",
       "      <th>label</th>\n",
       "    </tr>\n",
       "  </thead>\n",
       "  <tbody>\n",
       "    <tr>\n",
       "      <th>0</th>\n",
       "      <td>49906</td>\n",
       "      <td>6</td>\n",
       "      <td>627381</td>\n",
       "      <td>NaN</td>\n",
       "      <td>63.0</td>\n",
       "      <td>2211.0</td>\n",
       "      <td>0</td>\n",
       "      <td>3</td>\n",
       "      <td>20190701</td>\n",
       "      <td>1990</td>\n",
       "      <td>1</td>\n",
       "      <td>0</td>\n",
       "      <td>30.0</td>\n",
       "      <td>기능성 우유</td>\n",
       "      <td>95</td>\n",
       "    </tr>\n",
       "    <tr>\n",
       "      <th>1</th>\n",
       "      <td>67265</td>\n",
       "      <td>6</td>\n",
       "      <td>313631</td>\n",
       "      <td>NaN</td>\n",
       "      <td>10.0</td>\n",
       "      <td>313.0</td>\n",
       "      <td>6</td>\n",
       "      <td>1</td>\n",
       "      <td>20190701</td>\n",
       "      <td>56900</td>\n",
       "      <td>1</td>\n",
       "      <td>0</td>\n",
       "      <td>40.0</td>\n",
       "      <td>성인용 침구 세트</td>\n",
       "      <td>448</td>\n",
       "    </tr>\n",
       "    <tr>\n",
       "      <th>2</th>\n",
       "      <td>68972</td>\n",
       "      <td>6</td>\n",
       "      <td>554066</td>\n",
       "      <td>NaN</td>\n",
       "      <td>31.0</td>\n",
       "      <td>652.0</td>\n",
       "      <td>0</td>\n",
       "      <td>3</td>\n",
       "      <td>20190701</td>\n",
       "      <td>9980</td>\n",
       "      <td>2</td>\n",
       "      <td>0</td>\n",
       "      <td>50.0</td>\n",
       "      <td>인스턴트 라이스</td>\n",
       "      <td>730</td>\n",
       "    </tr>\n",
       "    <tr>\n",
       "      <th>3</th>\n",
       "      <td>41763</td>\n",
       "      <td>6</td>\n",
       "      <td>1241857</td>\n",
       "      <td>NaN</td>\n",
       "      <td>39.0</td>\n",
       "      <td>1242.0</td>\n",
       "      <td>0</td>\n",
       "      <td>3</td>\n",
       "      <td>20190701</td>\n",
       "      <td>1290</td>\n",
       "      <td>1</td>\n",
       "      <td>0</td>\n",
       "      <td>40.0</td>\n",
       "      <td>새송이버섯</td>\n",
       "      <td>428</td>\n",
       "    </tr>\n",
       "    <tr>\n",
       "      <th>4</th>\n",
       "      <td>15344</td>\n",
       "      <td>6</td>\n",
       "      <td>120487</td>\n",
       "      <td>NaN</td>\n",
       "      <td>10.0</td>\n",
       "      <td>133.0</td>\n",
       "      <td>0</td>\n",
       "      <td>3</td>\n",
       "      <td>20190701</td>\n",
       "      <td>4100</td>\n",
       "      <td>1</td>\n",
       "      <td>0</td>\n",
       "      <td>40.0</td>\n",
       "      <td>Cokes</td>\n",
       "      <td>9</td>\n",
       "    </tr>\n",
       "  </tbody>\n",
       "</table>\n",
       "</div>"
      ],
      "text/plain": [
       "   clnt_id  action_type  hit_pss_tm  sech_kwd  tot_pag_view_ct  tot_sess_hr_v  \\\n",
       "0    49906            6      627381       NaN             63.0         2211.0   \n",
       "1    67265            6      313631       NaN             10.0          313.0   \n",
       "2    68972            6      554066       NaN             31.0          652.0   \n",
       "3    41763            6     1241857       NaN             39.0         1242.0   \n",
       "4    15344            6      120487       NaN             10.0          133.0   \n",
       "\n",
       "   trfc_src  dvc_ctg_nm     de_dt  buy_am  buy_ct  clnt_gender  clnt_age  \\\n",
       "0         0           3  20190701    1990       1            0      30.0   \n",
       "1         6           1  20190701   56900       1            0      40.0   \n",
       "2         0           3  20190701    9980       2            0      50.0   \n",
       "3         0           3  20190701    1290       1            0      40.0   \n",
       "4         0           3  20190701    4100       1            0      40.0   \n",
       "\n",
       "    clac_nm3  label  \n",
       "0     기능성 우유     95  \n",
       "1  성인용 침구 세트    448  \n",
       "2   인스턴트 라이스    730  \n",
       "3      새송이버섯    428  \n",
       "4      Cokes      9  "
      ]
     },
     "execution_count": 156,
     "metadata": {},
     "output_type": "execute_result"
    }
   ],
   "source": [
    "data.head()"
   ]
  },
  {
   "cell_type": "code",
   "execution_count": 157,
   "metadata": {},
   "outputs": [],
   "source": [
    "#data.drop('hit_tm', axis = 1, inplace=True)\n",
    "data.drop('sech_kwd', axis = 1, inplace=True)"
   ]
  },
  {
   "cell_type": "code",
   "execution_count": 158,
   "metadata": {},
   "outputs": [
    {
     "data": {
      "text/html": [
       "<div>\n",
       "<style scoped>\n",
       "    .dataframe tbody tr th:only-of-type {\n",
       "        vertical-align: middle;\n",
       "    }\n",
       "\n",
       "    .dataframe tbody tr th {\n",
       "        vertical-align: top;\n",
       "    }\n",
       "\n",
       "    .dataframe thead th {\n",
       "        text-align: right;\n",
       "    }\n",
       "</style>\n",
       "<table border=\"1\" class=\"dataframe\">\n",
       "  <thead>\n",
       "    <tr style=\"text-align: right;\">\n",
       "      <th></th>\n",
       "      <th>clnt_id</th>\n",
       "      <th>action_type</th>\n",
       "      <th>hit_pss_tm</th>\n",
       "      <th>tot_pag_view_ct</th>\n",
       "      <th>tot_sess_hr_v</th>\n",
       "      <th>trfc_src</th>\n",
       "      <th>dvc_ctg_nm</th>\n",
       "      <th>de_dt</th>\n",
       "      <th>buy_am</th>\n",
       "      <th>buy_ct</th>\n",
       "      <th>clnt_gender</th>\n",
       "      <th>clnt_age</th>\n",
       "      <th>clac_nm3</th>\n",
       "      <th>label</th>\n",
       "    </tr>\n",
       "  </thead>\n",
       "  <tbody>\n",
       "    <tr>\n",
       "      <th>0</th>\n",
       "      <td>49906</td>\n",
       "      <td>6</td>\n",
       "      <td>627381</td>\n",
       "      <td>63.0</td>\n",
       "      <td>2211.0</td>\n",
       "      <td>0</td>\n",
       "      <td>3</td>\n",
       "      <td>20190701</td>\n",
       "      <td>1990</td>\n",
       "      <td>1</td>\n",
       "      <td>0</td>\n",
       "      <td>30.0</td>\n",
       "      <td>기능성 우유</td>\n",
       "      <td>95</td>\n",
       "    </tr>\n",
       "    <tr>\n",
       "      <th>1</th>\n",
       "      <td>67265</td>\n",
       "      <td>6</td>\n",
       "      <td>313631</td>\n",
       "      <td>10.0</td>\n",
       "      <td>313.0</td>\n",
       "      <td>6</td>\n",
       "      <td>1</td>\n",
       "      <td>20190701</td>\n",
       "      <td>56900</td>\n",
       "      <td>1</td>\n",
       "      <td>0</td>\n",
       "      <td>40.0</td>\n",
       "      <td>성인용 침구 세트</td>\n",
       "      <td>448</td>\n",
       "    </tr>\n",
       "    <tr>\n",
       "      <th>2</th>\n",
       "      <td>68972</td>\n",
       "      <td>6</td>\n",
       "      <td>554066</td>\n",
       "      <td>31.0</td>\n",
       "      <td>652.0</td>\n",
       "      <td>0</td>\n",
       "      <td>3</td>\n",
       "      <td>20190701</td>\n",
       "      <td>9980</td>\n",
       "      <td>2</td>\n",
       "      <td>0</td>\n",
       "      <td>50.0</td>\n",
       "      <td>인스턴트 라이스</td>\n",
       "      <td>730</td>\n",
       "    </tr>\n",
       "    <tr>\n",
       "      <th>3</th>\n",
       "      <td>41763</td>\n",
       "      <td>6</td>\n",
       "      <td>1241857</td>\n",
       "      <td>39.0</td>\n",
       "      <td>1242.0</td>\n",
       "      <td>0</td>\n",
       "      <td>3</td>\n",
       "      <td>20190701</td>\n",
       "      <td>1290</td>\n",
       "      <td>1</td>\n",
       "      <td>0</td>\n",
       "      <td>40.0</td>\n",
       "      <td>새송이버섯</td>\n",
       "      <td>428</td>\n",
       "    </tr>\n",
       "    <tr>\n",
       "      <th>4</th>\n",
       "      <td>15344</td>\n",
       "      <td>6</td>\n",
       "      <td>120487</td>\n",
       "      <td>10.0</td>\n",
       "      <td>133.0</td>\n",
       "      <td>0</td>\n",
       "      <td>3</td>\n",
       "      <td>20190701</td>\n",
       "      <td>4100</td>\n",
       "      <td>1</td>\n",
       "      <td>0</td>\n",
       "      <td>40.0</td>\n",
       "      <td>Cokes</td>\n",
       "      <td>9</td>\n",
       "    </tr>\n",
       "  </tbody>\n",
       "</table>\n",
       "</div>"
      ],
      "text/plain": [
       "   clnt_id  action_type  hit_pss_tm  tot_pag_view_ct  tot_sess_hr_v  trfc_src  \\\n",
       "0    49906            6      627381             63.0         2211.0         0   \n",
       "1    67265            6      313631             10.0          313.0         6   \n",
       "2    68972            6      554066             31.0          652.0         0   \n",
       "3    41763            6     1241857             39.0         1242.0         0   \n",
       "4    15344            6      120487             10.0          133.0         0   \n",
       "\n",
       "   dvc_ctg_nm     de_dt  buy_am  buy_ct  clnt_gender  clnt_age   clac_nm3  \\\n",
       "0           3  20190701    1990       1            0      30.0     기능성 우유   \n",
       "1           1  20190701   56900       1            0      40.0  성인용 침구 세트   \n",
       "2           3  20190701    9980       2            0      50.0   인스턴트 라이스   \n",
       "3           3  20190701    1290       1            0      40.0      새송이버섯   \n",
       "4           3  20190701    4100       1            0      40.0      Cokes   \n",
       "\n",
       "   label  \n",
       "0     95  \n",
       "1    448  \n",
       "2    730  \n",
       "3    428  \n",
       "4      9  "
      ]
     },
     "execution_count": 158,
     "metadata": {},
     "output_type": "execute_result"
    }
   ],
   "source": [
    "data.head()"
   ]
  },
  {
   "cell_type": "markdown",
   "metadata": {},
   "source": [
    "## data를 Train, Test set으로 구분"
   ]
  },
  {
   "cell_type": "code",
   "execution_count": 159,
   "metadata": {},
   "outputs": [],
   "source": [
    "x_train = data[data[\"de_dt\"]<20190901]\n",
    "x_test = data[data[\"de_dt\"]>20190901]"
   ]
  },
  {
   "cell_type": "code",
   "execution_count": 160,
   "metadata": {},
   "outputs": [
    {
     "data": {
      "text/html": [
       "<div>\n",
       "<style scoped>\n",
       "    .dataframe tbody tr th:only-of-type {\n",
       "        vertical-align: middle;\n",
       "    }\n",
       "\n",
       "    .dataframe tbody tr th {\n",
       "        vertical-align: top;\n",
       "    }\n",
       "\n",
       "    .dataframe thead th {\n",
       "        text-align: right;\n",
       "    }\n",
       "</style>\n",
       "<table border=\"1\" class=\"dataframe\">\n",
       "  <thead>\n",
       "    <tr style=\"text-align: right;\">\n",
       "      <th></th>\n",
       "      <th>clnt_id</th>\n",
       "      <th>action_type</th>\n",
       "      <th>hit_pss_tm</th>\n",
       "      <th>tot_pag_view_ct</th>\n",
       "      <th>tot_sess_hr_v</th>\n",
       "      <th>trfc_src</th>\n",
       "      <th>dvc_ctg_nm</th>\n",
       "      <th>de_dt</th>\n",
       "      <th>buy_am</th>\n",
       "      <th>buy_ct</th>\n",
       "      <th>clnt_gender</th>\n",
       "      <th>clnt_age</th>\n",
       "      <th>clac_nm3</th>\n",
       "      <th>label</th>\n",
       "    </tr>\n",
       "  </thead>\n",
       "  <tbody>\n",
       "    <tr>\n",
       "      <th>0</th>\n",
       "      <td>49906</td>\n",
       "      <td>6</td>\n",
       "      <td>627381</td>\n",
       "      <td>63.0</td>\n",
       "      <td>2211.0</td>\n",
       "      <td>0</td>\n",
       "      <td>3</td>\n",
       "      <td>20190701</td>\n",
       "      <td>1990</td>\n",
       "      <td>1</td>\n",
       "      <td>0</td>\n",
       "      <td>30.0</td>\n",
       "      <td>기능성 우유</td>\n",
       "      <td>95</td>\n",
       "    </tr>\n",
       "    <tr>\n",
       "      <th>1</th>\n",
       "      <td>67265</td>\n",
       "      <td>6</td>\n",
       "      <td>313631</td>\n",
       "      <td>10.0</td>\n",
       "      <td>313.0</td>\n",
       "      <td>6</td>\n",
       "      <td>1</td>\n",
       "      <td>20190701</td>\n",
       "      <td>56900</td>\n",
       "      <td>1</td>\n",
       "      <td>0</td>\n",
       "      <td>40.0</td>\n",
       "      <td>성인용 침구 세트</td>\n",
       "      <td>448</td>\n",
       "    </tr>\n",
       "    <tr>\n",
       "      <th>2</th>\n",
       "      <td>68972</td>\n",
       "      <td>6</td>\n",
       "      <td>554066</td>\n",
       "      <td>31.0</td>\n",
       "      <td>652.0</td>\n",
       "      <td>0</td>\n",
       "      <td>3</td>\n",
       "      <td>20190701</td>\n",
       "      <td>9980</td>\n",
       "      <td>2</td>\n",
       "      <td>0</td>\n",
       "      <td>50.0</td>\n",
       "      <td>인스턴트 라이스</td>\n",
       "      <td>730</td>\n",
       "    </tr>\n",
       "    <tr>\n",
       "      <th>3</th>\n",
       "      <td>41763</td>\n",
       "      <td>6</td>\n",
       "      <td>1241857</td>\n",
       "      <td>39.0</td>\n",
       "      <td>1242.0</td>\n",
       "      <td>0</td>\n",
       "      <td>3</td>\n",
       "      <td>20190701</td>\n",
       "      <td>1290</td>\n",
       "      <td>1</td>\n",
       "      <td>0</td>\n",
       "      <td>40.0</td>\n",
       "      <td>새송이버섯</td>\n",
       "      <td>428</td>\n",
       "    </tr>\n",
       "    <tr>\n",
       "      <th>4</th>\n",
       "      <td>15344</td>\n",
       "      <td>6</td>\n",
       "      <td>120487</td>\n",
       "      <td>10.0</td>\n",
       "      <td>133.0</td>\n",
       "      <td>0</td>\n",
       "      <td>3</td>\n",
       "      <td>20190701</td>\n",
       "      <td>4100</td>\n",
       "      <td>1</td>\n",
       "      <td>0</td>\n",
       "      <td>40.0</td>\n",
       "      <td>Cokes</td>\n",
       "      <td>9</td>\n",
       "    </tr>\n",
       "  </tbody>\n",
       "</table>\n",
       "</div>"
      ],
      "text/plain": [
       "   clnt_id  action_type  hit_pss_tm  tot_pag_view_ct  tot_sess_hr_v  trfc_src  \\\n",
       "0    49906            6      627381             63.0         2211.0         0   \n",
       "1    67265            6      313631             10.0          313.0         6   \n",
       "2    68972            6      554066             31.0          652.0         0   \n",
       "3    41763            6     1241857             39.0         1242.0         0   \n",
       "4    15344            6      120487             10.0          133.0         0   \n",
       "\n",
       "   dvc_ctg_nm     de_dt  buy_am  buy_ct  clnt_gender  clnt_age   clac_nm3  \\\n",
       "0           3  20190701    1990       1            0      30.0     기능성 우유   \n",
       "1           1  20190701   56900       1            0      40.0  성인용 침구 세트   \n",
       "2           3  20190701    9980       2            0      50.0   인스턴트 라이스   \n",
       "3           3  20190701    1290       1            0      40.0      새송이버섯   \n",
       "4           3  20190701    4100       1            0      40.0      Cokes   \n",
       "\n",
       "   label  \n",
       "0     95  \n",
       "1    448  \n",
       "2    730  \n",
       "3    428  \n",
       "4      9  "
      ]
     },
     "execution_count": 160,
     "metadata": {},
     "output_type": "execute_result"
    }
   ],
   "source": [
    "x_train.head()"
   ]
  },
  {
   "cell_type": "code",
   "execution_count": 161,
   "metadata": {},
   "outputs": [
    {
     "data": {
      "text/html": [
       "<div>\n",
       "<style scoped>\n",
       "    .dataframe tbody tr th:only-of-type {\n",
       "        vertical-align: middle;\n",
       "    }\n",
       "\n",
       "    .dataframe tbody tr th {\n",
       "        vertical-align: top;\n",
       "    }\n",
       "\n",
       "    .dataframe thead th {\n",
       "        text-align: right;\n",
       "    }\n",
       "</style>\n",
       "<table border=\"1\" class=\"dataframe\">\n",
       "  <thead>\n",
       "    <tr style=\"text-align: right;\">\n",
       "      <th></th>\n",
       "      <th>clnt_id</th>\n",
       "      <th>action_type</th>\n",
       "      <th>hit_pss_tm</th>\n",
       "      <th>tot_pag_view_ct</th>\n",
       "      <th>tot_sess_hr_v</th>\n",
       "      <th>trfc_src</th>\n",
       "      <th>dvc_ctg_nm</th>\n",
       "      <th>de_dt</th>\n",
       "      <th>buy_am</th>\n",
       "      <th>buy_ct</th>\n",
       "      <th>clnt_gender</th>\n",
       "      <th>clnt_age</th>\n",
       "      <th>clac_nm3</th>\n",
       "      <th>label</th>\n",
       "    </tr>\n",
       "  </thead>\n",
       "  <tbody>\n",
       "    <tr>\n",
       "      <th>85903</th>\n",
       "      <td>23275</td>\n",
       "      <td>6</td>\n",
       "      <td>2098053</td>\n",
       "      <td>56.0</td>\n",
       "      <td>2103.0</td>\n",
       "      <td>0</td>\n",
       "      <td>3</td>\n",
       "      <td>20190902</td>\n",
       "      <td>4990</td>\n",
       "      <td>1</td>\n",
       "      <td>0</td>\n",
       "      <td>30.0</td>\n",
       "      <td>찹쌀</td>\n",
       "      <td>806</td>\n",
       "    </tr>\n",
       "    <tr>\n",
       "      <th>85904</th>\n",
       "      <td>31000</td>\n",
       "      <td>6</td>\n",
       "      <td>4491970</td>\n",
       "      <td>30.0</td>\n",
       "      <td>4492.0</td>\n",
       "      <td>4</td>\n",
       "      <td>3</td>\n",
       "      <td>20190902</td>\n",
       "      <td>6990</td>\n",
       "      <td>1</td>\n",
       "      <td>1</td>\n",
       "      <td>40.0</td>\n",
       "      <td>사과</td>\n",
       "      <td>422</td>\n",
       "    </tr>\n",
       "    <tr>\n",
       "      <th>85905</th>\n",
       "      <td>64682</td>\n",
       "      <td>6</td>\n",
       "      <td>1120341</td>\n",
       "      <td>50.0</td>\n",
       "      <td>1120.0</td>\n",
       "      <td>0</td>\n",
       "      <td>3</td>\n",
       "      <td>20190902</td>\n",
       "      <td>3990</td>\n",
       "      <td>1</td>\n",
       "      <td>0</td>\n",
       "      <td>30.0</td>\n",
       "      <td>달걀</td>\n",
       "      <td>254</td>\n",
       "    </tr>\n",
       "    <tr>\n",
       "      <th>85906</th>\n",
       "      <td>40955</td>\n",
       "      <td>6</td>\n",
       "      <td>945364</td>\n",
       "      <td>21.0</td>\n",
       "      <td>1042.0</td>\n",
       "      <td>0</td>\n",
       "      <td>0</td>\n",
       "      <td>20190902</td>\n",
       "      <td>27000</td>\n",
       "      <td>1</td>\n",
       "      <td>0</td>\n",
       "      <td>30.0</td>\n",
       "      <td>물</td>\n",
       "      <td>337</td>\n",
       "    </tr>\n",
       "    <tr>\n",
       "      <th>85907</th>\n",
       "      <td>54200</td>\n",
       "      <td>6</td>\n",
       "      <td>6870197</td>\n",
       "      <td>134.0</td>\n",
       "      <td>6870.0</td>\n",
       "      <td>4</td>\n",
       "      <td>3</td>\n",
       "      <td>20190902</td>\n",
       "      <td>1580</td>\n",
       "      <td>2</td>\n",
       "      <td>0</td>\n",
       "      <td>40.0</td>\n",
       "      <td>인스턴트 카레 / 검은콩 소스</td>\n",
       "      <td>732</td>\n",
       "    </tr>\n",
       "  </tbody>\n",
       "</table>\n",
       "</div>"
      ],
      "text/plain": [
       "       clnt_id  action_type  hit_pss_tm  tot_pag_view_ct  tot_sess_hr_v  \\\n",
       "85903    23275            6     2098053             56.0         2103.0   \n",
       "85904    31000            6     4491970             30.0         4492.0   \n",
       "85905    64682            6     1120341             50.0         1120.0   \n",
       "85906    40955            6      945364             21.0         1042.0   \n",
       "85907    54200            6     6870197            134.0         6870.0   \n",
       "\n",
       "       trfc_src  dvc_ctg_nm     de_dt  buy_am  buy_ct  clnt_gender  clnt_age  \\\n",
       "85903         0           3  20190902    4990       1            0      30.0   \n",
       "85904         4           3  20190902    6990       1            1      40.0   \n",
       "85905         0           3  20190902    3990       1            0      30.0   \n",
       "85906         0           0  20190902   27000       1            0      30.0   \n",
       "85907         4           3  20190902    1580       2            0      40.0   \n",
       "\n",
       "               clac_nm3  label  \n",
       "85903                찹쌀    806  \n",
       "85904                사과    422  \n",
       "85905                달걀    254  \n",
       "85906                 물    337  \n",
       "85907  인스턴트 카레 / 검은콩 소스    732  "
      ]
     },
     "execution_count": 161,
     "metadata": {},
     "output_type": "execute_result"
    }
   ],
   "source": [
    "x_test.head()"
   ]
  },
  {
   "cell_type": "code",
   "execution_count": 162,
   "metadata": {},
   "outputs": [
    {
     "name": "stderr",
     "output_type": "stream",
     "text": [
      "/home/aiffel0042/anaconda3/envs/aiffel/lib/python3.7/site-packages/pandas/core/frame.py:4170: SettingWithCopyWarning: \n",
      "A value is trying to be set on a copy of a slice from a DataFrame\n",
      "\n",
      "See the caveats in the documentation: https://pandas.pydata.org/pandas-docs/stable/user_guide/indexing.html#returning-a-view-versus-a-copy\n",
      "  errors=errors,\n"
     ]
    }
   ],
   "source": [
    "y_train = x_train['label'].values\n",
    "x_train.drop('label', axis = 1, inplace=True)"
   ]
  },
  {
   "cell_type": "code",
   "execution_count": 163,
   "metadata": {},
   "outputs": [],
   "source": [
    "x_train.drop('clac_nm3', axis = 1, inplace=True)"
   ]
  },
  {
   "cell_type": "code",
   "execution_count": 164,
   "metadata": {},
   "outputs": [],
   "source": [
    "y_test = x_test['label'].values\n",
    "x_test.drop('label', axis = 1, inplace=True)"
   ]
  },
  {
   "cell_type": "code",
   "execution_count": 165,
   "metadata": {},
   "outputs": [
    {
     "name": "stdout",
     "output_type": "stream",
     "text": [
      "84992 84992 37192 37192\n"
     ]
    }
   ],
   "source": [
    "print(len(x_train), len(y_train), len(x_test), len(y_test))"
   ]
  },
  {
   "cell_type": "markdown",
   "metadata": {},
   "source": [
    "## 카테고리 값들과 연속값들을 뽑아냄"
   ]
  },
  {
   "cell_type": "code",
   "execution_count": 166,
   "metadata": {},
   "outputs": [],
   "source": [
    "x_train_category = np.array(x_train[CATEGORICAL_COLUMNS])\n",
    "x_test_category = np.array(x_test[CATEGORICAL_COLUMNS])\n",
    "x_train_continue = np.array(x_train[CONTINUOUS_COLUMNS], dtype='float64')\n",
    "x_test_continue = np.array(x_test[CONTINUOUS_COLUMNS], dtype='float64')"
   ]
  },
  {
   "cell_type": "code",
   "execution_count": 167,
   "metadata": {},
   "outputs": [
    {
     "name": "stdout",
     "output_type": "stream",
     "text": [
      "[[0 0 3]]\n",
      "[[0 0 3]]\n",
      "[[4.9906000e+04 3.0000000e+01 6.2738100e+05 6.0000000e+00 2.0190701e+07\n",
      "  6.3000000e+01 2.2110000e+03]]\n",
      "[[2.3275000e+04 3.0000000e+01 2.0980530e+06 6.0000000e+00 2.0190902e+07\n",
      "  5.6000000e+01 2.1030000e+03]]\n"
     ]
    }
   ],
   "source": [
    "print(x_train_category[:1] )\n",
    "print(x_test_category[:1])\n",
    "print(x_train_continue[:1])\n",
    "print(x_test_continue[:1])"
   ]
  },
  {
   "cell_type": "code",
   "execution_count": 168,
   "metadata": {},
   "outputs": [
    {
     "data": {
      "text/plain": [
       "array([[4.9906000e+04, 3.0000000e+01, 6.2738100e+05, ..., 2.0190701e+07,\n",
       "        6.3000000e+01, 2.2110000e+03],\n",
       "       [6.7265000e+04, 4.0000000e+01, 3.1363100e+05, ..., 2.0190701e+07,\n",
       "        1.0000000e+01, 3.1300000e+02],\n",
       "       [6.8972000e+04, 5.0000000e+01, 5.5406600e+05, ..., 2.0190701e+07,\n",
       "        3.1000000e+01, 6.5200000e+02],\n",
       "       ...,\n",
       "       [5.5370000e+04, 3.0000000e+01, 4.2566510e+06, ..., 2.0190831e+07,\n",
       "        9.7000000e+01, 4.4230000e+03],\n",
       "       [6.7877000e+04, 5.0000000e+01, 3.3481840e+06, ..., 2.0190831e+07,\n",
       "        6.8000000e+01, 3.4170000e+03],\n",
       "       [6.5444000e+04, 4.0000000e+01, 1.2128720e+06, ..., 2.0190831e+07,\n",
       "        6.7000000e+01, 1.2130000e+03]])"
      ]
     },
     "execution_count": 168,
     "metadata": {},
     "output_type": "execute_result"
    }
   ],
   "source": [
    "x_train_continue"
   ]
  },
  {
   "cell_type": "code",
   "execution_count": 169,
   "metadata": {},
   "outputs": [
    {
     "data": {
      "text/plain": [
       "(84992, 3)"
      ]
     },
     "execution_count": 169,
     "metadata": {},
     "output_type": "execute_result"
    }
   ],
   "source": [
    "x_train_category.shape"
   ]
  },
  {
   "cell_type": "code",
   "execution_count": 170,
   "metadata": {},
   "outputs": [
    {
     "data": {
      "text/plain": [
       "(84992, 7)"
      ]
     },
     "execution_count": 170,
     "metadata": {},
     "output_type": "execute_result"
    }
   ],
   "source": [
    "x_train_continue.shape"
   ]
  },
  {
   "cell_type": "markdown",
   "metadata": {},
   "source": [
    "## 정규화"
   ]
  },
  {
   "cell_type": "code",
   "execution_count": 171,
   "metadata": {},
   "outputs": [],
   "source": [
    "scaler = StandardScaler()\n",
    "x_train_continue = scaler.fit_transform(x_train_continue)\n",
    "x_test_continue = scaler.transform(x_test_continue)"
   ]
  },
  {
   "cell_type": "code",
   "execution_count": 172,
   "metadata": {},
   "outputs": [
    {
     "name": "stdout",
     "output_type": "stream",
     "text": [
      "[[ 0.5968563  -1.03754514 -0.69670276 -0.15626785 -1.25113817  0.53265036\n",
      "   0.32936634]]\n",
      "[[-0.73341716 -1.03754514  0.42091183 -0.15626785  2.71772985  0.32306148\n",
      "   0.25392887]]\n"
     ]
    }
   ],
   "source": [
    "print(x_train_continue[:1])\n",
    "print(x_test_continue[:1])"
   ]
  },
  {
   "cell_type": "markdown",
   "metadata": {},
   "source": [
    "* 정규화 내용 확인"
   ]
  },
  {
   "cell_type": "code",
   "execution_count": 173,
   "metadata": {},
   "outputs": [
    {
     "data": {
      "text/plain": [
       "array([ 0.5968563 , -1.03754514, -0.69670276, -0.15626785, -1.25113817,\n",
       "        0.53265036,  0.32936634])"
      ]
     },
     "execution_count": 173,
     "metadata": {},
     "output_type": "execute_result"
    }
   ],
   "source": [
    "x_train_continue[0]"
   ]
  },
  {
   "cell_type": "code",
   "execution_count": 174,
   "metadata": {},
   "outputs": [
    {
     "name": "stdout",
     "output_type": "stream",
     "text": [
      "-1.6827809228098114\n",
      "-2.743623939309396\n",
      "-0.38698475148351025\n",
      "-1.794911631889985\n",
      "-5.60969107382094\n"
     ]
    }
   ],
   "source": [
    "print(x_train_continue[0].sum())\n",
    "print(x_train_continue[1].sum())\n",
    "print(x_train_continue[2].sum())\n",
    "print(x_train_continue[3].sum())\n",
    "print(x_train_continue[4].sum())"
   ]
  },
  {
   "cell_type": "markdown",
   "metadata": {},
   "source": [
    " - 정규화 한다고 다 더해서 1이 되거나 하지는 않는듯\n",
    " - 그렇다고 개별 값이 0~1은 아님"
   ]
  },
  {
   "cell_type": "markdown",
   "metadata": {},
   "source": [
    "## Polynomial 하게 바꿔줌 \n",
    "### (비선형적인 설정으로 선형 회귀를 확장하는 방법. 즉 다항식 함수로 바꿔줌)\n",
    "    - 카테고리 값을 Polynomial로 바꿔줌"
   ]
  },
  {
   "cell_type": "markdown",
   "metadata": {},
   "source": [
    "* sklearn.preprocessing.PolynomialFeatures 메소드\n",
    "    - degree : 다항식 차수\n",
    "    - interaction_only\n",
    "        - default는 False\n",
    "        - ex) degree = 3일 때, interaction_only=false 이면\n",
    "            - a^2, a^3, b^2, b^3, ab, a^2*b, ab^2 Feature가 추가되고,\n",
    "        - interaction_only=True 이면\n",
    "            - ab만 추가됨\n",
    "        "
   ]
  },
  {
   "cell_type": "code",
   "execution_count": 175,
   "metadata": {},
   "outputs": [],
   "source": [
    "poly = PolynomialFeatures(degree=2, interaction_only=True)"
   ]
  },
  {
   "cell_type": "code",
   "execution_count": 176,
   "metadata": {},
   "outputs": [
    {
     "data": {
      "text/plain": [
       "array([[0, 0, 3],\n",
       "       [0, 6, 1],\n",
       "       [0, 0, 3],\n",
       "       ...,\n",
       "       [0, 0, 3],\n",
       "       [0, 0, 3],\n",
       "       [0, 0, 3]])"
      ]
     },
     "execution_count": 176,
     "metadata": {},
     "output_type": "execute_result"
    }
   ],
   "source": [
    "x_train_category"
   ]
  },
  {
   "cell_type": "code",
   "execution_count": 177,
   "metadata": {},
   "outputs": [
    {
     "data": {
      "text/plain": [
       "(84992, 3)"
      ]
     },
     "execution_count": 177,
     "metadata": {},
     "output_type": "execute_result"
    }
   ],
   "source": [
    "x_train_category.shape"
   ]
  },
  {
   "cell_type": "code",
   "execution_count": 178,
   "metadata": {},
   "outputs": [
    {
     "data": {
      "text/plain": [
       "(37192, 3)"
      ]
     },
     "execution_count": 178,
     "metadata": {},
     "output_type": "execute_result"
    }
   ],
   "source": [
    "x_test_category.shape"
   ]
  },
  {
   "cell_type": "code",
   "execution_count": 179,
   "metadata": {},
   "outputs": [],
   "source": [
    "x_train_category_poly = poly.fit_transform(x_train_category)\n",
    "x_test_category_poly = poly.fit_transform(x_test_category)"
   ]
  },
  {
   "cell_type": "code",
   "execution_count": 180,
   "metadata": {},
   "outputs": [
    {
     "name": "stdout",
     "output_type": "stream",
     "text": [
      "[[1. 0. 0. 3. 0. 0. 0.]]\n",
      "(1, 7)\n",
      "[[1. 0. 0. 3. 0. 0. 0.]]\n",
      "(1, 7)\n"
     ]
    }
   ],
   "source": [
    "print(x_train_category_poly[:1])\n",
    "print(x_train_category_poly[:1].shape)\n",
    "print(x_test_category_poly[:1])\n",
    "print(x_test_category_poly[:1].shape)"
   ]
  },
  {
   "cell_type": "markdown",
   "metadata": {},
   "source": [
    "=> feature가 8개 이므로, interaction은 7+6+5+4+3+2+1=28개 이고,\n",
    "상수항 1을 추가하여 8+28+1=37"
   ]
  },
  {
   "cell_type": "code",
   "execution_count": 181,
   "metadata": {},
   "outputs": [
    {
     "data": {
      "text/html": [
       "<div>\n",
       "<style scoped>\n",
       "    .dataframe tbody tr th:only-of-type {\n",
       "        vertical-align: middle;\n",
       "    }\n",
       "\n",
       "    .dataframe tbody tr th {\n",
       "        vertical-align: top;\n",
       "    }\n",
       "\n",
       "    .dataframe thead th {\n",
       "        text-align: right;\n",
       "    }\n",
       "</style>\n",
       "<table border=\"1\" class=\"dataframe\">\n",
       "  <thead>\n",
       "    <tr style=\"text-align: right;\">\n",
       "      <th></th>\n",
       "      <th>clnt_id</th>\n",
       "      <th>action_type</th>\n",
       "      <th>hit_pss_tm</th>\n",
       "      <th>tot_pag_view_ct</th>\n",
       "      <th>tot_sess_hr_v</th>\n",
       "      <th>trfc_src</th>\n",
       "      <th>dvc_ctg_nm</th>\n",
       "      <th>de_dt</th>\n",
       "      <th>buy_am</th>\n",
       "      <th>buy_ct</th>\n",
       "      <th>clnt_gender</th>\n",
       "      <th>clnt_age</th>\n",
       "      <th>clac_nm3</th>\n",
       "      <th>label</th>\n",
       "    </tr>\n",
       "  </thead>\n",
       "  <tbody>\n",
       "    <tr>\n",
       "      <th>0</th>\n",
       "      <td>49906</td>\n",
       "      <td>6</td>\n",
       "      <td>627381</td>\n",
       "      <td>63.0</td>\n",
       "      <td>2211.0</td>\n",
       "      <td>0</td>\n",
       "      <td>3</td>\n",
       "      <td>20190701</td>\n",
       "      <td>1990</td>\n",
       "      <td>1</td>\n",
       "      <td>0</td>\n",
       "      <td>30.0</td>\n",
       "      <td>기능성 우유</td>\n",
       "      <td>95</td>\n",
       "    </tr>\n",
       "    <tr>\n",
       "      <th>1</th>\n",
       "      <td>67265</td>\n",
       "      <td>6</td>\n",
       "      <td>313631</td>\n",
       "      <td>10.0</td>\n",
       "      <td>313.0</td>\n",
       "      <td>6</td>\n",
       "      <td>1</td>\n",
       "      <td>20190701</td>\n",
       "      <td>56900</td>\n",
       "      <td>1</td>\n",
       "      <td>0</td>\n",
       "      <td>40.0</td>\n",
       "      <td>성인용 침구 세트</td>\n",
       "      <td>448</td>\n",
       "    </tr>\n",
       "    <tr>\n",
       "      <th>2</th>\n",
       "      <td>68972</td>\n",
       "      <td>6</td>\n",
       "      <td>554066</td>\n",
       "      <td>31.0</td>\n",
       "      <td>652.0</td>\n",
       "      <td>0</td>\n",
       "      <td>3</td>\n",
       "      <td>20190701</td>\n",
       "      <td>9980</td>\n",
       "      <td>2</td>\n",
       "      <td>0</td>\n",
       "      <td>50.0</td>\n",
       "      <td>인스턴트 라이스</td>\n",
       "      <td>730</td>\n",
       "    </tr>\n",
       "    <tr>\n",
       "      <th>3</th>\n",
       "      <td>41763</td>\n",
       "      <td>6</td>\n",
       "      <td>1241857</td>\n",
       "      <td>39.0</td>\n",
       "      <td>1242.0</td>\n",
       "      <td>0</td>\n",
       "      <td>3</td>\n",
       "      <td>20190701</td>\n",
       "      <td>1290</td>\n",
       "      <td>1</td>\n",
       "      <td>0</td>\n",
       "      <td>40.0</td>\n",
       "      <td>새송이버섯</td>\n",
       "      <td>428</td>\n",
       "    </tr>\n",
       "    <tr>\n",
       "      <th>4</th>\n",
       "      <td>15344</td>\n",
       "      <td>6</td>\n",
       "      <td>120487</td>\n",
       "      <td>10.0</td>\n",
       "      <td>133.0</td>\n",
       "      <td>0</td>\n",
       "      <td>3</td>\n",
       "      <td>20190701</td>\n",
       "      <td>4100</td>\n",
       "      <td>1</td>\n",
       "      <td>0</td>\n",
       "      <td>40.0</td>\n",
       "      <td>Cokes</td>\n",
       "      <td>9</td>\n",
       "    </tr>\n",
       "  </tbody>\n",
       "</table>\n",
       "</div>"
      ],
      "text/plain": [
       "   clnt_id  action_type  hit_pss_tm  tot_pag_view_ct  tot_sess_hr_v  trfc_src  \\\n",
       "0    49906            6      627381             63.0         2211.0         0   \n",
       "1    67265            6      313631             10.0          313.0         6   \n",
       "2    68972            6      554066             31.0          652.0         0   \n",
       "3    41763            6     1241857             39.0         1242.0         0   \n",
       "4    15344            6      120487             10.0          133.0         0   \n",
       "\n",
       "   dvc_ctg_nm     de_dt  buy_am  buy_ct  clnt_gender  clnt_age   clac_nm3  \\\n",
       "0           3  20190701    1990       1            0      30.0     기능성 우유   \n",
       "1           1  20190701   56900       1            0      40.0  성인용 침구 세트   \n",
       "2           3  20190701    9980       2            0      50.0   인스턴트 라이스   \n",
       "3           3  20190701    1290       1            0      40.0      새송이버섯   \n",
       "4           3  20190701    4100       1            0      40.0      Cokes   \n",
       "\n",
       "   label  \n",
       "0     95  \n",
       "1    448  \n",
       "2    730  \n",
       "3    428  \n",
       "4      9  "
      ]
     },
     "execution_count": 181,
     "metadata": {},
     "output_type": "execute_result"
    }
   ],
   "source": [
    "data.head()"
   ]
  },
  {
   "cell_type": "code",
   "execution_count": 182,
   "metadata": {},
   "outputs": [
    {
     "data": {
      "text/plain": [
       "123095"
      ]
     },
     "execution_count": 182,
     "metadata": {},
     "output_type": "execute_result"
    }
   ],
   "source": [
    "len(data)"
   ]
  },
  {
   "cell_type": "code",
   "execution_count": 183,
   "metadata": {},
   "outputs": [
    {
     "data": {
      "text/plain": [
       "0         0\n",
       "1         0\n",
       "2         0\n",
       "3         0\n",
       "4         0\n",
       "         ..\n",
       "123090    0\n",
       "123091    0\n",
       "123092    0\n",
       "123093    1\n",
       "123094    0\n",
       "Name: clnt_gender, Length: 123095, dtype: int64"
      ]
     },
     "execution_count": 183,
     "metadata": {},
     "output_type": "execute_result"
    }
   ],
   "source": [
    "data[CATEGORICAL_COLUMNS[0]]"
   ]
  },
  {
   "cell_type": "code",
   "execution_count": 184,
   "metadata": {},
   "outputs": [
    {
     "data": {
      "text/html": [
       "<div>\n",
       "<style scoped>\n",
       "    .dataframe tbody tr th:only-of-type {\n",
       "        vertical-align: middle;\n",
       "    }\n",
       "\n",
       "    .dataframe tbody tr th {\n",
       "        vertical-align: top;\n",
       "    }\n",
       "\n",
       "    .dataframe thead th {\n",
       "        text-align: right;\n",
       "    }\n",
       "</style>\n",
       "<table border=\"1\" class=\"dataframe\">\n",
       "  <thead>\n",
       "    <tr style=\"text-align: right;\">\n",
       "      <th></th>\n",
       "      <th>clnt_gender</th>\n",
       "      <th>trfc_src</th>\n",
       "      <th>dvc_ctg_nm</th>\n",
       "    </tr>\n",
       "  </thead>\n",
       "  <tbody>\n",
       "    <tr>\n",
       "      <th>0</th>\n",
       "      <td>0</td>\n",
       "      <td>0</td>\n",
       "      <td>3</td>\n",
       "    </tr>\n",
       "    <tr>\n",
       "      <th>1</th>\n",
       "      <td>0</td>\n",
       "      <td>6</td>\n",
       "      <td>1</td>\n",
       "    </tr>\n",
       "    <tr>\n",
       "      <th>2</th>\n",
       "      <td>0</td>\n",
       "      <td>0</td>\n",
       "      <td>3</td>\n",
       "    </tr>\n",
       "    <tr>\n",
       "      <th>3</th>\n",
       "      <td>0</td>\n",
       "      <td>0</td>\n",
       "      <td>3</td>\n",
       "    </tr>\n",
       "    <tr>\n",
       "      <th>4</th>\n",
       "      <td>0</td>\n",
       "      <td>0</td>\n",
       "      <td>3</td>\n",
       "    </tr>\n",
       "  </tbody>\n",
       "</table>\n",
       "</div>"
      ],
      "text/plain": [
       "   clnt_gender  trfc_src  dvc_ctg_nm\n",
       "0            0         0           3\n",
       "1            0         6           1\n",
       "2            0         0           3\n",
       "3            0         0           3\n",
       "4            0         0           3"
      ]
     },
     "execution_count": 184,
     "metadata": {},
     "output_type": "execute_result"
    }
   ],
   "source": [
    "data[CATEGORICAL_COLUMNS].head()"
   ]
  },
  {
   "cell_type": "markdown",
   "metadata": {},
   "source": [
    " * np.unique : np.arr 내 중복 제거"
   ]
  },
  {
   "cell_type": "code",
   "execution_count": 185,
   "metadata": {},
   "outputs": [],
   "source": [
    "from tensorflow.keras.layers import Input, Embedding, Dense, Flatten, Dropout, SpatialDropout1D, Activation, concatenate\n"
   ]
  },
  {
   "cell_type": "code",
   "execution_count": 186,
   "metadata": {},
   "outputs": [],
   "source": [
    "from tensorflow.python.keras.layers.normalization import BatchNormalization\n"
   ]
  },
  {
   "cell_type": "code",
   "execution_count": 187,
   "metadata": {},
   "outputs": [],
   "source": [
    "from tensorflow.python.keras.layers.advanced_activations import ReLU, PReLU, LeakyReLU, ELU\n",
    "from tensorflow.python.keras.optimizers import Adam, SGD\n",
    "from tensorflow.python.keras.callbacks import EarlyStopping, ModelCheckpoint\n",
    "from tensorflow.python.keras.models import Model"
   ]
  },
  {
   "cell_type": "code",
   "execution_count": 188,
   "metadata": {},
   "outputs": [],
   "source": [
    "def get_deep_model():\n",
    "    \n",
    "    category_inputs = []\n",
    "    category_embeds = []\n",
    "    \n",
    "    # Categorical Data Embedding\n",
    "    for i in range(len(CATEGORICAL_COLUMNS)):\n",
    "        \n",
    "        # input - embedding - flatten 순으로 layer 쌓기\n",
    "        input_i = Input(shape=(1,), dtype='int32')\n",
    "        \n",
    "        dim = len(np.unique(data[CATEGORICAL_COLUMNS[i]]))\n",
    "        # dim : data에서 카테고리별 요소가 몇 종류인지?\n",
    "        # 예시 data[학력] = '초', '중', '고' => dim = 3\n",
    "        \n",
    "        embed_dim = int(np.ceil(dim ** 0.5))\n",
    "        # embedding 차원을 0.5배 정도로 수행? (연산은 루트 올림인디?)\n",
    "        # 왜 임베딩 차원을 이렇게 하는지 추후 검토\n",
    "        \n",
    "        embed_i = Embedding(dim, embed_dim, input_length=1)(input_i)\n",
    "        # dim : 데이터가 몇 종류 있는지 = 임베딩 벡터를 몇 개 뽑아낼 것인지\n",
    "        # embed_dim : 임베딩 처리 후 벡터의 차원 = 임베딩 벡터를 몇 차원 벡터로 뽑아 낼 것인지\n",
    "        # input_length : 입력 데이터 길이\n",
    "        \n",
    "        flatten_i = Flatten()(embed_i)\n",
    "        # category 값을 임베딩환 벡터들을 flatten\n",
    "        # 서로 다른 값의 벡터 요소가 합쳐져도 괜찮은지??\n",
    "        # 어차피 class에 대한 순서가 있으니 상관 없을듯\n",
    "        \n",
    "        category_inputs.append(input_i)\n",
    "        category_embeds.append(flatten_i)\n",
    "        \n",
    "    # continuous 데이터 input\n",
    "    continue_input = Input(shape=(len(CONTINUOUS_COLUMNS),))\n",
    "    continue_dense = Dense(256, use_bias=False)(continue_input)\n",
    "    # use_bias = False로 하는 이유는??\n",
    "    \n",
    "    # category와 continue를 합침\n",
    "    concat_embeds = concatenate([continue_dense] + category_embeds)\n",
    "    concat_embeds = Activation('relu')(concat_embeds)\n",
    "    # Activation 효과 다시 공부\n",
    "    # relu 말고 다른 것은 어떤지??\n",
    "    bn_concat = BatchNormalization()(concat_embeds)\n",
    "    # Batch Normalization 효과 다시 공부\n",
    "    \n",
    "    fc1 = Dense(512, use_bias=False)(bn_concat)\n",
    "    relu1 = ReLU()(fc1)\n",
    "    bn1 = BatchNormalization()(relu1)\n",
    "    fc2 = Dense(256, use_bias=False)(bn1)\n",
    "    relu2 = ReLU()(fc2)\n",
    "    bn2 = BatchNormalization()(relu2)\n",
    "    fc3 = Dense(128)(bn2)\n",
    "    relu3 = ReLU()(fc3)\n",
    "    \n",
    "    return category_inputs, continue_input, relu3"
   ]
  },
  {
   "cell_type": "code",
   "execution_count": 189,
   "metadata": {},
   "outputs": [
    {
     "data": {
      "text/plain": [
       "array([[0, 0, 3],\n",
       "       [0, 6, 1],\n",
       "       [0, 0, 3],\n",
       "       ...,\n",
       "       [0, 0, 3],\n",
       "       [0, 0, 3],\n",
       "       [0, 0, 3]])"
      ]
     },
     "execution_count": 189,
     "metadata": {},
     "output_type": "execute_result"
    }
   ],
   "source": [
    "x_train_category"
   ]
  },
  {
   "cell_type": "code",
   "execution_count": 190,
   "metadata": {},
   "outputs": [
    {
     "data": {
      "text/plain": [
       "array([[1., 0., 0., ..., 0., 0., 0.],\n",
       "       [1., 0., 6., ..., 0., 0., 6.],\n",
       "       [1., 0., 0., ..., 0., 0., 0.],\n",
       "       ...,\n",
       "       [1., 0., 0., ..., 0., 0., 0.],\n",
       "       [1., 0., 0., ..., 0., 0., 0.],\n",
       "       [1., 0., 0., ..., 0., 0., 0.]])"
      ]
     },
     "execution_count": 190,
     "metadata": {},
     "output_type": "execute_result"
    }
   ],
   "source": [
    "x_train_category_poly"
   ]
  },
  {
   "cell_type": "code",
   "execution_count": 191,
   "metadata": {},
   "outputs": [
    {
     "data": {
      "text/plain": [
       "(84992, 7)"
      ]
     },
     "execution_count": 191,
     "metadata": {},
     "output_type": "execute_result"
    }
   ],
   "source": [
    "x_train_category_poly.shape"
   ]
  },
  {
   "cell_type": "code",
   "execution_count": 192,
   "metadata": {},
   "outputs": [],
   "source": [
    "import tensorflow as tf"
   ]
  },
  {
   "cell_type": "code",
   "execution_count": 193,
   "metadata": {},
   "outputs": [],
   "source": [
    "def get_wide_model():\n",
    "    dim = x_train_category_poly.shape[1]\n",
    "    return tf.keras.layers.Input(shape=(dim,))\n",
    "\n",
    "# x_train_category_poly : 카테고리 데이터를 숫자로 바꾸고, Poly Feature를 추가한 것\n",
    "# Poly Feature : a, b, c Feature를 이용해서 ab, bc, ca Feature를 만든것\n",
    "# 데이터의 shape 만 가져옴"
   ]
  },
  {
   "cell_type": "markdown",
   "metadata": {},
   "source": [
    "    * input - embedding - flatten 순으로 layer 쌓기"
   ]
  },
  {
   "cell_type": "code",
   "execution_count": null,
   "metadata": {},
   "outputs": [],
   "source": []
  },
  {
   "cell_type": "code",
   "execution_count": 194,
   "metadata": {},
   "outputs": [],
   "source": [
    "category_inputs, continue_input, deep_model = get_deep_model()\n",
    "wide_model = get_wide_model()"
   ]
  },
  {
   "cell_type": "code",
   "execution_count": 195,
   "metadata": {},
   "outputs": [
    {
     "data": {
      "text/plain": [
       "<tf.Tensor 'input_10:0' shape=(None, 7) dtype=float32>"
      ]
     },
     "execution_count": 195,
     "metadata": {},
     "output_type": "execute_result"
    }
   ],
   "source": [
    "wide_model"
   ]
  },
  {
   "cell_type": "code",
   "execution_count": 196,
   "metadata": {},
   "outputs": [
    {
     "data": {
      "text/plain": [
       "<tf.Tensor 're_lu_5/Relu:0' shape=(None, 128) dtype=float32>"
      ]
     },
     "execution_count": 196,
     "metadata": {},
     "output_type": "execute_result"
    }
   ],
   "source": [
    "deep_model"
   ]
  },
  {
   "cell_type": "markdown",
   "metadata": {},
   "source": [
    "### Wide모델과 Deep model을 합치기"
   ]
  },
  {
   "cell_type": "markdown",
   "metadata": {},
   "source": [
    "* wide model, deep model 합치기"
   ]
  },
  {
   "cell_type": "code",
   "execution_count": 197,
   "metadata": {},
   "outputs": [],
   "source": [
    "out_layer = concatenate([deep_model, wide_model])"
   ]
  },
  {
   "cell_type": "code",
   "execution_count": 198,
   "metadata": {},
   "outputs": [
    {
     "data": {
      "text/plain": [
       "<tf.Tensor 'concatenate_3/concat:0' shape=(None, 135) dtype=float32>"
      ]
     },
     "execution_count": 198,
     "metadata": {},
     "output_type": "execute_result"
    }
   ],
   "source": [
    "out_layer"
   ]
  },
  {
   "cell_type": "markdown",
   "metadata": {},
   "source": [
    "* 입력 값들 shape 확인"
   ]
  },
  {
   "cell_type": "code",
   "execution_count": 199,
   "metadata": {},
   "outputs": [
    {
     "data": {
      "text/plain": [
       "<tf.Tensor 'input_9:0' shape=(None, 7) dtype=float32>"
      ]
     },
     "execution_count": 199,
     "metadata": {},
     "output_type": "execute_result"
    }
   ],
   "source": [
    "continue_input"
   ]
  },
  {
   "cell_type": "code",
   "execution_count": 200,
   "metadata": {},
   "outputs": [
    {
     "data": {
      "text/plain": [
       "[<tf.Tensor 'input_6:0' shape=(None, 1) dtype=int32>,\n",
       " <tf.Tensor 'input_7:0' shape=(None, 1) dtype=int32>,\n",
       " <tf.Tensor 'input_8:0' shape=(None, 1) dtype=int32>]"
      ]
     },
     "execution_count": 200,
     "metadata": {},
     "output_type": "execute_result"
    }
   ],
   "source": [
    "category_inputs"
   ]
  },
  {
   "cell_type": "code",
   "execution_count": 201,
   "metadata": {},
   "outputs": [
    {
     "data": {
      "text/plain": [
       "<tf.Tensor 'input_10:0' shape=(None, 7) dtype=float32>"
      ]
     },
     "execution_count": 201,
     "metadata": {},
     "output_type": "execute_result"
    }
   ],
   "source": [
    "wide_model"
   ]
  },
  {
   "cell_type": "markdown",
   "metadata": {},
   "source": [
    "* 입력 값들 종합하기"
   ]
  },
  {
   "cell_type": "code",
   "execution_count": 202,
   "metadata": {},
   "outputs": [],
   "source": [
    "inputs = [continue_input] + category_inputs + [wide_model]"
   ]
  },
  {
   "cell_type": "code",
   "execution_count": 203,
   "metadata": {},
   "outputs": [
    {
     "data": {
      "text/plain": [
       "[<tf.Tensor 'input_9:0' shape=(None, 7) dtype=float32>,\n",
       " <tf.Tensor 'input_6:0' shape=(None, 1) dtype=int32>,\n",
       " <tf.Tensor 'input_7:0' shape=(None, 1) dtype=int32>,\n",
       " <tf.Tensor 'input_8:0' shape=(None, 1) dtype=int32>,\n",
       " <tf.Tensor 'input_10:0' shape=(None, 7) dtype=float32>]"
      ]
     },
     "execution_count": 203,
     "metadata": {},
     "output_type": "execute_result"
    }
   ],
   "source": [
    "inputs"
   ]
  },
  {
   "cell_type": "code",
   "execution_count": 204,
   "metadata": {},
   "outputs": [
    {
     "data": {
      "text/plain": [
       "1055"
      ]
     },
     "execution_count": 204,
     "metadata": {},
     "output_type": "execute_result"
    }
   ],
   "source": [
    "len(data['label'].value_counts())"
   ]
  },
  {
   "cell_type": "markdown",
   "metadata": {},
   "source": [
    "* wide model, deep model 합친 것을 한 점으로 모으기"
   ]
  },
  {
   "cell_type": "code",
   "execution_count": 205,
   "metadata": {},
   "outputs": [],
   "source": [
    "output = Dense(len(data['label'].value_counts()), activation='sigmoid')(out_layer)\n",
    "# 여기서는 왜 relu가 아니고 sigmoid를 썻는지???\n",
    "# 마지막 출력 값 범위를 0~1로 출력하기 위함 일듯?"
   ]
  },
  {
   "cell_type": "code",
   "execution_count": 206,
   "metadata": {},
   "outputs": [],
   "source": [
    "model = Model(inputs=inputs, outputs=output)"
   ]
  },
  {
   "cell_type": "code",
   "execution_count": 207,
   "metadata": {},
   "outputs": [
    {
     "name": "stdout",
     "output_type": "stream",
     "text": [
      "Model: \"functional_3\"\n",
      "__________________________________________________________________________________________________\n",
      "Layer (type)                    Output Shape         Param #     Connected to                     \n",
      "==================================================================================================\n",
      "input_6 (InputLayer)            [(None, 1)]          0                                            \n",
      "__________________________________________________________________________________________________\n",
      "input_7 (InputLayer)            [(None, 1)]          0                                            \n",
      "__________________________________________________________________________________________________\n",
      "input_8 (InputLayer)            [(None, 1)]          0                                            \n",
      "__________________________________________________________________________________________________\n",
      "input_9 (InputLayer)            [(None, 7)]          0                                            \n",
      "__________________________________________________________________________________________________\n",
      "embedding_3 (Embedding)         (None, 1, 2)         4           input_6[0][0]                    \n",
      "__________________________________________________________________________________________________\n",
      "embedding_4 (Embedding)         (None, 1, 3)         21          input_7[0][0]                    \n",
      "__________________________________________________________________________________________________\n",
      "embedding_5 (Embedding)         (None, 1, 2)         8           input_8[0][0]                    \n",
      "__________________________________________________________________________________________________\n",
      "dense_5 (Dense)                 (None, 256)          1792        input_9[0][0]                    \n",
      "__________________________________________________________________________________________________\n",
      "flatten_3 (Flatten)             (None, 2)            0           embedding_3[0][0]                \n",
      "__________________________________________________________________________________________________\n",
      "flatten_4 (Flatten)             (None, 3)            0           embedding_4[0][0]                \n",
      "__________________________________________________________________________________________________\n",
      "flatten_5 (Flatten)             (None, 2)            0           embedding_5[0][0]                \n",
      "__________________________________________________________________________________________________\n",
      "concatenate_2 (Concatenate)     (None, 263)          0           dense_5[0][0]                    \n",
      "                                                                 flatten_3[0][0]                  \n",
      "                                                                 flatten_4[0][0]                  \n",
      "                                                                 flatten_5[0][0]                  \n",
      "__________________________________________________________________________________________________\n",
      "activation_1 (Activation)       (None, 263)          0           concatenate_2[0][0]              \n",
      "__________________________________________________________________________________________________\n",
      "batch_normalization_3 (BatchNor (None, 263)          1052        activation_1[0][0]               \n",
      "__________________________________________________________________________________________________\n",
      "dense_6 (Dense)                 (None, 512)          134656      batch_normalization_3[0][0]      \n",
      "__________________________________________________________________________________________________\n",
      "re_lu_3 (ReLU)                  (None, 512)          0           dense_6[0][0]                    \n",
      "__________________________________________________________________________________________________\n",
      "batch_normalization_4 (BatchNor (None, 512)          2048        re_lu_3[0][0]                    \n",
      "__________________________________________________________________________________________________\n",
      "dense_7 (Dense)                 (None, 256)          131072      batch_normalization_4[0][0]      \n",
      "__________________________________________________________________________________________________\n",
      "re_lu_4 (ReLU)                  (None, 256)          0           dense_7[0][0]                    \n",
      "__________________________________________________________________________________________________\n",
      "batch_normalization_5 (BatchNor (None, 256)          1024        re_lu_4[0][0]                    \n",
      "__________________________________________________________________________________________________\n",
      "dense_8 (Dense)                 (None, 128)          32896       batch_normalization_5[0][0]      \n",
      "__________________________________________________________________________________________________\n",
      "re_lu_5 (ReLU)                  (None, 128)          0           dense_8[0][0]                    \n",
      "__________________________________________________________________________________________________\n",
      "input_10 (InputLayer)           [(None, 7)]          0                                            \n",
      "__________________________________________________________________________________________________\n",
      "concatenate_3 (Concatenate)     (None, 135)          0           re_lu_5[0][0]                    \n",
      "                                                                 input_10[0][0]                   \n",
      "__________________________________________________________________________________________________\n",
      "dense_9 (Dense)                 (None, 1055)         143480      concatenate_3[0][0]              \n",
      "==================================================================================================\n",
      "Total params: 448,053\n",
      "Trainable params: 445,991\n",
      "Non-trainable params: 2,062\n",
      "__________________________________________________________________________________________________\n"
     ]
    }
   ],
   "source": [
    "model.summary()"
   ]
  },
  {
   "cell_type": "code",
   "execution_count": 208,
   "metadata": {},
   "outputs": [],
   "source": [
    "checkpoint = ModelCheckpoint(filepath='./data/wide-deep.h5', monitor='val_loss', verbose=1, save_best_only=True)\n",
    "early_stopping = EarlyStopping(monitor='val_loss', patience=5)"
   ]
  },
  {
   "cell_type": "markdown",
   "metadata": {},
   "source": [
    "### 입력 데이터\n",
    "\n",
    "    * 위에서 정의한 리스트 변수 inputs에 맞추어\n",
    "    * continue 데이터 => category 데이터 => poly data 순으로 입력 값을 넣어준다"
   ]
  },
  {
   "cell_type": "markdown",
   "metadata": {},
   "source": [
    " * 데이터 확인"
   ]
  },
  {
   "cell_type": "markdown",
   "metadata": {},
   "source": [
    "* x_train_continue\n",
    "    - 숫자형 데이터(나이, 학력 수치, gain, loss, 업무시간)를 float형으로 변환하고\n",
    "    - StandardScaler()를 통해 정규화 한 것"
   ]
  },
  {
   "cell_type": "code",
   "execution_count": 209,
   "metadata": {},
   "outputs": [
    {
     "data": {
      "text/plain": [
       "array([[ 0.5968563 , -1.03754514, -0.69670276, ..., -1.25113817,\n",
       "         0.53265036,  0.32936634],\n",
       "       [ 1.4639742 ,  0.18555448, -0.93513226, ..., -1.25113817,\n",
       "        -1.05423692, -0.99637742],\n",
       "       [ 1.54924238,  1.4086541 , -0.75241737, ..., -1.25113817,\n",
       "        -0.42547026, -0.75958757],\n",
       "       ...,\n",
       "       [ 0.86979438, -1.03754514,  2.06130521, ...,  1.31579139,\n",
       "         1.55065353,  1.87443758],\n",
       "       [ 1.49454487,  1.4086541 ,  1.37092967, ...,  1.31579139,\n",
       "         0.68235671,  1.17175148],\n",
       "       [ 1.37301149,  0.18555448, -0.25176787, ...,  1.31579139,\n",
       "         0.65241544, -0.3677318 ]])"
      ]
     },
     "execution_count": 209,
     "metadata": {},
     "output_type": "execute_result"
    }
   ],
   "source": [
    "x_train_continue"
   ]
  },
  {
   "cell_type": "code",
   "execution_count": 210,
   "metadata": {},
   "outputs": [
    {
     "data": {
      "text/plain": [
       "(84992, 7)"
      ]
     },
     "execution_count": 210,
     "metadata": {},
     "output_type": "execute_result"
    }
   ],
   "source": [
    "x_train_continue.shape"
   ]
  },
  {
   "cell_type": "markdown",
   "metadata": {},
   "source": [
    "* x_train_category\n",
    "    - 범주형 데이터(업종, 학력, 결혼 여부, 직업, 가족관계, 인종, 성별, 국적)을  \n",
    "    - LabelEncoder()를 통해 숫자(정수)로 변경(인코딩)\n",
    "\n",
    "* x_train_category_poly\n",
    "    - 각 feature를 2개씩 쌍을 지어 내적한 결과로 Feature를 추가한 데이터"
   ]
  },
  {
   "cell_type": "code",
   "execution_count": 211,
   "metadata": {},
   "outputs": [
    {
     "data": {
      "text/plain": [
       "array([[0, 0, 3],\n",
       "       [0, 6, 1],\n",
       "       [0, 0, 3],\n",
       "       ...,\n",
       "       [0, 0, 3],\n",
       "       [0, 0, 3],\n",
       "       [0, 0, 3]])"
      ]
     },
     "execution_count": 211,
     "metadata": {},
     "output_type": "execute_result"
    }
   ],
   "source": [
    "x_train_category"
   ]
  },
  {
   "cell_type": "code",
   "execution_count": 212,
   "metadata": {},
   "outputs": [
    {
     "data": {
      "text/plain": [
       "(84992, 3)"
      ]
     },
     "execution_count": 212,
     "metadata": {},
     "output_type": "execute_result"
    }
   ],
   "source": [
    "x_train_category.shape"
   ]
  },
  {
   "cell_type": "code",
   "execution_count": 213,
   "metadata": {},
   "outputs": [
    {
     "data": {
      "text/plain": [
       "[array([0, 0, 0, ..., 0, 0, 0]),\n",
       " array([0, 6, 0, ..., 0, 0, 0]),\n",
       " array([3, 1, 3, ..., 3, 3, 3])]"
      ]
     },
     "execution_count": 213,
     "metadata": {},
     "output_type": "execute_result"
    }
   ],
   "source": [
    "[x_train_category[:, i] for i in range(x_train_category.shape[1])]"
   ]
  },
  {
   "cell_type": "code",
   "execution_count": 214,
   "metadata": {},
   "outputs": [
    {
     "data": {
      "text/plain": [
       "[array([[1., 0., 0., ..., 0., 0., 0.],\n",
       "        [1., 0., 6., ..., 0., 0., 6.],\n",
       "        [1., 0., 0., ..., 0., 0., 0.],\n",
       "        ...,\n",
       "        [1., 0., 0., ..., 0., 0., 0.],\n",
       "        [1., 0., 0., ..., 0., 0., 0.],\n",
       "        [1., 0., 0., ..., 0., 0., 0.]])]"
      ]
     },
     "execution_count": 214,
     "metadata": {},
     "output_type": "execute_result"
    }
   ],
   "source": [
    "[x_train_category_poly]"
   ]
  },
  {
   "cell_type": "code",
   "execution_count": 215,
   "metadata": {},
   "outputs": [
    {
     "data": {
      "text/plain": [
       "(84992, 7)"
      ]
     },
     "execution_count": 215,
     "metadata": {},
     "output_type": "execute_result"
    }
   ],
   "source": [
    "x_train_category_poly.shape"
   ]
  },
  {
   "cell_type": "markdown",
   "metadata": {},
   "source": [
    " * 모델 입력 데이터 설정 부분\n",
    " * category랑 category_poly랑 중복 아닌지??? => 나중에 확인할 것"
   ]
  },
  {
   "cell_type": "code",
   "execution_count": 216,
   "metadata": {},
   "outputs": [],
   "source": [
    "input_data = [x_train_continue] + [x_train_category[:, i] for i in range(x_train_category.shape[1])] + [x_train_category_poly]"
   ]
  },
  {
   "cell_type": "code",
   "execution_count": 217,
   "metadata": {},
   "outputs": [
    {
     "data": {
      "text/plain": [
       "5"
      ]
     },
     "execution_count": 217,
     "metadata": {},
     "output_type": "execute_result"
    }
   ],
   "source": [
    "len(input_data)"
   ]
  },
  {
   "cell_type": "code",
   "execution_count": 218,
   "metadata": {},
   "outputs": [
    {
     "data": {
      "text/plain": [
       "array([[ 0.5968563 , -1.03754514, -0.69670276, ..., -1.25113817,\n",
       "         0.53265036,  0.32936634],\n",
       "       [ 1.4639742 ,  0.18555448, -0.93513226, ..., -1.25113817,\n",
       "        -1.05423692, -0.99637742],\n",
       "       [ 1.54924238,  1.4086541 , -0.75241737, ..., -1.25113817,\n",
       "        -0.42547026, -0.75958757],\n",
       "       ...,\n",
       "       [ 0.86979438, -1.03754514,  2.06130521, ...,  1.31579139,\n",
       "         1.55065353,  1.87443758],\n",
       "       [ 1.49454487,  1.4086541 ,  1.37092967, ...,  1.31579139,\n",
       "         0.68235671,  1.17175148],\n",
       "       [ 1.37301149,  0.18555448, -0.25176787, ...,  1.31579139,\n",
       "         0.65241544, -0.3677318 ]])"
      ]
     },
     "execution_count": 218,
     "metadata": {},
     "output_type": "execute_result"
    }
   ],
   "source": [
    "# 이게 실수형 데이터 들\n",
    "input_data[0]"
   ]
  },
  {
   "cell_type": "code",
   "execution_count": 219,
   "metadata": {},
   "outputs": [
    {
     "name": "stdout",
     "output_type": "stream",
     "text": [
      "[0 0 0 ... 0 0 0]\n"
     ]
    }
   ],
   "source": [
    "print(input_data[1])"
   ]
  },
  {
   "cell_type": "code",
   "execution_count": 220,
   "metadata": {},
   "outputs": [
    {
     "name": "stdout",
     "output_type": "stream",
     "text": [
      "84992\n"
     ]
    }
   ],
   "source": [
    "print(len(input_data[1]))"
   ]
  },
  {
   "cell_type": "markdown",
   "metadata": {},
   "source": [
    "* 모델 파라미터 설정"
   ]
  },
  {
   "cell_type": "code",
   "execution_count": 221,
   "metadata": {},
   "outputs": [],
   "source": [
    "epochs = 1\n",
    "optimizer = 'adam'\n",
    "batch_size = 128"
   ]
  },
  {
   "cell_type": "markdown",
   "metadata": {},
   "source": [
    " * y : 수입이 50k 초과인지 아닌지\n",
    " * 초과면 1, 아니면 0"
   ]
  },
  {
   "cell_type": "code",
   "execution_count": 222,
   "metadata": {},
   "outputs": [],
   "source": [
    "test = np.eye(1055)[y_train]"
   ]
  },
  {
   "cell_type": "code",
   "execution_count": 223,
   "metadata": {},
   "outputs": [
    {
     "data": {
      "text/plain": [
       "array([  95,  448,  730, ..., 1051,  432, 1051])"
      ]
     },
     "execution_count": 223,
     "metadata": {},
     "output_type": "execute_result"
    }
   ],
   "source": [
    "y_train"
   ]
  },
  {
   "cell_type": "code",
   "execution_count": 224,
   "metadata": {},
   "outputs": [
    {
     "data": {
      "text/plain": [
       "95"
      ]
     },
     "execution_count": 224,
     "metadata": {},
     "output_type": "execute_result"
    }
   ],
   "source": [
    "test[0].argmax()"
   ]
  },
  {
   "cell_type": "code",
   "execution_count": 225,
   "metadata": {},
   "outputs": [
    {
     "data": {
      "text/plain": [
       "(84992,)"
      ]
     },
     "execution_count": 225,
     "metadata": {},
     "output_type": "execute_result"
    }
   ],
   "source": [
    "y_train.shape"
   ]
  },
  {
   "cell_type": "code",
   "execution_count": 226,
   "metadata": {},
   "outputs": [
    {
     "data": {
      "text/plain": [
       "(84992, 7)"
      ]
     },
     "execution_count": 226,
     "metadata": {},
     "output_type": "execute_result"
    }
   ],
   "source": [
    "input_data[0].shape"
   ]
  },
  {
   "cell_type": "code",
   "execution_count": 227,
   "metadata": {},
   "outputs": [
    {
     "name": "stdout",
     "output_type": "stream",
     "text": [
      "564/565 [============================>.] - ETA: 0s - loss: 0.0049 - top_k_categorical_accuracy: 0.0473\n",
      "Epoch 00001: val_loss improved from inf to 0.00095, saving model to ./data/wide-deep.h5\n",
      "565/565 [==============================] - 2s 3ms/step - loss: 0.0049 - top_k_categorical_accuracy: 0.0474 - val_loss: 9.4601e-04 - val_top_k_categorical_accuracy: 0.1267\n"
     ]
    },
    {
     "data": {
      "text/plain": [
       "<tensorflow.python.keras.callbacks.History at 0x7f061000aa50>"
      ]
     },
     "execution_count": 227,
     "metadata": {},
     "output_type": "execute_result"
    }
   ],
   "source": [
    "model.compile(optimizer=optimizer, loss='mse', metrics=['TopKCategoricalAccuracy'])\n",
    "model.fit(input_data, test, epochs=epochs, batch_size=batch_size, validation_split=0.15, callbacks=[checkpoint, early_stopping])"
   ]
  },
  {
   "cell_type": "markdown",
   "metadata": {},
   "source": [
    "## 평가"
   ]
  },
  {
   "cell_type": "code",
   "execution_count": 228,
   "metadata": {},
   "outputs": [],
   "source": [
    "# train input data와 같은 방식으로 test data를 input 형식에 맞추어줌\n",
    "eval_input_data = [x_test_continue] + [x_test_category[:, i] for i in range(x_test_category.shape[1])] + [x_test_category_poly]"
   ]
  },
  {
   "cell_type": "code",
   "execution_count": 229,
   "metadata": {},
   "outputs": [],
   "source": [
    "test1 = np.eye(1055)[y_test]"
   ]
  },
  {
   "cell_type": "code",
   "execution_count": 230,
   "metadata": {},
   "outputs": [
    {
     "name": "stdout",
     "output_type": "stream",
     "text": [
      "1163/1163 [==============================] - 1s 1ms/step - loss: 9.4632e-04 - top_k_categorical_accuracy: 0.1115\n"
     ]
    }
   ],
   "source": [
    "loss, acc = model.evaluate(eval_input_data, test1)"
   ]
  },
  {
   "cell_type": "code",
   "execution_count": 231,
   "metadata": {},
   "outputs": [
    {
     "name": "stdout",
     "output_type": "stream",
     "text": [
      "test_loss: 0.0009463226888328791 - test_acc: 0.11150247603654861\n"
     ]
    }
   ],
   "source": [
    "print(f'test_loss: {loss} - test_acc: {acc}')\n",
    "# 문자열 앞에 f는 formating이었나? 확인"
   ]
  },
  {
   "cell_type": "markdown",
   "metadata": {},
   "source": [
    "* 모델 그래프로 그리기\n",
    "    - 밑에 함수 수행하기 전에 터미널 명령어로 설치해야함\n",
    "    1. pip install pydot\n",
    "    2. sudo apt install graphviz"
   ]
  },
  {
   "cell_type": "code",
   "execution_count": 232,
   "metadata": {},
   "outputs": [
    {
     "name": "stdout",
     "output_type": "stream",
     "text": [
      "5.0\n"
     ]
    }
   ],
   "source": [
    "# 정규화된 데이터간 거리 구해보기\n",
    "from scipy.spatial import distance\n",
    "\n",
    "a = [0,0,0]\n",
    "b = [0,3,4]\n",
    "dist_ab = distance.euclidean(a,b)\n",
    "print(dist_ab)"
   ]
  },
  {
   "cell_type": "code",
   "execution_count": 233,
   "metadata": {},
   "outputs": [],
   "source": [
    "predict_y = model.predict(eval_input_data)"
   ]
  },
  {
   "cell_type": "markdown",
   "metadata": {},
   "source": [
    "### 정확도 평가"
   ]
  },
  {
   "cell_type": "code",
   "execution_count": 264,
   "metadata": {},
   "outputs": [],
   "source": [
    "def get_acc(score_matrix, top_n, test_matix):\n",
    "    avg_acc = 0\n",
    "    for i in range(len(score_matrix)):\n",
    "        top = score_matrix.iloc[i].nlargest(top_n).index\n",
    "        tmp = 0\n",
    "        for j in range(len(top)):\n",
    "#             print('test_matix', test_matix[\"target\"][i])\n",
    "#             print('top', top[j])\n",
    "            \n",
    "            if top[j] == test_matix[\"target\"][i]:\n",
    "                tmp += 1\n",
    "        acc = tmp / len(top)\n",
    "        avg_acc += acc / len(score_matrix)\n",
    "\n",
    "    return avg_acc"
   ]
  },
  {
   "cell_type": "code",
   "execution_count": 286,
   "metadata": {},
   "outputs": [
    {
     "data": {
      "text/html": [
       "<div>\n",
       "<style scoped>\n",
       "    .dataframe tbody tr th:only-of-type {\n",
       "        vertical-align: middle;\n",
       "    }\n",
       "\n",
       "    .dataframe tbody tr th {\n",
       "        vertical-align: top;\n",
       "    }\n",
       "\n",
       "    .dataframe thead th {\n",
       "        text-align: right;\n",
       "    }\n",
       "</style>\n",
       "<table border=\"1\" class=\"dataframe\">\n",
       "  <thead>\n",
       "    <tr style=\"text-align: right;\">\n",
       "      <th></th>\n",
       "      <th>clnt_id</th>\n",
       "      <th>target</th>\n",
       "    </tr>\n",
       "  </thead>\n",
       "  <tbody>\n",
       "    <tr>\n",
       "      <th>0</th>\n",
       "      <td>23275</td>\n",
       "      <td>806</td>\n",
       "    </tr>\n",
       "    <tr>\n",
       "      <th>1</th>\n",
       "      <td>31000</td>\n",
       "      <td>422</td>\n",
       "    </tr>\n",
       "    <tr>\n",
       "      <th>2</th>\n",
       "      <td>64682</td>\n",
       "      <td>254</td>\n",
       "    </tr>\n",
       "    <tr>\n",
       "      <th>3</th>\n",
       "      <td>40955</td>\n",
       "      <td>337</td>\n",
       "    </tr>\n",
       "    <tr>\n",
       "      <th>4</th>\n",
       "      <td>54200</td>\n",
       "      <td>732</td>\n",
       "    </tr>\n",
       "  </tbody>\n",
       "</table>\n",
       "</div>"
      ],
      "text/plain": [
       "   clnt_id  target\n",
       "0    23275     806\n",
       "1    31000     422\n",
       "2    64682     254\n",
       "3    40955     337\n",
       "4    54200     732"
      ]
     },
     "execution_count": 286,
     "metadata": {},
     "output_type": "execute_result"
    }
   ],
   "source": [
    "dic = {'clnt_id': x_test['clnt_id'],'target' : y_test}\n",
    "target_matrix = pd.DataFrame(dic).reset_index()\n",
    "target_matrix = target_matrix.drop(['index'], axis=1)\n",
    "\n",
    "target_matrix.head()"
   ]
  },
  {
   "cell_type": "code",
   "execution_count": 288,
   "metadata": {},
   "outputs": [
    {
     "data": {
      "text/html": [
       "<div>\n",
       "<style scoped>\n",
       "    .dataframe tbody tr th:only-of-type {\n",
       "        vertical-align: middle;\n",
       "    }\n",
       "\n",
       "    .dataframe tbody tr th {\n",
       "        vertical-align: top;\n",
       "    }\n",
       "\n",
       "    .dataframe thead th {\n",
       "        text-align: right;\n",
       "    }\n",
       "</style>\n",
       "<table border=\"1\" class=\"dataframe\">\n",
       "  <thead>\n",
       "    <tr style=\"text-align: right;\">\n",
       "      <th></th>\n",
       "      <th>0</th>\n",
       "      <th>1</th>\n",
       "      <th>2</th>\n",
       "      <th>3</th>\n",
       "      <th>4</th>\n",
       "      <th>5</th>\n",
       "      <th>6</th>\n",
       "      <th>7</th>\n",
       "      <th>8</th>\n",
       "      <th>9</th>\n",
       "      <th>...</th>\n",
       "      <th>1045</th>\n",
       "      <th>1046</th>\n",
       "      <th>1047</th>\n",
       "      <th>1048</th>\n",
       "      <th>1049</th>\n",
       "      <th>1050</th>\n",
       "      <th>1051</th>\n",
       "      <th>1052</th>\n",
       "      <th>1053</th>\n",
       "      <th>1054</th>\n",
       "    </tr>\n",
       "  </thead>\n",
       "  <tbody>\n",
       "    <tr>\n",
       "      <th>0</th>\n",
       "      <td>0.001101</td>\n",
       "      <td>0.000697</td>\n",
       "      <td>0.001059</td>\n",
       "      <td>0.000112</td>\n",
       "      <td>0.000054</td>\n",
       "      <td>0.000416</td>\n",
       "      <td>0.004709</td>\n",
       "      <td>0.000118</td>\n",
       "      <td>0.000580</td>\n",
       "      <td>0.000014</td>\n",
       "      <td>...</td>\n",
       "      <td>0.001289</td>\n",
       "      <td>0.000067</td>\n",
       "      <td>0.000497</td>\n",
       "      <td>0.000118</td>\n",
       "      <td>0.000186</td>\n",
       "      <td>0.000086</td>\n",
       "      <td>0.000390</td>\n",
       "      <td>0.000778</td>\n",
       "      <td>0.000026</td>\n",
       "      <td>0.000761</td>\n",
       "    </tr>\n",
       "    <tr>\n",
       "      <th>1</th>\n",
       "      <td>0.003764</td>\n",
       "      <td>0.002695</td>\n",
       "      <td>0.002318</td>\n",
       "      <td>0.000195</td>\n",
       "      <td>0.000146</td>\n",
       "      <td>0.001931</td>\n",
       "      <td>0.002673</td>\n",
       "      <td>0.000802</td>\n",
       "      <td>0.001769</td>\n",
       "      <td>0.000139</td>\n",
       "      <td>...</td>\n",
       "      <td>0.001504</td>\n",
       "      <td>0.000259</td>\n",
       "      <td>0.000600</td>\n",
       "      <td>0.000691</td>\n",
       "      <td>0.000288</td>\n",
       "      <td>0.000247</td>\n",
       "      <td>0.000831</td>\n",
       "      <td>0.001781</td>\n",
       "      <td>0.000271</td>\n",
       "      <td>0.002430</td>\n",
       "    </tr>\n",
       "    <tr>\n",
       "      <th>2</th>\n",
       "      <td>0.000136</td>\n",
       "      <td>0.000315</td>\n",
       "      <td>0.000467</td>\n",
       "      <td>0.000033</td>\n",
       "      <td>0.000018</td>\n",
       "      <td>0.000025</td>\n",
       "      <td>0.001205</td>\n",
       "      <td>0.000033</td>\n",
       "      <td>0.000212</td>\n",
       "      <td>0.000005</td>\n",
       "      <td>...</td>\n",
       "      <td>0.000331</td>\n",
       "      <td>0.000003</td>\n",
       "      <td>0.000072</td>\n",
       "      <td>0.000015</td>\n",
       "      <td>0.000103</td>\n",
       "      <td>0.000014</td>\n",
       "      <td>0.000426</td>\n",
       "      <td>0.000340</td>\n",
       "      <td>0.000003</td>\n",
       "      <td>0.000341</td>\n",
       "    </tr>\n",
       "    <tr>\n",
       "      <th>3</th>\n",
       "      <td>0.000209</td>\n",
       "      <td>0.000375</td>\n",
       "      <td>0.000410</td>\n",
       "      <td>0.000041</td>\n",
       "      <td>0.000020</td>\n",
       "      <td>0.000026</td>\n",
       "      <td>0.001254</td>\n",
       "      <td>0.000037</td>\n",
       "      <td>0.000150</td>\n",
       "      <td>0.000003</td>\n",
       "      <td>...</td>\n",
       "      <td>0.000388</td>\n",
       "      <td>0.000006</td>\n",
       "      <td>0.000114</td>\n",
       "      <td>0.000011</td>\n",
       "      <td>0.000092</td>\n",
       "      <td>0.000017</td>\n",
       "      <td>0.000373</td>\n",
       "      <td>0.000352</td>\n",
       "      <td>0.000006</td>\n",
       "      <td>0.000352</td>\n",
       "    </tr>\n",
       "    <tr>\n",
       "      <th>4</th>\n",
       "      <td>0.001144</td>\n",
       "      <td>0.003440</td>\n",
       "      <td>0.001801</td>\n",
       "      <td>0.000324</td>\n",
       "      <td>0.000497</td>\n",
       "      <td>0.001939</td>\n",
       "      <td>0.000578</td>\n",
       "      <td>0.000485</td>\n",
       "      <td>0.001677</td>\n",
       "      <td>0.000229</td>\n",
       "      <td>...</td>\n",
       "      <td>0.001035</td>\n",
       "      <td>0.000301</td>\n",
       "      <td>0.001720</td>\n",
       "      <td>0.000649</td>\n",
       "      <td>0.000495</td>\n",
       "      <td>0.000418</td>\n",
       "      <td>0.000785</td>\n",
       "      <td>0.001992</td>\n",
       "      <td>0.000662</td>\n",
       "      <td>0.002127</td>\n",
       "    </tr>\n",
       "  </tbody>\n",
       "</table>\n",
       "<p>5 rows × 1055 columns</p>\n",
       "</div>"
      ],
      "text/plain": [
       "       0         1         2         3         4         5         6     \\\n",
       "0  0.001101  0.000697  0.001059  0.000112  0.000054  0.000416  0.004709   \n",
       "1  0.003764  0.002695  0.002318  0.000195  0.000146  0.001931  0.002673   \n",
       "2  0.000136  0.000315  0.000467  0.000033  0.000018  0.000025  0.001205   \n",
       "3  0.000209  0.000375  0.000410  0.000041  0.000020  0.000026  0.001254   \n",
       "4  0.001144  0.003440  0.001801  0.000324  0.000497  0.001939  0.000578   \n",
       "\n",
       "       7         8         9     ...      1045      1046      1047      1048  \\\n",
       "0  0.000118  0.000580  0.000014  ...  0.001289  0.000067  0.000497  0.000118   \n",
       "1  0.000802  0.001769  0.000139  ...  0.001504  0.000259  0.000600  0.000691   \n",
       "2  0.000033  0.000212  0.000005  ...  0.000331  0.000003  0.000072  0.000015   \n",
       "3  0.000037  0.000150  0.000003  ...  0.000388  0.000006  0.000114  0.000011   \n",
       "4  0.000485  0.001677  0.000229  ...  0.001035  0.000301  0.001720  0.000649   \n",
       "\n",
       "       1049      1050      1051      1052      1053      1054  \n",
       "0  0.000186  0.000086  0.000390  0.000778  0.000026  0.000761  \n",
       "1  0.000288  0.000247  0.000831  0.001781  0.000271  0.002430  \n",
       "2  0.000103  0.000014  0.000426  0.000340  0.000003  0.000341  \n",
       "3  0.000092  0.000017  0.000373  0.000352  0.000006  0.000352  \n",
       "4  0.000495  0.000418  0.000785  0.001992  0.000662  0.002127  \n",
       "\n",
       "[5 rows x 1055 columns]"
      ]
     },
     "execution_count": 288,
     "metadata": {},
     "output_type": "execute_result"
    }
   ],
   "source": [
    "small_p = pd.DataFrame(predict_y[:1000])\n",
    "small_p.head()"
   ]
  },
  {
   "cell_type": "code",
   "execution_count": 289,
   "metadata": {},
   "outputs": [
    {
     "name": "stdout",
     "output_type": "stream",
     "text": [
      "정확도: 2.519999999999996%\n"
     ]
    }
   ],
   "source": [
    "accuracy  = get_acc(small_p, 5, target_matrix)\n",
    "\n",
    "print(f\"정확도: {accuracy*100}%\")"
   ]
  },
  {
   "cell_type": "markdown",
   "metadata": {},
   "source": [
    "### 정확도 평가"
   ]
  },
  {
   "cell_type": "code",
   "execution_count": 258,
   "metadata": {},
   "outputs": [],
   "source": [
    "def get_pred_list(predict_y, top_n, target_matrix, columns):\n",
    "    test_matrix = target_matrix.copy()\n",
    "    pred_matrix = predict_y.copy()\n",
    "    pred_matrix.rename(columns = columns['hangle'], inplace = True)\n",
    "    for i in range(len(pred_matrix)):\n",
    "        top = pred_matrix.iloc[i].nlargest(top_n).index\n",
    "        top = pd.DataFrame(top.astype(str).to_frame().apply(lambda x: \", \".join(x)))\n",
    "        test_matrix.loc[i, 'pred'] = top.values\n",
    "    test_matrix['target'] = test_matrix['target'].apply(lambda x: columns['hangle'][x])\n",
    "    return test_matrix"
   ]
  },
  {
   "cell_type": "code",
   "execution_count": 290,
   "metadata": {},
   "outputs": [],
   "source": [
    "d={'hangle': train_data['clac_nm3'], 'label': data['label']}\n",
    "df = pd.DataFrame(data=d).drop_duplicates()\n",
    "cate2papago = df.set_index('label').to_dict()"
   ]
  },
  {
   "cell_type": "code",
   "execution_count": 246,
   "metadata": {},
   "outputs": [],
   "source": [
    "test = get_pred_list(small_p, 5, target_matrix, cate2papago)"
   ]
  },
  {
   "cell_type": "code",
   "execution_count": 248,
   "metadata": {},
   "outputs": [
    {
     "data": {
      "text/html": [
       "<div>\n",
       "<style scoped>\n",
       "    .dataframe tbody tr th:only-of-type {\n",
       "        vertical-align: middle;\n",
       "    }\n",
       "\n",
       "    .dataframe tbody tr th {\n",
       "        vertical-align: top;\n",
       "    }\n",
       "\n",
       "    .dataframe thead th {\n",
       "        text-align: right;\n",
       "    }\n",
       "</style>\n",
       "<table border=\"1\" class=\"dataframe\">\n",
       "  <thead>\n",
       "    <tr style=\"text-align: right;\">\n",
       "      <th></th>\n",
       "      <th>clnt_id</th>\n",
       "      <th>target</th>\n",
       "      <th>pred</th>\n",
       "    </tr>\n",
       "  </thead>\n",
       "  <tbody>\n",
       "    <tr>\n",
       "      <th>0</th>\n",
       "      <td>23275</td>\n",
       "      <td>찹쌀</td>\n",
       "      <td>[달걀, 우유, 라면, 물, 두부]</td>\n",
       "    </tr>\n",
       "    <tr>\n",
       "      <th>1</th>\n",
       "      <td>31000</td>\n",
       "      <td>사과</td>\n",
       "      <td>[달걀, 스푼형 요거트, 일반 스낵, 우유, 기타 크랩]</td>\n",
       "    </tr>\n",
       "    <tr>\n",
       "      <th>2</th>\n",
       "      <td>64682</td>\n",
       "      <td>달걀</td>\n",
       "      <td>[우유, 달걀, 라면, 두부, 물]</td>\n",
       "    </tr>\n",
       "    <tr>\n",
       "      <th>3</th>\n",
       "      <td>40955</td>\n",
       "      <td>물</td>\n",
       "      <td>[우유, 달걀, 라면, 물, 소세지]</td>\n",
       "    </tr>\n",
       "    <tr>\n",
       "      <th>4</th>\n",
       "      <td>54200</td>\n",
       "      <td>인스턴트 카레 / 검은콩 소스</td>\n",
       "      <td>[달걀, 일반 스낵, 새우, 국내산 돼지고기 - 삼겹살, 두부]</td>\n",
       "    </tr>\n",
       "    <tr>\n",
       "      <th>...</th>\n",
       "      <td>...</td>\n",
       "      <td>...</td>\n",
       "      <td>...</td>\n",
       "    </tr>\n",
       "    <tr>\n",
       "      <th>995</th>\n",
       "      <td>37053</td>\n",
       "      <td>옥수수 스낵</td>\n",
       "      <td>[달걀, 우유, 두부, 스푼형 요거트, 여자 로퍼]</td>\n",
       "    </tr>\n",
       "    <tr>\n",
       "      <th>996</th>\n",
       "      <td>69408</td>\n",
       "      <td>라면</td>\n",
       "      <td>[달걀, 우유, 두부, 일반 스낵, 국내 Beefs-생크스.]</td>\n",
       "    </tr>\n",
       "    <tr>\n",
       "      <th>997</th>\n",
       "      <td>71409</td>\n",
       "      <td>크래커</td>\n",
       "      <td>[우유, 달걀, 두부, 라면, 소년의 역할극 장난감]</td>\n",
       "    </tr>\n",
       "    <tr>\n",
       "      <th>998</th>\n",
       "      <td>28501</td>\n",
       "      <td>고구마</td>\n",
       "      <td>[우유, 달걀, 스푼형 요거트, 라면, 두부]</td>\n",
       "    </tr>\n",
       "    <tr>\n",
       "      <th>999</th>\n",
       "      <td>9897</td>\n",
       "      <td>냉동 국물</td>\n",
       "      <td>[라면, 달걀, 우유, 일반 스낵, 소세지]</td>\n",
       "    </tr>\n",
       "  </tbody>\n",
       "</table>\n",
       "<p>1000 rows × 3 columns</p>\n",
       "</div>"
      ],
      "text/plain": [
       "     clnt_id            target                                 pred\n",
       "0      23275                찹쌀                  [달걀, 우유, 라면, 물, 두부]\n",
       "1      31000                사과      [달걀, 스푼형 요거트, 일반 스낵, 우유, 기타 크랩]\n",
       "2      64682                달걀                  [우유, 달걀, 라면, 두부, 물]\n",
       "3      40955                 물                 [우유, 달걀, 라면, 물, 소세지]\n",
       "4      54200  인스턴트 카레 / 검은콩 소스  [달걀, 일반 스낵, 새우, 국내산 돼지고기 - 삼겹살, 두부]\n",
       "..       ...               ...                                  ...\n",
       "995    37053            옥수수 스낵         [달걀, 우유, 두부, 스푼형 요거트, 여자 로퍼]\n",
       "996    69408                라면   [달걀, 우유, 두부, 일반 스낵, 국내 Beefs-생크스.]\n",
       "997    71409               크래커        [우유, 달걀, 두부, 라면, 소년의 역할극 장난감]\n",
       "998    28501               고구마            [우유, 달걀, 스푼형 요거트, 라면, 두부]\n",
       "999     9897             냉동 국물             [라면, 달걀, 우유, 일반 스낵, 소세지]\n",
       "\n",
       "[1000 rows x 3 columns]"
      ]
     },
     "execution_count": 248,
     "metadata": {},
     "output_type": "execute_result"
    }
   ],
   "source": [
    "test[test['pred'].notna()]"
   ]
  }
 ],
 "metadata": {
  "kernelspec": {
   "display_name": "aiffel",
   "language": "python",
   "name": "aiffel"
  },
  "language_info": {
   "codemirror_mode": {
    "name": "ipython",
    "version": 3
   },
   "file_extension": ".py",
   "mimetype": "text/x-python",
   "name": "python",
   "nbconvert_exporter": "python",
   "pygments_lexer": "ipython3",
   "version": "3.7.7"
  }
 },
 "nbformat": 4,
 "nbformat_minor": 4
}
