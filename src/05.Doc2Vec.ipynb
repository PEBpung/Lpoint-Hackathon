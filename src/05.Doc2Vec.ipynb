{
 "cells": [
  {
   "cell_type": "markdown",
   "metadata": {},
   "source": [
    "# L-Point Recommendation System"
   ]
  },
  {
   "cell_type": "markdown",
   "metadata": {},
   "source": [
    "Doc2vec + Wide & Deep 을 이용한 추천시스템\n",
    "----------------------------------"
   ]
  },
  {
   "cell_type": "markdown",
   "metadata": {},
   "source": [
    "### 순서\n",
    "\n",
    "1. 데이터 소개\n",
    "2. Doc2Vec\n",
    "3. Wide & Deep\n",
    "4. Recommendation\n",
    "5. Cold start 문제\n",
    "6. 결론"
   ]
  },
  {
   "cell_type": "markdown",
   "metadata": {},
   "source": [
    "본 문서에 사용된 데이터는 Lpoint 2019년 공모전에서 제공받은 데이터임을 밝힙니다."
   ]
  },
  {
   "cell_type": "markdown",
   "metadata": {},
   "source": [
    "# 1. 데이터 소개"
   ]
  },
  {
   "cell_type": "markdown",
   "metadata": {},
   "source": [
    "앞서 해당 데이터가 꽤 크므로 간단한 분석용으로 줄였습니다.  "
   ]
  },
  {
   "cell_type": "markdown",
   "metadata": {},
   "source": [
    "고객 A, B, C"
   ]
  },
  {
   "cell_type": "code",
   "execution_count": 13,
   "metadata": {},
   "outputs": [],
   "source": [
    "import numpy as np # linear algebra\n",
    "import pandas as pd # data processing, CSV file I/O (e.g. pd.read_csv)\n",
    "import seaborn as sns\n",
    "import matplotlib.pyplot as plt"
   ]
  },
  {
   "cell_type": "code",
   "execution_count": 14,
   "metadata": {},
   "outputs": [],
   "source": [
    "cks_dtype = {'clnt_id':'int64','sess_id':'int64','hit_seq':'int64','action_type':'int64','biz_unit':'category','sess_dt':'object','hit_tm':'object',\n",
    "             'hit_pss_tm':'int64','trans_id':'float64','sech_kwd':'object','tot_pag_view_ct':'float64','tot_sess_hr_v':'float64','trfc_src':'category',\n",
    "             'dvc_ctg_nm':'object','pd_c':'object','de_dt':'object','de_tm':'object','buy_am':'int64','buy_ct':'int64','clnt_gender':'category'}\n",
    "\n",
    "online = pd.read_csv('./data/online_01.csv', dtype=cks_dtype)\n",
    "trade = pd.read_csv('./data/trade_01.csv', dtype=cks_dtype)\n",
    "customer = pd.read_csv('./data/customer_01.csv', dtype=cks_dtype)\n",
    "item = pd.read_csv('./data/item_01.csv', dtype=cks_dtype)"
   ]
  },
  {
   "cell_type": "code",
   "execution_count": 15,
   "metadata": {},
   "outputs": [],
   "source": [
    "total = pd.read_csv('./data/total_label.csv')"
   ]
  },
  {
   "cell_type": "code",
   "execution_count": 16,
   "metadata": {},
   "outputs": [],
   "source": [
    "total = total[(total['action_type']==0)|(total['action_type']==6)]"
   ]
  },
  {
   "cell_type": "code",
   "execution_count": 17,
   "metadata": {},
   "outputs": [],
   "source": [
    "train_data = total.sort_values(['clnt_id', 'sess_id'])\n",
    "train_data = train_data[train_data['label'].notna()]"
   ]
  },
  {
   "cell_type": "code",
   "execution_count": 26,
   "metadata": {},
   "outputs": [
    {
     "data": {
      "text/html": [
       "<div>\n",
       "<style scoped>\n",
       "    .dataframe tbody tr th:only-of-type {\n",
       "        vertical-align: middle;\n",
       "    }\n",
       "\n",
       "    .dataframe tbody tr th {\n",
       "        vertical-align: top;\n",
       "    }\n",
       "\n",
       "    .dataframe thead th {\n",
       "        text-align: right;\n",
       "    }\n",
       "</style>\n",
       "<table border=\"1\" class=\"dataframe\">\n",
       "  <thead>\n",
       "    <tr style=\"text-align: right;\">\n",
       "      <th></th>\n",
       "      <th>clnt_id</th>\n",
       "      <th>sess_id</th>\n",
       "      <th>label</th>\n",
       "    </tr>\n",
       "  </thead>\n",
       "  <tbody>\n",
       "    <tr>\n",
       "      <th>0</th>\n",
       "      <td>1</td>\n",
       "      <td>1</td>\n",
       "      <td>Chilled Instant Foods</td>\n",
       "    </tr>\n",
       "    <tr>\n",
       "      <th>2</th>\n",
       "      <td>1</td>\n",
       "      <td>1</td>\n",
       "      <td>Living Services</td>\n",
       "    </tr>\n",
       "    <tr>\n",
       "      <th>7</th>\n",
       "      <td>1</td>\n",
       "      <td>2</td>\n",
       "      <td>Climbing</td>\n",
       "    </tr>\n",
       "    <tr>\n",
       "      <th>9</th>\n",
       "      <td>1</td>\n",
       "      <td>2</td>\n",
       "      <td>Camping</td>\n",
       "    </tr>\n",
       "    <tr>\n",
       "      <th>10</th>\n",
       "      <td>2</td>\n",
       "      <td>1</td>\n",
       "      <td>Chocolates</td>\n",
       "    </tr>\n",
       "    <tr>\n",
       "      <th>13</th>\n",
       "      <td>2</td>\n",
       "      <td>1</td>\n",
       "      <td>Candies</td>\n",
       "    </tr>\n",
       "    <tr>\n",
       "      <th>14</th>\n",
       "      <td>2</td>\n",
       "      <td>1</td>\n",
       "      <td>Snacks</td>\n",
       "    </tr>\n",
       "    <tr>\n",
       "      <th>18</th>\n",
       "      <td>2</td>\n",
       "      <td>1</td>\n",
       "      <td>Biscuits</td>\n",
       "    </tr>\n",
       "    <tr>\n",
       "      <th>21</th>\n",
       "      <td>2</td>\n",
       "      <td>1</td>\n",
       "      <td>Pies</td>\n",
       "    </tr>\n",
       "    <tr>\n",
       "      <th>22</th>\n",
       "      <td>2</td>\n",
       "      <td>1</td>\n",
       "      <td>Snacks</td>\n",
       "    </tr>\n",
       "  </tbody>\n",
       "</table>\n",
       "</div>"
      ],
      "text/plain": [
       "    clnt_id  sess_id                  label\n",
       "0         1        1  Chilled Instant Foods\n",
       "2         1        1        Living Services\n",
       "7         1        2               Climbing\n",
       "9         1        2                Camping\n",
       "10        2        1             Chocolates\n",
       "13        2        1                Candies\n",
       "14        2        1                 Snacks\n",
       "18        2        1               Biscuits\n",
       "21        2        1                   Pies\n",
       "22        2        1                 Snacks"
      ]
     },
     "execution_count": 26,
     "metadata": {},
     "output_type": "execute_result"
    }
   ],
   "source": [
    "train_data = train_data[['clnt_id','sess_id','label']]\n",
    "train_data.head(10)"
   ]
  },
  {
   "cell_type": "code",
   "execution_count": 27,
   "metadata": {},
   "outputs": [
    {
     "data": {
      "text/html": [
       "<div>\n",
       "<style scoped>\n",
       "    .dataframe tbody tr th:only-of-type {\n",
       "        vertical-align: middle;\n",
       "    }\n",
       "\n",
       "    .dataframe tbody tr th {\n",
       "        vertical-align: top;\n",
       "    }\n",
       "\n",
       "    .dataframe thead th {\n",
       "        text-align: right;\n",
       "    }\n",
       "</style>\n",
       "<table border=\"1\" class=\"dataframe\">\n",
       "  <thead>\n",
       "    <tr style=\"text-align: right;\">\n",
       "      <th></th>\n",
       "      <th>clnt_id</th>\n",
       "      <th>sess_id</th>\n",
       "      <th>label</th>\n",
       "    </tr>\n",
       "  </thead>\n",
       "  <tbody>\n",
       "    <tr>\n",
       "      <th>0</th>\n",
       "      <td>1</td>\n",
       "      <td>1</td>\n",
       "      <td>Chilled Instant Foods, Living Services</td>\n",
       "    </tr>\n",
       "    <tr>\n",
       "      <th>1</th>\n",
       "      <td>1</td>\n",
       "      <td>2</td>\n",
       "      <td>Climbing, Camping</td>\n",
       "    </tr>\n",
       "    <tr>\n",
       "      <th>2</th>\n",
       "      <td>2</td>\n",
       "      <td>1</td>\n",
       "      <td>Chocolates, Candies, Snacks, Biscuits, Pies, S...</td>\n",
       "    </tr>\n",
       "    <tr>\n",
       "      <th>3</th>\n",
       "      <td>2</td>\n",
       "      <td>7</td>\n",
       "      <td>Snacks</td>\n",
       "    </tr>\n",
       "    <tr>\n",
       "      <th>4</th>\n",
       "      <td>2</td>\n",
       "      <td>8</td>\n",
       "      <td>Lighting Accessories, Curtains / Blinds, Hot S...</td>\n",
       "    </tr>\n",
       "  </tbody>\n",
       "</table>\n",
       "</div>"
      ],
      "text/plain": [
       "   clnt_id  sess_id                                              label\n",
       "0        1        1             Chilled Instant Foods, Living Services\n",
       "1        1        2                                  Climbing, Camping\n",
       "2        2        1  Chocolates, Candies, Snacks, Biscuits, Pies, S...\n",
       "3        2        7                                             Snacks\n",
       "4        2        8  Lighting Accessories, Curtains / Blinds, Hot S..."
      ]
     },
     "execution_count": 27,
     "metadata": {},
     "output_type": "execute_result"
    }
   ],
   "source": [
    "# clnt_id와 sess_id를 기준으로 묶음.\n",
    "# 같은 영수증을 기준으로 함.\n",
    "df_receipt = pd.DataFrame(train_data.groupby(['clnt_id', 'sess_id'])['label'].apply(lambda x: \", \".join(x)))\n",
    "df_receipt.to_csv('./data/df_receipt.csv')\n",
    "df_receipt = pd.read_csv('./data/df_receipt.csv')\n",
    "df_receipt.head()"
   ]
  },
  {
   "cell_type": "code",
   "execution_count": 30,
   "metadata": {},
   "outputs": [
    {
     "data": {
      "text/plain": [
       "(['Chocolates',\n",
       "  'Candies',\n",
       "  'Snacks',\n",
       "  'Biscuits',\n",
       "  'Pies',\n",
       "  'Snacks',\n",
       "  'Snacks',\n",
       "  'Coffee Drinks'],\n",
       " 2)"
      ]
     },
     "execution_count": 30,
     "metadata": {},
     "output_type": "execute_result"
    }
   ],
   "source": [
    "# doc2vec을 사용하기 위해서 split한 후 list로 만듬.\n",
    "train_docs = [(str(row['label']).split(', '), row['clnt_id']) for idx, row in df_receipt.iterrows()]\n",
    "train_docs[2]"
   ]
  },
  {
   "cell_type": "code",
   "execution_count": 31,
   "metadata": {},
   "outputs": [],
   "source": [
    "from gensim.models import doc2vec\n",
    "from collections import namedtuple\n",
    "import multiprocessing"
   ]
  },
  {
   "cell_type": "code",
   "execution_count": 32,
   "metadata": {},
   "outputs": [],
   "source": [
    "TaggedDocument = namedtuple('TaggedDocument', 'words tags')\n",
    "tagged_train_docs = [TaggedDocument(d, [c]) for d, c in train_docs]\n",
    "\n",
    "cores = multiprocessing.cpu_count()"
   ]
  },
  {
   "cell_type": "code",
   "execution_count": null,
   "metadata": {},
   "outputs": [
    {
     "name": "stdout",
     "output_type": "stream",
     "text": [
      "Doc2Vec(dbow,d30,n5,hs,mc3,s1e-05,t16)\n"
     ]
    }
   ],
   "source": [
    "if True:\n",
    "    model = doc2vec.Doc2Vec(\n",
    "    \n",
    "    dm = 0,            # PV-DBOW\n",
    "    dbow_words = 0,    # w2v simultaneous with DBOW d2v / default 0\n",
    "    window = 8,        # distance between the predicted word and context words \n",
    "    vector_size = 30,  # vector size \n",
    "    alpha = 0.025,     # learning-rate\n",
    "    min_alpha = 0.025, # min learning-rate\n",
    "    \n",
    "    seed = 1,\n",
    "    \n",
    "    sample= 1e-5,      # threshold for configuring\n",
    "    min_count=3,       # ignore with freq lower\n",
    "    workers=cores,     # multi cpu\n",
    "    hs = 1             # hierarchical softmax / default 0\n",
    "    )\n",
    "\n",
    "    model.build_vocab(tagged_train_docs)\n",
    "    print(str(model))\n",
    "\n",
    "    for epoch in range(30):\n",
    "        model.train(tagged_train_docs, epochs=10, total_examples=model.corpus_count)\n",
    "        model.alpha -= 0.001\n",
    "        model.min_alpha = model.alpha\n",
    "\n",
    "# To save\n",
    "    model.save('./ckpt/Lpoint_Final_Final.model')"
   ]
  },
  {
   "cell_type": "code",
   "execution_count": null,
   "metadata": {},
   "outputs": [],
   "source": [
    "model=doc2vec.Doc2Vec.load('./ckpt/Lpoint_Final_Final.model')"
   ]
  },
  {
   "cell_type": "code",
   "execution_count": null,
   "metadata": {},
   "outputs": [],
   "source": [
    "# 총 30개의 column으로 embedding\n",
    "# 구매 품목이 유사한 고객은 vector의 위치가 가까움.\n",
    "train_item = [model.infer_vector(doc.words) for doc in tagged_train_docs]\n",
    "train_item_pd = pd.DataFrame(train_item)\n",
    "train_item_pd.head()"
   ]
  },
  {
   "cell_type": "code",
   "execution_count": null,
   "metadata": {},
   "outputs": [],
   "source": [
    "user2vec = pd.concat([df_receipt[['clnt_id', 'sess_id']], train_item_pd], axis=1)\n",
    "user2vec.head()"
   ]
  },
  {
   "cell_type": "code",
   "execution_count": null,
   "metadata": {},
   "outputs": [],
   "source": [
    "user2vec"
   ]
  },
  {
   "cell_type": "code",
   "execution_count": null,
   "metadata": {},
   "outputs": [],
   "source": [
    "x_col = []\n",
    "for i in range(30):\n",
    "    x_col.append('X_'+str(i))"
   ]
  },
  {
   "cell_type": "code",
   "execution_count": null,
   "metadata": {},
   "outputs": [],
   "source": [
    "user2vec.columns = ['clnt_id', 'sess_id']+x_col\n",
    "user2vec.to_csv('./data/user2vec30.csv',index=False)"
   ]
  },
  {
   "cell_type": "code",
   "execution_count": null,
   "metadata": {},
   "outputs": [],
   "source": [
    "model.wv.most_similar(u'Snacks', topn=10)"
   ]
  },
  {
   "cell_type": "code",
   "execution_count": 41,
   "metadata": {},
   "outputs": [
    {
     "data": {
      "text/plain": [
       "[('Milk', 0.3500277101993561),\n",
       " ('Other Seasonal Sports', 0.2986164093017578),\n",
       " (\"Men's Bags\", 0.20334510505199432),\n",
       " ('Fitness Training', 0.19442808628082275),\n",
       " ('Cooking Utensils', 0.19351141154766083),\n",
       " (\"Boys' Special Materials Clothing\", 0.1767311692237854),\n",
       " (\"Kids' Socks and Hosiery\", 0.17423215508460999),\n",
       " (\"Preschoolers' Special Use Clothing\", 0.17120319604873657),\n",
       " ('Jams', 0.17040425539016724),\n",
       " ('Baby Skin / Body Care', 0.17006513476371765)]"
      ]
     },
     "execution_count": 41,
     "metadata": {},
     "output_type": "execute_result"
    }
   ],
   "source": [
    "model.wv.most_similar(u'Chickens', topn=10)"
   ]
  },
  {
   "cell_type": "code",
   "execution_count": 95,
   "metadata": {},
   "outputs": [
    {
     "data": {
      "text/plain": [
       "[('Dry Food Mix', 0.45319604873657227),\n",
       " ('Insecticides', 0.44626981019973755),\n",
       " ('Dietary Supplements', 0.4344724118709564),\n",
       " ('Cooked Side Dishes', 0.3874630033969879),\n",
       " ('Eggs', 0.3458305299282074),\n",
       " ('Canned Agricultural Foods', 0.3341604471206665),\n",
       " ('Miscellaneous Grains', 0.32501453161239624),\n",
       " ('Sashimi / Sliced Raw Fish', 0.3168954849243164),\n",
       " ('Fruit Vegetables', 0.31528961658477783),\n",
       " ('Cereal Powders', 0.3147761821746826)]"
      ]
     },
     "execution_count": 95,
     "metadata": {},
     "output_type": "execute_result"
    }
   ],
   "source": [
    "model.wv.most_similar(u'Milk', topn=10)"
   ]
  },
  {
   "cell_type": "code",
   "execution_count": 110,
   "metadata": {},
   "outputs": [
    {
     "name": "stdout",
     "output_type": "stream",
     "text": [
      "같은 고객번호, 다른 상품구매일때, Cosine Similiarity :  0.07978249233530291\n",
      "다른 고객번호, 유사한 상품구매일때, Cosine Similiarity :  0.23535842666923304\n"
     ]
    }
   ],
   "source": [
    "from numpy import dot\n",
    "from numpy.linalg import norm\n",
    "def cosine_similarity(a,b) :\n",
    "    cos_sim = dot(a, b)/(norm(a)*norm(b))\n",
    "    if cos_sim < 0 :\n",
    "        cos_sim = -cos_sim\n",
    "    return cos_sim \n",
    "\n",
    "print(\"같은 고객번호, 다른 상품구매일때, Cosine Similiarity : \" , cosine_similarity(train_item_pd.iloc[111], train_item_pd.iloc[112]) )\n",
    "print(\"다른 고객번호, 유사한 상품구매일때, Cosine Similiarity : \" , cosine_similarity( train_item_pd.iloc[103], train_item_pd.iloc[112]) )"
   ]
  }
 ],
 "metadata": {
  "kernelspec": {
   "display_name": "aiffel",
   "language": "python",
   "name": "aiffel"
  },
  "language_info": {
   "codemirror_mode": {
    "name": "ipython",
    "version": 3
   },
   "file_extension": ".py",
   "mimetype": "text/x-python",
   "name": "python",
   "nbconvert_exporter": "python",
   "pygments_lexer": "ipython3",
   "version": "3.7.7"
  }
 },
 "nbformat": 4,
 "nbformat_minor": 4
}
