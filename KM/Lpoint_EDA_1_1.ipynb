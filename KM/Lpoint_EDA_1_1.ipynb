{
 "cells": [
  {
   "cell_type": "markdown",
   "metadata": {},
   "source": [
    "# DATA EDA 분석 1_1. (2020.11.28(Sat))"
   ]
  },
  {
   "cell_type": "markdown",
   "metadata": {},
   "source": [
    "* 라이브러리 불러오기"
   ]
  },
  {
   "cell_type": "code",
   "execution_count": 1,
   "metadata": {},
   "outputs": [
    {
     "name": "stderr",
     "output_type": "stream",
     "text": [
      "Using TensorFlow backend.\n",
      "C:\\Users\\thoma\\anaconda3\\lib\\site-packages\\tensorflow\\python\\framework\\dtypes.py:516: FutureWarning: Passing (type, 1) or '1type' as a synonym of type is deprecated; in a future version of numpy, it will be understood as (type, (1,)) / '(1,)type'.\n",
      "  _np_qint8 = np.dtype([(\"qint8\", np.int8, 1)])\n",
      "C:\\Users\\thoma\\anaconda3\\lib\\site-packages\\tensorflow\\python\\framework\\dtypes.py:517: FutureWarning: Passing (type, 1) or '1type' as a synonym of type is deprecated; in a future version of numpy, it will be understood as (type, (1,)) / '(1,)type'.\n",
      "  _np_quint8 = np.dtype([(\"quint8\", np.uint8, 1)])\n",
      "C:\\Users\\thoma\\anaconda3\\lib\\site-packages\\tensorflow\\python\\framework\\dtypes.py:518: FutureWarning: Passing (type, 1) or '1type' as a synonym of type is deprecated; in a future version of numpy, it will be understood as (type, (1,)) / '(1,)type'.\n",
      "  _np_qint16 = np.dtype([(\"qint16\", np.int16, 1)])\n",
      "C:\\Users\\thoma\\anaconda3\\lib\\site-packages\\tensorflow\\python\\framework\\dtypes.py:519: FutureWarning: Passing (type, 1) or '1type' as a synonym of type is deprecated; in a future version of numpy, it will be understood as (type, (1,)) / '(1,)type'.\n",
      "  _np_quint16 = np.dtype([(\"quint16\", np.uint16, 1)])\n",
      "C:\\Users\\thoma\\anaconda3\\lib\\site-packages\\tensorflow\\python\\framework\\dtypes.py:520: FutureWarning: Passing (type, 1) or '1type' as a synonym of type is deprecated; in a future version of numpy, it will be understood as (type, (1,)) / '(1,)type'.\n",
      "  _np_qint32 = np.dtype([(\"qint32\", np.int32, 1)])\n",
      "C:\\Users\\thoma\\anaconda3\\lib\\site-packages\\tensorflow\\python\\framework\\dtypes.py:525: FutureWarning: Passing (type, 1) or '1type' as a synonym of type is deprecated; in a future version of numpy, it will be understood as (type, (1,)) / '(1,)type'.\n",
      "  np_resource = np.dtype([(\"resource\", np.ubyte, 1)])\n",
      "C:\\Users\\thoma\\anaconda3\\lib\\site-packages\\tensorboard\\compat\\tensorflow_stub\\dtypes.py:541: FutureWarning: Passing (type, 1) or '1type' as a synonym of type is deprecated; in a future version of numpy, it will be understood as (type, (1,)) / '(1,)type'.\n",
      "  _np_qint8 = np.dtype([(\"qint8\", np.int8, 1)])\n",
      "C:\\Users\\thoma\\anaconda3\\lib\\site-packages\\tensorboard\\compat\\tensorflow_stub\\dtypes.py:542: FutureWarning: Passing (type, 1) or '1type' as a synonym of type is deprecated; in a future version of numpy, it will be understood as (type, (1,)) / '(1,)type'.\n",
      "  _np_quint8 = np.dtype([(\"quint8\", np.uint8, 1)])\n",
      "C:\\Users\\thoma\\anaconda3\\lib\\site-packages\\tensorboard\\compat\\tensorflow_stub\\dtypes.py:543: FutureWarning: Passing (type, 1) or '1type' as a synonym of type is deprecated; in a future version of numpy, it will be understood as (type, (1,)) / '(1,)type'.\n",
      "  _np_qint16 = np.dtype([(\"qint16\", np.int16, 1)])\n",
      "C:\\Users\\thoma\\anaconda3\\lib\\site-packages\\tensorboard\\compat\\tensorflow_stub\\dtypes.py:544: FutureWarning: Passing (type, 1) or '1type' as a synonym of type is deprecated; in a future version of numpy, it will be understood as (type, (1,)) / '(1,)type'.\n",
      "  _np_quint16 = np.dtype([(\"quint16\", np.uint16, 1)])\n",
      "C:\\Users\\thoma\\anaconda3\\lib\\site-packages\\tensorboard\\compat\\tensorflow_stub\\dtypes.py:545: FutureWarning: Passing (type, 1) or '1type' as a synonym of type is deprecated; in a future version of numpy, it will be understood as (type, (1,)) / '(1,)type'.\n",
      "  _np_qint32 = np.dtype([(\"qint32\", np.int32, 1)])\n",
      "C:\\Users\\thoma\\anaconda3\\lib\\site-packages\\tensorboard\\compat\\tensorflow_stub\\dtypes.py:550: FutureWarning: Passing (type, 1) or '1type' as a synonym of type is deprecated; in a future version of numpy, it will be understood as (type, (1,)) / '(1,)type'.\n",
      "  np_resource = np.dtype([(\"resource\", np.ubyte, 1)])\n"
     ]
    }
   ],
   "source": [
    "import pandas as pd\n",
    "import numpy as np\n",
    "import matplotlib.pyplot as plt\n",
    "from sklearn.preprocessing import StandardScaler, PolynomialFeatures, LabelEncoder\n",
    "from keras.layers import Input, Embedding, Dense, Flatten, Dropout, SpatialDropout1D, Activation, concatenate\n",
    "from keras.layers.normalization import BatchNormalization\n",
    "from keras.layers.advanced_activations import ReLU, PReLU, LeakyReLU, ELU\n",
    "from keras.optimizers import Adam, SGD\n",
    "from keras.callbacks import EarlyStopping, ModelCheckpoint\n",
    "from keras.models import Model\n",
    "from tensorflow.keras.utils import plot_model"
   ]
  },
  {
   "cell_type": "markdown",
   "metadata": {},
   "source": [
    " * 데이터 불러오기"
   ]
  },
  {
   "cell_type": "code",
   "execution_count": 2,
   "metadata": {},
   "outputs": [
    {
     "name": "stderr",
     "output_type": "stream",
     "text": [
      "C:\\Users\\thoma\\anaconda3\\lib\\site-packages\\IPython\\core\\interactiveshell.py:3063: DtypeWarning: Columns (9) have mixed types.Specify dtype option on import or set low_memory=False.\n",
      "  interactivity=interactivity, compiler=compiler, result=result)\n"
     ]
    }
   ],
   "source": [
    "# 1. 온라인 행동 데이터\n",
    "raw_data1_Online_Act = pd.read_csv('./data/data1_Online_Act.csv')\n",
    "\n",
    "# 2. 거래 정보 데이터\n",
    "raw_data2_Trade_Inform = pd.read_csv('./data/data2_Trade_Inform.csv')\n",
    "\n",
    "# 3. 사용자 demo 정보(나이, 성별)\n",
    "raw_data3_Demog = pd.read_csv('./data/data3_Demog.csv')\n",
    "\n",
    "# 4. 상품 대중소 분류 정보\n",
    "raw_data4_Item_Class = pd.read_csv('./data/data4_Item_Class.csv')"
   ]
  },
  {
   "cell_type": "markdown",
   "metadata": {},
   "source": [
    "<br><br><br>\n",
    "##### 우혜민) dtype설정 필요\n",
    "현재 데이터 load를 하시면 memory error가 발생할텐데, 이는 dtype이 설정되어있지 않기 때문입니다. 따라서 테이블들의 관계를 고려하여 데이터 타입 설정을 권장드립니다.\n",
    "\n",
    "<br><br><br>"
   ]
  },
  {
   "cell_type": "markdown",
   "metadata": {},
   "source": [
    "## 1. 온라인 행동 데이터 확인"
   ]
  },
  {
   "cell_type": "code",
   "execution_count": 3,
   "metadata": {},
   "outputs": [
    {
     "data": {
      "text/html": [
       "<div>\n",
       "<style scoped>\n",
       "    .dataframe tbody tr th:only-of-type {\n",
       "        vertical-align: middle;\n",
       "    }\n",
       "\n",
       "    .dataframe tbody tr th {\n",
       "        vertical-align: top;\n",
       "    }\n",
       "\n",
       "    .dataframe thead th {\n",
       "        text-align: right;\n",
       "    }\n",
       "</style>\n",
       "<table border=\"1\" class=\"dataframe\">\n",
       "  <thead>\n",
       "    <tr style=\"text-align: right;\">\n",
       "      <th></th>\n",
       "      <th>clnt_id</th>\n",
       "      <th>sess_id</th>\n",
       "      <th>hit_seq</th>\n",
       "      <th>action_type</th>\n",
       "      <th>biz_unit</th>\n",
       "      <th>sess_dt</th>\n",
       "      <th>hit_tm</th>\n",
       "      <th>hit_pss_tm</th>\n",
       "      <th>trans_id</th>\n",
       "      <th>sech_kwd</th>\n",
       "      <th>tot_pag_view_ct</th>\n",
       "      <th>tot_sess_hr_v</th>\n",
       "      <th>trfc_src</th>\n",
       "      <th>dvc_ctg_nm</th>\n",
       "    </tr>\n",
       "  </thead>\n",
       "  <tbody>\n",
       "    <tr>\n",
       "      <th>0</th>\n",
       "      <td>7809</td>\n",
       "      <td>1</td>\n",
       "      <td>8</td>\n",
       "      <td>5</td>\n",
       "      <td>A03</td>\n",
       "      <td>20190913</td>\n",
       "      <td>01:16</td>\n",
       "      <td>2571103</td>\n",
       "      <td>NaN</td>\n",
       "      <td>NaN</td>\n",
       "      <td>34.0</td>\n",
       "      <td>2663.0</td>\n",
       "      <td>DIRECT</td>\n",
       "      <td>NaN</td>\n",
       "    </tr>\n",
       "    <tr>\n",
       "      <th>1</th>\n",
       "      <td>7809</td>\n",
       "      <td>1</td>\n",
       "      <td>4</td>\n",
       "      <td>2</td>\n",
       "      <td>A03</td>\n",
       "      <td>20190913</td>\n",
       "      <td>01:14</td>\n",
       "      <td>2485909</td>\n",
       "      <td>NaN</td>\n",
       "      <td>NaN</td>\n",
       "      <td>34.0</td>\n",
       "      <td>2663.0</td>\n",
       "      <td>DIRECT</td>\n",
       "      <td>NaN</td>\n",
       "    </tr>\n",
       "    <tr>\n",
       "      <th>2</th>\n",
       "      <td>7809</td>\n",
       "      <td>1</td>\n",
       "      <td>11</td>\n",
       "      <td>5</td>\n",
       "      <td>A03</td>\n",
       "      <td>20190913</td>\n",
       "      <td>01:17</td>\n",
       "      <td>2646597</td>\n",
       "      <td>NaN</td>\n",
       "      <td>NaN</td>\n",
       "      <td>34.0</td>\n",
       "      <td>2663.0</td>\n",
       "      <td>DIRECT</td>\n",
       "      <td>NaN</td>\n",
       "    </tr>\n",
       "    <tr>\n",
       "      <th>3</th>\n",
       "      <td>7809</td>\n",
       "      <td>1</td>\n",
       "      <td>1</td>\n",
       "      <td>2</td>\n",
       "      <td>A03</td>\n",
       "      <td>20190913</td>\n",
       "      <td>00:46</td>\n",
       "      <td>788304</td>\n",
       "      <td>NaN</td>\n",
       "      <td>NaN</td>\n",
       "      <td>34.0</td>\n",
       "      <td>2663.0</td>\n",
       "      <td>DIRECT</td>\n",
       "      <td>NaN</td>\n",
       "    </tr>\n",
       "    <tr>\n",
       "      <th>4</th>\n",
       "      <td>7809</td>\n",
       "      <td>1</td>\n",
       "      <td>9</td>\n",
       "      <td>5</td>\n",
       "      <td>A03</td>\n",
       "      <td>20190913</td>\n",
       "      <td>01:17</td>\n",
       "      <td>2617609</td>\n",
       "      <td>NaN</td>\n",
       "      <td>NaN</td>\n",
       "      <td>34.0</td>\n",
       "      <td>2663.0</td>\n",
       "      <td>DIRECT</td>\n",
       "      <td>NaN</td>\n",
       "    </tr>\n",
       "  </tbody>\n",
       "</table>\n",
       "</div>"
      ],
      "text/plain": [
       "   clnt_id  sess_id  hit_seq  action_type biz_unit   sess_dt hit_tm  \\\n",
       "0     7809        1        8            5      A03  20190913  01:16   \n",
       "1     7809        1        4            2      A03  20190913  01:14   \n",
       "2     7809        1       11            5      A03  20190913  01:17   \n",
       "3     7809        1        1            2      A03  20190913  00:46   \n",
       "4     7809        1        9            5      A03  20190913  01:17   \n",
       "\n",
       "   hit_pss_tm  trans_id sech_kwd  tot_pag_view_ct  tot_sess_hr_v trfc_src  \\\n",
       "0     2571103       NaN      NaN             34.0         2663.0   DIRECT   \n",
       "1     2485909       NaN      NaN             34.0         2663.0   DIRECT   \n",
       "2     2646597       NaN      NaN             34.0         2663.0   DIRECT   \n",
       "3      788304       NaN      NaN             34.0         2663.0   DIRECT   \n",
       "4     2617609       NaN      NaN             34.0         2663.0   DIRECT   \n",
       "\n",
       "  dvc_ctg_nm  \n",
       "0        NaN  \n",
       "1        NaN  \n",
       "2        NaN  \n",
       "3        NaN  \n",
       "4        NaN  "
      ]
     },
     "execution_count": 3,
     "metadata": {},
     "output_type": "execute_result"
    }
   ],
   "source": [
    "raw_data1_Online_Act.head()"
   ]
  },
  {
   "cell_type": "markdown",
   "metadata": {},
   "source": [
    "* 1-1. clnt_id : 고객 고유 식별 ID\n",
    "* 1-2. sess_id : 세션이 시작될 때 부여되는 순번ID\n",
    "* 1-3. hit_seq : 조회 순서를 알 수 있도록 한 일련번호\n",
    "* 1-4. action_type : 온라인 행동 유형\n",
    " (0:검색 / 1:제품 목록 / 2:제품 세부정보 보기 / 3: 장바구니 제품 추가 / 4:장바구니 제품 삭제 / 5:결제 시도 / 6:구매완료 / 7:구매환불 / 8:결재 옵션)\n",
    "* 1-5. biz_unit(업종단위) : 온라인 및 오프라인 이용코드\n",
    "* 1-6. sess_dt : 세션 일자(년월일)\n",
    "* 1-7. hit_tm : 조회 시각(HH:MM)\n",
    "* 1-8. hit_pss_tm : 조회 경과시간(세션의 시작 부터 조회까지 걸리시간(밀리초) / 첫번째 조회는 0으로 설정)\n",
    "* 1-9. Trans_ID : 거래 ID(구매내역을 고유 식별할 수 있는 ID)\n",
    "* 1-10. sech_kwd : 고객이 검색한 키워드\n",
    "* 1-11. tot_pag_view_ct : 총 페이지 조회 건수(세션 내에 총 페이지(화면) 뷰 수)\n",
    "* 1-12. tot_sess_hr_v : 총 세션 시간 값\n",
    "* 1-13. trfc_src : 유입 채널\n",
    " (DIRECT / PUSH / WEBSITE / PORTAL_1 / PORTAL_2 / PORTAL_3 / unknown)\n",
    "* 1-14. dvc_ctg_nm : 기기 유형 (mobile_web / mobile_app / PC)"
   ]
  },
  {
   "cell_type": "code",
   "execution_count": 4,
   "metadata": {},
   "outputs": [
    {
     "data": {
      "text/plain": [
       "(3196362, 14)"
      ]
     },
     "execution_count": 4,
     "metadata": {},
     "output_type": "execute_result"
    }
   ],
   "source": [
    "raw_data1_Online_Act.shape"
   ]
  },
  {
   "cell_type": "markdown",
   "metadata": {},
   "source": [
    " * 행 수(데이터 갯수) : 319만 개\n",
    " * 열 수(데이터 종류) : 14개"
   ]
  },
  {
   "cell_type": "markdown",
   "metadata": {},
   "source": [
    "### 1-1. clnt_Id : 고객 고유 식별 ID\n",
    "\n",
    " * 2-1, 3-1 clnt_id와 동일 의미"
   ]
  },
  {
   "cell_type": "markdown",
   "metadata": {},
   "source": [
    " * 고객 ID는 몇 개나 있는가?? => 7만명의 고객 ID 보유\n",
    "     * 1. 온라인 행동 데이터 내 고객ID 갯수 : 72399개\n",
    "     * 2. 거래 정보 데이터 내 고객ID 갯수 :11284개\n",
    "     * 3. 사용자 demog 정보 내 고객ID 갯수 : 72399개"
   ]
  },
  {
   "cell_type": "code",
   "execution_count": 5,
   "metadata": {},
   "outputs": [
    {
     "data": {
      "text/plain": [
       "72399"
      ]
     },
     "execution_count": 5,
     "metadata": {},
     "output_type": "execute_result"
    }
   ],
   "source": [
    "raw_data1_Online_Act['clnt_id'].nunique()"
   ]
  },
  {
   "cell_type": "markdown",
   "metadata": {},
   "source": [
    " * 고객ID 별로 온라인 행동 데이터는 몇 건이 있는지? => 최대 6600건, 최소 1건"
   ]
  },
  {
   "cell_type": "code",
   "execution_count": 6,
   "metadata": {},
   "outputs": [
    {
     "data": {
      "text/plain": [
       "61252    6663\n",
       "57915    5317\n",
       "48181    4867\n",
       "62445    4709\n",
       "49906    4131\n",
       "         ... \n",
       "22838       1\n",
       "24306       1\n",
       "26928       1\n",
       "64305       1\n",
       "49714       1\n",
       "Name: clnt_id, Length: 72399, dtype: int64"
      ]
     },
     "execution_count": 6,
     "metadata": {},
     "output_type": "execute_result"
    }
   ],
   "source": [
    "raw_data1_Online_Act['clnt_id'].value_counts()"
   ]
  },
  {
   "cell_type": "markdown",
   "metadata": {},
   "source": [
    " * 결측치 갯수 확인 => 없음"
   ]
  },
  {
   "cell_type": "code",
   "execution_count": 7,
   "metadata": {},
   "outputs": [
    {
     "data": {
      "text/plain": [
       "0"
      ]
     },
     "execution_count": 7,
     "metadata": {},
     "output_type": "execute_result"
    }
   ],
   "source": [
    "raw_data1_Online_Act['clnt_id'].isna().sum()"
   ]
  },
  {
   "cell_type": "markdown",
   "metadata": {},
   "source": [
    "### 1-2. sess_id : 세션이 시작될 때 부여되는 순번ID"
   ]
  },
  {
   "cell_type": "markdown",
   "metadata": {},
   "source": [
    " * 세션 ID는 몇 개나 있는가?? => 550개\n",
    " \n",
    "     * 고객ID 7만명에 대한 온라인 행동이 있는데, 세션은 550개 밖에 안된다??\n",
    "         * 세션ID에 결측치 많을 것을 예상 => 결측치 없음(아래 참조)\n",
    "         * 같은 세션ID에 서로다른 고객ID 존재 예상"
   ]
  },
  {
   "cell_type": "code",
   "execution_count": 8,
   "metadata": {},
   "outputs": [
    {
     "data": {
      "text/plain": [
       "550"
      ]
     },
     "execution_count": 8,
     "metadata": {},
     "output_type": "execute_result"
    }
   ],
   "source": [
    "raw_data1_Online_Act['sess_id'].nunique()"
   ]
  },
  {
   "cell_type": "markdown",
   "metadata": {},
   "source": [
    " * 세션ID 별로 온라인 행동 데이터는 몇 건이 있는지? => 최대 51만 건, 최소 1건"
   ]
  },
  {
   "cell_type": "code",
   "execution_count": 9,
   "metadata": {},
   "outputs": [
    {
     "data": {
      "text/plain": [
       "1      517024\n",
       "2      279811\n",
       "3      203178\n",
       "4      155479\n",
       "5      130391\n",
       "        ...  \n",
       "527         1\n",
       "516         1\n",
       "524         1\n",
       "518         1\n",
       "514         1\n",
       "Name: sess_id, Length: 550, dtype: int64"
      ]
     },
     "execution_count": 9,
     "metadata": {},
     "output_type": "execute_result"
    }
   ],
   "source": [
    "raw_data1_Online_Act['sess_id'].value_counts()"
   ]
  },
  {
   "cell_type": "markdown",
   "metadata": {},
   "source": [
    " * 결측치 갯수 확인 => 없음"
   ]
  },
  {
   "cell_type": "code",
   "execution_count": 10,
   "metadata": {},
   "outputs": [
    {
     "data": {
      "text/plain": [
       "0"
      ]
     },
     "execution_count": 10,
     "metadata": {},
     "output_type": "execute_result"
    }
   ],
   "source": [
    "raw_data1_Online_Act['sess_id'].isna().sum()"
   ]
  },
  {
   "cell_type": "markdown",
   "metadata": {},
   "source": [
    " * 같은 세선ID(=1) 내에 서로 다른 고객 ID 있는지 확인\n",
    "     * 세션ID == 1 에서만 약 7만개의 고객 ID가 있음\n",
    "     * 서로 다른 고객에게 유일하게 세션ID 부여되지 않는 다는 사실을 알게됨\n",
    "     * 세션ID가 정확히 어떤 기준으로 부여되는지 추가 확인이 필요함"
   ]
  },
  {
   "cell_type": "code",
   "execution_count": 11,
   "metadata": {},
   "outputs": [],
   "source": [
    "sess_is_1 = raw_data1_Online_Act['clnt_id'][raw_data1_Online_Act['sess_id']==1]"
   ]
  },
  {
   "cell_type": "code",
   "execution_count": 12,
   "metadata": {},
   "outputs": [
    {
     "data": {
      "text/plain": [
       "0    7809\n",
       "1    7809\n",
       "2    7809\n",
       "3    7809\n",
       "4    7809\n",
       "Name: clnt_id, dtype: int64"
      ]
     },
     "execution_count": 12,
     "metadata": {},
     "output_type": "execute_result"
    }
   ],
   "source": [
    "sess_is_1.head()"
   ]
  },
  {
   "cell_type": "code",
   "execution_count": 13,
   "metadata": {},
   "outputs": [
    {
     "data": {
      "text/plain": [
       "72399"
      ]
     },
     "execution_count": 13,
     "metadata": {},
     "output_type": "execute_result"
    }
   ],
   "source": [
    "sess_is_1.nunique()"
   ]
  },
  {
   "cell_type": "markdown",
   "metadata": {},
   "source": [
    "### 1-3. hit_seq : 조회 순서를 알 수 있도록 한 일련번호"
   ]
  },
  {
   "cell_type": "markdown",
   "metadata": {},
   "source": [
    " * 조회 일련번호는 몇 개나 있는가?? => 357개\n",
    " \n",
    "     * 조회 일련번호가 다르면, 조회 상품이 다른가? => 추후 확인할 것"
   ]
  },
  {
   "cell_type": "code",
   "execution_count": 14,
   "metadata": {},
   "outputs": [
    {
     "data": {
      "text/plain": [
       "357"
      ]
     },
     "execution_count": 14,
     "metadata": {},
     "output_type": "execute_result"
    }
   ],
   "source": [
    "raw_data1_Online_Act['hit_seq'].nunique()"
   ]
  },
  {
   "cell_type": "markdown",
   "metadata": {},
   "source": [
    " * 조회일련번호 별로 온라인 행동데이터는 몇 건이 있는지? => 최대 36만 건 , 최소 1건"
   ]
  },
  {
   "cell_type": "code",
   "execution_count": 15,
   "metadata": {},
   "outputs": [
    {
     "data": {
      "text/plain": [
       "1      367149\n",
       "2      246633\n",
       "3      198580\n",
       "4      167819\n",
       "5      143873\n",
       "        ...  \n",
       "282         1\n",
       "281         1\n",
       "280         1\n",
       "279         1\n",
       "357         1\n",
       "Name: hit_seq, Length: 357, dtype: int64"
      ]
     },
     "execution_count": 15,
     "metadata": {},
     "output_type": "execute_result"
    }
   ],
   "source": [
    "raw_data1_Online_Act['hit_seq'].value_counts()"
   ]
  },
  {
   "cell_type": "markdown",
   "metadata": {},
   "source": [
    " * 결측치 갯수 확인 => 없음"
   ]
  },
  {
   "cell_type": "code",
   "execution_count": 16,
   "metadata": {},
   "outputs": [
    {
     "data": {
      "text/plain": [
       "0"
      ]
     },
     "execution_count": 16,
     "metadata": {},
     "output_type": "execute_result"
    }
   ],
   "source": [
    "raw_data1_Online_Act['hit_seq'].isna().sum()"
   ]
  },
  {
   "cell_type": "markdown",
   "metadata": {},
   "source": [
    "<br><br><br>\n",
    "##### 우혜민) sess_id : clnt의 로그인으로 발생한 세션을 구분하는 ID, hit_seq : 동일 sess_id 내에서 행동을 구분하는 id\n",
    "상기 EDA 결과를 바탕으로 sess_id, hit_seq를 살펴보았습니다.\n",
    "\n",
    "- sess_dt가 변화하는 경우 sess_id가 함께 바뀜\n",
    "- sess_dt가 같은 경우에는 hit_tm이 변화해도 sess_id는 그대로 유지됨\n",
    "- hit_tm이 변화하면 hit_seq가 변화함\n",
    "- hit_pss_tm로 미루어보아 행동 순서에 따라 hit_seq가 생성됨\n",
    "\n",
    "따라서 clnt가 꽤 긴 시간텀을 두고 쇼핑을 시작하는 경우 새로운 sess_id가 부여되며, 특정 sess_id 내에서 hit_seq를 통해 순차적인 행동을 구분할 수 있는 것으로 보입니다.\n",
    "#####  clnt_id, sess_id, hit_seq가 Online_Act table의 Primary key column입니다."
   ]
  },
  {
   "cell_type": "code",
   "execution_count": 17,
   "metadata": {
    "scrolled": true
   },
   "outputs": [
    {
     "data": {
      "text/html": [
       "<div>\n",
       "<style scoped>\n",
       "    .dataframe tbody tr th:only-of-type {\n",
       "        vertical-align: middle;\n",
       "    }\n",
       "\n",
       "    .dataframe tbody tr th {\n",
       "        vertical-align: top;\n",
       "    }\n",
       "\n",
       "    .dataframe thead th {\n",
       "        text-align: right;\n",
       "    }\n",
       "</style>\n",
       "<table border=\"1\" class=\"dataframe\">\n",
       "  <thead>\n",
       "    <tr style=\"text-align: right;\">\n",
       "      <th></th>\n",
       "      <th>clnt_id</th>\n",
       "      <th>sess_id</th>\n",
       "      <th>hit_seq</th>\n",
       "      <th>action_type</th>\n",
       "      <th>sess_dt</th>\n",
       "      <th>hit_tm</th>\n",
       "      <th>hit_pss_tm</th>\n",
       "    </tr>\n",
       "  </thead>\n",
       "  <tbody>\n",
       "    <tr>\n",
       "      <th>56</th>\n",
       "      <td>30605</td>\n",
       "      <td>1</td>\n",
       "      <td>1</td>\n",
       "      <td>1</td>\n",
       "      <td>20190712</td>\n",
       "      <td>22:53</td>\n",
       "      <td>186078</td>\n",
       "    </tr>\n",
       "    <tr>\n",
       "      <th>54</th>\n",
       "      <td>30605</td>\n",
       "      <td>1</td>\n",
       "      <td>2</td>\n",
       "      <td>2</td>\n",
       "      <td>20190712</td>\n",
       "      <td>22:53</td>\n",
       "      <td>187210</td>\n",
       "    </tr>\n",
       "    <tr>\n",
       "      <th>46</th>\n",
       "      <td>30605</td>\n",
       "      <td>2</td>\n",
       "      <td>1</td>\n",
       "      <td>1</td>\n",
       "      <td>20190717</td>\n",
       "      <td>17:25</td>\n",
       "      <td>92373</td>\n",
       "    </tr>\n",
       "    <tr>\n",
       "      <th>83</th>\n",
       "      <td>30605</td>\n",
       "      <td>2</td>\n",
       "      <td>2</td>\n",
       "      <td>1</td>\n",
       "      <td>20190717</td>\n",
       "      <td>17:25</td>\n",
       "      <td>92526</td>\n",
       "    </tr>\n",
       "    <tr>\n",
       "      <th>55</th>\n",
       "      <td>30605</td>\n",
       "      <td>2</td>\n",
       "      <td>3</td>\n",
       "      <td>2</td>\n",
       "      <td>20190717</td>\n",
       "      <td>17:25</td>\n",
       "      <td>93746</td>\n",
       "    </tr>\n",
       "    <tr>\n",
       "      <th>42</th>\n",
       "      <td>30605</td>\n",
       "      <td>2</td>\n",
       "      <td>4</td>\n",
       "      <td>3</td>\n",
       "      <td>20190717</td>\n",
       "      <td>17:25</td>\n",
       "      <td>102794</td>\n",
       "    </tr>\n",
       "    <tr>\n",
       "      <th>92</th>\n",
       "      <td>30605</td>\n",
       "      <td>2</td>\n",
       "      <td>5</td>\n",
       "      <td>5</td>\n",
       "      <td>20190717</td>\n",
       "      <td>17:25</td>\n",
       "      <td>105745</td>\n",
       "    </tr>\n",
       "    <tr>\n",
       "      <th>77</th>\n",
       "      <td>30605</td>\n",
       "      <td>2</td>\n",
       "      <td>6</td>\n",
       "      <td>4</td>\n",
       "      <td>20190717</td>\n",
       "      <td>17:25</td>\n",
       "      <td>110902</td>\n",
       "    </tr>\n",
       "    <tr>\n",
       "      <th>59</th>\n",
       "      <td>30605</td>\n",
       "      <td>2</td>\n",
       "      <td>7</td>\n",
       "      <td>5</td>\n",
       "      <td>20190717</td>\n",
       "      <td>17:25</td>\n",
       "      <td>111604</td>\n",
       "    </tr>\n",
       "    <tr>\n",
       "      <th>49</th>\n",
       "      <td>30605</td>\n",
       "      <td>2</td>\n",
       "      <td>8</td>\n",
       "      <td>4</td>\n",
       "      <td>20190717</td>\n",
       "      <td>17:25</td>\n",
       "      <td>114763</td>\n",
       "    </tr>\n",
       "    <tr>\n",
       "      <th>44</th>\n",
       "      <td>30605</td>\n",
       "      <td>3</td>\n",
       "      <td>1</td>\n",
       "      <td>3</td>\n",
       "      <td>20190719</td>\n",
       "      <td>21:31</td>\n",
       "      <td>49987</td>\n",
       "    </tr>\n",
       "    <tr>\n",
       "      <th>60</th>\n",
       "      <td>30605</td>\n",
       "      <td>3</td>\n",
       "      <td>2</td>\n",
       "      <td>3</td>\n",
       "      <td>20190719</td>\n",
       "      <td>21:31</td>\n",
       "      <td>52109</td>\n",
       "    </tr>\n",
       "    <tr>\n",
       "      <th>51</th>\n",
       "      <td>30605</td>\n",
       "      <td>3</td>\n",
       "      <td>3</td>\n",
       "      <td>3</td>\n",
       "      <td>20190719</td>\n",
       "      <td>21:35</td>\n",
       "      <td>290078</td>\n",
       "    </tr>\n",
       "    <tr>\n",
       "      <th>31</th>\n",
       "      <td>30605</td>\n",
       "      <td>4</td>\n",
       "      <td>1</td>\n",
       "      <td>1</td>\n",
       "      <td>20190729</td>\n",
       "      <td>20:44</td>\n",
       "      <td>28711</td>\n",
       "    </tr>\n",
       "    <tr>\n",
       "      <th>34</th>\n",
       "      <td>30605</td>\n",
       "      <td>4</td>\n",
       "      <td>2</td>\n",
       "      <td>2</td>\n",
       "      <td>20190729</td>\n",
       "      <td>20:44</td>\n",
       "      <td>30573</td>\n",
       "    </tr>\n",
       "    <tr>\n",
       "      <th>68</th>\n",
       "      <td>30605</td>\n",
       "      <td>5</td>\n",
       "      <td>1</td>\n",
       "      <td>1</td>\n",
       "      <td>20190806</td>\n",
       "      <td>19:26</td>\n",
       "      <td>606381</td>\n",
       "    </tr>\n",
       "    <tr>\n",
       "      <th>79</th>\n",
       "      <td>30605</td>\n",
       "      <td>5</td>\n",
       "      <td>2</td>\n",
       "      <td>2</td>\n",
       "      <td>20190806</td>\n",
       "      <td>19:26</td>\n",
       "      <td>608409</td>\n",
       "    </tr>\n",
       "    <tr>\n",
       "      <th>58</th>\n",
       "      <td>30605</td>\n",
       "      <td>5</td>\n",
       "      <td>3</td>\n",
       "      <td>3</td>\n",
       "      <td>20190806</td>\n",
       "      <td>19:26</td>\n",
       "      <td>612105</td>\n",
       "    </tr>\n",
       "    <tr>\n",
       "      <th>80</th>\n",
       "      <td>30605</td>\n",
       "      <td>5</td>\n",
       "      <td>4</td>\n",
       "      <td>5</td>\n",
       "      <td>20190806</td>\n",
       "      <td>19:26</td>\n",
       "      <td>617220</td>\n",
       "    </tr>\n",
       "    <tr>\n",
       "      <th>27</th>\n",
       "      <td>30605</td>\n",
       "      <td>5</td>\n",
       "      <td>5</td>\n",
       "      <td>5</td>\n",
       "      <td>20190806</td>\n",
       "      <td>19:26</td>\n",
       "      <td>623888</td>\n",
       "    </tr>\n",
       "    <tr>\n",
       "      <th>86</th>\n",
       "      <td>30605</td>\n",
       "      <td>5</td>\n",
       "      <td>6</td>\n",
       "      <td>5</td>\n",
       "      <td>20190806</td>\n",
       "      <td>19:27</td>\n",
       "      <td>655200</td>\n",
       "    </tr>\n",
       "    <tr>\n",
       "      <th>71</th>\n",
       "      <td>30605</td>\n",
       "      <td>5</td>\n",
       "      <td>7</td>\n",
       "      <td>5</td>\n",
       "      <td>20190806</td>\n",
       "      <td>19:27</td>\n",
       "      <td>678343</td>\n",
       "    </tr>\n",
       "    <tr>\n",
       "      <th>70</th>\n",
       "      <td>30605</td>\n",
       "      <td>5</td>\n",
       "      <td>8</td>\n",
       "      <td>5</td>\n",
       "      <td>20190806</td>\n",
       "      <td>19:27</td>\n",
       "      <td>700469</td>\n",
       "    </tr>\n",
       "    <tr>\n",
       "      <th>35</th>\n",
       "      <td>30605</td>\n",
       "      <td>5</td>\n",
       "      <td>9</td>\n",
       "      <td>5</td>\n",
       "      <td>20190806</td>\n",
       "      <td>19:27</td>\n",
       "      <td>700474</td>\n",
       "    </tr>\n",
       "    <tr>\n",
       "      <th>16</th>\n",
       "      <td>30605</td>\n",
       "      <td>5</td>\n",
       "      <td>10</td>\n",
       "      <td>5</td>\n",
       "      <td>20190806</td>\n",
       "      <td>19:29</td>\n",
       "      <td>811163</td>\n",
       "    </tr>\n",
       "    <tr>\n",
       "      <th>78</th>\n",
       "      <td>30605</td>\n",
       "      <td>5</td>\n",
       "      <td>11</td>\n",
       "      <td>5</td>\n",
       "      <td>20190806</td>\n",
       "      <td>19:29</td>\n",
       "      <td>813892</td>\n",
       "    </tr>\n",
       "    <tr>\n",
       "      <th>28</th>\n",
       "      <td>30605</td>\n",
       "      <td>5</td>\n",
       "      <td>12</td>\n",
       "      <td>5</td>\n",
       "      <td>20190806</td>\n",
       "      <td>19:30</td>\n",
       "      <td>838407</td>\n",
       "    </tr>\n",
       "    <tr>\n",
       "      <th>96</th>\n",
       "      <td>30605</td>\n",
       "      <td>5</td>\n",
       "      <td>13</td>\n",
       "      <td>5</td>\n",
       "      <td>20190806</td>\n",
       "      <td>19:30</td>\n",
       "      <td>838412</td>\n",
       "    </tr>\n",
       "    <tr>\n",
       "      <th>72</th>\n",
       "      <td>30605</td>\n",
       "      <td>5</td>\n",
       "      <td>14</td>\n",
       "      <td>5</td>\n",
       "      <td>20190806</td>\n",
       "      <td>19:30</td>\n",
       "      <td>858843</td>\n",
       "    </tr>\n",
       "    <tr>\n",
       "      <th>84</th>\n",
       "      <td>30605</td>\n",
       "      <td>5</td>\n",
       "      <td>15</td>\n",
       "      <td>5</td>\n",
       "      <td>20190806</td>\n",
       "      <td>19:31</td>\n",
       "      <td>906644</td>\n",
       "    </tr>\n",
       "  </tbody>\n",
       "</table>\n",
       "</div>"
      ],
      "text/plain": [
       "    clnt_id  sess_id  hit_seq  action_type   sess_dt hit_tm  hit_pss_tm\n",
       "56    30605        1        1            1  20190712  22:53      186078\n",
       "54    30605        1        2            2  20190712  22:53      187210\n",
       "46    30605        2        1            1  20190717  17:25       92373\n",
       "83    30605        2        2            1  20190717  17:25       92526\n",
       "55    30605        2        3            2  20190717  17:25       93746\n",
       "42    30605        2        4            3  20190717  17:25      102794\n",
       "92    30605        2        5            5  20190717  17:25      105745\n",
       "77    30605        2        6            4  20190717  17:25      110902\n",
       "59    30605        2        7            5  20190717  17:25      111604\n",
       "49    30605        2        8            4  20190717  17:25      114763\n",
       "44    30605        3        1            3  20190719  21:31       49987\n",
       "60    30605        3        2            3  20190719  21:31       52109\n",
       "51    30605        3        3            3  20190719  21:35      290078\n",
       "31    30605        4        1            1  20190729  20:44       28711\n",
       "34    30605        4        2            2  20190729  20:44       30573\n",
       "68    30605        5        1            1  20190806  19:26      606381\n",
       "79    30605        5        2            2  20190806  19:26      608409\n",
       "58    30605        5        3            3  20190806  19:26      612105\n",
       "80    30605        5        4            5  20190806  19:26      617220\n",
       "27    30605        5        5            5  20190806  19:26      623888\n",
       "86    30605        5        6            5  20190806  19:27      655200\n",
       "71    30605        5        7            5  20190806  19:27      678343\n",
       "70    30605        5        8            5  20190806  19:27      700469\n",
       "35    30605        5        9            5  20190806  19:27      700474\n",
       "16    30605        5       10            5  20190806  19:29      811163\n",
       "78    30605        5       11            5  20190806  19:29      813892\n",
       "28    30605        5       12            5  20190806  19:30      838407\n",
       "96    30605        5       13            5  20190806  19:30      838412\n",
       "72    30605        5       14            5  20190806  19:30      858843\n",
       "84    30605        5       15            5  20190806  19:31      906644"
      ]
     },
     "execution_count": 17,
     "metadata": {},
     "output_type": "execute_result"
    }
   ],
   "source": [
    "raw_data1_Online_Act.loc[raw_data1_Online_Act['clnt_id']==30605, \n",
    "                         ['clnt_id', 'sess_id', 'hit_seq', 'action_type', 'sess_dt', 'hit_tm', 'hit_pss_tm']].sort_values(by=['sess_id', 'hit_seq'])[:30]"
   ]
  },
  {
   "cell_type": "markdown",
   "metadata": {},
   "source": [
    "상단 테이블에 대한 scatterplot 코드를 만들어봤습니다. 그래프를 통해서 날짜가 변하면 sess_dt(y축 10의자리)가 함께 바뀌고 hit_seq(y축 1의자리)는 차례로 증가하는 것을 확인하실 수 있습니다.\n",
    "\n",
    "추가적 EDA를 진행하실 때 도움이 되기를 바랍니다. "
   ]
  },
  {
   "cell_type": "code",
   "execution_count": 18,
   "metadata": {
    "scrolled": true
   },
   "outputs": [
    {
     "data": {
      "text/plain": [
       "(737250.0, 737272.0)"
      ]
     },
     "execution_count": 18,
     "metadata": {},
     "output_type": "execute_result"
    },
    {
     "data": {
      "image/png": "[encoded data removed]",
      "text/plain": [
       "<Figure size 720x360 with 1 Axes>"
      ]
     },
     "metadata": {
      "needs_background": "light"
     },
     "output_type": "display_data"
    }
   ],
   "source": [
    "from datetime import datetime, date # 날짜형 자료형을 다루는 라이브러리\n",
    "temp = raw_data1_Online_Act[(raw_data1_Online_Act['clnt_id']==30605) & (raw_data1_Online_Act['sess_id']<5)].copy() \n",
    "    # sess_id*10+hit_seq 계산을 위해 hit_seq<10인 sess_id만 고려함. \n",
    "temp.sess_dt = pd.to_datetime(temp.sess_dt, format='%Y%m%d') # sess_dt col의 자료형 변경\n",
    "\n",
    "plt.figure(figsize=(10, 5)) # plot size 조절\n",
    "plt.scatter(temp.sess_dt, temp.sess_id * 10 + temp.hit_seq) # scatter plot 작성 / sess_id, hit_seq range에 맞는 y축 연산 필요함.\n",
    "plt.xlim([date(2019,7,10), date(2019,8,1)]) # x축 조정"
   ]
  },
  {
   "cell_type": "markdown",
   "metadata": {},
   "source": [
    "<추가적인 분석 제안>\n",
    "\n",
    "2020-11-27 23:59 ~ 2020-11-28 00:30 쇼핑을 하는 경우에는 sess_id, hit_seq가 어떤 방식으로 생성되는지 확인이 필요해 보입니다.\n",
    "\n",
    "<br><br><br>"
   ]
  },
  {
   "cell_type": "markdown",
   "metadata": {},
   "source": [
    "### 1-4. action_type : 온라인 행동 유형\n",
    " *  0:검색 / 1:제품 목록 / 2:제품 세부정보 보기 / 3: 장바구니 제품 추가 / 4:장바구니 제품 삭제 \n",
    " * 5:결제 시도 / 6:구매완료 / 7:구매환불 / 8:결재 옵션"
   ]
  },
  {
   "cell_type": "markdown",
   "metadata": {},
   "source": [
    " * 온라인 행동 유형는 몇 개나 있는가?? => 8개\n",
    " \n",
    "     * class 갯수는 9개이므로 존재하지 않는 행동 하나 있음\n",
    "         * '8. 결재 옵션'은 데이터 존재하지 않음(하단 확인)"
   ]
  },
  {
   "cell_type": "code",
   "execution_count": 19,
   "metadata": {},
   "outputs": [
    {
     "data": {
      "text/plain": [
       "array([0, 1, 2, 3, 4, 5, 6, 7], dtype=int64)"
      ]
     },
     "execution_count": 19,
     "metadata": {},
     "output_type": "execute_result"
    }
   ],
   "source": [
    "np.sort(raw_data1_Online_Act['action_type'].unique())"
   ]
  },
  {
   "cell_type": "markdown",
   "metadata": {},
   "source": [
    " * 온라인 행동 유형 별 온라인 행동데이터는 몇 건이 있는지? => 최대 75만 건 , 최소 5600건\n",
    "     * 제일 많은 행동은 약 75만 건의 '5. 결제 시도' 이며\n",
    "     * 제일 적은 행동은 약 5600건의 '7. 구매 환불' 임\n",
    "     * '8. 결재 옵션'은 데이터 존제하지 않음이 확인됨"
   ]
  },
  {
   "cell_type": "code",
   "execution_count": 20,
   "metadata": {},
   "outputs": [
    {
     "data": {
      "text/plain": [
       "5    750530\n",
       "2    655266\n",
       "0    651638\n",
       "3    596765\n",
       "1    307998\n",
       "4    172240\n",
       "6     56249\n",
       "7      5676\n",
       "Name: action_type, dtype: int64"
      ]
     },
     "execution_count": 20,
     "metadata": {},
     "output_type": "execute_result"
    }
   ],
   "source": [
    "raw_data1_Online_Act['action_type'].value_counts()"
   ]
  },
  {
   "cell_type": "markdown",
   "metadata": {},
   "source": [
    " * 결측치 갯수 확인 => 없음"
   ]
  },
  {
   "cell_type": "code",
   "execution_count": 21,
   "metadata": {
    "scrolled": true
   },
   "outputs": [
    {
     "data": {
      "text/plain": [
       "0"
      ]
     },
     "execution_count": 21,
     "metadata": {},
     "output_type": "execute_result"
    }
   ],
   "source": [
    "raw_data1_Online_Act['action_type'].isna().sum()"
   ]
  },
  {
   "cell_type": "markdown",
   "metadata": {},
   "source": [
    "### 1-5. biz_unit(업종단위) : 온라인 및 오프라인 이용코드"
   ]
  },
  {
   "cell_type": "markdown",
   "metadata": {},
   "source": [
    " * 업종단위는 몇 개나 있는가?? => 3개\n",
    "     * 1. 온라인 행동 데이터 내 업종단위 갯수 : 3개 (A01, A02, A03)\n",
    "     * 2. 거래 정보 데이터 내 업종단위 갯수 : 6개 (A01, A02, A03, B01, B02, B03)"
   ]
  },
  {
   "cell_type": "code",
   "execution_count": 22,
   "metadata": {},
   "outputs": [
    {
     "data": {
      "text/plain": [
       "3"
      ]
     },
     "execution_count": 22,
     "metadata": {},
     "output_type": "execute_result"
    }
   ],
   "source": [
    "raw_data1_Online_Act['biz_unit'].nunique()"
   ]
  },
  {
   "cell_type": "markdown",
   "metadata": {},
   "source": [
    " * 업종단위 별로 온라인 행동데이터는 몇 건이 있는지? => 최대 23만 건 , 최소 19만건"
   ]
  },
  {
   "cell_type": "code",
   "execution_count": 23,
   "metadata": {},
   "outputs": [
    {
     "data": {
      "text/plain": [
       "A03    2331437\n",
       "A02     668093\n",
       "A01     196832\n",
       "Name: biz_unit, dtype: int64"
      ]
     },
     "execution_count": 23,
     "metadata": {},
     "output_type": "execute_result"
    }
   ],
   "source": [
    "raw_data1_Online_Act['biz_unit'].value_counts()"
   ]
  },
  {
   "cell_type": "markdown",
   "metadata": {},
   "source": [
    " * 결측치 갯수 확인 => 없음"
   ]
  },
  {
   "cell_type": "code",
   "execution_count": 24,
   "metadata": {},
   "outputs": [
    {
     "data": {
      "text/plain": [
       "0"
      ]
     },
     "execution_count": 24,
     "metadata": {},
     "output_type": "execute_result"
    }
   ],
   "source": [
    "raw_data1_Online_Act['biz_unit'].isna().sum()"
   ]
  },
  {
   "cell_type": "markdown",
   "metadata": {},
   "source": [
    "### 1-6. sess_dt : 세션 일자(년월일)"
   ]
  },
  {
   "cell_type": "markdown",
   "metadata": {},
   "source": [
    " * 세션 일자는 몇 개나 있는가?? => 92개\n",
    "     * 3달치 데이터가 날짜마다 있을 것을 예상됨\n",
    "         * 7,8,9월 일자 = 31 + 31 + 30 = 92"
   ]
  },
  {
   "cell_type": "code",
   "execution_count": 25,
   "metadata": {},
   "outputs": [
    {
     "data": {
      "text/plain": [
       "92"
      ]
     },
     "execution_count": 25,
     "metadata": {},
     "output_type": "execute_result"
    }
   ],
   "source": [
    "raw_data1_Online_Act['sess_dt'].nunique()"
   ]
  },
  {
   "cell_type": "markdown",
   "metadata": {},
   "source": [
    " * 세션 일자 별로 온라인 행동데이터는 몇 건이 있는지? => 최대 5.2만 건 , 최소 1.1만건\n",
    "     * 월별로 데이터 몇 개인지 확인해보기 => 추후 수행"
   ]
  },
  {
   "cell_type": "code",
   "execution_count": 26,
   "metadata": {},
   "outputs": [
    {
     "data": {
      "text/plain": [
       "20190708    52860\n",
       "20190703    47333\n",
       "20190729    46363\n",
       "20190905    44881\n",
       "20190918    43647\n",
       "            ...  \n",
       "20190811    24115\n",
       "20190831    23355\n",
       "20190915    23261\n",
       "20190912    19337\n",
       "20190913    11880\n",
       "Name: sess_dt, Length: 92, dtype: int64"
      ]
     },
     "execution_count": 26,
     "metadata": {},
     "output_type": "execute_result"
    }
   ],
   "source": [
    "raw_data1_Online_Act['sess_dt'].value_counts()"
   ]
  },
  {
   "cell_type": "markdown",
   "metadata": {},
   "source": [
    " * 결측치 갯수 확인 => 없음"
   ]
  },
  {
   "cell_type": "code",
   "execution_count": 27,
   "metadata": {
    "scrolled": true
   },
   "outputs": [
    {
     "data": {
      "text/plain": [
       "0"
      ]
     },
     "execution_count": 27,
     "metadata": {},
     "output_type": "execute_result"
    }
   ],
   "source": [
    "raw_data1_Online_Act['sess_dt'].isna().sum()"
   ]
  },
  {
   "cell_type": "markdown",
   "metadata": {},
   "source": [
    "<br><br><br>\n",
    "##### 우혜민) 날짜 데이터 Preprocessing 중 대표적인 예시는 요일을 사용하는 것 입니다. 현재 weekday를 사용하여 요일 col(day)를 생성했습니다.\n",
    "\n",
    "<추가적인 분석 제안>\n",
    "주말/평일을 구분하는 것도 좋은 전처리 방법 중 하나입니다."
   ]
  },
  {
   "cell_type": "code",
   "execution_count": 28,
   "metadata": {
    "scrolled": true
   },
   "outputs": [
    {
     "data": {
      "text/html": [
       "<div>\n",
       "<style scoped>\n",
       "    .dataframe tbody tr th:only-of-type {\n",
       "        vertical-align: middle;\n",
       "    }\n",
       "\n",
       "    .dataframe tbody tr th {\n",
       "        vertical-align: top;\n",
       "    }\n",
       "\n",
       "    .dataframe thead th {\n",
       "        text-align: right;\n",
       "    }\n",
       "</style>\n",
       "<table border=\"1\" class=\"dataframe\">\n",
       "  <thead>\n",
       "    <tr style=\"text-align: right;\">\n",
       "      <th></th>\n",
       "      <th>clnt_id</th>\n",
       "      <th>sess_id</th>\n",
       "      <th>hit_seq</th>\n",
       "      <th>action_type</th>\n",
       "      <th>biz_unit</th>\n",
       "      <th>sess_dt</th>\n",
       "      <th>hit_tm</th>\n",
       "      <th>hit_pss_tm</th>\n",
       "      <th>trans_id</th>\n",
       "      <th>sech_kwd</th>\n",
       "      <th>tot_pag_view_ct</th>\n",
       "      <th>tot_sess_hr_v</th>\n",
       "      <th>trfc_src</th>\n",
       "      <th>dvc_ctg_nm</th>\n",
       "      <th>day</th>\n",
       "    </tr>\n",
       "  </thead>\n",
       "  <tbody>\n",
       "    <tr>\n",
       "      <th>0</th>\n",
       "      <td>7809</td>\n",
       "      <td>1</td>\n",
       "      <td>8</td>\n",
       "      <td>5</td>\n",
       "      <td>A03</td>\n",
       "      <td>2019-09-13</td>\n",
       "      <td>01:16</td>\n",
       "      <td>2571103</td>\n",
       "      <td>NaN</td>\n",
       "      <td>NaN</td>\n",
       "      <td>34.0</td>\n",
       "      <td>2663.0</td>\n",
       "      <td>DIRECT</td>\n",
       "      <td>NaN</td>\n",
       "      <td>4</td>\n",
       "    </tr>\n",
       "    <tr>\n",
       "      <th>1</th>\n",
       "      <td>7809</td>\n",
       "      <td>1</td>\n",
       "      <td>4</td>\n",
       "      <td>2</td>\n",
       "      <td>A03</td>\n",
       "      <td>2019-09-13</td>\n",
       "      <td>01:14</td>\n",
       "      <td>2485909</td>\n",
       "      <td>NaN</td>\n",
       "      <td>NaN</td>\n",
       "      <td>34.0</td>\n",
       "      <td>2663.0</td>\n",
       "      <td>DIRECT</td>\n",
       "      <td>NaN</td>\n",
       "      <td>4</td>\n",
       "    </tr>\n",
       "    <tr>\n",
       "      <th>2</th>\n",
       "      <td>7809</td>\n",
       "      <td>1</td>\n",
       "      <td>11</td>\n",
       "      <td>5</td>\n",
       "      <td>A03</td>\n",
       "      <td>2019-09-13</td>\n",
       "      <td>01:17</td>\n",
       "      <td>2646597</td>\n",
       "      <td>NaN</td>\n",
       "      <td>NaN</td>\n",
       "      <td>34.0</td>\n",
       "      <td>2663.0</td>\n",
       "      <td>DIRECT</td>\n",
       "      <td>NaN</td>\n",
       "      <td>4</td>\n",
       "    </tr>\n",
       "    <tr>\n",
       "      <th>3</th>\n",
       "      <td>7809</td>\n",
       "      <td>1</td>\n",
       "      <td>1</td>\n",
       "      <td>2</td>\n",
       "      <td>A03</td>\n",
       "      <td>2019-09-13</td>\n",
       "      <td>00:46</td>\n",
       "      <td>788304</td>\n",
       "      <td>NaN</td>\n",
       "      <td>NaN</td>\n",
       "      <td>34.0</td>\n",
       "      <td>2663.0</td>\n",
       "      <td>DIRECT</td>\n",
       "      <td>NaN</td>\n",
       "      <td>4</td>\n",
       "    </tr>\n",
       "    <tr>\n",
       "      <th>4</th>\n",
       "      <td>7809</td>\n",
       "      <td>1</td>\n",
       "      <td>9</td>\n",
       "      <td>5</td>\n",
       "      <td>A03</td>\n",
       "      <td>2019-09-13</td>\n",
       "      <td>01:17</td>\n",
       "      <td>2617609</td>\n",
       "      <td>NaN</td>\n",
       "      <td>NaN</td>\n",
       "      <td>34.0</td>\n",
       "      <td>2663.0</td>\n",
       "      <td>DIRECT</td>\n",
       "      <td>NaN</td>\n",
       "      <td>4</td>\n",
       "    </tr>\n",
       "    <tr>\n",
       "      <th>...</th>\n",
       "      <td>...</td>\n",
       "      <td>...</td>\n",
       "      <td>...</td>\n",
       "      <td>...</td>\n",
       "      <td>...</td>\n",
       "      <td>...</td>\n",
       "      <td>...</td>\n",
       "      <td>...</td>\n",
       "      <td>...</td>\n",
       "      <td>...</td>\n",
       "      <td>...</td>\n",
       "      <td>...</td>\n",
       "      <td>...</td>\n",
       "      <td>...</td>\n",
       "      <td>...</td>\n",
       "    </tr>\n",
       "    <tr>\n",
       "      <th>3196357</th>\n",
       "      <td>31040</td>\n",
       "      <td>1</td>\n",
       "      <td>1</td>\n",
       "      <td>0</td>\n",
       "      <td>A02</td>\n",
       "      <td>2019-08-15</td>\n",
       "      <td>03:47</td>\n",
       "      <td>13525</td>\n",
       "      <td>NaN</td>\n",
       "      <td>다이슨 에어랩</td>\n",
       "      <td>4.0</td>\n",
       "      <td>62.0</td>\n",
       "      <td>unknown</td>\n",
       "      <td>mobile_web</td>\n",
       "      <td>3</td>\n",
       "    </tr>\n",
       "    <tr>\n",
       "      <th>3196358</th>\n",
       "      <td>4129</td>\n",
       "      <td>1</td>\n",
       "      <td>2</td>\n",
       "      <td>0</td>\n",
       "      <td>A02</td>\n",
       "      <td>2019-07-21</td>\n",
       "      <td>01:22</td>\n",
       "      <td>250099</td>\n",
       "      <td>NaN</td>\n",
       "      <td>여성메탈시계</td>\n",
       "      <td>3.0</td>\n",
       "      <td>250.0</td>\n",
       "      <td>unknown</td>\n",
       "      <td>mobile_web</td>\n",
       "      <td>6</td>\n",
       "    </tr>\n",
       "    <tr>\n",
       "      <th>3196359</th>\n",
       "      <td>4129</td>\n",
       "      <td>1</td>\n",
       "      <td>1</td>\n",
       "      <td>0</td>\n",
       "      <td>A02</td>\n",
       "      <td>2019-07-21</td>\n",
       "      <td>01:18</td>\n",
       "      <td>1525</td>\n",
       "      <td>NaN</td>\n",
       "      <td>여성메탈시계</td>\n",
       "      <td>3.0</td>\n",
       "      <td>250.0</td>\n",
       "      <td>unknown</td>\n",
       "      <td>mobile_web</td>\n",
       "      <td>6</td>\n",
       "    </tr>\n",
       "    <tr>\n",
       "      <th>3196360</th>\n",
       "      <td>54403</td>\n",
       "      <td>3</td>\n",
       "      <td>1</td>\n",
       "      <td>0</td>\n",
       "      <td>A02</td>\n",
       "      <td>2019-07-31</td>\n",
       "      <td>20:14</td>\n",
       "      <td>16905</td>\n",
       "      <td>NaN</td>\n",
       "      <td>비비고왕교자</td>\n",
       "      <td>3.0</td>\n",
       "      <td>68.0</td>\n",
       "      <td>unknown</td>\n",
       "      <td>mobile_app</td>\n",
       "      <td>2</td>\n",
       "    </tr>\n",
       "    <tr>\n",
       "      <th>3196361</th>\n",
       "      <td>54403</td>\n",
       "      <td>4</td>\n",
       "      <td>1</td>\n",
       "      <td>0</td>\n",
       "      <td>A02</td>\n",
       "      <td>2019-08-18</td>\n",
       "      <td>16:35</td>\n",
       "      <td>82700</td>\n",
       "      <td>NaN</td>\n",
       "      <td>에포테쉬볼륨팝브러쉬</td>\n",
       "      <td>5.0</td>\n",
       "      <td>101.0</td>\n",
       "      <td>unknown</td>\n",
       "      <td>mobile_app</td>\n",
       "      <td>6</td>\n",
       "    </tr>\n",
       "  </tbody>\n",
       "</table>\n",
       "<p>3196362 rows × 15 columns</p>\n",
       "</div>"
      ],
      "text/plain": [
       "         clnt_id  sess_id  hit_seq  action_type biz_unit    sess_dt hit_tm  \\\n",
       "0           7809        1        8            5      A03 2019-09-13  01:16   \n",
       "1           7809        1        4            2      A03 2019-09-13  01:14   \n",
       "2           7809        1       11            5      A03 2019-09-13  01:17   \n",
       "3           7809        1        1            2      A03 2019-09-13  00:46   \n",
       "4           7809        1        9            5      A03 2019-09-13  01:17   \n",
       "...          ...      ...      ...          ...      ...        ...    ...   \n",
       "3196357    31040        1        1            0      A02 2019-08-15  03:47   \n",
       "3196358     4129        1        2            0      A02 2019-07-21  01:22   \n",
       "3196359     4129        1        1            0      A02 2019-07-21  01:18   \n",
       "3196360    54403        3        1            0      A02 2019-07-31  20:14   \n",
       "3196361    54403        4        1            0      A02 2019-08-18  16:35   \n",
       "\n",
       "         hit_pss_tm  trans_id    sech_kwd  tot_pag_view_ct  tot_sess_hr_v  \\\n",
       "0           2571103       NaN         NaN             34.0         2663.0   \n",
       "1           2485909       NaN         NaN             34.0         2663.0   \n",
       "2           2646597       NaN         NaN             34.0         2663.0   \n",
       "3            788304       NaN         NaN             34.0         2663.0   \n",
       "4           2617609       NaN         NaN             34.0         2663.0   \n",
       "...             ...       ...         ...              ...            ...   \n",
       "3196357       13525       NaN     다이슨 에어랩              4.0           62.0   \n",
       "3196358      250099       NaN      여성메탈시계              3.0          250.0   \n",
       "3196359        1525       NaN      여성메탈시계              3.0          250.0   \n",
       "3196360       16905       NaN      비비고왕교자              3.0           68.0   \n",
       "3196361       82700       NaN  에포테쉬볼륨팝브러쉬              5.0          101.0   \n",
       "\n",
       "        trfc_src  dvc_ctg_nm  day  \n",
       "0         DIRECT         NaN    4  \n",
       "1         DIRECT         NaN    4  \n",
       "2         DIRECT         NaN    4  \n",
       "3         DIRECT         NaN    4  \n",
       "4         DIRECT         NaN    4  \n",
       "...          ...         ...  ...  \n",
       "3196357  unknown  mobile_web    3  \n",
       "3196358  unknown  mobile_web    6  \n",
       "3196359  unknown  mobile_web    6  \n",
       "3196360  unknown  mobile_app    2  \n",
       "3196361  unknown  mobile_app    6  \n",
       "\n",
       "[3196362 rows x 15 columns]"
      ]
     },
     "execution_count": 28,
     "metadata": {},
     "output_type": "execute_result"
    }
   ],
   "source": [
    "raw_data1_Online_Act.sess_dt = pd.to_datetime(raw_data1_Online_Act.sess_dt, format='%Y%m%d') # sess_dt col의 자료형 변경\n",
    "raw_data1_Online_Act['day'] = raw_data1_Online_Act['sess_dt'].dt.weekday #요일숫자(0-월, 1-화) (=dayofweek)\n",
    "raw_data1_Online_Act"
   ]
  },
  {
   "cell_type": "markdown",
   "metadata": {},
   "source": [
    "<br><br><br>"
   ]
  },
  {
   "cell_type": "markdown",
   "metadata": {},
   "source": [
    "### 1-7. hit_tm : 조회 시각(HH:MM)"
   ]
  },
  {
   "cell_type": "markdown",
   "metadata": {},
   "source": [
    " * 조회 시각는 몇 개나 있는가?? => 1440개"
   ]
  },
  {
   "cell_type": "code",
   "execution_count": 29,
   "metadata": {},
   "outputs": [
    {
     "data": {
      "text/plain": [
       "1440"
      ]
     },
     "execution_count": 29,
     "metadata": {},
     "output_type": "execute_result"
    }
   ],
   "source": [
    "raw_data1_Online_Act['hit_tm'].nunique()"
   ]
  },
  {
   "cell_type": "markdown",
   "metadata": {},
   "source": [
    " * 조회 시각 별로 온라인 행동데이터는 몇 건이 있는지? => 최대 5500건 , 최소 180건\n",
    "     * 시간 대 별로 데이터 몇 개인지 확인해보기 => 추후 수행\n",
    "         * 대충봤을 때, 오전 11시가 제일 많고, 새벽 5시 쯤이 제일 적음\n",
    "     * 추후 시간대별로 categorcal하게 전처리 한다면 의미 도출 및 user 그룹 분류에 용이할 것을 판단됨\n",
    "         * ex) 0\\~6시=새벽, 6\\~12시=오전, 12\\~18시=오후, 18\\~24=밤"
   ]
  },
  {
   "cell_type": "code",
   "execution_count": 30,
   "metadata": {},
   "outputs": [
    {
     "data": {
      "text/plain": [
       "11:15    5548\n",
       "11:10    5504\n",
       "11:16    5437\n",
       "11:14    5431\n",
       "11:13    5401\n",
       "         ... \n",
       "04:58     208\n",
       "04:53     207\n",
       "05:01     206\n",
       "04:57     192\n",
       "05:06     181\n",
       "Name: hit_tm, Length: 1440, dtype: int64"
      ]
     },
     "execution_count": 30,
     "metadata": {},
     "output_type": "execute_result"
    }
   ],
   "source": [
    "raw_data1_Online_Act['hit_tm'].value_counts()"
   ]
  },
  {
   "cell_type": "markdown",
   "metadata": {},
   "source": [
    " * 결측치 갯수 확인 => 없음"
   ]
  },
  {
   "cell_type": "code",
   "execution_count": 31,
   "metadata": {},
   "outputs": [
    {
     "data": {
      "text/plain": [
       "0"
      ]
     },
     "execution_count": 31,
     "metadata": {},
     "output_type": "execute_result"
    }
   ],
   "source": [
    "raw_data1_Online_Act['hit_tm'].isna().sum()"
   ]
  },
  {
   "cell_type": "markdown",
   "metadata": {},
   "source": [
    "### 1-8. hit_pss_tm : 조회 경과시간\n",
    "\n",
    " * 세션의 시작 부터 조회까지 걸리시간(밀리초) / 첫번째 조회는 0으로 설정"
   ]
  },
  {
   "cell_type": "markdown",
   "metadata": {},
   "source": [
    " * 조회 경과시간는 몇 개나 있는가?? => 150만개"
   ]
  },
  {
   "cell_type": "code",
   "execution_count": 32,
   "metadata": {},
   "outputs": [
    {
     "data": {
      "text/plain": [
       "1539787"
      ]
     },
     "execution_count": 32,
     "metadata": {},
     "output_type": "execute_result"
    }
   ],
   "source": [
    "raw_data1_Online_Act['hit_pss_tm'].nunique()"
   ]
  },
  {
   "cell_type": "markdown",
   "metadata": {},
   "source": [
    " * 조회 경과시간 별로 온라인 행동데이터는 몇 건이 있는지? => 최대 14900건 , 최소 1건\n",
    " \n",
    "     * 사람이 정상적으로 조회하는데 최소 1초 걸린다고 가정하면, 현재 class 값 0~1000까지는 비정상데이터로 판단할 수 있음\n",
    "     * 1초 이하의 조회 경과시간 데이터 갯수 : 약 6만개의 데이터는 비정상 데이터\n",
    "     * 3초로 가정 시 : 8.4만개 데이터 비정상"
   ]
  },
  {
   "cell_type": "code",
   "execution_count": 33,
   "metadata": {},
   "outputs": [
    {
     "data": {
      "text/plain": [
       "0          14921\n",
       "1            953\n",
       "2            818\n",
       "3            669\n",
       "4            467\n",
       "           ...  \n",
       "1808418        1\n",
       "1728541        1\n",
       "1720345        1\n",
       "1718294        1\n",
       "2686699        1\n",
       "Name: hit_pss_tm, Length: 1539787, dtype: int64"
      ]
     },
     "execution_count": 33,
     "metadata": {},
     "output_type": "execute_result"
    }
   ],
   "source": [
    "raw_data1_Online_Act['hit_pss_tm'].value_counts()"
   ]
  },
  {
   "cell_type": "code",
   "execution_count": 34,
   "metadata": {},
   "outputs": [
    {
     "data": {
      "text/plain": [
       "60447"
      ]
     },
     "execution_count": 34,
     "metadata": {},
     "output_type": "execute_result"
    }
   ],
   "source": [
    "len(raw_data1_Online_Act[raw_data1_Online_Act['hit_pss_tm'] <= 1000])"
   ]
  },
  {
   "cell_type": "code",
   "execution_count": 35,
   "metadata": {},
   "outputs": [
    {
     "data": {
      "text/plain": [
       "72662"
      ]
     },
     "execution_count": 35,
     "metadata": {},
     "output_type": "execute_result"
    }
   ],
   "source": [
    "len(raw_data1_Online_Act[raw_data1_Online_Act['hit_pss_tm'] <= 2000])"
   ]
  },
  {
   "cell_type": "code",
   "execution_count": 36,
   "metadata": {},
   "outputs": [
    {
     "data": {
      "text/plain": [
       "84839"
      ]
     },
     "execution_count": 36,
     "metadata": {},
     "output_type": "execute_result"
    }
   ],
   "source": [
    "len(raw_data1_Online_Act[raw_data1_Online_Act['hit_pss_tm'] <= 3000])"
   ]
  },
  {
   "cell_type": "markdown",
   "metadata": {},
   "source": [
    " * 결측치 갯수 확인 => 없음"
   ]
  },
  {
   "cell_type": "code",
   "execution_count": 37,
   "metadata": {},
   "outputs": [
    {
     "data": {
      "text/plain": [
       "0"
      ]
     },
     "execution_count": 37,
     "metadata": {},
     "output_type": "execute_result"
    }
   ],
   "source": [
    "raw_data1_Online_Act['hit_pss_tm'].isna().sum()"
   ]
  },
  {
   "cell_type": "markdown",
   "metadata": {},
   "source": [
    "### 1-9. trans_id : 거래 ID(구매내역을 고유 식별할 수 있는 ID)"
   ]
  },
  {
   "cell_type": "markdown",
   "metadata": {},
   "source": [
    " * 거래 ID는 몇 개나 있는가?? => 5만개\n",
    " \n",
    "     * 총 300만의 온라인 행동 중 구매 관련 데이터는 50997개\n",
    "     * 1. 온라인 행동 데이터 내 거래ID 갯수 : 50997개\n",
    "     * 2. 거래 정보 데이터 내 거래ID 갯수 : 116440개"
   ]
  },
  {
   "cell_type": "code",
   "execution_count": 38,
   "metadata": {},
   "outputs": [
    {
     "data": {
      "text/plain": [
       "50997"
      ]
     },
     "execution_count": 38,
     "metadata": {},
     "output_type": "execute_result"
    }
   ],
   "source": [
    "raw_data1_Online_Act['trans_id'].nunique()"
   ]
  },
  {
   "cell_type": "markdown",
   "metadata": {},
   "source": [
    " * 결측치 갯수 확인 => 3139373 개\n",
    "     * 온라인 행동 데이터 총 갯수 : 3196362 개"
   ]
  },
  {
   "cell_type": "code",
   "execution_count": 39,
   "metadata": {},
   "outputs": [
    {
     "data": {
      "text/plain": [
       "3139373"
      ]
     },
     "execution_count": 39,
     "metadata": {},
     "output_type": "execute_result"
    }
   ],
   "source": [
    "raw_data1_Online_Act['trans_id'].isna().sum()"
   ]
  },
  {
   "cell_type": "markdown",
   "metadata": {},
   "source": [
    " * 거래id가 NaN 이 아닌 데이터들이 갖는 온라인 행동 정보 확인\n",
    "     * '6. 구매완료'에 대한 거래ID : 51313건\n",
    "         * 위 action_type 열의 EDA 자료를 확인하면 '6. 구매완료' 갯수는 56249개임\n",
    "         * 56249-51313 = 4936건에 대한 '6. 구매완료' 데이터는 거래ID 없음\n",
    "             => 추후확인\n",
    "     * '7. 구매환불'에 대한 거래ID : 5676건\n",
    "         * 위 action_type 열의 EDA 자료를 확인하면 '7. 구매환불' 갯수는 5676개임\n",
    "             => 갯수 일치\n",
    "         * '7. 구매환불' 데이터는 모두 거래ID 존재"
   ]
  },
  {
   "cell_type": "code",
   "execution_count": 40,
   "metadata": {},
   "outputs": [
    {
     "data": {
      "text/plain": [
       "6    51313\n",
       "7     5676\n",
       "Name: action_type, dtype: int64"
      ]
     },
     "execution_count": 40,
     "metadata": {},
     "output_type": "execute_result"
    }
   ],
   "source": [
    "raw_data1_Online_Act['action_type'][raw_data1_Online_Act['trans_id'].isna() != True].value_counts()"
   ]
  },
  {
   "cell_type": "markdown",
   "metadata": {},
   "source": [
    " * 거래ID 별로 온라인 행동데이터는 몇 건이 있는지? => 최대 62건 , 최소 1건"
   ]
  },
  {
   "cell_type": "code",
   "execution_count": 41,
   "metadata": {},
   "outputs": [
    {
     "data": {
      "text/plain": [
       "71558.0     62\n",
       "57672.0     52\n",
       "104537.0    48\n",
       "103669.0    31\n",
       "99521.0     28\n",
       "            ..\n",
       "87919.0      1\n",
       "87918.0      1\n",
       "87917.0      1\n",
       "87916.0      1\n",
       "38728.0      1\n",
       "Name: trans_id, Length: 50997, dtype: int64"
      ]
     },
     "execution_count": 41,
     "metadata": {},
     "output_type": "execute_result"
    }
   ],
   "source": [
    "raw_data1_Online_Act['trans_id'].value_counts()"
   ]
  },
  {
   "cell_type": "markdown",
   "metadata": {},
   "source": [
    "### 1-10. sech_kwd : 고객이 검색한 키워드"
   ]
  },
  {
   "cell_type": "markdown",
   "metadata": {},
   "source": [
    " * 검색키워드는 몇 개나 있는가?? => 10만개"
   ]
  },
  {
   "cell_type": "code",
   "execution_count": 42,
   "metadata": {},
   "outputs": [
    {
     "data": {
      "text/plain": [
       "101952"
      ]
     },
     "execution_count": 42,
     "metadata": {},
     "output_type": "execute_result"
    }
   ],
   "source": [
    "raw_data1_Online_Act['sech_kwd'].nunique()"
   ]
  },
  {
   "cell_type": "markdown",
   "metadata": {},
   "source": [
    " * 검색키워드 별로 온라인 행동데이터는 몇 건이 있는지? => 최대 8985건 , 최소 1건"
   ]
  },
  {
   "cell_type": "code",
   "execution_count": 43,
   "metadata": {},
   "outputs": [
    {
     "data": {
      "text/plain": [
       "우유        8985\n",
       "두부        5210\n",
       "계란        5039\n",
       "생수        4283\n",
       "수박        2694\n",
       "          ... \n",
       "맥 화장품        1\n",
       "반짠           1\n",
       "생탁           1\n",
       "접시꽂이         1\n",
       "숏자켓 블루       1\n",
       "Name: sech_kwd, Length: 101952, dtype: int64"
      ]
     },
     "execution_count": 43,
     "metadata": {},
     "output_type": "execute_result"
    }
   ],
   "source": [
    "raw_data1_Online_Act['sech_kwd'].value_counts()"
   ]
  },
  {
   "cell_type": "markdown",
   "metadata": {},
   "source": [
    " * 결측치 갯수 확인 => 254만개"
   ]
  },
  {
   "cell_type": "code",
   "execution_count": 44,
   "metadata": {},
   "outputs": [
    {
     "data": {
      "text/plain": [
       "2544724"
      ]
     },
     "execution_count": 44,
     "metadata": {},
     "output_type": "execute_result"
    }
   ],
   "source": [
    "raw_data1_Online_Act['sech_kwd'].isna().sum()"
   ]
  },
  {
   "cell_type": "markdown",
   "metadata": {},
   "source": [
    "### 1-11. tot_pag_view_ct : 세션 내 총 페이지 수\n",
    "\n",
    " * 세션 내에 총 페이지(화면) 뷰 수"
   ]
  },
  {
   "cell_type": "markdown",
   "metadata": {},
   "source": [
    " * 페이지 수의 종류는 몇 개나 있는가?? => 425개"
   ]
  },
  {
   "cell_type": "code",
   "execution_count": 45,
   "metadata": {},
   "outputs": [
    {
     "data": {
      "text/plain": [
       "425"
      ]
     },
     "execution_count": 45,
     "metadata": {},
     "output_type": "execute_result"
    }
   ],
   "source": [
    "raw_data1_Online_Act['tot_pag_view_ct'].nunique()"
   ]
  },
  {
   "cell_type": "markdown",
   "metadata": {},
   "source": [
    " * 페이지 수 별 온라인 행동데이터는 몇 건이 있는지? => 최대 6.2만건 , 최소 2건"
   ]
  },
  {
   "cell_type": "code",
   "execution_count": 46,
   "metadata": {},
   "outputs": [
    {
     "data": {
      "text/plain": [
       "1.0      62147\n",
       "7.0      60072\n",
       "5.0      59178\n",
       "9.0      58943\n",
       "11.0     57978\n",
       "         ...  \n",
       "431.0       21\n",
       "464.0       21\n",
       "433.0        9\n",
       "423.0        6\n",
       "389.0        2\n",
       "Name: tot_pag_view_ct, Length: 425, dtype: int64"
      ]
     },
     "execution_count": 46,
     "metadata": {},
     "output_type": "execute_result"
    }
   ],
   "source": [
    "raw_data1_Online_Act['tot_pag_view_ct'].value_counts()"
   ]
  },
  {
   "cell_type": "markdown",
   "metadata": {},
   "source": [
    " * 결측치 갯수 확인 => 1428개"
   ]
  },
  {
   "cell_type": "code",
   "execution_count": 47,
   "metadata": {},
   "outputs": [
    {
     "data": {
      "text/plain": [
       "1428"
      ]
     },
     "execution_count": 47,
     "metadata": {},
     "output_type": "execute_result"
    }
   ],
   "source": [
    "raw_data1_Online_Act['tot_pag_view_ct'].isna().sum()"
   ]
  },
  {
   "cell_type": "markdown",
   "metadata": {},
   "source": [
    "### 1-12. tot_sess_hr_v : 총 세션 시간 값"
   ]
  },
  {
   "cell_type": "markdown",
   "metadata": {},
   "source": [
    " * 총 세션시간 종류는 몇 개나 있는가?? => 6646개"
   ]
  },
  {
   "cell_type": "code",
   "execution_count": 48,
   "metadata": {},
   "outputs": [
    {
     "data": {
      "text/plain": [
       "6646"
      ]
     },
     "execution_count": 48,
     "metadata": {},
     "output_type": "execute_result"
    }
   ],
   "source": [
    "raw_data1_Online_Act['tot_sess_hr_v'].nunique()"
   ]
  },
  {
   "cell_type": "markdown",
   "metadata": {},
   "source": [
    " * 총 세션시간 별 온라인 행동데이터는 몇 건이 있는지? => 최대 2236건 , 최소 1건"
   ]
  },
  {
   "cell_type": "code",
   "execution_count": 49,
   "metadata": {},
   "outputs": [
    {
     "data": {
      "text/plain": [
       "127.0     2236\n",
       "61.0      2147\n",
       "96.0      2119\n",
       "69.0      2079\n",
       "63.0      2076\n",
       "          ... \n",
       "6800.0       1\n",
       "5945.0       1\n",
       "5412.0       1\n",
       "6794.0       1\n",
       "6416.0       1\n",
       "Name: tot_sess_hr_v, Length: 6646, dtype: int64"
      ]
     },
     "execution_count": 49,
     "metadata": {},
     "output_type": "execute_result"
    }
   ],
   "source": [
    "raw_data1_Online_Act['tot_sess_hr_v'].value_counts()"
   ]
  },
  {
   "cell_type": "markdown",
   "metadata": {},
   "source": [
    " * 결측치 갯수 확인 => 57607개\n",
    "     * 단위가 시간이므로, NaN 값이 1시간 미만을 의미할 수도 있을 것이라 판단됨 => 추후 확인"
   ]
  },
  {
   "cell_type": "code",
   "execution_count": 50,
   "metadata": {},
   "outputs": [
    {
     "data": {
      "text/plain": [
       "57607"
      ]
     },
     "execution_count": 50,
     "metadata": {},
     "output_type": "execute_result"
    }
   ],
   "source": [
    "raw_data1_Online_Act['tot_sess_hr_v'].isna().sum()"
   ]
  },
  {
   "cell_type": "markdown",
   "metadata": {},
   "source": [
    " * 최대 세션시간은?? => 27635시간 = 약 1151일 = 약 3년 2개월\n",
    "     * 3년 이상 세션을 켜놓았다는 의미 : 정상데이터는 아닌것으로 예상"
   ]
  },
  {
   "cell_type": "code",
   "execution_count": 51,
   "metadata": {},
   "outputs": [
    {
     "data": {
      "text/plain": [
       "27635.0"
      ]
     },
     "execution_count": 51,
     "metadata": {},
     "output_type": "execute_result"
    }
   ],
   "source": [
    "max(raw_data1_Online_Act['tot_sess_hr_v'])"
   ]
  },
  {
   "cell_type": "markdown",
   "metadata": {},
   "source": [
    " * 최소 세션시간은?? => 1시간"
   ]
  },
  {
   "cell_type": "code",
   "execution_count": 52,
   "metadata": {},
   "outputs": [
    {
     "data": {
      "text/plain": [
       "1.0"
      ]
     },
     "execution_count": 52,
     "metadata": {},
     "output_type": "execute_result"
    }
   ],
   "source": [
    "min(raw_data1_Online_Act['tot_sess_hr_v'])"
   ]
  },
  {
   "cell_type": "markdown",
   "metadata": {},
   "source": [
    "### 1-13. trfc_src : 유입 채널 \n",
    "\n",
    " * 종류 : DIRECT / PUSH / WEBSITE / PORTAL_1 / PORTAL_2 / PORTAL_3 / unknown"
   ]
  },
  {
   "cell_type": "markdown",
   "metadata": {},
   "source": [
    " * 유입채널의 종류는 몇 개나 있는가?? => 7개"
   ]
  },
  {
   "cell_type": "code",
   "execution_count": 53,
   "metadata": {},
   "outputs": [
    {
     "data": {
      "text/plain": [
       "7"
      ]
     },
     "execution_count": 53,
     "metadata": {},
     "output_type": "execute_result"
    }
   ],
   "source": [
    "raw_data1_Online_Act['trfc_src'].nunique()"
   ]
  },
  {
   "cell_type": "markdown",
   "metadata": {},
   "source": [
    " * 유입채널 별 온라인 행동데이터는 몇 건이 있는지? => 최대 171만건 , 최소 9792건"
   ]
  },
  {
   "cell_type": "code",
   "execution_count": 54,
   "metadata": {},
   "outputs": [
    {
     "data": {
      "text/plain": [
       "DIRECT      1715541\n",
       "unknown      826946\n",
       "PUSH         523300\n",
       "WEBSITE       49472\n",
       "PORTAL_1      40669\n",
       "PORTAL_2      30642\n",
       "PORTAL_3       9792\n",
       "Name: trfc_src, dtype: int64"
      ]
     },
     "execution_count": 54,
     "metadata": {},
     "output_type": "execute_result"
    }
   ],
   "source": [
    "raw_data1_Online_Act['trfc_src'].value_counts()"
   ]
  },
  {
   "cell_type": "markdown",
   "metadata": {},
   "source": [
    " * 결측치 갯수 확인 => 없음"
   ]
  },
  {
   "cell_type": "code",
   "execution_count": 55,
   "metadata": {},
   "outputs": [
    {
     "data": {
      "text/plain": [
       "0"
      ]
     },
     "execution_count": 55,
     "metadata": {},
     "output_type": "execute_result"
    }
   ],
   "source": [
    "raw_data1_Online_Act['trfc_src'].isna().sum()"
   ]
  },
  {
   "cell_type": "markdown",
   "metadata": {},
   "source": [
    "### 1-14. dvc_ctg_nm : 기기 유형 \n",
    "\n",
    " * mobile_web / mobile_app / PC"
   ]
  },
  {
   "cell_type": "markdown",
   "metadata": {},
   "source": [
    " * 기기유형의 종류는 몇 개나 있는가?? => 3개"
   ]
  },
  {
   "cell_type": "code",
   "execution_count": 56,
   "metadata": {},
   "outputs": [
    {
     "data": {
      "text/plain": [
       "3"
      ]
     },
     "execution_count": 56,
     "metadata": {},
     "output_type": "execute_result"
    }
   ],
   "source": [
    "raw_data1_Online_Act['dvc_ctg_nm'].nunique()"
   ]
  },
  {
   "cell_type": "markdown",
   "metadata": {},
   "source": [
    " * 기기유형 별 온라인 행동데이터는 몇 건이 있는지? => 최대 67.0만건 , 최소 26.5만건\n",
    " \n",
    "     * 모바일 114만 건 / PC 26만건\n"
   ]
  },
  {
   "cell_type": "code",
   "execution_count": 57,
   "metadata": {},
   "outputs": [
    {
     "data": {
      "text/plain": [
       "mobile_web    672936\n",
       "mobile_app    474859\n",
       "PC            265990\n",
       "Name: dvc_ctg_nm, dtype: int64"
      ]
     },
     "execution_count": 57,
     "metadata": {},
     "output_type": "execute_result"
    }
   ],
   "source": [
    "raw_data1_Online_Act['dvc_ctg_nm'].value_counts()"
   ]
  },
  {
   "cell_type": "markdown",
   "metadata": {},
   "source": [
    " * 결측치 갯수 확인 => 178만 건"
   ]
  },
  {
   "cell_type": "code",
   "execution_count": 58,
   "metadata": {},
   "outputs": [
    {
     "data": {
      "text/plain": [
       "1782577"
      ]
     },
     "execution_count": 58,
     "metadata": {},
     "output_type": "execute_result"
    }
   ],
   "source": [
    "raw_data1_Online_Act['dvc_ctg_nm'].isna().sum()"
   ]
  },
  {
   "cell_type": "markdown",
   "metadata": {},
   "source": [
    "## 2. 거래 정보 데이터 확인"
   ]
  },
  {
   "cell_type": "code",
   "execution_count": 59,
   "metadata": {},
   "outputs": [
    {
     "data": {
      "text/html": [
       "<div>\n",
       "<style scoped>\n",
       "    .dataframe tbody tr th:only-of-type {\n",
       "        vertical-align: middle;\n",
       "    }\n",
       "\n",
       "    .dataframe tbody tr th {\n",
       "        vertical-align: top;\n",
       "    }\n",
       "\n",
       "    .dataframe thead th {\n",
       "        text-align: right;\n",
       "    }\n",
       "</style>\n",
       "<table border=\"1\" class=\"dataframe\">\n",
       "  <thead>\n",
       "    <tr style=\"text-align: right;\">\n",
       "      <th></th>\n",
       "      <th>clnt_id</th>\n",
       "      <th>trans_id</th>\n",
       "      <th>trans_seq</th>\n",
       "      <th>biz_unit</th>\n",
       "      <th>pd_c</th>\n",
       "      <th>de_dt</th>\n",
       "      <th>de_tm</th>\n",
       "      <th>buy_am</th>\n",
       "      <th>buy_ct</th>\n",
       "    </tr>\n",
       "  </thead>\n",
       "  <tbody>\n",
       "    <tr>\n",
       "      <th>0</th>\n",
       "      <td>21922</td>\n",
       "      <td>104999</td>\n",
       "      <td>1</td>\n",
       "      <td>A03</td>\n",
       "      <td>unknown</td>\n",
       "      <td>20190920</td>\n",
       "      <td>12:41</td>\n",
       "      <td>5990</td>\n",
       "      <td>1</td>\n",
       "    </tr>\n",
       "    <tr>\n",
       "      <th>1</th>\n",
       "      <td>21279</td>\n",
       "      <td>104907</td>\n",
       "      <td>4</td>\n",
       "      <td>A03</td>\n",
       "      <td>unknown</td>\n",
       "      <td>20190920</td>\n",
       "      <td>10:27</td>\n",
       "      <td>10900</td>\n",
       "      <td>1</td>\n",
       "    </tr>\n",
       "    <tr>\n",
       "      <th>2</th>\n",
       "      <td>39423</td>\n",
       "      <td>105124</td>\n",
       "      <td>11</td>\n",
       "      <td>A03</td>\n",
       "      <td>unknown</td>\n",
       "      <td>20190920</td>\n",
       "      <td>17:26</td>\n",
       "      <td>12900</td>\n",
       "      <td>1</td>\n",
       "    </tr>\n",
       "    <tr>\n",
       "      <th>3</th>\n",
       "      <td>18362</td>\n",
       "      <td>104010</td>\n",
       "      <td>1</td>\n",
       "      <td>A03</td>\n",
       "      <td>unknown</td>\n",
       "      <td>20190920</td>\n",
       "      <td>09:57</td>\n",
       "      <td>9900</td>\n",
       "      <td>1</td>\n",
       "    </tr>\n",
       "    <tr>\n",
       "      <th>4</th>\n",
       "      <td>39423</td>\n",
       "      <td>105124</td>\n",
       "      <td>13</td>\n",
       "      <td>A03</td>\n",
       "      <td>0565</td>\n",
       "      <td>20190920</td>\n",
       "      <td>17:26</td>\n",
       "      <td>2990</td>\n",
       "      <td>1</td>\n",
       "    </tr>\n",
       "  </tbody>\n",
       "</table>\n",
       "</div>"
      ],
      "text/plain": [
       "   clnt_id  trans_id  trans_seq biz_unit     pd_c     de_dt  de_tm  buy_am  \\\n",
       "0    21922    104999          1      A03  unknown  20190920  12:41    5990   \n",
       "1    21279    104907          4      A03  unknown  20190920  10:27   10900   \n",
       "2    39423    105124         11      A03  unknown  20190920  17:26   12900   \n",
       "3    18362    104010          1      A03  unknown  20190920  09:57    9900   \n",
       "4    39423    105124         13      A03     0565  20190920  17:26    2990   \n",
       "\n",
       "   buy_ct  \n",
       "0       1  \n",
       "1       1  \n",
       "2       1  \n",
       "3       1  \n",
       "4       1  "
      ]
     },
     "execution_count": 59,
     "metadata": {},
     "output_type": "execute_result"
    }
   ],
   "source": [
    "raw_data2_Trade_Inform.head()"
   ]
  },
  {
   "cell_type": "markdown",
   "metadata": {},
   "source": [
    " * 2-1(=1-1, 3-1). clnt_id : 고객 고유 식별 ID\n",
    " * 2-2(=1-9). trans_ID : 거래 ID(구매내역을 고유 식별할 수 있는 ID)\n",
    " * 2-3. trans_seq : 구매 내역 내 구매 순서를 알 수 있도록 한 일련번호\n",
    " * 2-4(=1-5). biz_unit(업종단위) : 온라인 및 오프라인 이용코드\n",
    " * 2-5(=4-1). pd_c : 상품의 소분류 코드\n",
    " * 2-6. de_dt : 구매일자(년월일)\n",
    " * 2-7. de_tm : 구매시각(HHMM)\n",
    " * 2-8. buy_am : 구매금액\n",
    " * 2-9. buy_ct : 구매수량"
   ]
  },
  {
   "cell_type": "code",
   "execution_count": 60,
   "metadata": {},
   "outputs": [
    {
     "data": {
      "text/plain": [
       "(599961, 9)"
      ]
     },
     "execution_count": 60,
     "metadata": {},
     "output_type": "execute_result"
    }
   ],
   "source": [
    "raw_data2_Trade_Inform.shape"
   ]
  },
  {
   "cell_type": "markdown",
   "metadata": {},
   "source": [
    " * 행 수(데이터 갯수) : 59.9만 개\n",
    " * 열 수(데이터 종류) : 9개"
   ]
  },
  {
   "cell_type": "markdown",
   "metadata": {},
   "source": [
    "### 2-1. clnt_id : 고객 고유 식별 ID\n",
    "\n",
    " * 1-1, 3-1 clnt_id와 동일 의미"
   ]
  },
  {
   "cell_type": "markdown",
   "metadata": {},
   "source": [
    " * 거래정보데이터 내 고객ID의 종류는 몇 개나 있는가?? => 11284개\n",
    "     * 1. 온라인 행동 데이터 내 고객ID 갯수 : 72399개\n",
    "     * 2. 거래 정보 데이터 내 고객ID 갯수 :11284개\n",
    "     * 3. 사용자 demog 정보 내 고객ID 갯수 : 72399개"
   ]
  },
  {
   "cell_type": "code",
   "execution_count": 61,
   "metadata": {},
   "outputs": [
    {
     "data": {
      "text/plain": [
       "11284"
      ]
     },
     "execution_count": 61,
     "metadata": {},
     "output_type": "execute_result"
    }
   ],
   "source": [
    "raw_data2_Trade_Inform['clnt_id'].nunique()"
   ]
  },
  {
   "cell_type": "markdown",
   "metadata": {},
   "source": [
    " * 고객ID 별 거래정보데이터는 몇 건이 있는지? => 최대 757건 , 최소 1건 "
   ]
  },
  {
   "cell_type": "code",
   "execution_count": 62,
   "metadata": {},
   "outputs": [
    {
     "data": {
      "text/plain": [
       "27221    757\n",
       "42575    681\n",
       "52362    623\n",
       "71243    579\n",
       "12198    565\n",
       "        ... \n",
       "32432      1\n",
       "35025      1\n",
       "27340      1\n",
       "52443      1\n",
       "14343      1\n",
       "Name: clnt_id, Length: 11284, dtype: int64"
      ]
     },
     "execution_count": 62,
     "metadata": {},
     "output_type": "execute_result"
    }
   ],
   "source": [
    "raw_data2_Trade_Inform['clnt_id'].value_counts()"
   ]
  },
  {
   "cell_type": "markdown",
   "metadata": {},
   "source": [
    " * 결측치 갯수 확인 => 없음"
   ]
  },
  {
   "cell_type": "code",
   "execution_count": 63,
   "metadata": {},
   "outputs": [
    {
     "data": {
      "text/plain": [
       "0"
      ]
     },
     "execution_count": 63,
     "metadata": {},
     "output_type": "execute_result"
    }
   ],
   "source": [
    "raw_data2_Trade_Inform['clnt_id'].isna().sum()"
   ]
  },
  {
   "cell_type": "markdown",
   "metadata": {},
   "source": [
    "### 2-2. trans_id : 거래 ID(구매내역을 고유 식별할 수 있는 ID)\n",
    "\n",
    " * 1-9 trans_id와 동일 의미"
   ]
  },
  {
   "cell_type": "markdown",
   "metadata": {},
   "source": [
    " * 거래정보데이터 내 거래ID의 종류는 몇 개나 있는가?? => 11만개\n",
    "     * 1. 온라인 행동 데이터 내 거래ID 갯수 : 50997개\n",
    "     * 2. 거래 정보 데이터 내 거래ID 갯수 : 116440개"
   ]
  },
  {
   "cell_type": "code",
   "execution_count": 64,
   "metadata": {},
   "outputs": [
    {
     "data": {
      "text/plain": [
       "116440"
      ]
     },
     "execution_count": 64,
     "metadata": {},
     "output_type": "execute_result"
    }
   ],
   "source": [
    "raw_data2_Trade_Inform['trans_id'].nunique()"
   ]
  },
  {
   "cell_type": "markdown",
   "metadata": {},
   "source": [
    " * 거래ID 별 거래정보데이터는 몇 건이 있는지? => 최대 105건 , 최소 1건 "
   ]
  },
  {
   "cell_type": "code",
   "execution_count": 65,
   "metadata": {},
   "outputs": [
    {
     "data": {
      "text/plain": [
       "132554    105\n",
       "51589     100\n",
       "102723     72\n",
       "132637     72\n",
       "137451     65\n",
       "         ... \n",
       "122815      1\n",
       "4720        1\n",
       "64109       1\n",
       "114929      1\n",
       "102596      1\n",
       "Name: trans_id, Length: 116440, dtype: int64"
      ]
     },
     "execution_count": 65,
     "metadata": {},
     "output_type": "execute_result"
    }
   ],
   "source": [
    "raw_data2_Trade_Inform['trans_id'].value_counts()"
   ]
  },
  {
   "cell_type": "markdown",
   "metadata": {},
   "source": [
    " * 결측치 갯수 확인 => 없음"
   ]
  },
  {
   "cell_type": "markdown",
   "metadata": {},
   "source": [
    "<br><br><br>\n",
    "##### 우혜민) <br> Q) 온라인 행동 데이터 내 거래 ID와 거래 정보 데이터 내 거래 ID 갯수는 왜 차이가 날까???<br> A) Online_Act의 action_type에 따라 trans_id가 생성될 때도 있고 아닐 때도 있기 때문\n",
    "\n",
    "거래정보데이터 내 거래ID의 종류는 몇 개나 있는가?? => 11만개<br>\n",
    "온라인 행동 데이터 내 거래ID 갯수 : 50997개<br>\n",
    "거래 정보 데이터 내 거래ID 갯수 : 116440개<br>"
   ]
  },
  {
   "cell_type": "code",
   "execution_count": 66,
   "metadata": {},
   "outputs": [
    {
     "data": {
      "text/html": [
       "<div>\n",
       "<style scoped>\n",
       "    .dataframe tbody tr th:only-of-type {\n",
       "        vertical-align: middle;\n",
       "    }\n",
       "\n",
       "    .dataframe tbody tr th {\n",
       "        vertical-align: top;\n",
       "    }\n",
       "\n",
       "    .dataframe thead th {\n",
       "        text-align: right;\n",
       "    }\n",
       "</style>\n",
       "<table border=\"1\" class=\"dataframe\">\n",
       "  <thead>\n",
       "    <tr style=\"text-align: right;\">\n",
       "      <th></th>\n",
       "      <th>clnt_sess</th>\n",
       "      <th>clnt_id</th>\n",
       "      <th>sess_id</th>\n",
       "      <th>hit_seq</th>\n",
       "      <th>action_type</th>\n",
       "      <th>biz_unit</th>\n",
       "      <th>sess_dt</th>\n",
       "      <th>hit_tm</th>\n",
       "      <th>hit_pss_tm</th>\n",
       "      <th>trans_id</th>\n",
       "      <th>sech_kwd</th>\n",
       "      <th>tot_pag_view_ct</th>\n",
       "      <th>tot_sess_hr_v</th>\n",
       "      <th>trfc_src</th>\n",
       "      <th>dvc_ctg_nm</th>\n",
       "      <th>day</th>\n",
       "    </tr>\n",
       "  </thead>\n",
       "  <tbody>\n",
       "    <tr>\n",
       "      <th>0</th>\n",
       "      <td>7809_1</td>\n",
       "      <td>7809</td>\n",
       "      <td>1</td>\n",
       "      <td>8</td>\n",
       "      <td>5</td>\n",
       "      <td>A03</td>\n",
       "      <td>2019-09-13</td>\n",
       "      <td>01:16</td>\n",
       "      <td>2571103</td>\n",
       "      <td>NaN</td>\n",
       "      <td>NaN</td>\n",
       "      <td>34.0</td>\n",
       "      <td>2663.0</td>\n",
       "      <td>DIRECT</td>\n",
       "      <td>NaN</td>\n",
       "      <td>4</td>\n",
       "    </tr>\n",
       "    <tr>\n",
       "      <th>1</th>\n",
       "      <td>7809_1</td>\n",
       "      <td>7809</td>\n",
       "      <td>1</td>\n",
       "      <td>4</td>\n",
       "      <td>2</td>\n",
       "      <td>A03</td>\n",
       "      <td>2019-09-13</td>\n",
       "      <td>01:14</td>\n",
       "      <td>2485909</td>\n",
       "      <td>NaN</td>\n",
       "      <td>NaN</td>\n",
       "      <td>34.0</td>\n",
       "      <td>2663.0</td>\n",
       "      <td>DIRECT</td>\n",
       "      <td>NaN</td>\n",
       "      <td>4</td>\n",
       "    </tr>\n",
       "    <tr>\n",
       "      <th>2</th>\n",
       "      <td>7809_1</td>\n",
       "      <td>7809</td>\n",
       "      <td>1</td>\n",
       "      <td>11</td>\n",
       "      <td>5</td>\n",
       "      <td>A03</td>\n",
       "      <td>2019-09-13</td>\n",
       "      <td>01:17</td>\n",
       "      <td>2646597</td>\n",
       "      <td>NaN</td>\n",
       "      <td>NaN</td>\n",
       "      <td>34.0</td>\n",
       "      <td>2663.0</td>\n",
       "      <td>DIRECT</td>\n",
       "      <td>NaN</td>\n",
       "      <td>4</td>\n",
       "    </tr>\n",
       "    <tr>\n",
       "      <th>3</th>\n",
       "      <td>7809_1</td>\n",
       "      <td>7809</td>\n",
       "      <td>1</td>\n",
       "      <td>1</td>\n",
       "      <td>2</td>\n",
       "      <td>A03</td>\n",
       "      <td>2019-09-13</td>\n",
       "      <td>00:46</td>\n",
       "      <td>788304</td>\n",
       "      <td>NaN</td>\n",
       "      <td>NaN</td>\n",
       "      <td>34.0</td>\n",
       "      <td>2663.0</td>\n",
       "      <td>DIRECT</td>\n",
       "      <td>NaN</td>\n",
       "      <td>4</td>\n",
       "    </tr>\n",
       "    <tr>\n",
       "      <th>4</th>\n",
       "      <td>7809_1</td>\n",
       "      <td>7809</td>\n",
       "      <td>1</td>\n",
       "      <td>9</td>\n",
       "      <td>5</td>\n",
       "      <td>A03</td>\n",
       "      <td>2019-09-13</td>\n",
       "      <td>01:17</td>\n",
       "      <td>2617609</td>\n",
       "      <td>NaN</td>\n",
       "      <td>NaN</td>\n",
       "      <td>34.0</td>\n",
       "      <td>2663.0</td>\n",
       "      <td>DIRECT</td>\n",
       "      <td>NaN</td>\n",
       "      <td>4</td>\n",
       "    </tr>\n",
       "    <tr>\n",
       "      <th>...</th>\n",
       "      <td>...</td>\n",
       "      <td>...</td>\n",
       "      <td>...</td>\n",
       "      <td>...</td>\n",
       "      <td>...</td>\n",
       "      <td>...</td>\n",
       "      <td>...</td>\n",
       "      <td>...</td>\n",
       "      <td>...</td>\n",
       "      <td>...</td>\n",
       "      <td>...</td>\n",
       "      <td>...</td>\n",
       "      <td>...</td>\n",
       "      <td>...</td>\n",
       "      <td>...</td>\n",
       "      <td>...</td>\n",
       "    </tr>\n",
       "    <tr>\n",
       "      <th>3196357</th>\n",
       "      <td>31040_1</td>\n",
       "      <td>31040</td>\n",
       "      <td>1</td>\n",
       "      <td>1</td>\n",
       "      <td>0</td>\n",
       "      <td>A02</td>\n",
       "      <td>2019-08-15</td>\n",
       "      <td>03:47</td>\n",
       "      <td>13525</td>\n",
       "      <td>NaN</td>\n",
       "      <td>다이슨 에어랩</td>\n",
       "      <td>4.0</td>\n",
       "      <td>62.0</td>\n",
       "      <td>unknown</td>\n",
       "      <td>mobile_web</td>\n",
       "      <td>3</td>\n",
       "    </tr>\n",
       "    <tr>\n",
       "      <th>3196358</th>\n",
       "      <td>4129_1</td>\n",
       "      <td>4129</td>\n",
       "      <td>1</td>\n",
       "      <td>2</td>\n",
       "      <td>0</td>\n",
       "      <td>A02</td>\n",
       "      <td>2019-07-21</td>\n",
       "      <td>01:22</td>\n",
       "      <td>250099</td>\n",
       "      <td>NaN</td>\n",
       "      <td>여성메탈시계</td>\n",
       "      <td>3.0</td>\n",
       "      <td>250.0</td>\n",
       "      <td>unknown</td>\n",
       "      <td>mobile_web</td>\n",
       "      <td>6</td>\n",
       "    </tr>\n",
       "    <tr>\n",
       "      <th>3196359</th>\n",
       "      <td>4129_1</td>\n",
       "      <td>4129</td>\n",
       "      <td>1</td>\n",
       "      <td>1</td>\n",
       "      <td>0</td>\n",
       "      <td>A02</td>\n",
       "      <td>2019-07-21</td>\n",
       "      <td>01:18</td>\n",
       "      <td>1525</td>\n",
       "      <td>NaN</td>\n",
       "      <td>여성메탈시계</td>\n",
       "      <td>3.0</td>\n",
       "      <td>250.0</td>\n",
       "      <td>unknown</td>\n",
       "      <td>mobile_web</td>\n",
       "      <td>6</td>\n",
       "    </tr>\n",
       "    <tr>\n",
       "      <th>3196360</th>\n",
       "      <td>54403_3</td>\n",
       "      <td>54403</td>\n",
       "      <td>3</td>\n",
       "      <td>1</td>\n",
       "      <td>0</td>\n",
       "      <td>A02</td>\n",
       "      <td>2019-07-31</td>\n",
       "      <td>20:14</td>\n",
       "      <td>16905</td>\n",
       "      <td>NaN</td>\n",
       "      <td>비비고왕교자</td>\n",
       "      <td>3.0</td>\n",
       "      <td>68.0</td>\n",
       "      <td>unknown</td>\n",
       "      <td>mobile_app</td>\n",
       "      <td>2</td>\n",
       "    </tr>\n",
       "    <tr>\n",
       "      <th>3196361</th>\n",
       "      <td>54403_4</td>\n",
       "      <td>54403</td>\n",
       "      <td>4</td>\n",
       "      <td>1</td>\n",
       "      <td>0</td>\n",
       "      <td>A02</td>\n",
       "      <td>2019-08-18</td>\n",
       "      <td>16:35</td>\n",
       "      <td>82700</td>\n",
       "      <td>NaN</td>\n",
       "      <td>에포테쉬볼륨팝브러쉬</td>\n",
       "      <td>5.0</td>\n",
       "      <td>101.0</td>\n",
       "      <td>unknown</td>\n",
       "      <td>mobile_app</td>\n",
       "      <td>6</td>\n",
       "    </tr>\n",
       "  </tbody>\n",
       "</table>\n",
       "<p>3196362 rows × 16 columns</p>\n",
       "</div>"
      ],
      "text/plain": [
       "        clnt_sess  clnt_id  sess_id  hit_seq  action_type biz_unit    sess_dt  \\\n",
       "0          7809_1     7809        1        8            5      A03 2019-09-13   \n",
       "1          7809_1     7809        1        4            2      A03 2019-09-13   \n",
       "2          7809_1     7809        1       11            5      A03 2019-09-13   \n",
       "3          7809_1     7809        1        1            2      A03 2019-09-13   \n",
       "4          7809_1     7809        1        9            5      A03 2019-09-13   \n",
       "...           ...      ...      ...      ...          ...      ...        ...   \n",
       "3196357   31040_1    31040        1        1            0      A02 2019-08-15   \n",
       "3196358    4129_1     4129        1        2            0      A02 2019-07-21   \n",
       "3196359    4129_1     4129        1        1            0      A02 2019-07-21   \n",
       "3196360   54403_3    54403        3        1            0      A02 2019-07-31   \n",
       "3196361   54403_4    54403        4        1            0      A02 2019-08-18   \n",
       "\n",
       "        hit_tm  hit_pss_tm  trans_id    sech_kwd  tot_pag_view_ct  \\\n",
       "0        01:16     2571103       NaN         NaN             34.0   \n",
       "1        01:14     2485909       NaN         NaN             34.0   \n",
       "2        01:17     2646597       NaN         NaN             34.0   \n",
       "3        00:46      788304       NaN         NaN             34.0   \n",
       "4        01:17     2617609       NaN         NaN             34.0   \n",
       "...        ...         ...       ...         ...              ...   \n",
       "3196357  03:47       13525       NaN     다이슨 에어랩              4.0   \n",
       "3196358  01:22      250099       NaN      여성메탈시계              3.0   \n",
       "3196359  01:18        1525       NaN      여성메탈시계              3.0   \n",
       "3196360  20:14       16905       NaN      비비고왕교자              3.0   \n",
       "3196361  16:35       82700       NaN  에포테쉬볼륨팝브러쉬              5.0   \n",
       "\n",
       "         tot_sess_hr_v trfc_src  dvc_ctg_nm  day  \n",
       "0               2663.0   DIRECT         NaN    4  \n",
       "1               2663.0   DIRECT         NaN    4  \n",
       "2               2663.0   DIRECT         NaN    4  \n",
       "3               2663.0   DIRECT         NaN    4  \n",
       "4               2663.0   DIRECT         NaN    4  \n",
       "...                ...      ...         ...  ...  \n",
       "3196357           62.0  unknown  mobile_web    3  \n",
       "3196358          250.0  unknown  mobile_web    6  \n",
       "3196359          250.0  unknown  mobile_web    6  \n",
       "3196360           68.0  unknown  mobile_app    2  \n",
       "3196361          101.0  unknown  mobile_app    6  \n",
       "\n",
       "[3196362 rows x 16 columns]"
      ]
     },
     "execution_count": 66,
     "metadata": {},
     "output_type": "execute_result"
    }
   ],
   "source": [
    "# 0) 분석 편의성 향상을 위해 clnt_id와 sess_id를 결합한 clnt_sess col 생성\n",
    "raw_data1_Online_Act.insert(0, 'clnt_sess', raw_data1_Online_Act['clnt_id'].astype('str') + '_' + raw_data1_Online_Act['sess_id'].astype('str'))\n",
    "raw_data1_Online_Act"
   ]
  },
  {
   "cell_type": "code",
   "execution_count": 67,
   "metadata": {
    "scrolled": true
   },
   "outputs": [
    {
     "data": {
      "text/plain": [
       "0"
      ]
     },
     "execution_count": 67,
     "metadata": {},
     "output_type": "execute_result"
    }
   ],
   "source": [
    "# 1) trade info table에는 null이 없음\n",
    "raw_data2_Trade_Inform['trans_id'].isna().sum()"
   ]
  },
  {
   "cell_type": "code",
   "execution_count": 68,
   "metadata": {
    "scrolled": true
   },
   "outputs": [
    {
     "data": {
      "text/plain": [
       "3139373"
      ]
     },
     "execution_count": 68,
     "metadata": {},
     "output_type": "execute_result"
    }
   ],
   "source": [
    "# 2) Online Act table에는 null 많음\n",
    "raw_data1_Online_Act.trans_id.isnull().sum()"
   ]
  },
  {
   "cell_type": "code",
   "execution_count": 69,
   "metadata": {},
   "outputs": [
    {
     "name": "stdout",
     "output_type": "stream",
     "text": [
      "0\n",
      "0\n"
     ]
    }
   ],
   "source": [
    "# 3) raw_data2_Trade_Inform에는 buy_am, buy_ct라는 col이 있으며 둘 다 결측치 없음\n",
    "print(raw_data2_Trade_Inform.buy_am.isnull().sum()) \n",
    "print(raw_data2_Trade_Inform.buy_ct.isnull().sum())"
   ]
  },
  {
   "cell_type": "markdown",
   "metadata": {},
   "source": [
    "cf) action_type 의미<br>\n",
    "0:검색 / 1:제품 목록 / 2:제품 세부정보 보기 / 3: 장바구니 제품 추가 / 4:장바구니 제품 삭제 / 5:결제 시도 / 6:구매완료 / 7:구매환불 / 8:결재 옵션"
   ]
  },
  {
   "cell_type": "code",
   "execution_count": 70,
   "metadata": {
    "scrolled": true
   },
   "outputs": [
    {
     "data": {
      "text/plain": [
       "array([0, 1, 2, 3, 4, 5, 6], dtype=int64)"
      ]
     },
     "execution_count": 70,
     "metadata": {},
     "output_type": "execute_result"
    }
   ],
   "source": [
    "# 검색 ~ 결제시도까지의 과정에서는 trans_id가 생성되지 않음\n",
    "np.sort(raw_data1_Online_Act[raw_data1_Online_Act.trans_id.isnull()].action_type.unique())"
   ]
  },
  {
   "cell_type": "code",
   "execution_count": 71,
   "metadata": {},
   "outputs": [
    {
     "data": {
      "text/plain": [
       "array([6, 7], dtype=int64)"
      ]
     },
     "execution_count": 71,
     "metadata": {},
     "output_type": "execute_result"
    }
   ],
   "source": [
    "# action_type = 6, 7 (구매완료, 구매 환불)의 경우에만 trans_id가 생성됨\n",
    "np.sort(raw_data1_Online_Act[raw_data1_Online_Act.trans_id.notnull()].action_type.unique())"
   ]
  },
  {
   "cell_type": "code",
   "execution_count": 72,
   "metadata": {
    "scrolled": true
   },
   "outputs": [
    {
     "data": {
      "text/html": [
       "<div>\n",
       "<style scoped>\n",
       "    .dataframe tbody tr th:only-of-type {\n",
       "        vertical-align: middle;\n",
       "    }\n",
       "\n",
       "    .dataframe tbody tr th {\n",
       "        vertical-align: top;\n",
       "    }\n",
       "\n",
       "    .dataframe thead th {\n",
       "        text-align: right;\n",
       "    }\n",
       "</style>\n",
       "<table border=\"1\" class=\"dataframe\">\n",
       "  <thead>\n",
       "    <tr style=\"text-align: right;\">\n",
       "      <th></th>\n",
       "      <th>clnt_sess</th>\n",
       "      <th>clnt_id</th>\n",
       "      <th>sess_id</th>\n",
       "      <th>hit_seq</th>\n",
       "      <th>action_type</th>\n",
       "      <th>biz_unit</th>\n",
       "      <th>sess_dt</th>\n",
       "      <th>hit_tm</th>\n",
       "      <th>hit_pss_tm</th>\n",
       "      <th>trans_id</th>\n",
       "      <th>sech_kwd</th>\n",
       "      <th>tot_pag_view_ct</th>\n",
       "      <th>tot_sess_hr_v</th>\n",
       "      <th>trfc_src</th>\n",
       "      <th>dvc_ctg_nm</th>\n",
       "      <th>day</th>\n",
       "    </tr>\n",
       "  </thead>\n",
       "  <tbody>\n",
       "    <tr>\n",
       "      <th>2051188</th>\n",
       "      <td>52040_6</td>\n",
       "      <td>52040</td>\n",
       "      <td>6</td>\n",
       "      <td>1</td>\n",
       "      <td>6</td>\n",
       "      <td>A02</td>\n",
       "      <td>2019-08-14</td>\n",
       "      <td>08:27</td>\n",
       "      <td>253</td>\n",
       "      <td>75188.0</td>\n",
       "      <td>NaN</td>\n",
       "      <td>2.0</td>\n",
       "      <td>94.0</td>\n",
       "      <td>unknown</td>\n",
       "      <td>mobile_web</td>\n",
       "      <td>2</td>\n",
       "    </tr>\n",
       "    <tr>\n",
       "      <th>2051187</th>\n",
       "      <td>52040_6</td>\n",
       "      <td>52040</td>\n",
       "      <td>6</td>\n",
       "      <td>2</td>\n",
       "      <td>6</td>\n",
       "      <td>A02</td>\n",
       "      <td>2019-08-14</td>\n",
       "      <td>08:28</td>\n",
       "      <td>94136</td>\n",
       "      <td>NaN</td>\n",
       "      <td>NaN</td>\n",
       "      <td>2.0</td>\n",
       "      <td>94.0</td>\n",
       "      <td>unknown</td>\n",
       "      <td>mobile_web</td>\n",
       "      <td>2</td>\n",
       "    </tr>\n",
       "  </tbody>\n",
       "</table>\n",
       "</div>"
      ],
      "text/plain": [
       "        clnt_sess  clnt_id  sess_id  hit_seq  action_type biz_unit    sess_dt  \\\n",
       "2051188   52040_6    52040        6        1            6      A02 2019-08-14   \n",
       "2051187   52040_6    52040        6        2            6      A02 2019-08-14   \n",
       "\n",
       "        hit_tm  hit_pss_tm  trans_id sech_kwd  tot_pag_view_ct  tot_sess_hr_v  \\\n",
       "2051188  08:27         253   75188.0      NaN              2.0           94.0   \n",
       "2051187  08:28       94136       NaN      NaN              2.0           94.0   \n",
       "\n",
       "        trfc_src  dvc_ctg_nm  day  \n",
       "2051188  unknown  mobile_web    2  \n",
       "2051187  unknown  mobile_web    2  "
      ]
     },
     "execution_count": 72,
     "metadata": {},
     "output_type": "execute_result"
    }
   ],
   "source": [
    "# 해당 데이터를 살펴보면 실제로 raw_data1_Online_Act 테이블에서 action_type=6, 7인 경우 trans_id에서 생성되고 있음을 확인 가능\n",
    "raw_data1_Online_Act[(raw_data1_Online_Act['clnt_sess']=='52040_6')&\n",
    "                    (raw_data1_Online_Act['action_type']==6)].sort_values(by='hit_seq')[:50]"
   ]
  },
  {
   "cell_type": "markdown",
   "metadata": {},
   "source": [
    "<br><br><br>"
   ]
  },
  {
   "cell_type": "markdown",
   "metadata": {},
   "source": [
    "### 2-3. trans_seq : 구매 내역 내 구매 순서를 알 수 있도록 한 일련번호"
   ]
  },
  {
   "cell_type": "markdown",
   "metadata": {},
   "source": [
    " * 거래정보데이터 내 구매일련번호의 종류는 몇 개나 있는가?? => 105개"
   ]
  },
  {
   "cell_type": "code",
   "execution_count": 73,
   "metadata": {},
   "outputs": [
    {
     "data": {
      "text/plain": [
       "105"
      ]
     },
     "execution_count": 73,
     "metadata": {},
     "output_type": "execute_result"
    }
   ],
   "source": [
    "raw_data2_Trade_Inform['trans_seq'].nunique()"
   ]
  },
  {
   "cell_type": "markdown",
   "metadata": {},
   "source": [
    " * 구매일련번호 별 거래정보데이터는 몇 건이 있는지? => 최대 11만건 , 최소 1건 "
   ]
  },
  {
   "cell_type": "code",
   "execution_count": 74,
   "metadata": {},
   "outputs": [
    {
     "data": {
      "text/plain": [
       "1      116440\n",
       "2       80693\n",
       "3       66071\n",
       "4       56049\n",
       "5       48138\n",
       "        ...  \n",
       "102         1\n",
       "103         1\n",
       "104         1\n",
       "101         1\n",
       "105         1\n",
       "Name: trans_seq, Length: 105, dtype: int64"
      ]
     },
     "execution_count": 74,
     "metadata": {},
     "output_type": "execute_result"
    }
   ],
   "source": [
    "raw_data2_Trade_Inform['trans_seq'].value_counts()"
   ]
  },
  {
   "cell_type": "markdown",
   "metadata": {},
   "source": [
    " * 결측치 갯수 확인 => 없음"
   ]
  },
  {
   "cell_type": "code",
   "execution_count": 75,
   "metadata": {
    "scrolled": true
   },
   "outputs": [
    {
     "data": {
      "text/plain": [
       "0"
      ]
     },
     "execution_count": 75,
     "metadata": {},
     "output_type": "execute_result"
    }
   ],
   "source": [
    "raw_data2_Trade_Inform['trans_seq'].isna().sum()"
   ]
  },
  {
   "cell_type": "markdown",
   "metadata": {},
   "source": [
    "<br><br><br> \n",
    "##### HM) trans_id : '순서'의 개념 보다는 동일 trans_id 내에서 서로 다른 상품을 '구분'하는 역할\n",
    "#### 즉, clnt_id, trans_id, trans_seq가 Trade_Inform table의 Primary Key가 됨"
   ]
  },
  {
   "cell_type": "code",
   "execution_count": 76,
   "metadata": {},
   "outputs": [
    {
     "data": {
      "text/html": [
       "<div>\n",
       "<style scoped>\n",
       "    .dataframe tbody tr th:only-of-type {\n",
       "        vertical-align: middle;\n",
       "    }\n",
       "\n",
       "    .dataframe tbody tr th {\n",
       "        vertical-align: top;\n",
       "    }\n",
       "\n",
       "    .dataframe thead th {\n",
       "        text-align: right;\n",
       "    }\n",
       "</style>\n",
       "<table border=\"1\" class=\"dataframe\">\n",
       "  <thead>\n",
       "    <tr style=\"text-align: right;\">\n",
       "      <th></th>\n",
       "      <th>clnt_id</th>\n",
       "      <th>trans_id</th>\n",
       "      <th>trans_seq</th>\n",
       "      <th>biz_unit</th>\n",
       "      <th>pd_c</th>\n",
       "      <th>de_dt</th>\n",
       "      <th>de_tm</th>\n",
       "      <th>buy_am</th>\n",
       "      <th>buy_ct</th>\n",
       "    </tr>\n",
       "  </thead>\n",
       "  <tbody>\n",
       "    <tr>\n",
       "      <th>478521</th>\n",
       "      <td>47617</td>\n",
       "      <td>1</td>\n",
       "      <td>4</td>\n",
       "      <td>B01</td>\n",
       "      <td>1447</td>\n",
       "      <td>20190702</td>\n",
       "      <td>21:19</td>\n",
       "      <td>5490</td>\n",
       "      <td>1</td>\n",
       "    </tr>\n",
       "    <tr>\n",
       "      <th>478506</th>\n",
       "      <td>47617</td>\n",
       "      <td>1</td>\n",
       "      <td>8</td>\n",
       "      <td>B01</td>\n",
       "      <td>unknown</td>\n",
       "      <td>20190702</td>\n",
       "      <td>21:19</td>\n",
       "      <td>1800</td>\n",
       "      <td>3</td>\n",
       "    </tr>\n",
       "    <tr>\n",
       "      <th>478540</th>\n",
       "      <td>47617</td>\n",
       "      <td>1</td>\n",
       "      <td>6</td>\n",
       "      <td>B01</td>\n",
       "      <td>0388</td>\n",
       "      <td>20190702</td>\n",
       "      <td>21:19</td>\n",
       "      <td>10480</td>\n",
       "      <td>1</td>\n",
       "    </tr>\n",
       "    <tr>\n",
       "      <th>478503</th>\n",
       "      <td>47617</td>\n",
       "      <td>1</td>\n",
       "      <td>3</td>\n",
       "      <td>B01</td>\n",
       "      <td>0894</td>\n",
       "      <td>20190702</td>\n",
       "      <td>21:19</td>\n",
       "      <td>25900</td>\n",
       "      <td>1</td>\n",
       "    </tr>\n",
       "    <tr>\n",
       "      <th>478557</th>\n",
       "      <td>47617</td>\n",
       "      <td>1</td>\n",
       "      <td>7</td>\n",
       "      <td>B01</td>\n",
       "      <td>unknown</td>\n",
       "      <td>20190702</td>\n",
       "      <td>21:19</td>\n",
       "      <td>12000</td>\n",
       "      <td>1</td>\n",
       "    </tr>\n",
       "    <tr>\n",
       "      <th>478543</th>\n",
       "      <td>47617</td>\n",
       "      <td>1</td>\n",
       "      <td>5</td>\n",
       "      <td>B01</td>\n",
       "      <td>1529</td>\n",
       "      <td>20190702</td>\n",
       "      <td>21:19</td>\n",
       "      <td>5900</td>\n",
       "      <td>1</td>\n",
       "    </tr>\n",
       "    <tr>\n",
       "      <th>478560</th>\n",
       "      <td>47617</td>\n",
       "      <td>1</td>\n",
       "      <td>1</td>\n",
       "      <td>B01</td>\n",
       "      <td>0897</td>\n",
       "      <td>20190702</td>\n",
       "      <td>21:19</td>\n",
       "      <td>20640</td>\n",
       "      <td>3</td>\n",
       "    </tr>\n",
       "    <tr>\n",
       "      <th>478549</th>\n",
       "      <td>47617</td>\n",
       "      <td>2</td>\n",
       "      <td>7</td>\n",
       "      <td>B01</td>\n",
       "      <td>0894</td>\n",
       "      <td>20190702</td>\n",
       "      <td>21:20</td>\n",
       "      <td>17800</td>\n",
       "      <td>2</td>\n",
       "    </tr>\n",
       "    <tr>\n",
       "      <th>478517</th>\n",
       "      <td>47617</td>\n",
       "      <td>2</td>\n",
       "      <td>1</td>\n",
       "      <td>B01</td>\n",
       "      <td>1447</td>\n",
       "      <td>20190702</td>\n",
       "      <td>21:20</td>\n",
       "      <td>5990</td>\n",
       "      <td>1</td>\n",
       "    </tr>\n",
       "    <tr>\n",
       "      <th>478516</th>\n",
       "      <td>47617</td>\n",
       "      <td>2</td>\n",
       "      <td>5</td>\n",
       "      <td>B01</td>\n",
       "      <td>0894</td>\n",
       "      <td>20190702</td>\n",
       "      <td>21:20</td>\n",
       "      <td>16980</td>\n",
       "      <td>1</td>\n",
       "    </tr>\n",
       "    <tr>\n",
       "      <th>478501</th>\n",
       "      <td>47617</td>\n",
       "      <td>2</td>\n",
       "      <td>2</td>\n",
       "      <td>B01</td>\n",
       "      <td>0542</td>\n",
       "      <td>20190702</td>\n",
       "      <td>21:20</td>\n",
       "      <td>7980</td>\n",
       "      <td>1</td>\n",
       "    </tr>\n",
       "    <tr>\n",
       "      <th>478538</th>\n",
       "      <td>47617</td>\n",
       "      <td>2</td>\n",
       "      <td>3</td>\n",
       "      <td>B01</td>\n",
       "      <td>0958</td>\n",
       "      <td>20190702</td>\n",
       "      <td>21:20</td>\n",
       "      <td>10289</td>\n",
       "      <td>0</td>\n",
       "    </tr>\n",
       "    <tr>\n",
       "      <th>478475</th>\n",
       "      <td>47617</td>\n",
       "      <td>2</td>\n",
       "      <td>4</td>\n",
       "      <td>B01</td>\n",
       "      <td>0111</td>\n",
       "      <td>20190702</td>\n",
       "      <td>21:20</td>\n",
       "      <td>2960</td>\n",
       "      <td>2</td>\n",
       "    </tr>\n",
       "    <tr>\n",
       "      <th>478545</th>\n",
       "      <td>17826</td>\n",
       "      <td>3</td>\n",
       "      <td>3</td>\n",
       "      <td>B01</td>\n",
       "      <td>0526</td>\n",
       "      <td>20190702</td>\n",
       "      <td>19:39</td>\n",
       "      <td>7490</td>\n",
       "      <td>1</td>\n",
       "    </tr>\n",
       "    <tr>\n",
       "      <th>478531</th>\n",
       "      <td>17826</td>\n",
       "      <td>3</td>\n",
       "      <td>1</td>\n",
       "      <td>B01</td>\n",
       "      <td>0352</td>\n",
       "      <td>20190702</td>\n",
       "      <td>19:39</td>\n",
       "      <td>3490</td>\n",
       "      <td>1</td>\n",
       "    </tr>\n",
       "    <tr>\n",
       "      <th>478499</th>\n",
       "      <td>17826</td>\n",
       "      <td>3</td>\n",
       "      <td>7</td>\n",
       "      <td>B01</td>\n",
       "      <td>unknown</td>\n",
       "      <td>20190702</td>\n",
       "      <td>19:39</td>\n",
       "      <td>9990</td>\n",
       "      <td>1</td>\n",
       "    </tr>\n",
       "    <tr>\n",
       "      <th>478489</th>\n",
       "      <td>17826</td>\n",
       "      <td>3</td>\n",
       "      <td>9</td>\n",
       "      <td>B01</td>\n",
       "      <td>0198</td>\n",
       "      <td>20190702</td>\n",
       "      <td>19:39</td>\n",
       "      <td>3990</td>\n",
       "      <td>1</td>\n",
       "    </tr>\n",
       "    <tr>\n",
       "      <th>478533</th>\n",
       "      <td>17826</td>\n",
       "      <td>3</td>\n",
       "      <td>5</td>\n",
       "      <td>B01</td>\n",
       "      <td>0405</td>\n",
       "      <td>20190702</td>\n",
       "      <td>19:39</td>\n",
       "      <td>5980</td>\n",
       "      <td>1</td>\n",
       "    </tr>\n",
       "    <tr>\n",
       "      <th>478468</th>\n",
       "      <td>17826</td>\n",
       "      <td>3</td>\n",
       "      <td>6</td>\n",
       "      <td>B01</td>\n",
       "      <td>0191</td>\n",
       "      <td>20190702</td>\n",
       "      <td>19:39</td>\n",
       "      <td>9990</td>\n",
       "      <td>1</td>\n",
       "    </tr>\n",
       "    <tr>\n",
       "      <th>478546</th>\n",
       "      <td>17826</td>\n",
       "      <td>3</td>\n",
       "      <td>8</td>\n",
       "      <td>B01</td>\n",
       "      <td>0542</td>\n",
       "      <td>20190702</td>\n",
       "      <td>19:39</td>\n",
       "      <td>7980</td>\n",
       "      <td>1</td>\n",
       "    </tr>\n",
       "    <tr>\n",
       "      <th>478488</th>\n",
       "      <td>17826</td>\n",
       "      <td>3</td>\n",
       "      <td>4</td>\n",
       "      <td>B01</td>\n",
       "      <td>0388</td>\n",
       "      <td>20190702</td>\n",
       "      <td>19:39</td>\n",
       "      <td>8580</td>\n",
       "      <td>1</td>\n",
       "    </tr>\n",
       "    <tr>\n",
       "      <th>260087</th>\n",
       "      <td>47617</td>\n",
       "      <td>4</td>\n",
       "      <td>1</td>\n",
       "      <td>B01</td>\n",
       "      <td>0548</td>\n",
       "      <td>20190703</td>\n",
       "      <td>21:03</td>\n",
       "      <td>13980</td>\n",
       "      <td>1</td>\n",
       "    </tr>\n",
       "    <tr>\n",
       "      <th>259914</th>\n",
       "      <td>47617</td>\n",
       "      <td>5</td>\n",
       "      <td>1</td>\n",
       "      <td>B01</td>\n",
       "      <td>0897</td>\n",
       "      <td>20190703</td>\n",
       "      <td>20:43</td>\n",
       "      <td>20640</td>\n",
       "      <td>3</td>\n",
       "    </tr>\n",
       "    <tr>\n",
       "      <th>259917</th>\n",
       "      <td>47617</td>\n",
       "      <td>5</td>\n",
       "      <td>5</td>\n",
       "      <td>B01</td>\n",
       "      <td>0388</td>\n",
       "      <td>20190703</td>\n",
       "      <td>20:43</td>\n",
       "      <td>10480</td>\n",
       "      <td>1</td>\n",
       "    </tr>\n",
       "    <tr>\n",
       "      <th>301291</th>\n",
       "      <td>47617</td>\n",
       "      <td>5</td>\n",
       "      <td>3</td>\n",
       "      <td>B01</td>\n",
       "      <td>1447</td>\n",
       "      <td>20190703</td>\n",
       "      <td>20:43</td>\n",
       "      <td>5490</td>\n",
       "      <td>1</td>\n",
       "    </tr>\n",
       "    <tr>\n",
       "      <th>301527</th>\n",
       "      <td>47617</td>\n",
       "      <td>5</td>\n",
       "      <td>4</td>\n",
       "      <td>B01</td>\n",
       "      <td>1529</td>\n",
       "      <td>20190703</td>\n",
       "      <td>20:43</td>\n",
       "      <td>5900</td>\n",
       "      <td>1</td>\n",
       "    </tr>\n",
       "    <tr>\n",
       "      <th>330002</th>\n",
       "      <td>47617</td>\n",
       "      <td>5</td>\n",
       "      <td>2</td>\n",
       "      <td>B01</td>\n",
       "      <td>0894</td>\n",
       "      <td>20190703</td>\n",
       "      <td>20:43</td>\n",
       "      <td>25900</td>\n",
       "      <td>1</td>\n",
       "    </tr>\n",
       "    <tr>\n",
       "      <th>301304</th>\n",
       "      <td>47617</td>\n",
       "      <td>5</td>\n",
       "      <td>6</td>\n",
       "      <td>B01</td>\n",
       "      <td>unknown</td>\n",
       "      <td>20190703</td>\n",
       "      <td>20:43</td>\n",
       "      <td>12000</td>\n",
       "      <td>1</td>\n",
       "    </tr>\n",
       "    <tr>\n",
       "      <th>515996</th>\n",
       "      <td>69635</td>\n",
       "      <td>7</td>\n",
       "      <td>1</td>\n",
       "      <td>B01</td>\n",
       "      <td>0961</td>\n",
       "      <td>20190704</td>\n",
       "      <td>12:23</td>\n",
       "      <td>11289</td>\n",
       "      <td>1</td>\n",
       "    </tr>\n",
       "    <tr>\n",
       "      <th>515749</th>\n",
       "      <td>69635</td>\n",
       "      <td>7</td>\n",
       "      <td>5</td>\n",
       "      <td>B01</td>\n",
       "      <td>1015</td>\n",
       "      <td>20190704</td>\n",
       "      <td>12:23</td>\n",
       "      <td>9900</td>\n",
       "      <td>1</td>\n",
       "    </tr>\n",
       "    <tr>\n",
       "      <th>515819</th>\n",
       "      <td>69635</td>\n",
       "      <td>7</td>\n",
       "      <td>2</td>\n",
       "      <td>B01</td>\n",
       "      <td>0951</td>\n",
       "      <td>20190704</td>\n",
       "      <td>12:23</td>\n",
       "      <td>20948</td>\n",
       "      <td>1</td>\n",
       "    </tr>\n",
       "    <tr>\n",
       "      <th>212824</th>\n",
       "      <td>69635</td>\n",
       "      <td>7</td>\n",
       "      <td>3</td>\n",
       "      <td>B01</td>\n",
       "      <td>1213</td>\n",
       "      <td>20190704</td>\n",
       "      <td>12:23</td>\n",
       "      <td>4980</td>\n",
       "      <td>1</td>\n",
       "    </tr>\n",
       "    <tr>\n",
       "      <th>498714</th>\n",
       "      <td>17826</td>\n",
       "      <td>9</td>\n",
       "      <td>2</td>\n",
       "      <td>B01</td>\n",
       "      <td>unknown</td>\n",
       "      <td>20190704</td>\n",
       "      <td>17:11</td>\n",
       "      <td>4500</td>\n",
       "      <td>1</td>\n",
       "    </tr>\n",
       "    <tr>\n",
       "      <th>498754</th>\n",
       "      <td>17826</td>\n",
       "      <td>9</td>\n",
       "      <td>1</td>\n",
       "      <td>B01</td>\n",
       "      <td>unknown</td>\n",
       "      <td>20190704</td>\n",
       "      <td>17:11</td>\n",
       "      <td>3000</td>\n",
       "      <td>1</td>\n",
       "    </tr>\n",
       "    <tr>\n",
       "      <th>217295</th>\n",
       "      <td>17826</td>\n",
       "      <td>10</td>\n",
       "      <td>5</td>\n",
       "      <td>B01</td>\n",
       "      <td>0182</td>\n",
       "      <td>20190705</td>\n",
       "      <td>20:35</td>\n",
       "      <td>12790</td>\n",
       "      <td>1</td>\n",
       "    </tr>\n",
       "    <tr>\n",
       "      <th>275715</th>\n",
       "      <td>17826</td>\n",
       "      <td>10</td>\n",
       "      <td>6</td>\n",
       "      <td>B01</td>\n",
       "      <td>0192</td>\n",
       "      <td>20190705</td>\n",
       "      <td>20:35</td>\n",
       "      <td>4990</td>\n",
       "      <td>1</td>\n",
       "    </tr>\n",
       "    <tr>\n",
       "      <th>280171</th>\n",
       "      <td>17826</td>\n",
       "      <td>10</td>\n",
       "      <td>10</td>\n",
       "      <td>B01</td>\n",
       "      <td>0946</td>\n",
       "      <td>20190705</td>\n",
       "      <td>20:35</td>\n",
       "      <td>26499</td>\n",
       "      <td>0</td>\n",
       "    </tr>\n",
       "    <tr>\n",
       "      <th>280028</th>\n",
       "      <td>17826</td>\n",
       "      <td>10</td>\n",
       "      <td>4</td>\n",
       "      <td>B01</td>\n",
       "      <td>0542</td>\n",
       "      <td>20190705</td>\n",
       "      <td>20:35</td>\n",
       "      <td>7980</td>\n",
       "      <td>1</td>\n",
       "    </tr>\n",
       "    <tr>\n",
       "      <th>275993</th>\n",
       "      <td>17826</td>\n",
       "      <td>10</td>\n",
       "      <td>1</td>\n",
       "      <td>B01</td>\n",
       "      <td>0540</td>\n",
       "      <td>20190705</td>\n",
       "      <td>20:35</td>\n",
       "      <td>5980</td>\n",
       "      <td>1</td>\n",
       "    </tr>\n",
       "    <tr>\n",
       "      <th>275994</th>\n",
       "      <td>17826</td>\n",
       "      <td>10</td>\n",
       "      <td>11</td>\n",
       "      <td>B01</td>\n",
       "      <td>0990</td>\n",
       "      <td>20190705</td>\n",
       "      <td>20:35</td>\n",
       "      <td>19980</td>\n",
       "      <td>1</td>\n",
       "    </tr>\n",
       "    <tr>\n",
       "      <th>280090</th>\n",
       "      <td>17826</td>\n",
       "      <td>10</td>\n",
       "      <td>3</td>\n",
       "      <td>B01</td>\n",
       "      <td>1383</td>\n",
       "      <td>20190705</td>\n",
       "      <td>20:35</td>\n",
       "      <td>9690</td>\n",
       "      <td>1</td>\n",
       "    </tr>\n",
       "    <tr>\n",
       "      <th>280030</th>\n",
       "      <td>17826</td>\n",
       "      <td>10</td>\n",
       "      <td>9</td>\n",
       "      <td>B01</td>\n",
       "      <td>0395</td>\n",
       "      <td>20190705</td>\n",
       "      <td>20:35</td>\n",
       "      <td>18980</td>\n",
       "      <td>1</td>\n",
       "    </tr>\n",
       "    <tr>\n",
       "      <th>280087</th>\n",
       "      <td>17826</td>\n",
       "      <td>10</td>\n",
       "      <td>8</td>\n",
       "      <td>B01</td>\n",
       "      <td>0938</td>\n",
       "      <td>20190705</td>\n",
       "      <td>20:35</td>\n",
       "      <td>7980</td>\n",
       "      <td>1</td>\n",
       "    </tr>\n",
       "    <tr>\n",
       "      <th>279958</th>\n",
       "      <td>17826</td>\n",
       "      <td>10</td>\n",
       "      <td>7</td>\n",
       "      <td>B01</td>\n",
       "      <td>1216</td>\n",
       "      <td>20190705</td>\n",
       "      <td>20:35</td>\n",
       "      <td>4990</td>\n",
       "      <td>1</td>\n",
       "    </tr>\n",
       "    <tr>\n",
       "      <th>319910</th>\n",
       "      <td>71702</td>\n",
       "      <td>12</td>\n",
       "      <td>2</td>\n",
       "      <td>B01</td>\n",
       "      <td>0182</td>\n",
       "      <td>20190706</td>\n",
       "      <td>20:28</td>\n",
       "      <td>17960</td>\n",
       "      <td>2</td>\n",
       "    </tr>\n",
       "    <tr>\n",
       "      <th>203524</th>\n",
       "      <td>71702</td>\n",
       "      <td>12</td>\n",
       "      <td>7</td>\n",
       "      <td>B01</td>\n",
       "      <td>0182</td>\n",
       "      <td>20190706</td>\n",
       "      <td>20:28</td>\n",
       "      <td>17690</td>\n",
       "      <td>1</td>\n",
       "    </tr>\n",
       "    <tr>\n",
       "      <th>203523</th>\n",
       "      <td>71702</td>\n",
       "      <td>12</td>\n",
       "      <td>12</td>\n",
       "      <td>B01</td>\n",
       "      <td>0797</td>\n",
       "      <td>20190706</td>\n",
       "      <td>20:28</td>\n",
       "      <td>24900</td>\n",
       "      <td>1</td>\n",
       "    </tr>\n",
       "    <tr>\n",
       "      <th>203520</th>\n",
       "      <td>71702</td>\n",
       "      <td>12</td>\n",
       "      <td>9</td>\n",
       "      <td>B01</td>\n",
       "      <td>0410</td>\n",
       "      <td>20190706</td>\n",
       "      <td>20:28</td>\n",
       "      <td>6380</td>\n",
       "      <td>1</td>\n",
       "    </tr>\n",
       "    <tr>\n",
       "      <th>203478</th>\n",
       "      <td>71702</td>\n",
       "      <td>12</td>\n",
       "      <td>14</td>\n",
       "      <td>B01</td>\n",
       "      <td>1393</td>\n",
       "      <td>20190706</td>\n",
       "      <td>20:28</td>\n",
       "      <td>7980</td>\n",
       "      <td>1</td>\n",
       "    </tr>\n",
       "    <tr>\n",
       "      <th>203477</th>\n",
       "      <td>71702</td>\n",
       "      <td>12</td>\n",
       "      <td>4</td>\n",
       "      <td>B01</td>\n",
       "      <td>0194</td>\n",
       "      <td>20190706</td>\n",
       "      <td>20:28</td>\n",
       "      <td>8980</td>\n",
       "      <td>1</td>\n",
       "    </tr>\n",
       "  </tbody>\n",
       "</table>\n",
       "</div>"
      ],
      "text/plain": [
       "        clnt_id  trans_id  trans_seq biz_unit     pd_c     de_dt  de_tm  \\\n",
       "478521    47617         1          4      B01     1447  20190702  21:19   \n",
       "478506    47617         1          8      B01  unknown  20190702  21:19   \n",
       "478540    47617         1          6      B01     0388  20190702  21:19   \n",
       "478503    47617         1          3      B01     0894  20190702  21:19   \n",
       "478557    47617         1          7      B01  unknown  20190702  21:19   \n",
       "478543    47617         1          5      B01     1529  20190702  21:19   \n",
       "478560    47617         1          1      B01     0897  20190702  21:19   \n",
       "478549    47617         2          7      B01     0894  20190702  21:20   \n",
       "478517    47617         2          1      B01     1447  20190702  21:20   \n",
       "478516    47617         2          5      B01     0894  20190702  21:20   \n",
       "478501    47617         2          2      B01     0542  20190702  21:20   \n",
       "478538    47617         2          3      B01     0958  20190702  21:20   \n",
       "478475    47617         2          4      B01     0111  20190702  21:20   \n",
       "478545    17826         3          3      B01     0526  20190702  19:39   \n",
       "478531    17826         3          1      B01     0352  20190702  19:39   \n",
       "478499    17826         3          7      B01  unknown  20190702  19:39   \n",
       "478489    17826         3          9      B01     0198  20190702  19:39   \n",
       "478533    17826         3          5      B01     0405  20190702  19:39   \n",
       "478468    17826         3          6      B01     0191  20190702  19:39   \n",
       "478546    17826         3          8      B01     0542  20190702  19:39   \n",
       "478488    17826         3          4      B01     0388  20190702  19:39   \n",
       "260087    47617         4          1      B01     0548  20190703  21:03   \n",
       "259914    47617         5          1      B01     0897  20190703  20:43   \n",
       "259917    47617         5          5      B01     0388  20190703  20:43   \n",
       "301291    47617         5          3      B01     1447  20190703  20:43   \n",
       "301527    47617         5          4      B01     1529  20190703  20:43   \n",
       "330002    47617         5          2      B01     0894  20190703  20:43   \n",
       "301304    47617         5          6      B01  unknown  20190703  20:43   \n",
       "515996    69635         7          1      B01     0961  20190704  12:23   \n",
       "515749    69635         7          5      B01     1015  20190704  12:23   \n",
       "515819    69635         7          2      B01     0951  20190704  12:23   \n",
       "212824    69635         7          3      B01     1213  20190704  12:23   \n",
       "498714    17826         9          2      B01  unknown  20190704  17:11   \n",
       "498754    17826         9          1      B01  unknown  20190704  17:11   \n",
       "217295    17826        10          5      B01     0182  20190705  20:35   \n",
       "275715    17826        10          6      B01     0192  20190705  20:35   \n",
       "280171    17826        10         10      B01     0946  20190705  20:35   \n",
       "280028    17826        10          4      B01     0542  20190705  20:35   \n",
       "275993    17826        10          1      B01     0540  20190705  20:35   \n",
       "275994    17826        10         11      B01     0990  20190705  20:35   \n",
       "280090    17826        10          3      B01     1383  20190705  20:35   \n",
       "280030    17826        10          9      B01     0395  20190705  20:35   \n",
       "280087    17826        10          8      B01     0938  20190705  20:35   \n",
       "279958    17826        10          7      B01     1216  20190705  20:35   \n",
       "319910    71702        12          2      B01     0182  20190706  20:28   \n",
       "203524    71702        12          7      B01     0182  20190706  20:28   \n",
       "203523    71702        12         12      B01     0797  20190706  20:28   \n",
       "203520    71702        12          9      B01     0410  20190706  20:28   \n",
       "203478    71702        12         14      B01     1393  20190706  20:28   \n",
       "203477    71702        12          4      B01     0194  20190706  20:28   \n",
       "\n",
       "        buy_am  buy_ct  \n",
       "478521    5490       1  \n",
       "478506    1800       3  \n",
       "478540   10480       1  \n",
       "478503   25900       1  \n",
       "478557   12000       1  \n",
       "478543    5900       1  \n",
       "478560   20640       3  \n",
       "478549   17800       2  \n",
       "478517    5990       1  \n",
       "478516   16980       1  \n",
       "478501    7980       1  \n",
       "478538   10289       0  \n",
       "478475    2960       2  \n",
       "478545    7490       1  \n",
       "478531    3490       1  \n",
       "478499    9990       1  \n",
       "478489    3990       1  \n",
       "478533    5980       1  \n",
       "478468    9990       1  \n",
       "478546    7980       1  \n",
       "478488    8580       1  \n",
       "260087   13980       1  \n",
       "259914   20640       3  \n",
       "259917   10480       1  \n",
       "301291    5490       1  \n",
       "301527    5900       1  \n",
       "330002   25900       1  \n",
       "301304   12000       1  \n",
       "515996   11289       1  \n",
       "515749    9900       1  \n",
       "515819   20948       1  \n",
       "212824    4980       1  \n",
       "498714    4500       1  \n",
       "498754    3000       1  \n",
       "217295   12790       1  \n",
       "275715    4990       1  \n",
       "280171   26499       0  \n",
       "280028    7980       1  \n",
       "275993    5980       1  \n",
       "275994   19980       1  \n",
       "280090    9690       1  \n",
       "280030   18980       1  \n",
       "280087    7980       1  \n",
       "279958    4990       1  \n",
       "319910   17960       2  \n",
       "203524   17690       1  \n",
       "203523   24900       1  \n",
       "203520    6380       1  \n",
       "203478    7980       1  \n",
       "203477    8980       1  "
      ]
     },
     "execution_count": 76,
     "metadata": {},
     "output_type": "execute_result"
    }
   ],
   "source": [
    "raw_data2_Trade_Inform[raw_data2_Trade_Inform.duplicated(['trans_id'])].sort_values(by='trans_id')[:50]"
   ]
  },
  {
   "cell_type": "markdown",
   "metadata": {},
   "source": [
    "<br><br><br>"
   ]
  },
  {
   "cell_type": "markdown",
   "metadata": {},
   "source": [
    "### 2-4. biz_unit(업종단위) : 온라인 및 오프라인 이용코드\n",
    "\n",
    " * 1-5. biz_unit 데이터와 의미 동일"
   ]
  },
  {
   "cell_type": "markdown",
   "metadata": {},
   "source": [
    " * 거래정보데이터 내 업종단위의 종류는 몇 개나 있는가?? => 6개\n",
    "     * 1. 온라인 행동 데이터 내 업종단위 갯수 : 3개 (A01, A02, A03)\n",
    "     * 2. 거래 정보 데이터 내 업종단위 갯수 : 6개 (A01, A02, A03, B01, B02, B03)"
   ]
  },
  {
   "cell_type": "code",
   "execution_count": 77,
   "metadata": {},
   "outputs": [
    {
     "data": {
      "text/plain": [
       "6"
      ]
     },
     "execution_count": 77,
     "metadata": {},
     "output_type": "execute_result"
    }
   ],
   "source": [
    "raw_data2_Trade_Inform['biz_unit'].nunique()"
   ]
  },
  {
   "cell_type": "markdown",
   "metadata": {},
   "source": [
    " * 업종단위 별 거래정보데이터는 몇 건이 있는지? => 최대 20만건 , 최소 3000건 "
   ]
  },
  {
   "cell_type": "code",
   "execution_count": 78,
   "metadata": {},
   "outputs": [
    {
     "data": {
      "text/plain": [
       "A03    201982\n",
       "B01    200781\n",
       "B02    168803\n",
       "A02     19850\n",
       "A01      5126\n",
       "B03      3419\n",
       "Name: biz_unit, dtype: int64"
      ]
     },
     "execution_count": 78,
     "metadata": {},
     "output_type": "execute_result"
    }
   ],
   "source": [
    "raw_data2_Trade_Inform['biz_unit'].value_counts()"
   ]
  },
  {
   "cell_type": "markdown",
   "metadata": {},
   "source": [
    " * 결측치 갯수 확인 => 없음"
   ]
  },
  {
   "cell_type": "code",
   "execution_count": 79,
   "metadata": {},
   "outputs": [
    {
     "data": {
      "text/plain": [
       "0"
      ]
     },
     "execution_count": 79,
     "metadata": {},
     "output_type": "execute_result"
    }
   ],
   "source": [
    "raw_data2_Trade_Inform['biz_unit'].isna().sum()"
   ]
  },
  {
   "cell_type": "markdown",
   "metadata": {},
   "source": [
    "### 2-5. pd_c : 상품의 소분류 코드\n",
    "\n",
    " * 4-1. pd_c 데이터와 의미 동일"
   ]
  },
  {
   "cell_type": "markdown",
   "metadata": {},
   "source": [
    " * 거래정보데이터 내 소분류 코드의 종류는 몇 개나 있는가?? => 1668개\n",
    "     * 2. 거래 정보 데이터 내 소분류 갯수 : 1668개\n",
    "     * 4. 상품 대중소 분류 데이터 내 소분류 갯수 : 1667개\n",
    "     * 1개 차이는 'unknown' 유무로 예상"
   ]
  },
  {
   "cell_type": "code",
   "execution_count": 80,
   "metadata": {},
   "outputs": [
    {
     "data": {
      "text/plain": [
       "1668"
      ]
     },
     "execution_count": 80,
     "metadata": {},
     "output_type": "execute_result"
    }
   ],
   "source": [
    "raw_data2_Trade_Inform['pd_c'].nunique()"
   ]
  },
  {
   "cell_type": "markdown",
   "metadata": {},
   "source": [
    " * 소분류코드 별 거래정보데이터는 몇 건이 있는지? => 최대 1.5만건 , 최소 1건 "
   ]
  },
  {
   "cell_type": "code",
   "execution_count": 81,
   "metadata": {},
   "outputs": [
    {
     "data": {
      "text/plain": [
       "unknown    17652\n",
       "1213       15518\n",
       "0347       12914\n",
       "0964       11115\n",
       "1395       11083\n",
       "           ...  \n",
       "0144           1\n",
       "0512           1\n",
       "0973           1\n",
       "0060           1\n",
       "0741           1\n",
       "Name: pd_c, Length: 1668, dtype: int64"
      ]
     },
     "execution_count": 81,
     "metadata": {},
     "output_type": "execute_result"
    }
   ],
   "source": [
    "raw_data2_Trade_Inform['pd_c'].value_counts()"
   ]
  },
  {
   "cell_type": "markdown",
   "metadata": {},
   "source": [
    " * 결측치 갯수 확인 => 17652개 (unknown)"
   ]
  },
  {
   "cell_type": "markdown",
   "metadata": {},
   "source": [
    "### 2-6. de_dt : 구매일자(년월일)"
   ]
  },
  {
   "cell_type": "markdown",
   "metadata": {},
   "source": [
    " * 구매 일자는 몇 개나 있는가?? => 92개\n",
    "     * 3달치 데이터가 날짜마다 있을 것을 예상됨\n",
    "         * 7,8,9월 일자 = 31 + 31 + 30 = 92\n",
    "         \n",
    " * 1. 온라인 행동 정보 데이터 내 '1-6. sess_dt 세션일자'와 연관 지을수 있음"
   ]
  },
  {
   "cell_type": "code",
   "execution_count": 82,
   "metadata": {},
   "outputs": [
    {
     "data": {
      "text/plain": [
       "92"
      ]
     },
     "execution_count": 82,
     "metadata": {},
     "output_type": "execute_result"
    }
   ],
   "source": [
    "raw_data2_Trade_Inform['de_dt'].nunique()"
   ]
  },
  {
   "cell_type": "markdown",
   "metadata": {},
   "source": [
    " * 구매일자 별 거래정보데이터는 몇 건이 있는지? => 최대 9357건 , 최소 1979건\n",
    "     * 월별로 데이터 몇 개인지 확인해보기 => 추후 수행"
   ]
  },
  {
   "cell_type": "code",
   "execution_count": 83,
   "metadata": {},
   "outputs": [
    {
     "data": {
      "text/plain": [
       "20190911    9357\n",
       "20190713    8707\n",
       "20190720    8658\n",
       "20190727    8603\n",
       "20190921    8467\n",
       "            ... \n",
       "20190922    3042\n",
       "20190811    2806\n",
       "20190728    2705\n",
       "20190825    2462\n",
       "20190913    1979\n",
       "Name: de_dt, Length: 92, dtype: int64"
      ]
     },
     "execution_count": 83,
     "metadata": {},
     "output_type": "execute_result"
    }
   ],
   "source": [
    "raw_data2_Trade_Inform['de_dt'].value_counts()"
   ]
  },
  {
   "cell_type": "markdown",
   "metadata": {},
   "source": [
    " * 결측치 갯수 확인 => 없음"
   ]
  },
  {
   "cell_type": "code",
   "execution_count": 84,
   "metadata": {},
   "outputs": [
    {
     "data": {
      "text/plain": [
       "0"
      ]
     },
     "execution_count": 84,
     "metadata": {},
     "output_type": "execute_result"
    }
   ],
   "source": [
    "raw_data2_Trade_Inform['de_dt'].isna().sum()"
   ]
  },
  {
   "cell_type": "markdown",
   "metadata": {},
   "source": [
    "### 2-7. de_tm : 구매시각(HHMM)"
   ]
  },
  {
   "cell_type": "markdown",
   "metadata": {},
   "source": [
    " * 구매 시각는 몇 개나 있는가?? => 1436개"
   ]
  },
  {
   "cell_type": "code",
   "execution_count": 85,
   "metadata": {},
   "outputs": [
    {
     "data": {
      "text/plain": [
       "1436"
      ]
     },
     "execution_count": 85,
     "metadata": {},
     "output_type": "execute_result"
    }
   ],
   "source": [
    "raw_data2_Trade_Inform['de_tm'].nunique()"
   ]
  },
  {
   "cell_type": "markdown",
   "metadata": {},
   "source": [
    " * 구매시각 거래정보데이터는 몇 건이 있는지? => 최대 1094건 , 최소 1건\n",
    " * 1-7 조회 시각 데이터와 연관지어볼 수 있음 => 추후 분석"
   ]
  },
  {
   "cell_type": "code",
   "execution_count": 86,
   "metadata": {},
   "outputs": [
    {
     "data": {
      "text/plain": [
       "16:17    1094\n",
       "18:03    1033\n",
       "17:11    1012\n",
       "17:27     992\n",
       "17:18     985\n",
       "         ... \n",
       "04:29       1\n",
       "03:27       1\n",
       "04:48       1\n",
       "05:26       1\n",
       "06:07       1\n",
       "Name: de_tm, Length: 1436, dtype: int64"
      ]
     },
     "execution_count": 86,
     "metadata": {},
     "output_type": "execute_result"
    }
   ],
   "source": [
    "raw_data2_Trade_Inform['de_tm'].value_counts()"
   ]
  },
  {
   "cell_type": "markdown",
   "metadata": {},
   "source": [
    " * 결측치 갯수 확인 => 없음"
   ]
  },
  {
   "cell_type": "code",
   "execution_count": 87,
   "metadata": {},
   "outputs": [
    {
     "data": {
      "text/plain": [
       "0"
      ]
     },
     "execution_count": 87,
     "metadata": {},
     "output_type": "execute_result"
    }
   ],
   "source": [
    "raw_data2_Trade_Inform['de_tm'].isna().sum()"
   ]
  },
  {
   "cell_type": "markdown",
   "metadata": {},
   "source": [
    "### 2-8. buy_am : 구매금액"
   ]
  },
  {
   "cell_type": "markdown",
   "metadata": {},
   "source": [
    " * 구매 금액은 몇 개나 있는가?? => 14810개"
   ]
  },
  {
   "cell_type": "code",
   "execution_count": 88,
   "metadata": {},
   "outputs": [
    {
     "data": {
      "text/plain": [
       "14810"
      ]
     },
     "execution_count": 88,
     "metadata": {},
     "output_type": "execute_result"
    }
   ],
   "source": [
    "raw_data2_Trade_Inform['buy_am'].nunique()"
   ]
  },
  {
   "cell_type": "markdown",
   "metadata": {},
   "source": [
    " * 구매금액 별 거래정보데이터는 몇 건이 있는지? => 최대 1.8만건 , 최소 1건"
   ]
  },
  {
   "cell_type": "code",
   "execution_count": 89,
   "metadata": {},
   "outputs": [
    {
     "data": {
      "text/plain": [
       "2990      18064\n",
       "1000      16200\n",
       "1990      15745\n",
       "3990      14652\n",
       "990       14087\n",
       "          ...  \n",
       "969000        1\n",
       "150200        1\n",
       "113350        1\n",
       "39650         1\n",
       "4094          1\n",
       "Name: buy_am, Length: 14810, dtype: int64"
      ]
     },
     "execution_count": 89,
     "metadata": {},
     "output_type": "execute_result"
    }
   ],
   "source": [
    "raw_data2_Trade_Inform['buy_am'].value_counts()"
   ]
  },
  {
   "cell_type": "markdown",
   "metadata": {},
   "source": [
    " * 결측치 갯수 확인 => 최소 금액 0을 결측치로 봐야할지 공짜로 봐야할지 추후 고려"
   ]
  },
  {
   "cell_type": "code",
   "execution_count": 90,
   "metadata": {},
   "outputs": [
    {
     "data": {
      "text/plain": [
       "0"
      ]
     },
     "execution_count": 90,
     "metadata": {},
     "output_type": "execute_result"
    }
   ],
   "source": [
    "raw_data2_Trade_Inform['buy_am'].isna().sum()"
   ]
  },
  {
   "cell_type": "markdown",
   "metadata": {},
   "source": [
    " * 최대 금액은?? => 1천억"
   ]
  },
  {
   "cell_type": "code",
   "execution_count": 91,
   "metadata": {},
   "outputs": [
    {
     "data": {
      "text/plain": [
       "100000016899"
      ]
     },
     "execution_count": 91,
     "metadata": {},
     "output_type": "execute_result"
    }
   ],
   "source": [
    "max(raw_data2_Trade_Inform['buy_am'])"
   ]
  },
  {
   "cell_type": "markdown",
   "metadata": {},
   "source": [
    " * 최소금액은?? => 0\n",
    "     * 공짜로 봐야할 지, 결측치로 봐야할 지 추후 고려"
   ]
  },
  {
   "cell_type": "code",
   "execution_count": 92,
   "metadata": {},
   "outputs": [
    {
     "data": {
      "text/plain": [
       "0"
      ]
     },
     "execution_count": 92,
     "metadata": {},
     "output_type": "execute_result"
    }
   ],
   "source": [
    "min(raw_data2_Trade_Inform['buy_am'])"
   ]
  },
  {
   "cell_type": "markdown",
   "metadata": {},
   "source": [
    "### 2-9. buy_ct : 구매 수량"
   ]
  },
  {
   "cell_type": "markdown",
   "metadata": {},
   "source": [
    " * 구매수량은 몇 종류나 있는가?? => 338개"
   ]
  },
  {
   "cell_type": "code",
   "execution_count": 93,
   "metadata": {},
   "outputs": [
    {
     "data": {
      "text/plain": [
       "338"
      ]
     },
     "execution_count": 93,
     "metadata": {},
     "output_type": "execute_result"
    }
   ],
   "source": [
    "raw_data2_Trade_Inform['buy_ct'].nunique()"
   ]
  },
  {
   "cell_type": "markdown",
   "metadata": {},
   "source": [
    " * 구매수량 별 거래정보데이터는 몇 건이 있는지? => 최대 49만건 , 최소 1건"
   ]
  },
  {
   "cell_type": "code",
   "execution_count": 94,
   "metadata": {},
   "outputs": [
    {
     "data": {
      "text/plain": [
       "1      497831\n",
       "2       62837\n",
       "3       12371\n",
       "0        6775\n",
       "4        6377\n",
       "        ...  \n",
       "210         1\n",
       "207         1\n",
       "717         1\n",
       "204         1\n",
       "155         1\n",
       "Name: buy_ct, Length: 338, dtype: int64"
      ]
     },
     "execution_count": 94,
     "metadata": {},
     "output_type": "execute_result"
    }
   ],
   "source": [
    "raw_data2_Trade_Inform['buy_ct'].value_counts()"
   ]
  },
  {
   "cell_type": "markdown",
   "metadata": {},
   "source": [
    " * NaN 갯수 확인 => 없음\n",
    "     * 위 최소 수량 0을 결측치로 고려 => 6775개"
   ]
  },
  {
   "cell_type": "code",
   "execution_count": 95,
   "metadata": {},
   "outputs": [
    {
     "data": {
      "text/plain": [
       "0"
      ]
     },
     "execution_count": 95,
     "metadata": {},
     "output_type": "execute_result"
    }
   ],
   "source": [
    "raw_data2_Trade_Inform['buy_ct'].isna().sum()"
   ]
  },
  {
   "cell_type": "markdown",
   "metadata": {},
   "source": [
    " * 최대 수량은?? => 3600개"
   ]
  },
  {
   "cell_type": "code",
   "execution_count": 96,
   "metadata": {},
   "outputs": [
    {
     "data": {
      "text/plain": [
       "3600"
      ]
     },
     "execution_count": 96,
     "metadata": {},
     "output_type": "execute_result"
    }
   ],
   "source": [
    "max(raw_data2_Trade_Inform['buy_ct'])"
   ]
  },
  {
   "cell_type": "markdown",
   "metadata": {},
   "source": [
    " * 최소 수량은?? => 0\n",
    "     * 결측치로 고려"
   ]
  },
  {
   "cell_type": "code",
   "execution_count": 97,
   "metadata": {},
   "outputs": [
    {
     "data": {
      "text/plain": [
       "0"
      ]
     },
     "execution_count": 97,
     "metadata": {},
     "output_type": "execute_result"
    }
   ],
   "source": [
    "min(raw_data2_Trade_Inform['buy_ct'])"
   ]
  },
  {
   "cell_type": "markdown",
   "metadata": {},
   "source": [
    " ## 3. 사용자 demo 정보(나이, 성별) 확인"
   ]
  },
  {
   "cell_type": "code",
   "execution_count": 98,
   "metadata": {},
   "outputs": [
    {
     "data": {
      "text/html": [
       "<div>\n",
       "<style scoped>\n",
       "    .dataframe tbody tr th:only-of-type {\n",
       "        vertical-align: middle;\n",
       "    }\n",
       "\n",
       "    .dataframe tbody tr th {\n",
       "        vertical-align: top;\n",
       "    }\n",
       "\n",
       "    .dataframe thead th {\n",
       "        text-align: right;\n",
       "    }\n",
       "</style>\n",
       "<table border=\"1\" class=\"dataframe\">\n",
       "  <thead>\n",
       "    <tr style=\"text-align: right;\">\n",
       "      <th></th>\n",
       "      <th>clnt_id</th>\n",
       "      <th>clnt_gender</th>\n",
       "      <th>clnt_age</th>\n",
       "    </tr>\n",
       "  </thead>\n",
       "  <tbody>\n",
       "    <tr>\n",
       "      <th>0</th>\n",
       "      <td>1</td>\n",
       "      <td>unknown</td>\n",
       "      <td>unknown</td>\n",
       "    </tr>\n",
       "    <tr>\n",
       "      <th>1</th>\n",
       "      <td>2</td>\n",
       "      <td>F</td>\n",
       "      <td>30</td>\n",
       "    </tr>\n",
       "    <tr>\n",
       "      <th>2</th>\n",
       "      <td>3</td>\n",
       "      <td>unknown</td>\n",
       "      <td>unknown</td>\n",
       "    </tr>\n",
       "    <tr>\n",
       "      <th>3</th>\n",
       "      <td>4</td>\n",
       "      <td>unknown</td>\n",
       "      <td>unknown</td>\n",
       "    </tr>\n",
       "    <tr>\n",
       "      <th>4</th>\n",
       "      <td>5</td>\n",
       "      <td>unknown</td>\n",
       "      <td>unknown</td>\n",
       "    </tr>\n",
       "  </tbody>\n",
       "</table>\n",
       "</div>"
      ],
      "text/plain": [
       "   clnt_id clnt_gender clnt_age\n",
       "0        1     unknown  unknown\n",
       "1        2           F       30\n",
       "2        3     unknown  unknown\n",
       "3        4     unknown  unknown\n",
       "4        5     unknown  unknown"
      ]
     },
     "execution_count": 98,
     "metadata": {},
     "output_type": "execute_result"
    }
   ],
   "source": [
    "raw_data3_Demog.head()"
   ]
  },
  {
   "cell_type": "markdown",
   "metadata": {},
   "source": [
    " * 3-1(=2-1, 1-1). clnt_id : 고객 고유 식별 ID\n",
    " * 3-2. clnt_gender : 고객 성별\n",
    " * 3-3. clnt_age : 고객 연령대( 10단위:  10대 이하 / 20대 / 30대 / 40대 / 50대 / 60대 / unknown)"
   ]
  },
  {
   "cell_type": "code",
   "execution_count": 99,
   "metadata": {},
   "outputs": [
    {
     "data": {
      "text/plain": [
       "(72399, 3)"
      ]
     },
     "execution_count": 99,
     "metadata": {},
     "output_type": "execute_result"
    }
   ],
   "source": [
    "raw_data3_Demog.shape"
   ]
  },
  {
   "cell_type": "markdown",
   "metadata": {},
   "source": [
    " * 행 수(데이터 갯수) : 7.2만 개\n",
    " * 열 수(데이터 종류) : 3개"
   ]
  },
  {
   "cell_type": "markdown",
   "metadata": {},
   "source": [
    "### 3-1. clnt_Id : 고객 고유 식별 ID\n",
    "\n",
    " * 1-1, 2-1 clnt_id와 동일 의미"
   ]
  },
  {
   "cell_type": "markdown",
   "metadata": {},
   "source": [
    " * 고객 ID는 몇 개나 있는가?? => 7만명의 고객 ID 보유\n",
    "     * 1. 온라인 행동 데이터 내 고객ID 갯수 : 72399개\n",
    "     * 2. 거래 정보 데이터 내 고객ID 갯수 :11284개\n",
    "     * 3. 사용자 demog 정보 내 고객ID 갯수 : 72399개"
   ]
  },
  {
   "cell_type": "code",
   "execution_count": 100,
   "metadata": {},
   "outputs": [
    {
     "data": {
      "text/plain": [
       "72399"
      ]
     },
     "execution_count": 100,
     "metadata": {},
     "output_type": "execute_result"
    }
   ],
   "source": [
    "raw_data3_Demog['clnt_id'].nunique()"
   ]
  },
  {
   "cell_type": "markdown",
   "metadata": {},
   "source": [
    " * 고객ID 별로 사용자 demog 데이터는 몇 건이 있는지? => 1건\n",
    "     * 서로 다른 사람이 같은 ID를 공유하는 오류데이터는 없음"
   ]
  },
  {
   "cell_type": "code",
   "execution_count": 101,
   "metadata": {},
   "outputs": [
    {
     "data": {
      "text/plain": [
       "2047     1\n",
       "27288    1\n",
       "14994    1\n",
       "12947    1\n",
       "2708     1\n",
       "        ..\n",
       "25958    1\n",
       "32101    1\n",
       "30052    1\n",
       "19811    1\n",
       "2049     1\n",
       "Name: clnt_id, Length: 72399, dtype: int64"
      ]
     },
     "execution_count": 101,
     "metadata": {},
     "output_type": "execute_result"
    }
   ],
   "source": [
    "raw_data3_Demog['clnt_id'].value_counts()"
   ]
  },
  {
   "cell_type": "markdown",
   "metadata": {},
   "source": [
    " * 결측치 갯수 확인 => 없음"
   ]
  },
  {
   "cell_type": "code",
   "execution_count": 102,
   "metadata": {},
   "outputs": [
    {
     "data": {
      "text/plain": [
       "0"
      ]
     },
     "execution_count": 102,
     "metadata": {},
     "output_type": "execute_result"
    }
   ],
   "source": [
    "raw_data3_Demog['clnt_id'].isna().sum()"
   ]
  },
  {
   "cell_type": "markdown",
   "metadata": {},
   "source": [
    "### 3-2. clnt_gender : 고객 성별"
   ]
  },
  {
   "cell_type": "markdown",
   "metadata": {},
   "source": [
    " * 성별은 몇 개나 있는가?? => 3개 (남, 여, 알수 없음)"
   ]
  },
  {
   "cell_type": "code",
   "execution_count": 103,
   "metadata": {},
   "outputs": [
    {
     "data": {
      "text/plain": [
       "3"
      ]
     },
     "execution_count": 103,
     "metadata": {},
     "output_type": "execute_result"
    }
   ],
   "source": [
    "raw_data3_Demog['clnt_gender'].nunique()"
   ]
  },
  {
   "cell_type": "markdown",
   "metadata": {},
   "source": [
    " * 성별 별로 사용자 demog 데이터는 몇 건이 있는지? => 알 수없음 6만, 여성 1만, 남성 1800"
   ]
  },
  {
   "cell_type": "code",
   "execution_count": 104,
   "metadata": {},
   "outputs": [
    {
     "data": {
      "text/plain": [
       "unknown    60154\n",
       "F          10352\n",
       "M           1893\n",
       "Name: clnt_gender, dtype: int64"
      ]
     },
     "execution_count": 104,
     "metadata": {},
     "output_type": "execute_result"
    }
   ],
   "source": [
    "raw_data3_Demog['clnt_gender'].value_counts()"
   ]
  },
  {
   "cell_type": "markdown",
   "metadata": {},
   "source": [
    " * 결측치 갯수 확인 => 60154개"
   ]
  },
  {
   "cell_type": "markdown",
   "metadata": {},
   "source": [
    "### 3-3. clnt_age : 고객 연령대\n",
    "\n",
    " * 10단위: 10대 이하 / 20대 / 30대 / 40대 / 50대 / 60대 / unknown"
   ]
  },
  {
   "cell_type": "markdown",
   "metadata": {},
   "source": [
    " * 연령대는 몇 종류나 있는가?? => 7종"
   ]
  },
  {
   "cell_type": "code",
   "execution_count": 105,
   "metadata": {},
   "outputs": [
    {
     "data": {
      "text/plain": [
       "7"
      ]
     },
     "execution_count": 105,
     "metadata": {},
     "output_type": "execute_result"
    }
   ],
   "source": [
    "raw_data3_Demog['clnt_age'].nunique()"
   ]
  },
  {
   "cell_type": "markdown",
   "metadata": {},
   "source": [
    " * 연령 별로 사용자 demog 데이터는 몇 건이 있는지?\n",
    " \n",
    "     * 10대 : 46\n",
    "     * 20대 : 924\n",
    "     * 30대 : 4307\n",
    "     * 40대 : 4948\n",
    "     * 50대 : 1694\n",
    "     * 60대 : 326\n",
    "     * 알 수 없음 : 60154"
   ]
  },
  {
   "cell_type": "code",
   "execution_count": 106,
   "metadata": {},
   "outputs": [
    {
     "data": {
      "text/plain": [
       "unknown    60154\n",
       "40          4948\n",
       "30          4307\n",
       "50          1694\n",
       "20           924\n",
       "60           326\n",
       "10            46\n",
       "Name: clnt_age, dtype: int64"
      ]
     },
     "execution_count": 106,
     "metadata": {},
     "output_type": "execute_result"
    }
   ],
   "source": [
    "raw_data3_Demog['clnt_age'].value_counts()"
   ]
  },
  {
   "cell_type": "markdown",
   "metadata": {},
   "source": [
    " * 결측치 갯수 확인 => 60154개"
   ]
  },
  {
   "cell_type": "markdown",
   "metadata": {},
   "source": [
    "## 4. 상품 대중소 분류 정보"
   ]
  },
  {
   "cell_type": "code",
   "execution_count": 107,
   "metadata": {},
   "outputs": [
    {
     "data": {
      "text/html": [
       "<div>\n",
       "<style scoped>\n",
       "    .dataframe tbody tr th:only-of-type {\n",
       "        vertical-align: middle;\n",
       "    }\n",
       "\n",
       "    .dataframe tbody tr th {\n",
       "        vertical-align: top;\n",
       "    }\n",
       "\n",
       "    .dataframe thead th {\n",
       "        text-align: right;\n",
       "    }\n",
       "</style>\n",
       "<table border=\"1\" class=\"dataframe\">\n",
       "  <thead>\n",
       "    <tr style=\"text-align: right;\">\n",
       "      <th></th>\n",
       "      <th>pd_c</th>\n",
       "      <th>clac_nm1</th>\n",
       "      <th>clac_nm2</th>\n",
       "      <th>clac_nm3</th>\n",
       "    </tr>\n",
       "  </thead>\n",
       "  <tbody>\n",
       "    <tr>\n",
       "      <th>0</th>\n",
       "      <td>1</td>\n",
       "      <td>Automotive Products</td>\n",
       "      <td>Automotive Replacement Repair / Maintanance Kits</td>\n",
       "      <td>Automobile Oil / Additives</td>\n",
       "    </tr>\n",
       "    <tr>\n",
       "      <th>1</th>\n",
       "      <td>2</td>\n",
       "      <td>Automotive Products</td>\n",
       "      <td>Automotive Replacement Repair / Maintanance Kits</td>\n",
       "      <td>Car Lights</td>\n",
       "    </tr>\n",
       "    <tr>\n",
       "      <th>2</th>\n",
       "      <td>3</td>\n",
       "      <td>Automotive Products</td>\n",
       "      <td>Automotive Replacement Repair / Maintanance Kits</td>\n",
       "      <td>Car Paint</td>\n",
       "    </tr>\n",
       "    <tr>\n",
       "      <th>3</th>\n",
       "      <td>4</td>\n",
       "      <td>Automotive Products</td>\n",
       "      <td>Automotive Replacement Repair / Maintanance Kits</td>\n",
       "      <td>Filters</td>\n",
       "    </tr>\n",
       "    <tr>\n",
       "      <th>4</th>\n",
       "      <td>5</td>\n",
       "      <td>Automotive Products</td>\n",
       "      <td>Automotive Replacement Repair / Maintanance Kits</td>\n",
       "      <td>Wiper Blades</td>\n",
       "    </tr>\n",
       "  </tbody>\n",
       "</table>\n",
       "</div>"
      ],
      "text/plain": [
       "   pd_c             clac_nm1  \\\n",
       "0     1  Automotive Products   \n",
       "1     2  Automotive Products   \n",
       "2     3  Automotive Products   \n",
       "3     4  Automotive Products   \n",
       "4     5  Automotive Products   \n",
       "\n",
       "                                           clac_nm2  \\\n",
       "0  Automotive Replacement Repair / Maintanance Kits   \n",
       "1  Automotive Replacement Repair / Maintanance Kits   \n",
       "2  Automotive Replacement Repair / Maintanance Kits   \n",
       "3  Automotive Replacement Repair / Maintanance Kits   \n",
       "4  Automotive Replacement Repair / Maintanance Kits   \n",
       "\n",
       "                     clac_nm3  \n",
       "0  Automobile Oil / Additives  \n",
       "1                  Car Lights  \n",
       "2                   Car Paint  \n",
       "3                     Filters  \n",
       "4                Wiper Blades  "
      ]
     },
     "execution_count": 107,
     "metadata": {},
     "output_type": "execute_result"
    }
   ],
   "source": [
    "raw_data4_Item_Class.head()"
   ]
  },
  {
   "cell_type": "markdown",
   "metadata": {},
   "source": [
    "* 4-1. pd_c : 상품 소분류 코드\n",
    "* 4-2. clac_nm1 : 상품 대분류명\n",
    "* 4-3. clac_nm2 : 상품 중분류명\n",
    "* 4-4. clac_nm3 : 상품 소분류명"
   ]
  },
  {
   "cell_type": "code",
   "execution_count": 108,
   "metadata": {},
   "outputs": [
    {
     "data": {
      "text/plain": [
       "(1667, 4)"
      ]
     },
     "execution_count": 108,
     "metadata": {},
     "output_type": "execute_result"
    }
   ],
   "source": [
    "raw_data4_Item_Class.shape"
   ]
  },
  {
   "cell_type": "markdown",
   "metadata": {},
   "source": [
    " * 행 수(데이터 갯수) : 1667개\n",
    " * 열 수(데이터 종류) : 4개"
   ]
  },
  {
   "cell_type": "markdown",
   "metadata": {},
   "source": [
    "### 4-1. pd_c : 상품의 소분류 코드\n",
    "\n",
    " * 2-5. pd_c 데이터와 의미 동일"
   ]
  },
  {
   "cell_type": "markdown",
   "metadata": {},
   "source": [
    " * 상품분류데이터 내 소분류 코드의 종류는 몇 개나 있는가?? => 1667개\n",
    "     * 2. 거래 정보 데이터 내 소분류 갯수 : 1668개\n",
    "     * 4. 상품 대중소 분류 데이터 내 소분류 갯수 : 1667개\n",
    "     * 1개 차이는 'unknown' 유무로 예상"
   ]
  },
  {
   "cell_type": "code",
   "execution_count": 109,
   "metadata": {},
   "outputs": [
    {
     "data": {
      "text/plain": [
       "1667"
      ]
     },
     "execution_count": 109,
     "metadata": {},
     "output_type": "execute_result"
    }
   ],
   "source": [
    "raw_data4_Item_Class['pd_c'].nunique()"
   ]
  },
  {
   "cell_type": "markdown",
   "metadata": {},
   "source": [
    " * 소분류코드 별 상품분류데이터는 몇 건이 있는지? => 각 1건"
   ]
  },
  {
   "cell_type": "code",
   "execution_count": 110,
   "metadata": {},
   "outputs": [
    {
     "data": {
      "text/plain": [
       "1667    1\n",
       "834     1\n",
       "1098    1\n",
       "1100    1\n",
       "1102    1\n",
       "       ..\n",
       "563     1\n",
       "565     1\n",
       "567     1\n",
       "569     1\n",
       "2       1\n",
       "Name: pd_c, Length: 1667, dtype: int64"
      ]
     },
     "execution_count": 110,
     "metadata": {},
     "output_type": "execute_result"
    }
   ],
   "source": [
    "raw_data4_Item_Class['pd_c'].value_counts()"
   ]
  },
  {
   "cell_type": "markdown",
   "metadata": {},
   "source": [
    " * 결측치 갯수 확인 => 없음"
   ]
  },
  {
   "cell_type": "code",
   "execution_count": 111,
   "metadata": {},
   "outputs": [
    {
     "data": {
      "text/plain": [
       "0"
      ]
     },
     "execution_count": 111,
     "metadata": {},
     "output_type": "execute_result"
    }
   ],
   "source": [
    "raw_data4_Item_Class['pd_c'].isna().sum()"
   ]
  },
  {
   "cell_type": "markdown",
   "metadata": {},
   "source": [
    "### 4-2. clac_nm1 : 상품 대분류명"
   ]
  },
  {
   "cell_type": "markdown",
   "metadata": {},
   "source": [
    " * 상품분류데이터 내 대분류명의 종류는 몇 개나 있는가?? => 60개"
   ]
  },
  {
   "cell_type": "code",
   "execution_count": 112,
   "metadata": {},
   "outputs": [
    {
     "data": {
      "text/plain": [
       "60"
      ]
     },
     "execution_count": 112,
     "metadata": {},
     "output_type": "execute_result"
    }
   ],
   "source": [
    "raw_data4_Item_Class['clac_nm1'].nunique()"
   ]
  },
  {
   "cell_type": "markdown",
   "metadata": {},
   "source": [
    " * 대분류명 별 상품분류데이터는 몇 건이 있는지? => 최대 100건, 최소 1건"
   ]
  },
  {
   "cell_type": "code",
   "execution_count": 113,
   "metadata": {},
   "outputs": [
    {
     "data": {
      "text/plain": [
       "Fashion Accessories                          100\n",
       "Meats                                         80\n",
       "Sea Foods                                     76\n",
       "Vegetables                                    70\n",
       "Kids' Clothing                                67\n",
       "Stationary / Office Supplies                  61\n",
       "Fruits                                        56\n",
       "Underwear / Socks and Hosiery / Homewear      53\n",
       "Sport Fashion                                 52\n",
       "Spices / Seasonings                           49\n",
       "Cosmetics / Beauty Care                       48\n",
       "Personal Care                                 38\n",
       "Snack Foods                                   36\n",
       "Tableware / Cooking Utensils                  35\n",
       "Cooked Foods                                  35\n",
       "Gardening / Pets                              35\n",
       "Home / Kitchen Appliances                     33\n",
       "Chilled Foods                                 32\n",
       "Kitchenware                                   30\n",
       "Cleaning / Laundry / Bathroom Accessories     30\n",
       "Bedding / Handicraft                          30\n",
       "Health Foods                                  29\n",
       "Toy                                           29\n",
       "Automotive Products                           29\n",
       "Ball Game / Field Sports                      28\n",
       "Detergents / Hygiene Goods                    28\n",
       "Dried Sea Foods                               27\n",
       "Outdoor / Leisure Activities                  26\n",
       "Substitute Foods                              26\n",
       "Birth Supplies / Baby Products                26\n",
       "Furniture                                     26\n",
       "Women's Clothing                              25\n",
       "Beverages                                     23\n",
       "Liquors / Alcoholic Beverages                 21\n",
       "Health Care                                   21\n",
       "Men's Clothing                                20\n",
       "Frozen Foods                                  20\n",
       "Home Decor / Lighting                         18\n",
       "Coffee / Tea                                  18\n",
       "Tenants / Restaurants                         17\n",
       "Seasonal Sports                               17\n",
       "Grains                                        15\n",
       "Canned / Jarred Foods                         15\n",
       "Video / Audio System Electronics              14\n",
       "Tools / Safety Supplies                       13\n",
       "Computers                                     13\n",
       "Health / Fitness Training                     12\n",
       "Dairy Products                                 9\n",
       "Books / Records / Instruments                  9\n",
       "Heating / Cooling Electronics                  9\n",
       "Cell Phones / Accessories                      6\n",
       "Living / Rental Services                       6\n",
       "Gift Certificates / Cards                      5\n",
       "Refrigerators and Washing Machines             5\n",
       "Baby Foods                                     4\n",
       "Travel / Leisure Services                      3\n",
       "Finance / Insurance Service                    3\n",
       "Tobacco                                        3\n",
       "Others (Non-Products)                          2\n",
       "Other Products                                 1\n",
       "Name: clac_nm1, dtype: int64"
      ]
     },
     "execution_count": 113,
     "metadata": {},
     "output_type": "execute_result"
    }
   ],
   "source": [
    "raw_data4_Item_Class['clac_nm1'].value_counts()"
   ]
  },
  {
   "cell_type": "markdown",
   "metadata": {},
   "source": [
    " * 결측치 갯수 확인 => 없음"
   ]
  },
  {
   "cell_type": "code",
   "execution_count": 114,
   "metadata": {},
   "outputs": [
    {
     "data": {
      "text/plain": [
       "0"
      ]
     },
     "execution_count": 114,
     "metadata": {},
     "output_type": "execute_result"
    }
   ],
   "source": [
    "raw_data4_Item_Class['clac_nm1'].isna().sum()"
   ]
  },
  {
   "cell_type": "markdown",
   "metadata": {},
   "source": [
    "### 4-3. clac_nm2 : 상품 중분류명"
   ]
  },
  {
   "cell_type": "markdown",
   "metadata": {},
   "source": [
    " * 상품분류데이터 내 중분류명의 종류는 몇 개나 있는가?? => 332개"
   ]
  },
  {
   "cell_type": "code",
   "execution_count": 115,
   "metadata": {},
   "outputs": [
    {
     "data": {
      "text/plain": [
       "332"
      ]
     },
     "execution_count": 115,
     "metadata": {},
     "output_type": "execute_result"
    }
   ],
   "source": [
    "raw_data4_Item_Class['clac_nm2'].nunique()"
   ]
  },
  {
   "cell_type": "markdown",
   "metadata": {},
   "source": [
    " * 중분류명 별 상품분류데이터는 몇 건이 있는지? => 최대 19건, 최소 1건"
   ]
  },
  {
   "cell_type": "code",
   "execution_count": 116,
   "metadata": {},
   "outputs": [
    {
     "data": {
      "text/plain": [
       "Fish                     19\n",
       "Kitchen Appliances       17\n",
       "Imported Fruits          16\n",
       "Leaf Vegetables          16\n",
       "Domestic Fruits          16\n",
       "                         ..\n",
       "Other Seasonal Sports     1\n",
       "Ready to Drinks           1\n",
       "Outdoor Furniture         1\n",
       "Coffee Drinks             1\n",
       "Boys' Clothing Sets       1\n",
       "Name: clac_nm2, Length: 332, dtype: int64"
      ]
     },
     "execution_count": 116,
     "metadata": {},
     "output_type": "execute_result"
    }
   ],
   "source": [
    "raw_data4_Item_Class['clac_nm2'].value_counts()"
   ]
  },
  {
   "cell_type": "markdown",
   "metadata": {},
   "source": [
    " * 결측치 갯수 확인 => 없음"
   ]
  },
  {
   "cell_type": "code",
   "execution_count": 117,
   "metadata": {},
   "outputs": [
    {
     "data": {
      "text/plain": [
       "0"
      ]
     },
     "execution_count": 117,
     "metadata": {},
     "output_type": "execute_result"
    }
   ],
   "source": [
    "raw_data4_Item_Class['clac_nm2'].isna().sum()"
   ]
  },
  {
   "cell_type": "markdown",
   "metadata": {},
   "source": [
    "### 4-4. clac_nm3 : 상품 소분류명"
   ]
  },
  {
   "cell_type": "markdown",
   "metadata": {},
   "source": [
    " * 상품분류데이터 내 소분류명의 종류는 몇 개나 있는가?? => 1662개\n",
    "     * 4-1. 소분류코드 종류 갯수 : 1667개\n",
    "     * 1662 + 3(같은이름 다른코드) + 2(결측치) = 1667"
   ]
  },
  {
   "cell_type": "code",
   "execution_count": 118,
   "metadata": {},
   "outputs": [
    {
     "data": {
      "text/plain": [
       "1662"
      ]
     },
     "execution_count": 118,
     "metadata": {},
     "output_type": "execute_result"
    }
   ],
   "source": [
    "raw_data4_Item_Class['clac_nm3'].nunique()"
   ]
  },
  {
   "cell_type": "markdown",
   "metadata": {},
   "source": [
    " * 소분류명 별 상품분류데이터는 몇 건이 있는지? => 최대 2건, 최소 1건\n",
    "     * 같은 상품 이름에 서로다른 소분류 코드 존재(Salads, Peppers, Lunch Boxes)"
   ]
  },
  {
   "cell_type": "code",
   "execution_count": 119,
   "metadata": {},
   "outputs": [
    {
     "data": {
      "text/plain": [
       "Lunch Boxes                               2\n",
       "Peppers                                   2\n",
       "Salads                                    2\n",
       "Tennis Balls                              1\n",
       "Gizzard Shad Sashimi / Sliced Raw Fish    1\n",
       "                                         ..\n",
       "Elderly Care Products                     1\n",
       "Chicken Wing Drumette                     1\n",
       "Pasta Sauces                              1\n",
       "Chilled Coffee and Tea Beverages          1\n",
       "Desktops                                  1\n",
       "Name: clac_nm3, Length: 1662, dtype: int64"
      ]
     },
     "execution_count": 119,
     "metadata": {},
     "output_type": "execute_result"
    }
   ],
   "source": [
    "raw_data4_Item_Class['clac_nm3'].value_counts()"
   ]
  },
  {
   "cell_type": "markdown",
   "metadata": {},
   "source": [
    " * 결측치 갯수 확인 => 2개"
   ]
  },
  {
   "cell_type": "code",
   "execution_count": 120,
   "metadata": {},
   "outputs": [
    {
     "data": {
      "text/plain": [
       "2"
      ]
     },
     "execution_count": 120,
     "metadata": {},
     "output_type": "execute_result"
    }
   ],
   "source": [
    "raw_data4_Item_Class['clac_nm3'].isna().sum()"
   ]
  },
  {
   "cell_type": "markdown",
   "metadata": {},
   "source": [
    "* 시각화 예시 - 막대 그래프"
   ]
  },
  {
   "cell_type": "code",
   "execution_count": 121,
   "metadata": {},
   "outputs": [
    {
     "data": {
      "image/png": "[encoded data removed]",
      "text/plain": [
       "<Figure size 432x288 with 1 Axes>"
      ]
     },
     "metadata": {},
     "output_type": "display_data"
    }
   ],
   "source": [
    "plt.style.use('ggplot')\n",
    "\n",
    "fig = plt.figure()\n",
    "\n",
    "ax = fig.add_subplot()\n",
    "ax.bar(raw_data1_Online_Act['biz_unit'].unique(), raw_data1_Online_Act['biz_unit'].value_counts())\n",
    "\n",
    "plt.show()"
   ]
  },
  {
   "cell_type": "code",
   "execution_count": null,
   "metadata": {},
   "outputs": [],
   "source": []
  }
 ],
 "metadata": {
  "kernelspec": {
   "display_name": "Python 3",
   "language": "python",
   "name": "python3"
  },
  "language_info": {
   "codemirror_mode": {
    "name": "ipython",
    "version": 3
   },
   "file_extension": ".py",
   "mimetype": "text/x-python",
   "name": "python",
   "nbconvert_exporter": "python",
   "pygments_lexer": "ipython3",
   "version": "3.7.7"
  }
 },
 "nbformat": 4,
 "nbformat_minor": 4
}
