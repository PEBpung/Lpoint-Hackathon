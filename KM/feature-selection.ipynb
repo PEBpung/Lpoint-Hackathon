{
 "cells": [
  {
   "cell_type": "markdown",
   "metadata": {},
   "source": [
    "feature engineering은 모델의 성능을 향상시키는 매우 중요한 단계입니다. 그러나 feature가 너무 많으면 overfitting의 위험이 있고, 모델이 이상적인 방향으로 학습을 하지 않을 위험이 있습니다. 실제로도 feature가 너무 많은 경우 원래 모델보다 성능이 안좋게 나오는 경우가 많습니다. 따라서 feature selection을 해야 합니다.\n",
    "\n",
    "저는 feature selection으로 크게 두 가지 방법을 사용해봤습니다. 첫째, feature을 하나씩 추가해보고 모델의 성능을 향상시키면 채택하고 성능이 나빠지면 버리는 방법. 둘째, 도움이 될 만한 feature들을 모두 추가해본 뒤, feature selection 테크닉들을 통해 중요한 feature만 뽑아내는 방법. 이 커널에서는 두 번째 방법을 다뤄보겠습니다. \n",
    "\n",
    "여러 feature들 중 일부만 선택하는 방법은 당연히 모델의 성능에 대한 그 feature의 중요도에 따라서이겠죠. feature importance를 얻기 위해서는 기본적으로 gbm 모델들에서 제공되는 feature_importances_ attribute을 사용할 수도 있겠지만, 이 외에도 permutation importance, shap 등을 사용할 수도 있습니다. 또한 기본 모델에 feature importance를 한번만 알아봐서 top n개의 feature만 선택하는 방법(one-shot)도 있을 수 있고, rfe(recurrent feature elimination)로 모델을 학습시키고 feature을 줄여나가는 것을 반복할 수도 있습니다. 마지막으로 boruta라는 방법을 이용해 자동으로 feature을 선택할 수도 있습니다.\n",
    "\n",
    "정리하자면 이 커널에서는 다음과 같은 실험을 하겠습니다.\n",
    "\n",
    "1. [기본 feature_importances_](https://lightgbm.readthedocs.io/en/latest/Python-API.html#lightgbm.LGBMRegressor.feature_importances_)\n",
    "    1. one-shot\n",
    "    2. rfe\n",
    "2. [permutation importance](https://www.kaggle.com/dansbecker/permutation-importance)\n",
    "    1. one-shot\n",
    "    2. rfe\n",
    "3. [shap](https://github.com/slundberg/shap)\n",
    "    1. one-shot\n",
    "    2. rfe\n",
    "4. [boruta](https://www.kaggle.com/tilii7/boruta-feature-elimination)"
   ]
  },
  {
   "cell_type": "code",
   "execution_count": 1,
   "metadata": {
    "_cell_guid": "b1076dfc-b9ad-4769-8c92-a6c4dae69d19",
    "_uuid": "8f2839f25d086af736a60e9eeb907d3b93b6e0e5"
   },
   "outputs": [
    {
     "name": "stderr",
     "output_type": "stream",
     "text": [
      "The sklearn.metrics.scorer module is  deprecated in version 0.22 and will be removed in version 0.24. The corresponding classes / functions should instead be imported from sklearn.metrics. Anything that cannot be imported from sklearn.metrics is now part of the private API.\n",
      "The sklearn.feature_selection.base module is  deprecated in version 0.22 and will be removed in version 0.24. The corresponding classes / functions should instead be imported from sklearn.feature_selection. Anything that cannot be imported from sklearn.feature_selection is now part of the private API.\n"
     ]
    }
   ],
   "source": [
    "import numpy as np\n",
    "import pandas as pd\n",
    "\n",
    "from lightgbm import LGBMRegressor\n",
    "from sklearn.model_selection import train_test_split\n",
    "from sklearn.preprocessing import StandardScaler\n",
    "\n",
    "from sklearn.ensemble import RandomForestRegressor\n",
    "from boruta import BorutaPy\n",
    "import shap\n",
    "import eli5\n",
    "from eli5.sklearn import PermutationImportance\n",
    "\n",
    "import matplotlib.pyplot as plt\n",
    "\n",
    "import warnings\n",
    "import gc\n",
    "warnings.filterwarnings(\"ignore\")"
   ]
  },
  {
   "cell_type": "code",
   "execution_count": 3,
   "metadata": {
    "_cell_guid": "79c7e3d0-c299-4dcb-8224-4455121ee9b0",
    "_uuid": "d629ff2d2480ee46fbb7e2d37f6b5fab8052498a"
   },
   "outputs": [],
   "source": [
    "data = pd.read_csv('./input/train.csv', index_col='id')\n",
    "test = pd.read_csv('./input/test.csv', index_col='id')\n",
    "df = pd.concat([data, test])"
   ]
  },
  {
   "cell_type": "markdown",
   "metadata": {},
   "source": [
    "# Feature Engineering"
   ]
  },
  {
   "cell_type": "code",
   "execution_count": 4,
   "metadata": {},
   "outputs": [],
   "source": [
    "today = pd.to_datetime('2016-01-01')\n",
    "    \n",
    "# datetime features\n",
    "df['was_renovated'] = (df['yr_renovated'] != 0).astype('uint8')\n",
    "not_renovated = df[df['was_renovated'] == 0].index\n",
    "df.loc[not_renovated, 'yr_renovated'] = df.loc[not_renovated, 'yr_built']\n",
    "df['date'] = pd.to_datetime(df['date'].str[:8])\n",
    "df['yr_built'] = pd.to_datetime({'year': df['yr_built'], 'month': [1]*len(df), 'day': [1]*len(df)})\n",
    "df['yr_renovated'] = pd.to_datetime({'year': df['yr_renovated'], 'month': [1]*len(df), 'day': [1]*len(df)}, errors='coerce')\n",
    "df['today-D-date'] = (today - df['date']).dt.days\n",
    "df['today-D-yr_renovated'] = (today - df['yr_renovated']).dt.days\n",
    "df['today-D-yr_built'] = (today - df['yr_built']).dt.days\n",
    "df['date-D-yr_built'] = (df['date'] - df['yr_built']).dt.days\n",
    "df['yr_renovated-D-yr_built'] = (df['yr_renovated'] - df['yr_built']).dt.days\n",
    "df = df.drop(['date', 'yr_built', 'yr_renovated'], axis=1)\n",
    "\n",
    "# feature interactions\n",
    "df['room_count'] = df['bedrooms'] + df['bathrooms']\n",
    "df['sqft_living_per_rooms'] = df['sqft_living'] / (df['room_count']+1)\n",
    "df['sqft_lot_per_rooms'] = df['sqft_lot'] / (df['room_count']+1)\n",
    "df['room_per_floors'] = df['room_count'] / df['floors']\n",
    "df['sqft_living_per_floors'] = df['sqft_living'] / df['floors']\n",
    "df['sqft_lot_per_floors'] = df['sqft_lot'] / df['floors']\n",
    "df['sqft_living_per_bedrooms'] = df['sqft_living'] / (df['bedrooms']+1)\n",
    "df['sqft_lot_per_bedrooms'] = df['sqft_lot'] / (df['bedrooms']+1)\n",
    "df['bedroom_per_floors'] = df['bedrooms'] / df['floors']\n",
    "df['sqft_lot-D-sqft_living'] = df['sqft_lot'] - df['sqft_living']\n",
    "df['sqft_lot-R-sqft_living'] = df['sqft_lot'] / df['sqft_living']\n",
    "df['sqft_living15-D-sqft_living'] = df['sqft_living15'] - df['sqft_living']\n",
    "df['sqft_living15-R-sqft_living'] = df['sqft_living15'] / df['sqft_living']\n",
    "df['sqft_lot15-D-sqft_lot'] = df['sqft_lot15'] - df['sqft_lot']\n",
    "df['sqft_lot15-R-sqft_lot'] = df['sqft_lot15'] / df['sqft_lot']\n",
    "df['rooms_mul']=df['bedrooms']*df['bathrooms']\n",
    "df['total_score']=df['condition']+df['grade']+df['view']\n",
    "\n",
    "# binary features\n",
    "df['has_basement'] = (df['sqft_basement']>0).astype('uint8')\n",
    "df['has_attic'] = ((df['floors'] % 1) != 0).astype('uint8')\n",
    "\n",
    "# one hot encode\n",
    "df['zipcode'] = df['zipcode'].astype('str')\n",
    "df = pd.get_dummies(df)\n",
    "\n",
    "# log transform target\n",
    "df['price'] = np.log1p(df['price'])\n",
    "\n",
    "data = df.loc[data.index]\n",
    "test = df.loc[test.index]\n",
    "\n",
    "del df; gc.collect();"
   ]
  },
  {
   "cell_type": "code",
   "execution_count": 5,
   "metadata": {},
   "outputs": [
    {
     "data": {
      "text/html": [
       "<div>\n",
       "<style scoped>\n",
       "    .dataframe tbody tr th:only-of-type {\n",
       "        vertical-align: middle;\n",
       "    }\n",
       "\n",
       "    .dataframe tbody tr th {\n",
       "        vertical-align: top;\n",
       "    }\n",
       "\n",
       "    .dataframe thead th {\n",
       "        text-align: right;\n",
       "    }\n",
       "</style>\n",
       "<table border=\"1\" class=\"dataframe\">\n",
       "  <thead>\n",
       "    <tr style=\"text-align: right;\">\n",
       "      <th></th>\n",
       "      <th>price</th>\n",
       "      <th>bedrooms</th>\n",
       "      <th>bathrooms</th>\n",
       "      <th>sqft_living</th>\n",
       "      <th>sqft_lot</th>\n",
       "      <th>floors</th>\n",
       "      <th>waterfront</th>\n",
       "      <th>view</th>\n",
       "      <th>condition</th>\n",
       "      <th>grade</th>\n",
       "      <th>...</th>\n",
       "      <th>zipcode_98146</th>\n",
       "      <th>zipcode_98148</th>\n",
       "      <th>zipcode_98155</th>\n",
       "      <th>zipcode_98166</th>\n",
       "      <th>zipcode_98168</th>\n",
       "      <th>zipcode_98177</th>\n",
       "      <th>zipcode_98178</th>\n",
       "      <th>zipcode_98188</th>\n",
       "      <th>zipcode_98198</th>\n",
       "      <th>zipcode_98199</th>\n",
       "    </tr>\n",
       "    <tr>\n",
       "      <th>id</th>\n",
       "      <th></th>\n",
       "      <th></th>\n",
       "      <th></th>\n",
       "      <th></th>\n",
       "      <th></th>\n",
       "      <th></th>\n",
       "      <th></th>\n",
       "      <th></th>\n",
       "      <th></th>\n",
       "      <th></th>\n",
       "      <th></th>\n",
       "      <th></th>\n",
       "      <th></th>\n",
       "      <th></th>\n",
       "      <th></th>\n",
       "      <th></th>\n",
       "      <th></th>\n",
       "      <th></th>\n",
       "      <th></th>\n",
       "      <th></th>\n",
       "      <th></th>\n",
       "    </tr>\n",
       "  </thead>\n",
       "  <tbody>\n",
       "    <tr>\n",
       "      <th>0</th>\n",
       "      <td>12.309987</td>\n",
       "      <td>3</td>\n",
       "      <td>1.00</td>\n",
       "      <td>1180</td>\n",
       "      <td>5650</td>\n",
       "      <td>1.0</td>\n",
       "      <td>0</td>\n",
       "      <td>0</td>\n",
       "      <td>3</td>\n",
       "      <td>7</td>\n",
       "      <td>...</td>\n",
       "      <td>0</td>\n",
       "      <td>0</td>\n",
       "      <td>0</td>\n",
       "      <td>0</td>\n",
       "      <td>0</td>\n",
       "      <td>0</td>\n",
       "      <td>1</td>\n",
       "      <td>0</td>\n",
       "      <td>0</td>\n",
       "      <td>0</td>\n",
       "    </tr>\n",
       "    <tr>\n",
       "      <th>1</th>\n",
       "      <td>12.100718</td>\n",
       "      <td>2</td>\n",
       "      <td>1.00</td>\n",
       "      <td>770</td>\n",
       "      <td>10000</td>\n",
       "      <td>1.0</td>\n",
       "      <td>0</td>\n",
       "      <td>0</td>\n",
       "      <td>3</td>\n",
       "      <td>6</td>\n",
       "      <td>...</td>\n",
       "      <td>0</td>\n",
       "      <td>0</td>\n",
       "      <td>0</td>\n",
       "      <td>0</td>\n",
       "      <td>0</td>\n",
       "      <td>0</td>\n",
       "      <td>0</td>\n",
       "      <td>0</td>\n",
       "      <td>0</td>\n",
       "      <td>0</td>\n",
       "    </tr>\n",
       "    <tr>\n",
       "      <th>2</th>\n",
       "      <td>13.142168</td>\n",
       "      <td>3</td>\n",
       "      <td>2.00</td>\n",
       "      <td>1680</td>\n",
       "      <td>8080</td>\n",
       "      <td>1.0</td>\n",
       "      <td>0</td>\n",
       "      <td>0</td>\n",
       "      <td>3</td>\n",
       "      <td>8</td>\n",
       "      <td>...</td>\n",
       "      <td>0</td>\n",
       "      <td>0</td>\n",
       "      <td>0</td>\n",
       "      <td>0</td>\n",
       "      <td>0</td>\n",
       "      <td>0</td>\n",
       "      <td>0</td>\n",
       "      <td>0</td>\n",
       "      <td>0</td>\n",
       "      <td>0</td>\n",
       "    </tr>\n",
       "    <tr>\n",
       "      <th>3</th>\n",
       "      <td>12.458779</td>\n",
       "      <td>3</td>\n",
       "      <td>2.25</td>\n",
       "      <td>1715</td>\n",
       "      <td>6819</td>\n",
       "      <td>2.0</td>\n",
       "      <td>0</td>\n",
       "      <td>0</td>\n",
       "      <td>3</td>\n",
       "      <td>7</td>\n",
       "      <td>...</td>\n",
       "      <td>0</td>\n",
       "      <td>0</td>\n",
       "      <td>0</td>\n",
       "      <td>0</td>\n",
       "      <td>0</td>\n",
       "      <td>0</td>\n",
       "      <td>0</td>\n",
       "      <td>0</td>\n",
       "      <td>0</td>\n",
       "      <td>0</td>\n",
       "    </tr>\n",
       "    <tr>\n",
       "      <th>4</th>\n",
       "      <td>12.583999</td>\n",
       "      <td>3</td>\n",
       "      <td>1.50</td>\n",
       "      <td>1060</td>\n",
       "      <td>9711</td>\n",
       "      <td>1.0</td>\n",
       "      <td>0</td>\n",
       "      <td>0</td>\n",
       "      <td>3</td>\n",
       "      <td>7</td>\n",
       "      <td>...</td>\n",
       "      <td>0</td>\n",
       "      <td>0</td>\n",
       "      <td>0</td>\n",
       "      <td>0</td>\n",
       "      <td>0</td>\n",
       "      <td>0</td>\n",
       "      <td>0</td>\n",
       "      <td>0</td>\n",
       "      <td>1</td>\n",
       "      <td>0</td>\n",
       "    </tr>\n",
       "  </tbody>\n",
       "</table>\n",
       "<p>5 rows × 111 columns</p>\n",
       "</div>"
      ],
      "text/plain": [
       "        price  bedrooms  bathrooms  sqft_living  sqft_lot  floors  waterfront  \\\n",
       "id                                                                              \n",
       "0   12.309987         3       1.00         1180      5650     1.0           0   \n",
       "1   12.100718         2       1.00          770     10000     1.0           0   \n",
       "2   13.142168         3       2.00         1680      8080     1.0           0   \n",
       "3   12.458779         3       2.25         1715      6819     2.0           0   \n",
       "4   12.583999         3       1.50         1060      9711     1.0           0   \n",
       "\n",
       "    view  condition  grade  ...  zipcode_98146  zipcode_98148  zipcode_98155  \\\n",
       "id                          ...                                                \n",
       "0      0          3      7  ...              0              0              0   \n",
       "1      0          3      6  ...              0              0              0   \n",
       "2      0          3      8  ...              0              0              0   \n",
       "3      0          3      7  ...              0              0              0   \n",
       "4      0          3      7  ...              0              0              0   \n",
       "\n",
       "    zipcode_98166  zipcode_98168  zipcode_98177  zipcode_98178  zipcode_98188  \\\n",
       "id                                                                              \n",
       "0               0              0              0              1              0   \n",
       "1               0              0              0              0              0   \n",
       "2               0              0              0              0              0   \n",
       "3               0              0              0              0              0   \n",
       "4               0              0              0              0              0   \n",
       "\n",
       "    zipcode_98198  zipcode_98199  \n",
       "id                                \n",
       "0               0              0  \n",
       "1               0              0  \n",
       "2               0              0  \n",
       "3               0              0  \n",
       "4               1              0  \n",
       "\n",
       "[5 rows x 111 columns]"
      ]
     },
     "execution_count": 5,
     "metadata": {},
     "output_type": "execute_result"
    }
   ],
   "source": [
    "data.head()"
   ]
  },
  {
   "cell_type": "markdown",
   "metadata": {},
   "source": [
    "# 도움 함수 정의"
   ]
  },
  {
   "cell_type": "code",
   "execution_count": 6,
   "metadata": {},
   "outputs": [
    {
     "data": {
      "text/plain": [
       "110"
      ]
     },
     "execution_count": 6,
     "metadata": {},
     "output_type": "execute_result"
    }
   ],
   "source": [
    "def rmse_expm1(pred, true):\n",
    "    return -np.sqrt(np.mean((np.expm1(pred)-np.expm1(true))**2))\n",
    "\n",
    "def evaluate(x_data, y_data):\n",
    "    model = LGBMRegressor(objective='regression', num_iterations=10**5)\n",
    "    x_train, x_val, y_train, y_val = train_test_split(x_data, y_data, random_state=0)\n",
    "    model.fit(x_train, y_train, eval_set=[(x_val, y_val)], early_stopping_rounds=100, verbose=False)\n",
    "    val_pred = model.predict(x_val)\n",
    "    score = rmse_expm1(val_pred, y_val)\n",
    "    return score\n",
    "\n",
    "def rfe(x_data, y_data, method, ratio=0.9, min_feats=40):\n",
    "    feats = x_data.columns.tolist()\n",
    "    archive = pd.DataFrame(columns=['model', 'n_feats', 'feats', 'score'])\n",
    "    while True:\n",
    "        model = LGBMRegressor(objective='regression', num_iterations=10**5)\n",
    "        x_train, x_val, y_train, y_val = train_test_split(x_data[feats], y_data, random_state=0)\n",
    "        model.fit(x_train, y_train, eval_set=[(x_val, y_val)], early_stopping_rounds=100, verbose=False)\n",
    "        val_pred = model.predict(x_val)\n",
    "        score = rmse_expm1(val_pred, y_val)\n",
    "        n_feats = len(feats)\n",
    "        print(n_feats, score)\n",
    "        archive = archive.append({'model': model, 'n_feats': n_feats, 'feats': feats, 'score': score}, ignore_index=True)\n",
    "        if method == 'basic':\n",
    "            feat_imp = pd.Series(model.feature_importances_, index=feats).sort_values(ascending=False)\n",
    "        elif method == 'perm':\n",
    "            perm = PermutationImportance(model, random_state=0).fit(x_val, y_val)\n",
    "            feat_imp = pd.Series(perm.feature_importances_, index=feats).sort_values(ascending=False)\n",
    "        elif method == 'shap':\n",
    "            explainer = shap.TreeExplainer(model)\n",
    "            shap_values = explainer.shap_values(x_data[feats])\n",
    "            feat_imp = pd.Series(np.abs(shap_values).mean(axis=0), index=feats).sort_values(ascending=False)\n",
    "        next_n_feats = int(n_feats * ratio)\n",
    "        if next_n_feats < min_feats:\n",
    "            break\n",
    "        else:\n",
    "            feats = feat_imp.iloc[:next_n_feats].index.tolist()\n",
    "    return archive\n",
    "\n",
    "feats = [col for col in data.columns if col != 'price']\n",
    "len(feats)"
   ]
  },
  {
   "cell_type": "markdown",
   "metadata": {},
   "source": [
    "# Baseline"
   ]
  },
  {
   "cell_type": "code",
   "execution_count": 7,
   "metadata": {},
   "outputs": [
    {
     "data": {
      "text/plain": [
       "-114196.18786023316"
      ]
     },
     "execution_count": 7,
     "metadata": {},
     "output_type": "execute_result"
    }
   ],
   "source": [
    "model = LGBMRegressor(objective='regression', num_iterations=10**5)\n",
    "x_data = data[feats]\n",
    "y_data = data['price']\n",
    "x_train, x_val, y_train, y_val = train_test_split(x_data, y_data, random_state=0)\n",
    "model.fit(x_train, y_train, eval_set=[(x_val, y_val)], early_stopping_rounds=100, verbose=False)\n",
    "val_pred = model.predict(x_val)\n",
    "score = rmse_expm1(val_pred, y_val)\n",
    "score"
   ]
  },
  {
   "cell_type": "markdown",
   "metadata": {},
   "source": [
    "# Basic Feature Importance"
   ]
  },
  {
   "cell_type": "markdown",
   "metadata": {},
   "source": [
    "### 1. RFE"
   ]
  },
  {
   "cell_type": "code",
   "execution_count": 8,
   "metadata": {},
   "outputs": [
    {
     "name": "stdout",
     "output_type": "stream",
     "text": [
      "110 -114196.18786023316\n",
      "99 -114151.5472024381\n",
      "89 -114034.74656724831\n",
      "80 -113556.50303290032\n",
      "72 -114080.559224715\n",
      "64 -112902.92445798447\n",
      "57 -112926.24283295323\n",
      "51 -114543.7594796587\n",
      "45 -115909.96964342736\n",
      "40 -116453.48053863567\n",
      "CPU times: user 1min 38s, sys: 824 ms, total: 1min 39s\n",
      "Wall time: 6.44 s\n"
     ]
    }
   ],
   "source": [
    "%%time\n",
    "basic_archive = rfe(x_data, y_data, 'basic')"
   ]
  },
  {
   "cell_type": "markdown",
   "metadata": {},
   "source": [
    "### 2. One-shot"
   ]
  },
  {
   "cell_type": "code",
   "execution_count": 10,
   "metadata": {},
   "outputs": [
    {
     "data": {
      "text/plain": [
       "array([ 22,  67, 228, 120,   8,  33,  39,  60,  75, 195, 130, 587, 496,\n",
       "       261, 166,   3, 256, 232, 105, 114,  35,  69, 144, 122,  93, 147,\n",
       "       109, 148, 106,  19,  92, 113, 170, 142, 109, 153,  65, 151,   0,\n",
       "        11,   6,   0,   2,  29,  13,  17,   0,   0,   8,   1,  17,  13,\n",
       "         0,   5,   1,  17,   6,   2,   1,   0,   0,  11,   2,   2,  12,\n",
       "        27,  12,   6,   2,   3,   2,   0,   3,   6,   4,   0,   7,  10,\n",
       "         0,   0,   0,   8,  11,   7,  15,   0,  24,  15,  22,   6,   2,\n",
       "         0,   9,  16,   2,   2,   4,   8,  11,   7,   8,   0,   4,  21,\n",
       "        19,   8,  12,   7,   7,   3], dtype=int32)"
      ]
     },
     "execution_count": 10,
     "metadata": {},
     "output_type": "execute_result"
    }
   ],
   "source": [
    "model.feature_importances_"
   ]
  },
  {
   "cell_type": "code",
   "execution_count": 14,
   "metadata": {},
   "outputs": [
    {
     "data": {
      "text/plain": [
       "110"
      ]
     },
     "execution_count": 14,
     "metadata": {},
     "output_type": "execute_result"
    }
   ],
   "source": [
    "len(model.feature_importances_)"
   ]
  },
  {
   "cell_type": "code",
   "execution_count": 15,
   "metadata": {},
   "outputs": [
    {
     "data": {
      "text/plain": [
       "(110,)"
      ]
     },
     "execution_count": 15,
     "metadata": {},
     "output_type": "execute_result"
    }
   ],
   "source": [
    "np.array(feats).shape"
   ]
  },
  {
   "cell_type": "code",
   "execution_count": 13,
   "metadata": {},
   "outputs": [
    {
     "data": {
      "text/plain": [
       "['bedrooms',\n",
       " 'bathrooms',\n",
       " 'sqft_living',\n",
       " 'sqft_lot',\n",
       " 'floors',\n",
       " 'waterfront',\n",
       " 'view',\n",
       " 'condition',\n",
       " 'grade',\n",
       " 'sqft_above',\n",
       " 'sqft_basement',\n",
       " 'lat',\n",
       " 'long',\n",
       " 'sqft_living15',\n",
       " 'sqft_lot15',\n",
       " 'was_renovated',\n",
       " 'today-D-date',\n",
       " 'today-D-yr_renovated',\n",
       " 'today-D-yr_built',\n",
       " 'date-D-yr_built',\n",
       " 'yr_renovated-D-yr_built',\n",
       " 'room_count',\n",
       " 'sqft_living_per_rooms',\n",
       " 'sqft_lot_per_rooms',\n",
       " 'room_per_floors',\n",
       " 'sqft_living_per_floors',\n",
       " 'sqft_lot_per_floors',\n",
       " 'sqft_living_per_bedrooms',\n",
       " 'sqft_lot_per_bedrooms',\n",
       " 'bedroom_per_floors',\n",
       " 'sqft_lot-D-sqft_living',\n",
       " 'sqft_lot-R-sqft_living',\n",
       " 'sqft_living15-D-sqft_living',\n",
       " 'sqft_living15-R-sqft_living',\n",
       " 'sqft_lot15-D-sqft_lot',\n",
       " 'sqft_lot15-R-sqft_lot',\n",
       " 'rooms_mul',\n",
       " 'total_score',\n",
       " 'has_basement',\n",
       " 'has_attic',\n",
       " 'zipcode_98001',\n",
       " 'zipcode_98002',\n",
       " 'zipcode_98003',\n",
       " 'zipcode_98004',\n",
       " 'zipcode_98005',\n",
       " 'zipcode_98006',\n",
       " 'zipcode_98007',\n",
       " 'zipcode_98008',\n",
       " 'zipcode_98010',\n",
       " 'zipcode_98011',\n",
       " 'zipcode_98014',\n",
       " 'zipcode_98019',\n",
       " 'zipcode_98022',\n",
       " 'zipcode_98023',\n",
       " 'zipcode_98024',\n",
       " 'zipcode_98027',\n",
       " 'zipcode_98028',\n",
       " 'zipcode_98029',\n",
       " 'zipcode_98030',\n",
       " 'zipcode_98031',\n",
       " 'zipcode_98032',\n",
       " 'zipcode_98033',\n",
       " 'zipcode_98034',\n",
       " 'zipcode_98038',\n",
       " 'zipcode_98039',\n",
       " 'zipcode_98040',\n",
       " 'zipcode_98042',\n",
       " 'zipcode_98045',\n",
       " 'zipcode_98052',\n",
       " 'zipcode_98053',\n",
       " 'zipcode_98055',\n",
       " 'zipcode_98056',\n",
       " 'zipcode_98058',\n",
       " 'zipcode_98059',\n",
       " 'zipcode_98065',\n",
       " 'zipcode_98070',\n",
       " 'zipcode_98072',\n",
       " 'zipcode_98074',\n",
       " 'zipcode_98075',\n",
       " 'zipcode_98077',\n",
       " 'zipcode_98092',\n",
       " 'zipcode_98102',\n",
       " 'zipcode_98103',\n",
       " 'zipcode_98105',\n",
       " 'zipcode_98106',\n",
       " 'zipcode_98107',\n",
       " 'zipcode_98108',\n",
       " 'zipcode_98109',\n",
       " 'zipcode_98112',\n",
       " 'zipcode_98115',\n",
       " 'zipcode_98116',\n",
       " 'zipcode_98117',\n",
       " 'zipcode_98118',\n",
       " 'zipcode_98119',\n",
       " 'zipcode_98122',\n",
       " 'zipcode_98125',\n",
       " 'zipcode_98126',\n",
       " 'zipcode_98133',\n",
       " 'zipcode_98136',\n",
       " 'zipcode_98144',\n",
       " 'zipcode_98146',\n",
       " 'zipcode_98148',\n",
       " 'zipcode_98155',\n",
       " 'zipcode_98166',\n",
       " 'zipcode_98168',\n",
       " 'zipcode_98177',\n",
       " 'zipcode_98178',\n",
       " 'zipcode_98188',\n",
       " 'zipcode_98198',\n",
       " 'zipcode_98199']"
      ]
     },
     "execution_count": 13,
     "metadata": {},
     "output_type": "execute_result"
    }
   ],
   "source": [
    "feats"
   ]
  },
  {
   "cell_type": "code",
   "execution_count": 9,
   "metadata": {},
   "outputs": [
    {
     "name": "stdout",
     "output_type": "stream",
     "text": [
      "40 -116727.8014494125\n",
      "45 -112847.89591748024\n",
      "50 -114503.41858867306\n",
      "55 -114181.874239275\n",
      "60 -112435.80205586173\n",
      "65 -112849.19132677707\n",
      "70 -113031.74107582936\n",
      "75 -112944.51624626428\n",
      "80 -112841.47886968592\n",
      "85 -113178.66382596624\n"
     ]
    }
   ],
   "source": [
    "feat_imp = pd.Series(model.feature_importances_, index=feats).sort_values(ascending=False)\n",
    "for i in range(40, 90, 5):\n",
    "    print(i, evaluate(data[feat_imp.iloc[:i].index], data['price']))"
   ]
  },
  {
   "cell_type": "markdown",
   "metadata": {},
   "source": [
    "# Permutation Importance"
   ]
  },
  {
   "cell_type": "markdown",
   "metadata": {},
   "source": [
    "### 1. RFE"
   ]
  },
  {
   "cell_type": "code",
   "execution_count": 9,
   "metadata": {},
   "outputs": [
    {
     "name": "stdout",
     "output_type": "stream",
     "text": [
      "110 -114196.18786023316\n",
      "99 -114462.70817642177\n",
      "89 -113465.59631470455\n",
      "80 -111049.11456210805\n",
      "72 -113117.63871748894\n",
      "64 -112189.65986727818\n",
      "57 -113963.5530787745\n",
      "51 -114600.78603251206\n",
      "45 -115403.33345501231\n",
      "40 -115812.43004985884\n",
      "CPU times: user 9min 58s, sys: 8.75 s, total: 10min 6s\n",
      "Wall time: 2min 39s\n"
     ]
    }
   ],
   "source": [
    "%%time\n",
    "perm_archive = rfe(x_data, y_data, 'perm')"
   ]
  },
  {
   "cell_type": "markdown",
   "metadata": {},
   "source": [
    "### 2. One-shot"
   ]
  },
  {
   "cell_type": "code",
   "execution_count": 10,
   "metadata": {},
   "outputs": [
    {
     "data": {
      "text/html": [
       "\n",
       "    <style>\n",
       "    table.eli5-weights tr:hover {\n",
       "        filter: brightness(85%);\n",
       "    }\n",
       "</style>\n",
       "\n",
       "\n",
       "\n",
       "    \n",
       "\n",
       "    \n",
       "\n",
       "    \n",
       "\n",
       "    \n",
       "\n",
       "    \n",
       "\n",
       "    \n",
       "\n",
       "\n",
       "    \n",
       "\n",
       "    \n",
       "\n",
       "    \n",
       "\n",
       "    \n",
       "\n",
       "    \n",
       "\n",
       "    \n",
       "\n",
       "\n",
       "    \n",
       "\n",
       "    \n",
       "\n",
       "    \n",
       "\n",
       "    \n",
       "\n",
       "    \n",
       "        <table class=\"eli5-weights eli5-feature-importances\" style=\"border-collapse: collapse; border: none; margin-top: 0em; table-layout: auto;\">\n",
       "    <thead>\n",
       "    <tr style=\"border: none;\">\n",
       "        <th style=\"padding: 0 1em 0 0.5em; text-align: right; border: none;\">Weight</th>\n",
       "        <th style=\"padding: 0 0.5em 0 0.5em; text-align: left; border: none;\">Feature</th>\n",
       "    </tr>\n",
       "    </thead>\n",
       "    <tbody>\n",
       "    \n",
       "        <tr style=\"background-color: hsl(120, 100.00%, 80.00%); border: none;\">\n",
       "            <td style=\"padding: 0 1em 0 0.5em; text-align: right; border: none;\">\n",
       "                0.5771\n",
       "                \n",
       "                    &plusmn; 0.0159\n",
       "                \n",
       "            </td>\n",
       "            <td style=\"padding: 0 0.5em 0 0.5em; text-align: left; border: none;\">\n",
       "                x5\n",
       "            </td>\n",
       "        </tr>\n",
       "    \n",
       "        <tr style=\"background-color: hsl(120, 100.00%, 92.85%); border: none;\">\n",
       "            <td style=\"padding: 0 1em 0 0.5em; text-align: right; border: none;\">\n",
       "                0.1328\n",
       "                \n",
       "                    &plusmn; 0.0028\n",
       "                \n",
       "            </td>\n",
       "            <td style=\"padding: 0 0.5em 0 0.5em; text-align: left; border: none;\">\n",
       "                x9\n",
       "            </td>\n",
       "        </tr>\n",
       "    \n",
       "        <tr style=\"background-color: hsl(120, 100.00%, 95.54%); border: none;\">\n",
       "            <td style=\"padding: 0 1em 0 0.5em; text-align: right; border: none;\">\n",
       "                0.0676\n",
       "                \n",
       "                    &plusmn; 0.0042\n",
       "                \n",
       "            </td>\n",
       "            <td style=\"padding: 0 0.5em 0 0.5em; text-align: left; border: none;\">\n",
       "                x37\n",
       "            </td>\n",
       "        </tr>\n",
       "    \n",
       "        <tr style=\"background-color: hsl(120, 100.00%, 96.27%); border: none;\">\n",
       "            <td style=\"padding: 0 1em 0 0.5em; text-align: right; border: none;\">\n",
       "                0.0523\n",
       "                \n",
       "                    &plusmn; 0.0052\n",
       "                \n",
       "            </td>\n",
       "            <td style=\"padding: 0 0.5em 0 0.5em; text-align: left; border: none;\">\n",
       "                x6\n",
       "            </td>\n",
       "        </tr>\n",
       "    \n",
       "        <tr style=\"background-color: hsl(120, 100.00%, 96.72%); border: none;\">\n",
       "            <td style=\"padding: 0 1em 0 0.5em; text-align: right; border: none;\">\n",
       "                0.0436\n",
       "                \n",
       "                    &plusmn; 0.0051\n",
       "                \n",
       "            </td>\n",
       "            <td style=\"padding: 0 0.5em 0 0.5em; text-align: left; border: none;\">\n",
       "                x4\n",
       "            </td>\n",
       "        </tr>\n",
       "    \n",
       "        <tr style=\"background-color: hsl(120, 100.00%, 98.49%); border: none;\">\n",
       "            <td style=\"padding: 0 1em 0 0.5em; text-align: right; border: none;\">\n",
       "                0.0144\n",
       "                \n",
       "                    &plusmn; 0.0018\n",
       "                \n",
       "            </td>\n",
       "            <td style=\"padding: 0 0.5em 0 0.5em; text-align: left; border: none;\">\n",
       "                x10\n",
       "            </td>\n",
       "        </tr>\n",
       "    \n",
       "        <tr style=\"background-color: hsl(120, 100.00%, 98.64%); border: none;\">\n",
       "            <td style=\"padding: 0 1em 0 0.5em; text-align: right; border: none;\">\n",
       "                0.0124\n",
       "                \n",
       "                    &plusmn; 0.0015\n",
       "                \n",
       "            </td>\n",
       "            <td style=\"padding: 0 0.5em 0 0.5em; text-align: left; border: none;\">\n",
       "                x17\n",
       "            </td>\n",
       "        </tr>\n",
       "    \n",
       "        <tr style=\"background-color: hsl(120, 100.00%, 98.94%); border: none;\">\n",
       "            <td style=\"padding: 0 1em 0 0.5em; text-align: right; border: none;\">\n",
       "                0.0087\n",
       "                \n",
       "                    &plusmn; 0.0009\n",
       "                \n",
       "            </td>\n",
       "            <td style=\"padding: 0 0.5em 0 0.5em; text-align: left; border: none;\">\n",
       "                x7\n",
       "            </td>\n",
       "        </tr>\n",
       "    \n",
       "        <tr style=\"background-color: hsl(120, 100.00%, 99.13%); border: none;\">\n",
       "            <td style=\"padding: 0 1em 0 0.5em; text-align: right; border: none;\">\n",
       "                0.0066\n",
       "                \n",
       "                    &plusmn; 0.0008\n",
       "                \n",
       "            </td>\n",
       "            <td style=\"padding: 0 0.5em 0 0.5em; text-align: left; border: none;\">\n",
       "                x16\n",
       "            </td>\n",
       "        </tr>\n",
       "    \n",
       "        <tr style=\"background-color: hsl(120, 100.00%, 99.18%); border: none;\">\n",
       "            <td style=\"padding: 0 1em 0 0.5em; text-align: right; border: none;\">\n",
       "                0.0060\n",
       "                \n",
       "                    &plusmn; 0.0007\n",
       "                \n",
       "            </td>\n",
       "            <td style=\"padding: 0 0.5em 0 0.5em; text-align: left; border: none;\">\n",
       "                x14\n",
       "            </td>\n",
       "        </tr>\n",
       "    \n",
       "        <tr style=\"background-color: hsl(120, 100.00%, 99.37%); border: none;\">\n",
       "            <td style=\"padding: 0 1em 0 0.5em; text-align: right; border: none;\">\n",
       "                0.0042\n",
       "                \n",
       "                    &plusmn; 0.0006\n",
       "                \n",
       "            </td>\n",
       "            <td style=\"padding: 0 0.5em 0 0.5em; text-align: left; border: none;\">\n",
       "                x11\n",
       "            </td>\n",
       "        </tr>\n",
       "    \n",
       "        <tr style=\"background-color: hsl(120, 100.00%, 99.50%); border: none;\">\n",
       "            <td style=\"padding: 0 1em 0 0.5em; text-align: right; border: none;\">\n",
       "                0.0030\n",
       "                \n",
       "                    &plusmn; 0.0007\n",
       "                \n",
       "            </td>\n",
       "            <td style=\"padding: 0 0.5em 0 0.5em; text-align: left; border: none;\">\n",
       "                x43\n",
       "            </td>\n",
       "        </tr>\n",
       "    \n",
       "        <tr style=\"background-color: hsl(120, 100.00%, 99.51%); border: none;\">\n",
       "            <td style=\"padding: 0 1em 0 0.5em; text-align: right; border: none;\">\n",
       "                0.0029\n",
       "                \n",
       "                    &plusmn; 0.0004\n",
       "                \n",
       "            </td>\n",
       "            <td style=\"padding: 0 0.5em 0 0.5em; text-align: left; border: none;\">\n",
       "                x19\n",
       "            </td>\n",
       "        </tr>\n",
       "    \n",
       "        <tr style=\"background-color: hsl(120, 100.00%, 99.58%); border: none;\">\n",
       "            <td style=\"padding: 0 1em 0 0.5em; text-align: right; border: none;\">\n",
       "                0.0023\n",
       "                \n",
       "                    &plusmn; 0.0009\n",
       "                \n",
       "            </td>\n",
       "            <td style=\"padding: 0 0.5em 0 0.5em; text-align: left; border: none;\">\n",
       "                x27\n",
       "            </td>\n",
       "        </tr>\n",
       "    \n",
       "        <tr style=\"background-color: hsl(120, 100.00%, 99.59%); border: none;\">\n",
       "            <td style=\"padding: 0 1em 0 0.5em; text-align: right; border: none;\">\n",
       "                0.0022\n",
       "                \n",
       "                    &plusmn; 0.0003\n",
       "                \n",
       "            </td>\n",
       "            <td style=\"padding: 0 0.5em 0 0.5em; text-align: left; border: none;\">\n",
       "                x28\n",
       "            </td>\n",
       "        </tr>\n",
       "    \n",
       "        <tr style=\"background-color: hsl(120, 100.00%, 99.63%); border: none;\">\n",
       "            <td style=\"padding: 0 1em 0 0.5em; text-align: right; border: none;\">\n",
       "                0.0019\n",
       "                \n",
       "                    &plusmn; 0.0005\n",
       "                \n",
       "            </td>\n",
       "            <td style=\"padding: 0 0.5em 0 0.5em; text-align: left; border: none;\">\n",
       "                x30\n",
       "            </td>\n",
       "        </tr>\n",
       "    \n",
       "        <tr style=\"background-color: hsl(120, 100.00%, 99.66%); border: none;\">\n",
       "            <td style=\"padding: 0 1em 0 0.5em; text-align: right; border: none;\">\n",
       "                0.0017\n",
       "                \n",
       "                    &plusmn; 0.0002\n",
       "                \n",
       "            </td>\n",
       "            <td style=\"padding: 0 0.5em 0 0.5em; text-align: left; border: none;\">\n",
       "                x18\n",
       "            </td>\n",
       "        </tr>\n",
       "    \n",
       "        <tr style=\"background-color: hsl(120, 100.00%, 99.69%); border: none;\">\n",
       "            <td style=\"padding: 0 1em 0 0.5em; text-align: right; border: none;\">\n",
       "                0.0015\n",
       "                \n",
       "                    &plusmn; 0.0010\n",
       "                \n",
       "            </td>\n",
       "            <td style=\"padding: 0 0.5em 0 0.5em; text-align: left; border: none;\">\n",
       "                x12\n",
       "            </td>\n",
       "        </tr>\n",
       "    \n",
       "        <tr style=\"background-color: hsl(120, 100.00%, 99.72%); border: none;\">\n",
       "            <td style=\"padding: 0 1em 0 0.5em; text-align: right; border: none;\">\n",
       "                0.0013\n",
       "                \n",
       "                    &plusmn; 0.0006\n",
       "                \n",
       "            </td>\n",
       "            <td style=\"padding: 0 0.5em 0 0.5em; text-align: left; border: none;\">\n",
       "                x26\n",
       "            </td>\n",
       "        </tr>\n",
       "    \n",
       "        <tr style=\"background-color: hsl(120, 100.00%, 99.75%); border: none;\">\n",
       "            <td style=\"padding: 0 1em 0 0.5em; text-align: right; border: none;\">\n",
       "                0.0011\n",
       "                \n",
       "                    &plusmn; 0.0003\n",
       "                \n",
       "            </td>\n",
       "            <td style=\"padding: 0 0.5em 0 0.5em; text-align: left; border: none;\">\n",
       "                x88\n",
       "            </td>\n",
       "        </tr>\n",
       "    \n",
       "    \n",
       "        \n",
       "            <tr style=\"background-color: hsl(120, 100.00%, 99.75%); border: none;\">\n",
       "                <td colspan=\"2\" style=\"padding: 0 0.5em 0 0.5em; text-align: center; border: none; white-space: nowrap;\">\n",
       "                    <i>&hellip; 90 more &hellip;</i>\n",
       "                </td>\n",
       "            </tr>\n",
       "        \n",
       "    \n",
       "    </tbody>\n",
       "</table>\n",
       "    \n",
       "\n",
       "    \n",
       "\n",
       "\n",
       "    \n",
       "\n",
       "    \n",
       "\n",
       "    \n",
       "\n",
       "    \n",
       "\n",
       "    \n",
       "\n",
       "    \n",
       "\n",
       "\n",
       "\n"
      ],
      "text/plain": [
       "<IPython.core.display.HTML object>"
      ]
     },
     "execution_count": 10,
     "metadata": {},
     "output_type": "execute_result"
    }
   ],
   "source": [
    "perm = PermutationImportance(model, random_state=0).fit(x_val, y_val)\n",
    "perm_feat_imp = pd.Series(perm.feature_importances_, index=feats).sort_values(ascending=False)\n",
    "eli5.show_weights(perm)"
   ]
  },
  {
   "cell_type": "code",
   "execution_count": 11,
   "metadata": {},
   "outputs": [
    {
     "name": "stdout",
     "output_type": "stream",
     "text": [
      "40 -116322.35331204333\n",
      "45 -114983.97246428969\n",
      "50 -113212.44303663781\n",
      "55 -114348.37795512506\n",
      "60 -114152.84866403637\n",
      "65 -115007.83232649855\n",
      "70 -114312.33797372834\n",
      "75 -113651.08482703796\n",
      "80 -112801.45169028673\n",
      "85 -114278.36750958266\n"
     ]
    }
   ],
   "source": [
    "for i in range(40, 90, 5):\n",
    "    print(i, evaluate(data[perm_feat_imp.iloc[:i].index], data['price']))"
   ]
  },
  {
   "cell_type": "markdown",
   "metadata": {},
   "source": [
    "# Shap"
   ]
  },
  {
   "cell_type": "markdown",
   "metadata": {},
   "source": [
    "### 1. RFE"
   ]
  },
  {
   "cell_type": "code",
   "execution_count": 12,
   "metadata": {},
   "outputs": [
    {
     "name": "stdout",
     "output_type": "stream",
     "text": [
      "110 -114196.18786023316\n",
      "99 -114170.63202414334\n",
      "89 -114806.53346769979\n",
      "80 -113925.78012518163\n",
      "72 -114217.7999023959\n",
      "64 -112829.6232880124\n",
      "57 -113375.2361225914\n",
      "51 -114222.67836663491\n",
      "45 -114204.79092976342\n",
      "40 -115296.58801704334\n",
      "CPU times: user 9min 42s, sys: 4.6 s, total: 9min 47s\n",
      "Wall time: 2min 30s\n"
     ]
    }
   ],
   "source": [
    "%%time\n",
    "shap_archive = rfe(x_data, y_data, 'shap')"
   ]
  },
  {
   "cell_type": "markdown",
   "metadata": {},
   "source": [
    "### 2. One-shot"
   ]
  },
  {
   "cell_type": "code",
   "execution_count": 13,
   "metadata": {},
   "outputs": [
    {
     "data": {
      "image/png": "[encoded data removed]",
      "text/plain": [
       "<Figure size 576x684 with 2 Axes>"
      ]
     },
     "metadata": {},
     "output_type": "display_data"
    }
   ],
   "source": [
    "explainer = shap.TreeExplainer(model)\n",
    "shap_values = explainer.shap_values(x_data)\n",
    "shap_feat_imp = pd.Series(np.abs(shap_values).mean(axis=0), index=feats).sort_values(ascending=False)\n",
    "shap.summary_plot(shap_values, x_data)"
   ]
  },
  {
   "cell_type": "code",
   "execution_count": 14,
   "metadata": {},
   "outputs": [
    {
     "name": "stdout",
     "output_type": "stream",
     "text": [
      "40 -115393.6832243247\n",
      "45 -114406.79545733507\n",
      "50 -114198.24720690289\n",
      "55 -114096.26432631556\n",
      "60 -113960.06898229026\n",
      "65 -113470.07357235393\n",
      "70 -113597.63057095224\n",
      "75 -114634.05866770144\n",
      "80 -113103.90922226007\n",
      "85 -113779.09199021169\n"
     ]
    }
   ],
   "source": [
    "for i in range(40, 90, 5):\n",
    "    print(i, evaluate(data[shap_feat_imp.iloc[:i].index], data['price']))"
   ]
  },
  {
   "cell_type": "markdown",
   "metadata": {},
   "source": [
    "# Combine"
   ]
  },
  {
   "cell_type": "code",
   "execution_count": 15,
   "metadata": {},
   "outputs": [
    {
     "data": {
      "image/png": "[encoded data removed]",
      "text/plain": [
       "<Figure size 1440x720 with 1 Axes>"
      ]
     },
     "metadata": {},
     "output_type": "display_data"
    }
   ],
   "source": [
    "feat_imp_archive = pd.DataFrame(index=feats, columns=['basic', 'perm', 'shap', 'mean'])\n",
    "feat_imp_archive['basic'] = feat_imp.rank(ascending=False)\n",
    "feat_imp_archive['perm'] = perm_feat_imp.rank(ascending=False)\n",
    "feat_imp_archive['shap'] = shap_feat_imp.rank(ascending=False)\n",
    "feat_imp_archive['mean'] = feat_imp_archive[['basic', 'perm', 'shap']].mean(axis=1)\n",
    "feat_imp_archive = feat_imp_archive.sort_values('mean')\n",
    "feat_imp_archive[feat_imp_archive['mean']<20].plot(kind='bar', figsize=(20, 10), title='feature importance rankings');"
   ]
  },
  {
   "cell_type": "code",
   "execution_count": 16,
   "metadata": {},
   "outputs": [
    {
     "name": "stdout",
     "output_type": "stream",
     "text": [
      "40 -115504.03706645542\n",
      "45 -112793.3803917227\n",
      "50 -113242.52854845773\n",
      "55 -112082.29674764207\n",
      "60 -113145.88623107321\n",
      "65 -113493.26843290798\n",
      "70 -114960.13218496056\n",
      "75 -113766.97980934732\n",
      "80 -112729.81508592931\n",
      "85 -114212.27154476421\n"
     ]
    }
   ],
   "source": [
    "for i in range(40, 90, 5):\n",
    "    print(i, evaluate(data[feat_imp_archive.iloc[:i].index], data['price']))"
   ]
  },
  {
   "cell_type": "markdown",
   "metadata": {},
   "source": [
    "# Boruta"
   ]
  },
  {
   "cell_type": "code",
   "execution_count": 17,
   "metadata": {},
   "outputs": [
    {
     "name": "stdout",
     "output_type": "stream",
     "text": [
      "CPU times: user 1h 14min 39s, sys: 5.33 s, total: 1h 14min 45s\n",
      "Wall time: 19min 20s\n"
     ]
    }
   ],
   "source": [
    "%%time\n",
    "rf = RandomForestRegressor(n_jobs=-1, n_estimators=200, max_depth=5)\n",
    "feat_selector = BorutaPy(rf, n_estimators='auto', verbose=0, random_state=0)\n",
    "feat_selector.fit(data[feats].values, data['price'].values)"
   ]
  },
  {
   "cell_type": "code",
   "execution_count": 18,
   "metadata": {},
   "outputs": [
    {
     "data": {
      "text/plain": [
       "-117993.25905640313"
      ]
     },
     "execution_count": 18,
     "metadata": {},
     "output_type": "execute_result"
    }
   ],
   "source": [
    "evaluate(data[np.array(feats)[feat_selector.support_]], data['price'])"
   ]
  },
  {
   "cell_type": "markdown",
   "metadata": {},
   "source": [
    "boruta를 사용했더니 confirm된 feature들이 너무 적어서 성능이 오히려 떨어지네요. 제가 잘못 사용한 것일수도?"
   ]
  },
  {
   "cell_type": "markdown",
   "metadata": {},
   "source": [
    "# 결론\n",
    "\n",
    "여러 feature selection 테크닉들을 알아봤습니다. 이 상황에서는 permutation importance with rfe에서 n_feats=80일 때가 -111049로 가장 점수가 높았습니다. baseline 점수인 -114196보다 3000가량 향상했네요.\n",
    "\n",
    "물론 computational cost의 문제로 KFold가 아닌 단순 train-val set으로 검증했고, 각 모델 별로 hyperparameter tuning 또한 하지 않았기 때문에 정확한 비교는 아닙니다. 그래도 안하는 것보다는 나을 것이라고 믿는 정도겠습니다.\n",
    "\n",
    "다른 데이터셋이거나 다른 feature engineering을 했을 경우 이 결과값은 또 달라질 수 있습니다. 여러 가지 feature selection 테크닉들을 사용해보고 가장 성능이 좋은 feature set을 선택하는 것이 좋을 것 같습니다."
   ]
  }
 ],
 "metadata": {
  "kernelspec": {
   "display_name": "Python 3",
   "language": "python",
   "name": "python3"
  },
  "language_info": {
   "codemirror_mode": {
    "name": "ipython",
    "version": 3
   },
   "file_extension": ".py",
   "mimetype": "text/x-python",
   "name": "python",
   "nbconvert_exporter": "python",
   "pygments_lexer": "ipython3",
   "version": "3.7.7"
  }
 },
 "nbformat": 4,
 "nbformat_minor": 4
}
