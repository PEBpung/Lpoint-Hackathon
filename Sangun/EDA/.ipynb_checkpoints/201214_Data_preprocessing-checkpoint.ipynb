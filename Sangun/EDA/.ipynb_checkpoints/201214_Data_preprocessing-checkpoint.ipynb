{
 "cells": [
  {
   "cell_type": "markdown",
   "metadata": {},
   "source": [
    "# 대분류명으로 부터 중분류명 생성\n",
    "\n",
    "    * 검색어(sech_kwd)와 롯데홈쇼핑사이트 크롤링을 통해 얻은 대분류명(sech_clac_nm1)를 활용하여 중분류명(sech_clac_nm2) 생성\n",
    "    * 실제 거래정보내 해당 대분류안에서 거래가 이루어진 중분류명 비율을 적용하여 랜덤하게 생성"
   ]
  },
  {
   "cell_type": "code",
   "execution_count": 137,
   "metadata": {},
   "outputs": [
    {
     "name": "stderr",
     "output_type": "stream",
     "text": [
      "/home/aiffel0042/anaconda3/envs/aiffel/lib/python3.8/site-packages/tqdm/std.py:725: FutureWarning: The Panel class is removed from pandas. Accessing it from the top-level namespace will also be removed in the next version\n",
      "  from pandas import Panel\n"
     ]
    }
   ],
   "source": [
    "import pandas as pd\n",
    "import numpy as np\n",
    "from tqdm import tqdm\n",
    "tqdm.pandas()\n",
    "\n",
    "import random\n",
    "random.seed(1)"
   ]
  },
  {
   "cell_type": "markdown",
   "metadata": {},
   "source": [
    " * raw 데이터 불러오기"
   ]
  },
  {
   "cell_type": "code",
   "execution_count": 12,
   "metadata": {},
   "outputs": [
    {
     "name": "stderr",
     "output_type": "stream",
     "text": [
      "/home/aiffel0042/anaconda3/envs/aiffel/lib/python3.8/site-packages/IPython/core/interactiveshell.py:3146: DtypeWarning: Columns (9) have mixed types.Specify dtype option on import or set low_memory=False.\n",
      "  has_raised = await self.run_ast_nodes(code_ast.body, cell_name,\n"
     ]
    }
   ],
   "source": [
    "# 1. 온라인 행동 데이터\n",
    "raw_data1_Online_Act = pd.read_csv('./data/data1_Online_Act.csv')\n",
    "\n",
    "# 2. 거래 정보 데이터\n",
    "raw_data2_Trade_Inform = pd.read_csv('./data/data2_Trade_Inform.csv')\n",
    "\n",
    "# 3. 사용자 demo 정보(나이, 성별)\n",
    "raw_data3_Demog = pd.read_csv('./data/data3_Demog.csv')\n",
    "\n",
    "# 4. 상품 대중소 분류 정보\n",
    "raw_data4_Item_Class = pd.read_csv('./data/data4_Item_Class.csv')"
   ]
  },
  {
   "cell_type": "markdown",
   "metadata": {},
   "source": [
    "### 2. 거래정보와 4. 분류명 정보를 결합하여 각 대분류 내에서 중분류의 거래 비율이 얼마나 되는지 확인"
   ]
  },
  {
   "cell_type": "code",
   "execution_count": 11,
   "metadata": {},
   "outputs": [
    {
     "data": {
      "text/html": [
       "<div>\n",
       "<style scoped>\n",
       "    .dataframe tbody tr th:only-of-type {\n",
       "        vertical-align: middle;\n",
       "    }\n",
       "\n",
       "    .dataframe tbody tr th {\n",
       "        vertical-align: top;\n",
       "    }\n",
       "\n",
       "    .dataframe thead th {\n",
       "        text-align: right;\n",
       "    }\n",
       "</style>\n",
       "<table border=\"1\" class=\"dataframe\">\n",
       "  <thead>\n",
       "    <tr style=\"text-align: right;\">\n",
       "      <th></th>\n",
       "      <th>clnt_id</th>\n",
       "      <th>trans_id</th>\n",
       "      <th>trans_seq</th>\n",
       "      <th>biz_unit</th>\n",
       "      <th>pd_c</th>\n",
       "      <th>de_dt</th>\n",
       "      <th>de_tm</th>\n",
       "      <th>buy_am</th>\n",
       "      <th>buy_ct</th>\n",
       "    </tr>\n",
       "  </thead>\n",
       "  <tbody>\n",
       "    <tr>\n",
       "      <th>0</th>\n",
       "      <td>21922</td>\n",
       "      <td>104999</td>\n",
       "      <td>1</td>\n",
       "      <td>A03</td>\n",
       "      <td>unknown</td>\n",
       "      <td>20190920</td>\n",
       "      <td>12:41</td>\n",
       "      <td>5990</td>\n",
       "      <td>1</td>\n",
       "    </tr>\n",
       "    <tr>\n",
       "      <th>1</th>\n",
       "      <td>21279</td>\n",
       "      <td>104907</td>\n",
       "      <td>4</td>\n",
       "      <td>A03</td>\n",
       "      <td>unknown</td>\n",
       "      <td>20190920</td>\n",
       "      <td>10:27</td>\n",
       "      <td>10900</td>\n",
       "      <td>1</td>\n",
       "    </tr>\n",
       "    <tr>\n",
       "      <th>2</th>\n",
       "      <td>39423</td>\n",
       "      <td>105124</td>\n",
       "      <td>11</td>\n",
       "      <td>A03</td>\n",
       "      <td>unknown</td>\n",
       "      <td>20190920</td>\n",
       "      <td>17:26</td>\n",
       "      <td>12900</td>\n",
       "      <td>1</td>\n",
       "    </tr>\n",
       "    <tr>\n",
       "      <th>3</th>\n",
       "      <td>18362</td>\n",
       "      <td>104010</td>\n",
       "      <td>1</td>\n",
       "      <td>A03</td>\n",
       "      <td>unknown</td>\n",
       "      <td>20190920</td>\n",
       "      <td>09:57</td>\n",
       "      <td>9900</td>\n",
       "      <td>1</td>\n",
       "    </tr>\n",
       "    <tr>\n",
       "      <th>4</th>\n",
       "      <td>39423</td>\n",
       "      <td>105124</td>\n",
       "      <td>13</td>\n",
       "      <td>A03</td>\n",
       "      <td>0565</td>\n",
       "      <td>20190920</td>\n",
       "      <td>17:26</td>\n",
       "      <td>2990</td>\n",
       "      <td>1</td>\n",
       "    </tr>\n",
       "    <tr>\n",
       "      <th>...</th>\n",
       "      <td>...</td>\n",
       "      <td>...</td>\n",
       "      <td>...</td>\n",
       "      <td>...</td>\n",
       "      <td>...</td>\n",
       "      <td>...</td>\n",
       "      <td>...</td>\n",
       "      <td>...</td>\n",
       "      <td>...</td>\n",
       "    </tr>\n",
       "    <tr>\n",
       "      <th>599956</th>\n",
       "      <td>35311</td>\n",
       "      <td>2839</td>\n",
       "      <td>3</td>\n",
       "      <td>B03</td>\n",
       "      <td>0339</td>\n",
       "      <td>20190927</td>\n",
       "      <td>14:09</td>\n",
       "      <td>3500</td>\n",
       "      <td>1</td>\n",
       "    </tr>\n",
       "    <tr>\n",
       "      <th>599957</th>\n",
       "      <td>35311</td>\n",
       "      <td>2839</td>\n",
       "      <td>4</td>\n",
       "      <td>B03</td>\n",
       "      <td>0339</td>\n",
       "      <td>20190927</td>\n",
       "      <td>14:09</td>\n",
       "      <td>3600</td>\n",
       "      <td>2</td>\n",
       "    </tr>\n",
       "    <tr>\n",
       "      <th>599958</th>\n",
       "      <td>35311</td>\n",
       "      <td>2839</td>\n",
       "      <td>5</td>\n",
       "      <td>B03</td>\n",
       "      <td>0339</td>\n",
       "      <td>20190927</td>\n",
       "      <td>14:09</td>\n",
       "      <td>3500</td>\n",
       "      <td>1</td>\n",
       "    </tr>\n",
       "    <tr>\n",
       "      <th>599959</th>\n",
       "      <td>35311</td>\n",
       "      <td>2839</td>\n",
       "      <td>2</td>\n",
       "      <td>B03</td>\n",
       "      <td>0339</td>\n",
       "      <td>20190927</td>\n",
       "      <td>14:09</td>\n",
       "      <td>4500</td>\n",
       "      <td>1</td>\n",
       "    </tr>\n",
       "    <tr>\n",
       "      <th>599960</th>\n",
       "      <td>35311</td>\n",
       "      <td>2839</td>\n",
       "      <td>6</td>\n",
       "      <td>B03</td>\n",
       "      <td>0324</td>\n",
       "      <td>20190927</td>\n",
       "      <td>14:09</td>\n",
       "      <td>6800</td>\n",
       "      <td>1</td>\n",
       "    </tr>\n",
       "  </tbody>\n",
       "</table>\n",
       "<p>599961 rows × 9 columns</p>\n",
       "</div>"
      ],
      "text/plain": [
       "        clnt_id  trans_id  trans_seq biz_unit     pd_c     de_dt  de_tm  \\\n",
       "0         21922    104999          1      A03  unknown  20190920  12:41   \n",
       "1         21279    104907          4      A03  unknown  20190920  10:27   \n",
       "2         39423    105124         11      A03  unknown  20190920  17:26   \n",
       "3         18362    104010          1      A03  unknown  20190920  09:57   \n",
       "4         39423    105124         13      A03     0565  20190920  17:26   \n",
       "...         ...       ...        ...      ...      ...       ...    ...   \n",
       "599956    35311      2839          3      B03     0339  20190927  14:09   \n",
       "599957    35311      2839          4      B03     0339  20190927  14:09   \n",
       "599958    35311      2839          5      B03     0339  20190927  14:09   \n",
       "599959    35311      2839          2      B03     0339  20190927  14:09   \n",
       "599960    35311      2839          6      B03     0324  20190927  14:09   \n",
       "\n",
       "        buy_am  buy_ct  \n",
       "0         5990       1  \n",
       "1        10900       1  \n",
       "2        12900       1  \n",
       "3         9900       1  \n",
       "4         2990       1  \n",
       "...        ...     ...  \n",
       "599956    3500       1  \n",
       "599957    3600       2  \n",
       "599958    3500       1  \n",
       "599959    4500       1  \n",
       "599960    6800       1  \n",
       "\n",
       "[599961 rows x 9 columns]"
      ]
     },
     "execution_count": 11,
     "metadata": {},
     "output_type": "execute_result"
    }
   ],
   "source": [
    "raw_data2_Trade_Inform"
   ]
  },
  {
   "cell_type": "code",
   "execution_count": 15,
   "metadata": {},
   "outputs": [
    {
     "data": {
      "text/html": [
       "<div>\n",
       "<style scoped>\n",
       "    .dataframe tbody tr th:only-of-type {\n",
       "        vertical-align: middle;\n",
       "    }\n",
       "\n",
       "    .dataframe tbody tr th {\n",
       "        vertical-align: top;\n",
       "    }\n",
       "\n",
       "    .dataframe thead th {\n",
       "        text-align: right;\n",
       "    }\n",
       "</style>\n",
       "<table border=\"1\" class=\"dataframe\">\n",
       "  <thead>\n",
       "    <tr style=\"text-align: right;\">\n",
       "      <th></th>\n",
       "      <th>pd_c</th>\n",
       "      <th>clac_nm1</th>\n",
       "      <th>clac_nm2</th>\n",
       "      <th>clac_nm3</th>\n",
       "    </tr>\n",
       "  </thead>\n",
       "  <tbody>\n",
       "    <tr>\n",
       "      <th>0</th>\n",
       "      <td>1</td>\n",
       "      <td>Automotive Products</td>\n",
       "      <td>Automotive Replacement Repair / Maintanance Kits</td>\n",
       "      <td>Automobile Oil / Additives</td>\n",
       "    </tr>\n",
       "    <tr>\n",
       "      <th>1</th>\n",
       "      <td>2</td>\n",
       "      <td>Automotive Products</td>\n",
       "      <td>Automotive Replacement Repair / Maintanance Kits</td>\n",
       "      <td>Car Lights</td>\n",
       "    </tr>\n",
       "    <tr>\n",
       "      <th>2</th>\n",
       "      <td>3</td>\n",
       "      <td>Automotive Products</td>\n",
       "      <td>Automotive Replacement Repair / Maintanance Kits</td>\n",
       "      <td>Car Paint</td>\n",
       "    </tr>\n",
       "  </tbody>\n",
       "</table>\n",
       "</div>"
      ],
      "text/plain": [
       "   pd_c             clac_nm1  \\\n",
       "0     1  Automotive Products   \n",
       "1     2  Automotive Products   \n",
       "2     3  Automotive Products   \n",
       "\n",
       "                                           clac_nm2  \\\n",
       "0  Automotive Replacement Repair / Maintanance Kits   \n",
       "1  Automotive Replacement Repair / Maintanance Kits   \n",
       "2  Automotive Replacement Repair / Maintanance Kits   \n",
       "\n",
       "                     clac_nm3  \n",
       "0  Automobile Oil / Additives  \n",
       "1                  Car Lights  \n",
       "2                   Car Paint  "
      ]
     },
     "execution_count": 15,
     "metadata": {},
     "output_type": "execute_result"
    }
   ],
   "source": [
    "raw_data4_Item_Class.head(3)"
   ]
  },
  {
   "cell_type": "markdown",
   "metadata": {},
   "source": [
    " * 결측치 확인"
   ]
  },
  {
   "cell_type": "code",
   "execution_count": 95,
   "metadata": {},
   "outputs": [
    {
     "data": {
      "text/plain": [
       "pd_c        0\n",
       "clac_nm1    0\n",
       "clac_nm2    0\n",
       "clac_nm3    2\n",
       "dtype: int64"
      ]
     },
     "execution_count": 95,
     "metadata": {},
     "output_type": "execute_result"
    }
   ],
   "source": [
    "raw_data4_Item_Class.isna().sum()"
   ]
  },
  {
   "cell_type": "markdown",
   "metadata": {},
   "source": [
    " * 2.거래정보 데이터에 4.상품분류명 데이터 병합"
   ]
  },
  {
   "cell_type": "markdown",
   "metadata": {},
   "source": [
    "    * merge의 key역할을 수행하기 위해 raw_data4_Item_Class['pd_c'] data를 raw_data2와 동일한 str 형으로 변경\n",
    "    \n",
    "     ### 4. 데이터 병합을 위하여 상품 이름정보의 pd_c 데이터 타입 변경 (int -> str)\n",
    "     * raw_data2_Trade_Inform에 있는 pd_c열의 경우, NaN과 unknown 값을 포함하기 때문에,  \n",
    "       자료형을 int나 float로 변경할 수 없음(변경 시, 에러 발생)\n",
    "     * 따라서 4. 상품 이름 정보의 pd_c를 str 형으로 자료형 변경\n",
    "     * 그냥 object 형으로만 변경 시, 값이 같아도\n",
    "         merge_raw123 에서는 pd_c = '0062'(str형)으로 인식하고,\n",
    "         4. 상품이름 정보에서는 pd_c = 62(int형으로 인식해서 병합 시, 데이터 matching이 안됨"
   ]
  },
  {
   "cell_type": "code",
   "execution_count": 23,
   "metadata": {},
   "outputs": [],
   "source": [
    "# 4. 상품 이름 데이터의 'pd_c' 열의 값을 4자리 숫자로 변환합니다.\n",
    "# 예시) '1' => '0001', '62' => '0062', '773' => '0773' \n",
    "\n",
    "raw_data4_Item_Class['pd_c'] = raw_data4_Item_Class['pd_c'].astype('str')\n",
    "\n",
    "cnt_add_zero = 0\n",
    "\n",
    "for i in range(999):\n",
    "    cnt_add_zero = 4 - len(raw_data4_Item_Class['pd_c'][i])\n",
    "    add_zero = \"0\" * cnt_add_zero\n",
    "    raw_data4_Item_Class['pd_c'][i] = add_zero + raw_data4_Item_Class['pd_c'][i]"
   ]
  },
  {
   "cell_type": "code",
   "execution_count": 24,
   "metadata": {},
   "outputs": [],
   "source": [
    "merge_raw24 = pd.merge(raw_data2_Trade_Inform, raw_data4_Item_Class, on='pd_c', how='left')"
   ]
  },
  {
   "cell_type": "code",
   "execution_count": 25,
   "metadata": {},
   "outputs": [
    {
     "data": {
      "text/html": [
       "<div>\n",
       "<style scoped>\n",
       "    .dataframe tbody tr th:only-of-type {\n",
       "        vertical-align: middle;\n",
       "    }\n",
       "\n",
       "    .dataframe tbody tr th {\n",
       "        vertical-align: top;\n",
       "    }\n",
       "\n",
       "    .dataframe thead th {\n",
       "        text-align: right;\n",
       "    }\n",
       "</style>\n",
       "<table border=\"1\" class=\"dataframe\">\n",
       "  <thead>\n",
       "    <tr style=\"text-align: right;\">\n",
       "      <th></th>\n",
       "      <th>clnt_id</th>\n",
       "      <th>trans_id</th>\n",
       "      <th>trans_seq</th>\n",
       "      <th>biz_unit</th>\n",
       "      <th>pd_c</th>\n",
       "      <th>de_dt</th>\n",
       "      <th>de_tm</th>\n",
       "      <th>buy_am</th>\n",
       "      <th>buy_ct</th>\n",
       "      <th>clac_nm1</th>\n",
       "      <th>clac_nm2</th>\n",
       "      <th>clac_nm3</th>\n",
       "    </tr>\n",
       "  </thead>\n",
       "  <tbody>\n",
       "    <tr>\n",
       "      <th>0</th>\n",
       "      <td>21922</td>\n",
       "      <td>104999</td>\n",
       "      <td>1</td>\n",
       "      <td>A03</td>\n",
       "      <td>unknown</td>\n",
       "      <td>20190920</td>\n",
       "      <td>12:41</td>\n",
       "      <td>5990</td>\n",
       "      <td>1</td>\n",
       "      <td>NaN</td>\n",
       "      <td>NaN</td>\n",
       "      <td>NaN</td>\n",
       "    </tr>\n",
       "    <tr>\n",
       "      <th>1</th>\n",
       "      <td>21279</td>\n",
       "      <td>104907</td>\n",
       "      <td>4</td>\n",
       "      <td>A03</td>\n",
       "      <td>unknown</td>\n",
       "      <td>20190920</td>\n",
       "      <td>10:27</td>\n",
       "      <td>10900</td>\n",
       "      <td>1</td>\n",
       "      <td>NaN</td>\n",
       "      <td>NaN</td>\n",
       "      <td>NaN</td>\n",
       "    </tr>\n",
       "    <tr>\n",
       "      <th>2</th>\n",
       "      <td>39423</td>\n",
       "      <td>105124</td>\n",
       "      <td>11</td>\n",
       "      <td>A03</td>\n",
       "      <td>unknown</td>\n",
       "      <td>20190920</td>\n",
       "      <td>17:26</td>\n",
       "      <td>12900</td>\n",
       "      <td>1</td>\n",
       "      <td>NaN</td>\n",
       "      <td>NaN</td>\n",
       "      <td>NaN</td>\n",
       "    </tr>\n",
       "    <tr>\n",
       "      <th>3</th>\n",
       "      <td>18362</td>\n",
       "      <td>104010</td>\n",
       "      <td>1</td>\n",
       "      <td>A03</td>\n",
       "      <td>unknown</td>\n",
       "      <td>20190920</td>\n",
       "      <td>09:57</td>\n",
       "      <td>9900</td>\n",
       "      <td>1</td>\n",
       "      <td>NaN</td>\n",
       "      <td>NaN</td>\n",
       "      <td>NaN</td>\n",
       "    </tr>\n",
       "    <tr>\n",
       "      <th>4</th>\n",
       "      <td>39423</td>\n",
       "      <td>105124</td>\n",
       "      <td>13</td>\n",
       "      <td>A03</td>\n",
       "      <td>0565</td>\n",
       "      <td>20190920</td>\n",
       "      <td>17:26</td>\n",
       "      <td>2990</td>\n",
       "      <td>1</td>\n",
       "      <td>Fruits</td>\n",
       "      <td>Imported Fruits</td>\n",
       "      <td>Bananas</td>\n",
       "    </tr>\n",
       "    <tr>\n",
       "      <th>...</th>\n",
       "      <td>...</td>\n",
       "      <td>...</td>\n",
       "      <td>...</td>\n",
       "      <td>...</td>\n",
       "      <td>...</td>\n",
       "      <td>...</td>\n",
       "      <td>...</td>\n",
       "      <td>...</td>\n",
       "      <td>...</td>\n",
       "      <td>...</td>\n",
       "      <td>...</td>\n",
       "      <td>...</td>\n",
       "    </tr>\n",
       "    <tr>\n",
       "      <th>599956</th>\n",
       "      <td>35311</td>\n",
       "      <td>2839</td>\n",
       "      <td>3</td>\n",
       "      <td>B03</td>\n",
       "      <td>0339</td>\n",
       "      <td>20190927</td>\n",
       "      <td>14:09</td>\n",
       "      <td>3500</td>\n",
       "      <td>1</td>\n",
       "      <td>Cosmetics / Beauty Care</td>\n",
       "      <td>Skin Care</td>\n",
       "      <td>Facial Masks</td>\n",
       "    </tr>\n",
       "    <tr>\n",
       "      <th>599957</th>\n",
       "      <td>35311</td>\n",
       "      <td>2839</td>\n",
       "      <td>4</td>\n",
       "      <td>B03</td>\n",
       "      <td>0339</td>\n",
       "      <td>20190927</td>\n",
       "      <td>14:09</td>\n",
       "      <td>3600</td>\n",
       "      <td>2</td>\n",
       "      <td>Cosmetics / Beauty Care</td>\n",
       "      <td>Skin Care</td>\n",
       "      <td>Facial Masks</td>\n",
       "    </tr>\n",
       "    <tr>\n",
       "      <th>599958</th>\n",
       "      <td>35311</td>\n",
       "      <td>2839</td>\n",
       "      <td>5</td>\n",
       "      <td>B03</td>\n",
       "      <td>0339</td>\n",
       "      <td>20190927</td>\n",
       "      <td>14:09</td>\n",
       "      <td>3500</td>\n",
       "      <td>1</td>\n",
       "      <td>Cosmetics / Beauty Care</td>\n",
       "      <td>Skin Care</td>\n",
       "      <td>Facial Masks</td>\n",
       "    </tr>\n",
       "    <tr>\n",
       "      <th>599959</th>\n",
       "      <td>35311</td>\n",
       "      <td>2839</td>\n",
       "      <td>2</td>\n",
       "      <td>B03</td>\n",
       "      <td>0339</td>\n",
       "      <td>20190927</td>\n",
       "      <td>14:09</td>\n",
       "      <td>4500</td>\n",
       "      <td>1</td>\n",
       "      <td>Cosmetics / Beauty Care</td>\n",
       "      <td>Skin Care</td>\n",
       "      <td>Facial Masks</td>\n",
       "    </tr>\n",
       "    <tr>\n",
       "      <th>599960</th>\n",
       "      <td>35311</td>\n",
       "      <td>2839</td>\n",
       "      <td>6</td>\n",
       "      <td>B03</td>\n",
       "      <td>0324</td>\n",
       "      <td>20190927</td>\n",
       "      <td>14:09</td>\n",
       "      <td>6800</td>\n",
       "      <td>1</td>\n",
       "      <td>Cosmetics / Beauty Care</td>\n",
       "      <td>Makeup</td>\n",
       "      <td>Nail Stickers / Stones</td>\n",
       "    </tr>\n",
       "  </tbody>\n",
       "</table>\n",
       "<p>599961 rows × 12 columns</p>\n",
       "</div>"
      ],
      "text/plain": [
       "        clnt_id  trans_id  trans_seq biz_unit     pd_c     de_dt  de_tm  \\\n",
       "0         21922    104999          1      A03  unknown  20190920  12:41   \n",
       "1         21279    104907          4      A03  unknown  20190920  10:27   \n",
       "2         39423    105124         11      A03  unknown  20190920  17:26   \n",
       "3         18362    104010          1      A03  unknown  20190920  09:57   \n",
       "4         39423    105124         13      A03     0565  20190920  17:26   \n",
       "...         ...       ...        ...      ...      ...       ...    ...   \n",
       "599956    35311      2839          3      B03     0339  20190927  14:09   \n",
       "599957    35311      2839          4      B03     0339  20190927  14:09   \n",
       "599958    35311      2839          5      B03     0339  20190927  14:09   \n",
       "599959    35311      2839          2      B03     0339  20190927  14:09   \n",
       "599960    35311      2839          6      B03     0324  20190927  14:09   \n",
       "\n",
       "        buy_am  buy_ct                 clac_nm1         clac_nm2  \\\n",
       "0         5990       1                      NaN              NaN   \n",
       "1        10900       1                      NaN              NaN   \n",
       "2        12900       1                      NaN              NaN   \n",
       "3         9900       1                      NaN              NaN   \n",
       "4         2990       1                   Fruits  Imported Fruits   \n",
       "...        ...     ...                      ...              ...   \n",
       "599956    3500       1  Cosmetics / Beauty Care        Skin Care   \n",
       "599957    3600       2  Cosmetics / Beauty Care        Skin Care   \n",
       "599958    3500       1  Cosmetics / Beauty Care        Skin Care   \n",
       "599959    4500       1  Cosmetics / Beauty Care        Skin Care   \n",
       "599960    6800       1  Cosmetics / Beauty Care           Makeup   \n",
       "\n",
       "                      clac_nm3  \n",
       "0                          NaN  \n",
       "1                          NaN  \n",
       "2                          NaN  \n",
       "3                          NaN  \n",
       "4                      Bananas  \n",
       "...                        ...  \n",
       "599956            Facial Masks  \n",
       "599957            Facial Masks  \n",
       "599958            Facial Masks  \n",
       "599959            Facial Masks  \n",
       "599960  Nail Stickers / Stones  \n",
       "\n",
       "[599961 rows x 12 columns]"
      ]
     },
     "execution_count": 25,
     "metadata": {},
     "output_type": "execute_result"
    }
   ],
   "source": [
    "merge_raw24"
   ]
  },
  {
   "cell_type": "markdown",
   "metadata": {},
   "source": [
    " * 실제 거래에서 각 대분류(clac_nm1) 별 거래 갯수 확인"
   ]
  },
  {
   "cell_type": "code",
   "execution_count": 27,
   "metadata": {},
   "outputs": [
    {
     "data": {
      "text/plain": [
       "Vegetables                                   69308\n",
       "Snack Foods                                  58880\n",
       "Dairy Products                               46474\n",
       "Meats                                        44157\n",
       "Chilled Foods                                43926\n",
       "Substitute Foods                             42477\n",
       "Beverages                                    34756\n",
       "Fruits                                       33540\n",
       "Frozen Foods                                 30104\n",
       "Spices / Seasonings                          20425\n",
       "Liquors / Alcoholic Beverages                16279\n",
       "Kitchenware                                  12588\n",
       "Cleaning / Laundry / Bathroom Accessories    12157\n",
       "Detergents / Hygiene Goods                   11942\n",
       "Sea Foods                                     9897\n",
       "Personal Care                                 8858\n",
       "Dried Sea Foods                               8652\n",
       "Canned / Jarred Foods                         7715\n",
       "Cosmetics / Beauty Care                       7252\n",
       "Cooked Foods                                  7053\n",
       "Tenants / Restaurants                         5619\n",
       "Women's Clothing                              5534\n",
       "Underwear / Socks and Hosiery / Homewear      4216\n",
       "Coffee / Tea                                  3982\n",
       "Grains                                        3561\n",
       "Fashion Accessories                           3553\n",
       "Toy                                           2645\n",
       "Stationary / Office Supplies                  2484\n",
       "Health Foods                                  2259\n",
       "Baby Foods                                    2027\n",
       "Birth Supplies / Baby Products                2016\n",
       "Tableware / Cooking Utensils                  1909\n",
       "Gardening / Pets                              1855\n",
       "Sport Fashion                                 1835\n",
       "Kids' Clothing                                1668\n",
       "Tools / Safety Supplies                       1203\n",
       "Bedding / Handicraft                          1117\n",
       "Men's Clothing                                 990\n",
       "Outdoor / Leisure Activities                   820\n",
       "Automotive Products                            758\n",
       "Health Care                                    656\n",
       "Others (Non-Products)                          642\n",
       "Home / Kitchen Appliances                      586\n",
       "Home Decor / Lighting                          524\n",
       "Seasonal Sports                                497\n",
       "Tobacco                                        475\n",
       "Ball Game / Field Sports                       432\n",
       "Furniture                                      380\n",
       "Books / Records / Instruments                  318\n",
       "Heating / Cooling Electronics                  202\n",
       "Health / Fitness Training                      182\n",
       "Gift Certificates / Cards                      172\n",
       "Cell Phones / Accessories                      165\n",
       "Other Products                                 136\n",
       "Computers                                      119\n",
       "Travel / Leisure Services                      109\n",
       "Video / Audio System Electronics                96\n",
       "Refrigerators and Washing Machines              78\n",
       "Living / Rental Services                        36\n",
       "Finance / Insurance Service                     13\n",
       "Name: clac_nm1, dtype: int64"
      ]
     },
     "execution_count": 27,
     "metadata": {},
     "output_type": "execute_result"
    }
   ],
   "source": [
    "merge_raw24['clac_nm1'].value_counts()"
   ]
  },
  {
   "cell_type": "markdown",
   "metadata": {},
   "source": [
    " * 실제 거래에서 각 대분류(clac_nm1) 별 중분류(clac_nm2) 갯수 확인"
   ]
  },
  {
   "cell_type": "code",
   "execution_count": 28,
   "metadata": {},
   "outputs": [
    {
     "data": {
      "text/plain": [
       "Tofu / Bean Sprouts       18153\n",
       "Leaf Vegetables           15594\n",
       "Fruit Vegetables          14155\n",
       "Mushrooms                  7244\n",
       "Root Vegetables            6903\n",
       "Western Vegetables         6166\n",
       "Korean Greens / Namuls      792\n",
       "Chinese Herb Medicines      284\n",
       "Vegetable Gift Sets          17\n",
       "Name: clac_nm2, dtype: int64"
      ]
     },
     "execution_count": 28,
     "metadata": {},
     "output_type": "execute_result"
    }
   ],
   "source": [
    "merge_raw24['clac_nm2'][merge_raw24['clac_nm1'] == 'Vegetables'].value_counts()"
   ]
  },
  {
   "cell_type": "markdown",
   "metadata": {},
   "source": [
    " * 대분류가 'Vegetables' 일 때, 각 중분류가 나올 확률"
   ]
  },
  {
   "cell_type": "code",
   "execution_count": 30,
   "metadata": {},
   "outputs": [
    {
     "data": {
      "text/plain": [
       "Tofu / Bean Sprouts       0.261918\n",
       "Leaf Vegetables           0.224996\n",
       "Fruit Vegetables          0.204233\n",
       "Mushrooms                 0.104519\n",
       "Root Vegetables           0.099599\n",
       "Western Vegetables        0.088965\n",
       "Korean Greens / Namuls    0.011427\n",
       "Chinese Herb Medicines    0.004098\n",
       "Vegetable Gift Sets       0.000245\n",
       "Name: clac_nm2, dtype: float64"
      ]
     },
     "execution_count": 30,
     "metadata": {},
     "output_type": "execute_result"
    }
   ],
   "source": [
    "merge_raw24['clac_nm2'][merge_raw24['clac_nm1'] == 'Vegetables'].value_counts() / merge_raw24['clac_nm2'][merge_raw24['clac_nm1'] == 'Vegetables'].value_counts().sum()"
   ]
  },
  {
   "cell_type": "code",
   "execution_count": 39,
   "metadata": {},
   "outputs": [
    {
     "data": {
      "text/plain": [
       "[0.26191781612512266,\n",
       " 0.22499567149535407,\n",
       " 0.2042332775437179,\n",
       " 0.10451895885034916,\n",
       " 0.09959889190281064,\n",
       " 0.08896519882264674,\n",
       " 0.011427252265250765,\n",
       " 0.0040976510648121425,\n",
       " 0.0002452819299359381]"
      ]
     },
     "execution_count": 39,
     "metadata": {},
     "output_type": "execute_result"
    }
   ],
   "source": [
    "list(merge_raw24['clac_nm2'][merge_raw24['clac_nm1'] == 'Vegetables'].value_counts() / merge_raw24['clac_nm2'][merge_raw24['clac_nm1'] == 'Vegetables'].value_counts().sum())"
   ]
  },
  {
   "cell_type": "markdown",
   "metadata": {},
   "source": [
    " * 대분류'Vegetables'내 중분류 리스트"
   ]
  },
  {
   "cell_type": "code",
   "execution_count": 33,
   "metadata": {},
   "outputs": [
    {
     "data": {
      "text/plain": [
       "['Tofu / Bean Sprouts',\n",
       " 'Leaf Vegetables',\n",
       " 'Fruit Vegetables',\n",
       " 'Mushrooms',\n",
       " 'Root Vegetables',\n",
       " 'Western Vegetables',\n",
       " 'Korean Greens / Namuls',\n",
       " 'Chinese Herb Medicines',\n",
       " 'Vegetable Gift Sets']"
      ]
     },
     "execution_count": 33,
     "metadata": {},
     "output_type": "execute_result"
    }
   ],
   "source": [
    "ind = list(merge_raw24['clac_nm2'][merge_raw24['clac_nm1'] == 'Vegetables'].value_counts().index)\n",
    "ind"
   ]
  },
  {
   "cell_type": "markdown",
   "metadata": {},
   "source": [
    " * 대분류 리스트"
   ]
  },
  {
   "cell_type": "code",
   "execution_count": 93,
   "metadata": {
    "collapsed": true
   },
   "outputs": [
    {
     "data": {
      "text/plain": [
       "['Vegetables',\n",
       " 'Snack Foods',\n",
       " 'Dairy Products',\n",
       " 'Meats',\n",
       " 'Chilled Foods',\n",
       " 'Substitute Foods',\n",
       " 'Beverages',\n",
       " 'Fruits',\n",
       " 'Frozen Foods',\n",
       " 'Spices / Seasonings',\n",
       " 'Liquors / Alcoholic Beverages',\n",
       " 'Kitchenware',\n",
       " 'Cleaning / Laundry / Bathroom Accessories',\n",
       " 'Detergents / Hygiene Goods',\n",
       " 'Sea Foods',\n",
       " 'Personal Care',\n",
       " 'Dried Sea Foods',\n",
       " 'Canned / Jarred Foods',\n",
       " 'Cosmetics / Beauty Care',\n",
       " 'Cooked Foods',\n",
       " 'Tenants / Restaurants',\n",
       " \"Women's Clothing\",\n",
       " 'Underwear / Socks and Hosiery / Homewear',\n",
       " 'Coffee / Tea',\n",
       " 'Grains',\n",
       " 'Fashion Accessories',\n",
       " 'Toy',\n",
       " 'Stationary / Office Supplies',\n",
       " 'Health Foods',\n",
       " 'Baby Foods',\n",
       " 'Birth Supplies / Baby Products',\n",
       " 'Tableware / Cooking Utensils',\n",
       " 'Gardening / Pets',\n",
       " 'Sport Fashion',\n",
       " \"Kids' Clothing\",\n",
       " 'Tools / Safety Supplies',\n",
       " 'Bedding / Handicraft',\n",
       " \"Men's Clothing\",\n",
       " 'Outdoor / Leisure Activities',\n",
       " 'Automotive Products',\n",
       " 'Health Care',\n",
       " 'Others (Non-Products)',\n",
       " 'Home / Kitchen Appliances',\n",
       " 'Home Decor / Lighting',\n",
       " 'Seasonal Sports',\n",
       " 'Tobacco',\n",
       " 'Ball Game / Field Sports',\n",
       " 'Furniture',\n",
       " 'Books / Records / Instruments',\n",
       " 'Heating / Cooling Electronics',\n",
       " 'Health / Fitness Training',\n",
       " 'Gift Certificates / Cards',\n",
       " 'Cell Phones / Accessories',\n",
       " 'Other Products',\n",
       " 'Computers',\n",
       " 'Travel / Leisure Services',\n",
       " 'Video / Audio System Electronics',\n",
       " 'Refrigerators and Washing Machines',\n",
       " 'Living / Rental Services',\n",
       " 'Finance / Insurance Service']"
      ]
     },
     "execution_count": 93,
     "metadata": {},
     "output_type": "execute_result"
    }
   ],
   "source": [
    "list_clac_nm1 = list(merge_raw24['clac_nm1'].value_counts().index)\n",
    "list_clac_nm1"
   ]
  },
  {
   "cell_type": "code",
   "execution_count": 97,
   "metadata": {},
   "outputs": [
    {
     "data": {
      "text/plain": [
       "True"
      ]
     },
     "execution_count": 97,
     "metadata": {},
     "output_type": "execute_result"
    }
   ],
   "source": [
    "'Vegetables' in list_clac_nm1"
   ]
  },
  {
   "cell_type": "markdown",
   "metadata": {},
   "source": [
    " * 대분류명을 입력하면 해당 대분류 내에 중분류 비율에 맞추어 중분류명 반환하는 함수 정의"
   ]
  },
  {
   "cell_type": "code",
   "execution_count": 109,
   "metadata": {},
   "outputs": [],
   "source": [
    "def clac_nm1_to_nm2(calc_name1):\n",
    "    \n",
    "    # 대분류명이 정상일 경우,\n",
    "    if calc_name1 in list_clac_nm1:\n",
    "        \n",
    "        # 입력받은 대분류에 포함된 중분류 리스트\n",
    "        c_nm2_list = list(merge_raw24['clac_nm2'][merge_raw24['clac_nm1'] == calc_name1].value_counts().index)\n",
    "        \n",
    "        # 대분류에 따른 중분류 확률\n",
    "        probs = list(merge_raw24['clac_nm2'][merge_raw24['clac_nm1'] == calc_name1].value_counts() / merge_raw24['clac_nm2'][merge_raw24['clac_nm1'] == calc_name1].value_counts().sum())\n",
    "        \n",
    "        c_nm2_choiced = random.choices(c_nm2_list, weights = probs)\n",
    "        \n",
    "        return c_nm2_choiced[0]\n",
    "    \n",
    "    # 대분류명이 결측치 또는 비정상일 경우,\n",
    "    else:\n",
    "        return np.nan\n",
    "    \n",
    "    "
   ]
  },
  {
   "cell_type": "markdown",
   "metadata": {},
   "source": [
    " * 함수 동작 test"
   ]
  },
  {
   "cell_type": "code",
   "execution_count": 110,
   "metadata": {},
   "outputs": [
    {
     "data": {
      "text/plain": [
       "nan"
      ]
     },
     "execution_count": 110,
     "metadata": {},
     "output_type": "execute_result"
    }
   ],
   "source": [
    "clac_nm1_to_nm2('unown')"
   ]
  },
  {
   "cell_type": "code",
   "execution_count": 131,
   "metadata": {},
   "outputs": [
    {
     "data": {
      "text/plain": [
       "nan"
      ]
     },
     "execution_count": 131,
     "metadata": {},
     "output_type": "execute_result"
    }
   ],
   "source": [
    "clac_nm1_to_nm2(merge_table['sech_clac_nm1'][0])"
   ]
  },
  {
   "cell_type": "code",
   "execution_count": 129,
   "metadata": {},
   "outputs": [
    {
     "data": {
      "text/plain": [
       "'Leaf Vegetables'"
      ]
     },
     "execution_count": 129,
     "metadata": {},
     "output_type": "execute_result"
    }
   ],
   "source": [
    "clac_nm1_to_nm2('Vegetables')"
   ]
  },
  {
   "cell_type": "markdown",
   "metadata": {},
   "source": [
    " * Merge Data 불러오기"
   ]
  },
  {
   "cell_type": "code",
   "execution_count": 134,
   "metadata": {},
   "outputs": [
    {
     "name": "stderr",
     "output_type": "stream",
     "text": [
      "/home/aiffel0042/anaconda3/envs/aiffel/lib/python3.8/site-packages/IPython/core/interactiveshell.py:3146: DtypeWarning: Columns (17,27) have mixed types.Specify dtype option on import or set low_memory=False.\n",
      "  has_raised = await self.run_ast_nodes(code_ast.body, cell_name,\n"
     ]
    }
   ],
   "source": [
    "merge_table = pd.read_csv(\"merge_sech_clac_nm1.csv\")\n",
    "merge_table.drop(\"Unnamed: 0\", axis=1, inplace=True)"
   ]
  },
  {
   "cell_type": "code",
   "execution_count": 139,
   "metadata": {},
   "outputs": [
    {
     "data": {
      "text/html": [
       "<div>\n",
       "<style scoped>\n",
       "    .dataframe tbody tr th:only-of-type {\n",
       "        vertical-align: middle;\n",
       "    }\n",
       "\n",
       "    .dataframe tbody tr th {\n",
       "        vertical-align: top;\n",
       "    }\n",
       "\n",
       "    .dataframe thead th {\n",
       "        text-align: right;\n",
       "    }\n",
       "</style>\n",
       "<table border=\"1\" class=\"dataframe\">\n",
       "  <thead>\n",
       "    <tr style=\"text-align: right;\">\n",
       "      <th></th>\n",
       "      <th>clnt_id</th>\n",
       "      <th>sess_id</th>\n",
       "      <th>hit_seq</th>\n",
       "      <th>action_type</th>\n",
       "      <th>biz_unit</th>\n",
       "      <th>sess_dt</th>\n",
       "      <th>hit_tm</th>\n",
       "      <th>hit_pss_tm</th>\n",
       "      <th>trans_id</th>\n",
       "      <th>sech_kwd</th>\n",
       "      <th>...</th>\n",
       "      <th>clnt_gender</th>\n",
       "      <th>clnt_age</th>\n",
       "      <th>clac_nm1</th>\n",
       "      <th>clac_nm2</th>\n",
       "      <th>clac_nm3</th>\n",
       "      <th>pd_c_2</th>\n",
       "      <th>sech_kwd_over_3</th>\n",
       "      <th>sech_kwd_cat_0</th>\n",
       "      <th>sech_kwd_cat_1</th>\n",
       "      <th>sech_clac_nm1</th>\n",
       "    </tr>\n",
       "  </thead>\n",
       "  <tbody>\n",
       "    <tr>\n",
       "      <th>0</th>\n",
       "      <td>72429</td>\n",
       "      <td>1</td>\n",
       "      <td>2</td>\n",
       "      <td>2</td>\n",
       "      <td>A03</td>\n",
       "      <td>20190919</td>\n",
       "      <td>22:09</td>\n",
       "      <td>842130</td>\n",
       "      <td>NaN</td>\n",
       "      <td>NaN</td>\n",
       "      <td>...</td>\n",
       "      <td>unknown</td>\n",
       "      <td>unknown</td>\n",
       "      <td>NaN</td>\n",
       "      <td>NaN</td>\n",
       "      <td>NaN</td>\n",
       "      <td>NaN</td>\n",
       "      <td>NaN</td>\n",
       "      <td>NaN</td>\n",
       "      <td>NaN</td>\n",
       "      <td>NaN</td>\n",
       "    </tr>\n",
       "    <tr>\n",
       "      <th>1</th>\n",
       "      <td>72429</td>\n",
       "      <td>1</td>\n",
       "      <td>1</td>\n",
       "      <td>1</td>\n",
       "      <td>A03</td>\n",
       "      <td>20190919</td>\n",
       "      <td>22:09</td>\n",
       "      <td>839064</td>\n",
       "      <td>NaN</td>\n",
       "      <td>NaN</td>\n",
       "      <td>...</td>\n",
       "      <td>unknown</td>\n",
       "      <td>unknown</td>\n",
       "      <td>NaN</td>\n",
       "      <td>NaN</td>\n",
       "      <td>NaN</td>\n",
       "      <td>NaN</td>\n",
       "      <td>NaN</td>\n",
       "      <td>NaN</td>\n",
       "      <td>NaN</td>\n",
       "      <td>NaN</td>\n",
       "    </tr>\n",
       "    <tr>\n",
       "      <th>2</th>\n",
       "      <td>72428</td>\n",
       "      <td>5</td>\n",
       "      <td>1</td>\n",
       "      <td>0</td>\n",
       "      <td>A01</td>\n",
       "      <td>20190918</td>\n",
       "      <td>06:37</td>\n",
       "      <td>12568</td>\n",
       "      <td>NaN</td>\n",
       "      <td>라인에디션블라우스</td>\n",
       "      <td>...</td>\n",
       "      <td>unknown</td>\n",
       "      <td>unknown</td>\n",
       "      <td>NaN</td>\n",
       "      <td>NaN</td>\n",
       "      <td>NaN</td>\n",
       "      <td>NaN</td>\n",
       "      <td>NaN</td>\n",
       "      <td>NaN</td>\n",
       "      <td>NaN</td>\n",
       "      <td>NaN</td>\n",
       "    </tr>\n",
       "    <tr>\n",
       "      <th>3</th>\n",
       "      <td>72428</td>\n",
       "      <td>4</td>\n",
       "      <td>1</td>\n",
       "      <td>0</td>\n",
       "      <td>A01</td>\n",
       "      <td>20190914</td>\n",
       "      <td>23:42</td>\n",
       "      <td>243555</td>\n",
       "      <td>NaN</td>\n",
       "      <td>펜디가방</td>\n",
       "      <td>...</td>\n",
       "      <td>unknown</td>\n",
       "      <td>unknown</td>\n",
       "      <td>NaN</td>\n",
       "      <td>NaN</td>\n",
       "      <td>NaN</td>\n",
       "      <td>NaN</td>\n",
       "      <td>펜디가방</td>\n",
       "      <td>명품/쥬얼리</td>\n",
       "      <td>수입명품/해외배송</td>\n",
       "      <td>Fashion Accessories</td>\n",
       "    </tr>\n",
       "    <tr>\n",
       "      <th>4</th>\n",
       "      <td>72428</td>\n",
       "      <td>3</td>\n",
       "      <td>3</td>\n",
       "      <td>0</td>\n",
       "      <td>A01</td>\n",
       "      <td>20190914</td>\n",
       "      <td>21:50</td>\n",
       "      <td>839771</td>\n",
       "      <td>NaN</td>\n",
       "      <td>페레가모가방</td>\n",
       "      <td>...</td>\n",
       "      <td>unknown</td>\n",
       "      <td>unknown</td>\n",
       "      <td>NaN</td>\n",
       "      <td>NaN</td>\n",
       "      <td>NaN</td>\n",
       "      <td>NaN</td>\n",
       "      <td>페레가모가방</td>\n",
       "      <td>명품/쥬얼리</td>\n",
       "      <td>수입명품/해외배송</td>\n",
       "      <td>Fashion Accessories</td>\n",
       "    </tr>\n",
       "    <tr>\n",
       "      <th>...</th>\n",
       "      <td>...</td>\n",
       "      <td>...</td>\n",
       "      <td>...</td>\n",
       "      <td>...</td>\n",
       "      <td>...</td>\n",
       "      <td>...</td>\n",
       "      <td>...</td>\n",
       "      <td>...</td>\n",
       "      <td>...</td>\n",
       "      <td>...</td>\n",
       "      <td>...</td>\n",
       "      <td>...</td>\n",
       "      <td>...</td>\n",
       "      <td>...</td>\n",
       "      <td>...</td>\n",
       "      <td>...</td>\n",
       "      <td>...</td>\n",
       "      <td>...</td>\n",
       "      <td>...</td>\n",
       "      <td>...</td>\n",
       "      <td>...</td>\n",
       "    </tr>\n",
       "    <tr>\n",
       "      <th>3196357</th>\n",
       "      <td>1</td>\n",
       "      <td>2</td>\n",
       "      <td>2</td>\n",
       "      <td>0</td>\n",
       "      <td>A01</td>\n",
       "      <td>20190922</td>\n",
       "      <td>14:10</td>\n",
       "      <td>56113</td>\n",
       "      <td>NaN</td>\n",
       "      <td>초등가을점퍼</td>\n",
       "      <td>...</td>\n",
       "      <td>unknown</td>\n",
       "      <td>unknown</td>\n",
       "      <td>NaN</td>\n",
       "      <td>NaN</td>\n",
       "      <td>NaN</td>\n",
       "      <td>NaN</td>\n",
       "      <td>NaN</td>\n",
       "      <td>NaN</td>\n",
       "      <td>NaN</td>\n",
       "      <td>NaN</td>\n",
       "    </tr>\n",
       "    <tr>\n",
       "      <th>3196358</th>\n",
       "      <td>1</td>\n",
       "      <td>2</td>\n",
       "      <td>1</td>\n",
       "      <td>0</td>\n",
       "      <td>A01</td>\n",
       "      <td>20190922</td>\n",
       "      <td>14:09</td>\n",
       "      <td>41584</td>\n",
       "      <td>NaN</td>\n",
       "      <td>초등가을잠바</td>\n",
       "      <td>...</td>\n",
       "      <td>unknown</td>\n",
       "      <td>unknown</td>\n",
       "      <td>NaN</td>\n",
       "      <td>NaN</td>\n",
       "      <td>NaN</td>\n",
       "      <td>NaN</td>\n",
       "      <td>NaN</td>\n",
       "      <td>NaN</td>\n",
       "      <td>NaN</td>\n",
       "      <td>NaN</td>\n",
       "    </tr>\n",
       "    <tr>\n",
       "      <th>3196359</th>\n",
       "      <td>1</td>\n",
       "      <td>1</td>\n",
       "      <td>3</td>\n",
       "      <td>0</td>\n",
       "      <td>A01</td>\n",
       "      <td>20190911</td>\n",
       "      <td>16:15</td>\n",
       "      <td>36140</td>\n",
       "      <td>NaN</td>\n",
       "      <td>과일바구니</td>\n",
       "      <td>...</td>\n",
       "      <td>unknown</td>\n",
       "      <td>unknown</td>\n",
       "      <td>NaN</td>\n",
       "      <td>NaN</td>\n",
       "      <td>NaN</td>\n",
       "      <td>NaN</td>\n",
       "      <td>과일바구니</td>\n",
       "      <td>여행/렌탈/금융</td>\n",
       "      <td>렌탈/배달/케어</td>\n",
       "      <td>Living / Rental Services</td>\n",
       "    </tr>\n",
       "    <tr>\n",
       "      <th>3196360</th>\n",
       "      <td>1</td>\n",
       "      <td>1</td>\n",
       "      <td>2</td>\n",
       "      <td>0</td>\n",
       "      <td>A01</td>\n",
       "      <td>20190911</td>\n",
       "      <td>16:15</td>\n",
       "      <td>22432</td>\n",
       "      <td>NaN</td>\n",
       "      <td>과일선물세트 백화점</td>\n",
       "      <td>...</td>\n",
       "      <td>unknown</td>\n",
       "      <td>unknown</td>\n",
       "      <td>NaN</td>\n",
       "      <td>NaN</td>\n",
       "      <td>NaN</td>\n",
       "      <td>NaN</td>\n",
       "      <td>NaN</td>\n",
       "      <td>NaN</td>\n",
       "      <td>NaN</td>\n",
       "      <td>NaN</td>\n",
       "    </tr>\n",
       "    <tr>\n",
       "      <th>3196361</th>\n",
       "      <td>1</td>\n",
       "      <td>1</td>\n",
       "      <td>1</td>\n",
       "      <td>0</td>\n",
       "      <td>A01</td>\n",
       "      <td>20190911</td>\n",
       "      <td>16:14</td>\n",
       "      <td>11880</td>\n",
       "      <td>NaN</td>\n",
       "      <td>과일선물세트</td>\n",
       "      <td>...</td>\n",
       "      <td>unknown</td>\n",
       "      <td>unknown</td>\n",
       "      <td>NaN</td>\n",
       "      <td>NaN</td>\n",
       "      <td>NaN</td>\n",
       "      <td>NaN</td>\n",
       "      <td>과일선물세트</td>\n",
       "      <td>식품</td>\n",
       "      <td>신선식품</td>\n",
       "      <td>Chilled Foods</td>\n",
       "    </tr>\n",
       "  </tbody>\n",
       "</table>\n",
       "<p>3196362 rows × 31 columns</p>\n",
       "</div>"
      ],
      "text/plain": [
       "         clnt_id  sess_id  hit_seq  action_type biz_unit   sess_dt hit_tm  \\\n",
       "0          72429        1        2            2      A03  20190919  22:09   \n",
       "1          72429        1        1            1      A03  20190919  22:09   \n",
       "2          72428        5        1            0      A01  20190918  06:37   \n",
       "3          72428        4        1            0      A01  20190914  23:42   \n",
       "4          72428        3        3            0      A01  20190914  21:50   \n",
       "...          ...      ...      ...          ...      ...       ...    ...   \n",
       "3196357        1        2        2            0      A01  20190922  14:10   \n",
       "3196358        1        2        1            0      A01  20190922  14:09   \n",
       "3196359        1        1        3            0      A01  20190911  16:15   \n",
       "3196360        1        1        2            0      A01  20190911  16:15   \n",
       "3196361        1        1        1            0      A01  20190911  16:14   \n",
       "\n",
       "         hit_pss_tm  trans_id    sech_kwd  ...  clnt_gender  clnt_age  \\\n",
       "0            842130       NaN         NaN  ...      unknown   unknown   \n",
       "1            839064       NaN         NaN  ...      unknown   unknown   \n",
       "2             12568       NaN   라인에디션블라우스  ...      unknown   unknown   \n",
       "3            243555       NaN        펜디가방  ...      unknown   unknown   \n",
       "4            839771       NaN      페레가모가방  ...      unknown   unknown   \n",
       "...             ...       ...         ...  ...          ...       ...   \n",
       "3196357       56113       NaN      초등가을점퍼  ...      unknown   unknown   \n",
       "3196358       41584       NaN      초등가을잠바  ...      unknown   unknown   \n",
       "3196359       36140       NaN       과일바구니  ...      unknown   unknown   \n",
       "3196360       22432       NaN  과일선물세트 백화점  ...      unknown   unknown   \n",
       "3196361       11880       NaN      과일선물세트  ...      unknown   unknown   \n",
       "\n",
       "        clac_nm1 clac_nm2 clac_nm3  pd_c_2 sech_kwd_over_3  sech_kwd_cat_0  \\\n",
       "0            NaN      NaN      NaN     NaN             NaN             NaN   \n",
       "1            NaN      NaN      NaN     NaN             NaN             NaN   \n",
       "2            NaN      NaN      NaN     NaN             NaN             NaN   \n",
       "3            NaN      NaN      NaN     NaN            펜디가방          명품/쥬얼리   \n",
       "4            NaN      NaN      NaN     NaN          페레가모가방          명품/쥬얼리   \n",
       "...          ...      ...      ...     ...             ...             ...   \n",
       "3196357      NaN      NaN      NaN     NaN             NaN             NaN   \n",
       "3196358      NaN      NaN      NaN     NaN             NaN             NaN   \n",
       "3196359      NaN      NaN      NaN     NaN           과일바구니        여행/렌탈/금융   \n",
       "3196360      NaN      NaN      NaN     NaN             NaN             NaN   \n",
       "3196361      NaN      NaN      NaN     NaN          과일선물세트              식품   \n",
       "\n",
       "        sech_kwd_cat_1             sech_clac_nm1  \n",
       "0                  NaN                       NaN  \n",
       "1                  NaN                       NaN  \n",
       "2                  NaN                       NaN  \n",
       "3            수입명품/해외배송       Fashion Accessories  \n",
       "4            수입명품/해외배송       Fashion Accessories  \n",
       "...                ...                       ...  \n",
       "3196357            NaN                       NaN  \n",
       "3196358            NaN                       NaN  \n",
       "3196359       렌탈/배달/케어  Living / Rental Services  \n",
       "3196360            NaN                       NaN  \n",
       "3196361           신선식품             Chilled Foods  \n",
       "\n",
       "[3196362 rows x 31 columns]"
      ]
     },
     "execution_count": 139,
     "metadata": {},
     "output_type": "execute_result"
    }
   ],
   "source": [
    "merge_table"
   ]
  },
  {
   "cell_type": "markdown",
   "metadata": {},
   "source": [
    " * 함수 수행시간이 너무 길어서 데이터를 쪼개서 수행 (40만개씩 8분할)"
   ]
  },
  {
   "cell_type": "code",
   "execution_count": 142,
   "metadata": {},
   "outputs": [],
   "source": [
    "merge_table_1 = merge_table[0:400000]\n",
    "merge_table_2 = merge_table[400000:800000]\n",
    "merge_table_3 = merge_table[800000:1200000]\n",
    "merge_table_4 = merge_table[1200000:1600000]\n",
    "merge_table_5 = merge_table[1600000:2000000]\n",
    "merge_table_6 = merge_table[2000000:2400000]\n",
    "merge_table_7 = merge_table[2400000:2800000]\n",
    "merge_table_8 = merge_table[2800000:3196362]"
   ]
  },
  {
   "cell_type": "markdown",
   "metadata": {},
   "source": [
    " * 0 ~ 40만개"
   ]
  },
  {
   "cell_type": "code",
   "execution_count": 143,
   "metadata": {},
   "outputs": [
    {
     "name": "stderr",
     "output_type": "stream",
     "text": [
      "100%|██████████| 400000/400000 [3:04:43<00:00, 36.09it/s]  \n",
      "<ipython-input-143-13ee25f0da8d>:1: SettingWithCopyWarning: \n",
      "A value is trying to be set on a copy of a slice from a DataFrame.\n",
      "Try using .loc[row_indexer,col_indexer] = value instead\n",
      "\n",
      "See the caveats in the documentation: https://pandas.pydata.org/pandas-docs/stable/user_guide/indexing.html#returning-a-view-versus-a-copy\n",
      "  merge_table_1['sech_clac_nm2'] = merge_table_1['sech_clac_nm1'].progress_map(clac_nm1_to_nm2)\n"
     ]
    }
   ],
   "source": [
    "merge_table_1['sech_clac_nm2'] = merge_table_1['sech_clac_nm1'].progress_map(clac_nm1_to_nm2)"
   ]
  },
  {
   "cell_type": "code",
   "execution_count": 144,
   "metadata": {},
   "outputs": [],
   "source": [
    "merge_table_1.to_csv(\"merge_1_create_sech_clac_nm2.csv\")"
   ]
  },
  {
   "cell_type": "markdown",
   "metadata": {},
   "source": [
    " * 40 ~ 80만개"
   ]
  },
  {
   "cell_type": "code",
   "execution_count": 145,
   "metadata": {},
   "outputs": [
    {
     "name": "stderr",
     "output_type": "stream",
     "text": [
      "100%|██████████| 400000/400000 [3:04:13<00:00, 36.19it/s]  \n",
      "<ipython-input-145-d89fa8feeace>:1: SettingWithCopyWarning: \n",
      "A value is trying to be set on a copy of a slice from a DataFrame.\n",
      "Try using .loc[row_indexer,col_indexer] = value instead\n",
      "\n",
      "See the caveats in the documentation: https://pandas.pydata.org/pandas-docs/stable/user_guide/indexing.html#returning-a-view-versus-a-copy\n",
      "  merge_table_2['sech_clac_nm2'] = merge_table_2['sech_clac_nm1'].progress_map(clac_nm1_to_nm2)\n"
     ]
    }
   ],
   "source": [
    "merge_table_2['sech_clac_nm2'] = merge_table_2['sech_clac_nm1'].progress_map(clac_nm1_to_nm2)"
   ]
  },
  {
   "cell_type": "code",
   "execution_count": 146,
   "metadata": {},
   "outputs": [],
   "source": [
    "merge_table_2.to_csv(\"merge_2_create_sech_clac_nm2.csv\")"
   ]
  },
  {
   "cell_type": "markdown",
   "metadata": {},
   "source": [
    " * 80 ~ 120만개"
   ]
  },
  {
   "cell_type": "code",
   "execution_count": 147,
   "metadata": {},
   "outputs": [
    {
     "name": "stderr",
     "output_type": "stream",
     "text": [
      "100%|██████████| 400000/400000 [2:58:18<00:00, 37.39it/s]  \n",
      "<ipython-input-147-ce8c9be0bedb>:1: SettingWithCopyWarning: \n",
      "A value is trying to be set on a copy of a slice from a DataFrame.\n",
      "Try using .loc[row_indexer,col_indexer] = value instead\n",
      "\n",
      "See the caveats in the documentation: https://pandas.pydata.org/pandas-docs/stable/user_guide/indexing.html#returning-a-view-versus-a-copy\n",
      "  merge_table_3['sech_clac_nm2'] = merge_table_3['sech_clac_nm1'].progress_map(clac_nm1_to_nm2)\n"
     ]
    }
   ],
   "source": [
    "merge_table_3['sech_clac_nm2'] = merge_table_3['sech_clac_nm1'].progress_map(clac_nm1_to_nm2)"
   ]
  },
  {
   "cell_type": "code",
   "execution_count": 148,
   "metadata": {},
   "outputs": [],
   "source": [
    "merge_table_3.to_csv(\"merge_3_create_sech_clac_nm2.csv\")"
   ]
  },
  {
   "cell_type": "markdown",
   "metadata": {},
   "source": [
    " * 120 ~ 160만개"
   ]
  },
  {
   "cell_type": "code",
   "execution_count": 166,
   "metadata": {},
   "outputs": [],
   "source": [
    "# merge_table_4['sech_clac_nm2'] = merge_table_4['sech_clac_nm1'].progress_map(clac_nm1_to_nm2)"
   ]
  },
  {
   "cell_type": "code",
   "execution_count": null,
   "metadata": {},
   "outputs": [],
   "source": [
    "# merge_table_4.to_csv(\"merge_4_create_sech_clac_nm2.csv\")"
   ]
  },
  {
   "cell_type": "markdown",
   "metadata": {},
   "source": [
    " * 160 ~ 200만개"
   ]
  },
  {
   "cell_type": "code",
   "execution_count": null,
   "metadata": {},
   "outputs": [],
   "source": [
    "# merge_table_5['sech_clac_nm2'] = merge_table_5['sech_clac_nm1'].progress_map(clac_nm1_to_nm2)"
   ]
  },
  {
   "cell_type": "code",
   "execution_count": null,
   "metadata": {},
   "outputs": [],
   "source": [
    "# merge_table_5.to_csv(\"merge_5_create_sech_clac_nm2.csv\")"
   ]
  },
  {
   "cell_type": "markdown",
   "metadata": {},
   "source": [
    " * 200 ~ 240만개"
   ]
  },
  {
   "cell_type": "code",
   "execution_count": null,
   "metadata": {},
   "outputs": [],
   "source": [
    "# merge_table_6['sech_clac_nm2'] = merge_table_6['sech_clac_nm1'].progress_map(clac_nm1_to_nm2)"
   ]
  },
  {
   "cell_type": "code",
   "execution_count": null,
   "metadata": {},
   "outputs": [],
   "source": [
    "# merge_table_6.to_csv(\"merge_6_create_sech_clac_nm2.csv\")"
   ]
  },
  {
   "cell_type": "markdown",
   "metadata": {},
   "source": [
    " * 240 ~ 280만개"
   ]
  },
  {
   "cell_type": "code",
   "execution_count": null,
   "metadata": {},
   "outputs": [],
   "source": [
    "# merge_table_7['sech_clac_nm2'] = merge_table_7['sech_clac_nm1'].progress_map(clac_nm1_to_nm2)"
   ]
  },
  {
   "cell_type": "code",
   "execution_count": null,
   "metadata": {},
   "outputs": [],
   "source": [
    "# merge_table_7.to_csv(\"merge_7_create_sech_clac_nm2.csv\")"
   ]
  },
  {
   "cell_type": "markdown",
   "metadata": {},
   "source": [
    " * 280 ~ 319만개"
   ]
  },
  {
   "cell_type": "code",
   "execution_count": null,
   "metadata": {},
   "outputs": [],
   "source": [
    "# merge_table_8['sech_clac_nm2'] = merge_table_8['sech_clac_nm1'].progress_map(clac_nm1_to_nm2)"
   ]
  },
  {
   "cell_type": "code",
   "execution_count": null,
   "metadata": {},
   "outputs": [],
   "source": [
    "# merge_table_8.to_csv(\"merge_8_create_sech_clac_nm2.csv\")"
   ]
  },
  {
   "cell_type": "code",
   "execution_count": null,
   "metadata": {},
   "outputs": [],
   "source": [
    "------------------------------------------------------------------------------------------------------------------------------------"
   ]
  },
  {
   "cell_type": "code",
   "execution_count": 162,
   "metadata": {},
   "outputs": [
    {
     "name": "stderr",
     "output_type": "stream",
     "text": [
      "/home/aiffel0042/anaconda3/envs/aiffel/lib/python3.8/site-packages/IPython/core/interactiveshell.py:3146: DtypeWarning: Columns (17,27) have mixed types.Specify dtype option on import or set low_memory=False.\n",
      "  has_raised = await self.run_ast_nodes(code_ast.body, cell_name,\n"
     ]
    }
   ],
   "source": [
    "merge_table_1 = pd.read_csv(\"merge_1_create_sech_clac_nm2.csv\")\n",
    "merge_table_1.drop(\"Unnamed: 0\", axis=1, inplace=True)\n",
    "merge_table_2 = pd.read_csv(\"merge_2_create_sech_clac_nm2.csv\")\n",
    "merge_table_2.drop(\"Unnamed: 0\", axis=1, inplace=True)\n",
    "merge_table_3 = pd.read_csv(\"merge_3_create_sech_clac_nm2.csv\")\n",
    "merge_table_3.drop(\"Unnamed: 0\", axis=1, inplace=True)\n",
    "merge_table_4 = pd.read_csv(\"merge_4_create_sech_clac_nm2.csv\")\n",
    "merge_table_4.drop(\"Unnamed: 0\", axis=1, inplace=True)\n",
    "merge_table_5 = pd.read_csv(\"merge_5_create_sech_clac_nm2.csv\")\n",
    "merge_table_5.drop(\"Unnamed: 0\", axis=1, inplace=True)\n",
    "merge_table_6 = pd.read_csv(\"merge_6_create_sech_clac_nm2.csv\")\n",
    "merge_table_6.drop(\"Unnamed: 0\", axis=1, inplace=True)\n",
    "merge_table_7 = pd.read_csv(\"merge_7_create_sech_clac_nm2.csv\")\n",
    "merge_table_7.drop(\"Unnamed: 0\", axis=1, inplace=True)\n",
    "merge_table_8 = pd.read_csv(\"merge_8_create_sech_clac_nm2.csv\")\n",
    "merge_table_8.drop(\"Unnamed: 0\", axis=1, inplace=True)"
   ]
  },
  {
   "cell_type": "code",
   "execution_count": 163,
   "metadata": {},
   "outputs": [],
   "source": [
    "merge_table_add_nm2_all = pd.concat([merge_table_1, merge_table_2, merge_table_3, merge_table_4, merge_table_5, merge_table_6, merge_table_7, merge_table_8])"
   ]
  },
  {
   "cell_type": "code",
   "execution_count": 164,
   "metadata": {},
   "outputs": [
    {
     "data": {
      "text/html": [
       "<div>\n",
       "<style scoped>\n",
       "    .dataframe tbody tr th:only-of-type {\n",
       "        vertical-align: middle;\n",
       "    }\n",
       "\n",
       "    .dataframe tbody tr th {\n",
       "        vertical-align: top;\n",
       "    }\n",
       "\n",
       "    .dataframe thead th {\n",
       "        text-align: right;\n",
       "    }\n",
       "</style>\n",
       "<table border=\"1\" class=\"dataframe\">\n",
       "  <thead>\n",
       "    <tr style=\"text-align: right;\">\n",
       "      <th></th>\n",
       "      <th>clnt_id</th>\n",
       "      <th>sess_id</th>\n",
       "      <th>hit_seq</th>\n",
       "      <th>action_type</th>\n",
       "      <th>biz_unit</th>\n",
       "      <th>sess_dt</th>\n",
       "      <th>hit_tm</th>\n",
       "      <th>hit_pss_tm</th>\n",
       "      <th>trans_id</th>\n",
       "      <th>sech_kwd</th>\n",
       "      <th>...</th>\n",
       "      <th>clnt_age</th>\n",
       "      <th>clac_nm1</th>\n",
       "      <th>clac_nm2</th>\n",
       "      <th>clac_nm3</th>\n",
       "      <th>pd_c_2</th>\n",
       "      <th>sech_kwd_over_3</th>\n",
       "      <th>sech_kwd_cat_0</th>\n",
       "      <th>sech_kwd_cat_1</th>\n",
       "      <th>sech_clac_nm1</th>\n",
       "      <th>sech_clac_nm2</th>\n",
       "    </tr>\n",
       "  </thead>\n",
       "  <tbody>\n",
       "    <tr>\n",
       "      <th>0</th>\n",
       "      <td>72429</td>\n",
       "      <td>1</td>\n",
       "      <td>2</td>\n",
       "      <td>2</td>\n",
       "      <td>A03</td>\n",
       "      <td>20190919</td>\n",
       "      <td>22:09</td>\n",
       "      <td>842130</td>\n",
       "      <td>NaN</td>\n",
       "      <td>NaN</td>\n",
       "      <td>...</td>\n",
       "      <td>unknown</td>\n",
       "      <td>NaN</td>\n",
       "      <td>NaN</td>\n",
       "      <td>NaN</td>\n",
       "      <td>NaN</td>\n",
       "      <td>NaN</td>\n",
       "      <td>NaN</td>\n",
       "      <td>NaN</td>\n",
       "      <td>NaN</td>\n",
       "      <td>NaN</td>\n",
       "    </tr>\n",
       "    <tr>\n",
       "      <th>1</th>\n",
       "      <td>72429</td>\n",
       "      <td>1</td>\n",
       "      <td>1</td>\n",
       "      <td>1</td>\n",
       "      <td>A03</td>\n",
       "      <td>20190919</td>\n",
       "      <td>22:09</td>\n",
       "      <td>839064</td>\n",
       "      <td>NaN</td>\n",
       "      <td>NaN</td>\n",
       "      <td>...</td>\n",
       "      <td>unknown</td>\n",
       "      <td>NaN</td>\n",
       "      <td>NaN</td>\n",
       "      <td>NaN</td>\n",
       "      <td>NaN</td>\n",
       "      <td>NaN</td>\n",
       "      <td>NaN</td>\n",
       "      <td>NaN</td>\n",
       "      <td>NaN</td>\n",
       "      <td>NaN</td>\n",
       "    </tr>\n",
       "    <tr>\n",
       "      <th>2</th>\n",
       "      <td>72428</td>\n",
       "      <td>5</td>\n",
       "      <td>1</td>\n",
       "      <td>0</td>\n",
       "      <td>A01</td>\n",
       "      <td>20190918</td>\n",
       "      <td>06:37</td>\n",
       "      <td>12568</td>\n",
       "      <td>NaN</td>\n",
       "      <td>라인에디션블라우스</td>\n",
       "      <td>...</td>\n",
       "      <td>unknown</td>\n",
       "      <td>NaN</td>\n",
       "      <td>NaN</td>\n",
       "      <td>NaN</td>\n",
       "      <td>NaN</td>\n",
       "      <td>NaN</td>\n",
       "      <td>NaN</td>\n",
       "      <td>NaN</td>\n",
       "      <td>NaN</td>\n",
       "      <td>NaN</td>\n",
       "    </tr>\n",
       "    <tr>\n",
       "      <th>3</th>\n",
       "      <td>72428</td>\n",
       "      <td>4</td>\n",
       "      <td>1</td>\n",
       "      <td>0</td>\n",
       "      <td>A01</td>\n",
       "      <td>20190914</td>\n",
       "      <td>23:42</td>\n",
       "      <td>243555</td>\n",
       "      <td>NaN</td>\n",
       "      <td>펜디가방</td>\n",
       "      <td>...</td>\n",
       "      <td>unknown</td>\n",
       "      <td>NaN</td>\n",
       "      <td>NaN</td>\n",
       "      <td>NaN</td>\n",
       "      <td>NaN</td>\n",
       "      <td>펜디가방</td>\n",
       "      <td>명품/쥬얼리</td>\n",
       "      <td>수입명품/해외배송</td>\n",
       "      <td>Fashion Accessories</td>\n",
       "      <td>Jewelry</td>\n",
       "    </tr>\n",
       "    <tr>\n",
       "      <th>4</th>\n",
       "      <td>72428</td>\n",
       "      <td>3</td>\n",
       "      <td>3</td>\n",
       "      <td>0</td>\n",
       "      <td>A01</td>\n",
       "      <td>20190914</td>\n",
       "      <td>21:50</td>\n",
       "      <td>839771</td>\n",
       "      <td>NaN</td>\n",
       "      <td>페레가모가방</td>\n",
       "      <td>...</td>\n",
       "      <td>unknown</td>\n",
       "      <td>NaN</td>\n",
       "      <td>NaN</td>\n",
       "      <td>NaN</td>\n",
       "      <td>NaN</td>\n",
       "      <td>페레가모가방</td>\n",
       "      <td>명품/쥬얼리</td>\n",
       "      <td>수입명품/해외배송</td>\n",
       "      <td>Fashion Accessories</td>\n",
       "      <td>Women's Shoes</td>\n",
       "    </tr>\n",
       "    <tr>\n",
       "      <th>...</th>\n",
       "      <td>...</td>\n",
       "      <td>...</td>\n",
       "      <td>...</td>\n",
       "      <td>...</td>\n",
       "      <td>...</td>\n",
       "      <td>...</td>\n",
       "      <td>...</td>\n",
       "      <td>...</td>\n",
       "      <td>...</td>\n",
       "      <td>...</td>\n",
       "      <td>...</td>\n",
       "      <td>...</td>\n",
       "      <td>...</td>\n",
       "      <td>...</td>\n",
       "      <td>...</td>\n",
       "      <td>...</td>\n",
       "      <td>...</td>\n",
       "      <td>...</td>\n",
       "      <td>...</td>\n",
       "      <td>...</td>\n",
       "      <td>...</td>\n",
       "    </tr>\n",
       "    <tr>\n",
       "      <th>396357</th>\n",
       "      <td>1</td>\n",
       "      <td>2</td>\n",
       "      <td>2</td>\n",
       "      <td>0</td>\n",
       "      <td>A01</td>\n",
       "      <td>20190922</td>\n",
       "      <td>14:10</td>\n",
       "      <td>56113</td>\n",
       "      <td>NaN</td>\n",
       "      <td>초등가을점퍼</td>\n",
       "      <td>...</td>\n",
       "      <td>unknown</td>\n",
       "      <td>NaN</td>\n",
       "      <td>NaN</td>\n",
       "      <td>NaN</td>\n",
       "      <td>NaN</td>\n",
       "      <td>NaN</td>\n",
       "      <td>NaN</td>\n",
       "      <td>NaN</td>\n",
       "      <td>NaN</td>\n",
       "      <td>NaN</td>\n",
       "    </tr>\n",
       "    <tr>\n",
       "      <th>396358</th>\n",
       "      <td>1</td>\n",
       "      <td>2</td>\n",
       "      <td>1</td>\n",
       "      <td>0</td>\n",
       "      <td>A01</td>\n",
       "      <td>20190922</td>\n",
       "      <td>14:09</td>\n",
       "      <td>41584</td>\n",
       "      <td>NaN</td>\n",
       "      <td>초등가을잠바</td>\n",
       "      <td>...</td>\n",
       "      <td>unknown</td>\n",
       "      <td>NaN</td>\n",
       "      <td>NaN</td>\n",
       "      <td>NaN</td>\n",
       "      <td>NaN</td>\n",
       "      <td>NaN</td>\n",
       "      <td>NaN</td>\n",
       "      <td>NaN</td>\n",
       "      <td>NaN</td>\n",
       "      <td>NaN</td>\n",
       "    </tr>\n",
       "    <tr>\n",
       "      <th>396359</th>\n",
       "      <td>1</td>\n",
       "      <td>1</td>\n",
       "      <td>3</td>\n",
       "      <td>0</td>\n",
       "      <td>A01</td>\n",
       "      <td>20190911</td>\n",
       "      <td>16:15</td>\n",
       "      <td>36140</td>\n",
       "      <td>NaN</td>\n",
       "      <td>과일바구니</td>\n",
       "      <td>...</td>\n",
       "      <td>unknown</td>\n",
       "      <td>NaN</td>\n",
       "      <td>NaN</td>\n",
       "      <td>NaN</td>\n",
       "      <td>NaN</td>\n",
       "      <td>과일바구니</td>\n",
       "      <td>여행/렌탈/금융</td>\n",
       "      <td>렌탈/배달/케어</td>\n",
       "      <td>Living / Rental Services</td>\n",
       "      <td>Living Services</td>\n",
       "    </tr>\n",
       "    <tr>\n",
       "      <th>396360</th>\n",
       "      <td>1</td>\n",
       "      <td>1</td>\n",
       "      <td>2</td>\n",
       "      <td>0</td>\n",
       "      <td>A01</td>\n",
       "      <td>20190911</td>\n",
       "      <td>16:15</td>\n",
       "      <td>22432</td>\n",
       "      <td>NaN</td>\n",
       "      <td>과일선물세트 백화점</td>\n",
       "      <td>...</td>\n",
       "      <td>unknown</td>\n",
       "      <td>NaN</td>\n",
       "      <td>NaN</td>\n",
       "      <td>NaN</td>\n",
       "      <td>NaN</td>\n",
       "      <td>NaN</td>\n",
       "      <td>NaN</td>\n",
       "      <td>NaN</td>\n",
       "      <td>NaN</td>\n",
       "      <td>NaN</td>\n",
       "    </tr>\n",
       "    <tr>\n",
       "      <th>396361</th>\n",
       "      <td>1</td>\n",
       "      <td>1</td>\n",
       "      <td>1</td>\n",
       "      <td>0</td>\n",
       "      <td>A01</td>\n",
       "      <td>20190911</td>\n",
       "      <td>16:14</td>\n",
       "      <td>11880</td>\n",
       "      <td>NaN</td>\n",
       "      <td>과일선물세트</td>\n",
       "      <td>...</td>\n",
       "      <td>unknown</td>\n",
       "      <td>NaN</td>\n",
       "      <td>NaN</td>\n",
       "      <td>NaN</td>\n",
       "      <td>NaN</td>\n",
       "      <td>과일선물세트</td>\n",
       "      <td>식품</td>\n",
       "      <td>신선식품</td>\n",
       "      <td>Chilled Foods</td>\n",
       "      <td>Chilled Instant Foods</td>\n",
       "    </tr>\n",
       "  </tbody>\n",
       "</table>\n",
       "<p>3196362 rows × 32 columns</p>\n",
       "</div>"
      ],
      "text/plain": [
       "        clnt_id  sess_id  hit_seq  action_type biz_unit   sess_dt hit_tm  \\\n",
       "0         72429        1        2            2      A03  20190919  22:09   \n",
       "1         72429        1        1            1      A03  20190919  22:09   \n",
       "2         72428        5        1            0      A01  20190918  06:37   \n",
       "3         72428        4        1            0      A01  20190914  23:42   \n",
       "4         72428        3        3            0      A01  20190914  21:50   \n",
       "...         ...      ...      ...          ...      ...       ...    ...   \n",
       "396357        1        2        2            0      A01  20190922  14:10   \n",
       "396358        1        2        1            0      A01  20190922  14:09   \n",
       "396359        1        1        3            0      A01  20190911  16:15   \n",
       "396360        1        1        2            0      A01  20190911  16:15   \n",
       "396361        1        1        1            0      A01  20190911  16:14   \n",
       "\n",
       "        hit_pss_tm  trans_id    sech_kwd  ...  clnt_age  clac_nm1 clac_nm2  \\\n",
       "0           842130       NaN         NaN  ...   unknown       NaN      NaN   \n",
       "1           839064       NaN         NaN  ...   unknown       NaN      NaN   \n",
       "2            12568       NaN   라인에디션블라우스  ...   unknown       NaN      NaN   \n",
       "3           243555       NaN        펜디가방  ...   unknown       NaN      NaN   \n",
       "4           839771       NaN      페레가모가방  ...   unknown       NaN      NaN   \n",
       "...            ...       ...         ...  ...       ...       ...      ...   \n",
       "396357       56113       NaN      초등가을점퍼  ...   unknown       NaN      NaN   \n",
       "396358       41584       NaN      초등가을잠바  ...   unknown       NaN      NaN   \n",
       "396359       36140       NaN       과일바구니  ...   unknown       NaN      NaN   \n",
       "396360       22432       NaN  과일선물세트 백화점  ...   unknown       NaN      NaN   \n",
       "396361       11880       NaN      과일선물세트  ...   unknown       NaN      NaN   \n",
       "\n",
       "       clac_nm3 pd_c_2  sech_kwd_over_3 sech_kwd_cat_0  sech_kwd_cat_1  \\\n",
       "0           NaN    NaN              NaN            NaN             NaN   \n",
       "1           NaN    NaN              NaN            NaN             NaN   \n",
       "2           NaN    NaN              NaN            NaN             NaN   \n",
       "3           NaN    NaN             펜디가방         명품/쥬얼리       수입명품/해외배송   \n",
       "4           NaN    NaN           페레가모가방         명품/쥬얼리       수입명품/해외배송   \n",
       "...         ...    ...              ...            ...             ...   \n",
       "396357      NaN    NaN              NaN            NaN             NaN   \n",
       "396358      NaN    NaN              NaN            NaN             NaN   \n",
       "396359      NaN    NaN            과일바구니       여행/렌탈/금융        렌탈/배달/케어   \n",
       "396360      NaN    NaN              NaN            NaN             NaN   \n",
       "396361      NaN    NaN           과일선물세트             식품            신선식품   \n",
       "\n",
       "                   sech_clac_nm1          sech_clac_nm2  \n",
       "0                            NaN                    NaN  \n",
       "1                            NaN                    NaN  \n",
       "2                            NaN                    NaN  \n",
       "3            Fashion Accessories                Jewelry  \n",
       "4            Fashion Accessories          Women's Shoes  \n",
       "...                          ...                    ...  \n",
       "396357                       NaN                    NaN  \n",
       "396358                       NaN                    NaN  \n",
       "396359  Living / Rental Services        Living Services  \n",
       "396360                       NaN                    NaN  \n",
       "396361             Chilled Foods  Chilled Instant Foods  \n",
       "\n",
       "[3196362 rows x 32 columns]"
      ]
     },
     "execution_count": 164,
     "metadata": {},
     "output_type": "execute_result"
    }
   ],
   "source": [
    "merge_table_add_nm2_all"
   ]
  },
  {
   "cell_type": "code",
   "execution_count": 165,
   "metadata": {},
   "outputs": [],
   "source": [
    "merge_table_add_nm2_all.to_csv(\"merge_all_create_sech_clac_nm2.csv\")"
   ]
  }
 ],
 "metadata": {
  "kernelspec": {
   "display_name": "aiffel",
   "language": "python",
   "name": "aiffel"
  },
  "language_info": {
   "codemirror_mode": {
    "name": "ipython",
    "version": 3
   },
   "file_extension": ".py",
   "mimetype": "text/x-python",
   "name": "python",
   "nbconvert_exporter": "python",
   "pygments_lexer": "ipython3",
   "version": "3.8.5"
  }
 },
 "nbformat": 4,
 "nbformat_minor": 4
}
